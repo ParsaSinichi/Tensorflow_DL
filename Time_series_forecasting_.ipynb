{
  "nbformat": 4,
  "nbformat_minor": 0,
  "metadata": {
    "colab": {
      "name": "Time_series_forecasting_.ipynb",
      "provenance": [],
      "authorship_tag": "ABX9TyPAkjYvhvPYxPEEFjshXkM5",
      "include_colab_link": true
    },
    "kernelspec": {
      "name": "python3",
      "display_name": "Python 3"
    },
    "language_info": {
      "name": "python"
    },
    "gpuClass": "standard"
  },
  "cells": [
    {
      "cell_type": "markdown",
      "metadata": {
        "id": "view-in-github",
        "colab_type": "text"
      },
      "source": [
        "<a href=\"https://colab.research.google.com/github/zlximon/Tensorflow_DL/blob/master/Time_series_forecasting_.ipynb\" target=\"_parent\"><img src=\"https://colab.research.google.com/assets/colab-badge.svg\" alt=\"Open In Colab\"/></a>"
      ]
    },
    {
      "cell_type": "markdown",
      "source": [
        "#Time series forcasting and bitpredict model"
      ],
      "metadata": {
        "id": "LLYXwOrMtfdr"
      }
    },
    {
      "cell_type": "markdown",
      "source": [
        "##get data"
      ],
      "metadata": {
        "id": "78muxMobtxFo"
      }
    },
    {
      "cell_type": "code",
      "execution_count": 1,
      "metadata": {
        "colab": {
          "base_uri": "https://localhost:8080/"
        },
        "id": "wiJndp2etYGB",
        "outputId": "55dcab71-6cc4-42d5-9c2f-739e01bb9c1e"
      },
      "outputs": [
        {
          "output_type": "stream",
          "name": "stdout",
          "text": [
            "--2022-08-15 08:27:26--  https://raw.githubusercontent.com/mrdbourke/tensorflow-deep-learning/main/extras/BTC_USD_2013-10-01_2021-05-18-CoinDesk.csv\n",
            "Resolving raw.githubusercontent.com (raw.githubusercontent.com)... 185.199.108.133, 185.199.109.133, 185.199.110.133, ...\n",
            "Connecting to raw.githubusercontent.com (raw.githubusercontent.com)|185.199.108.133|:443... connected.\n",
            "HTTP request sent, awaiting response... 200 OK\n",
            "Length: 178509 (174K) [text/plain]\n",
            "Saving to: ‘BTC_USD_2013-10-01_2021-05-18-CoinDesk.csv’\n",
            "\n",
            "BTC_USD_2013-10-01_ 100%[===================>] 174.33K  --.-KB/s    in 0.008s  \n",
            "\n",
            "2022-08-15 08:27:26 (20.9 MB/s) - ‘BTC_USD_2013-10-01_2021-05-18-CoinDesk.csv’ saved [178509/178509]\n",
            "\n"
          ]
        }
      ],
      "source": [
        "!wget https://raw.githubusercontent.com/mrdbourke/tensorflow-deep-learning/main/extras/BTC_USD_2013-10-01_2021-05-18-CoinDesk.csv\n"
      ]
    },
    {
      "cell_type": "code",
      "source": [
        "# Import with pandas\n",
        "import pandas as pd \n",
        "# Let's read in our Bitcoin data and parse the dates\n",
        "df = pd.read_csv(\"/content/BTC_USD_2013-10-01_2021-05-18-CoinDesk.csv\",\n",
        "                 parse_dates=[\"Date\"],\n",
        "                 index_col=[\"Date\"]) # prase the date column and tell pandas column 1 is a datetime \n",
        "\n",
        "df.head()"
      ],
      "metadata": {
        "colab": {
          "base_uri": "https://localhost:8080/",
          "height": 238
        },
        "id": "g1FgcoLOuCMb",
        "outputId": "0d96718d-b837-4dc9-c57f-9fadb9e2f91f"
      },
      "execution_count": 2,
      "outputs": [
        {
          "output_type": "execute_result",
          "data": {
            "text/plain": [
              "           Currency  Closing Price (USD)  24h Open (USD)  24h High (USD)  \\\n",
              "Date                                                                       \n",
              "2013-10-01      BTC            123.65499       124.30466       124.75166   \n",
              "2013-10-02      BTC            125.45500       123.65499       125.75850   \n",
              "2013-10-03      BTC            108.58483       125.45500       125.66566   \n",
              "2013-10-04      BTC            118.67466       108.58483       118.67500   \n",
              "2013-10-05      BTC            121.33866       118.67466       121.93633   \n",
              "\n",
              "            24h Low (USD)  \n",
              "Date                       \n",
              "2013-10-01      122.56349  \n",
              "2013-10-02      123.63383  \n",
              "2013-10-03       83.32833  \n",
              "2013-10-04      107.05816  \n",
              "2013-10-05      118.00566  "
            ],
            "text/html": [
              "\n",
              "  <div id=\"df-96fd6e5f-612e-45bd-84e7-a7c94cc0ee23\">\n",
              "    <div class=\"colab-df-container\">\n",
              "      <div>\n",
              "<style scoped>\n",
              "    .dataframe tbody tr th:only-of-type {\n",
              "        vertical-align: middle;\n",
              "    }\n",
              "\n",
              "    .dataframe tbody tr th {\n",
              "        vertical-align: top;\n",
              "    }\n",
              "\n",
              "    .dataframe thead th {\n",
              "        text-align: right;\n",
              "    }\n",
              "</style>\n",
              "<table border=\"1\" class=\"dataframe\">\n",
              "  <thead>\n",
              "    <tr style=\"text-align: right;\">\n",
              "      <th></th>\n",
              "      <th>Currency</th>\n",
              "      <th>Closing Price (USD)</th>\n",
              "      <th>24h Open (USD)</th>\n",
              "      <th>24h High (USD)</th>\n",
              "      <th>24h Low (USD)</th>\n",
              "    </tr>\n",
              "    <tr>\n",
              "      <th>Date</th>\n",
              "      <th></th>\n",
              "      <th></th>\n",
              "      <th></th>\n",
              "      <th></th>\n",
              "      <th></th>\n",
              "    </tr>\n",
              "  </thead>\n",
              "  <tbody>\n",
              "    <tr>\n",
              "      <th>2013-10-01</th>\n",
              "      <td>BTC</td>\n",
              "      <td>123.65499</td>\n",
              "      <td>124.30466</td>\n",
              "      <td>124.75166</td>\n",
              "      <td>122.56349</td>\n",
              "    </tr>\n",
              "    <tr>\n",
              "      <th>2013-10-02</th>\n",
              "      <td>BTC</td>\n",
              "      <td>125.45500</td>\n",
              "      <td>123.65499</td>\n",
              "      <td>125.75850</td>\n",
              "      <td>123.63383</td>\n",
              "    </tr>\n",
              "    <tr>\n",
              "      <th>2013-10-03</th>\n",
              "      <td>BTC</td>\n",
              "      <td>108.58483</td>\n",
              "      <td>125.45500</td>\n",
              "      <td>125.66566</td>\n",
              "      <td>83.32833</td>\n",
              "    </tr>\n",
              "    <tr>\n",
              "      <th>2013-10-04</th>\n",
              "      <td>BTC</td>\n",
              "      <td>118.67466</td>\n",
              "      <td>108.58483</td>\n",
              "      <td>118.67500</td>\n",
              "      <td>107.05816</td>\n",
              "    </tr>\n",
              "    <tr>\n",
              "      <th>2013-10-05</th>\n",
              "      <td>BTC</td>\n",
              "      <td>121.33866</td>\n",
              "      <td>118.67466</td>\n",
              "      <td>121.93633</td>\n",
              "      <td>118.00566</td>\n",
              "    </tr>\n",
              "  </tbody>\n",
              "</table>\n",
              "</div>\n",
              "      <button class=\"colab-df-convert\" onclick=\"convertToInteractive('df-96fd6e5f-612e-45bd-84e7-a7c94cc0ee23')\"\n",
              "              title=\"Convert this dataframe to an interactive table.\"\n",
              "              style=\"display:none;\">\n",
              "        \n",
              "  <svg xmlns=\"http://www.w3.org/2000/svg\" height=\"24px\"viewBox=\"0 0 24 24\"\n",
              "       width=\"24px\">\n",
              "    <path d=\"M0 0h24v24H0V0z\" fill=\"none\"/>\n",
              "    <path d=\"M18.56 5.44l.94 2.06.94-2.06 2.06-.94-2.06-.94-.94-2.06-.94 2.06-2.06.94zm-11 1L8.5 8.5l.94-2.06 2.06-.94-2.06-.94L8.5 2.5l-.94 2.06-2.06.94zm10 10l.94 2.06.94-2.06 2.06-.94-2.06-.94-.94-2.06-.94 2.06-2.06.94z\"/><path d=\"M17.41 7.96l-1.37-1.37c-.4-.4-.92-.59-1.43-.59-.52 0-1.04.2-1.43.59L10.3 9.45l-7.72 7.72c-.78.78-.78 2.05 0 2.83L4 21.41c.39.39.9.59 1.41.59.51 0 1.02-.2 1.41-.59l7.78-7.78 2.81-2.81c.8-.78.8-2.07 0-2.86zM5.41 20L4 18.59l7.72-7.72 1.47 1.35L5.41 20z\"/>\n",
              "  </svg>\n",
              "      </button>\n",
              "      \n",
              "  <style>\n",
              "    .colab-df-container {\n",
              "      display:flex;\n",
              "      flex-wrap:wrap;\n",
              "      gap: 12px;\n",
              "    }\n",
              "\n",
              "    .colab-df-convert {\n",
              "      background-color: #E8F0FE;\n",
              "      border: none;\n",
              "      border-radius: 50%;\n",
              "      cursor: pointer;\n",
              "      display: none;\n",
              "      fill: #1967D2;\n",
              "      height: 32px;\n",
              "      padding: 0 0 0 0;\n",
              "      width: 32px;\n",
              "    }\n",
              "\n",
              "    .colab-df-convert:hover {\n",
              "      background-color: #E2EBFA;\n",
              "      box-shadow: 0px 1px 2px rgba(60, 64, 67, 0.3), 0px 1px 3px 1px rgba(60, 64, 67, 0.15);\n",
              "      fill: #174EA6;\n",
              "    }\n",
              "\n",
              "    [theme=dark] .colab-df-convert {\n",
              "      background-color: #3B4455;\n",
              "      fill: #D2E3FC;\n",
              "    }\n",
              "\n",
              "    [theme=dark] .colab-df-convert:hover {\n",
              "      background-color: #434B5C;\n",
              "      box-shadow: 0px 1px 3px 1px rgba(0, 0, 0, 0.15);\n",
              "      filter: drop-shadow(0px 1px 2px rgba(0, 0, 0, 0.3));\n",
              "      fill: #FFFFFF;\n",
              "    }\n",
              "  </style>\n",
              "\n",
              "      <script>\n",
              "        const buttonEl =\n",
              "          document.querySelector('#df-96fd6e5f-612e-45bd-84e7-a7c94cc0ee23 button.colab-df-convert');\n",
              "        buttonEl.style.display =\n",
              "          google.colab.kernel.accessAllowed ? 'block' : 'none';\n",
              "\n",
              "        async function convertToInteractive(key) {\n",
              "          const element = document.querySelector('#df-96fd6e5f-612e-45bd-84e7-a7c94cc0ee23');\n",
              "          const dataTable =\n",
              "            await google.colab.kernel.invokeFunction('convertToInteractive',\n",
              "                                                     [key], {});\n",
              "          if (!dataTable) return;\n",
              "\n",
              "          const docLinkHtml = 'Like what you see? Visit the ' +\n",
              "            '<a target=\"_blank\" href=https://colab.research.google.com/notebooks/data_table.ipynb>data table notebook</a>'\n",
              "            + ' to learn more about interactive tables.';\n",
              "          element.innerHTML = '';\n",
              "          dataTable['output_type'] = 'display_data';\n",
              "          await google.colab.output.renderOutput(dataTable, element);\n",
              "          const docLink = document.createElement('div');\n",
              "          docLink.innerHTML = docLinkHtml;\n",
              "          element.appendChild(docLink);\n",
              "        }\n",
              "      </script>\n",
              "    </div>\n",
              "  </div>\n",
              "  "
            ]
          },
          "metadata": {},
          "execution_count": 2
        }
      ]
    },
    {
      "cell_type": "code",
      "source": [
        "df.info()"
      ],
      "metadata": {
        "colab": {
          "base_uri": "https://localhost:8080/"
        },
        "id": "nioitgzNuzPI",
        "outputId": "437d3c74-a9ce-440a-b557-895af311fcdb"
      },
      "execution_count": 3,
      "outputs": [
        {
          "output_type": "stream",
          "name": "stdout",
          "text": [
            "<class 'pandas.core.frame.DataFrame'>\n",
            "DatetimeIndex: 2787 entries, 2013-10-01 to 2021-05-18\n",
            "Data columns (total 5 columns):\n",
            " #   Column               Non-Null Count  Dtype  \n",
            "---  ------               --------------  -----  \n",
            " 0   Currency             2787 non-null   object \n",
            " 1   Closing Price (USD)  2787 non-null   float64\n",
            " 2   24h Open (USD)       2787 non-null   float64\n",
            " 3   24h High (USD)       2787 non-null   float64\n",
            " 4   24h Low (USD)        2787 non-null   float64\n",
            "dtypes: float64(4), object(1)\n",
            "memory usage: 130.6+ KB\n"
          ]
        }
      ]
    },
    {
      "cell_type": "code",
      "source": [
        "# Only want closing price for each day\n",
        "bitcoin_prices = pd.DataFrame(df[\"Closing Price (USD)\"]).rename(columns={\"Closing Price (USD)\": \"Price\"})\n",
        "bitcoin_prices.head()"
      ],
      "metadata": {
        "id": "l6PQ2Otku4Zo",
        "colab": {
          "base_uri": "https://localhost:8080/",
          "height": 238
        },
        "outputId": "27406fe5-8c42-4e39-a353-d7cb55150108"
      },
      "execution_count": 4,
      "outputs": [
        {
          "output_type": "execute_result",
          "data": {
            "text/plain": [
              "                Price\n",
              "Date                 \n",
              "2013-10-01  123.65499\n",
              "2013-10-02  125.45500\n",
              "2013-10-03  108.58483\n",
              "2013-10-04  118.67466\n",
              "2013-10-05  121.33866"
            ],
            "text/html": [
              "\n",
              "  <div id=\"df-3d166845-2864-434a-bc6a-d4d588e2ce3f\">\n",
              "    <div class=\"colab-df-container\">\n",
              "      <div>\n",
              "<style scoped>\n",
              "    .dataframe tbody tr th:only-of-type {\n",
              "        vertical-align: middle;\n",
              "    }\n",
              "\n",
              "    .dataframe tbody tr th {\n",
              "        vertical-align: top;\n",
              "    }\n",
              "\n",
              "    .dataframe thead th {\n",
              "        text-align: right;\n",
              "    }\n",
              "</style>\n",
              "<table border=\"1\" class=\"dataframe\">\n",
              "  <thead>\n",
              "    <tr style=\"text-align: right;\">\n",
              "      <th></th>\n",
              "      <th>Price</th>\n",
              "    </tr>\n",
              "    <tr>\n",
              "      <th>Date</th>\n",
              "      <th></th>\n",
              "    </tr>\n",
              "  </thead>\n",
              "  <tbody>\n",
              "    <tr>\n",
              "      <th>2013-10-01</th>\n",
              "      <td>123.65499</td>\n",
              "    </tr>\n",
              "    <tr>\n",
              "      <th>2013-10-02</th>\n",
              "      <td>125.45500</td>\n",
              "    </tr>\n",
              "    <tr>\n",
              "      <th>2013-10-03</th>\n",
              "      <td>108.58483</td>\n",
              "    </tr>\n",
              "    <tr>\n",
              "      <th>2013-10-04</th>\n",
              "      <td>118.67466</td>\n",
              "    </tr>\n",
              "    <tr>\n",
              "      <th>2013-10-05</th>\n",
              "      <td>121.33866</td>\n",
              "    </tr>\n",
              "  </tbody>\n",
              "</table>\n",
              "</div>\n",
              "      <button class=\"colab-df-convert\" onclick=\"convertToInteractive('df-3d166845-2864-434a-bc6a-d4d588e2ce3f')\"\n",
              "              title=\"Convert this dataframe to an interactive table.\"\n",
              "              style=\"display:none;\">\n",
              "        \n",
              "  <svg xmlns=\"http://www.w3.org/2000/svg\" height=\"24px\"viewBox=\"0 0 24 24\"\n",
              "       width=\"24px\">\n",
              "    <path d=\"M0 0h24v24H0V0z\" fill=\"none\"/>\n",
              "    <path d=\"M18.56 5.44l.94 2.06.94-2.06 2.06-.94-2.06-.94-.94-2.06-.94 2.06-2.06.94zm-11 1L8.5 8.5l.94-2.06 2.06-.94-2.06-.94L8.5 2.5l-.94 2.06-2.06.94zm10 10l.94 2.06.94-2.06 2.06-.94-2.06-.94-.94-2.06-.94 2.06-2.06.94z\"/><path d=\"M17.41 7.96l-1.37-1.37c-.4-.4-.92-.59-1.43-.59-.52 0-1.04.2-1.43.59L10.3 9.45l-7.72 7.72c-.78.78-.78 2.05 0 2.83L4 21.41c.39.39.9.59 1.41.59.51 0 1.02-.2 1.41-.59l7.78-7.78 2.81-2.81c.8-.78.8-2.07 0-2.86zM5.41 20L4 18.59l7.72-7.72 1.47 1.35L5.41 20z\"/>\n",
              "  </svg>\n",
              "      </button>\n",
              "      \n",
              "  <style>\n",
              "    .colab-df-container {\n",
              "      display:flex;\n",
              "      flex-wrap:wrap;\n",
              "      gap: 12px;\n",
              "    }\n",
              "\n",
              "    .colab-df-convert {\n",
              "      background-color: #E8F0FE;\n",
              "      border: none;\n",
              "      border-radius: 50%;\n",
              "      cursor: pointer;\n",
              "      display: none;\n",
              "      fill: #1967D2;\n",
              "      height: 32px;\n",
              "      padding: 0 0 0 0;\n",
              "      width: 32px;\n",
              "    }\n",
              "\n",
              "    .colab-df-convert:hover {\n",
              "      background-color: #E2EBFA;\n",
              "      box-shadow: 0px 1px 2px rgba(60, 64, 67, 0.3), 0px 1px 3px 1px rgba(60, 64, 67, 0.15);\n",
              "      fill: #174EA6;\n",
              "    }\n",
              "\n",
              "    [theme=dark] .colab-df-convert {\n",
              "      background-color: #3B4455;\n",
              "      fill: #D2E3FC;\n",
              "    }\n",
              "\n",
              "    [theme=dark] .colab-df-convert:hover {\n",
              "      background-color: #434B5C;\n",
              "      box-shadow: 0px 1px 3px 1px rgba(0, 0, 0, 0.15);\n",
              "      filter: drop-shadow(0px 1px 2px rgba(0, 0, 0, 0.3));\n",
              "      fill: #FFFFFF;\n",
              "    }\n",
              "  </style>\n",
              "\n",
              "      <script>\n",
              "        const buttonEl =\n",
              "          document.querySelector('#df-3d166845-2864-434a-bc6a-d4d588e2ce3f button.colab-df-convert');\n",
              "        buttonEl.style.display =\n",
              "          google.colab.kernel.accessAllowed ? 'block' : 'none';\n",
              "\n",
              "        async function convertToInteractive(key) {\n",
              "          const element = document.querySelector('#df-3d166845-2864-434a-bc6a-d4d588e2ce3f');\n",
              "          const dataTable =\n",
              "            await google.colab.kernel.invokeFunction('convertToInteractive',\n",
              "                                                     [key], {});\n",
              "          if (!dataTable) return;\n",
              "\n",
              "          const docLinkHtml = 'Like what you see? Visit the ' +\n",
              "            '<a target=\"_blank\" href=https://colab.research.google.com/notebooks/data_table.ipynb>data table notebook</a>'\n",
              "            + ' to learn more about interactive tables.';\n",
              "          element.innerHTML = '';\n",
              "          dataTable['output_type'] = 'display_data';\n",
              "          await google.colab.output.renderOutput(dataTable, element);\n",
              "          const docLink = document.createElement('div');\n",
              "          docLink.innerHTML = docLinkHtml;\n",
              "          element.appendChild(docLink);\n",
              "        }\n",
              "      </script>\n",
              "    </div>\n",
              "  </div>\n",
              "  "
            ]
          },
          "metadata": {},
          "execution_count": 4
        }
      ]
    },
    {
      "cell_type": "markdown",
      "source": [
        "#Plotting model "
      ],
      "metadata": {
        "id": "Z18SrFXwMXHE"
      }
    },
    {
      "cell_type": "code",
      "source": [
        "import matplotlib.pyplot as plt\n",
        "bitcoin_prices.plot(figsize=(10, 7))\n",
        "plt.ylabel(\"BTC Price\")\n",
        "plt.title(\"Price of Bitcoin from 1 Oct 2013 to 18 May 2021\", fontsize=16)\n",
        "plt.legend(fontsize=14);"
      ],
      "metadata": {
        "colab": {
          "base_uri": "https://localhost:8080/",
          "height": 460
        },
        "id": "5m27YX--Lpc8",
        "outputId": "2972238e-bd2c-400f-9d72-a0d88fdffac3"
      },
      "execution_count": 5,
      "outputs": [
        {
          "output_type": "display_data",
          "data": {
            "text/plain": [
              "<Figure size 720x504 with 1 Axes>"
            ],
            "image/png": "[encoded data removed]"
          },
          "metadata": {
            "needs_background": "light"
          }
        }
      ]
    },
    {
      "cell_type": "markdown",
      "source": [
        "#Plot the model with diffrent module"
      ],
      "metadata": {
        "id": "fGcL8Ie8MJ_3"
      }
    },
    {
      "cell_type": "code",
      "source": [
        "# Importing and formatting historical Bitcoin data with Python\n",
        "import csv\n",
        "from datetime import datetime\n",
        "\n",
        "timesteps = []\n",
        "btc_price = []\n",
        "with open(\"/content/BTC_USD_2013-10-01_2021-05-18-CoinDesk.csv\", \"r\") as f:\n",
        "  csv_reader = csv.reader(f, delimiter=\",\")\n",
        "  next(csv_reader) # skip first line (this gets rid of the column titles)\n",
        "  for line in csv_reader:\n",
        "    timesteps.append(datetime.strptime(line[1], \"%Y-%m-%d\")) # get the dates as dates (not strings)\n",
        "    btc_price.append(float(line[2])) # get the closing price as float\n",
        "\n",
        "# View first 10 of each\n",
        "timesteps[:10], btc_price[:10]"
      ],
      "metadata": {
        "colab": {
          "base_uri": "https://localhost:8080/"
        },
        "id": "Q0tWvRW0MA_9",
        "outputId": "c217c59b-ee08-4be8-dcef-ad2d4fb25afa"
      },
      "execution_count": 6,
      "outputs": [
        {
          "output_type": "execute_result",
          "data": {
            "text/plain": [
              "([datetime.datetime(2013, 10, 1, 0, 0),\n",
              "  datetime.datetime(2013, 10, 2, 0, 0),\n",
              "  datetime.datetime(2013, 10, 3, 0, 0),\n",
              "  datetime.datetime(2013, 10, 4, 0, 0),\n",
              "  datetime.datetime(2013, 10, 5, 0, 0),\n",
              "  datetime.datetime(2013, 10, 6, 0, 0),\n",
              "  datetime.datetime(2013, 10, 7, 0, 0),\n",
              "  datetime.datetime(2013, 10, 8, 0, 0),\n",
              "  datetime.datetime(2013, 10, 9, 0, 0),\n",
              "  datetime.datetime(2013, 10, 10, 0, 0)],\n",
              " [123.65499,\n",
              "  125.455,\n",
              "  108.58483,\n",
              "  118.67466,\n",
              "  121.33866,\n",
              "  120.65533,\n",
              "  121.795,\n",
              "  123.033,\n",
              "  124.049,\n",
              "  125.96116])"
            ]
          },
          "metadata": {},
          "execution_count": 6
        }
      ]
    },
    {
      "cell_type": "code",
      "source": [
        "# Plot from CSV\n",
        "import matplotlib.pyplot as plt\n",
        "# import numpy as np\n",
        "plt.figure(figsize=(10,7))\n",
        "plt.plot(timesteps, btc_price)\n",
        "plt.ylabel(\"BTC Price\")\n",
        "plt.title(\"Price of Bitcoin from 1 Oct 2013 to 18 May 2021\", fontsize=16)\n",
        "plt.xlabel(\"Date\");"
      ],
      "metadata": {
        "colab": {
          "base_uri": "https://localhost:8080/",
          "height": 460
        },
        "id": "PUVq3VFrMRj1",
        "outputId": "c440b98e-b6ae-468b-c7d4-b7f383c0b836"
      },
      "execution_count": 7,
      "outputs": [
        {
          "output_type": "display_data",
          "data": {
            "text/plain": [
              "<Figure size 720x504 with 1 Axes>"
            ],
            "image/png": "[encoded data removed]"
          },
          "metadata": {
            "needs_background": "light"
          }
        }
      ]
    },
    {
      "cell_type": "markdown",
      "source": [
        "#Create Data format "
      ],
      "metadata": {
        "id": "c7C0q9LvP66D"
      }
    },
    {
      "cell_type": "markdown",
      "source": [
        "##Create Data in the wrong way (data leakage )"
      ],
      "metadata": {
        "id": "H_UE9aIZQFTq"
      }
    },
    {
      "cell_type": "code",
      "source": [
        "#Get bitcoin data array\n",
        "timesteps=bitcoin_prices.index.to_numpy()\n",
        "prices=bitcoin_prices[\"Price\"].to_numpy()\n",
        "timesteps[:10],prices[:10]"
      ],
      "metadata": {
        "colab": {
          "base_uri": "https://localhost:8080/"
        },
        "id": "mP2jFUJBQBkn",
        "outputId": "e88a2f4d-3e15-4415-dde1-092ea7c5541b"
      },
      "execution_count": 8,
      "outputs": [
        {
          "output_type": "execute_result",
          "data": {
            "text/plain": [
              "(array(['2013-10-01T00:00:00.000000000', '2013-10-02T00:00:00.000000000',\n",
              "        '2013-10-03T00:00:00.000000000', '2013-10-04T00:00:00.000000000',\n",
              "        '2013-10-05T00:00:00.000000000', '2013-10-06T00:00:00.000000000',\n",
              "        '2013-10-07T00:00:00.000000000', '2013-10-08T00:00:00.000000000',\n",
              "        '2013-10-09T00:00:00.000000000', '2013-10-10T00:00:00.000000000'],\n",
              "       dtype='datetime64[ns]'),\n",
              " array([123.65499, 125.455  , 108.58483, 118.67466, 121.33866, 120.65533,\n",
              "        121.795  , 123.033  , 124.049  , 125.96116]))"
            ]
          },
          "metadata": {},
          "execution_count": 8
        }
      ]
    },
    {
      "cell_type": "code",
      "source": [
        "#Wrong way to make train/test data\n",
        "from sklearn.model_selection import train_test_split\n",
        "\n",
        "X_train, X_test, y_train, y_test = train_test_split(timesteps, # dates\n",
        "                                                    prices, # BTC prices\n",
        "                                                    test_size=0.2,\n",
        "                                                    random_state=42)\n",
        "\n",
        "X_train.shape, X_test.shape, y_train.shape, y_test.shape\n",
        "#it splits data randomly and it is not good when we have date component "
      ],
      "metadata": {
        "colab": {
          "base_uri": "https://localhost:8080/"
        },
        "id": "IkDX4GWtQqHD",
        "outputId": "e4ed3952-df25-4285-938a-781b6cb405b1"
      },
      "execution_count": 9,
      "outputs": [
        {
          "output_type": "execute_result",
          "data": {
            "text/plain": [
              "((2229,), (558,), (2229,), (558,))"
            ]
          },
          "metadata": {},
          "execution_count": 9
        }
      ]
    },
    {
      "cell_type": "code",
      "source": [
        "# Let's plot wrong train and test splits\n",
        "plt.figure(figsize=(10, 7))\n",
        "plt.scatter(X_train, y_train, s=5, label=\"Train data\")\n",
        "plt.scatter(X_test, y_test, s=5, label=\"Test data\")\n",
        "plt.xlabel(\"Date\")\n",
        "plt.ylabel(\"BTC Price\")\n",
        "plt.legend(fontsize=14)\n",
        "plt.show();"
      ],
      "metadata": {
        "colab": {
          "base_uri": "https://localhost:8080/",
          "height": 442
        },
        "id": "0L1hCYXLRHmO",
        "outputId": "c215648d-2f7d-456d-f622-2273ad2eb9a4"
      },
      "execution_count": 10,
      "outputs": [
        {
          "output_type": "display_data",
          "data": {
            "text/plain": [
              "<Figure size 720x504 with 1 Axes>"
            ],
            "image/png": "[encoded data removed]"
          },
          "metadata": {
            "needs_background": "light"
          }
        }
      ]
    },
    {
      "cell_type": "markdown",
      "source": [
        "##Create Data in the right way"
      ],
      "metadata": {
        "id": "yWPCCRZbSTs2"
      }
    },
    {
      "cell_type": "code",
      "source": [
        "# Create train and test splits the right way for time series data\n",
        "\n",
        "split_size=int(0.8 * len(prices))# 80% train, 20% test \n",
        "# Create train data splits\n",
        "X_train,y_train=timesteps[:split_size],prices[:split_size]\n",
        "# Create test data splits\n",
        "X_test,y_test=timesteps[split_size:],prices[split_size:]\n",
        "len(X_train),len(X_test),len(y_train),len(y_test)"
      ],
      "metadata": {
        "colab": {
          "base_uri": "https://localhost:8080/"
        },
        "id": "CrQGg6YbSTNI",
        "outputId": "e8636066-0483-44ec-f288-7ca7b17013a9"
      },
      "execution_count": 11,
      "outputs": [
        {
          "output_type": "execute_result",
          "data": {
            "text/plain": [
              "(2229, 558, 2229, 558)"
            ]
          },
          "metadata": {},
          "execution_count": 11
        }
      ]
    },
    {
      "cell_type": "code",
      "source": [
        "#Plot correctly splits\n",
        "plt.figure(figsize=(10,7))\n",
        "plt.scatter(X_train, y_train, s=5, label=\"Train data\")\n",
        "plt.scatter(X_test, y_test, s=5, label=\"Test data\")\n",
        "plt.xlabel(\"Date\")\n",
        "plt.ylabel(\"BTC Price\")\n",
        "plt.legend(fontsize=14)\n",
        "plt.show();"
      ],
      "metadata": {
        "id": "jgeKISNJTq5X",
        "outputId": "0438a28c-af72-439c-a448-8684654d9201",
        "colab": {
          "base_uri": "https://localhost:8080/",
          "height": 0
        }
      },
      "execution_count": 12,
      "outputs": [
        {
          "output_type": "display_data",
          "data": {
            "text/plain": [
              "<Figure size 720x504 with 1 Axes>"
            ],
            "image/png": "[encoded data removed]"
          },
          "metadata": {
            "needs_background": "light"
          }
        }
      ]
    },
    {
      "cell_type": "markdown",
      "source": [
        "#Create a Plotting function"
      ],
      "metadata": {
        "id": "qAXZjHS_Fv0B"
      }
    },
    {
      "cell_type": "code",
      "source": [
        "#Create a function to plot time series data\n",
        "def plot_time_series(timesteps, values, format=\".\", start=0, end=None, label=None):\n",
        "  \"\"\"\n",
        "  Plots timesteps (a series of points in time) against values (a series of values across timesteps).\n",
        "\n",
        "  Parameters\n",
        "  ----------\n",
        "  timesteps : array of timestep values\n",
        "  values : array of values across time\n",
        "  format : style of plot, default \".\"\n",
        "  start : where to start the plot (setting a value will index from start of timesteps & values)\n",
        "  end : where to end the plot (similar to start but for the end)\n",
        "  label : label to show on plot about values, default None \n",
        "  \"\"\"\n",
        "  # Plot the series\n",
        "  plt.plot(timesteps[start:end], values[start:end], format, label=label)\n",
        "  plt.xlabel(\"Time\")\n",
        "  plt.ylabel(\"BTC Price\")\n",
        "  if label:\n",
        "    plt.legend(fontsize=14) # make label bigger\n",
        "  plt.grid(True)"
      ],
      "metadata": {
        "id": "2tS6yNZIFybN"
      },
      "execution_count": 13,
      "outputs": []
    },
    {
      "cell_type": "code",
      "source": [
        "# Test out plotting function\n",
        "plt.figure(figsize=(10, 7))\n",
        "plot_time_series(timesteps=X_train, values=y_train, label=\"Train data\")\n",
        "plot_time_series(timesteps=X_test, values=y_test, label=\"Test data\")"
      ],
      "metadata": {
        "colab": {
          "base_uri": "https://localhost:8080/",
          "height": 442
        },
        "id": "wvzGZxwKGHAA",
        "outputId": "e6d05d95-7c84-430f-e9ef-3137f3ffd17b"
      },
      "execution_count": 14,
      "outputs": [
        {
          "output_type": "display_data",
          "data": {
            "text/plain": [
              "<Figure size 720x504 with 1 Axes>"
            ],
            "image/png": "[encoded data removed]"
          },
          "metadata": {
            "needs_background": "light"
          }
        }
      ]
    },
    {
      "cell_type": "code",
      "source": [
        ""
      ],
      "metadata": {
        "id": "oVvDqJVkIRvM"
      },
      "execution_count": 14,
      "outputs": []
    },
    {
      "cell_type": "markdown",
      "source": [
        "#Models \n",
        "* Horizon = number of timesteps into the future we're going to predict\n",
        "* Window size = number of timesteps we're going to use to predict horizon"
      ],
      "metadata": {
        "id": "Uf1nJg-5H2eW"
      }
    },
    {
      "cell_type": "markdown",
      "source": [
        "##Model 0 : Naive forecast(baseline)\n",
        "The prediction at timestep t (y-hat) is equal to the value at timestep t-1 (previous timestep) - this is for a horizon of 1."
      ],
      "metadata": {
        "id": "lLNNH0kzJ3oJ"
      }
    },
    {
      "cell_type": "code",
      "source": [
        "#Create a naive forecast \n",
        "naive_forecast=y_test[:-1]\n",
        "naive_forecast[:10],naive_forecast[-10:]"
      ],
      "metadata": {
        "colab": {
          "base_uri": "https://localhost:8080/"
        },
        "id": "i9QDwoaQKI6i",
        "outputId": "91e24c89-4eac-4b3c-d76c-ab842b78d31f"
      },
      "execution_count": 15,
      "outputs": [
        {
          "output_type": "execute_result",
          "data": {
            "text/plain": [
              "(array([9226.48582088, 8794.35864452, 8798.04205463, 9081.18687849,\n",
              "        8711.53433917, 8760.89271814, 8749.52059102, 8656.97092235,\n",
              "        8500.64355816, 8469.2608989 ]),\n",
              " array([57107.12067189, 58788.20967893, 58102.19142623, 55715.54665129,\n",
              "        56573.5554719 , 52147.82118698, 49764.1320816 , 50032.69313676,\n",
              "        47885.62525472, 45604.61575361]))"
            ]
          },
          "metadata": {},
          "execution_count": 15
        }
      ]
    },
    {
      "cell_type": "code",
      "source": [
        "#Plot naive forecast\n",
        "plt.figure(figsize=(10,7))\n",
        "# plot_time_series(timesteps=X_train, values=y_train, label=\"Train data\")\n",
        "plot_time_series(timesteps=X_test, values=y_test, start=350, format=\"-\", label=\"Test data\")\n",
        "plot_time_series(timesteps=X_test[1:], values=naive_forecast, start=350, format=\"-\", label=\"Naive Forecast\")"
      ],
      "metadata": {
        "colab": {
          "base_uri": "https://localhost:8080/",
          "height": 0
        },
        "id": "6EQJeiolKrz-",
        "outputId": "33820c74-b39f-4fdc-d4b1-2b88273b7993"
      },
      "execution_count": 16,
      "outputs": [
        {
          "output_type": "display_data",
          "data": {
            "text/plain": [
              "<Figure size 720x504 with 1 Axes>"
            ],
            "image/png": "[encoded data removed]"
          },
          "metadata": {
            "needs_background": "light"
          }
        }
      ]
    },
    {
      "cell_type": "code",
      "source": [
        "#Evaluatinig baseline Model\n",
        "import tensorflow as tf\n"
      ],
      "metadata": {
        "id": "tPxxvglUMk8w"
      },
      "execution_count": 17,
      "outputs": []
    },
    {
      "cell_type": "code",
      "source": [
        "#MASE implementation \n",
        "def mean_absolute_scaled_error(y_true, y_pred):\n",
        "  \"\"\"\n",
        "  Implement MASE (assuming no seasonality of data).\n",
        "  \"\"\"\n",
        "  mae = tf.reduce_mean(tf.abs(y_true-y_pred))\n",
        "\n",
        "  # Find MAE of naive forecast (no seasonality)\n",
        "  mae_naive_no_season = tf.reduce_mean(tf.abs(y_true[1:] - y_true[:-1])) # our seasonality is 1 day (hence the shift of 1)\n",
        "\n",
        "  return mae / mae_naive_no_season"
      ],
      "metadata": {
        "id": "IWsvvmMWxWPo"
      },
      "execution_count": 18,
      "outputs": []
    },
    {
      "cell_type": "code",
      "source": [
        "mean_absolute_scaled_error(y_true=y_test[1:],y_pred=naive_forecast).numpy()"
      ],
      "metadata": {
        "colab": {
          "base_uri": "https://localhost:8080/"
        },
        "id": "yhtGucBEyC8I",
        "outputId": "7c40c74f-11d7-4733-b5e0-5c62df212bb9"
      },
      "execution_count": 19,
      "outputs": [
        {
          "output_type": "execute_result",
          "data": {
            "text/plain": [
              "0.9995699939182624"
            ]
          },
          "metadata": {},
          "execution_count": 19
        }
      ]
    },
    {
      "cell_type": "code",
      "source": [
        "# Create a function to take in model predictions and truth values and return evaluation metrics\n",
        "def evaluate_preds(y_true, y_pred):\n",
        "  # Make sure float32 datatype (for metric calculations)\n",
        "  y_true = tf.cast(y_true, dtype=tf.float32)\n",
        "  y_pred = tf.cast(y_pred, dtype=tf.float32)\n",
        "\n",
        "  # Calculate various evaluation metrics \n",
        "  mae = tf.keras.metrics.mean_absolute_error(y_true, y_pred)\n",
        "  mse = tf.keras.metrics.mean_squared_error(y_true, y_pred)\n",
        "  rmse = tf.sqrt(mse)\n",
        "  mape = tf.keras.metrics.mean_absolute_percentage_error(y_true, y_pred)\n",
        "  mase = mean_absolute_scaled_error(y_true, y_pred)\n",
        "\n",
        "  return {\"mae\": mae.numpy(),\n",
        "          \"mse\": mse.numpy(),\n",
        "          \"rmse\": rmse.numpy(),\n",
        "          \"mape\": mape.numpy(),\n",
        "          \"mase\": mase.numpy()} "
      ],
      "metadata": {
        "id": "LqVHUK4Oyw-b"
      },
      "execution_count": 20,
      "outputs": []
    },
    {
      "cell_type": "markdown",
      "source": [
        "let's test the function"
      ],
      "metadata": {
        "id": "maL-ZtBJzpg9"
      }
    },
    {
      "cell_type": "code",
      "source": [
        "#Testing model with diffrent evaluation\n",
        "naive_results = evaluate_preds(y_true=y_test[1:],\n",
        "                               y_pred=naive_forecast)\n",
        "\n",
        "naive_results"
      ],
      "metadata": {
        "colab": {
          "base_uri": "https://localhost:8080/"
        },
        "id": "cHi-K7yKy47d",
        "outputId": "c110062e-5121-4c50-fdb8-a03b71109061"
      },
      "execution_count": 21,
      "outputs": [
        {
          "output_type": "execute_result",
          "data": {
            "text/plain": [
              "{'mae': 567.9802,\n",
              " 'mape': 2.5165248,\n",
              " 'mase': 0.99957,\n",
              " 'mse': 1147547.0,\n",
              " 'rmse': 1071.2362}"
            ]
          },
          "metadata": {},
          "execution_count": 21
        }
      ]
    },
    {
      "cell_type": "markdown",
      "source": [
        "#Format Data Part2 : woindowing our data \n",
        "We window our time series dataset to turn our data into a supervised learning problem."
      ],
      "metadata": {
        "id": "SLK7MSLgk6Cd"
      }
    },
    {
      "cell_type": "code",
      "source": [
        "# What we want to do with our Bitcoin data\n",
        "print(f\"We want to use: {btc_price[:7]} to predict this: {btc_price[7]}\")"
      ],
      "metadata": {
        "colab": {
          "base_uri": "https://localhost:8080/"
        },
        "id": "zToAPsHElCzM",
        "outputId": "fa792b37-965e-4d18-9141-1c05d3130b0a"
      },
      "execution_count": 22,
      "outputs": [
        {
          "output_type": "stream",
          "name": "stdout",
          "text": [
            "We want to use: [123.65499, 125.455, 108.58483, 118.67466, 121.33866, 120.65533, 121.795] to predict this: 123.033\n"
          ]
        }
      ]
    },
    {
      "cell_type": "code",
      "source": [
        "# Let's setup global variables for window and horizon size\n",
        "HORIZON = 1 # predict next 1 day\n",
        "WINDOW_SIZE = 7 # use the past week of Bitcoin data to make the prediction"
      ],
      "metadata": {
        "id": "nbGtTOq7lkjv"
      },
      "execution_count": 23,
      "outputs": []
    },
    {
      "cell_type": "code",
      "source": [
        "# Create function to label windowed data\n",
        "def get_labelled_windows(x, horizon=HORIZON):\n",
        "  \"\"\"\n",
        "  Creates labels for windowed dataset.\n",
        "\n",
        "  E.g. if horizon=1\n",
        "  Input: [0, 1, 2, 3, 4, 5, 6, 7] -> Output: ([0, 1, 2, 3, 4, 5, 6], [7])\n",
        "  \"\"\"\n",
        "  return x[:, :-horizon], x[:, -horizon:]"
      ],
      "metadata": {
        "id": "hg1C0nBQllNs"
      },
      "execution_count": 24,
      "outputs": []
    },
    {
      "cell_type": "code",
      "source": [
        "# Test out the window labelling function\n",
        "test_window, test_label = get_labelled_windows(tf.expand_dims(tf.range(8), axis=0))\n",
        "print(f\"Window: {tf.squeeze(test_window).numpy()} -> Label: {tf.squeeze(test_label).numpy()}\")"
      ],
      "metadata": {
        "colab": {
          "base_uri": "https://localhost:8080/"
        },
        "id": "byf21StxmmPL",
        "outputId": "a30fb68f-b7b1-4cc6-8c7d-27fdc9d98d70"
      },
      "execution_count": 25,
      "outputs": [
        {
          "output_type": "stream",
          "name": "stdout",
          "text": [
            "Window: [0 1 2 3 4 5 6] -> Label: 7\n"
          ]
        }
      ]
    },
    {
      "cell_type": "code",
      "source": [
        "#Create function to view Numpy arrays as windows \n",
        "#Use NumPy indexing to create a 2D array of multiple window steps\n",
        "#Uses the 2D array of multiple window steps (from 2.) to index on a target series \n",
        "import numpy as np\n",
        "\n",
        "# Create function to view NumPy arrays as windows\n",
        "def make_windows(x, window_size=WINDOW_SIZE, horizon=HORIZON):\n",
        "  \"\"\"\n",
        "  Turns a 1D array into a 2D array of sequential labelled windows of window_size with horizon size labels.\n",
        "  \"\"\"\n",
        "  # 1. Create a window of specific window_size (add the horzion on the end for labelling later)\n",
        "  window_step = np.expand_dims(np.arange(window_size+horizon), axis=0)\n",
        "\n",
        "  # 2. Create a 2D array of multiple window steps (minus 1 to account for 0 indexing)\n",
        "  window_indexes = window_step + np.expand_dims(np.arange(len(x)-(window_size+horizon-1)), axis=0).T # create 2D array of windows of size window_size\n",
        "  # print(f\"Window indexes:\\n {window_indexes, window_indexes.shape}\")\n",
        "\n",
        "  # 3. Index on the target array (a time series) with 2D array of multiple window steps\n",
        "  windowed_array = x[window_indexes]\n",
        "  # print(windowed_array)\n",
        "\n",
        "  # 4. Get the labelled windows\n",
        "  windows, labels = get_labelled_windows(windowed_array, horizon=horizon)\n",
        "  return windows, labels"
      ],
      "metadata": {
        "id": "jG7lBUwqyLDD"
      },
      "execution_count": 26,
      "outputs": []
    },
    {
      "cell_type": "code",
      "source": [
        "full_windows, full_labels = make_windows(prices, window_size=WINDOW_SIZE, horizon=HORIZON)\n",
        "len(full_windows), len(full_labels)"
      ],
      "metadata": {
        "colab": {
          "base_uri": "https://localhost:8080/"
        },
        "id": "OM8SCKbP0ZKh",
        "outputId": "cbf98bac-0a86-4816-acec-8da5bda59d7a"
      },
      "execution_count": 27,
      "outputs": [
        {
          "output_type": "execute_result",
          "data": {
            "text/plain": [
              "(2780, 2780)"
            ]
          },
          "metadata": {},
          "execution_count": 27
        }
      ]
    },
    {
      "cell_type": "code",
      "source": [
        "# View the first 3 windows/labels\n",
        "for i in range(3):\n",
        "  print(f\"Window: {full_windows[i]} -> Label(horizon): {full_labels[i]}\")"
      ],
      "metadata": {
        "id": "drIjPxAu1Rns",
        "outputId": "6027de04-ada9-4f7b-ee6a-c86306e7c2d1",
        "colab": {
          "base_uri": "https://localhost:8080/"
        }
      },
      "execution_count": 28,
      "outputs": [
        {
          "output_type": "stream",
          "name": "stdout",
          "text": [
            "Window: [123.65499 125.455   108.58483 118.67466 121.33866 120.65533 121.795  ] -> Label(horizon): [123.033]\n",
            "Window: [125.455   108.58483 118.67466 121.33866 120.65533 121.795   123.033  ] -> Label(horizon): [124.049]\n",
            "Window: [108.58483 118.67466 121.33866 120.65533 121.795   123.033   124.049  ] -> Label(horizon): [125.96116]\n"
          ]
        }
      ]
    },
    {
      "cell_type": "code",
      "source": [
        "# View the last 3 windows/labels\n",
        "for i in range(3):\n",
        "  print(f\"Window: {full_windows[i-3]} -> Label(horizon): {full_labels[i-3]}\")"
      ],
      "metadata": {
        "id": "SXWA4Woj1SAk",
        "outputId": "dbb6db04-8990-4ff8-a002-8f9aabfc4c6e",
        "colab": {
          "base_uri": "https://localhost:8080/"
        }
      },
      "execution_count": 29,
      "outputs": [
        {
          "output_type": "stream",
          "name": "stdout",
          "text": [
            "Window: [58788.20967893 58102.19142623 55715.54665129 56573.5554719\n",
            " 52147.82118698 49764.1320816  50032.69313676] -> Label(horizon): [47885.62525472]\n",
            "Window: [58102.19142623 55715.54665129 56573.5554719  52147.82118698\n",
            " 49764.1320816  50032.69313676 47885.62525472] -> Label(horizon): [45604.61575361]\n",
            "Window: [55715.54665129 56573.5554719  52147.82118698 49764.1320816\n",
            " 50032.69313676 47885.62525472 45604.61575361] -> Label(horizon): [43144.47129086]\n"
          ]
        }
      ]
    },
    {
      "cell_type": "markdown",
      "source": [
        "##Turning windows into training and test sets"
      ],
      "metadata": {
        "id": "of9zyLPEFWeT"
      }
    },
    {
      "cell_type": "code",
      "source": [
        "full_windows[:5],full_labels[:5]"
      ],
      "metadata": {
        "colab": {
          "base_uri": "https://localhost:8080/"
        },
        "id": "n9_K8WLZFIqq",
        "outputId": "ec4b3350-4180-4e79-ed85-079d2fa05668"
      },
      "execution_count": 30,
      "outputs": [
        {
          "output_type": "execute_result",
          "data": {
            "text/plain": [
              "(array([[123.65499, 125.455  , 108.58483, 118.67466, 121.33866, 120.65533,\n",
              "         121.795  ],\n",
              "        [125.455  , 108.58483, 118.67466, 121.33866, 120.65533, 121.795  ,\n",
              "         123.033  ],\n",
              "        [108.58483, 118.67466, 121.33866, 120.65533, 121.795  , 123.033  ,\n",
              "         124.049  ],\n",
              "        [118.67466, 121.33866, 120.65533, 121.795  , 123.033  , 124.049  ,\n",
              "         125.96116],\n",
              "        [121.33866, 120.65533, 121.795  , 123.033  , 124.049  , 125.96116,\n",
              "         125.27966]]), array([[123.033  ],\n",
              "        [124.049  ],\n",
              "        [125.96116],\n",
              "        [125.27966],\n",
              "        [125.9275 ]]))"
            ]
          },
          "metadata": {},
          "execution_count": 30
        }
      ]
    },
    {
      "cell_type": "code",
      "source": [
        "# Make the train/test splits\n",
        "def make_train_test_splits(windows, labels, test_split=0.2):\n",
        "  \"\"\"\n",
        "  Splits matching pairs of winodws and labels into train and test splits.\n",
        "  \"\"\"\n",
        "  split_size = int(len(windows) * (1-test_split)) # this will default to 80% train/20% test\n",
        "  train_windows = windows[:split_size]\n",
        "  train_labels = labels[:split_size]\n",
        "  test_windows = windows[split_size:]\n",
        "  test_labels = labels[split_size:]\n",
        "  return train_windows, test_windows, train_labels, test_labels"
      ],
      "metadata": {
        "id": "7l_eyBmMFo3S"
      },
      "execution_count": 31,
      "outputs": []
    },
    {
      "cell_type": "code",
      "source": [
        "#Create test and train windows\n",
        "train_windows, test_windows, train_labels, test_labels=make_train_test_splits(full_windows,full_labels)\n",
        "len(train_windows), len(test_windows), len(train_labels), len(test_labels)\n"
      ],
      "metadata": {
        "colab": {
          "base_uri": "https://localhost:8080/"
        },
        "id": "Y33naplRGCST",
        "outputId": "c3cfd3da-3342-41b8-f0e4-27e19df5eca2"
      },
      "execution_count": 32,
      "outputs": [
        {
          "output_type": "execute_result",
          "data": {
            "text/plain": [
              "(2224, 556, 2224, 556)"
            ]
          },
          "metadata": {},
          "execution_count": 32
        }
      ]
    },
    {
      "cell_type": "code",
      "source": [
        "train_windows[:5],train_labels[:5]"
      ],
      "metadata": {
        "colab": {
          "base_uri": "https://localhost:8080/"
        },
        "id": "-R6vzTVaGRqT",
        "outputId": "4d38b53d-64d3-40e8-fcf4-86e80e1c8dac"
      },
      "execution_count": 33,
      "outputs": [
        {
          "output_type": "execute_result",
          "data": {
            "text/plain": [
              "(array([[123.65499, 125.455  , 108.58483, 118.67466, 121.33866, 120.65533,\n",
              "         121.795  ],\n",
              "        [125.455  , 108.58483, 118.67466, 121.33866, 120.65533, 121.795  ,\n",
              "         123.033  ],\n",
              "        [108.58483, 118.67466, 121.33866, 120.65533, 121.795  , 123.033  ,\n",
              "         124.049  ],\n",
              "        [118.67466, 121.33866, 120.65533, 121.795  , 123.033  , 124.049  ,\n",
              "         125.96116],\n",
              "        [121.33866, 120.65533, 121.795  , 123.033  , 124.049  , 125.96116,\n",
              "         125.27966]]), array([[123.033  ],\n",
              "        [124.049  ],\n",
              "        [125.96116],\n",
              "        [125.27966],\n",
              "        [125.9275 ]]))"
            ]
          },
          "metadata": {},
          "execution_count": 33
        }
      ]
    },
    {
      "cell_type": "markdown",
      "source": [
        "##Make a model checkpoint callback"
      ],
      "metadata": {
        "id": "Pv2cZ04sGvtj"
      }
    },
    {
      "cell_type": "code",
      "source": [
        "import os\n",
        "\n",
        "# Create a function to implement a ModelCheckpoint callback with a specific filename \n",
        "def create_model_checkpoint(model_name, save_path=\"model_experiments\"):\n",
        "  return tf.keras.callbacks.ModelCheckpoint(filepath=os.path.join(save_path, model_name),\n",
        "                                            monitor=\"val_loss\",\n",
        "                                            verbose=0, # only output a limited amount of text\n",
        "                                            save_best_only=True)"
      ],
      "metadata": {
        "id": "M4xgx3vZHXk3"
      },
      "execution_count": 34,
      "outputs": []
    },
    {
      "cell_type": "markdown",
      "source": [
        "#Model 1: Dense model (window = 7, horizon = 1)\n"
      ],
      "metadata": {
        "id": "yoRM2qpNH8fc"
      }
    },
    {
      "cell_type": "code",
      "source": [
        "import tensorflow as tf\n",
        "from tensorflow.keras import layers\n",
        "tf.random.set_seed(42)\n",
        "# 1. Construct model\n",
        "model1=tf.keras.Sequential([\n",
        "layers.Dense(128,activation=\"relu\"),\n",
        "layers.Dense(HORIZON, activation=\"linear\"), # linear activation is the same as having no activation               \n",
        "],name=\"model1_dense\")\n",
        "#Compile \n",
        "model1.compile(loss=tf.keras.losses.mae,optimizer=tf.keras.optimizers.Adam(),metrics=[\"mae\",\"mse\"])\n",
        "#Fit the model\n",
        "model1.fit(x=train_windows,y=train_labels,epochs=100,validation_data=(test_windows, test_labels),callbacks=[create_model_checkpoint(model_name=model1.name)])\n"
      ],
      "metadata": {
        "colab": {
          "base_uri": "https://localhost:8080/"
        },
        "id": "RB-VOzI5H-c6",
        "outputId": "27b6dbdd-8e46-4164-edb0-01c5236aef65"
      },
      "execution_count": 35,
      "outputs": [
        {
          "output_type": "stream",
          "name": "stdout",
          "text": [
            "Epoch 1/100\n",
            "70/70 [==============================] - 3s 28ms/step - loss: 359.4920 - mae: 359.4920 - mse: 780216.3750 - val_loss: 888.3679 - val_mae: 888.3679 - val_mse: 2606066.5000\n",
            "Epoch 2/100\n",
            "70/70 [==============================] - 1s 17ms/step - loss: 157.8979 - mae: 157.8979 - mse: 131472.5469 - val_loss: 808.7416 - val_mae: 808.7416 - val_mse: 2204923.0000\n",
            "Epoch 3/100\n",
            "70/70 [==============================] - 1s 20ms/step - loss: 147.2009 - mae: 147.2009 - mse: 119701.1328 - val_loss: 778.2150 - val_mae: 778.2150 - val_mse: 1912743.5000\n",
            "Epoch 4/100\n",
            "70/70 [==============================] - 1s 20ms/step - loss: 139.5049 - mae: 139.5049 - mse: 104213.4297 - val_loss: 761.3459 - val_mae: 761.3459 - val_mse: 1927908.6250\n",
            "Epoch 5/100\n",
            "70/70 [==============================] - 0s 5ms/step - loss: 132.6157 - mae: 132.6157 - mse: 97759.9297 - val_loss: 904.0766 - val_mae: 904.0766 - val_mse: 2226338.0000\n",
            "Epoch 6/100\n",
            "70/70 [==============================] - 1s 21ms/step - loss: 130.8022 - mae: 130.8022 - mse: 95423.0234 - val_loss: 662.7148 - val_mae: 662.7148 - val_mse: 1489868.8750\n",
            "Epoch 7/100\n",
            "70/70 [==============================] - 0s 6ms/step - loss: 126.2849 - mae: 126.2849 - mse: 89445.3828 - val_loss: 681.0333 - val_mae: 681.0333 - val_mse: 1490476.5000\n",
            "Epoch 8/100\n",
            "70/70 [==============================] - 2s 26ms/step - loss: 119.6749 - mae: 119.6749 - mse: 81709.7578 - val_loss: 633.8375 - val_mae: 633.8375 - val_mse: 1399182.0000\n",
            "Epoch 9/100\n",
            "70/70 [==============================] - 0s 6ms/step - loss: 120.3705 - mae: 120.3705 - mse: 80784.0078 - val_loss: 697.3561 - val_mae: 697.3561 - val_mse: 1509233.6250\n",
            "Epoch 10/100\n",
            "70/70 [==============================] - 2s 22ms/step - loss: 129.9093 - mae: 129.9093 - mse: 87949.2266 - val_loss: 628.6796 - val_mae: 628.6796 - val_mse: 1369680.7500\n",
            "Epoch 11/100\n",
            "70/70 [==============================] - 1s 7ms/step - loss: 118.7637 - mae: 118.7637 - mse: 82067.3125 - val_loss: 821.0378 - val_mae: 821.0378 - val_mse: 1859557.2500\n",
            "Epoch 12/100\n",
            "70/70 [==============================] - 0s 6ms/step - loss: 121.5300 - mae: 121.5300 - mse: 84371.2266 - val_loss: 837.0785 - val_mae: 837.0785 - val_mse: 1907404.0000\n",
            "Epoch 13/100\n",
            "70/70 [==============================] - 2s 22ms/step - loss: 120.8764 - mae: 120.8764 - mse: 80935.8672 - val_loss: 599.1429 - val_mae: 599.1429 - val_mse: 1263072.0000\n",
            "Epoch 14/100\n",
            "70/70 [==============================] - 0s 4ms/step - loss: 126.8118 - mae: 126.8118 - mse: 85637.7266 - val_loss: 1022.1075 - val_mae: 1022.1075 - val_mse: 2562852.7500\n",
            "Epoch 15/100\n",
            "70/70 [==============================] - 0s 5ms/step - loss: 129.1931 - mae: 129.1931 - mse: 86589.5625 - val_loss: 644.3780 - val_mae: 644.3780 - val_mse: 1345255.8750\n",
            "Epoch 16/100\n",
            "70/70 [==============================] - 1s 19ms/step - loss: 114.8754 - mae: 114.8754 - mse: 76299.0938 - val_loss: 588.7034 - val_mae: 588.7034 - val_mse: 1233582.6250\n",
            "Epoch 17/100\n",
            "70/70 [==============================] - 1s 7ms/step - loss: 114.3757 - mae: 114.3757 - mse: 75149.7188 - val_loss: 615.9734 - val_mae: 615.9734 - val_mse: 1308685.0000\n",
            "Epoch 18/100\n",
            "70/70 [==============================] - 1s 7ms/step - loss: 122.3201 - mae: 122.3201 - mse: 78205.2812 - val_loss: 676.3277 - val_mae: 676.3277 - val_mse: 1469317.7500\n",
            "Epoch 19/100\n",
            "70/70 [==============================] - 0s 6ms/step - loss: 124.0567 - mae: 124.0567 - mse: 83259.8438 - val_loss: 623.7852 - val_mae: 623.7852 - val_mse: 1326903.7500\n",
            "Epoch 20/100\n",
            "70/70 [==============================] - 1s 11ms/step - loss: 113.2940 - mae: 113.2940 - mse: 74950.9297 - val_loss: 718.8046 - val_mae: 718.8046 - val_mse: 1518145.7500\n",
            "Epoch 21/100\n",
            "70/70 [==============================] - 0s 6ms/step - loss: 117.2397 - mae: 117.2397 - mse: 74432.6016 - val_loss: 597.8802 - val_mae: 597.8802 - val_mse: 1240149.6250\n",
            "Epoch 22/100\n",
            "70/70 [==============================] - 0s 5ms/step - loss: 114.3181 - mae: 114.3181 - mse: 76040.7188 - val_loss: 613.3323 - val_mae: 613.3323 - val_mse: 1290936.1250\n",
            "Epoch 23/100\n",
            "70/70 [==============================] - 0s 6ms/step - loss: 124.5630 - mae: 124.5630 - mse: 82298.3906 - val_loss: 746.1825 - val_mae: 746.1825 - val_mse: 1592015.2500\n",
            "Epoch 24/100\n",
            "70/70 [==============================] - 2s 23ms/step - loss: 121.7200 - mae: 121.7200 - mse: 81409.8359 - val_loss: 577.8656 - val_mae: 577.8656 - val_mse: 1210357.8750\n",
            "Epoch 25/100\n",
            "70/70 [==============================] - 0s 6ms/step - loss: 119.1233 - mae: 119.1233 - mse: 74106.4141 - val_loss: 641.5399 - val_mae: 641.5399 - val_mse: 1321458.7500\n",
            "Epoch 26/100\n",
            "70/70 [==============================] - 0s 7ms/step - loss: 123.7351 - mae: 123.7351 - mse: 83514.7656 - val_loss: 657.1485 - val_mae: 657.1485 - val_mse: 1385207.0000\n",
            "Epoch 27/100\n",
            "70/70 [==============================] - 0s 6ms/step - loss: 120.6257 - mae: 120.6257 - mse: 78656.5312 - val_loss: 924.1653 - val_mae: 924.1653 - val_mse: 2326939.7500\n",
            "Epoch 28/100\n",
            "70/70 [==============================] - 0s 6ms/step - loss: 113.2742 - mae: 113.2742 - mse: 72282.5000 - val_loss: 578.3953 - val_mae: 578.3953 - val_mse: 1209453.8750\n",
            "Epoch 29/100\n",
            "70/70 [==============================] - 0s 7ms/step - loss: 118.2094 - mae: 118.2094 - mse: 78282.3359 - val_loss: 579.6161 - val_mae: 579.6161 - val_mse: 1199518.7500\n",
            "Epoch 30/100\n",
            "70/70 [==============================] - 0s 5ms/step - loss: 112.7036 - mae: 112.7036 - mse: 72178.2578 - val_loss: 603.7563 - val_mae: 603.7563 - val_mse: 1257973.3750\n",
            "Epoch 31/100\n",
            "70/70 [==============================] - 0s 4ms/step - loss: 112.6962 - mae: 112.6962 - mse: 71249.4844 - val_loss: 808.8253 - val_mae: 808.8253 - val_mse: 1777808.7500\n",
            "Epoch 32/100\n",
            "70/70 [==============================] - 0s 5ms/step - loss: 121.3104 - mae: 121.3104 - mse: 79424.4141 - val_loss: 580.2399 - val_mae: 580.2399 - val_mse: 1202449.2500\n",
            "Epoch 33/100\n",
            "70/70 [==============================] - 0s 5ms/step - loss: 115.2519 - mae: 115.2519 - mse: 74478.1641 - val_loss: 659.5880 - val_mae: 659.5880 - val_mse: 1358161.7500\n",
            "Epoch 34/100\n",
            "70/70 [==============================] - 1s 21ms/step - loss: 119.9867 - mae: 119.9867 - mse: 82255.8750 - val_loss: 575.1893 - val_mae: 575.1893 - val_mse: 1186323.6250\n",
            "Epoch 35/100\n",
            "70/70 [==============================] - 2s 24ms/step - loss: 110.6535 - mae: 110.6535 - mse: 72690.8047 - val_loss: 572.6992 - val_mae: 572.6992 - val_mse: 1187882.7500\n",
            "Epoch 36/100\n",
            "70/70 [==============================] - 1s 8ms/step - loss: 115.0006 - mae: 115.0006 - mse: 74054.7344 - val_loss: 721.7006 - val_mae: 721.7006 - val_mse: 1509028.5000\n",
            "Epoch 37/100\n",
            "70/70 [==============================] - 0s 7ms/step - loss: 113.8213 - mae: 113.8213 - mse: 72976.1484 - val_loss: 573.1647 - val_mae: 573.1647 - val_mse: 1185518.1250\n",
            "Epoch 38/100\n",
            "70/70 [==============================] - 0s 5ms/step - loss: 132.1443 - mae: 132.1443 - mse: 84419.1641 - val_loss: 1062.6067 - val_mae: 1062.6067 - val_mse: 2714859.0000\n",
            "Epoch 39/100\n",
            "70/70 [==============================] - 1s 18ms/step - loss: 114.3625 - mae: 114.3625 - mse: 71384.8594 - val_loss: 572.2530 - val_mae: 572.2530 - val_mse: 1187142.1250\n",
            "Epoch 40/100\n",
            "70/70 [==============================] - 0s 5ms/step - loss: 113.6639 - mae: 113.6639 - mse: 73919.1094 - val_loss: 649.0488 - val_mae: 649.0488 - val_mse: 1357815.5000\n",
            "Epoch 41/100\n",
            "70/70 [==============================] - 0s 6ms/step - loss: 108.8093 - mae: 108.8093 - mse: 70413.8125 - val_loss: 835.7475 - val_mae: 835.7475 - val_mse: 1946064.1250\n",
            "Epoch 42/100\n",
            "70/70 [==============================] - 0s 5ms/step - loss: 113.8201 - mae: 113.8201 - mse: 75265.3359 - val_loss: 628.7723 - val_mae: 628.7723 - val_mse: 1285076.6250\n",
            "Epoch 43/100\n",
            "70/70 [==============================] - 0s 5ms/step - loss: 111.5339 - mae: 111.5339 - mse: 73010.6641 - val_loss: 583.8146 - val_mae: 583.8146 - val_mse: 1212578.5000\n",
            "Epoch 44/100\n",
            "70/70 [==============================] - 0s 3ms/step - loss: 114.1484 - mae: 114.1484 - mse: 73802.4062 - val_loss: 967.2026 - val_mae: 967.2026 - val_mse: 2460058.0000\n",
            "Epoch 45/100\n",
            "70/70 [==============================] - 0s 3ms/step - loss: 121.8002 - mae: 121.8002 - mse: 80501.4219 - val_loss: 573.6694 - val_mae: 573.6694 - val_mse: 1182473.6250\n",
            "Epoch 46/100\n",
            "70/70 [==============================] - 1s 10ms/step - loss: 118.7564 - mae: 118.7564 - mse: 80772.1250 - val_loss: 569.6978 - val_mae: 569.6978 - val_mse: 1179550.7500\n",
            "Epoch 47/100\n",
            "70/70 [==============================] - 0s 2ms/step - loss: 110.2926 - mae: 110.2926 - mse: 71608.1016 - val_loss: 742.5104 - val_mae: 742.5104 - val_mse: 1569089.1250\n",
            "Epoch 48/100\n",
            "70/70 [==============================] - 0s 2ms/step - loss: 129.4210 - mae: 129.4210 - mse: 86191.9688 - val_loss: 581.8373 - val_mae: 581.8373 - val_mse: 1202072.0000\n",
            "Epoch 49/100\n",
            "70/70 [==============================] - 0s 3ms/step - loss: 113.4563 - mae: 113.4563 - mse: 75192.7891 - val_loss: 656.9052 - val_mae: 656.9052 - val_mse: 1390506.3750\n",
            "Epoch 50/100\n",
            "70/70 [==============================] - 0s 3ms/step - loss: 112.9848 - mae: 112.9848 - mse: 71805.2969 - val_loss: 573.6810 - val_mae: 573.6810 - val_mse: 1191094.7500\n",
            "Epoch 51/100\n",
            "70/70 [==============================] - 0s 2ms/step - loss: 113.8042 - mae: 113.8042 - mse: 73599.2891 - val_loss: 579.1771 - val_mae: 579.1771 - val_mse: 1200132.8750\n",
            "Epoch 52/100\n",
            "70/70 [==============================] - 0s 2ms/step - loss: 118.6679 - mae: 118.6679 - mse: 73458.6328 - val_loss: 714.0302 - val_mae: 714.0302 - val_mse: 1490916.0000\n",
            "Epoch 53/100\n",
            "70/70 [==============================] - 0s 2ms/step - loss: 113.7106 - mae: 113.7106 - mse: 74439.8047 - val_loss: 574.5241 - val_mae: 574.5241 - val_mse: 1175404.3750\n",
            "Epoch 54/100\n",
            "70/70 [==============================] - 0s 2ms/step - loss: 110.3238 - mae: 110.3238 - mse: 71318.0703 - val_loss: 603.4028 - val_mae: 603.4028 - val_mse: 1227955.5000\n",
            "Epoch 55/100\n",
            "70/70 [==============================] - 1s 10ms/step - loss: 107.5644 - mae: 107.5644 - mse: 70267.9766 - val_loss: 568.4819 - val_mae: 568.4819 - val_mse: 1167304.5000\n",
            "Epoch 56/100\n",
            "70/70 [==============================] - 0s 2ms/step - loss: 109.8141 - mae: 109.8141 - mse: 70417.8750 - val_loss: 660.1946 - val_mae: 660.1946 - val_mse: 1390652.5000\n",
            "Epoch 57/100\n",
            "70/70 [==============================] - 0s 2ms/step - loss: 110.9964 - mae: 110.9964 - mse: 71486.9844 - val_loss: 595.9410 - val_mae: 595.9410 - val_mse: 1234328.3750\n",
            "Epoch 58/100\n",
            "70/70 [==============================] - 0s 2ms/step - loss: 115.5946 - mae: 115.5946 - mse: 74227.2969 - val_loss: 571.1105 - val_mae: 571.1105 - val_mse: 1181080.8750\n",
            "Epoch 59/100\n",
            "70/70 [==============================] - 0s 2ms/step - loss: 108.8298 - mae: 108.8298 - mse: 70002.7969 - val_loss: 571.3654 - val_mae: 571.3654 - val_mse: 1176039.2500\n",
            "Epoch 60/100\n",
            "70/70 [==============================] - 0s 2ms/step - loss: 108.9768 - mae: 108.9768 - mse: 68566.0703 - val_loss: 569.4202 - val_mae: 569.4202 - val_mse: 1173234.1250\n",
            "Epoch 61/100\n",
            "70/70 [==============================] - 0s 3ms/step - loss: 112.5239 - mae: 112.5239 - mse: 72174.7500 - val_loss: 579.7667 - val_mae: 579.7667 - val_mse: 1197866.5000\n",
            "Epoch 62/100\n",
            "70/70 [==============================] - 1s 9ms/step - loss: 109.8751 - mae: 109.8751 - mse: 69678.0469 - val_loss: 566.0778 - val_mae: 566.0778 - val_mse: 1162612.6250\n",
            "Epoch 63/100\n",
            "70/70 [==============================] - 0s 2ms/step - loss: 109.2547 - mae: 109.2547 - mse: 71657.1406 - val_loss: 581.3521 - val_mae: 581.3521 - val_mse: 1186383.3750\n",
            "Epoch 64/100\n",
            "70/70 [==============================] - 0s 3ms/step - loss: 114.7933 - mae: 114.7933 - mse: 72369.0703 - val_loss: 654.4222 - val_mae: 654.4222 - val_mse: 1340663.8750\n",
            "Epoch 65/100\n",
            "70/70 [==============================] - 0s 3ms/step - loss: 111.1947 - mae: 111.1947 - mse: 71242.7812 - val_loss: 674.2147 - val_mae: 674.2147 - val_mse: 1393362.7500\n",
            "Epoch 66/100\n",
            "70/70 [==============================] - 0s 2ms/step - loss: 108.3600 - mae: 108.3600 - mse: 70637.1172 - val_loss: 570.5710 - val_mae: 570.5710 - val_mse: 1165998.7500\n",
            "Epoch 67/100\n",
            "70/70 [==============================] - 0s 2ms/step - loss: 110.6324 - mae: 110.6324 - mse: 71170.5078 - val_loss: 581.1649 - val_mae: 581.1649 - val_mse: 1204104.0000\n",
            "Epoch 68/100\n",
            "70/70 [==============================] - 0s 2ms/step - loss: 109.0514 - mae: 109.0514 - mse: 69551.9062 - val_loss: 575.4554 - val_mae: 575.4554 - val_mse: 1189741.6250\n",
            "Epoch 69/100\n",
            "70/70 [==============================] - 0s 2ms/step - loss: 108.9215 - mae: 108.9215 - mse: 68742.0469 - val_loss: 612.1065 - val_mae: 612.1065 - val_mse: 1243598.2500\n",
            "Epoch 70/100\n",
            "70/70 [==============================] - 0s 2ms/step - loss: 113.3988 - mae: 113.3988 - mse: 73621.7734 - val_loss: 568.1693 - val_mae: 568.1693 - val_mse: 1169170.5000\n",
            "Epoch 71/100\n",
            "70/70 [==============================] - 0s 2ms/step - loss: 109.2752 - mae: 109.2752 - mse: 69070.7422 - val_loss: 593.5956 - val_mae: 593.5956 - val_mse: 1207714.2500\n",
            "Epoch 72/100\n",
            "70/70 [==============================] - 0s 2ms/step - loss: 110.3542 - mae: 110.3542 - mse: 71088.3828 - val_loss: 621.2651 - val_mae: 621.2651 - val_mse: 1286813.8750\n",
            "Epoch 73/100\n",
            "70/70 [==============================] - 0s 2ms/step - loss: 109.6216 - mae: 109.6216 - mse: 70826.8672 - val_loss: 691.7692 - val_mae: 691.7692 - val_mse: 1431574.8750\n",
            "Epoch 74/100\n",
            "70/70 [==============================] - 0s 2ms/step - loss: 116.8527 - mae: 116.8527 - mse: 71794.0000 - val_loss: 575.1132 - val_mae: 575.1132 - val_mse: 1180728.7500\n",
            "Epoch 75/100\n",
            "70/70 [==============================] - 0s 2ms/step - loss: 107.7997 - mae: 107.7997 - mse: 69046.8125 - val_loss: 895.7745 - val_mae: 895.7745 - val_mse: 2061661.2500\n",
            "Epoch 76/100\n",
            "70/70 [==============================] - 0s 2ms/step - loss: 111.0106 - mae: 111.0106 - mse: 70114.3281 - val_loss: 608.6978 - val_mae: 608.6978 - val_mse: 1269861.5000\n",
            "Epoch 77/100\n",
            "70/70 [==============================] - 0s 2ms/step - loss: 108.4262 - mae: 108.4262 - mse: 71320.8828 - val_loss: 617.9186 - val_mae: 617.9186 - val_mse: 1291103.5000\n",
            "Epoch 78/100\n",
            "70/70 [==============================] - 0s 3ms/step - loss: 110.5917 - mae: 110.5917 - mse: 73401.7734 - val_loss: 575.2460 - val_mae: 575.2460 - val_mse: 1186936.8750\n",
            "Epoch 79/100\n",
            "70/70 [==============================] - 0s 2ms/step - loss: 122.9660 - mae: 122.9660 - mse: 77228.3203 - val_loss: 599.2866 - val_mae: 599.2866 - val_mse: 1242870.5000\n",
            "Epoch 80/100\n",
            "70/70 [==============================] - 0s 2ms/step - loss: 118.9513 - mae: 118.9513 - mse: 73498.9844 - val_loss: 691.1713 - val_mae: 691.1713 - val_mse: 1431623.2500\n",
            "Epoch 81/100\n",
            "70/70 [==============================] - 0s 2ms/step - loss: 111.0192 - mae: 111.0192 - mse: 71136.9219 - val_loss: 623.7305 - val_mae: 623.7305 - val_mse: 1269925.3750\n",
            "Epoch 82/100\n",
            "70/70 [==============================] - 0s 2ms/step - loss: 112.1466 - mae: 112.1466 - mse: 70906.8438 - val_loss: 648.6489 - val_mae: 648.6489 - val_mse: 1364408.3750\n",
            "Epoch 83/100\n",
            "70/70 [==============================] - 0s 2ms/step - loss: 109.4693 - mae: 109.4693 - mse: 70266.2344 - val_loss: 594.9014 - val_mae: 594.9014 - val_mse: 1234195.7500\n",
            "Epoch 84/100\n",
            "70/70 [==============================] - 0s 2ms/step - loss: 111.3140 - mae: 111.3140 - mse: 69927.7656 - val_loss: 571.8101 - val_mae: 571.8101 - val_mse: 1180449.1250\n",
            "Epoch 85/100\n",
            "70/70 [==============================] - 0s 2ms/step - loss: 107.0147 - mae: 107.0147 - mse: 69085.4062 - val_loss: 576.0610 - val_mae: 576.0610 - val_mse: 1172447.3750\n",
            "Epoch 86/100\n",
            "70/70 [==============================] - 0s 2ms/step - loss: 124.1053 - mae: 124.1053 - mse: 80427.0703 - val_loss: 722.8441 - val_mae: 722.8441 - val_mse: 1518345.3750\n",
            "Epoch 87/100\n",
            "70/70 [==============================] - 0s 2ms/step - loss: 107.6032 - mae: 107.6032 - mse: 67613.1328 - val_loss: 578.0352 - val_mae: 578.0352 - val_mse: 1193472.7500\n",
            "Epoch 88/100\n",
            "70/70 [==============================] - 0s 2ms/step - loss: 115.5046 - mae: 115.5046 - mse: 73391.0156 - val_loss: 591.5758 - val_mae: 591.5758 - val_mse: 1204122.0000\n",
            "Epoch 89/100\n",
            "70/70 [==============================] - 0s 2ms/step - loss: 114.8406 - mae: 114.8406 - mse: 73737.7734 - val_loss: 954.4358 - val_mae: 954.4358 - val_mse: 2280789.0000\n",
            "Epoch 90/100\n",
            "70/70 [==============================] - 0s 2ms/step - loss: 114.3806 - mae: 114.3806 - mse: 71051.2266 - val_loss: 615.2812 - val_mae: 615.2812 - val_mse: 1252768.6250\n",
            "Epoch 91/100\n",
            "70/70 [==============================] - 0s 2ms/step - loss: 112.4068 - mae: 112.4068 - mse: 72306.9062 - val_loss: 571.2299 - val_mae: 571.2299 - val_mse: 1175127.6250\n",
            "Epoch 92/100\n",
            "70/70 [==============================] - 0s 3ms/step - loss: 106.3950 - mae: 106.3950 - mse: 69445.5469 - val_loss: 596.7330 - val_mae: 596.7330 - val_mse: 1234118.5000\n",
            "Epoch 93/100\n",
            "70/70 [==============================] - 0s 2ms/step - loss: 109.5910 - mae: 109.5910 - mse: 70285.7344 - val_loss: 597.8359 - val_mae: 597.8359 - val_mse: 1242838.0000\n",
            "Epoch 94/100\n",
            "70/70 [==============================] - 0s 3ms/step - loss: 110.0569 - mae: 110.0569 - mse: 70540.2656 - val_loss: 611.2112 - val_mae: 611.2112 - val_mse: 1278119.8750\n",
            "Epoch 95/100\n",
            "70/70 [==============================] - 0s 3ms/step - loss: 113.4364 - mae: 113.4364 - mse: 71356.7734 - val_loss: 670.4014 - val_mae: 670.4014 - val_mse: 1415456.7500\n",
            "Epoch 96/100\n",
            "70/70 [==============================] - 0s 2ms/step - loss: 121.5526 - mae: 121.5526 - mse: 79749.4062 - val_loss: 570.8530 - val_mae: 570.8530 - val_mse: 1176224.1250\n",
            "Epoch 97/100\n",
            "70/70 [==============================] - 0s 2ms/step - loss: 109.0606 - mae: 109.0606 - mse: 70029.1797 - val_loss: 592.1931 - val_mae: 592.1931 - val_mse: 1228154.7500\n",
            "Epoch 98/100\n",
            "70/70 [==============================] - 0s 2ms/step - loss: 111.1874 - mae: 111.1874 - mse: 70206.7969 - val_loss: 571.6942 - val_mae: 571.6942 - val_mse: 1169699.8750\n",
            "Epoch 99/100\n",
            "70/70 [==============================] - 0s 2ms/step - loss: 110.4393 - mae: 110.4393 - mse: 69237.9141 - val_loss: 592.7149 - val_mae: 592.7149 - val_mse: 1226247.3750\n",
            "Epoch 100/100\n",
            "70/70 [==============================] - 0s 2ms/step - loss: 115.1739 - mae: 115.1739 - mse: 75614.7266 - val_loss: 620.0004 - val_mae: 620.0004 - val_mse: 1261571.6250\n"
          ]
        },
        {
          "output_type": "execute_result",
          "data": {
            "text/plain": [
              "<keras.callbacks.History at 0x7ff5314cf7d0>"
            ]
          },
          "metadata": {},
          "execution_count": 35
        }
      ]
    },
    {
      "cell_type": "code",
      "source": [
        "#Evaluate model on test data\n",
        "model1.evaluate(test_windows,test_labels)"
      ],
      "metadata": {
        "colab": {
          "base_uri": "https://localhost:8080/"
        },
        "id": "XO5vgr8iIqpz",
        "outputId": "8f9fc9c0-2ab6-4212-ab22-ccd44d704737"
      },
      "execution_count": 36,
      "outputs": [
        {
          "output_type": "stream",
          "name": "stdout",
          "text": [
            "18/18 [==============================] - 0s 1ms/step - loss: 620.0004 - mae: 620.0004 - mse: 1261571.6250\n"
          ]
        },
        {
          "output_type": "execute_result",
          "data": {
            "text/plain": [
              "[620.0004272460938, 620.0004272460938, 1261571.625]"
            ]
          },
          "metadata": {},
          "execution_count": 36
        }
      ]
    },
    {
      "cell_type": "code",
      "source": [
        "\n",
        "# Load in saved best performing model_1 and evaluate it on test data\n",
        "model1 = tf.keras.models.load_model(\"model_experiments/model1_dense/\")\n",
        "model1.evaluate(test_windows, test_labels)"
      ],
      "metadata": {
        "colab": {
          "base_uri": "https://localhost:8080/"
        },
        "id": "FA-_b2UWKb5D",
        "outputId": "abd71209-888f-4515-b23a-ddfc359a6120"
      },
      "execution_count": 37,
      "outputs": [
        {
          "output_type": "stream",
          "name": "stdout",
          "text": [
            "18/18 [==============================] - 0s 2ms/step - loss: 566.0778 - mae: 566.0778 - mse: 1162612.6250\n"
          ]
        },
        {
          "output_type": "execute_result",
          "data": {
            "text/plain": [
              "[566.0777587890625, 566.0777587890625, 1162612.625]"
            ]
          },
          "metadata": {},
          "execution_count": 37
        }
      ]
    },
    {
      "cell_type": "markdown",
      "source": [
        "##Making forecasts with a model (on the test dataset)\n",
        "\n",
        "To make \"forecasts\" on the test dataset (note: these won't be actual forecasts, they're only psuedo forecasts because actual forecasts are into the future), "
      ],
      "metadata": {
        "id": "Au3MZ62pveoq"
      }
    },
    {
      "cell_type": "code",
      "source": [
        "def make_preds(model,input_data):\n",
        "  \"\"\"\n",
        "  Uses model to make predictions input_data.\n",
        "  \"\"\"\n",
        "  forecast = model.predict(input_data)\n",
        "  return tf.squeeze(forecast) # return 1D array of predictions"
      ],
      "metadata": {
        "id": "dsVZqMSuvdFr"
      },
      "execution_count": 38,
      "outputs": []
    },
    {
      "cell_type": "code",
      "source": [
        "# Make predictions using model_1 on the test dataset and view results\n",
        "model_1_preds = make_preds(model1, test_windows) \n",
        "len(model1_preds), model_1_preds[:10]"
      ],
      "metadata": {
        "colab": {
          "base_uri": "https://localhost:8080/"
        },
        "id": "bz8S85FhwHnP",
        "outputId": "c2ebd606-16f0-46bd-ec2d-14f8a61b1082"
      },
      "execution_count": 48,
      "outputs": [
        {
          "output_type": "execute_result",
          "data": {
            "text/plain": [
              "(556, <tf.Tensor: shape=(10,), dtype=float32, numpy=\n",
              " array([8840.653, 8756.397, 9020.476, 8772.42 , 8717.958, 8734.56 ,\n",
              "        8672.19 , 8500.442, 8449.073, 8516.008], dtype=float32)>)"
            ]
          },
          "metadata": {},
          "execution_count": 48
        }
      ]
    },
    {
      "cell_type": "code",
      "source": [
        "(test_labels).shape, model_1_preds.shape"
      ],
      "metadata": {
        "colab": {
          "base_uri": "https://localhost:8080/"
        },
        "id": "4rtTd-3Gwqim",
        "outputId": "182e27a6-d184-4f9b-f81e-80ade2e95647"
      },
      "execution_count": 49,
      "outputs": [
        {
          "output_type": "execute_result",
          "data": {
            "text/plain": [
              "((556, 1), TensorShape([556]))"
            ]
          },
          "metadata": {},
          "execution_count": 49
        }
      ]
    },
    {
      "cell_type": "markdown",
      "source": [
        "so here the shapes are diffrent so we have to remove extra dimension"
      ],
      "metadata": {
        "id": "5o0fZvjxwzH8"
      }
    },
    {
      "cell_type": "code",
      "source": [
        "tf.squeeze(test_labels).shape, model_1_preds.shape"
      ],
      "metadata": {
        "colab": {
          "base_uri": "https://localhost:8080/"
        },
        "id": "xCLiicjww-Cw",
        "outputId": "4a473879-3aa1-4959-cbf8-a87ff049d05c"
      },
      "execution_count": 50,
      "outputs": [
        {
          "output_type": "execute_result",
          "data": {
            "text/plain": [
              "(TensorShape([556]), TensorShape([556]))"
            ]
          },
          "metadata": {},
          "execution_count": 50
        }
      ]
    },
    {
      "cell_type": "code",
      "source": [
        "# Evaluate preds\n",
        "model1_results = evaluate_preds(y_true=tf.squeeze(test_labels),\n",
        "                                 y_pred=model1_preds)\n",
        "model1_results"
      ],
      "metadata": {
        "colab": {
          "base_uri": "https://localhost:8080/"
        },
        "id": "cj2nDCpYwVxc",
        "outputId": "6235b918-d557-4385-dc2d-ee386d269a1b"
      },
      "execution_count": 51,
      "outputs": [
        {
          "output_type": "execute_result",
          "data": {
            "text/plain": [
              "{'mae': 566.0778,\n",
              " 'mape': 2.5258012,\n",
              " 'mase': 0.9944419,\n",
              " 'mse': 1162613.1,\n",
              " 'rmse': 1078.2454}"
            ]
          },
          "metadata": {},
          "execution_count": 51
        }
      ]
    },
    {
      "cell_type": "markdown",
      "source": [
        "comparing with naive result"
      ],
      "metadata": {
        "id": "nrGo8CBwxVjs"
      }
    },
    {
      "cell_type": "code",
      "source": [
        "naive_results"
      ],
      "metadata": {
        "colab": {
          "base_uri": "https://localhost:8080/"
        },
        "id": "cpqQnqsSwVrg",
        "outputId": "86b7c146-5b37-4489-e0a7-00385307358e"
      },
      "execution_count": 52,
      "outputs": [
        {
          "output_type": "execute_result",
          "data": {
            "text/plain": [
              "{'mae': 567.9802,\n",
              " 'mape': 2.5165248,\n",
              " 'mase': 0.99957,\n",
              " 'mse': 1147547.0,\n",
              " 'rmse': 1071.2362}"
            ]
          },
          "metadata": {},
          "execution_count": 52
        }
      ]
    },
    {
      "cell_type": "code",
      "source": [
        "# Let's plot our model 1 predictions\n",
        "offset = 450\n",
        "plt.figure(figsize=(10, 7))\n",
        "# Account for the test_window offset and index into test_labels to ensure correct plotting\n",
        "plot_time_series(timesteps=X_test[-len(test_windows):], \n",
        "                 values=test_labels[:, 0], \n",
        "                 start=offset, \n",
        "                 label=\"Test Data\")\n",
        "\n",
        "plot_time_series(timesteps=X_test[-len(test_windows):],\n",
        "                 values=model_1_preds,\n",
        "                 start=offset, \n",
        "                 format=\"-\",\n",
        "                 label=\"model_1_preds\")"
      ],
      "metadata": {
        "colab": {
          "base_uri": "https://localhost:8080/",
          "height": 446
        },
        "id": "NWpM6jUQxX92",
        "outputId": "96198f63-1835-4dec-bb29-4ed50ab066a0"
      },
      "execution_count": 53,
      "outputs": [
        {
          "output_type": "display_data",
          "data": {
            "text/plain": [
              "<Figure size 720x504 with 1 Axes>"
            ],
            "image/png": "[encoded data removed]"
          },
          "metadata": {
            "needs_background": "light"
          }
        }
      ]
    },
    {
      "cell_type": "markdown",
      "source": [
        "#Model 2: Dense (window = 30, horizon = 1)\n"
      ],
      "metadata": {
        "id": "41H-VpFTx-ZF"
      }
    },
    {
      "cell_type": "code",
      "source": [
        "HORIZON=1## predict one step at a time (one day of Bitcoin prices)\n",
        "WINDOW_SIZE=30# use 30 timesteps in pas"
      ],
      "metadata": {
        "id": "X-kJBIU5x_Iz"
      },
      "execution_count": null,
      "outputs": []
    },
    {
      "cell_type": "code",
      "source": [
        "# Make windowed data with appropriate horizon and window sizes\n",
        "full_windows, full_labels = make_windows(prices, window_size=WINDOW_SIZE, horizon=HORIZON)\n",
        "len(full_windows), len(full_labels)"
      ],
      "metadata": {
        "colab": {
          "base_uri": "https://localhost:8080/"
        },
        "id": "7TKyKI__ydsX",
        "outputId": "70edc5fe-aa96-4127-998e-0078fad65bef"
      },
      "execution_count": 55,
      "outputs": [
        {
          "output_type": "execute_result",
          "data": {
            "text/plain": [
              "(2780, 2780)"
            ]
          },
          "metadata": {},
          "execution_count": 55
        }
      ]
    },
    {
      "cell_type": "code",
      "source": [
        "# Make train and testing windows\n",
        "train_windows, test_windows, train_labels, test_labels = make_train_test_splits(windows=full_windows,\n",
        "                                                                                labels=full_labels,\n",
        "                                                                                test_split=0.2)\n",
        "len(train_windows), len(test_windows), len(train_labels), len(test_labels)"
      ],
      "metadata": {
        "colab": {
          "base_uri": "https://localhost:8080/"
        },
        "id": "-xovK1PCymjn",
        "outputId": "9cbcc596-2624-431b-cb0a-7aeee6dc6f01"
      },
      "execution_count": 56,
      "outputs": [
        {
          "output_type": "execute_result",
          "data": {
            "text/plain": [
              "(2224, 556, 2224, 556)"
            ]
          },
          "metadata": {},
          "execution_count": 56
        }
      ]
    },
    {
      "cell_type": "code",
      "source": [
        "train_windows[:3],train_labels[:3]"
      ],
      "metadata": {
        "colab": {
          "base_uri": "https://localhost:8080/"
        },
        "id": "G-A8YtZUy4vZ",
        "outputId": "90c61117-2beb-4a31-bfe1-331d9eb422bc"
      },
      "execution_count": 59,
      "outputs": [
        {
          "output_type": "execute_result",
          "data": {
            "text/plain": [
              "(array([[123.65499, 125.455  , 108.58483, 118.67466, 121.33866, 120.65533,\n",
              "         121.795  ],\n",
              "        [125.455  , 108.58483, 118.67466, 121.33866, 120.65533, 121.795  ,\n",
              "         123.033  ],\n",
              "        [108.58483, 118.67466, 121.33866, 120.65533, 121.795  , 123.033  ,\n",
              "         124.049  ]]), array([[123.033  ],\n",
              "        [124.049  ],\n",
              "        [125.96116]]))"
            ]
          },
          "metadata": {},
          "execution_count": 59
        }
      ]
    },
    {
      "cell_type": "code",
      "source": [
        "tf.random.set_seed(42)\n",
        "\n",
        "# Create model\n",
        "model_2 = tf.keras.Sequential([\n",
        "  layers.Dense(128, activation=\"relu\"),\n",
        "  layers.Dense(HORIZON)\n",
        "], name=\"model_2_dense\")\n",
        "\n",
        "# Compile\n",
        "model_2.compile(loss=\"mae\",\n",
        "                optimizer=tf.keras.optimizers.Adam())\n",
        "\n",
        "# Fit\n",
        "model_2.fit(train_windows,\n",
        "            train_labels,\n",
        "            epochs=100,\n",
        "            batch_size=128,\n",
        "            verbose=0,\n",
        "            validation_data=(test_windows, test_labels),\n",
        "            callbacks=[create_model_checkpoint(model_name=model_2.name)])"
      ],
      "metadata": {
        "colab": {
          "base_uri": "https://localhost:8080/"
        },
        "id": "KmMCbyl9yvZ0",
        "outputId": "4373a60a-8ac9-42fc-9288-9d12df02b424"
      },
      "execution_count": 57,
      "outputs": [
        {
          "output_type": "execute_result",
          "data": {
            "text/plain": [
              "<keras.callbacks.History at 0x7ff52e6866d0>"
            ]
          },
          "metadata": {},
          "execution_count": 57
        }
      ]
    },
    {
      "cell_type": "code",
      "source": [
        "# Evaluate model 2 on test data\n",
        "model_2.evaluate(test_windows, test_labels)"
      ],
      "metadata": {
        "colab": {
          "base_uri": "https://localhost:8080/"
        },
        "id": "Q8VARdlsy2jb",
        "outputId": "98c2a873-7edc-4d1a-ff4d-4d80d72970cb"
      },
      "execution_count": 58,
      "outputs": [
        {
          "output_type": "stream",
          "name": "stdout",
          "text": [
            "18/18 [==============================] - 0s 2ms/step - loss: 662.5322\n"
          ]
        },
        {
          "output_type": "execute_result",
          "data": {
            "text/plain": [
              "662.5322265625"
            ]
          },
          "metadata": {},
          "execution_count": 58
        }
      ]
    },
    {
      "cell_type": "code",
      "source": [
        "# Load in the best performing model\n",
        "model_2 = tf.keras.models.load_model(\"model_experiments/model_2_dense/\")\n",
        "model_2.evaluate(test_windows, test_labels)"
      ],
      "metadata": {
        "colab": {
          "base_uri": "https://localhost:8080/"
        },
        "id": "tlozz-V3zkfT",
        "outputId": "ae6518a7-7cf8-469a-ed4a-49e27969026e"
      },
      "execution_count": 60,
      "outputs": [
        {
          "output_type": "stream",
          "name": "stdout",
          "text": [
            "18/18 [==============================] - 0s 3ms/step - loss: 568.5499\n"
          ]
        },
        {
          "output_type": "execute_result",
          "data": {
            "text/plain": [
              "568.5498657226562"
            ]
          },
          "metadata": {},
          "execution_count": 60
        }
      ]
    },
    {
      "cell_type": "code",
      "source": [
        "# Get forecast predictions\n",
        "model_2_preds = make_preds(model_2,\n",
        "                           input_data=test_windows)"
      ],
      "metadata": {
        "id": "VaIq4k0Bzn_D"
      },
      "execution_count": 61,
      "outputs": []
    },
    {
      "cell_type": "code",
      "source": [
        "# Evaluate results for model 2 predictions\n",
        "model_2_results = evaluate_preds(y_true=tf.squeeze(test_labels),\n",
        "                                 y_pred=model_2_preds)\n",
        "model_2_results"
      ],
      "metadata": {
        "colab": {
          "base_uri": "https://localhost:8080/"
        },
        "id": "rgTIjkdPzrf7",
        "outputId": "0bc98d87-50ed-4356-f0c5-8f54269915ee"
      },
      "execution_count": 62,
      "outputs": [
        {
          "output_type": "execute_result",
          "data": {
            "text/plain": [
              "{'mae': 568.5498,\n",
              " 'mape': 2.549229,\n",
              " 'mase': 0.99878454,\n",
              " 'mse': 1172587.6,\n",
              " 'rmse': 1082.8608}"
            ]
          },
          "metadata": {},
          "execution_count": 62
        }
      ]
    },
    {
      "cell_type": "code",
      "source": [
        "offset = 300\n",
        "plt.figure(figsize=(10, 7))\n",
        "# Account for test_window offset when plotting\n",
        "plot_time_series(timesteps=X_test[-len(test_windows):], values=test_labels[:, 0], start=offset, format=\"-\", label=\"Test Data\")\n",
        "plot_time_series(timesteps=X_test[-len(test_windows):], values=model_2_preds, start=offset, format=\"-\", label=\"model_2_preds\")"
      ],
      "metadata": {
        "colab": {
          "base_uri": "https://localhost:8080/",
          "height": 442
        },
        "id": "QCBnFMtnzurr",
        "outputId": "7e3e0f3d-22cb-4694-d0d5-3ef90a48af41"
      },
      "execution_count": 63,
      "outputs": [
        {
          "output_type": "display_data",
          "data": {
            "text/plain": [
              "<Figure size 720x504 with 1 Axes>"
            ],
            "image/png": "[encoded data removed]"
          },
          "metadata": {
            "needs_background": "light"
          }
        }
      ]
    }
  ]
}