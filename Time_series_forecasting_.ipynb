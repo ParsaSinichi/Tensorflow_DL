{
  "nbformat": 4,
  "nbformat_minor": 0,
  "metadata": {
    "colab": {
      "provenance": [],
      "collapsed_sections": [
        "78muxMobtxFo",
        "Z18SrFXwMXHE",
        "fGcL8Ie8MJ_3",
        "H_UE9aIZQFTq",
        "yWPCCRZbSTs2",
        "qAXZjHS_Fv0B",
        "Uf1nJg-5H2eW",
        "lLNNH0kzJ3oJ",
        "SLK7MSLgk6Cd",
        "of9zyLPEFWeT",
        "Pv2cZ04sGvtj",
        "yoRM2qpNH8fc",
        "Au3MZ62pveoq",
        "41H-VpFTx-ZF",
        "p_RlhMCpvdRl",
        "nzb_xaA-cEd1",
        "2AuPlFZAx5ov",
        "76BVDzRTzkwE",
        "54ff3R0lL0Vf",
        "_9DyWmn6KikN",
        "Pdp8Khq8SAiz",
        "KlAVcvhdrQVg",
        "0NahN0_4tS5e",
        "OoqDppvGWkzL",
        "9cyK5mH70J8U"
      ],
      "authorship_tag": "ABX9TyOIMH85yGobN/KKgwonCOWD",
      "include_colab_link": true
    },
    "kernelspec": {
      "name": "python3",
      "display_name": "Python 3"
    },
    "language_info": {
      "name": "python"
    },
    "gpuClass": "standard",
    "accelerator": "GPU"
  },
  "cells": [
    {
      "cell_type": "markdown",
      "metadata": {
        "id": "view-in-github",
        "colab_type": "text"
      },
      "source": [
        "<a href=\"https://colab.research.google.com/github/zlximon/Tensorflow_DL/blob/master/Time_series_forecasting_.ipynb\" target=\"_parent\"><img src=\"https://colab.research.google.com/assets/colab-badge.svg\" alt=\"Open In Colab\"/></a>"
      ]
    },
    {
      "cell_type": "markdown",
      "source": [
        "#Time series forcasting and bitpredict model"
      ],
      "metadata": {
        "id": "LLYXwOrMtfdr"
      }
    },
    {
      "cell_type": "markdown",
      "source": [
        "##get data"
      ],
      "metadata": {
        "id": "78muxMobtxFo"
      }
    },
    {
      "cell_type": "code",
      "execution_count": null,
      "metadata": {
        "id": "wiJndp2etYGB"
      },
      "outputs": [],
      "source": [
        "!wget https://raw.githubusercontent.com/mrdbourke/tensorflow-deep-learning/main/extras/BTC_USD_2013-10-01_2021-05-18-CoinDesk.csv\n"
      ]
    },
    {
      "cell_type": "code",
      "source": [
        "# Import with pandas\n",
        "import pandas as pd \n",
        "# Let's read in our Bitcoin data and parse the dates\n",
        "df = pd.read_csv(\"/content/BTC_USD_2013-10-01_2021-05-18-CoinDesk.csv\",\n",
        "                 parse_dates=[\"Date\"],\n",
        "                 index_col=[\"Date\"]) # prase the date column and tell pandas column 1 is a datetime \n",
        "\n",
        "df.head()"
      ],
      "metadata": {
        "id": "g1FgcoLOuCMb"
      },
      "execution_count": null,
      "outputs": []
    },
    {
      "cell_type": "code",
      "source": [
        "df.info()"
      ],
      "metadata": {
        "id": "nioitgzNuzPI"
      },
      "execution_count": null,
      "outputs": []
    },
    {
      "cell_type": "code",
      "source": [
        "# Only want closing price for each day\n",
        "bitcoin_prices = pd.DataFrame(df[\"Closing Price (USD)\"]).rename(columns={\"Closing Price (USD)\": \"Price\"})\n",
        "bitcoin_prices.head()"
      ],
      "metadata": {
        "id": "l6PQ2Otku4Zo"
      },
      "execution_count": null,
      "outputs": []
    },
    {
      "cell_type": "markdown",
      "source": [
        "#Plotting model "
      ],
      "metadata": {
        "id": "Z18SrFXwMXHE"
      }
    },
    {
      "cell_type": "code",
      "source": [
        "import matplotlib.pyplot as plt\n",
        "bitcoin_prices.plot(figsize=(10, 7))\n",
        "plt.ylabel(\"BTC Price\")\n",
        "plt.title(\"Price of Bitcoin from 1 Oct 2013 to 18 May 2021\", fontsize=16)\n",
        "plt.legend(fontsize=14);"
      ],
      "metadata": {
        "id": "5m27YX--Lpc8"
      },
      "execution_count": null,
      "outputs": []
    },
    {
      "cell_type": "markdown",
      "source": [
        "#Plot the model with diffrent module"
      ],
      "metadata": {
        "id": "fGcL8Ie8MJ_3"
      }
    },
    {
      "cell_type": "code",
      "source": [
        "# Importing and formatting historical Bitcoin data with Python\n",
        "import csv\n",
        "from datetime import datetime\n",
        "\n",
        "timesteps = []\n",
        "btc_price = []\n",
        "with open(\"/content/BTC_USD_2013-10-01_2021-05-18-CoinDesk.csv\", \"r\") as f:\n",
        "  csv_reader = csv.reader(f, delimiter=\",\")\n",
        "  next(csv_reader) # skip first line (this gets rid of the column titles)\n",
        "  for line in csv_reader:\n",
        "    timesteps.append(datetime.strptime(line[1], \"%Y-%m-%d\")) # get the dates as dates (not strings)\n",
        "    btc_price.append(float(line[2])) # get the closing price as float\n",
        "\n",
        "# View first 10 of each\n",
        "timesteps[:10], btc_price[:10]"
      ],
      "metadata": {
        "id": "Q0tWvRW0MA_9"
      },
      "execution_count": null,
      "outputs": []
    },
    {
      "cell_type": "code",
      "source": [
        "# Plot from CSV\n",
        "import matplotlib.pyplot as plt\n",
        "# import numpy as np\n",
        "plt.figure(figsize=(10,7))\n",
        "plt.plot(timesteps, btc_price)\n",
        "plt.ylabel(\"BTC Price\")\n",
        "plt.title(\"Price of Bitcoin from 1 Oct 2013 to 18 May 2021\", fontsize=16)\n",
        "plt.xlabel(\"Date\");"
      ],
      "metadata": {
        "id": "PUVq3VFrMRj1"
      },
      "execution_count": null,
      "outputs": []
    },
    {
      "cell_type": "markdown",
      "source": [
        "#Create Data format "
      ],
      "metadata": {
        "id": "c7C0q9LvP66D"
      }
    },
    {
      "cell_type": "markdown",
      "source": [
        "##Create Data in the wrong way (data leakage )"
      ],
      "metadata": {
        "id": "H_UE9aIZQFTq"
      }
    },
    {
      "cell_type": "code",
      "source": [
        "#Get bitcoin data array\n",
        "timesteps=bitcoin_prices.index.to_numpy()\n",
        "prices=bitcoin_prices[\"Price\"].to_numpy()\n",
        "timesteps[:10],prices[:10]"
      ],
      "metadata": {
        "id": "mP2jFUJBQBkn"
      },
      "execution_count": null,
      "outputs": []
    },
    {
      "cell_type": "code",
      "source": [
        "#Wrong way to make train/test data\n",
        "from sklearn.model_selection import train_test_split\n",
        "\n",
        "X_train, X_test, y_train, y_test = train_test_split(timesteps, # dates\n",
        "                                                    prices, # BTC prices\n",
        "                                                    test_size=0.2,\n",
        "                                                    random_state=42)\n",
        "\n",
        "X_train.shape, X_test.shape, y_train.shape, y_test.shape\n",
        "#it splits data randomly and it is not good when we have date component "
      ],
      "metadata": {
        "id": "IkDX4GWtQqHD"
      },
      "execution_count": null,
      "outputs": []
    },
    {
      "cell_type": "code",
      "source": [
        "# Let's plot wrong train and test splits\n",
        "plt.figure(figsize=(10, 7))\n",
        "plt.scatter(X_train, y_train, s=5, label=\"Train data\")\n",
        "plt.scatter(X_test, y_test, s=5, label=\"Test data\")\n",
        "plt.xlabel(\"Date\")\n",
        "plt.ylabel(\"BTC Price\")\n",
        "plt.legend(fontsize=14)\n",
        "plt.show();"
      ],
      "metadata": {
        "id": "0L1hCYXLRHmO"
      },
      "execution_count": null,
      "outputs": []
    },
    {
      "cell_type": "markdown",
      "source": [
        "##Create Data in the right way"
      ],
      "metadata": {
        "id": "yWPCCRZbSTs2"
      }
    },
    {
      "cell_type": "code",
      "source": [
        "# Create train and test splits the right way for time series data\n",
        "\n",
        "split_size=int(0.8 * len(prices))# 80% train, 20% test \n",
        "# Create train data splits\n",
        "X_train,y_train=timesteps[:split_size],prices[:split_size]\n",
        "# Create test data splits\n",
        "X_test,y_test=timesteps[split_size:],prices[split_size:]\n",
        "len(X_train),len(X_test),len(y_train),len(y_test)"
      ],
      "metadata": {
        "id": "CrQGg6YbSTNI"
      },
      "execution_count": null,
      "outputs": []
    },
    {
      "cell_type": "code",
      "source": [
        "#Plot correctly splits\n",
        "plt.figure(figsize=(10,7))\n",
        "plt.scatter(X_train, y_train, s=5, label=\"Train data\")\n",
        "plt.scatter(X_test, y_test, s=5, label=\"Test data\")\n",
        "plt.xlabel(\"Date\")\n",
        "plt.ylabel(\"BTC Price\")\n",
        "plt.legend(fontsize=14)\n",
        "plt.show();"
      ],
      "metadata": {
        "id": "jgeKISNJTq5X"
      },
      "execution_count": null,
      "outputs": []
    },
    {
      "cell_type": "markdown",
      "source": [
        "#Create a Plotting function"
      ],
      "metadata": {
        "id": "qAXZjHS_Fv0B"
      }
    },
    {
      "cell_type": "code",
      "source": [
        "#Create a function to plot time series data\n",
        "def plot_time_series(timesteps, values, format=\".\", start=0, end=None, label=None):\n",
        "  \"\"\"\n",
        "  Plots timesteps (a series of points in time) against values (a series of values across timesteps).\n",
        "\n",
        "  Parameters\n",
        "  ----------\n",
        "  timesteps : array of timestep values\n",
        "  values : array of values across time\n",
        "  format : style of plot, default \".\"\n",
        "  start : where to start the plot (setting a value will index from start of timesteps & values)\n",
        "  end : where to end the plot (similar to start but for the end)\n",
        "  label : label to show on plot about values, default None \n",
        "  \"\"\"\n",
        "  # Plot the series\n",
        "  plt.plot(timesteps[start:end], values[start:end], format, label=label)\n",
        "  plt.xlabel(\"Time\")\n",
        "  plt.ylabel(\"BTC Price\")\n",
        "  if label:\n",
        "    plt.legend(fontsize=14) # make label bigger\n",
        "  plt.grid(True)"
      ],
      "metadata": {
        "id": "2tS6yNZIFybN"
      },
      "execution_count": null,
      "outputs": []
    },
    {
      "cell_type": "code",
      "source": [
        "# Test out plotting function\n",
        "plt.figure(figsize=(10, 7))\n",
        "plot_time_series(timesteps=X_train, values=y_train, label=\"Train data\")\n",
        "plot_time_series(timesteps=X_test, values=y_test, label=\"Test data\")"
      ],
      "metadata": {
        "id": "wvzGZxwKGHAA"
      },
      "execution_count": null,
      "outputs": []
    },
    {
      "cell_type": "code",
      "source": [],
      "metadata": {
        "id": "oVvDqJVkIRvM"
      },
      "execution_count": null,
      "outputs": []
    },
    {
      "cell_type": "markdown",
      "source": [
        "#Models \n",
        "* Horizon = number of timesteps into the future we're going to predict\n",
        "* Window size = number of timesteps we're going to use to predict horizon"
      ],
      "metadata": {
        "id": "Uf1nJg-5H2eW"
      }
    },
    {
      "cell_type": "markdown",
      "source": [
        "##Model 0 : Naive forecast(baseline)\n",
        "The prediction at timestep t (y-hat) is equal to the value at timestep t-1 (previous timestep) - this is for a horizon of 1."
      ],
      "metadata": {
        "id": "lLNNH0kzJ3oJ"
      }
    },
    {
      "cell_type": "code",
      "source": [
        "#Create a naive forecast \n",
        "naive_forecast=y_test[:-1]\n",
        "naive_forecast[:10],naive_forecast[-10:]"
      ],
      "metadata": {
        "id": "i9QDwoaQKI6i"
      },
      "execution_count": null,
      "outputs": []
    },
    {
      "cell_type": "code",
      "source": [
        "#Plot naive forecast\n",
        "plt.figure(figsize=(10,7))\n",
        "# plot_time_series(timesteps=X_train, values=y_train, label=\"Train data\")\n",
        "plot_time_series(timesteps=X_test, values=y_test, start=350, format=\"-\", label=\"Test data\")\n",
        "plot_time_series(timesteps=X_test[1:], values=naive_forecast, start=350, format=\"-\", label=\"Naive Forecast\")"
      ],
      "metadata": {
        "id": "6EQJeiolKrz-"
      },
      "execution_count": null,
      "outputs": []
    },
    {
      "cell_type": "code",
      "source": [
        "#Evaluatinig baseline Model\n",
        "import tensorflow as tf\n"
      ],
      "metadata": {
        "id": "tPxxvglUMk8w"
      },
      "execution_count": null,
      "outputs": []
    },
    {
      "cell_type": "code",
      "source": [
        "#MASE implementation \n",
        "def mean_absolute_scaled_error(y_true, y_pred):\n",
        "  \"\"\"\n",
        "  Implement MASE (assuming no seasonality of data).\n",
        "  \"\"\"\n",
        "  mae = tf.reduce_mean(tf.abs(y_true-y_pred))\n",
        "\n",
        "  # Find MAE of naive forecast (no seasonality)\n",
        "  mae_naive_no_season = tf.reduce_mean(tf.abs(y_true[1:] - y_true[:-1])) # our seasonality is 1 day (hence the shift of 1)\n",
        "\n",
        "  return mae / mae_naive_no_season"
      ],
      "metadata": {
        "id": "IWsvvmMWxWPo"
      },
      "execution_count": null,
      "outputs": []
    },
    {
      "cell_type": "code",
      "source": [
        "mean_absolute_scaled_error(y_true=y_test[1:],y_pred=naive_forecast).numpy()"
      ],
      "metadata": {
        "id": "yhtGucBEyC8I"
      },
      "execution_count": null,
      "outputs": []
    },
    {
      "cell_type": "code",
      "source": [
        "# Create a function to take in model predictions and truth values and return evaluation metrics\n",
        "def evaluate_preds(y_true, y_pred):\n",
        "  # Make sure float32 datatype (for metric calculations)\n",
        "  y_true = tf.cast(y_true, dtype=tf.float32)\n",
        "  y_pred = tf.cast(y_pred, dtype=tf.float32)\n",
        "\n",
        "  # Calculate various evaluation metrics \n",
        "  mae = tf.keras.metrics.mean_absolute_error(y_true, y_pred)\n",
        "  mse = tf.keras.metrics.mean_squared_error(y_true, y_pred)\n",
        "  rmse = tf.sqrt(mse)\n",
        "  mape = tf.keras.metrics.mean_absolute_percentage_error(y_true, y_pred)\n",
        "  mase = mean_absolute_scaled_error(y_true, y_pred)\n",
        "\n",
        "  return {\"mae\": mae.numpy(),\n",
        "          \"mse\": mse.numpy(),\n",
        "          \"rmse\": rmse.numpy(),\n",
        "          \"mape\": mape.numpy(),\n",
        "          \"mase\": mase.numpy()} "
      ],
      "metadata": {
        "id": "LqVHUK4Oyw-b"
      },
      "execution_count": null,
      "outputs": []
    },
    {
      "cell_type": "markdown",
      "source": [
        "let's test the function"
      ],
      "metadata": {
        "id": "maL-ZtBJzpg9"
      }
    },
    {
      "cell_type": "code",
      "source": [
        "#Testing model with diffrent evaluation\n",
        "naive_results = evaluate_preds(y_true=y_test[1:],\n",
        "                               y_pred=naive_forecast)\n",
        "\n",
        "naive_results"
      ],
      "metadata": {
        "id": "cHi-K7yKy47d"
      },
      "execution_count": null,
      "outputs": []
    },
    {
      "cell_type": "markdown",
      "source": [
        "#Format Data Part2 : woindowing our data \n",
        "We window our time series dataset to turn our data into a supervised learning problem."
      ],
      "metadata": {
        "id": "SLK7MSLgk6Cd"
      }
    },
    {
      "cell_type": "code",
      "source": [
        "# What we want to do with our Bitcoin data\n",
        "print(f\"We want to use: {btc_price[:7]} to predict this: {btc_price[7]}\")"
      ],
      "metadata": {
        "id": "zToAPsHElCzM"
      },
      "execution_count": null,
      "outputs": []
    },
    {
      "cell_type": "code",
      "source": [
        "# Let's setup global variables for window and horizon size\n",
        "HORIZON = 1 # predict next 1 day\n",
        "WINDOW_SIZE = 7 # use the past week of Bitcoin data to make the prediction"
      ],
      "metadata": {
        "id": "nbGtTOq7lkjv"
      },
      "execution_count": null,
      "outputs": []
    },
    {
      "cell_type": "code",
      "source": [
        "# Create function to label windowed data\n",
        "def get_labelled_windows(x, horizon=HORIZON):\n",
        "  \"\"\"\n",
        "  Creates labels for windowed dataset.\n",
        "\n",
        "  E.g. if horizon=1\n",
        "  Input: [0, 1, 2, 3, 4, 5, 6, 7] -> Output: ([0, 1, 2, 3, 4, 5, 6], [7])\n",
        "  \"\"\"\n",
        "  return x[:, :-horizon], x[:, -horizon:]"
      ],
      "metadata": {
        "id": "hg1C0nBQllNs"
      },
      "execution_count": null,
      "outputs": []
    },
    {
      "cell_type": "code",
      "source": [
        "# Test out the window labelling function\n",
        "test_window, test_label = get_labelled_windows(tf.expand_dims(tf.range(8), axis=0))\n",
        "print(f\"Window: {tf.squeeze(test_window).numpy()} -> Label: {tf.squeeze(test_label).numpy()}\")"
      ],
      "metadata": {
        "id": "byf21StxmmPL"
      },
      "execution_count": null,
      "outputs": []
    },
    {
      "cell_type": "code",
      "source": [
        "#Create function to view Numpy arrays as windows \n",
        "#Use NumPy indexing to create a 2D array of multiple window steps\n",
        "#Uses the 2D array of multiple window steps (from 2.) to index on a target series \n",
        "import numpy as np\n",
        "\n",
        "# Create function to view NumPy arrays as windows\n",
        "def make_windows(x, window_size=WINDOW_SIZE, horizon=HORIZON):\n",
        "  \"\"\"\n",
        "  Turns a 1D array into a 2D array of sequential labelled windows of window_size with horizon size labels.\n",
        "  \"\"\"\n",
        "  # 1. Create a window of specific window_size (add the horzion on the end for labelling later)\n",
        "  window_step = np.expand_dims(np.arange(window_size+horizon), axis=0)\n",
        "\n",
        "  # 2. Create a 2D array of multiple window steps (minus 1 to account for 0 indexing)\n",
        "  window_indexes = window_step + np.expand_dims(np.arange(len(x)-(window_size+horizon-1)), axis=0).T # create 2D array of windows of size window_size\n",
        "  # print(f\"Window indexes:\\n {window_indexes, window_indexes.shape}\")\n",
        "\n",
        "  # 3. Index on the target array (a time series) with 2D array of multiple window steps\n",
        "  windowed_array = x[window_indexes]\n",
        "  # print(windowed_array)\n",
        "\n",
        "  # 4. Get the labelled windows\n",
        "  windows, labels = get_labelled_windows(windowed_array, horizon=horizon)\n",
        "  return windows, labels"
      ],
      "metadata": {
        "id": "jG7lBUwqyLDD"
      },
      "execution_count": null,
      "outputs": []
    },
    {
      "cell_type": "code",
      "source": [
        "full_windows, full_labels = make_windows(prices, window_size=WINDOW_SIZE, horizon=HORIZON)\n",
        "len(full_windows), len(full_labels)"
      ],
      "metadata": {
        "id": "OM8SCKbP0ZKh"
      },
      "execution_count": null,
      "outputs": []
    },
    {
      "cell_type": "code",
      "source": [
        "# View the first 3 windows/labels\n",
        "for i in range(3):\n",
        "  print(f\"Window: {full_windows[i]} -> Label(horizon): {full_labels[i]}\")"
      ],
      "metadata": {
        "id": "drIjPxAu1Rns"
      },
      "execution_count": null,
      "outputs": []
    },
    {
      "cell_type": "code",
      "source": [
        "# View the last 3 windows/labels\n",
        "for i in range(3):\n",
        "  print(f\"Window: {full_windows[i-3]} -> Label(horizon): {full_labels[i-3]}\")"
      ],
      "metadata": {
        "id": "SXWA4Woj1SAk"
      },
      "execution_count": null,
      "outputs": []
    },
    {
      "cell_type": "markdown",
      "source": [
        "##Turning windows into training and test sets"
      ],
      "metadata": {
        "id": "of9zyLPEFWeT"
      }
    },
    {
      "cell_type": "code",
      "source": [
        "full_windows[:5],full_labels[:5]"
      ],
      "metadata": {
        "id": "n9_K8WLZFIqq"
      },
      "execution_count": null,
      "outputs": []
    },
    {
      "cell_type": "code",
      "source": [
        "# Make the train/test splits\n",
        "def make_train_test_splits(windows, labels, test_split=0.2):\n",
        "  \"\"\"\n",
        "  Splits matching pairs of winodws and labels into train and test splits.\n",
        "  \"\"\"\n",
        "  split_size = int(len(windows) * (1-test_split)) # this will default to 80% train/20% test\n",
        "  train_windows = windows[:split_size]\n",
        "  train_labels = labels[:split_size]\n",
        "  test_windows = windows[split_size:]\n",
        "  test_labels = labels[split_size:]\n",
        "  return train_windows, test_windows, train_labels, test_labels"
      ],
      "metadata": {
        "id": "7l_eyBmMFo3S"
      },
      "execution_count": null,
      "outputs": []
    },
    {
      "cell_type": "code",
      "source": [
        "#Create test and train windows\n",
        "train_windows, test_windows, train_labels, test_labels=make_train_test_splits(full_windows,full_labels)\n",
        "len(train_windows), len(test_windows), len(train_labels), len(test_labels)\n"
      ],
      "metadata": {
        "id": "Y33naplRGCST"
      },
      "execution_count": null,
      "outputs": []
    },
    {
      "cell_type": "code",
      "source": [
        "train_windows[:5],train_labels[:5]"
      ],
      "metadata": {
        "id": "-R6vzTVaGRqT"
      },
      "execution_count": null,
      "outputs": []
    },
    {
      "cell_type": "markdown",
      "source": [
        "##Make a model checkpoint callback"
      ],
      "metadata": {
        "id": "Pv2cZ04sGvtj"
      }
    },
    {
      "cell_type": "code",
      "source": [
        "import os\n",
        "\n",
        "# Create a function to implement a ModelCheckpoint callback with a specific filename \n",
        "def create_model_checkpoint(model_name, save_path=\"model_experiments\"):\n",
        "  return tf.keras.callbacks.ModelCheckpoint(filepath=os.path.join(save_path, model_name),\n",
        "                                            monitor=\"val_loss\",\n",
        "                                            verbose=0, # only output a limited amount of text\n",
        "                                            save_best_only=True)"
      ],
      "metadata": {
        "id": "M4xgx3vZHXk3"
      },
      "execution_count": null,
      "outputs": []
    },
    {
      "cell_type": "markdown",
      "source": [
        "#Model 1: Dense model (window = 7, horizon = 1)\n"
      ],
      "metadata": {
        "id": "yoRM2qpNH8fc"
      }
    },
    {
      "cell_type": "code",
      "source": [
        "import tensorflow as tf\n",
        "from tensorflow.keras import layers\n",
        "tf.random.set_seed(42)\n",
        "# 1. Construct model\n",
        "model1=tf.keras.Sequential([\n",
        "layers.Dense(128,activation=\"relu\"),\n",
        "layers.Dense(HORIZON, activation=\"linear\"), # linear activation is the same as having no activation               \n",
        "],name=\"model1_dense\")\n",
        "#Compile \n",
        "model1.compile(loss=tf.keras.losses.mae,optimizer=tf.keras.optimizers.Adam(),metrics=[\"mae\",\"mse\"])\n",
        "#Fit the model\n",
        "model1.fit(x=train_windows,y=train_labels,epochs=100,validation_data=(test_windows, test_labels),callbacks=[create_model_checkpoint(model_name=model1.name)])\n"
      ],
      "metadata": {
        "id": "RB-VOzI5H-c6"
      },
      "execution_count": null,
      "outputs": []
    },
    {
      "cell_type": "code",
      "source": [
        "#Evaluate model on test data\n",
        "model1.evaluate(test_windows,test_labels)"
      ],
      "metadata": {
        "id": "XO5vgr8iIqpz"
      },
      "execution_count": null,
      "outputs": []
    },
    {
      "cell_type": "code",
      "source": [
        "\n",
        "# Load in saved best performing model_1 and evaluate it on test data\n",
        "model1 = tf.keras.models.load_model(\"model_experiments/model1_dense/\")\n",
        "model1.evaluate(test_windows, test_labels)"
      ],
      "metadata": {
        "id": "FA-_b2UWKb5D"
      },
      "execution_count": null,
      "outputs": []
    },
    {
      "cell_type": "markdown",
      "source": [
        "##Making forecasts with a model (on the test dataset)\n",
        "\n",
        "To make \"forecasts\" on the test dataset (note: these won't be actual forecasts, they're only psuedo forecasts because actual forecasts are into the future), "
      ],
      "metadata": {
        "id": "Au3MZ62pveoq"
      }
    },
    {
      "cell_type": "code",
      "source": [
        "def make_preds(model,input_data):\n",
        "  \"\"\"\n",
        "  Uses model to make predictions input_data.\n",
        "  \"\"\"\n",
        "  forecast = model.predict(input_data)\n",
        "  return tf.squeeze(forecast) # return 1D array of predictions"
      ],
      "metadata": {
        "id": "dsVZqMSuvdFr"
      },
      "execution_count": null,
      "outputs": []
    },
    {
      "cell_type": "code",
      "source": [
        "# Make predictions using model_1 on the test dataset and view results\n",
        "model_1_preds = make_preds(model1, test_windows) \n",
        "len(model_1_preds), model_1_preds[:10]"
      ],
      "metadata": {
        "id": "bz8S85FhwHnP"
      },
      "execution_count": null,
      "outputs": []
    },
    {
      "cell_type": "code",
      "source": [
        "(test_labels).shape, model_1_preds.shape"
      ],
      "metadata": {
        "id": "4rtTd-3Gwqim"
      },
      "execution_count": null,
      "outputs": []
    },
    {
      "cell_type": "markdown",
      "source": [
        "so here the shapes are diffrent so we have to remove extra dimension"
      ],
      "metadata": {
        "id": "5o0fZvjxwzH8"
      }
    },
    {
      "cell_type": "code",
      "source": [
        "tf.squeeze(test_labels).shape, model_1_preds.shape"
      ],
      "metadata": {
        "id": "xCLiicjww-Cw"
      },
      "execution_count": null,
      "outputs": []
    },
    {
      "cell_type": "code",
      "source": [
        "# Evaluate preds\n",
        "model1_results = evaluate_preds(y_true=tf.squeeze(test_labels),\n",
        "                                 y_pred=model_1_preds)\n",
        "model1_results"
      ],
      "metadata": {
        "id": "cj2nDCpYwVxc"
      },
      "execution_count": null,
      "outputs": []
    },
    {
      "cell_type": "markdown",
      "source": [
        "comparing with naive result"
      ],
      "metadata": {
        "id": "nrGo8CBwxVjs"
      }
    },
    {
      "cell_type": "code",
      "source": [
        "naive_results"
      ],
      "metadata": {
        "id": "cpqQnqsSwVrg"
      },
      "execution_count": null,
      "outputs": []
    },
    {
      "cell_type": "code",
      "source": [
        "# Let's plot our model 1 predictions\n",
        "offset = 450\n",
        "plt.figure(figsize=(10, 7))\n",
        "# Account for the test_window offset and index into test_labels to ensure correct plotting\n",
        "plot_time_series(timesteps=X_test[-len(test_windows):], \n",
        "                 values=test_labels[:, 0], \n",
        "                 start=offset, \n",
        "                 label=\"Test Data\")\n",
        "\n",
        "plot_time_series(timesteps=X_test[-len(test_windows):],\n",
        "                 values=model_1_preds,\n",
        "                 start=offset, \n",
        "                 format=\"-\",\n",
        "                 label=\"model_1_preds\")"
      ],
      "metadata": {
        "id": "NWpM6jUQxX92"
      },
      "execution_count": null,
      "outputs": []
    },
    {
      "cell_type": "markdown",
      "source": [
        "#Model 2: Dense (window = 30, horizon = 1)\n"
      ],
      "metadata": {
        "id": "41H-VpFTx-ZF"
      }
    },
    {
      "cell_type": "code",
      "source": [
        "HORIZON=1## predict one step at a time (one day of Bitcoin prices)\n",
        "WINDOW_SIZE=30# use 30 timesteps in pas"
      ],
      "metadata": {
        "id": "X-kJBIU5x_Iz"
      },
      "execution_count": null,
      "outputs": []
    },
    {
      "cell_type": "code",
      "source": [
        "# Make windowed data with appropriate horizon and window sizes\n",
        "full_windows, full_labels = make_windows(prices, window_size=WINDOW_SIZE, horizon=HORIZON)\n",
        "len(full_windows), len(full_labels)"
      ],
      "metadata": {
        "colab": {
          "base_uri": "https://localhost:8080/"
        },
        "id": "7TKyKI__ydsX",
        "outputId": "eeec5d69-11de-4567-a209-8e571e014bb0"
      },
      "execution_count": null,
      "outputs": [
        {
          "output_type": "execute_result",
          "data": {
            "text/plain": [
              "(2757, 2757)"
            ]
          },
          "metadata": {},
          "execution_count": 46
        }
      ]
    },
    {
      "cell_type": "code",
      "source": [
        "# Make train and testing windows\n",
        "train_windows, test_windows, train_labels, test_labels = make_train_test_splits(windows=full_windows,\n",
        "                                                                                labels=full_labels,\n",
        "                                                                                test_split=0.2)\n",
        "len(train_windows), len(test_windows), len(train_labels), len(test_labels)"
      ],
      "metadata": {
        "colab": {
          "base_uri": "https://localhost:8080/"
        },
        "id": "-xovK1PCymjn",
        "outputId": "29079584-f4f7-4974-82d1-59b81f97777a"
      },
      "execution_count": null,
      "outputs": [
        {
          "output_type": "execute_result",
          "data": {
            "text/plain": [
              "(2205, 552, 2205, 552)"
            ]
          },
          "metadata": {},
          "execution_count": 47
        }
      ]
    },
    {
      "cell_type": "code",
      "source": [
        "train_windows[:3],train_labels[:3]"
      ],
      "metadata": {
        "colab": {
          "base_uri": "https://localhost:8080/"
        },
        "id": "G-A8YtZUy4vZ",
        "outputId": "52ce8c85-6f88-4094-e6da-c5d58d93b04c"
      },
      "execution_count": null,
      "outputs": [
        {
          "output_type": "execute_result",
          "data": {
            "text/plain": [
              "(array([[123.65499, 125.455  , 108.58483, 118.67466, 121.33866, 120.65533,\n",
              "         121.795  , 123.033  , 124.049  , 125.96116, 125.27966, 125.9275 ,\n",
              "         126.38333, 135.24199, 133.20333, 142.76333, 137.92333, 142.95166,\n",
              "         152.55183, 160.33883, 164.31499, 177.63333, 188.29716, 200.70166,\n",
              "         180.355  , 175.03166, 177.6965 , 187.15983, 192.75666, 197.4    ],\n",
              "        [125.455  , 108.58483, 118.67466, 121.33866, 120.65533, 121.795  ,\n",
              "         123.033  , 124.049  , 125.96116, 125.27966, 125.9275 , 126.38333,\n",
              "         135.24199, 133.20333, 142.76333, 137.92333, 142.95166, 152.55183,\n",
              "         160.33883, 164.31499, 177.63333, 188.29716, 200.70166, 180.355  ,\n",
              "         175.03166, 177.6965 , 187.15983, 192.75666, 197.4    , 196.02499],\n",
              "        [108.58483, 118.67466, 121.33866, 120.65533, 121.795  , 123.033  ,\n",
              "         124.049  , 125.96116, 125.27966, 125.9275 , 126.38333, 135.24199,\n",
              "         133.20333, 142.76333, 137.92333, 142.95166, 152.55183, 160.33883,\n",
              "         164.31499, 177.63333, 188.29716, 200.70166, 180.355  , 175.03166,\n",
              "         177.6965 , 187.15983, 192.75666, 197.4    , 196.02499, 198.04883]]),\n",
              " array([[196.02499],\n",
              "        [198.04883],\n",
              "        [198.93233]]))"
            ]
          },
          "metadata": {},
          "execution_count": 48
        }
      ]
    },
    {
      "cell_type": "code",
      "source": [
        "tf.random.set_seed(42)\n",
        "\n",
        "# Create model\n",
        "model_2 = tf.keras.Sequential([\n",
        "  layers.Dense(128, activation=\"relu\"),\n",
        "  layers.Dense(HORIZON)\n",
        "], name=\"model_2_dense\")\n",
        "\n",
        "# Compile\n",
        "model_2.compile(loss=\"mae\",\n",
        "                optimizer=tf.keras.optimizers.Adam())\n",
        "\n",
        "# Fit\n",
        "model_2.fit(train_windows,\n",
        "            train_labels,\n",
        "            epochs=100,\n",
        "            batch_size=128,\n",
        "            verbose=0,\n",
        "            validation_data=(test_windows, test_labels),\n",
        "            callbacks=[create_model_checkpoint(model_name=model_2.name)])"
      ],
      "metadata": {
        "colab": {
          "base_uri": "https://localhost:8080/"
        },
        "id": "KmMCbyl9yvZ0",
        "outputId": "659c15dd-184f-44c8-f726-9275c5ac7532"
      },
      "execution_count": null,
      "outputs": [
        {
          "output_type": "execute_result",
          "data": {
            "text/plain": [
              "<keras.callbacks.History at 0x7f7817357850>"
            ]
          },
          "metadata": {},
          "execution_count": 49
        }
      ]
    },
    {
      "cell_type": "code",
      "source": [
        "# Evaluate model 2 on test data\n",
        "model_2.evaluate(test_windows, test_labels)"
      ],
      "metadata": {
        "colab": {
          "base_uri": "https://localhost:8080/"
        },
        "id": "Q8VARdlsy2jb",
        "outputId": "65486557-ca71-4f9f-f590-b1c9bf9d199c"
      },
      "execution_count": null,
      "outputs": [
        {
          "output_type": "stream",
          "name": "stdout",
          "text": [
            "18/18 [==============================] - 0s 2ms/step - loss: 659.3332\n"
          ]
        },
        {
          "output_type": "execute_result",
          "data": {
            "text/plain": [
              "659.3331909179688"
            ]
          },
          "metadata": {},
          "execution_count": 50
        }
      ]
    },
    {
      "cell_type": "code",
      "source": [
        "# Load in the best performing model\n",
        "model_2 = tf.keras.models.load_model(\"model_experiments/model_2_dense/\")\n",
        "model_2.evaluate(test_windows, test_labels)"
      ],
      "metadata": {
        "colab": {
          "base_uri": "https://localhost:8080/"
        },
        "id": "tlozz-V3zkfT",
        "outputId": "3e9ed517-1087-4c2a-aefd-7377c686095e"
      },
      "execution_count": null,
      "outputs": [
        {
          "output_type": "stream",
          "name": "stdout",
          "text": [
            "18/18 [==============================] - 0s 2ms/step - loss: 605.8741\n"
          ]
        },
        {
          "output_type": "execute_result",
          "data": {
            "text/plain": [
              "605.8740844726562"
            ]
          },
          "metadata": {},
          "execution_count": 51
        }
      ]
    },
    {
      "cell_type": "code",
      "source": [
        "# Get forecast predictions\n",
        "model_2_preds = make_preds(model_2,\n",
        "                           input_data=test_windows)"
      ],
      "metadata": {
        "id": "VaIq4k0Bzn_D"
      },
      "execution_count": null,
      "outputs": []
    },
    {
      "cell_type": "code",
      "source": [
        "# Evaluate results for model 2 predictions\n",
        "model_2_results = evaluate_preds(y_true=tf.squeeze(test_labels),\n",
        "                                 y_pred=model_2_preds)\n",
        "model_2_results"
      ],
      "metadata": {
        "colab": {
          "base_uri": "https://localhost:8080/"
        },
        "id": "rgTIjkdPzrf7",
        "outputId": "e787043d-9318-4c07-801a-cf793dc8fc74"
      },
      "execution_count": null,
      "outputs": [
        {
          "output_type": "execute_result",
          "data": {
            "text/plain": [
              "{'mae': 605.8741,\n",
              " 'mse': 1273360.8,\n",
              " 'rmse': 1128.4329,\n",
              " 'mape': 2.726445,\n",
              " 'mase': 1.0590738}"
            ]
          },
          "metadata": {},
          "execution_count": 53
        }
      ]
    },
    {
      "cell_type": "code",
      "source": [
        "offset = 300\n",
        "plt.figure(figsize=(10, 7))\n",
        "# Account for test_window offset when plotting\n",
        "plot_time_series(timesteps=X_test[-len(test_windows):], values=test_labels[:, 0], start=offset, format=\"-\", label=\"Test Data\")\n",
        "plot_time_series(timesteps=X_test[-len(test_windows):], values=model_2_preds, start=offset, format=\"-\", label=\"model_2_preds\")"
      ],
      "metadata": {
        "id": "QCBnFMtnzurr",
        "outputId": "1dff0547-a2cb-4ef2-dbc7-606d4639f00f",
        "colab": {
          "base_uri": "https://localhost:8080/"
        }
      },
      "execution_count": null,
      "outputs": [
        {
          "output_type": "display_data",
          "data": {
            "text/plain": [
              "<Figure size 720x504 with 1 Axes>"
            ],
            "image/png": "[encoded data removed]"
          },
          "metadata": {
            "needs_background": "light"
          }
        }
      ]
    },
    {
      "cell_type": "markdown",
      "source": [
        "#Model 3: Dense (window = 30, horizon = 7)\n"
      ],
      "metadata": {
        "id": "p_RlhMCpvdRl"
      }
    },
    {
      "cell_type": "code",
      "source": [
        "HORIZON = 7\n",
        "WINDOW_SIZE = 30\n",
        "\n",
        "full_windows, full_labels = make_windows(prices, window_size=WINDOW_SIZE, horizon=HORIZON)\n",
        "len(full_windows), len(full_labels)"
      ],
      "metadata": {
        "colab": {
          "base_uri": "https://localhost:8080/"
        },
        "id": "g6PWo9c4vm70",
        "outputId": "84dd2115-e9e9-4362-baf2-9bff0fdc4f0e"
      },
      "execution_count": null,
      "outputs": [
        {
          "output_type": "execute_result",
          "data": {
            "text/plain": [
              "(2751, 2751)"
            ]
          },
          "metadata": {},
          "execution_count": 55
        }
      ]
    },
    {
      "cell_type": "code",
      "source": [
        "\n",
        "train_windows, test_windows, train_labels, test_labels = make_train_test_splits(windows=full_windows,\n",
        "                                                                                labels=full_labels)\n",
        "len(train_windows), len(test_windows), len(train_labels), len(test_labels)"
      ],
      "metadata": {
        "colab": {
          "base_uri": "https://localhost:8080/"
        },
        "id": "DoDoe1davs35",
        "outputId": "bbc56550-fcf8-4e3c-f60b-bdd3ba43cd13"
      },
      "execution_count": null,
      "outputs": [
        {
          "output_type": "execute_result",
          "data": {
            "text/plain": [
              "(2200, 551, 2200, 551)"
            ]
          },
          "metadata": {},
          "execution_count": 56
        }
      ]
    },
    {
      "cell_type": "code",
      "source": [
        "tf.random.set_seed(42)\n",
        "\n",
        "# Create model (same as model_1 except with different data input and output sizes)\n",
        "model_3 = tf.keras.Sequential([\n",
        "  layers.Dense(128, activation=\"relu\"),\n",
        "  layers.Dense(HORIZON)\n",
        "], name=\"model_3_dense\")\n",
        "\n",
        "# Compile\n",
        "model_3.compile(loss=\"MAE\",\n",
        "                optimizer=tf.keras.optimizers.Adam())\n",
        "\n",
        "# Fit\n",
        "model_3.fit(train_windows,\n",
        "            train_labels,\n",
        "            batch_size=128,\n",
        "            epochs=100,\n",
        "            verbose=0,\n",
        "            validation_data=(test_windows, test_labels),\n",
        "            callbacks=[create_model_checkpoint(model_name=model_3.name)])"
      ],
      "metadata": {
        "colab": {
          "base_uri": "https://localhost:8080/"
        },
        "id": "8Qq84AP-w9s-",
        "outputId": "c97e5008-ec4f-470b-df3b-b225579328a7"
      },
      "execution_count": null,
      "outputs": [
        {
          "output_type": "execute_result",
          "data": {
            "text/plain": [
              "<keras.callbacks.History at 0x7f78167fecd0>"
            ]
          },
          "metadata": {},
          "execution_count": 57
        }
      ]
    },
    {
      "cell_type": "code",
      "source": [
        "# Evaluate the model on the test data\n",
        "model_3.evaluate(test_windows, test_labels)"
      ],
      "metadata": {
        "colab": {
          "base_uri": "https://localhost:8080/"
        },
        "id": "Yqmq8Ip5w-ZC",
        "outputId": "75900280-6386-49f9-d97c-ada819743ae9"
      },
      "execution_count": null,
      "outputs": [
        {
          "output_type": "stream",
          "name": "stdout",
          "text": [
            "18/18 [==============================] - 0s 4ms/step - loss: 1300.1522\n"
          ]
        },
        {
          "output_type": "execute_result",
          "data": {
            "text/plain": [
              "1300.1522216796875"
            ]
          },
          "metadata": {},
          "execution_count": 58
        }
      ]
    },
    {
      "cell_type": "code",
      "source": [
        "# Load best version of model_3 and evaluate\n",
        "model_3 = tf.keras.models.load_model(\"model_experiments/model_3_dense\")\n",
        "model_3.evaluate(test_windows, test_labels)"
      ],
      "metadata": {
        "colab": {
          "base_uri": "https://localhost:8080/"
        },
        "id": "MHOpoUKnxE6p",
        "outputId": "8f6e1e76-56ad-4033-fcc7-b1e554f2c581"
      },
      "execution_count": null,
      "outputs": [
        {
          "output_type": "stream",
          "name": "stdout",
          "text": [
            "18/18 [==============================] - 0s 2ms/step - loss: 1237.5063\n"
          ]
        },
        {
          "output_type": "execute_result",
          "data": {
            "text/plain": [
              "1237.50634765625"
            ]
          },
          "metadata": {},
          "execution_count": 59
        }
      ]
    },
    {
      "cell_type": "code",
      "source": [
        "# Make predictions with model_3\n",
        "model_3_preds = make_preds(model_3,\n",
        "                           input_data=test_windows)\n",
        "model_3_preds[:5]"
      ],
      "metadata": {
        "colab": {
          "base_uri": "https://localhost:8080/"
        },
        "id": "s5VkyJT2xLHF",
        "outputId": "9b3a9d3d-5aba-42ec-f448-203791d62aab"
      },
      "execution_count": null,
      "outputs": [
        {
          "output_type": "execute_result",
          "data": {
            "text/plain": [
              "<tf.Tensor: shape=(5, 7), dtype=float32, numpy=\n",
              "array([[9004.694 , 9048.1   , 9425.09  , 9258.256 , 9495.797 , 9558.453 ,\n",
              "        9357.3545],\n",
              "       [8735.506 , 8840.303 , 9247.793 , 8885.601 , 9097.186 , 9174.327 ,\n",
              "        9156.818 ],\n",
              "       [8672.508 , 8782.387 , 9123.857 , 8770.371 , 9007.13  , 9003.869 ,\n",
              "        9042.725 ],\n",
              "       [8874.399 , 8784.74  , 9043.902 , 8943.052 , 9033.477 , 9176.489 ,\n",
              "        9039.677 ],\n",
              "       [8825.89  , 8777.44  , 8926.78  , 8870.179 , 9213.232 , 9268.156 ,\n",
              "        8942.487 ]], dtype=float32)>"
            ]
          },
          "metadata": {},
          "execution_count": 60
        }
      ]
    },
    {
      "cell_type": "markdown",
      "source": [
        "compare to the last model"
      ],
      "metadata": {
        "id": "iezPDcUlxR7g"
      }
    },
    {
      "cell_type": "code",
      "source": [
        "model_2_results"
      ],
      "metadata": {
        "colab": {
          "base_uri": "https://localhost:8080/"
        },
        "id": "DZldixNCxMbs",
        "outputId": "b6038703-33f7-48de-fe54-f84cbfb85d78"
      },
      "execution_count": null,
      "outputs": [
        {
          "output_type": "execute_result",
          "data": {
            "text/plain": [
              "{'mae': 605.8741,\n",
              " 'mse': 1273360.8,\n",
              " 'rmse': 1128.4329,\n",
              " 'mape': 2.726445,\n",
              " 'mase': 1.0590738}"
            ]
          },
          "metadata": {},
          "execution_count": 61
        }
      ]
    },
    {
      "cell_type": "code",
      "source": [
        "model_3_preds.shape, model_2_preds.shape, model_1_preds.shape\n"
      ],
      "metadata": {
        "colab": {
          "base_uri": "https://localhost:8080/"
        },
        "id": "Z3vWtQ_LxWeC",
        "outputId": "1cfe4a59-8c66-42e3-b8f4-c3bb7808acc8"
      },
      "execution_count": null,
      "outputs": [
        {
          "output_type": "execute_result",
          "data": {
            "text/plain": [
              "(TensorShape([551, 7]), TensorShape([552]), TensorShape([556]))"
            ]
          },
          "metadata": {},
          "execution_count": 62
        }
      ]
    },
    {
      "cell_type": "code",
      "source": [
        "# Evaluate model_3 results (these are going multi-dimensional because we're trying to predict more than one timestep at a time)\n",
        "model_3_results = evaluate_preds(y_true=tf.squeeze(test_labels),\n",
        "                                 y_pred=model_3_preds)\n",
        "model_3_results"
      ],
      "metadata": {
        "id": "4QuSb6GjxXyv",
        "outputId": "2a3b0d4c-b945-4e4f-ccb9-9ed1219ad6bf",
        "colab": {
          "base_uri": "https://localhost:8080/"
        }
      },
      "execution_count": null,
      "outputs": [
        {
          "output_type": "execute_result",
          "data": {
            "text/plain": [
              "{'mae': array([ 513.6056  ,  355.08328 ,  327.17075 ,  358.5106  ,  420.53293 ,\n",
              "         537.854   ,  545.6617  ,  485.9228  ,  584.49713 ,  687.38214 ,\n",
              "         836.2264  ,  755.1576  ,  731.4957  ,  775.3399  ,  567.95544 ,\n",
              "         266.80865 ,  188.80217 ,  188.10805 ,  253.095   ,  301.43256 ,\n",
              "         151.10721 ,  196.8148  ,  191.46178 ,  231.65031 ,  143.61125 ,\n",
              "         122.59089 ,  132.78871 ,  190.81174 ,  179.15994 ,  228.26004 ,\n",
              "         314.44022 ,  379.09235 ,  278.32526 ,  295.34702 ,  299.3852  ,\n",
              "         248.64983 ,  299.75668 ,  259.69434 ,  180.30531 ,  206.72922 ,\n",
              "         374.62863 ,  144.85086 ,  142.33635 ,  131.11613 ,   93.9412  ,\n",
              "          54.825542,   73.79555 ,  103.60121 ,  121.333916,  168.67278 ,\n",
              "         183.90945 ,  152.25307 ,  186.57199 ,  146.91273 ,  240.42912 ,\n",
              "         351.00656 ,  540.952   ,  549.1573  ,  521.2411  ,  526.8554  ,\n",
              "         453.36237 ,  257.9811  ,  277.2947  ,  301.8247  ,  455.718   ,\n",
              "         458.9603  ,  503.4438  ,  522.3119  ,  223.07631 ,  250.09529 ,\n",
              "         297.1437  ,  400.571   ,  495.7984  ,  364.33707 ,  283.3662  ,\n",
              "         325.59543 ,  238.21178 ,  318.97754 ,  460.77106 ,  651.0762  ,\n",
              "         835.88    ,  669.96454 ,  319.54507 ,  261.99442 ,  142.3923  ,\n",
              "         136.62863 ,  154.75223 ,  221.32617 ,  290.50406 ,  503.88406 ,\n",
              "         414.2602  ,  434.35742 ,  377.98785 ,  251.78947 ,  204.2832  ,\n",
              "         388.227   ,  360.65793 ,  493.80914 ,  614.8613  ,  754.70245 ,\n",
              "         533.77136 ,  378.98898 ,  280.49496 ,  339.48074 ,  413.1289  ,\n",
              "         452.87875 ,  550.5381  ,  634.5726  ,  935.5726  ,  931.60016 ,\n",
              "         881.2803  ,  426.39984 ,  179.45871 ,  121.66197 ,  160.43889 ,\n",
              "         372.07108 ,  341.85764 ,  476.52408 ,  618.3245  , 1038.8986  ,\n",
              "        1569.5028  , 2157.1199  , 1987.6077  , 2158.6108  , 2303.5608  ,\n",
              "        2662.9429  , 1405.5013  ,  728.30096 ,  351.70062 ,  322.03195 ,\n",
              "         493.94748 ,  435.4843  ,  565.5558  ,  350.11676 ,  289.0198  ,\n",
              "         251.21603 ,  409.05615 ,  342.20996 ,  320.8362  ,  330.88608 ,\n",
              "         357.84613 ,  335.94818 ,  206.10303 ,  544.3839  ,  700.00934 ,\n",
              "         468.91992 ,  404.49615 ,  172.80127 ,  308.33685 ,  210.47621 ,\n",
              "         318.9543  ,  486.1326  ,  428.8803  ,  533.91113 ,  433.78152 ,\n",
              "         396.89432 ,  138.40381 ,  189.96658 ,  170.39209 ,  181.54346 ,\n",
              "         282.88992 ,  264.3886  ,  250.6218  ,  240.33762 ,  276.95425 ,\n",
              "         326.0295  ,  489.6155  ,  686.2448  ,  526.9793  ,  603.01135 ,\n",
              "         825.3831  ,  871.0463  ,  990.0688  , 1090.0597  ,  560.2842  ,\n",
              "         310.52246 ,  371.39035 ,  348.45953 ,  355.73438 ,  429.56543 ,\n",
              "         581.2835  ,  550.52203 ,  635.4312  ,  913.404   ,  840.7183  ,\n",
              "         305.0357  ,  493.93332 ,  751.31824 ,  410.63434 ,  220.62459 ,\n",
              "         282.25446 ,  291.8527  ,  422.50375 ,  458.6543  ,  637.2352  ,\n",
              "         647.82324 ,  417.24496 ,  220.23703 ,  246.72209 ,  200.22922 ,\n",
              "         455.1494  ,  719.6059  ,  696.3024  ,  485.0996  ,  294.95285 ,\n",
              "         170.52371 ,  211.82478 ,  270.565   ,  189.89299 ,  171.21736 ,\n",
              "         366.44727 ,  231.96373 ,  318.78738 ,  273.79395 ,  358.5565  ,\n",
              "         412.2281  ,  512.3167  ,  185.43959 ,  196.38225 ,  200.006   ,\n",
              "         224.58664 ,  213.41978 ,  186.23926 ,  113.371376,  172.23228 ,\n",
              "         168.89857 ,  236.0957  ,  307.5971  ,  328.9389  ,  566.59625 ,\n",
              "         285.04395 ,  300.44965 ,  125.45299 ,  168.94322 ,  137.25851 ,\n",
              "         143.5039  ,  145.27791 ,  107.339424,   77.16225 ,  131.8711  ,\n",
              "         134.02023 ,  167.45773 ,  137.9216  ,  148.9135  ,  204.95508 ,\n",
              "         157.89746 ,  196.95242 ,  167.93918 ,  156.45605 ,  188.68094 ,\n",
              "         161.44127 ,   90.99763 ,  136.8411  ,  198.51701 ,  230.1381  ,\n",
              "         294.78336 ,  594.2425  ,  699.6479  ,  815.13574 ,  905.339   ,\n",
              "        1127.2997  , 1342.6945  , 1317.0691  ,  590.1681  ,  296.34515 ,\n",
              "         243.43625 ,  256.3983  ,  222.28459 ,  323.83832 ,   82.513115,\n",
              "         120.14384 ,  249.14914 ,  205.73592 ,  243.4548  ,  250.64803 ,\n",
              "         287.2762  ,  224.38142 ,  266.56    ,  221.51033 ,  218.49637 ,\n",
              "         272.42285 ,  279.5964  ,  252.58846 ,  381.565   ,  417.97086 ,\n",
              "         624.5573  ,  368.03738 ,  327.25488 ,  263.43973 ,  349.95285 ,\n",
              "         398.62515 ,  297.07407 ,  147.04924 ,  164.5431  ,  313.36343 ,\n",
              "         477.7482  ,  675.0409  ,  897.2679  , 1094.7103  , 1460.1776  ,\n",
              "        1398.586   ,  952.72516 ,  645.95886 ,  166.17899 ,  144.66895 ,\n",
              "         189.18289 ,  304.81332 ,  435.10602 ,  449.64398 ,  425.2437  ,\n",
              "         441.93597 ,  407.29465 ,  252.40388 ,  248.3697  ,  336.17105 ,\n",
              "         482.81055 ,  437.53082 ,  533.0868  ,  346.9795  ,  127.686806,\n",
              "         110.208145,  301.75113 ,  195.50545 ,  174.65164 ,  238.47098 ,\n",
              "         302.37164 ,  313.51743 ,  310.1296  ,  200.29855 ,  172.47307 ,\n",
              "         140.2302  ,  252.48549 ,  289.32437 ,  343.62094 ,  504.1179  ,\n",
              "         635.1342  ,  602.1302  ,  519.06055 ,  214.90262 ,  195.9117  ,\n",
              "         265.0371  ,  198.90123 ,  345.51285 ,  517.2228  ,  631.0296  ,\n",
              "         988.4247  , 1174.214   , 1196.2845  , 1253.9298  ,  526.0653  ,\n",
              "         210.31516 ,  215.27107 ,  169.86008 ,  283.78668 ,  269.76157 ,\n",
              "         228.6349  ,  186.64648 ,  410.54254 ,  601.2651  ,  618.1225  ,\n",
              "         768.7529  , 1158.5458  , 1232.8795  , 1254.4297  ,  423.0244  ,\n",
              "         390.0357  ,  367.23898 ,  209.55775 ,  530.22235 ,  821.3824  ,\n",
              "         812.3729  ,  741.1964  ,  953.4838  , 1258.9902  , 1844.932   ,\n",
              "        1605.2845  , 1112.7659  ,  594.18835 ,  549.7667  ,  632.5435  ,\n",
              "         829.2642  , 1103.2218  , 1130.1029  , 1033.3518  ,  878.5865  ,\n",
              "         595.40875 , 1115.6506  , 1371.1725  , 1385.2509  ,  387.5226  ,\n",
              "         303.74887 ,  495.12473 ,  719.5804  ,  648.90265 ,  766.1632  ,\n",
              "         683.23157 ,  596.4121  ,  523.09265 ,  577.3407  , 1337.6208  ,\n",
              "        2454.5964  , 2759.2344  , 3135.8762  , 3407.3806  , 3602.6335  ,\n",
              "        2527.157   , 1158.0999  ,  679.8432  ,  748.5586  , 1073.4869  ,\n",
              "        1217.7327  , 1459.5656  , 2502.731   , 3075.8247  , 3090.2878  ,\n",
              "        2564.758   , 2660.5317  , 2928.934   , 3690.556   , 3525.141   ,\n",
              "        4183.6694  , 5144.0674  , 4384.655   , 4164.9614  , 4431.0938  ,\n",
              "        3335.1216  , 3017.6858  , 2589.5396  , 4103.63    , 5582.0933  ,\n",
              "        5108.46    , 1382.9637  ,  953.5419  , 1081.6825  , 2483.1975  ,\n",
              "        2992.0547  , 3127.0942  , 2972.2747  , 3054.65    , 3283.713   ,\n",
              "        3617.3674  , 1170.2589  , 1074.1827  , 1059.317   , 1044.5404  ,\n",
              "        1060.622   , 2115.719   , 3569.8867  , 3474.3625  , 2448.0156  ,\n",
              "        2641.418   , 3188.602   , 4899.9146  , 5516.288   , 4635.486   ,\n",
              "        4677.034   , 5732.883   , 5866.738   , 8083.3403  , 5049.8286  ,\n",
              "        1476.2288  , 1873.3275  , 1219.0988  , 2324.073   , 2467.0083  ,\n",
              "        3005.0898  , 2805.0503  , 3688.254   , 2962.7136  , 3664.2388  ,\n",
              "        5618.684   , 6925.0967  , 9751.094   , 8790.821   , 5057.626   ,\n",
              "        2971.6848  , 1715.495   , 1125.7706  , 2201.4246  , 3969.4978  ,\n",
              "        2988.5083  , 2911.9285  , 2796.8672  , 3937.8806  , 5449.5894  ,\n",
              "        6395.021   , 6148.242   , 5437.6987  , 4291.8257  , 2362.3967  ,\n",
              "        1657.3405  , 1426.6367  , 1647.716   , 2730.3967  , 1813.7115  ,\n",
              "        2061.1519  , 3095.7227  , 4312.8096  , 5500.7266  , 5258.027   ,\n",
              "        5152.028   , 1331.4062  , 1634.4023  , 2493.4324  , 3957.951   ,\n",
              "        4499.2144  , 2215.846   , 2587.4119  , 1622.4397  ,  591.875   ,\n",
              "        1297.4727  , 1284.5983  ,  915.22766 ,  940.44977 , 1084.6584  ,\n",
              "         875.8979  , 1041.3549  , 2299.2478  , 3152.6003  , 3518.394   ,\n",
              "        2531.523   , 2682.573   , 3094.2917  , 3829.3364  , 5550.616   ,\n",
              "        7159.347   , 8820.524   , 8587.342   , 6777.815   , 5193.292   ,\n",
              "        4793.3384  , 2605.2544  , 1668.3605  , 2510.7192  , 4105.6826  ,\n",
              "        6278.392   , 4109.7534  , 1711.1166  , 2261.9832  , 2384.7534  ,\n",
              "        1246.6641  , 1672.8483  , 1103.1345  , 1743.3678  , 1608.4564  ,\n",
              "        1933.904   , 2742.3433  , 3945.3645  , 5765.941   , 6955.8433  ,\n",
              "        8107.708   ], dtype=float32),\n",
              " 'mse': array([3.15562562e+05, 1.69165047e+05, 1.44132125e+05, 1.76003203e+05,\n",
              "        2.63520344e+05, 3.91517562e+05, 3.99526312e+05, 3.44422156e+05,\n",
              "        4.93892469e+05, 6.88786438e+05, 9.18702875e+05, 8.00988562e+05,\n",
              "        6.35508625e+05, 6.45535812e+05, 3.57740594e+05, 1.03007414e+05,\n",
              "        5.33133125e+04, 4.65832500e+04, 1.10349016e+05, 1.11646961e+05,\n",
              "        4.35359453e+04, 5.45391523e+04, 4.55849648e+04, 7.64883672e+04,\n",
              "        4.03074453e+04, 2.71076816e+04, 1.90269824e+04, 4.55625742e+04,\n",
              "        4.25344805e+04, 6.63250156e+04, 1.16741703e+05, 1.69440422e+05,\n",
              "        1.10487078e+05, 1.59708266e+05, 1.61630891e+05, 1.23861797e+05,\n",
              "        1.50757406e+05, 1.31196844e+05, 5.50280977e+04, 6.28156445e+04,\n",
              "        1.77474219e+05, 2.68842363e+04, 2.53034434e+04, 2.58045059e+04,\n",
              "        1.34594688e+04, 3.88201562e+03, 9.22790527e+03, 1.22403125e+04,\n",
              "        2.20870137e+04, 3.60827500e+04, 4.87961602e+04, 3.74652578e+04,\n",
              "        4.10563711e+04, 4.17419023e+04, 1.10490461e+05, 2.00761453e+05,\n",
              "        3.48149906e+05, 3.58061312e+05, 3.28374031e+05, 2.96505938e+05,\n",
              "        2.33353781e+05, 1.54046734e+05, 1.43171641e+05, 1.62586703e+05,\n",
              "        2.96452750e+05, 2.66880969e+05, 2.94188594e+05, 3.10067562e+05,\n",
              "        6.27178242e+04, 8.63872109e+04, 9.69540391e+04, 2.01815250e+05,\n",
              "        2.97054594e+05, 2.00675078e+05, 1.27305445e+05, 1.32510266e+05,\n",
              "        8.46021406e+04, 1.74816797e+05, 2.95114281e+05, 4.75889719e+05,\n",
              "        7.21893438e+05, 4.62710188e+05, 1.33154703e+05, 8.13637656e+04,\n",
              "        3.43107852e+04, 3.45205547e+04, 5.36855352e+04, 7.42412188e+04,\n",
              "        1.09339258e+05, 2.79682500e+05, 2.19119391e+05, 1.99934375e+05,\n",
              "        1.65902453e+05, 8.16736484e+04, 4.82389180e+04, 1.65301344e+05,\n",
              "        1.81698328e+05, 3.30645000e+05, 4.63627250e+05, 6.75045625e+05,\n",
              "        3.34911969e+05, 1.69344000e+05, 1.03219461e+05, 1.48348172e+05,\n",
              "        2.98685688e+05, 3.71952438e+05, 4.43305844e+05, 5.27905000e+05,\n",
              "        1.12945238e+06, 1.00652912e+06, 8.03246812e+05, 2.21277672e+05,\n",
              "        6.64889375e+04, 2.66179375e+04, 3.29691523e+04, 1.68663719e+05,\n",
              "        1.76257344e+05, 2.99364906e+05, 4.31794719e+05, 1.91346938e+06,\n",
              "        3.90354125e+06, 6.29502450e+06, 5.49042500e+06, 6.25677100e+06,\n",
              "        6.28618500e+06, 7.23876700e+06, 2.08143475e+06, 6.66785812e+05,\n",
              "        1.44640328e+05, 1.83413734e+05, 3.41025938e+05, 3.02068688e+05,\n",
              "        3.71339250e+05, 2.02418469e+05, 1.36150797e+05, 8.24756250e+04,\n",
              "        1.96007016e+05, 1.61595531e+05, 1.71401109e+05, 2.00606781e+05,\n",
              "        2.37199359e+05, 1.58720219e+05, 6.36029766e+04, 3.38904750e+05,\n",
              "        5.23524188e+05, 2.86211969e+05, 1.92325922e+05, 3.73764375e+04,\n",
              "        1.31962375e+05, 9.33164844e+04, 1.18443625e+05, 3.00599344e+05,\n",
              "        2.28997641e+05, 3.57954812e+05, 2.36219250e+05, 1.71530031e+05,\n",
              "        2.68483613e+04, 4.79165352e+04, 4.00421953e+04, 5.41032422e+04,\n",
              "        1.07641438e+05, 9.80018359e+04, 7.08349922e+04, 6.55987812e+04,\n",
              "        8.53739609e+04, 1.33836594e+05, 2.72516031e+05, 6.54133000e+05,\n",
              "        4.97211812e+05, 6.11189312e+05, 9.92908312e+05, 9.56691000e+05,\n",
              "        1.09541325e+06, 1.19283175e+06, 3.75002188e+05, 2.22053828e+05,\n",
              "        2.60620156e+05, 1.88108875e+05, 1.87927750e+05, 2.49059219e+05,\n",
              "        3.79191938e+05, 4.07706812e+05, 6.24782625e+05, 9.62080500e+05,\n",
              "        7.95344312e+05, 1.40557766e+05, 2.65226344e+05, 6.26270438e+05,\n",
              "        2.05804469e+05, 6.53086562e+04, 1.33562875e+05, 1.14691547e+05,\n",
              "        2.26913719e+05, 2.61227344e+05, 5.08516812e+05, 4.90744031e+05,\n",
              "        2.38722219e+05, 6.85554844e+04, 7.30579844e+04, 5.36114375e+04,\n",
              "        3.28222750e+05, 6.26447562e+05, 5.17733938e+05, 3.32536906e+05,\n",
              "        1.72656594e+05, 8.28139297e+04, 1.43392859e+05, 8.83170859e+04,\n",
              "        5.15845234e+04, 4.20796602e+04, 1.78049500e+05, 1.17351922e+05,\n",
              "        1.16870359e+05, 1.02416914e+05, 1.67489344e+05, 2.05509422e+05,\n",
              "        2.73222562e+05, 4.73887266e+04, 4.60582461e+04, 5.33724297e+04,\n",
              "        7.87067422e+04, 7.06484219e+04, 5.23134414e+04, 2.50282949e+04,\n",
              "        4.52028984e+04, 4.14731211e+04, 7.00108125e+04, 1.24132516e+05,\n",
              "        1.34167594e+05, 3.38401844e+05, 9.75608906e+04, 1.10023234e+05,\n",
              "        1.99198105e+04, 3.32736992e+04, 2.43713613e+04, 2.76616055e+04,\n",
              "        2.70386289e+04, 1.58114443e+04, 1.16168496e+04, 2.74853652e+04,\n",
              "        2.95268613e+04, 3.95873516e+04, 2.81845449e+04, 3.19157871e+04,\n",
              "        5.60373164e+04, 3.98339648e+04, 5.02200703e+04, 3.19762402e+04,\n",
              "        2.96142949e+04, 4.48334258e+04, 4.32264375e+04, 1.52424775e+04,\n",
              "        2.86075918e+04, 4.23484023e+04, 7.25031172e+04, 1.21924180e+05,\n",
              "        6.41490500e+05, 8.50461375e+05, 1.11135250e+06, 1.22003288e+06,\n",
              "        1.54110100e+06, 2.03451888e+06, 1.76440675e+06, 4.22098719e+05,\n",
              "        1.30513617e+05, 7.30579375e+04, 8.56106875e+04, 7.42399219e+04,\n",
              "        1.49466484e+05, 1.25624111e+04, 2.13100684e+04, 9.81801094e+04,\n",
              "        7.28017891e+04, 1.26064570e+05, 1.01337180e+05, 1.24553578e+05,\n",
              "        7.13406719e+04, 8.41950703e+04, 6.25290547e+04, 8.18796016e+04,\n",
              "        1.27303258e+05, 8.94661328e+04, 1.04101039e+05, 1.66147531e+05,\n",
              "        2.32076047e+05, 4.41966531e+05, 1.75839109e+05, 1.76445078e+05,\n",
              "        9.12171094e+04, 1.67975469e+05, 1.87876422e+05, 1.07636641e+05,\n",
              "        3.26579023e+04, 5.35408945e+04, 1.38144203e+05, 3.28639000e+05,\n",
              "        6.38893000e+05, 1.08279062e+06, 1.55802688e+06, 2.42137025e+06,\n",
              "        2.08980188e+06, 9.83022125e+05, 4.27434938e+05, 5.84014375e+04,\n",
              "        4.02858125e+04, 5.27582695e+04, 1.33694047e+05, 2.41685969e+05,\n",
              "        2.54570125e+05, 2.18475656e+05, 2.39844203e+05, 1.72919391e+05,\n",
              "        9.46134297e+04, 8.14814844e+04, 1.83792781e+05, 3.41631406e+05,\n",
              "        2.67091531e+05, 3.54821562e+05, 1.69607219e+05, 2.63052539e+04,\n",
              "        2.11335898e+04, 1.11685516e+05, 6.08848320e+04, 4.64013945e+04,\n",
              "        6.97663828e+04, 1.16935688e+05, 1.44631391e+05, 1.14627359e+05,\n",
              "        7.92805703e+04, 5.69165547e+04, 3.03999824e+04, 9.47754453e+04,\n",
              "        1.19674555e+05, 2.15399078e+05, 3.15528062e+05, 4.17612281e+05,\n",
              "        3.91753062e+05, 2.83128781e+05, 8.15815391e+04, 5.00838711e+04,\n",
              "        1.01595758e+05, 6.17700664e+04, 3.16725938e+05, 5.76747812e+05,\n",
              "        7.41102938e+05, 1.33218062e+06, 1.56516288e+06, 1.55553288e+06,\n",
              "        1.68517775e+06, 3.21848812e+05, 6.30701875e+04, 7.78368047e+04,\n",
              "        5.12543789e+04, 1.14444773e+05, 1.13520664e+05, 7.03018281e+04,\n",
              "        4.71100312e+04, 4.52435031e+05, 7.79104812e+05, 7.32537000e+05,\n",
              "        1.03909069e+06, 1.56208838e+06, 1.63956625e+06, 1.72790112e+06,\n",
              "        4.00524938e+05, 2.34607969e+05, 1.76724875e+05, 6.78014375e+04,\n",
              "        3.90380906e+05, 9.80138688e+05, 1.03536912e+06, 8.44671688e+05,\n",
              "        1.38894325e+06, 1.98340425e+06, 3.62835000e+06, 2.66920550e+06,\n",
              "        1.42116625e+06, 4.54600656e+05, 3.65966188e+05, 9.46591875e+05,\n",
              "        1.45184338e+06, 1.85899962e+06, 1.89930900e+06, 1.82373088e+06,\n",
              "        1.21286275e+06, 4.94639688e+05, 1.49650112e+06, 2.03091888e+06,\n",
              "        2.25657475e+06, 2.11181250e+05, 1.21395430e+05, 3.04310812e+05,\n",
              "        7.11903125e+05, 6.20310625e+05, 8.05388000e+05, 6.26904125e+05,\n",
              "        5.66389625e+05, 4.27519062e+05, 7.83490438e+05, 3.63024550e+06,\n",
              "        8.18037250e+06, 1.07676110e+07, 1.26563590e+07, 1.33500370e+07,\n",
              "        1.33957210e+07, 6.52510050e+06, 1.60696225e+06, 8.56755125e+05,\n",
              "        1.15616888e+06, 1.69268338e+06, 2.17123725e+06, 3.34217825e+06,\n",
              "        7.84993050e+06, 1.08378820e+07, 1.05727040e+07, 1.01602580e+07,\n",
              "        1.14205950e+07, 1.16179760e+07, 1.73510000e+07, 1.79301580e+07,\n",
              "        2.70626400e+07, 3.72665360e+07, 2.97687480e+07, 2.14580200e+07,\n",
              "        2.44065800e+07, 1.56006630e+07, 1.03771430e+07, 9.93532300e+06,\n",
              "        2.18889420e+07, 3.45002520e+07, 2.72495560e+07, 2.51544575e+06,\n",
              "        2.11410050e+06, 1.65101438e+06, 8.78065100e+06, 1.42263850e+07,\n",
              "        1.50277490e+07, 1.42628870e+07, 1.11521150e+07, 1.31385830e+07,\n",
              "        1.44270310e+07, 2.10808025e+06, 2.37276650e+06, 2.06520375e+06,\n",
              "        1.51271862e+06, 1.63592562e+06, 6.01036300e+06, 1.48181510e+07,\n",
              "        1.51462640e+07, 8.88826800e+06, 1.03656160e+07, 1.24236460e+07,\n",
              "        3.12300340e+07, 4.44121680e+07, 3.35616920e+07, 3.37025520e+07,\n",
              "        4.33024880e+07, 4.04648120e+07, 6.68120760e+07, 2.68143000e+07,\n",
              "        3.37227625e+06, 6.18198100e+06, 3.33603000e+06, 9.76003500e+06,\n",
              "        9.50540700e+06, 1.48300480e+07, 1.08089090e+07, 1.52812330e+07,\n",
              "        1.21298720e+07, 1.47111110e+07, 4.46197040e+07, 6.19226520e+07,\n",
              "        1.05739144e+08, 8.06071200e+07, 3.00356780e+07, 1.30779050e+07,\n",
              "        4.55989850e+06, 1.67929975e+06, 6.99428700e+06, 1.63486880e+07,\n",
              "        1.21498720e+07, 1.21798100e+07, 1.68979380e+07, 2.39387620e+07,\n",
              "        3.73065320e+07, 5.09610680e+07, 4.59522000e+07, 3.20003060e+07,\n",
              "        2.06371620e+07, 8.14506450e+06, 4.14795200e+06, 4.23500700e+06,\n",
              "        3.09785600e+06, 8.37916250e+06, 7.36109850e+06, 7.06096250e+06,\n",
              "        1.57310800e+07, 2.78767000e+07, 4.07340120e+07, 3.28521320e+07,\n",
              "        2.89016540e+07, 3.40229975e+06, 3.84223750e+06, 8.10805100e+06,\n",
              "        1.74778500e+07, 2.13824540e+07, 5.77503650e+06, 7.30699550e+06,\n",
              "        3.70580475e+06, 6.14523812e+05, 1.92766775e+06, 2.29575125e+06,\n",
              "        1.09031838e+06, 1.19422538e+06, 2.01535212e+06, 1.38584200e+06,\n",
              "        2.60915475e+06, 7.48125550e+06, 1.25728590e+07, 1.49188430e+07,\n",
              "        7.64712450e+06, 9.50859000e+06, 1.16537280e+07, 2.15389020e+07,\n",
              "        4.32745680e+07, 6.52255280e+07, 9.30124960e+07, 8.49971200e+07,\n",
              "        5.87007160e+07, 3.43533080e+07, 2.82686400e+07, 9.30442900e+06,\n",
              "        4.66935400e+06, 8.00186650e+06, 2.05975080e+07, 4.07234280e+07,\n",
              "        1.93118500e+07, 4.04351750e+06, 5.92505450e+06, 7.37347950e+06,\n",
              "        2.68488600e+06, 5.27761950e+06, 1.84824825e+06, 4.87236000e+06,\n",
              "        4.87888300e+06, 5.77537050e+06, 1.21702160e+07, 2.70199620e+07,\n",
              "        4.94704520e+07, 6.90301360e+07, 8.50554720e+07], dtype=float32),\n",
              " 'rmse': array([  561.7495  ,   411.29678 ,   379.64737 ,   419.52734 ,\n",
              "          513.3423  ,   625.7136  ,   632.08093 ,   586.8749  ,\n",
              "          702.77484 ,   829.9316  ,   958.48987 ,   894.9796  ,\n",
              "          797.1879  ,   803.45245 ,   598.1142  ,   320.9477  ,\n",
              "          230.89676 ,   215.83153 ,   332.18823 ,   334.13614 ,\n",
              "          208.65268 ,   233.5362  ,   213.50635 ,   276.5653  ,\n",
              "          200.76714 ,   164.6441  ,   137.93832 ,   213.45392 ,\n",
              "          206.23889 ,   257.53644 ,   341.67484 ,   411.6314  ,\n",
              "          332.39597 ,   399.63516 ,   402.03345 ,   351.94003 ,\n",
              "          388.2749  ,   362.21103 ,   234.58067 ,   250.6305  ,\n",
              "          421.2769  ,   163.96413 ,   159.07056 ,   160.6378  ,\n",
              "          116.014946,    62.30582 ,    96.06198 ,   110.63595 ,\n",
              "          148.617   ,   189.9546  ,   220.89853 ,   193.55943 ,\n",
              "          202.62372 ,   204.30835 ,   332.40106 ,   448.06412 ,\n",
              "          590.0423  ,   598.3822  ,   573.03925 ,   544.52356 ,\n",
              "          483.06705 ,   392.48788 ,   378.38028 ,   403.22043 ,\n",
              "          544.47473 ,   516.6052  ,   542.39154 ,   556.8371  ,\n",
              "          250.43527 ,   293.917   ,   311.37442 ,   449.23853 ,\n",
              "          545.02716 ,   447.9677  ,   356.7989  ,   364.0196  ,\n",
              "          290.86447 ,   418.111   ,   543.2442  ,   689.8476  ,\n",
              "          849.6431  ,   680.228   ,   364.9037  ,   285.24335 ,\n",
              "          185.2317  ,   185.79707 ,   231.70139 ,   272.4724  ,\n",
              "          330.66486 ,   528.85016 ,   468.1019  ,   447.1402  ,\n",
              "          407.31125 ,   285.786   ,   219.63359 ,   406.5727  ,\n",
              "          426.26086 ,   575.0174  ,   680.9018  ,   821.6116  ,\n",
              "          578.71576 ,   411.51428 ,   321.27786 ,   385.1599  ,\n",
              "          546.5214  ,   609.879   ,   665.81213 ,   726.5707  ,\n",
              "         1062.757   ,  1003.2593  ,   896.24036 ,   470.4016  ,\n",
              "          257.8545  ,   163.15005 ,   181.5741  ,   410.6869  ,\n",
              "          419.83014 ,   547.14246 ,   657.1109  ,  1383.2821  ,\n",
              "         1975.7382  ,  2508.9888  ,  2343.1655  ,  2501.3538  ,\n",
              "         2507.2266  ,  2690.4956  ,  1442.7178  ,   816.5695  ,\n",
              "          380.3161  ,   428.26828 ,   583.97424 ,   549.6077  ,\n",
              "          609.3761  ,   449.9094  ,   368.98618 ,   287.1857  ,\n",
              "          442.7268  ,   401.98947 ,   414.00616 ,   447.89148 ,\n",
              "          487.03116 ,   398.39706 ,   252.1963  ,   582.1553  ,\n",
              "          723.54974 ,   534.98785 ,   438.5498  ,   193.32986 ,\n",
              "          363.26624 ,   305.47745 ,   344.1564  ,   548.2694  ,\n",
              "          478.537   ,   598.2932  ,   486.0239  ,   414.16183 ,\n",
              "          163.85469 ,   218.89845 ,   200.10545 ,   232.60104 ,\n",
              "          328.08755 ,   313.05243 ,   266.14844 ,   256.1226  ,\n",
              "          292.18823 ,   365.83682 ,   522.03064 ,   808.7849  ,\n",
              "          705.13245 ,   781.78595 ,   996.4478  ,   978.10583 ,\n",
              "         1046.6199  ,  1092.1683  ,   612.3742  ,   471.22586 ,\n",
              "          510.5097  ,   433.7152  ,   433.50635 ,   499.05832 ,\n",
              "          615.7856  ,   638.5192  ,   790.4319  ,   980.857   ,\n",
              "          891.82074 ,   374.91034 ,   515.0013  ,   791.3725  ,\n",
              "          453.65677 ,   255.55559 ,   365.46252 ,   338.6614  ,\n",
              "          476.3546  ,   511.10403 ,   713.10364 ,   700.53125 ,\n",
              "          488.59207 ,   261.83102 ,   270.2924  ,   231.54144 ,\n",
              "          572.9073  ,   791.4844  ,   719.5373  ,   576.6601  ,\n",
              "          415.51965 ,   287.7741  ,   378.6725  ,   297.1819  ,\n",
              "          227.12227 ,   205.13327 ,   421.95914 ,   342.56665 ,\n",
              "          341.86307 ,   320.02643 ,   409.2546  ,   453.33148 ,\n",
              "          522.707   ,   217.68951 ,   214.61185 ,   231.02473 ,\n",
              "          280.5472  ,   265.7977  ,   228.72131 ,   158.20334 ,\n",
              "          212.60973 ,   203.6495  ,   264.59555 ,   352.32443 ,\n",
              "          366.28894 ,   581.72314 ,   312.34738 ,   331.6975  ,\n",
              "          141.13756 ,   182.4108  ,   156.1133  ,   166.31778 ,\n",
              "          164.43427 ,   125.74356 ,   107.78149 ,   165.78711 ,\n",
              "          171.83382 ,   198.9657  ,   167.88252 ,   178.6499  ,\n",
              "          236.72202 ,   199.58447 ,   224.09834 ,   178.81902 ,\n",
              "          172.08804 ,   211.73904 ,   207.90968 ,   123.46043 ,\n",
              "          169.13779 ,   205.78728 ,   269.26404 ,   349.17642 ,\n",
              "          800.93097 ,   922.20465 ,  1054.207   ,  1104.551   ,\n",
              "         1241.4109  ,  1426.3656  ,  1328.3097  ,   649.6912  ,\n",
              "          361.2667  ,   270.29233 ,   292.59305 ,   272.47003 ,\n",
              "          386.60898 ,   112.08216 ,   145.97968 ,   313.33704 ,\n",
              "          269.81805 ,   355.05573 ,   318.33502 ,   352.92148 ,\n",
              "          267.09674 ,   290.16385 ,   250.0581  ,   286.14612 ,\n",
              "          356.7958  ,   299.1089  ,   322.6469  ,   407.61197 ,\n",
              "          481.7427  ,   664.8056  ,   419.33173 ,   420.05365 ,\n",
              "          302.0217  ,   409.84808 ,   433.44714 ,   328.08023 ,\n",
              "          180.71498 ,   231.38905 ,   371.67755 ,   573.27045 ,\n",
              "          799.3078  ,  1040.5723  ,  1248.2095  ,  1556.0753  ,\n",
              "         1445.6147  ,   991.47473 ,   653.7851  ,   241.6639  ,\n",
              "          200.71326 ,   229.69168 ,   365.64197 ,   491.61566 ,\n",
              "          504.5494  ,   467.4138  ,   489.73892 ,   415.83575 ,\n",
              "          307.59296 ,   285.44962 ,   428.7106  ,   584.49243 ,\n",
              "          516.80896 ,   595.669   ,   411.83395 ,   162.18895 ,\n",
              "          145.37396 ,   334.19382 ,   246.74852 ,   215.40982 ,\n",
              "          264.13327 ,   341.9586  ,   380.30435 ,   338.56662 ,\n",
              "          281.56805 ,   238.5719  ,   174.35591 ,   307.8562  ,\n",
              "          345.9401  ,   464.11105 ,   561.7188  ,   646.2293  ,\n",
              "          625.9018  ,   532.09845 ,   285.62482 ,   223.79427 ,\n",
              "          318.74088 ,   248.53584 ,   562.78406 ,   759.43915 ,\n",
              "          860.87335 ,  1154.2013  ,  1251.0647  ,  1247.2101  ,\n",
              "         1298.1439  ,   567.3172  ,   251.13779 ,   278.99246 ,\n",
              "          226.3943  ,   338.29688 ,   336.92828 ,   265.14493 ,\n",
              "          217.04845 ,   672.6329  ,   882.6691  ,   855.8837  ,\n",
              "         1019.358   ,  1249.8353  ,  1280.4554  ,  1314.4965  ,\n",
              "          632.87036 ,   484.36346 ,   420.38657 ,   260.3871  ,\n",
              "          624.8047  ,   990.01953 ,  1017.5309  ,   919.0602  ,\n",
              "         1178.5343  ,  1408.3339  ,  1904.8229  ,  1633.7703  ,\n",
              "         1192.1268  ,   674.2408  ,   604.95135 ,   972.9295  ,\n",
              "         1204.9246  ,  1363.4513  ,  1378.1542  ,  1350.4558  ,\n",
              "         1101.3004  ,   703.3063  ,  1223.3156  ,  1425.1031  ,\n",
              "         1502.19    ,   459.54462 ,   348.41846 ,   551.64374 ,\n",
              "          843.7435  ,   787.598   ,   897.4341  ,   791.77277 ,\n",
              "          752.5886  ,   653.8494  ,   885.14996 ,  1905.3203  ,\n",
              "         2860.135   ,  3281.4038  ,  3557.5776  ,  3653.7703  ,\n",
              "         3660.0164  ,  2554.4275  ,  1267.6602  ,   925.61066 ,\n",
              "         1075.2529  ,  1301.0316  ,  1473.5118  ,  1828.1625  ,\n",
              "         2801.7727  ,  3292.0938  ,  3251.5696  ,  3187.5159  ,\n",
              "         3379.437   ,  3408.5151  ,  4165.453   ,  4234.4014  ,\n",
              "         5202.1763  ,  6104.6323  ,  5456.074   ,  4632.2803  ,\n",
              "         4940.3013  ,  3949.7673  ,  3221.3572  ,  3152.0347  ,\n",
              "         4678.562   ,  5873.6914  ,  5220.111   ,  1586.0157  ,\n",
              "         1453.9946  ,  1284.9181  ,  2963.2163  ,  3771.788   ,\n",
              "         3876.564   ,  3776.6238  ,  3339.4783  ,  3624.7183  ,\n",
              "         3798.2932  ,  1451.9229  ,  1540.3787  ,  1437.0817  ,\n",
              "         1229.9263  ,  1279.0331  ,  2451.6042  ,  3849.435   ,\n",
              "         3891.82    ,  2981.3198  ,  3219.5676  ,  3524.7192  ,\n",
              "         5588.384   ,  6664.2456  ,  5793.245   ,  5805.3896  ,\n",
              "         6580.4624  ,  6361.196   ,  8173.865   ,  5178.2524  ,\n",
              "         1836.3759  ,  2486.359   ,  1826.4802  ,  3124.1055  ,\n",
              "         3083.084   ,  3850.98    ,  3287.6904  ,  3909.1218  ,\n",
              "         3482.7966  ,  3835.5066  ,  6679.798   ,  7869.0947  ,\n",
              "        10282.954   ,  8978.146   ,  5480.4814  ,  3616.3386  ,\n",
              "         2135.3918  ,  1295.8779  ,  2644.6714  ,  4043.351   ,\n",
              "         3485.6667  ,  3489.9585  ,  4110.71    ,  4892.725   ,\n",
              "         6107.907   ,  7138.702   ,  6778.805   ,  5656.8813  ,\n",
              "         4542.8145  ,  2853.9558  ,  2036.6521  ,  2057.9133  ,\n",
              "         1760.0728  ,  2894.6782  ,  2713.1345  ,  2657.247   ,\n",
              "         3966.2424  ,  5279.839   ,  6382.3203  ,  5731.6777  ,\n",
              "         5376.026   ,  1844.5323  ,  1960.1626  ,  2847.4639  ,\n",
              "         4180.652   ,  4624.1167  ,  2403.1304  ,  2703.1455  ,\n",
              "         1925.0466  ,   783.91565 ,  1388.4048  ,  1515.1736  ,\n",
              "         1044.1831  ,  1092.8062  ,  1419.631   ,  1177.2179  ,\n",
              "         1615.2878  ,  2735.1882  ,  3545.8228  ,  3862.492   ,\n",
              "         2765.3435  ,  3083.6     ,  3413.7559  ,  4641.002   ,\n",
              "         6578.341   ,  8076.2324  ,  9644.299   ,  9219.388   ,\n",
              "         7661.639   ,  5861.1694  ,  5316.826   ,  3050.3162  ,\n",
              "         2160.8687  ,  2828.757   ,  4538.4478  ,  6381.491   ,\n",
              "         4394.525   ,  2010.8499  ,  2434.1433  ,  2715.415   ,\n",
              "         1638.5621  ,  2297.307   ,  1359.5029  ,  2207.3423  ,\n",
              "         2208.8193  ,  2403.2     ,  3488.5837  ,  5198.0728  ,\n",
              "         7033.5234  ,  8308.4375  ,  9222.552   ], dtype=float32),\n",
              " 'mape': array([ 5.860151  ,  4.087341  ,  3.775816  ,  4.187658  ,  4.978141  ,\n",
              "         6.448365  ,  6.614463  ,  6.061672  ,  7.5475917 ,  9.095924  ,\n",
              "        11.300206  , 10.396472  , 10.109089  , 10.697326  ,  7.8628473 ,\n",
              "         3.6872826 ,  2.5856361 ,  2.505005  ,  3.350452  ,  4.013581  ,\n",
              "         2.0036225 ,  2.639741  ,  2.6087885 ,  3.1609263 ,  1.9612128 ,\n",
              "         1.6679873 ,  1.7952282 ,  2.5901215 ,  2.4362576 ,  3.1327386 ,\n",
              "         4.3595424 ,  5.2856355 ,  3.940355  ,  4.3142247 ,  4.3733144 ,\n",
              "         3.6376853 ,  4.362979  ,  3.7757437 ,  2.6192946 ,  2.900764  ,\n",
              "         5.1501083 ,  2.0147362 ,  1.9706653 ,  1.8104146 ,  1.3007253 ,\n",
              "         0.7535146 ,  1.0192343 ,  1.4282731 ,  1.6741855 ,  2.3589702 ,\n",
              "         2.563099  ,  2.1327195 ,  2.597486  ,  2.0173275 ,  3.1387615 ,\n",
              "         4.5021305 ,  6.95963   ,  6.9602227 ,  6.5331383 ,  6.5757856 ,\n",
              "         5.610285  ,  3.0642028 ,  3.2473986 ,  3.484728  ,  5.2227206 ,\n",
              "         5.229478  ,  5.727937  ,  5.927383  ,  2.5284474 ,  2.8664036 ,\n",
              "         3.4308906 ,  4.68742   ,  5.841512  ,  4.309815  ,  3.3552845 ,\n",
              "         3.8162112 ,  2.7363582 ,  3.462369  ,  4.9716797 ,  7.0261016 ,\n",
              "         8.974979  ,  7.1678147 ,  3.4013336 ,  2.7761197 ,  1.5223246 ,\n",
              "         1.4535493 ,  1.6354663 ,  2.2527792 ,  2.9475605 ,  5.0738955 ,\n",
              "         4.103283  ,  4.2952995 ,  3.7052817 ,  2.4620771 ,  2.0132227 ,\n",
              "         3.84283   ,  3.6306522 ,  5.016277  ,  6.2794776 ,  7.757472  ,\n",
              "         5.4956765 ,  3.8907118 ,  2.854692  ,  3.5311143 ,  4.464893  ,\n",
              "         5.0162416 ,  6.125715  ,  7.129436  , 10.711449  , 10.664078  ,\n",
              "        10.087246  ,  4.893629  ,  2.0717275 ,  1.3628381 ,  1.8011156 ,\n",
              "         4.219881  ,  4.0556946 ,  5.744895  ,  7.49288   , 15.03298   ,\n",
              "        24.38847   , 35.428123  , 34.702423  , 39.8611    , 42.836586  ,\n",
              "        49.60461   , 26.081121  , 13.669951  ,  6.3608704 ,  5.4986424 ,\n",
              "         7.9925127 ,  6.8575373 ,  8.820604  ,  5.3112006 ,  4.5279126 ,\n",
              "         3.8704064 ,  6.2283874 ,  5.2470303 ,  5.1045527 ,  5.329427  ,\n",
              "         5.778973  ,  5.358489  ,  3.2211251 ,  8.1184435 , 10.231979  ,\n",
              "         6.726865  ,  5.757307  ,  2.404117  ,  4.2864566 ,  2.9776995 ,\n",
              "         4.4548492 ,  6.9262066 ,  6.1590796 ,  7.763828  ,  6.308203  ,\n",
              "         5.7371473 ,  1.9719498 ,  2.7191217 ,  2.399884  ,  2.5685852 ,\n",
              "         3.9529998 ,  3.6584735 ,  3.4535587 ,  3.301876  ,  3.794225  ,\n",
              "         4.310309  ,  6.4319797 ,  8.567103  ,  6.293656  ,  7.023875  ,\n",
              "         9.469172  ,  9.915057  , 11.217033  , 12.2806635 ,  6.209284  ,\n",
              "         3.2802799 ,  3.8508568 ,  3.6124706 ,  3.7172365 ,  4.6127863 ,\n",
              "         6.233847  ,  6.0376983 ,  7.135962  , 10.132261  ,  9.337389  ,\n",
              "         3.379456  ,  5.190334  ,  7.8229246 ,  4.2644997 ,  2.3285031 ,\n",
              "         3.0320892 ,  3.1225471 ,  4.5721936 ,  5.01346   ,  7.059326  ,\n",
              "         7.180871  ,  4.628824  ,  2.4294448 ,  2.6893463 ,  2.1346915 ,\n",
              "         4.670391  ,  7.4296794 ,  7.17774   ,  4.927452  ,  2.9697573 ,\n",
              "         1.7036037 ,  2.102083  ,  2.790086  ,  1.9540966 ,  1.7562671 ,\n",
              "         3.8170424 ,  2.4557264 ,  3.3356586 ,  2.8912692 ,  3.8006873 ,\n",
              "         4.3685207 ,  5.4371586 ,  1.969062  ,  2.0868657 ,  2.132989  ,\n",
              "         2.4014468 ,  2.2829754 ,  1.9878384 ,  1.212721  ,  1.8306261 ,\n",
              "         1.815668  ,  2.5207548 ,  3.292389  ,  3.5837169 ,  6.187771  ,\n",
              "         3.1184072 ,  3.2884552 ,  1.3740312 ,  1.8472781 ,  1.5017242 ,\n",
              "         1.56714   ,  1.5889238 ,  1.1630667 ,  0.83712757,  1.4223033 ,\n",
              "         1.4407552 ,  1.8029895 ,  1.4796977 ,  1.5990864 ,  2.2175858 ,\n",
              "         1.7130921 ,  2.1422648 ,  1.8232723 ,  1.7015604 ,  2.0563033 ,\n",
              "         1.7596658 ,  0.98229676,  1.4560665 ,  2.1070144 ,  2.4114134 ,\n",
              "         3.049994  ,  5.77384   ,  6.6185617 ,  7.4951463 ,  8.227665  ,\n",
              "        10.186892  , 11.928123  , 11.676128  ,  5.199712  ,  2.592971  ,\n",
              "         2.1249874 ,  2.23352   ,  1.9233074 ,  2.8466196 ,  0.7076641 ,\n",
              "         1.0350558 ,  2.1322331 ,  1.7789838 ,  2.1161134 ,  2.1635559 ,\n",
              "         2.4792883 ,  1.9270623 ,  2.2551286 ,  1.845722  ,  1.8112669 ,\n",
              "         2.2626755 ,  2.3515148 ,  2.1173391 ,  3.2111607 ,  3.5736072 ,\n",
              "         5.371579  ,  3.1869485 ,  2.8585389 ,  2.2958062 ,  3.0580983 ,\n",
              "         3.480608  ,  2.5900195 ,  1.2625039 ,  1.405033  ,  2.7622344 ,\n",
              "         4.3049507 ,  6.2830634 ,  8.513557  , 10.517092  , 14.161083  ,\n",
              "        13.64061   ,  9.3202505 ,  6.308069  ,  1.6300529 ,  1.3983192 ,\n",
              "         1.819187  ,  2.8875947 ,  4.0688186 ,  4.1736455 ,  3.9228578 ,\n",
              "         4.0472693 ,  3.7387352 ,  2.3069754 ,  2.3063276 ,  3.194118  ,\n",
              "         4.58959   ,  4.1579456 ,  5.0558167 ,  3.300565  ,  1.2102807 ,\n",
              "         1.0371053 ,  2.8088493 ,  1.8151473 ,  1.6353133 ,  2.235357  ,\n",
              "         2.8412092 ,  2.9520068 ,  2.918753  ,  1.8913219 ,  1.6178724 ,\n",
              "         1.2982846 ,  2.3039372 ,  2.6034815 ,  3.0176406 ,  4.4442587 ,\n",
              "         5.598941  ,  5.266943  ,  4.535595  ,  1.8671691 ,  1.7055051 ,\n",
              "         2.3196983 ,  1.7318262 ,  2.7897274 ,  4.062607  ,  4.8944464 ,\n",
              "         7.6816387 ,  9.1078005 ,  9.207179  ,  9.502261  ,  3.9754753 ,\n",
              "         1.5744743 ,  1.5996995 ,  1.242373  ,  2.077034  ,  1.9747171 ,\n",
              "         1.6764205 ,  1.3502657 ,  2.785835  ,  3.9915614 ,  4.0835915 ,\n",
              "         5.016293  ,  7.6388435 ,  8.078354  ,  8.109142  ,  2.6612601 ,\n",
              "         2.4994817 ,  2.2963908 ,  1.3040293 ,  3.2585542 ,  4.9145136 ,\n",
              "         4.7377963 ,  4.2538853 ,  5.3531504 ,  6.9800653 , 10.170471  ,\n",
              "         8.772198  ,  6.0037904 ,  3.184009  ,  3.0089974 ,  3.6370165 ,\n",
              "         4.774086  ,  6.289237  ,  6.4191914 ,  5.9040833 ,  4.996318  ,\n",
              "         3.190599  ,  5.85623   ,  7.181029  ,  7.211656  ,  2.021984  ,\n",
              "         1.591239  ,  2.6243281 ,  3.8534112 ,  3.5140622 ,  4.1405344 ,\n",
              "         3.6843975 ,  3.215591  ,  2.8228238 ,  2.88985   ,  6.2848916 ,\n",
              "        11.458008  , 12.342679  , 13.76467   , 14.824157  , 15.566195  ,\n",
              "        10.829551  ,  4.9278164 ,  2.8345594 ,  3.0226746 ,  4.31179   ,\n",
              "         4.720057  ,  5.5167937 ,  9.303037  , 11.212705  , 11.037068  ,\n",
              "         8.631594  ,  8.57773   ,  9.389047  , 11.49777   , 10.463529  ,\n",
              "        11.683611  , 13.823773  , 11.273861  , 10.80596   , 11.400708  ,\n",
              "         8.496614  ,  7.8893795 ,  7.1694746 , 11.423845  , 15.540586  ,\n",
              "        14.24639   ,  3.8430889 ,  2.5450244 ,  2.926231  ,  7.2883105 ,\n",
              "         8.999361  ,  9.586315  ,  9.271845  ,  9.42326   , 10.242951  ,\n",
              "        11.39661   ,  3.655802  ,  3.345456  ,  3.2290843 ,  3.1591043 ,\n",
              "         3.1852624 ,  6.141231  , 10.163144  ,  9.67394   ,  6.657334  ,\n",
              "         6.975822  ,  8.377455  , 12.24459   , 13.002367  , 10.547288  ,\n",
              "        10.269909  , 12.405405  , 12.598534  , 17.187767  , 10.616799  ,\n",
              "         3.0717638 ,  3.766271  ,  2.3915288 ,  4.426362  ,  4.6217604 ,\n",
              "         5.4785867 ,  5.115232  ,  6.8264303 ,  5.6151514 ,  7.090962  ,\n",
              "        11.599259  , 14.510158  , 20.67855   , 18.67078   , 10.813845  ,\n",
              "         6.3959217 ,  3.68131   ,  2.3239684 ,  4.4593644 ,  8.030946  ,\n",
              "         5.953289  ,  5.6428604 ,  5.137942  ,  7.162542  ,  9.831411  ,\n",
              "        11.2098    , 10.556693  ,  9.350714  ,  7.3507614 ,  3.9944015 ,\n",
              "         2.82334   ,  2.3929412 ,  2.8540525 ,  4.729087  ,  3.2363744 ,\n",
              "         3.681079  ,  5.66858   ,  8.005048  , 10.247122  ,  9.747851  ,\n",
              "         9.54604   ,  2.477174  ,  2.9854128 ,  4.34938   ,  6.88064   ,\n",
              "         7.7586837 ,  3.8011284 ,  4.4251747 ,  2.761091  ,  1.0093703 ,\n",
              "         2.242207  ,  2.2289233 ,  1.5868819 ,  1.6239101 ,  1.8814805 ,\n",
              "         1.5162615 ,  1.7166462 ,  3.759433  ,  5.0977936 ,  5.66472   ,\n",
              "         4.075431  ,  4.348674  ,  5.1419644 ,  6.6189804 ,  9.824003  ,\n",
              "        12.981379  , 16.388014  , 16.260683  , 13.2497835 , 10.180601  ,\n",
              "         9.383696  ,  5.121851  ,  3.2893925 ,  4.634884  ,  7.40683   ,\n",
              "        11.284326  ,  7.2873406 ,  3.019625  ,  4.0061307 ,  4.1726418 ,\n",
              "         2.2337658 ,  3.0054157 ,  1.9702908 ,  3.1211088 ,  2.7774823 ,\n",
              "         3.492497  ,  5.1419334 ,  7.6572046 , 11.470653  , 14.311554  ,\n",
              "        17.280172  ], dtype=float32),\n",
              " 'mase': 2.2020733}"
            ]
          },
          "metadata": {},
          "execution_count": 63
        }
      ]
    },
    {
      "cell_type": "markdown",
      "source": [
        "##Make our evaluation function work for larger horizons\n",
        "\n"
      ],
      "metadata": {
        "id": "nzb_xaA-cEd1"
      }
    },
    {
      "cell_type": "code",
      "source": [
        "def evaluate_preds(y_true, y_pred):\n",
        "  # Make sure float32 (for metric calculations)\n",
        "  y_true = tf.cast(y_true, dtype=tf.float32)\n",
        "  y_pred = tf.cast(y_pred, dtype=tf.float32)\n",
        "\n",
        "  # Calculate various metrics\n",
        "  mae = tf.keras.metrics.mean_absolute_error(y_true, y_pred)\n",
        "  mse = tf.keras.metrics.mean_squared_error(y_true, y_pred)\n",
        "  rmse = tf.sqrt(mse)\n",
        "  mape = tf.keras.metrics.mean_absolute_percentage_error(y_true, y_pred)\n",
        "  mase = mean_absolute_scaled_error(y_true, y_pred)\n",
        "\n",
        "  # Account for different sized metrics (for longer horizons, reduce to single number)\n",
        "  if mae.ndim > 0: # if mae isn't already a scalar, reduce it to one by aggregating tensors to mean\n",
        "    mae = tf.reduce_mean(mae)\n",
        "    mse = tf.reduce_mean(mse)\n",
        "    rmse = tf.reduce_mean(rmse)\n",
        "    mape = tf.reduce_mean(mape)\n",
        "    mase = tf.reduce_mean(mase)\n",
        "\n",
        "  return {\"mae\": mae.numpy(),\n",
        "          \"mse\": mse.numpy(),\n",
        "          \"rmse\": rmse.numpy(),\n",
        "          \"mape\": mape.numpy(),\n",
        "          \"mase\": mase.numpy()}"
      ],
      "metadata": {
        "id": "5pj9ZhYab5uu"
      },
      "execution_count": null,
      "outputs": []
    },
    {
      "cell_type": "code",
      "source": [
        "# Get model_3 results aggregated to single values\n",
        "model_3_results = evaluate_preds(y_true=tf.squeeze(test_labels),\n",
        "                                 y_pred=model_3_preds)\n",
        "model_3_results"
      ],
      "metadata": {
        "colab": {
          "base_uri": "https://localhost:8080/"
        },
        "id": "0WK31go0dlrA",
        "outputId": "b2d84f5c-3166-432a-ae16-e0a340ac2707"
      },
      "execution_count": null,
      "outputs": [
        {
          "output_type": "execute_result",
          "data": {
            "text/plain": [
              "{'mae': 1237.5065,\n",
              " 'mse': 5405198.5,\n",
              " 'rmse': 1425.7478,\n",
              " 'mape': 5.558879,\n",
              " 'mase': 2.2020733}"
            ]
          },
          "metadata": {},
          "execution_count": 65
        }
      ]
    },
    {
      "cell_type": "code",
      "source": [
        "offset = 300\n",
        "plt.figure(figsize=(10, 7))\n",
        "plot_time_series(timesteps=X_test[-len(test_windows):], values=test_labels[:, 0], start=offset, label=\"Test_data\")\n",
        "# Checking the shape of model_3_preds results in [n_test_samples, HORIZON] (this will screw up the plot)\n",
        "plot_time_series(timesteps=X_test[-len(test_windows):], values=model_3_preds, start=offset, label=\"model_3_preds\")"
      ],
      "metadata": {
        "id": "v_rjsaWpeBj3",
        "outputId": "b9f1126b-594d-4cbe-bfdd-485b6a2dd567",
        "colab": {
          "base_uri": "https://localhost:8080/"
        }
      },
      "execution_count": null,
      "outputs": [
        {
          "output_type": "display_data",
          "data": {
            "text/plain": [
              "<Figure size 720x504 with 1 Axes>"
            ],
            "image/png": "[encoded data removed]"
          },
          "metadata": {
            "needs_background": "light"
          }
        }
      ]
    },
    {
      "cell_type": "markdown",
      "source": [
        "#Comparing our models performance so far "
      ],
      "metadata": {
        "id": "2AuPlFZAx5ov"
      }
    },
    {
      "cell_type": "code",
      "source": [
        "import pandas as pd\n",
        "pd.DataFrame({\"naive\": naive_results[\"mae\"],\n",
        "              \"horizon_1_window_7\": model1_results[\"mae\"],\n",
        "              \"horizon_1_window_30\": model_2_results[\"mae\"],\n",
        "              \"horizon_7_window_30\": model_3_results[\"mae\"]}, index=[\"mae\"]).plot(figsize=(10, 7), kind=\"bar\");"
      ],
      "metadata": {
        "colab": {
          "base_uri": "https://localhost:8080/"
        },
        "id": "k9UvzpVwyO7r",
        "outputId": "8567fd91-d807-44d6-cfb8-733a174e7943"
      },
      "execution_count": null,
      "outputs": [
        {
          "output_type": "display_data",
          "data": {
            "text/plain": [
              "<Figure size 720x504 with 1 Axes>"
            ],
            "image/png": "[encoded data removed]"
          },
          "metadata": {
            "needs_background": "light"
          }
        }
      ]
    },
    {
      "cell_type": "markdown",
      "source": [
        "#Model 4: Conv1D\n",
        "Note : this model only works with tensorflow verison 2.7 "
      ],
      "metadata": {
        "id": "76BVDzRTzkwE"
      }
    },
    {
      "cell_type": "code",
      "source": [
        "#!pip install tensorflow==2.7.0"
      ],
      "metadata": {
        "id": "q6VNhrio9HNe"
      },
      "execution_count": null,
      "outputs": []
    },
    {
      "cell_type": "code",
      "source": [],
      "metadata": {
        "id": "DZL2E0yqWCYt"
      },
      "execution_count": null,
      "outputs": []
    },
    {
      "cell_type": "code",
      "source": [
        "HORIZON = 1 # predict next day of Bitcoin prices\n",
        "WINDOW_SIZE = 7 # use previous week worth data"
      ],
      "metadata": {
        "id": "2JOuXb6uzn7B"
      },
      "execution_count": null,
      "outputs": []
    },
    {
      "cell_type": "code",
      "source": [
        "# Create windowed data\n",
        "full_windows, full_labels = make_windows(prices, window_size=WINDOW_SIZE, horizon=HORIZON)\n",
        "len(full_windows), len(full_labels)"
      ],
      "metadata": {
        "colab": {
          "base_uri": "https://localhost:8080/"
        },
        "id": "jGFSZyUi0A0x",
        "outputId": "e01bd71a-7fc3-4964-c11f-02049ab7246c"
      },
      "execution_count": null,
      "outputs": [
        {
          "output_type": "execute_result",
          "data": {
            "text/plain": [
              "(2780, 2780)"
            ]
          },
          "metadata": {},
          "execution_count": 69
        }
      ]
    },
    {
      "cell_type": "code",
      "source": [
        "# Create train/test sets\n",
        "train_windows, test_windows, train_labels, test_labels = make_train_test_splits(full_windows, full_labels)\n",
        "len(train_windows), len(train_labels), len(test_windows), len(test_labels)"
      ],
      "metadata": {
        "colab": {
          "base_uri": "https://localhost:8080/"
        },
        "id": "KWux37Sk0F__",
        "outputId": "3e0bcfdd-5d84-4628-ae78-fcf7c13a7742"
      },
      "execution_count": null,
      "outputs": [
        {
          "output_type": "execute_result",
          "data": {
            "text/plain": [
              "(2224, 2224, 556, 556)"
            ]
          },
          "metadata": {},
          "execution_count": 70
        }
      ]
    },
    {
      "cell_type": "markdown",
      "source": [
        "**To use the Conv1D layer, we need an input shape of: (batch_size, timesteps, input_dim)...**\n",
        "\n"
      ],
      "metadata": {
        "id": "SYg0v9_81JFO"
      }
    },
    {
      "cell_type": "code",
      "source": [
        "# Check data input shape\n",
        "train_windows[0].shape # returns (WINDOW_SIZE, )"
      ],
      "metadata": {
        "colab": {
          "base_uri": "https://localhost:8080/"
        },
        "id": "d1_jHqAd1I6N",
        "outputId": "9607e9e9-54f7-4d29-ea55-c16d726be316"
      },
      "execution_count": null,
      "outputs": [
        {
          "output_type": "execute_result",
          "data": {
            "text/plain": [
              "(7,)"
            ]
          },
          "metadata": {},
          "execution_count": 71
        }
      ]
    },
    {
      "cell_type": "code",
      "source": [
        "# Before we pass our data to the Conv1D layer, we have to reshape it in order to make sure it works\n",
        "x = tf.constant(train_windows[0])\n",
        "x"
      ],
      "metadata": {
        "colab": {
          "base_uri": "https://localhost:8080/"
        },
        "id": "cqarA8pX1OgA",
        "outputId": "b75b9f3a-fade-4959-9065-1ef3badc20eb"
      },
      "execution_count": null,
      "outputs": [
        {
          "output_type": "execute_result",
          "data": {
            "text/plain": [
              "<tf.Tensor: shape=(7,), dtype=float64, numpy=\n",
              "array([123.65499, 125.455  , 108.58483, 118.67466, 121.33866, 120.65533,\n",
              "       121.795  ])>"
            ]
          },
          "metadata": {},
          "execution_count": 72
        }
      ]
    },
    {
      "cell_type": "code",
      "source": [
        "expand_dims_layer = layers.Lambda(lambda x: tf.expand_dims(x, axis=1)) # add an extra dimension for `input_dim`"
      ],
      "metadata": {
        "id": "uBAUf8bI1QD8"
      },
      "execution_count": null,
      "outputs": []
    },
    {
      "cell_type": "code",
      "source": [
        "# Test out our lambda layer\n",
        "print(f\"Original shape: {x.shape}\") # (WINDIW_SIZE)\n",
        "print(f\"Expanded shape: {expand_dims_layer(x).shape}\") # output = ...?\n",
        "print(f\"Original values with expanded shape:\\n {expand_dims_layer(x)}\")"
      ],
      "metadata": {
        "colab": {
          "base_uri": "https://localhost:8080/"
        },
        "id": "tRf96ucw1pol",
        "outputId": "e6dd7d17-c165-41f9-a643-98bbcd8ed9c0"
      },
      "execution_count": null,
      "outputs": [
        {
          "output_type": "stream",
          "name": "stdout",
          "text": [
            "Original shape: (7,)\n",
            "Expanded shape: (7, 1)\n",
            "Original values with expanded shape:\n",
            " [[123.65499]\n",
            " [125.455  ]\n",
            " [108.58483]\n",
            " [118.67466]\n",
            " [121.33866]\n",
            " [120.65533]\n",
            " [121.795  ]]\n"
          ]
        }
      ]
    },
    {
      "cell_type": "code",
      "source": [],
      "metadata": {
        "id": "y3luRu767YDl"
      },
      "execution_count": null,
      "outputs": []
    },
    {
      "cell_type": "code",
      "source": [
        "tf.random.set_seed(42)\n",
        "\n",
        "# Create Conv1D model\n",
        "model_4 = tf.keras.Sequential([\n",
        " expand_dims_layer ,\n",
        "  layers.Conv1D(filters=128, kernel_size=5, strides=1, padding=\"causal\", activation=\"relu\"),\n",
        "  layers.Dense(HORIZON)                      \n",
        "], name=\"model_4_conv1D\")\n",
        "\n",
        "# Compile model\n",
        "model_4.compile(loss=\"mae\",\n",
        "                optimizer=tf.keras.optimizers.Adam())\n",
        "\n",
        "# Fit\n",
        "model_4.fit(train_windows,\n",
        "            train_labels,\n",
        "            batch_size=128, \n",
        "            epochs=100,\n",
        "            verbose=1,\n",
        "            validation_data=(test_windows, test_labels),\n",
        "            callbacks=[create_model_checkpoint(model_name=model_4.name)])"
      ],
      "metadata": {
        "id": "giXC9Do31r6U"
      },
      "execution_count": null,
      "outputs": []
    },
    {
      "cell_type": "code",
      "source": [],
      "metadata": {
        "id": "Pc3FtKId7Wtj"
      },
      "execution_count": null,
      "outputs": []
    },
    {
      "cell_type": "code",
      "source": [
        "model_4.summary()"
      ],
      "metadata": {
        "colab": {
          "base_uri": "https://localhost:8080/"
        },
        "id": "BUsrFRn66fv6",
        "outputId": "4786be81-3dbf-4e6a-ff89-c8699926f6ea"
      },
      "execution_count": null,
      "outputs": [
        {
          "output_type": "stream",
          "name": "stdout",
          "text": [
            "Model: \"model_4_conv1D\"\n",
            "_________________________________________________________________\n",
            " Layer (type)                Output Shape              Param #   \n",
            "=================================================================\n",
            " lambda (Lambda)             (None, 1, 7)              0         \n",
            "                                                                 \n",
            " conv1d (Conv1D)             (None, 1, 128)            4608      \n",
            "                                                                 \n",
            " dense_6 (Dense)             (None, 1, 1)              129       \n",
            "                                                                 \n",
            "=================================================================\n",
            "Total params: 4,737\n",
            "Trainable params: 4,737\n",
            "Non-trainable params: 0\n",
            "_________________________________________________________________\n"
          ]
        }
      ]
    },
    {
      "cell_type": "code",
      "source": [
        "# Evaluate model... \n",
        "model_4.evaluate(test_windows, test_labels)"
      ],
      "metadata": {
        "colab": {
          "base_uri": "https://localhost:8080/"
        },
        "id": "IxJh5HKk6h7b",
        "outputId": "d106413e-3abc-4536-9aa2-13b5c78d64a5"
      },
      "execution_count": null,
      "outputs": [
        {
          "output_type": "stream",
          "name": "stdout",
          "text": [
            "18/18 [==============================] - 0s 5ms/step - loss: 610.1541\n"
          ]
        },
        {
          "output_type": "execute_result",
          "data": {
            "text/plain": [
              "610.154052734375"
            ]
          },
          "metadata": {},
          "execution_count": 80
        }
      ]
    },
    {
      "cell_type": "code",
      "source": [
        "# Load back in best performing Conv1D and re-evaluate\n",
        "model_4 = tf.keras.models.load_model(\"model_experiments/model_4_conv1D\")\n",
        "model_4.evaluate(test_windows, test_labels)"
      ],
      "metadata": {
        "colab": {
          "base_uri": "https://localhost:8080/"
        },
        "id": "TGI2WvjY8bk3",
        "outputId": "659139fb-0c81-4bec-a684-c3c049efe21f"
      },
      "execution_count": null,
      "outputs": [
        {
          "output_type": "stream",
          "name": "stdout",
          "text": [
            "18/18 [==============================] - 0s 4ms/step - loss: 570.8284\n"
          ]
        },
        {
          "output_type": "execute_result",
          "data": {
            "text/plain": [
              "570.828369140625"
            ]
          },
          "metadata": {},
          "execution_count": 81
        }
      ]
    },
    {
      "cell_type": "code",
      "source": [
        "# Make predictions\n",
        "model_4_preds = make_preds(model_4, test_windows)\n",
        "model_4_preds[:10]"
      ],
      "metadata": {
        "colab": {
          "base_uri": "https://localhost:8080/"
        },
        "id": "wB7PbR8G8eHl",
        "outputId": "a84961fb-4d81-4f26-b2d6-3dc6a0c8ffcc"
      },
      "execution_count": null,
      "outputs": [
        {
          "output_type": "execute_result",
          "data": {
            "text/plain": [
              "<tf.Tensor: shape=(10,), dtype=float32, numpy=\n",
              "array([8851.464, 8754.47 , 8983.927, 8759.671, 8703.627, 8708.294,\n",
              "       8661.667, 8494.839, 8435.316, 8492.114], dtype=float32)>"
            ]
          },
          "metadata": {},
          "execution_count": 82
        }
      ]
    },
    {
      "cell_type": "code",
      "source": [
        "# Evaluate predictions\n",
        "model_4_results = evaluate_preds(y_true=tf.squeeze(test_labels),\n",
        "                                 y_pred=model_4_preds)\n",
        "model_4_results"
      ],
      "metadata": {
        "colab": {
          "base_uri": "https://localhost:8080/"
        },
        "id": "17-SQkCj8fyr",
        "outputId": "91ab6b94-983d-4ea2-8d89-a397fecaccea"
      },
      "execution_count": null,
      "outputs": [
        {
          "output_type": "execute_result",
          "data": {
            "text/plain": [
              "{'mae': 570.8284,\n",
              " 'mse': 1176671.2,\n",
              " 'rmse': 1084.7448,\n",
              " 'mape': 2.5593357,\n",
              " 'mase': 1.0027875}"
            ]
          },
          "metadata": {},
          "execution_count": 83
        }
      ]
    },
    {
      "cell_type": "markdown",
      "source": [
        "#Model 5: RNN (LSTM)\n",
        "We'll use the same data we created previously.\n",
        "\n"
      ],
      "metadata": {
        "id": "54ff3R0lL0Vf"
      }
    },
    {
      "cell_type": "code",
      "source": [
        "tf.random.set_seed(42)\n",
        "\n",
        "# Let's build an LSTM model with the Functional API\n",
        "inputs = layers.Input(shape=(WINDOW_SIZE))\n",
        "x = layers.Lambda(lambda x: tf.expand_dims(x, axis=1))(inputs)\n",
        "# x = layers.LSTM(128, return_sequences=True)(x)\n",
        "x = layers.LSTM(128, activation=\"relu\")(x)\n",
        "# x = layers.Dense(32, activation=\"relu\")(x)\n",
        "output = layers.Dense(HORIZON)(x)\n",
        "model_5 = tf.keras.Model(inputs=inputs, outputs=output, name=\"model_5_LSTM\")\n",
        "\n",
        "# Compile\n",
        "model_5.compile(loss=\"mae\",\n",
        "                optimizer=tf.keras.optimizers.Adam())\n",
        "\n",
        "# Fit\n",
        "model_5.fit(train_windows,\n",
        "            train_labels,\n",
        "            epochs=100,\n",
        "            verbose=1,\n",
        "            batch_size=128,\n",
        "            validation_data=(test_windows, test_labels),\n",
        "            callbacks=[create_model_checkpoint(model_name=model_5.name)])"
      ],
      "metadata": {
        "id": "jRdyyoItL1Le"
      },
      "execution_count": null,
      "outputs": []
    },
    {
      "cell_type": "code",
      "source": [
        "# Load in best version of model 5 and evaluate on the test data\n",
        "model_5 = tf.keras.models.load_model(\"model_experiments/model_5_LSTM\")\n",
        "model_5.evaluate(test_windows, test_labels)\n"
      ],
      "metadata": {
        "colab": {
          "base_uri": "https://localhost:8080/"
        },
        "id": "DfqwxcyqNkZB",
        "outputId": "f3eef5f3-6299-46c4-fe23-b5392f4edf08"
      },
      "execution_count": null,
      "outputs": [
        {
          "output_type": "stream",
          "name": "stderr",
          "text": [
            "WARNING:tensorflow:Layer lstm will not use cuDNN kernels since it doesn't meet the criteria. It will use a generic GPU kernel as fallback when running on GPU.\n"
          ]
        },
        {
          "output_type": "stream",
          "name": "stdout",
          "text": [
            "18/18 [==============================] - 0s 4ms/step - loss: 1260.5291\n"
          ]
        },
        {
          "output_type": "execute_result",
          "data": {
            "text/plain": [
              "1260.529052734375"
            ]
          },
          "metadata": {},
          "execution_count": 65
        }
      ]
    },
    {
      "cell_type": "code",
      "source": [
        "# Make prediction with our LSTM model\n",
        "model_5_preds = make_preds(model_5, test_windows)\n",
        "model_5_preds[:5]"
      ],
      "metadata": {
        "colab": {
          "base_uri": "https://localhost:8080/",
          "height": 200
        },
        "id": "QuYYpEULNmac",
        "outputId": "70316361-4b23-4124-a8ce-336169ee4863"
      },
      "execution_count": null,
      "outputs": [
        {
          "output_type": "error",
          "ename": "NameError",
          "evalue": "ignored",
          "traceback": [
            "\u001b[0;31m---------------------------------------------------------------------------\u001b[0m",
            "\u001b[0;31mNameError\u001b[0m                                 Traceback (most recent call last)",
            "\u001b[0;32m<ipython-input-1-70c8ae794a38>\u001b[0m in \u001b[0;36m<module>\u001b[0;34m\u001b[0m\n\u001b[1;32m      1\u001b[0m \u001b[0;31m# Make prediction with our LSTM model\u001b[0m\u001b[0;34m\u001b[0m\u001b[0;34m\u001b[0m\u001b[0;34m\u001b[0m\u001b[0m\n\u001b[0;32m----> 2\u001b[0;31m \u001b[0mmodel_5_preds\u001b[0m \u001b[0;34m=\u001b[0m \u001b[0mmake_preds\u001b[0m\u001b[0;34m(\u001b[0m\u001b[0mmodel_5\u001b[0m\u001b[0;34m,\u001b[0m \u001b[0mtest_windows\u001b[0m\u001b[0;34m)\u001b[0m\u001b[0;34m\u001b[0m\u001b[0;34m\u001b[0m\u001b[0m\n\u001b[0m\u001b[1;32m      3\u001b[0m \u001b[0mmodel_5_preds\u001b[0m\u001b[0;34m[\u001b[0m\u001b[0;34m:\u001b[0m\u001b[0;36m5\u001b[0m\u001b[0;34m]\u001b[0m\u001b[0;34m\u001b[0m\u001b[0;34m\u001b[0m\u001b[0m\n",
            "\u001b[0;31mNameError\u001b[0m: name 'make_preds' is not defined"
          ]
        }
      ]
    },
    {
      "cell_type": "code",
      "source": [
        "# Evaluate model 5 predictions\n",
        "model_5_results = evaluate_preds(y_true=tf.squeeze(test_labels),\n",
        "                                 y_pred=model_5_preds)\n",
        "model_5_results"
      ],
      "metadata": {
        "colab": {
          "base_uri": "https://localhost:8080/"
        },
        "id": "n9yYSFC3Nn6n",
        "outputId": "1f45e471-4788-4bd5-ebeb-0a337913aecb"
      },
      "execution_count": null,
      "outputs": [
        {
          "output_type": "execute_result",
          "data": {
            "text/plain": [
              "{'mae': array([ 623.78906 ,  412.79227 ,  352.99973 ,  448.31055 ,  421.87723 ,\n",
              "         446.5874  ,  490.72348 ,  570.3247  ,  569.2314  ,  625.523   ,\n",
              "         817.5199  ,  816.5206  ,  789.9515  ,  778.41797 ,  534.2544  ,\n",
              "         230.61928 ,  178.29666 ,  253.58992 ,  345.48892 ,  379.1111  ,\n",
              "         194.73842 ,  152.81892 ,  203.67418 ,  257.98367 ,  152.65688 ,\n",
              "         102.032364,  138.35973 ,  178.96883 ,  162.13986 ,  182.38045 ,\n",
              "         269.88385 ,  348.3234  ,  340.10367 ,  370.372   ,  287.6269  ,\n",
              "         257.41617 ,  326.17502 ,  230.66309 ,  204.51096 ,  190.51381 ,\n",
              "         377.98666 ,  104.09131 ,   59.773438,   96.00963 ,   65.09131 ,\n",
              "          55.221333,   56.979004,   86.28571 ,   85.6566  ,  123.16504 ,\n",
              "         112.012276,  118.01611 ,  151.61182 ,  144.91483 ,  211.82617 ,\n",
              "         329.5771  ,  523.15466 ,  536.6573  ,  532.0241  ,  591.41406 ,\n",
              "         477.14474 ,  267.69656 ,  246.92815 ,  361.88324 ,  394.17383 ,\n",
              "         445.18338 ,  486.354   ,  564.9959  ,  269.64175 ,  149.51228 ,\n",
              "         210.72238 ,  341.55804 ,  516.6328  ,  397.4241  ,  296.51758 ,\n",
              "         295.3711  ,  304.13754 ,  386.02176 ,  527.07184 ,  692.29364 ,\n",
              "         772.44696 ,  632.1515  ,  372.95367 ,  234.35686 ,  144.18527 ,\n",
              "         166.98885 ,  207.15207 ,  273.02734 ,  343.0018  ,  549.88855 ,\n",
              "         533.69403 ,  494.43457 ,  423.43625 ,  322.36343 ,  202.98842 ,\n",
              "         307.57645 ,  277.33942 ,  442.5046  ,  553.0038  ,  684.25476 ,\n",
              "         559.9759  ,  377.30887 ,  210.68289 ,  348.96707 ,  378.28    ,\n",
              "         360.3065  ,  484.1529  ,  669.9206  ,  890.1367  ,  966.55316 ,\n",
              "         889.999   ,  496.2602  ,  210.61635 ,  152.00572 ,  232.84305 ,\n",
              "         424.07596 ,  415.11307 ,  490.95444 ,  583.99316 , 1040.797   ,\n",
              "        1611.2986  , 2111.0344  , 2100.9988  , 2124.1077  , 2303.8247  ,\n",
              "        2572.0474  , 1355.7863  ,  563.27    ,  474.03354 ,  562.09753 ,\n",
              "         967.28253 , 1024.6942  , 1122.2516  ,  657.11884 ,  530.77704 ,\n",
              "         360.729   ,  436.0945  ,  286.7447  ,  270.25815 ,  258.8397  ,\n",
              "         231.9804  ,  369.3296  ,  221.7899  ,  523.2612  ,  524.4489  ,\n",
              "         449.29254 ,  521.0542  ,  246.65785 ,  186.73235 ,  255.77853 ,\n",
              "         226.33273 ,  318.896   ,  366.5229  ,  545.22253 ,  473.06293 ,\n",
              "         281.50375 ,  176.67996 ,  156.77623 ,  183.60861 ,  210.00146 ,\n",
              "         325.46875 ,  177.31752 ,  222.1755  ,  243.8252  ,  247.02322 ,\n",
              "         327.7972  ,  503.07144 ,  644.096   ,  607.47833 ,  674.1128  ,\n",
              "         840.7503  ,  932.68256 ,  957.5876  , 1083.1101  ,  621.5179  ,\n",
              "         431.69086 ,  415.65778 ,  385.8623  ,  426.88882 ,  473.54715 ,\n",
              "         516.1099  ,  503.2397  ,  524.0321  ,  699.1518  ,  723.1006  ,\n",
              "         341.4813  ,  405.62598 ,  591.20734 ,  452.43765 ,  196.53516 ,\n",
              "         231.1324  ,  263.7563  ,  378.4728  ,  533.9579  ,  694.47626 ,\n",
              "         659.48254 ,  361.02316 ,  217.34305 ,  282.8891  ,  304.56363 ,\n",
              "         503.77652 ,  720.77844 ,  678.8548  ,  485.9184  ,  366.8602  ,\n",
              "         174.68834 ,  172.07674 ,  333.3344  ,  178.51701 ,   83.823524,\n",
              "         214.5756  ,  234.02707 ,  224.0964  ,  214.61942 ,  294.99442 ,\n",
              "         388.29465 ,  462.95688 ,  228.96931 ,  165.35115 ,  177.1215  ,\n",
              "         153.54533 ,  126.5625  ,  109.39774 ,  193.43861 ,  201.52734 ,\n",
              "         186.04855 ,  190.40373 ,  247.32045 ,  308.00418 ,  427.7267  ,\n",
              "         323.988   ,  268.34586 ,  195.65388 ,   87.99093 ,   75.99414 ,\n",
              "          75.86259 ,   73.898155,   83.13044 ,  109.07533 ,   96.877235,\n",
              "          93.64216 ,  118.89774 ,   87.854774,   92.757675,  188.52051 ,\n",
              "         154.11021 ,  148.04004 ,  135.24455 ,  148.43918 ,  129.03041 ,\n",
              "         114.256836,   78.26046 ,  112.61175 ,  169.07742 ,  220.88965 ,\n",
              "         310.26004 ,  584.9424  ,  699.65344 ,  820.74695 ,  918.0074  ,\n",
              "        1119.7108  , 1336.762   , 1338.3959  ,  656.95856 ,  370.80078 ,\n",
              "         159.28976 ,  243.80315 ,  247.90025 ,  278.51688 ,  152.12514 ,\n",
              "         214.43973 ,  268.72476 ,  219.46568 ,  153.31445 ,  147.15584 ,\n",
              "         161.66545 ,  205.75377 ,  249.97488 ,  191.92285 ,  223.88393 ,\n",
              "         202.03445 ,  199.45549 ,  230.81961 ,  261.64996 ,  410.51254 ,\n",
              "         559.2847  ,  379.77567 ,  383.2574  ,  263.09988 ,  227.69992 ,\n",
              "         227.39258 ,  266.227   ,  116.58831 ,  167.10574 ,  317.36578 ,\n",
              "         426.2927  ,  628.1758  ,  814.471   , 1063.7941  , 1405.281   ,\n",
              "        1446.2278  , 1034.9398  ,  658.81335 ,  150.9209  ,  132.00252 ,\n",
              "         186.85017 ,  428.40485 ,  458.923   ,  413.5057  ,  428.9439  ,\n",
              "         377.87946 ,  450.46414 ,  308.875   ,  241.53543 ,  269.7468  ,\n",
              "         369.08398 ,  405.01187 ,  473.06528 ,  406.5434  ,  136.29729 ,\n",
              "         124.21024 ,  263.91293 ,  194.58022 ,  165.89174 ,  171.51074 ,\n",
              "         231.3676  ,  313.98383 ,  346.9121  ,  327.5512  ,  170.54688 ,\n",
              "         107.17871 ,  220.9449  ,  303.55957 ,  395.18472 ,  538.7606  ,\n",
              "         652.08105 ,  587.10254 ,  475.99887 ,  214.02805 ,  124.464424,\n",
              "         175.82645 ,  176.07324 ,  336.30078 ,  554.5692  ,  733.8701  ,\n",
              "         995.7331  , 1179.457   , 1234.714   , 1277.0084  ,  628.74176 ,\n",
              "         186.74498 ,  225.5498  ,  213.79883 ,  261.11133 ,  279.95312 ,\n",
              "         151.8711  ,  184.93834 ,  460.59195 ,  680.6183  ,  700.8853  ,\n",
              "         857.0462  , 1099.3109  , 1248.9954  , 1219.6194  ,  647.1197  ,\n",
              "         387.9478  ,  463.88324 ,  361.679   ,  455.28152 ,  783.4681  ,\n",
              "         912.27234 ,  945.8764  , 1057.6332  , 1388.1595  , 1856.198   ,\n",
              "        1633.704   , 1253.3976  ,  835.16907 ,  700.4933  ,  646.88055 ,\n",
              "         758.44836 ,  957.1713  ,  932.036   ,  988.70953 ,  938.4922  ,\n",
              "         856.72235 , 1282.2971  , 1293.051   , 1246.4349  ,  488.86606 ,\n",
              "         249.88002 ,  391.488   ,  789.4528  ,  779.7143  ,  666.64484 ,\n",
              "         732.63116 ,  581.6861  ,  393.96735 ,  763.3331  , 1436.8209  ,\n",
              "        2236.1772  , 2783.264   , 3146.6228  , 3411.111   , 3640.7327  ,\n",
              "        2734.982   , 1355.2734  ,  654.3954  ,  715.4364  , 1060.5145  ,\n",
              "        1380.9163  , 1692.3053  , 2424.166   , 3280.9966  , 3456.527   ,\n",
              "        3052.6511  , 3221.3008  , 3289.0525  , 3832.3474  , 3672.8923  ,\n",
              "        4428.7964  , 5556.011   , 5088.249   , 4784.9653  , 5108.77    ,\n",
              "        3860.3984  , 2944.5881  , 1998.6686  , 3060.8667  , 4324.922   ,\n",
              "        4289.4497  , 1681.8767  ,  772.1557  ,  765.85156 , 2164.543   ,\n",
              "        2301.173   , 2355.8164  , 2945.6423  , 3634.0952  , 4327.51    ,\n",
              "        4215.5747  , 1333.8959  , 1073.4071  , 1251.6766  , 1468.6066  ,\n",
              "        1662.0139  , 2233.661   , 3774.1187  , 3558.6262  , 2712.058   ,\n",
              "        2652.0173  , 3387.308   , 4938.4146  , 5323.736   , 5033.153   ,\n",
              "        5724.222   , 6360.7847  , 6015.948   , 7412.207   , 5204.2573  ,\n",
              "        2303.7834  , 2480.362   , 1535.6211  , 2174.6155  , 3013.5005  ,\n",
              "        3463.22    , 3986.533   , 4166.654   , 3615.112   , 3521.9348  ,\n",
              "        4486.8906  , 6337.6284  , 8932.568   , 9299.552   , 5596.891   ,\n",
              "        3211.0513  , 2315.4387  , 1751.8767  , 2566.4436  , 3989.5247  ,\n",
              "        2898.2383  , 3196.6128  , 2562.26    , 3667.7556  , 4602.2407  ,\n",
              "        6100.3257  , 6576.4214  , 6658.4097  , 4732.1626  , 3136.7847  ,\n",
              "        1624.0731  , 1629.7595  , 1735.7216  , 2902.8364  , 1622.5703  ,\n",
              "        1680.1434  , 2855.7878  , 3387.3694  , 4392.3276  , 4633.4995  ,\n",
              "        5019.6304  , 2361.023   , 1906.2181  , 2246.9749  , 3738.9587  ,\n",
              "        4153.068   , 2665.168   , 3288.7122  , 1861.3611  ,  559.8917  ,\n",
              "        1036.9141  , 1266.3181  , 1372.597   ,  745.9682  ,  799.077   ,\n",
              "         867.06195 , 1334.8231  , 2636.9019  , 3224.552   , 3379.6458  ,\n",
              "        2648.4314  , 2567.3225  , 2881.3667  , 3410.3967  , 5320.216   ,\n",
              "        7256.1665  , 8633.34    , 8780.912   , 7381.552   , 5527.199   ,\n",
              "        4697.4487  , 2946.3928  , 1845.7802  , 2881.7695  , 4014.379   ,\n",
              "        6084.8843  , 4721.308   , 2574.3958  , 2221.1362  , 2636.6372  ,\n",
              "         863.43024 ,  965.61664 ,  991.62726 , 1294.842   , 1372.4666  ,\n",
              "        1805.6725  , 2509.1316  , 3470.5234  , 5357.359   , 7402.7856  ,\n",
              "        8288.751   ], dtype=float32),\n",
              " 'mse': array([4.20829906e+05, 2.11630391e+05, 1.59147266e+05, 2.27949609e+05,\n",
              "        2.17106000e+05, 2.70265344e+05, 3.07663656e+05, 4.41191531e+05,\n",
              "        5.19169062e+05, 5.79806312e+05, 8.55261812e+05, 8.33893375e+05,\n",
              "        7.46363875e+05, 6.45096438e+05, 3.01808500e+05, 6.86299844e+04,\n",
              "        4.03456758e+04, 1.01811164e+05, 1.60737156e+05, 1.79153297e+05,\n",
              "        5.45973125e+04, 4.99521133e+04, 4.75923828e+04, 7.31352422e+04,\n",
              "        3.31285547e+04, 1.84782520e+04, 3.01689961e+04, 3.88100391e+04,\n",
              "        3.49260273e+04, 3.88673438e+04, 9.04310547e+04, 1.44532609e+05,\n",
              "        1.49297656e+05, 2.13352297e+05, 1.52674641e+05, 1.14482984e+05,\n",
              "        1.41260078e+05, 8.78314453e+04, 8.57819766e+04, 6.30523125e+04,\n",
              "        1.56680000e+05, 1.48725205e+04, 4.72178857e+03, 1.50157803e+04,\n",
              "        4.64294531e+03, 4.19620947e+03, 4.67688574e+03, 1.00455859e+04,\n",
              "        1.13497139e+04, 2.75220352e+04, 2.70253809e+04, 1.92327402e+04,\n",
              "        3.34735586e+04, 3.79046602e+04, 9.70153828e+04, 1.81027000e+05,\n",
              "        3.40417438e+05, 3.75404094e+05, 3.35344219e+05, 3.63454156e+05,\n",
              "        2.38730469e+05, 1.08464266e+05, 1.40896016e+05, 2.22697750e+05,\n",
              "        2.48934891e+05, 2.72501750e+05, 2.86683094e+05, 3.43988781e+05,\n",
              "        9.15150000e+04, 2.59711523e+04, 6.39613828e+04, 1.47959703e+05,\n",
              "        2.96830562e+05, 1.88125797e+05, 1.17128320e+05, 1.06934555e+05,\n",
              "        1.07399383e+05, 2.23062750e+05, 3.75704094e+05, 5.70932625e+05,\n",
              "        6.34315188e+05, 4.15537656e+05, 1.52768734e+05, 7.93713672e+04,\n",
              "        2.60837559e+04, 4.06845352e+04, 6.00550664e+04, 9.77693359e+04,\n",
              "        1.36634125e+05, 3.41988781e+05, 3.27211000e+05, 2.81509531e+05,\n",
              "        2.11397766e+05, 1.36611875e+05, 4.89197773e+04, 1.04785414e+05,\n",
              "        1.26212859e+05, 2.77918531e+05, 3.95686281e+05, 5.29330562e+05,\n",
              "        3.52255406e+05, 1.62007969e+05, 5.11902305e+04, 1.54774828e+05,\n",
              "        2.68213094e+05, 3.01346062e+05, 3.90560562e+05, 6.00171688e+05,\n",
              "        9.84906000e+05, 1.01934956e+06, 8.04913312e+05, 2.57235469e+05,\n",
              "        6.61127344e+04, 3.36805820e+04, 6.52060078e+04, 2.06052359e+05,\n",
              "        2.37153500e+05, 3.08560844e+05, 3.98829062e+05, 2.00180712e+06,\n",
              "        4.04304625e+06, 6.07049850e+06, 5.97291450e+06, 5.98599300e+06,\n",
              "        6.17278900e+06, 6.67180100e+06, 1.98800325e+06, 4.39865781e+05,\n",
              "        2.90782000e+05, 4.52462719e+05, 1.13434475e+06, 1.22312588e+06,\n",
              "        1.31696938e+06, 4.92348000e+05, 3.24535500e+05, 1.68820578e+05,\n",
              "        2.43552500e+05, 9.36244453e+04, 1.28685445e+05, 1.13092930e+05,\n",
              "        1.19753961e+05, 1.98624797e+05, 7.28459531e+04, 3.04673281e+05,\n",
              "        3.10792906e+05, 2.27942422e+05, 3.01593312e+05, 9.30748984e+04,\n",
              "        5.40266055e+04, 7.79072969e+04, 5.89993867e+04, 1.48977984e+05,\n",
              "        1.79139641e+05, 3.49948969e+05, 2.35188531e+05, 9.58018516e+04,\n",
              "        4.02231016e+04, 3.27027598e+04, 4.58283945e+04, 6.27497188e+04,\n",
              "        1.28160336e+05, 5.41493047e+04, 6.50745703e+04, 7.16338672e+04,\n",
              "        6.77558594e+04, 1.38842859e+05, 2.77946688e+05, 5.65413438e+05,\n",
              "        6.09000688e+05, 7.58174938e+05, 1.00059438e+06, 1.09370038e+06,\n",
              "        1.03882731e+06, 1.18009588e+06, 4.05978062e+05, 2.78420062e+05,\n",
              "        3.16026094e+05, 2.42087391e+05, 2.52889484e+05, 2.86361750e+05,\n",
              "        3.02640438e+05, 2.98966156e+05, 4.27444219e+05, 6.63458312e+05,\n",
              "        6.92872375e+05, 1.70716906e+05, 2.03472219e+05, 3.79920562e+05,\n",
              "        2.23008031e+05, 5.60221172e+04, 7.12822578e+04, 8.13002344e+04,\n",
              "        1.97112391e+05, 3.48068656e+05, 5.47842062e+05, 4.69556062e+05,\n",
              "        1.68139859e+05, 7.07452109e+04, 1.01014750e+05, 1.16126680e+05,\n",
              "        3.86663719e+05, 6.06857438e+05, 5.31893375e+05, 3.32448156e+05,\n",
              "        1.88940859e+05, 6.76774219e+04, 1.05363633e+05, 1.19495984e+05,\n",
              "        3.66883984e+04, 9.80281543e+03, 1.00831086e+05, 9.54513516e+04,\n",
              "        7.10137656e+04, 7.10166094e+04, 1.03884047e+05, 1.65309469e+05,\n",
              "        2.17663625e+05, 6.46340234e+04, 4.47582617e+04, 4.78147930e+04,\n",
              "        3.82229180e+04, 2.80445098e+04, 2.05808848e+04, 5.02942227e+04,\n",
              "        4.49492266e+04, 4.55427148e+04, 5.57698672e+04, 8.16788594e+04,\n",
              "        1.04366711e+05, 1.97882422e+05, 1.13994320e+05, 7.96646641e+04,\n",
              "        4.74389297e+04, 1.21917510e+04, 8.53749219e+03, 1.19300029e+04,\n",
              "        6.87400439e+03, 8.66046191e+03, 1.43033457e+04, 1.48473525e+04,\n",
              "        1.74655098e+04, 2.45202969e+04, 1.36588418e+04, 1.48633369e+04,\n",
              "        4.31617070e+04, 3.39044766e+04, 3.25903301e+04, 2.38893262e+04,\n",
              "        2.72182695e+04, 2.09652285e+04, 1.78373066e+04, 8.47853809e+03,\n",
              "        1.87482324e+04, 4.19112773e+04, 6.48208750e+04, 1.25233461e+05,\n",
              "        6.10799000e+05, 8.33171312e+05, 1.14974375e+06, 1.29287338e+06,\n",
              "        1.60389425e+06, 2.01791012e+06, 1.84675688e+06, 4.84086500e+05,\n",
              "        2.02055328e+05, 5.55221250e+04, 7.57648516e+04, 7.66242891e+04,\n",
              "        1.17446125e+05, 4.08737383e+04, 5.51120820e+04, 7.63948516e+04,\n",
              "        6.24250820e+04, 3.18967832e+04, 3.68413320e+04, 5.50414141e+04,\n",
              "        6.90076328e+04, 8.65650703e+04, 6.34552148e+04, 9.91198359e+04,\n",
              "        8.14999141e+04, 7.19004219e+04, 8.67566094e+04, 8.99974375e+04,\n",
              "        1.91565891e+05, 3.45313969e+05, 1.84001359e+05, 1.90075219e+05,\n",
              "        1.02855398e+05, 6.87805469e+04, 6.07656484e+04, 7.54561406e+04,\n",
              "        2.63908398e+04, 3.46225000e+04, 1.72380203e+05, 3.06152688e+05,\n",
              "        6.68626000e+05, 9.96064875e+05, 1.39084975e+06, 2.23024925e+06,\n",
              "        2.17113275e+06, 1.10968038e+06, 4.46444438e+05, 3.69544023e+04,\n",
              "        2.24347324e+04, 5.19172578e+04, 2.03898891e+05, 2.48129641e+05,\n",
              "        2.12153578e+05, 2.13166250e+05, 1.75881000e+05, 2.14972484e+05,\n",
              "        1.03848492e+05, 8.39328594e+04, 1.62944266e+05, 2.08777328e+05,\n",
              "        2.11897906e+05, 2.63265719e+05, 1.93770000e+05, 3.90613438e+04,\n",
              "        2.56114785e+04, 8.51633594e+04, 4.54094805e+04, 3.77009023e+04,\n",
              "        4.89051328e+04, 7.80972344e+04, 1.07448641e+05, 1.36221281e+05,\n",
              "        1.20238625e+05, 3.89014805e+04, 1.43386855e+04, 8.30768672e+04,\n",
              "        1.42217516e+05, 2.34019422e+05, 3.86935750e+05, 4.70531562e+05,\n",
              "        3.70082219e+05, 2.41009859e+05, 6.14081055e+04, 3.70373086e+04,\n",
              "        4.29180664e+04, 4.04672500e+04, 2.90960750e+05, 5.84937125e+05,\n",
              "        9.20155438e+05, 1.40820025e+06, 1.66848388e+06, 1.65488300e+06,\n",
              "        1.67221775e+06, 4.46077156e+05, 7.97814531e+04, 8.44538828e+04,\n",
              "        6.83774219e+04, 8.26299766e+04, 1.16708984e+05, 3.30943633e+04,\n",
              "        5.54321055e+04, 5.22925344e+05, 9.37805938e+05, 9.54259688e+05,\n",
              "        1.21372338e+06, 1.56752938e+06, 1.72065025e+06, 1.57219662e+06,\n",
              "        5.38294688e+05, 2.33261531e+05, 3.15072219e+05, 1.86053906e+05,\n",
              "        3.00043500e+05, 9.00149438e+05, 1.28122325e+06, 1.33674638e+06,\n",
              "        1.64631475e+06, 2.46813925e+06, 3.78283475e+06, 2.78992350e+06,\n",
              "        1.67978688e+06, 7.41635375e+05, 5.22198906e+05, 7.69026938e+05,\n",
              "        1.10862488e+06, 1.37497325e+06, 1.31354288e+06, 1.56972912e+06,\n",
              "        1.37147175e+06, 8.79516438e+05, 1.96560200e+06, 1.90421762e+06,\n",
              "        1.61219638e+06, 2.90040656e+05, 9.60689453e+04, 2.04950156e+05,\n",
              "        7.56106938e+05, 7.72378562e+05, 6.41385812e+05, 6.69083688e+05,\n",
              "        4.40684281e+05, 2.48056375e+05, 1.12164212e+06, 3.99427675e+06,\n",
              "        7.70807650e+06, 1.10443020e+07, 1.28231970e+07, 1.34009670e+07,\n",
              "        1.37634340e+07, 7.60208850e+06, 1.89422888e+06, 6.34157688e+05,\n",
              "        1.01798288e+06, 1.69362062e+06, 2.81039625e+06, 4.14060350e+06,\n",
              "        7.97666750e+06, 1.25547980e+07, 1.32875770e+07, 1.22714080e+07,\n",
              "        1.46576790e+07, 1.40344830e+07, 1.83419360e+07, 1.85358620e+07,\n",
              "        2.83848160e+07, 4.14410640e+07, 3.68171640e+07, 2.95809800e+07,\n",
              "        3.19814040e+07, 2.15376640e+07, 1.10848870e+07, 6.08505600e+06,\n",
              "        1.29690820e+07, 2.20887900e+07, 1.98914380e+07, 3.78103150e+06,\n",
              "        1.07581975e+06, 9.46207312e+05, 9.18194000e+06, 1.04541490e+07,\n",
              "        1.02028220e+07, 1.31824230e+07, 1.64308430e+07, 2.06235820e+07,\n",
              "        1.84409780e+07, 2.91096175e+06, 1.81379288e+06, 1.92799225e+06,\n",
              "        3.29439950e+06, 3.62329775e+06, 5.87111850e+06, 1.61279360e+07,\n",
              "        1.48921920e+07, 1.05342830e+07, 1.00796590e+07, 1.38725490e+07,\n",
              "        3.04855500e+07, 3.90961200e+07, 3.73087240e+07, 4.57630520e+07,\n",
              "        5.08352360e+07, 4.23468600e+07, 5.63921400e+07, 2.83158620e+07,\n",
              "        6.22689700e+06, 8.23932450e+06, 3.93143000e+06, 8.51470900e+06,\n",
              "        1.45702510e+07, 1.75164600e+07, 2.06792580e+07, 2.11576940e+07,\n",
              "        1.50566310e+07, 1.31084050e+07, 2.93125900e+07, 4.89994320e+07,\n",
              "        8.94868400e+07, 8.92111200e+07, 3.38645160e+07, 1.35804690e+07,\n",
              "        8.44708400e+06, 4.63888200e+06, 7.42410150e+06, 1.74607320e+07,\n",
              "        9.72129600e+06, 1.40007030e+07, 1.41058860e+07, 2.29083560e+07,\n",
              "        3.06952180e+07, 4.64687600e+07, 5.29334760e+07, 4.74018560e+07,\n",
              "        2.54308900e+07, 1.21996370e+07, 4.37420350e+06, 4.64838050e+06,\n",
              "        4.38339150e+06, 8.82466900e+06, 5.48169650e+06, 5.99009950e+06,\n",
              "        1.48780670e+07, 1.96281180e+07, 2.51610300e+07, 2.42440540e+07,\n",
              "        2.63747640e+07, 8.10204700e+06, 5.41979450e+06, 6.93888150e+06,\n",
              "        1.64635130e+07, 1.90383300e+07, 8.79100800e+06, 1.13328450e+07,\n",
              "        3.91313375e+06, 4.48357031e+05, 1.75937175e+06, 1.90642600e+06,\n",
              "        2.40302600e+06, 7.88106688e+05, 1.06512462e+06, 1.08480325e+06,\n",
              "        3.10914650e+06, 9.44136000e+06, 1.37142630e+07, 1.38797530e+07,\n",
              "        9.52050500e+06, 8.29706750e+06, 1.02863360e+07, 1.86137500e+07,\n",
              "        3.91262720e+07, 6.53713640e+07, 8.60910800e+07, 8.44600320e+07,\n",
              "        6.33227600e+07, 3.66225160e+07, 2.54050660e+07, 1.31844220e+07,\n",
              "        5.21378850e+06, 1.09557950e+07, 1.87204440e+07, 3.88411840e+07,\n",
              "        2.42516200e+07, 8.88104500e+06, 5.88391150e+06, 8.03123850e+06,\n",
              "        1.25145388e+06, 2.75205650e+06, 2.15170125e+06, 3.01780525e+06,\n",
              "        2.98784200e+06, 5.25241750e+06, 1.24296070e+07, 1.96789880e+07,\n",
              "        4.17781320e+07, 7.27724240e+07, 8.96808320e+07], dtype=float32),\n",
              " 'rmse': array([ 648.71405 ,  460.03302 ,  398.93265 ,  477.44067 ,  465.94635 ,\n",
              "         519.8705  ,  554.6744  ,  664.2225  ,  720.5339  ,  761.45013 ,\n",
              "         924.80365 ,  913.1776  ,  863.9235  ,  803.17896 ,  549.371   ,\n",
              "         261.97324 ,  200.86234 ,  319.0786  ,  400.92038 ,  423.26505 ,\n",
              "         233.66068 ,  223.4997  ,  218.15678 ,  270.43527 ,  182.01251 ,\n",
              "         135.93472 ,  173.69225 ,  197.00264 ,  186.88506 ,  197.14803 ,\n",
              "         300.71756 ,  380.17444 ,  386.39056 ,  461.90073 ,  390.73602 ,\n",
              "         338.35333 ,  375.84583 ,  296.3637  ,  292.8856  ,  251.10219 ,\n",
              "         395.82825 ,  121.95294 ,   68.71527 ,  122.538895,   68.13916 ,\n",
              "          64.77815 ,   68.38776 ,  100.22767 ,  106.535034,  165.89766 ,\n",
              "         164.39398 ,  138.68214 ,  182.9578  ,  194.6912  ,  311.47293 ,\n",
              "         425.47266 ,  583.453   ,  612.7023  ,  579.0891  ,  602.8716  ,\n",
              "         488.60052 ,  329.33914 ,  375.36118 ,  471.90863 ,  498.93375 ,\n",
              "         522.01697 ,  535.428   ,  586.50555 ,  302.51447 ,  161.15567 ,\n",
              "         252.90588 ,  384.6553  ,  544.8216  ,  433.7347  ,  342.24014 ,\n",
              "         327.00848 ,  327.71844 ,  472.2952  ,  612.9471  ,  755.6008  ,\n",
              "         796.439   ,  644.6221  ,  390.8564  ,  281.72925 ,  161.50467 ,\n",
              "         201.70407 ,  245.06136 ,  312.68088 ,  369.64053 ,  584.79803 ,\n",
              "         572.0236  ,  530.5747  ,  459.78012 ,  369.61044 ,  221.17816 ,\n",
              "         323.70575 ,  355.2645  ,  527.1798  ,  629.036   ,  727.5511  ,\n",
              "         593.5111  ,  402.50214 ,  226.25258 ,  393.41434 ,  517.89294 ,\n",
              "         548.94995 ,  624.9484  ,  774.70746 ,  992.4243  , 1009.6284  ,\n",
              "         897.1696  ,  507.18387 ,  257.12396 ,  183.5227  ,  255.35468 ,\n",
              "         453.9299  ,  486.98407 ,  555.48254 ,  631.5291  , 1414.8523  ,\n",
              "        2010.7328  , 2463.8381  , 2443.9546  , 2446.629   , 2484.5098  ,\n",
              "        2582.983   , 1409.9657  ,  663.22375 ,  539.24207 ,  672.6535  ,\n",
              "        1065.0562  , 1105.9502  , 1147.5928  ,  701.6751  ,  569.6802  ,\n",
              "         410.8778  ,  493.51038 ,  305.9811  ,  358.72754 ,  336.2929  ,\n",
              "         346.05484 ,  445.6734  ,  269.8999  ,  551.97217 ,  557.48804 ,\n",
              "         477.43317 ,  549.1751  ,  305.0818  ,  232.43623 ,  279.11877 ,\n",
              "         242.89789 ,  385.97665 ,  423.2489  ,  591.5648  ,  484.9624  ,\n",
              "         309.51874 ,  200.55698 ,  180.83905 ,  214.07567 ,  250.49893 ,\n",
              "         357.99487 ,  232.70003 ,  255.09717 ,  267.64505 ,  260.29956 ,\n",
              "         372.61624 ,  527.2065  ,  751.93976 ,  780.38495 ,  870.7324  ,\n",
              "        1000.2971  , 1045.8013  , 1019.22876 , 1086.3221  ,  637.16406 ,\n",
              "         527.6553  ,  562.162   ,  492.02377 ,  502.88116 ,  535.1278  ,\n",
              "         550.1276  ,  546.77795 ,  653.7922  ,  814.52954 ,  832.3895  ,\n",
              "         413.17902 ,  451.07895 ,  616.37695 ,  472.23727 ,  236.68991 ,\n",
              "         266.98737 ,  285.13196 ,  443.9734  ,  589.97345 ,  740.1635  ,\n",
              "         685.2416  ,  410.04858 ,  265.9797  ,  317.8282  ,  340.77365 ,\n",
              "         621.8229  ,  779.0105  ,  729.31024 ,  576.5831  ,  434.67328 ,\n",
              "         260.14883 ,  324.59766 ,  345.68192 ,  191.54216 ,   99.00917 ,\n",
              "         317.5391  ,  308.95203 ,  266.48407 ,  266.4894  ,  322.3105  ,\n",
              "         406.58267 ,  466.54434 ,  254.23222 ,  211.56148 ,  218.66594 ,\n",
              "         195.50682 ,  167.46495 ,  143.46039 ,  224.26373 ,  212.01233 ,\n",
              "         213.4074  ,  236.15645 ,  285.79514 ,  323.05838 ,  444.83975 ,\n",
              "         337.63043 ,  282.2493  ,  217.8048  ,  110.41626 ,   92.39855 ,\n",
              "         109.22455 ,   82.909615,   93.0616  ,  119.596596,  121.84972 ,\n",
              "         132.15714 ,  156.58958 ,  116.87105 ,  121.91528 ,  207.75395 ,\n",
              "         184.13168 ,  180.52792 ,  154.56172 ,  164.9796  ,  144.79375 ,\n",
              "         133.55638 ,   92.07897 ,  136.92418 ,  204.72244 ,  254.59944 ,\n",
              "         353.8834  ,  781.5363  ,  912.78217 , 1072.261   , 1137.0459  ,\n",
              "        1266.4495  , 1420.5316  , 1358.9543  ,  695.76324 ,  449.50565 ,\n",
              "         235.63133 ,  275.25415 ,  276.8109  ,  342.70413 ,  202.17255 ,\n",
              "         234.75963 ,  276.39618 ,  249.85011 ,  178.59671 ,  191.94096 ,\n",
              "         234.60907 ,  262.69302 ,  294.21942 ,  251.90318 ,  314.83304 ,\n",
              "         285.4819  ,  268.14255 ,  294.54474 ,  299.99573 ,  437.6824  ,\n",
              "         587.6342  ,  428.9538  ,  435.97617 ,  320.71075 ,  262.26044 ,\n",
              "         246.5069  ,  274.6928  ,  162.45258 ,  186.07123 ,  415.18695 ,\n",
              "         553.31067 ,  817.69556 ,  998.03046 , 1179.3429  , 1493.4019  ,\n",
              "        1473.4764  , 1053.4137  ,  668.165   ,  192.23528 ,  149.78229 ,\n",
              "         227.85359 ,  451.55164 ,  498.12613 ,  460.60132 ,  461.6993  ,\n",
              "         419.38168 ,  463.65125 ,  322.2553  ,  289.71167 ,  403.66354 ,\n",
              "         456.92157 ,  460.3237  ,  513.09424 ,  440.19315 ,  197.63942 ,\n",
              "         160.03586 ,  291.8276  ,  213.095   ,  194.1672  ,  221.14505 ,\n",
              "         279.45883 ,  327.7936  ,  369.08167 ,  346.75443 ,  197.23459 ,\n",
              "         119.74425 ,  288.23056 ,  377.11737 ,  483.75552 ,  622.04156 ,\n",
              "         685.953   ,  608.3438  ,  490.92755 ,  247.8066  ,  192.45079 ,\n",
              "         207.16676 ,  201.16473 ,  539.4078  ,  764.8118  ,  959.2473  ,\n",
              "        1186.6761  , 1291.6981  , 1286.4225  , 1293.1426  ,  667.8901  ,\n",
              "         282.45612 ,  290.6095  ,  261.49075 ,  287.4543  ,  341.62695 ,\n",
              "         181.91856 ,  235.44023 ,  723.13574 ,  968.4038  ,  976.8621  ,\n",
              "        1101.6912  , 1252.0101  , 1311.7356  , 1253.8727  ,  733.68567 ,\n",
              "         482.97156 ,  561.3129  ,  431.33966 ,  547.76227 ,  948.7621  ,\n",
              "        1131.9113  , 1156.1775  , 1283.088   , 1571.0312  , 1944.951   ,\n",
              "        1670.3064  , 1296.0659  ,  861.18256 ,  722.6333  ,  876.94183 ,\n",
              "        1052.9126  , 1172.5925  , 1146.099   , 1252.8883  , 1171.0985  ,\n",
              "         937.8254  , 1401.9993  , 1379.9338  , 1269.7229  ,  538.55426 ,\n",
              "         309.94992 ,  452.7142  ,  869.54407 ,  878.8507  ,  800.86566 ,\n",
              "         817.97534 ,  663.8406  ,  498.05258 , 1059.076   , 1998.5687  ,\n",
              "        2776.3423  , 3323.2969  , 3580.9492  , 3660.7332  , 3709.9102  ,\n",
              "        2757.1885  , 1376.3098  ,  796.34015 , 1008.95135 , 1301.3918  ,\n",
              "        1676.4236  , 2034.8473  , 2824.2996  , 3543.2751  , 3645.213   ,\n",
              "        3503.057   , 3828.535   , 3746.2625  , 4282.7485  , 4305.3296  ,\n",
              "        5327.74    , 6437.473   , 6067.715   , 5438.84    , 5655.2104  ,\n",
              "        4640.8687  , 3329.3975  , 2466.7905  , 3601.2612  , 4699.871   ,\n",
              "        4459.982   , 1944.4874  , 1037.2173  ,  972.7319  , 3030.1716  ,\n",
              "        3233.2876  , 3194.1855  , 3630.7607  , 4053.4976  , 4541.3193  ,\n",
              "        4294.296   , 1706.154   , 1346.7712  , 1388.5216  , 1815.0481  ,\n",
              "        1903.4962  , 2423.039   , 4015.9602  , 3859.0403  , 3245.656   ,\n",
              "        3174.848   , 3724.5872  , 5521.372   , 6252.689   , 6108.0864  ,\n",
              "        6764.8394  , 7129.8833  , 6507.447   , 7509.4697  , 5321.265   ,\n",
              "        2495.375   , 2870.4224  , 1982.7834  , 2917.9976  , 3817.0999  ,\n",
              "        4185.267   , 4547.4453  , 4599.7495  , 3880.2876  , 3620.553   ,\n",
              "        5414.1104  , 6999.9595  , 9459.748   , 9445.163   , 5819.3228  ,\n",
              "        3685.1687  , 2906.3867  , 2153.8064  , 2724.7205  , 4178.604   ,\n",
              "        3117.8992  , 3741.7515  , 3755.7803  , 4786.267   , 5540.326   ,\n",
              "        6816.8     , 7275.5396  , 6884.9004  , 5042.905   , 3492.7979  ,\n",
              "        2091.4597  , 2156.0103  , 2093.655   , 2970.6343  , 2341.3022  ,\n",
              "        2447.468   , 3857.2097  , 4430.3633  , 5016.077   , 4923.825   ,\n",
              "        5135.6367  , 2846.4094  , 2328.0452  , 2634.1755  , 4057.5254  ,\n",
              "        4363.2935  , 2964.9634  , 3366.4292  , 1978.1642  ,  669.59467 ,\n",
              "        1326.4131  , 1380.7339  , 1550.1697  ,  887.7537  , 1032.0487  ,\n",
              "        1041.5388  , 1763.2772  , 3072.6794  , 3703.2773  , 3725.5542  ,\n",
              "        3085.5315  , 2880.4631  , 3207.2317  , 4314.365   , 6255.0996  ,\n",
              "        8085.256   , 9278.527   , 9190.214   , 7957.56    , 6051.654   ,\n",
              "        5040.3438  , 3631.036   , 2283.372   , 3309.9539  , 4326.713   ,\n",
              "        6232.2695  , 4924.5933  , 2980.1082  , 2425.6775  , 2833.9438  ,\n",
              "        1118.684   , 1658.9324  , 1466.8678  , 1737.1831  , 1728.5375  ,\n",
              "        2291.8152  , 3525.5647  , 4436.1006  , 6463.6006  , 8530.676   ,\n",
              "        9469.996   ], dtype=float32),\n",
              " 'mape': array([ 7.121412  ,  4.758522  ,  4.0921807 ,  5.2206297 ,  4.97871   ,\n",
              "         5.358077  ,  5.94645   ,  7.105515  ,  7.399367  ,  8.288686  ,\n",
              "        11.031992  , 11.168235  , 10.924613  , 10.737053  ,  7.3876643 ,\n",
              "         3.1831973 ,  2.4262872 ,  3.3589165 ,  4.589039  ,  5.04094   ,\n",
              "         2.596664  ,  2.026664  ,  2.7708242 ,  3.5051162 ,  2.0788682 ,\n",
              "         1.3916434 ,  1.8873641 ,  2.4149218 ,  2.2002568 ,  2.4969707 ,\n",
              "         3.7450838 ,  4.8604565 ,  4.8085475 ,  5.3871207 ,  4.2029133 ,\n",
              "         3.756177  ,  4.715548  ,  3.3409894 ,  2.9744034 ,  2.707481  ,\n",
              "         5.207273  ,  1.440929  ,  0.82882094,  1.3247712 ,  0.9013866 ,\n",
              "         0.76452243,  0.78768635,  1.1928688 ,  1.1857381 ,  1.7290883 ,\n",
              "         1.569277  ,  1.6474355 ,  2.123235  ,  1.9968334 ,  2.779181  ,\n",
              "         4.230595  ,  6.707243  ,  6.7685018 ,  6.6647305 ,  7.37622   ,\n",
              "         5.9142537 ,  3.2180712 ,  2.8683755 ,  4.183424  ,  4.4926925 ,\n",
              "         5.0444565 ,  5.515273  ,  6.4147234 ,  3.0536473 ,  1.7098138 ,\n",
              "         2.4479854 ,  3.9974756 ,  6.0785527 ,  4.686892  ,  3.501477  ,\n",
              "         3.4641755 ,  3.4913812 ,  4.2204347 ,  5.7017555 ,  7.4423976 ,\n",
              "         8.27671   ,  6.7509904 ,  3.976733  ,  2.473679  ,  1.5376866 ,\n",
              "         1.7802669 ,  2.180211  ,  2.802204  ,  3.4973521 ,  5.5204663 ,\n",
              "         5.2949567 ,  4.873482  ,  4.1395946 ,  3.143826  ,  2.003745  ,\n",
              "         3.0578706 ,  2.800743  ,  4.50462   ,  5.6656103 ,  7.0284405 ,\n",
              "         5.769424  ,  3.885997  ,  2.155324  ,  3.6394112 ,  4.1082706 ,\n",
              "         4.026797  ,  5.4270086 ,  7.558464  , 10.17524   , 11.037354  ,\n",
              "        10.1855755 ,  5.687875  ,  2.424465  ,  1.7251307 ,  2.6050398 ,\n",
              "         4.7888184 ,  4.9064507 ,  5.9084425 ,  7.0927    , 15.143183  ,\n",
              "        24.982647  , 34.732132  , 36.532646  , 39.155014  , 42.721428  ,\n",
              "        47.80217   , 25.29473   , 10.690185  ,  8.275327  ,  9.46183   ,\n",
              "        15.755942  , 16.223438  , 17.518353  , 10.077494  ,  8.060641  ,\n",
              "         5.461475  ,  6.6022644 ,  4.3863764 ,  4.331094  ,  4.1512337 ,\n",
              "         3.7604895 ,  5.8717957 ,  3.391436  ,  7.7865796 ,  7.6393356 ,\n",
              "         6.4487295 ,  7.363642  ,  3.4233432 ,  2.590997  ,  3.6199875 ,\n",
              "         3.1713557 ,  4.5925913 ,  5.2970963 ,  7.937712  ,  6.8574405 ,\n",
              "         4.0853744 ,  2.5228343 ,  2.2545924 ,  2.587661  ,  2.9448555 ,\n",
              "         4.5569267 ,  2.4313123 ,  3.0516794 ,  3.3772268 ,  3.4042895 ,\n",
              "         4.3422894 ,  6.606675  ,  8.046933  ,  7.2780037 ,  7.845979  ,\n",
              "         9.660361  , 10.618535  , 10.832406  , 12.198376  ,  6.908533  ,\n",
              "         4.6177716 ,  4.309858  ,  3.9850955 ,  4.4663644 ,  5.035839  ,\n",
              "         5.5141525 ,  5.467347  ,  5.884168  ,  7.832285  ,  8.102285  ,\n",
              "         3.7761967 ,  4.2418013 ,  6.148285  ,  4.6930532 ,  2.0601845 ,\n",
              "         2.4504592 ,  2.8088107 ,  4.1094875 ,  5.850769  ,  7.67786   ,\n",
              "         7.30569   ,  4.006806  ,  2.411431  ,  3.0796576 ,  3.258652  ,\n",
              "         5.1710787 ,  7.442754  ,  6.9721656 ,  4.935645  ,  3.7200954 ,\n",
              "         1.7532011 ,  1.7065223 ,  3.4424498 ,  1.8359019 ,  0.8607571 ,\n",
              "         2.2634382 ,  2.4665449 ,  2.358398  ,  2.2776215 ,  3.1266093 ,\n",
              "         4.119055  ,  4.916033  ,  2.42925   ,  1.7637792 ,  1.893427  ,\n",
              "         1.6452843 ,  1.3542616 ,  1.1725261 ,  2.0657449 ,  2.145939  ,\n",
              "         1.9801583 ,  2.0439043 ,  2.6595256 ,  3.3512776 ,  4.674622  ,\n",
              "         3.5437338 ,  2.941029  ,  2.1495366 ,  0.9637917 ,  0.831033  ,\n",
              "         0.8326635 ,  0.80607605,  0.9009706 ,  1.1804453 ,  1.0417475 ,\n",
              "         1.002223  ,  1.2727749 ,  0.9408405 ,  0.9937384 ,  2.0408516 ,\n",
              "         1.6744187 ,  1.6118232 ,  1.4723322 ,  1.6167144 ,  1.4064546 ,\n",
              "         1.245363  ,  0.84567547,  1.1933857 ,  1.7805222 ,  2.3109329 ,\n",
              "         3.205781  ,  5.6811547 ,  6.621064  ,  7.531116  ,  8.31936   ,\n",
              "        10.075335  , 11.867569  , 11.850476  ,  5.7919197 ,  3.2424476 ,\n",
              "         1.3722603 ,  2.1123524 ,  2.16307   ,  2.4604888 ,  1.3287368 ,\n",
              "         1.8348051 ,  2.299558  ,  1.8862125 ,  1.3236612 ,  1.274188  ,\n",
              "         1.4024115 ,  1.7778765 ,  2.129098  ,  1.5877393 ,  1.8456353 ,\n",
              "         1.6650137 ,  1.6605315 ,  1.9287821 ,  2.20556   ,  3.5061677 ,\n",
              "         4.8138075 ,  3.2902365 ,  3.3432703 ,  2.3026836 ,  1.9920896 ,\n",
              "         1.986101  ,  2.3209364 ,  1.001572  ,  1.4363161 ,  2.7970362 ,\n",
              "         3.8610008 ,  5.91326   ,  7.7942147 , 10.182084  , 13.626981  ,\n",
              "        14.085157  , 10.11672   ,  6.4492064 ,  1.4790459 ,  1.2785413 ,\n",
              "         1.7938647 ,  4.0723195 ,  4.301462  ,  3.8364377 ,  3.9609487 ,\n",
              "         3.4572887 ,  4.1241803 ,  2.832483  ,  2.2425344 ,  2.584515  ,\n",
              "         3.5119236 ,  3.845007  ,  4.4869018 ,  3.8583846 ,  1.3020084 ,\n",
              "         1.1722722 ,  2.4518015 ,  1.8089672 ,  1.5521188 ,  1.6147584 ,\n",
              "         2.1778936 ,  2.9477797 ,  3.2652774 ,  3.0866807 ,  1.6071489 ,\n",
              "         0.99697506,  1.9985627 ,  2.7218163 ,  3.489098  ,  4.7341413 ,\n",
              "         5.7310486 ,  5.134841  ,  4.1546755 ,  1.8640345 ,  1.0764271 ,\n",
              "         1.5410243 ,  1.5353853 ,  2.715743  ,  4.3863764 ,  5.721093  ,\n",
              "         7.7104754 ,  9.112656  ,  9.49785   ,  9.691219  ,  4.745964  ,\n",
              "         1.3844726 ,  1.675012  ,  1.573868  ,  1.9175513 ,  2.0391426 ,\n",
              "         1.1149349 ,  1.3290045 ,  3.1306493 ,  4.5235753 ,  4.633064  ,\n",
              "         5.605403  ,  7.1991444 ,  8.16722   ,  7.8927336 ,  4.1167207 ,\n",
              "         2.4506087 ,  2.8899665 ,  2.2511275 ,  2.7904305 ,  4.6783056 ,\n",
              "         5.315938  ,  5.4199176 ,  5.927027  ,  7.686476  , 10.210877  ,\n",
              "         8.918643  ,  6.759671  ,  4.4784136 ,  3.8085825 ,  3.6725488 ,\n",
              "         4.353577  ,  5.455547  ,  5.2975273 ,  5.6438856 ,  5.342487  ,\n",
              "         4.5955296 ,  6.7257032 ,  6.7552805 ,  6.500975  ,  2.5501895 ,\n",
              "         1.3056492 ,  2.0733626 ,  4.224477  ,  4.20823   ,  3.6114342 ,\n",
              "         3.9560072 ,  3.1441417 ,  2.1270564 ,  3.8241944 ,  6.780075  ,\n",
              "        10.314045  , 12.432129  , 13.797617  , 14.838529  , 15.716913  ,\n",
              "        11.7185545 ,  5.7811747 ,  2.7371109 ,  2.8699188 ,  4.2304273 ,\n",
              "         5.350374  ,  6.4344687 ,  8.952217  , 11.927817  , 12.332944  ,\n",
              "        10.376417  , 10.48692   , 10.577401  , 11.952384  , 10.936443  ,\n",
              "        12.436188  , 15.001951  , 13.186089  , 12.312599  , 13.1579685 ,\n",
              "         9.80962   ,  7.56044   ,  5.457162  ,  8.557273  , 12.096824  ,\n",
              "        11.996922  ,  4.7038608 ,  2.0651932 ,  2.1052809 ,  6.5151477 ,\n",
              "         7.028548  ,  7.3009014 ,  9.153098  , 11.270296  , 13.452527  ,\n",
              "        13.276456  ,  4.214362  ,  3.3165417 ,  3.7774477 ,  4.370412  ,\n",
              "         4.9418526 ,  6.55212   , 10.75402   ,  9.94533   ,  7.382132  ,\n",
              "         7.0112085 ,  8.904441  , 12.370489  , 12.616436  , 11.496754  ,\n",
              "        12.680212  , 13.828738  , 12.922923  , 15.752318  , 10.939295  ,\n",
              "         4.787573  ,  5.0133467 ,  3.0332973 ,  4.141503  ,  5.629756  ,\n",
              "         6.3435397 ,  7.272862  ,  7.645358  ,  6.7855663 ,  6.726049  ,\n",
              "         9.270452  , 13.209828  , 18.97006   , 19.737097  , 11.921772  ,\n",
              "         6.8898253 ,  5.0010986 ,  3.6040664 ,  5.2521143 ,  8.053635  ,\n",
              "         5.7908363 ,  6.1957827 ,  4.705709  ,  6.6234546 ,  8.216457  ,\n",
              "        10.681895  , 11.286448  , 11.458514  ,  8.088355  ,  5.324774  ,\n",
              "         2.7340207 ,  2.7409327 ,  3.0192857 ,  5.0394955 ,  2.8953862 ,\n",
              "         3.0305576 ,  5.252569  ,  6.340542  ,  8.167997  ,  8.581092  ,\n",
              "         9.292953  ,  4.400546  ,  3.5051625 ,  3.9400566 ,  6.4691358 ,\n",
              "         7.1389546 ,  4.5535645 ,  5.624172  ,  3.1710587 ,  0.9535591 ,\n",
              "         1.8029408 ,  2.1968718 ,  2.3841906 ,  1.2919155 ,  1.3789805 ,\n",
              "         1.4933548 ,  2.2175415 ,  4.302975  ,  5.201021  ,  5.433372  ,\n",
              "         4.239538  ,  4.1824746 ,  4.813177  ,  5.924927  ,  9.417205  ,\n",
              "        13.1424055 , 16.006765  , 16.572649  , 14.345972  , 10.808362  ,\n",
              "         9.174263  ,  5.8290915 ,  3.602929  ,  5.3274693 ,  7.267033  ,\n",
              "        10.919838  ,  8.378641  ,  4.5402975 ,  3.911962  ,  4.6255717 ,\n",
              "         1.5408919 ,  1.7576607 ,  1.7786672 ,  2.3291702 ,  2.3734367 ,\n",
              "         3.247312  ,  4.765532  ,  6.701208  , 10.641563  , 15.160283  ,\n",
              "        17.684074  ], dtype=float32),\n",
              " 'mase': 2.243041}"
            ]
          },
          "metadata": {},
          "execution_count": 67
        }
      ]
    },
    {
      "cell_type": "markdown",
      "source": [
        "#Make a multivariate time series dataset\n"
      ],
      "metadata": {
        "id": "_9DyWmn6KikN"
      }
    },
    {
      "cell_type": "code",
      "source": [
        "# Let's make a multivariate time series \n",
        "bitcoin_prices.head()"
      ],
      "metadata": {
        "id": "FTq1evlmWY65",
        "colab": {
          "base_uri": "https://localhost:8080/"
        },
        "outputId": "e5dcdee9-9124-4e13-f988-62d327a5181b"
      },
      "execution_count": null,
      "outputs": [
        {
          "output_type": "execute_result",
          "data": {
            "text/plain": [
              "                Price\n",
              "Date                 \n",
              "2013-10-01  123.65499\n",
              "2013-10-02  125.45500\n",
              "2013-10-03  108.58483\n",
              "2013-10-04  118.67466\n",
              "2013-10-05  121.33866"
            ],
            "text/html": [
              "\n",
              "  <div id=\"df-d4b3d481-a9f0-45bd-8244-acaa33b46b9d\">\n",
              "    <div class=\"colab-df-container\">\n",
              "      <div>\n",
              "<style scoped>\n",
              "    .dataframe tbody tr th:only-of-type {\n",
              "        vertical-align: middle;\n",
              "    }\n",
              "\n",
              "    .dataframe tbody tr th {\n",
              "        vertical-align: top;\n",
              "    }\n",
              "\n",
              "    .dataframe thead th {\n",
              "        text-align: right;\n",
              "    }\n",
              "</style>\n",
              "<table border=\"1\" class=\"dataframe\">\n",
              "  <thead>\n",
              "    <tr style=\"text-align: right;\">\n",
              "      <th></th>\n",
              "      <th>Price</th>\n",
              "    </tr>\n",
              "    <tr>\n",
              "      <th>Date</th>\n",
              "      <th></th>\n",
              "    </tr>\n",
              "  </thead>\n",
              "  <tbody>\n",
              "    <tr>\n",
              "      <th>2013-10-01</th>\n",
              "      <td>123.65499</td>\n",
              "    </tr>\n",
              "    <tr>\n",
              "      <th>2013-10-02</th>\n",
              "      <td>125.45500</td>\n",
              "    </tr>\n",
              "    <tr>\n",
              "      <th>2013-10-03</th>\n",
              "      <td>108.58483</td>\n",
              "    </tr>\n",
              "    <tr>\n",
              "      <th>2013-10-04</th>\n",
              "      <td>118.67466</td>\n",
              "    </tr>\n",
              "    <tr>\n",
              "      <th>2013-10-05</th>\n",
              "      <td>121.33866</td>\n",
              "    </tr>\n",
              "  </tbody>\n",
              "</table>\n",
              "</div>\n",
              "      <button class=\"colab-df-convert\" onclick=\"convertToInteractive('df-d4b3d481-a9f0-45bd-8244-acaa33b46b9d')\"\n",
              "              title=\"Convert this dataframe to an interactive table.\"\n",
              "              style=\"display:none;\">\n",
              "        \n",
              "  <svg xmlns=\"http://www.w3.org/2000/svg\" height=\"24px\"viewBox=\"0 0 24 24\"\n",
              "       width=\"24px\">\n",
              "    <path d=\"M0 0h24v24H0V0z\" fill=\"none\"/>\n",
              "    <path d=\"M18.56 5.44l.94 2.06.94-2.06 2.06-.94-2.06-.94-.94-2.06-.94 2.06-2.06.94zm-11 1L8.5 8.5l.94-2.06 2.06-.94-2.06-.94L8.5 2.5l-.94 2.06-2.06.94zm10 10l.94 2.06.94-2.06 2.06-.94-2.06-.94-.94-2.06-.94 2.06-2.06.94z\"/><path d=\"M17.41 7.96l-1.37-1.37c-.4-.4-.92-.59-1.43-.59-.52 0-1.04.2-1.43.59L10.3 9.45l-7.72 7.72c-.78.78-.78 2.05 0 2.83L4 21.41c.39.39.9.59 1.41.59.51 0 1.02-.2 1.41-.59l7.78-7.78 2.81-2.81c.8-.78.8-2.07 0-2.86zM5.41 20L4 18.59l7.72-7.72 1.47 1.35L5.41 20z\"/>\n",
              "  </svg>\n",
              "      </button>\n",
              "      \n",
              "  <style>\n",
              "    .colab-df-container {\n",
              "      display:flex;\n",
              "      flex-wrap:wrap;\n",
              "      gap: 12px;\n",
              "    }\n",
              "\n",
              "    .colab-df-convert {\n",
              "      background-color: #E8F0FE;\n",
              "      border: none;\n",
              "      border-radius: 50%;\n",
              "      cursor: pointer;\n",
              "      display: none;\n",
              "      fill: #1967D2;\n",
              "      height: 32px;\n",
              "      padding: 0 0 0 0;\n",
              "      width: 32px;\n",
              "    }\n",
              "\n",
              "    .colab-df-convert:hover {\n",
              "      background-color: #E2EBFA;\n",
              "      box-shadow: 0px 1px 2px rgba(60, 64, 67, 0.3), 0px 1px 3px 1px rgba(60, 64, 67, 0.15);\n",
              "      fill: #174EA6;\n",
              "    }\n",
              "\n",
              "    [theme=dark] .colab-df-convert {\n",
              "      background-color: #3B4455;\n",
              "      fill: #D2E3FC;\n",
              "    }\n",
              "\n",
              "    [theme=dark] .colab-df-convert:hover {\n",
              "      background-color: #434B5C;\n",
              "      box-shadow: 0px 1px 3px 1px rgba(0, 0, 0, 0.15);\n",
              "      filter: drop-shadow(0px 1px 2px rgba(0, 0, 0, 0.3));\n",
              "      fill: #FFFFFF;\n",
              "    }\n",
              "  </style>\n",
              "\n",
              "      <script>\n",
              "        const buttonEl =\n",
              "          document.querySelector('#df-d4b3d481-a9f0-45bd-8244-acaa33b46b9d button.colab-df-convert');\n",
              "        buttonEl.style.display =\n",
              "          google.colab.kernel.accessAllowed ? 'block' : 'none';\n",
              "\n",
              "        async function convertToInteractive(key) {\n",
              "          const element = document.querySelector('#df-d4b3d481-a9f0-45bd-8244-acaa33b46b9d');\n",
              "          const dataTable =\n",
              "            await google.colab.kernel.invokeFunction('convertToInteractive',\n",
              "                                                     [key], {});\n",
              "          if (!dataTable) return;\n",
              "\n",
              "          const docLinkHtml = 'Like what you see? Visit the ' +\n",
              "            '<a target=\"_blank\" href=https://colab.research.google.com/notebooks/data_table.ipynb>data table notebook</a>'\n",
              "            + ' to learn more about interactive tables.';\n",
              "          element.innerHTML = '';\n",
              "          dataTable['output_type'] = 'display_data';\n",
              "          await google.colab.output.renderOutput(dataTable, element);\n",
              "          const docLink = document.createElement('div');\n",
              "          docLink.innerHTML = docLinkHtml;\n",
              "          element.appendChild(docLink);\n",
              "        }\n",
              "      </script>\n",
              "    </div>\n",
              "  </div>\n",
              "  "
            ]
          },
          "metadata": {},
          "execution_count": 49
        }
      ]
    },
    {
      "cell_type": "code",
      "source": [
        "# Let's add the bitcoin halving events to our dataset\n",
        "block_reward_1 = 50 # 3 January 2009 - this block reward isn't in our dataset (our data starts from 01 October 2013)\n",
        "block_reward_2 = 25 # 8 November 2012\n",
        "block_reward_3 = 12.5 # 9 July 2016\n",
        "block_reward_4 = 6.25 # 18 May 2020\n",
        "\n",
        "# Block reward dates\n",
        "block_reward_2_datetime = np.datetime64(\"2012-11-28\")\n",
        "block_reward_3_datetime = np.datetime64(\"2016-07-09\")\n",
        "block_reward_4_datetime = np.datetime64(\"2020-05-18\")"
      ],
      "metadata": {
        "id": "kgBDEpT9Kmql"
      },
      "execution_count": null,
      "outputs": []
    },
    {
      "cell_type": "code",
      "source": [
        "# Create date ranges of where specific block_reward values should be\n",
        "block_reward_2_days = (block_reward_3_datetime - bitcoin_prices.index[0]).days\n",
        "block_reward_3_days = (block_reward_4_datetime - bitcoin_prices.index[0]).days\n",
        "block_reward_2_days, block_reward_3_days"
      ],
      "metadata": {
        "colab": {
          "base_uri": "https://localhost:8080/"
        },
        "id": "XuZ4vV5sKoUb",
        "outputId": "4c8d9e05-b11e-4ecc-d8d0-55a9bd4780ff"
      },
      "execution_count": null,
      "outputs": [
        {
          "output_type": "execute_result",
          "data": {
            "text/plain": [
              "(1012, 2421)"
            ]
          },
          "metadata": {},
          "execution_count": 51
        }
      ]
    },
    {
      "cell_type": "code",
      "source": [
        "# Add in a block_reward column\n",
        "bitcoin_prices_block = bitcoin_prices.copy()\n",
        "bitcoin_prices_block[\"block_reward\"] = None\n",
        "\n",
        "# Add in block_reward values as a feature to our dataframe\n",
        "bitcoin_prices_block.iloc[:block_reward_2_days, -1] = block_reward_2\n",
        "bitcoin_prices_block.iloc[block_reward_2_days:block_reward_3_days, -1] = block_reward_3\n",
        "bitcoin_prices_block.iloc[block_reward_3_days:, -1] = block_reward_4"
      ],
      "metadata": {
        "id": "nbn86od6Lmtu"
      },
      "execution_count": null,
      "outputs": []
    },
    {
      "cell_type": "code",
      "source": [
        "bitcoin_prices_block.head()"
      ],
      "metadata": {
        "colab": {
          "base_uri": "https://localhost:8080/"
        },
        "id": "dCuyUfi-LoLV",
        "outputId": "f8268b63-9a62-4c1d-ec54-a47201e791ca"
      },
      "execution_count": null,
      "outputs": [
        {
          "output_type": "execute_result",
          "data": {
            "text/plain": [
              "                Price block_reward\n",
              "Date                              \n",
              "2013-10-01  123.65499           25\n",
              "2013-10-02  125.45500           25\n",
              "2013-10-03  108.58483           25\n",
              "2013-10-04  118.67466           25\n",
              "2013-10-05  121.33866           25"
            ],
            "text/html": [
              "\n",
              "  <div id=\"df-cc62b09c-58d5-414d-b903-77f3f62436ec\">\n",
              "    <div class=\"colab-df-container\">\n",
              "      <div>\n",
              "<style scoped>\n",
              "    .dataframe tbody tr th:only-of-type {\n",
              "        vertical-align: middle;\n",
              "    }\n",
              "\n",
              "    .dataframe tbody tr th {\n",
              "        vertical-align: top;\n",
              "    }\n",
              "\n",
              "    .dataframe thead th {\n",
              "        text-align: right;\n",
              "    }\n",
              "</style>\n",
              "<table border=\"1\" class=\"dataframe\">\n",
              "  <thead>\n",
              "    <tr style=\"text-align: right;\">\n",
              "      <th></th>\n",
              "      <th>Price</th>\n",
              "      <th>block_reward</th>\n",
              "    </tr>\n",
              "    <tr>\n",
              "      <th>Date</th>\n",
              "      <th></th>\n",
              "      <th></th>\n",
              "    </tr>\n",
              "  </thead>\n",
              "  <tbody>\n",
              "    <tr>\n",
              "      <th>2013-10-01</th>\n",
              "      <td>123.65499</td>\n",
              "      <td>25</td>\n",
              "    </tr>\n",
              "    <tr>\n",
              "      <th>2013-10-02</th>\n",
              "      <td>125.45500</td>\n",
              "      <td>25</td>\n",
              "    </tr>\n",
              "    <tr>\n",
              "      <th>2013-10-03</th>\n",
              "      <td>108.58483</td>\n",
              "      <td>25</td>\n",
              "    </tr>\n",
              "    <tr>\n",
              "      <th>2013-10-04</th>\n",
              "      <td>118.67466</td>\n",
              "      <td>25</td>\n",
              "    </tr>\n",
              "    <tr>\n",
              "      <th>2013-10-05</th>\n",
              "      <td>121.33866</td>\n",
              "      <td>25</td>\n",
              "    </tr>\n",
              "  </tbody>\n",
              "</table>\n",
              "</div>\n",
              "      <button class=\"colab-df-convert\" onclick=\"convertToInteractive('df-cc62b09c-58d5-414d-b903-77f3f62436ec')\"\n",
              "              title=\"Convert this dataframe to an interactive table.\"\n",
              "              style=\"display:none;\">\n",
              "        \n",
              "  <svg xmlns=\"http://www.w3.org/2000/svg\" height=\"24px\"viewBox=\"0 0 24 24\"\n",
              "       width=\"24px\">\n",
              "    <path d=\"M0 0h24v24H0V0z\" fill=\"none\"/>\n",
              "    <path d=\"M18.56 5.44l.94 2.06.94-2.06 2.06-.94-2.06-.94-.94-2.06-.94 2.06-2.06.94zm-11 1L8.5 8.5l.94-2.06 2.06-.94-2.06-.94L8.5 2.5l-.94 2.06-2.06.94zm10 10l.94 2.06.94-2.06 2.06-.94-2.06-.94-.94-2.06-.94 2.06-2.06.94z\"/><path d=\"M17.41 7.96l-1.37-1.37c-.4-.4-.92-.59-1.43-.59-.52 0-1.04.2-1.43.59L10.3 9.45l-7.72 7.72c-.78.78-.78 2.05 0 2.83L4 21.41c.39.39.9.59 1.41.59.51 0 1.02-.2 1.41-.59l7.78-7.78 2.81-2.81c.8-.78.8-2.07 0-2.86zM5.41 20L4 18.59l7.72-7.72 1.47 1.35L5.41 20z\"/>\n",
              "  </svg>\n",
              "      </button>\n",
              "      \n",
              "  <style>\n",
              "    .colab-df-container {\n",
              "      display:flex;\n",
              "      flex-wrap:wrap;\n",
              "      gap: 12px;\n",
              "    }\n",
              "\n",
              "    .colab-df-convert {\n",
              "      background-color: #E8F0FE;\n",
              "      border: none;\n",
              "      border-radius: 50%;\n",
              "      cursor: pointer;\n",
              "      display: none;\n",
              "      fill: #1967D2;\n",
              "      height: 32px;\n",
              "      padding: 0 0 0 0;\n",
              "      width: 32px;\n",
              "    }\n",
              "\n",
              "    .colab-df-convert:hover {\n",
              "      background-color: #E2EBFA;\n",
              "      box-shadow: 0px 1px 2px rgba(60, 64, 67, 0.3), 0px 1px 3px 1px rgba(60, 64, 67, 0.15);\n",
              "      fill: #174EA6;\n",
              "    }\n",
              "\n",
              "    [theme=dark] .colab-df-convert {\n",
              "      background-color: #3B4455;\n",
              "      fill: #D2E3FC;\n",
              "    }\n",
              "\n",
              "    [theme=dark] .colab-df-convert:hover {\n",
              "      background-color: #434B5C;\n",
              "      box-shadow: 0px 1px 3px 1px rgba(0, 0, 0, 0.15);\n",
              "      filter: drop-shadow(0px 1px 2px rgba(0, 0, 0, 0.3));\n",
              "      fill: #FFFFFF;\n",
              "    }\n",
              "  </style>\n",
              "\n",
              "      <script>\n",
              "        const buttonEl =\n",
              "          document.querySelector('#df-cc62b09c-58d5-414d-b903-77f3f62436ec button.colab-df-convert');\n",
              "        buttonEl.style.display =\n",
              "          google.colab.kernel.accessAllowed ? 'block' : 'none';\n",
              "\n",
              "        async function convertToInteractive(key) {\n",
              "          const element = document.querySelector('#df-cc62b09c-58d5-414d-b903-77f3f62436ec');\n",
              "          const dataTable =\n",
              "            await google.colab.kernel.invokeFunction('convertToInteractive',\n",
              "                                                     [key], {});\n",
              "          if (!dataTable) return;\n",
              "\n",
              "          const docLinkHtml = 'Like what you see? Visit the ' +\n",
              "            '<a target=\"_blank\" href=https://colab.research.google.com/notebooks/data_table.ipynb>data table notebook</a>'\n",
              "            + ' to learn more about interactive tables.';\n",
              "          element.innerHTML = '';\n",
              "          dataTable['output_type'] = 'display_data';\n",
              "          await google.colab.output.renderOutput(dataTable, element);\n",
              "          const docLink = document.createElement('div');\n",
              "          docLink.innerHTML = docLinkHtml;\n",
              "          element.appendChild(docLink);\n",
              "        }\n",
              "      </script>\n",
              "    </div>\n",
              "  </div>\n",
              "  "
            ]
          },
          "metadata": {},
          "execution_count": 53
        }
      ]
    },
    {
      "cell_type": "code",
      "source": [
        "# Plot the block reward vs price over time\n",
        "from sklearn.preprocessing import minmax_scale\n",
        "scaled_price_block_df = pd.DataFrame(minmax_scale(bitcoin_prices_block[[\"Price\", \"block_reward\"]]),\n",
        "                                                                       columns=bitcoin_prices_block.columns,\n",
        "                                                                       index=bitcoin_prices_block.index)\n",
        "scaled_price_block_df.plot(figsize=(10, 7));"
      ],
      "metadata": {
        "colab": {
          "base_uri": "https://localhost:8080/"
        },
        "id": "z_QB84vYLtpv",
        "outputId": "8eb4e463-ba9e-4167-e908-cb0c50c63c75"
      },
      "execution_count": null,
      "outputs": [
        {
          "output_type": "display_data",
          "data": {
            "text/plain": [
              "<Figure size 720x504 with 1 Axes>"
            ],
            "image/png": "[encoded data removed]"
          },
          "metadata": {
            "needs_background": "light"
          }
        }
      ]
    },
    {
      "cell_type": "markdown",
      "source": [
        "##Making a windowed dataset with pandas\n"
      ],
      "metadata": {
        "id": "oTFE59lAO-lK"
      }
    },
    {
      "cell_type": "code",
      "source": [
        "# Setup dataset hyperparameters\n",
        "HORIZON = 1\n",
        "WINDOW_SIZE = 7"
      ],
      "metadata": {
        "id": "KZhHKoccO_yV"
      },
      "execution_count": null,
      "outputs": []
    },
    {
      "cell_type": "code",
      "source": [
        "# Make a copy of the Bitcoin historical data with block reward feature\n",
        "bitcoin_prices_windowed = bitcoin_prices_block.copy()\n",
        "\n",
        "# Add windowed columns\n",
        "for i in range(WINDOW_SIZE): # shift values for each step in WINDOW_SIZE\n",
        "  bitcoin_prices_windowed[f\"Price+{i+1}\"] = bitcoin_prices_windowed[\"Price\"].shift(periods=i+1)\n",
        "bitcoin_prices_windowed.head(10)"
      ],
      "metadata": {
        "colab": {
          "base_uri": "https://localhost:8080/"
        },
        "id": "LkK6EzpQPBoA",
        "outputId": "c1602366-649e-4906-a932-715424acec7d"
      },
      "execution_count": null,
      "outputs": [
        {
          "output_type": "execute_result",
          "data": {
            "text/plain": [
              "                Price block_reward    Price+1    Price+2    Price+3  \\\n",
              "Date                                                                  \n",
              "2013-10-01  123.65499           25        NaN        NaN        NaN   \n",
              "2013-10-02  125.45500           25  123.65499        NaN        NaN   \n",
              "2013-10-03  108.58483           25  125.45500  123.65499        NaN   \n",
              "2013-10-04  118.67466           25  108.58483  125.45500  123.65499   \n",
              "2013-10-05  121.33866           25  118.67466  108.58483  125.45500   \n",
              "2013-10-06  120.65533           25  121.33866  118.67466  108.58483   \n",
              "2013-10-07  121.79500           25  120.65533  121.33866  118.67466   \n",
              "2013-10-08  123.03300           25  121.79500  120.65533  121.33866   \n",
              "2013-10-09  124.04900           25  123.03300  121.79500  120.65533   \n",
              "2013-10-10  125.96116           25  124.04900  123.03300  121.79500   \n",
              "\n",
              "              Price+4    Price+5    Price+6    Price+7  \n",
              "Date                                                    \n",
              "2013-10-01        NaN        NaN        NaN        NaN  \n",
              "2013-10-02        NaN        NaN        NaN        NaN  \n",
              "2013-10-03        NaN        NaN        NaN        NaN  \n",
              "2013-10-04        NaN        NaN        NaN        NaN  \n",
              "2013-10-05  123.65499        NaN        NaN        NaN  \n",
              "2013-10-06  125.45500  123.65499        NaN        NaN  \n",
              "2013-10-07  108.58483  125.45500  123.65499        NaN  \n",
              "2013-10-08  118.67466  108.58483  125.45500  123.65499  \n",
              "2013-10-09  121.33866  118.67466  108.58483  125.45500  \n",
              "2013-10-10  120.65533  121.33866  118.67466  108.58483  "
            ],
            "text/html": [
              "\n",
              "  <div id=\"df-3b81cf33-81f3-4ed0-a7e9-b2ccc6ec6c0c\">\n",
              "    <div class=\"colab-df-container\">\n",
              "      <div>\n",
              "<style scoped>\n",
              "    .dataframe tbody tr th:only-of-type {\n",
              "        vertical-align: middle;\n",
              "    }\n",
              "\n",
              "    .dataframe tbody tr th {\n",
              "        vertical-align: top;\n",
              "    }\n",
              "\n",
              "    .dataframe thead th {\n",
              "        text-align: right;\n",
              "    }\n",
              "</style>\n",
              "<table border=\"1\" class=\"dataframe\">\n",
              "  <thead>\n",
              "    <tr style=\"text-align: right;\">\n",
              "      <th></th>\n",
              "      <th>Price</th>\n",
              "      <th>block_reward</th>\n",
              "      <th>Price+1</th>\n",
              "      <th>Price+2</th>\n",
              "      <th>Price+3</th>\n",
              "      <th>Price+4</th>\n",
              "      <th>Price+5</th>\n",
              "      <th>Price+6</th>\n",
              "      <th>Price+7</th>\n",
              "    </tr>\n",
              "    <tr>\n",
              "      <th>Date</th>\n",
              "      <th></th>\n",
              "      <th></th>\n",
              "      <th></th>\n",
              "      <th></th>\n",
              "      <th></th>\n",
              "      <th></th>\n",
              "      <th></th>\n",
              "      <th></th>\n",
              "      <th></th>\n",
              "    </tr>\n",
              "  </thead>\n",
              "  <tbody>\n",
              "    <tr>\n",
              "      <th>2013-10-01</th>\n",
              "      <td>123.65499</td>\n",
              "      <td>25</td>\n",
              "      <td>NaN</td>\n",
              "      <td>NaN</td>\n",
              "      <td>NaN</td>\n",
              "      <td>NaN</td>\n",
              "      <td>NaN</td>\n",
              "      <td>NaN</td>\n",
              "      <td>NaN</td>\n",
              "    </tr>\n",
              "    <tr>\n",
              "      <th>2013-10-02</th>\n",
              "      <td>125.45500</td>\n",
              "      <td>25</td>\n",
              "      <td>123.65499</td>\n",
              "      <td>NaN</td>\n",
              "      <td>NaN</td>\n",
              "      <td>NaN</td>\n",
              "      <td>NaN</td>\n",
              "      <td>NaN</td>\n",
              "      <td>NaN</td>\n",
              "    </tr>\n",
              "    <tr>\n",
              "      <th>2013-10-03</th>\n",
              "      <td>108.58483</td>\n",
              "      <td>25</td>\n",
              "      <td>125.45500</td>\n",
              "      <td>123.65499</td>\n",
              "      <td>NaN</td>\n",
              "      <td>NaN</td>\n",
              "      <td>NaN</td>\n",
              "      <td>NaN</td>\n",
              "      <td>NaN</td>\n",
              "    </tr>\n",
              "    <tr>\n",
              "      <th>2013-10-04</th>\n",
              "      <td>118.67466</td>\n",
              "      <td>25</td>\n",
              "      <td>108.58483</td>\n",
              "      <td>125.45500</td>\n",
              "      <td>123.65499</td>\n",
              "      <td>NaN</td>\n",
              "      <td>NaN</td>\n",
              "      <td>NaN</td>\n",
              "      <td>NaN</td>\n",
              "    </tr>\n",
              "    <tr>\n",
              "      <th>2013-10-05</th>\n",
              "      <td>121.33866</td>\n",
              "      <td>25</td>\n",
              "      <td>118.67466</td>\n",
              "      <td>108.58483</td>\n",
              "      <td>125.45500</td>\n",
              "      <td>123.65499</td>\n",
              "      <td>NaN</td>\n",
              "      <td>NaN</td>\n",
              "      <td>NaN</td>\n",
              "    </tr>\n",
              "    <tr>\n",
              "      <th>2013-10-06</th>\n",
              "      <td>120.65533</td>\n",
              "      <td>25</td>\n",
              "      <td>121.33866</td>\n",
              "      <td>118.67466</td>\n",
              "      <td>108.58483</td>\n",
              "      <td>125.45500</td>\n",
              "      <td>123.65499</td>\n",
              "      <td>NaN</td>\n",
              "      <td>NaN</td>\n",
              "    </tr>\n",
              "    <tr>\n",
              "      <th>2013-10-07</th>\n",
              "      <td>121.79500</td>\n",
              "      <td>25</td>\n",
              "      <td>120.65533</td>\n",
              "      <td>121.33866</td>\n",
              "      <td>118.67466</td>\n",
              "      <td>108.58483</td>\n",
              "      <td>125.45500</td>\n",
              "      <td>123.65499</td>\n",
              "      <td>NaN</td>\n",
              "    </tr>\n",
              "    <tr>\n",
              "      <th>2013-10-08</th>\n",
              "      <td>123.03300</td>\n",
              "      <td>25</td>\n",
              "      <td>121.79500</td>\n",
              "      <td>120.65533</td>\n",
              "      <td>121.33866</td>\n",
              "      <td>118.67466</td>\n",
              "      <td>108.58483</td>\n",
              "      <td>125.45500</td>\n",
              "      <td>123.65499</td>\n",
              "    </tr>\n",
              "    <tr>\n",
              "      <th>2013-10-09</th>\n",
              "      <td>124.04900</td>\n",
              "      <td>25</td>\n",
              "      <td>123.03300</td>\n",
              "      <td>121.79500</td>\n",
              "      <td>120.65533</td>\n",
              "      <td>121.33866</td>\n",
              "      <td>118.67466</td>\n",
              "      <td>108.58483</td>\n",
              "      <td>125.45500</td>\n",
              "    </tr>\n",
              "    <tr>\n",
              "      <th>2013-10-10</th>\n",
              "      <td>125.96116</td>\n",
              "      <td>25</td>\n",
              "      <td>124.04900</td>\n",
              "      <td>123.03300</td>\n",
              "      <td>121.79500</td>\n",
              "      <td>120.65533</td>\n",
              "      <td>121.33866</td>\n",
              "      <td>118.67466</td>\n",
              "      <td>108.58483</td>\n",
              "    </tr>\n",
              "  </tbody>\n",
              "</table>\n",
              "</div>\n",
              "      <button class=\"colab-df-convert\" onclick=\"convertToInteractive('df-3b81cf33-81f3-4ed0-a7e9-b2ccc6ec6c0c')\"\n",
              "              title=\"Convert this dataframe to an interactive table.\"\n",
              "              style=\"display:none;\">\n",
              "        \n",
              "  <svg xmlns=\"http://www.w3.org/2000/svg\" height=\"24px\"viewBox=\"0 0 24 24\"\n",
              "       width=\"24px\">\n",
              "    <path d=\"M0 0h24v24H0V0z\" fill=\"none\"/>\n",
              "    <path d=\"M18.56 5.44l.94 2.06.94-2.06 2.06-.94-2.06-.94-.94-2.06-.94 2.06-2.06.94zm-11 1L8.5 8.5l.94-2.06 2.06-.94-2.06-.94L8.5 2.5l-.94 2.06-2.06.94zm10 10l.94 2.06.94-2.06 2.06-.94-2.06-.94-.94-2.06-.94 2.06-2.06.94z\"/><path d=\"M17.41 7.96l-1.37-1.37c-.4-.4-.92-.59-1.43-.59-.52 0-1.04.2-1.43.59L10.3 9.45l-7.72 7.72c-.78.78-.78 2.05 0 2.83L4 21.41c.39.39.9.59 1.41.59.51 0 1.02-.2 1.41-.59l7.78-7.78 2.81-2.81c.8-.78.8-2.07 0-2.86zM5.41 20L4 18.59l7.72-7.72 1.47 1.35L5.41 20z\"/>\n",
              "  </svg>\n",
              "      </button>\n",
              "      \n",
              "  <style>\n",
              "    .colab-df-container {\n",
              "      display:flex;\n",
              "      flex-wrap:wrap;\n",
              "      gap: 12px;\n",
              "    }\n",
              "\n",
              "    .colab-df-convert {\n",
              "      background-color: #E8F0FE;\n",
              "      border: none;\n",
              "      border-radius: 50%;\n",
              "      cursor: pointer;\n",
              "      display: none;\n",
              "      fill: #1967D2;\n",
              "      height: 32px;\n",
              "      padding: 0 0 0 0;\n",
              "      width: 32px;\n",
              "    }\n",
              "\n",
              "    .colab-df-convert:hover {\n",
              "      background-color: #E2EBFA;\n",
              "      box-shadow: 0px 1px 2px rgba(60, 64, 67, 0.3), 0px 1px 3px 1px rgba(60, 64, 67, 0.15);\n",
              "      fill: #174EA6;\n",
              "    }\n",
              "\n",
              "    [theme=dark] .colab-df-convert {\n",
              "      background-color: #3B4455;\n",
              "      fill: #D2E3FC;\n",
              "    }\n",
              "\n",
              "    [theme=dark] .colab-df-convert:hover {\n",
              "      background-color: #434B5C;\n",
              "      box-shadow: 0px 1px 3px 1px rgba(0, 0, 0, 0.15);\n",
              "      filter: drop-shadow(0px 1px 2px rgba(0, 0, 0, 0.3));\n",
              "      fill: #FFFFFF;\n",
              "    }\n",
              "  </style>\n",
              "\n",
              "      <script>\n",
              "        const buttonEl =\n",
              "          document.querySelector('#df-3b81cf33-81f3-4ed0-a7e9-b2ccc6ec6c0c button.colab-df-convert');\n",
              "        buttonEl.style.display =\n",
              "          google.colab.kernel.accessAllowed ? 'block' : 'none';\n",
              "\n",
              "        async function convertToInteractive(key) {\n",
              "          const element = document.querySelector('#df-3b81cf33-81f3-4ed0-a7e9-b2ccc6ec6c0c');\n",
              "          const dataTable =\n",
              "            await google.colab.kernel.invokeFunction('convertToInteractive',\n",
              "                                                     [key], {});\n",
              "          if (!dataTable) return;\n",
              "\n",
              "          const docLinkHtml = 'Like what you see? Visit the ' +\n",
              "            '<a target=\"_blank\" href=https://colab.research.google.com/notebooks/data_table.ipynb>data table notebook</a>'\n",
              "            + ' to learn more about interactive tables.';\n",
              "          element.innerHTML = '';\n",
              "          dataTable['output_type'] = 'display_data';\n",
              "          await google.colab.output.renderOutput(dataTable, element);\n",
              "          const docLink = document.createElement('div');\n",
              "          docLink.innerHTML = docLinkHtml;\n",
              "          element.appendChild(docLink);\n",
              "        }\n",
              "      </script>\n",
              "    </div>\n",
              "  </div>\n",
              "  "
            ]
          },
          "metadata": {},
          "execution_count": 56
        }
      ]
    },
    {
      "cell_type": "code",
      "source": [
        "# Create X (windows) and y (horizons) features\n",
        "X = bitcoin_prices_windowed.dropna().drop(\"Price\", axis=1).astype(np.float32)\n",
        "y = bitcoin_prices_windowed.dropna()[\"Price\"].astype(np.float32)\n",
        "X.head()"
      ],
      "metadata": {
        "colab": {
          "base_uri": "https://localhost:8080/"
        },
        "id": "ysGX6FhJRw5i",
        "outputId": "7d0244f0-df93-461c-b0a4-4ccad57d61c2"
      },
      "execution_count": null,
      "outputs": [
        {
          "output_type": "execute_result",
          "data": {
            "text/plain": [
              "            block_reward     Price+1     Price+2     Price+3     Price+4  \\\n",
              "Date                                                                       \n",
              "2013-10-08          25.0  121.794998  120.655327  121.338661  118.674660   \n",
              "2013-10-09          25.0  123.032997  121.794998  120.655327  121.338661   \n",
              "2013-10-10          25.0  124.049004  123.032997  121.794998  120.655327   \n",
              "2013-10-11          25.0  125.961159  124.049004  123.032997  121.794998   \n",
              "2013-10-12          25.0  125.279663  125.961159  124.049004  123.032997   \n",
              "\n",
              "               Price+5     Price+6     Price+7  \n",
              "Date                                            \n",
              "2013-10-08  108.584831  125.455002  123.654991  \n",
              "2013-10-09  118.674660  108.584831  125.455002  \n",
              "2013-10-10  121.338661  118.674660  108.584831  \n",
              "2013-10-11  120.655327  121.338661  118.674660  \n",
              "2013-10-12  121.794998  120.655327  121.338661  "
            ],
            "text/html": [
              "\n",
              "  <div id=\"df-14078c05-e249-428c-ad0a-ffe4f882d27e\">\n",
              "    <div class=\"colab-df-container\">\n",
              "      <div>\n",
              "<style scoped>\n",
              "    .dataframe tbody tr th:only-of-type {\n",
              "        vertical-align: middle;\n",
              "    }\n",
              "\n",
              "    .dataframe tbody tr th {\n",
              "        vertical-align: top;\n",
              "    }\n",
              "\n",
              "    .dataframe thead th {\n",
              "        text-align: right;\n",
              "    }\n",
              "</style>\n",
              "<table border=\"1\" class=\"dataframe\">\n",
              "  <thead>\n",
              "    <tr style=\"text-align: right;\">\n",
              "      <th></th>\n",
              "      <th>block_reward</th>\n",
              "      <th>Price+1</th>\n",
              "      <th>Price+2</th>\n",
              "      <th>Price+3</th>\n",
              "      <th>Price+4</th>\n",
              "      <th>Price+5</th>\n",
              "      <th>Price+6</th>\n",
              "      <th>Price+7</th>\n",
              "    </tr>\n",
              "    <tr>\n",
              "      <th>Date</th>\n",
              "      <th></th>\n",
              "      <th></th>\n",
              "      <th></th>\n",
              "      <th></th>\n",
              "      <th></th>\n",
              "      <th></th>\n",
              "      <th></th>\n",
              "      <th></th>\n",
              "    </tr>\n",
              "  </thead>\n",
              "  <tbody>\n",
              "    <tr>\n",
              "      <th>2013-10-08</th>\n",
              "      <td>25.0</td>\n",
              "      <td>121.794998</td>\n",
              "      <td>120.655327</td>\n",
              "      <td>121.338661</td>\n",
              "      <td>118.674660</td>\n",
              "      <td>108.584831</td>\n",
              "      <td>125.455002</td>\n",
              "      <td>123.654991</td>\n",
              "    </tr>\n",
              "    <tr>\n",
              "      <th>2013-10-09</th>\n",
              "      <td>25.0</td>\n",
              "      <td>123.032997</td>\n",
              "      <td>121.794998</td>\n",
              "      <td>120.655327</td>\n",
              "      <td>121.338661</td>\n",
              "      <td>118.674660</td>\n",
              "      <td>108.584831</td>\n",
              "      <td>125.455002</td>\n",
              "    </tr>\n",
              "    <tr>\n",
              "      <th>2013-10-10</th>\n",
              "      <td>25.0</td>\n",
              "      <td>124.049004</td>\n",
              "      <td>123.032997</td>\n",
              "      <td>121.794998</td>\n",
              "      <td>120.655327</td>\n",
              "      <td>121.338661</td>\n",
              "      <td>118.674660</td>\n",
              "      <td>108.584831</td>\n",
              "    </tr>\n",
              "    <tr>\n",
              "      <th>2013-10-11</th>\n",
              "      <td>25.0</td>\n",
              "      <td>125.961159</td>\n",
              "      <td>124.049004</td>\n",
              "      <td>123.032997</td>\n",
              "      <td>121.794998</td>\n",
              "      <td>120.655327</td>\n",
              "      <td>121.338661</td>\n",
              "      <td>118.674660</td>\n",
              "    </tr>\n",
              "    <tr>\n",
              "      <th>2013-10-12</th>\n",
              "      <td>25.0</td>\n",
              "      <td>125.279663</td>\n",
              "      <td>125.961159</td>\n",
              "      <td>124.049004</td>\n",
              "      <td>123.032997</td>\n",
              "      <td>121.794998</td>\n",
              "      <td>120.655327</td>\n",
              "      <td>121.338661</td>\n",
              "    </tr>\n",
              "  </tbody>\n",
              "</table>\n",
              "</div>\n",
              "      <button class=\"colab-df-convert\" onclick=\"convertToInteractive('df-14078c05-e249-428c-ad0a-ffe4f882d27e')\"\n",
              "              title=\"Convert this dataframe to an interactive table.\"\n",
              "              style=\"display:none;\">\n",
              "        \n",
              "  <svg xmlns=\"http://www.w3.org/2000/svg\" height=\"24px\"viewBox=\"0 0 24 24\"\n",
              "       width=\"24px\">\n",
              "    <path d=\"M0 0h24v24H0V0z\" fill=\"none\"/>\n",
              "    <path d=\"M18.56 5.44l.94 2.06.94-2.06 2.06-.94-2.06-.94-.94-2.06-.94 2.06-2.06.94zm-11 1L8.5 8.5l.94-2.06 2.06-.94-2.06-.94L8.5 2.5l-.94 2.06-2.06.94zm10 10l.94 2.06.94-2.06 2.06-.94-2.06-.94-.94-2.06-.94 2.06-2.06.94z\"/><path d=\"M17.41 7.96l-1.37-1.37c-.4-.4-.92-.59-1.43-.59-.52 0-1.04.2-1.43.59L10.3 9.45l-7.72 7.72c-.78.78-.78 2.05 0 2.83L4 21.41c.39.39.9.59 1.41.59.51 0 1.02-.2 1.41-.59l7.78-7.78 2.81-2.81c.8-.78.8-2.07 0-2.86zM5.41 20L4 18.59l7.72-7.72 1.47 1.35L5.41 20z\"/>\n",
              "  </svg>\n",
              "      </button>\n",
              "      \n",
              "  <style>\n",
              "    .colab-df-container {\n",
              "      display:flex;\n",
              "      flex-wrap:wrap;\n",
              "      gap: 12px;\n",
              "    }\n",
              "\n",
              "    .colab-df-convert {\n",
              "      background-color: #E8F0FE;\n",
              "      border: none;\n",
              "      border-radius: 50%;\n",
              "      cursor: pointer;\n",
              "      display: none;\n",
              "      fill: #1967D2;\n",
              "      height: 32px;\n",
              "      padding: 0 0 0 0;\n",
              "      width: 32px;\n",
              "    }\n",
              "\n",
              "    .colab-df-convert:hover {\n",
              "      background-color: #E2EBFA;\n",
              "      box-shadow: 0px 1px 2px rgba(60, 64, 67, 0.3), 0px 1px 3px 1px rgba(60, 64, 67, 0.15);\n",
              "      fill: #174EA6;\n",
              "    }\n",
              "\n",
              "    [theme=dark] .colab-df-convert {\n",
              "      background-color: #3B4455;\n",
              "      fill: #D2E3FC;\n",
              "    }\n",
              "\n",
              "    [theme=dark] .colab-df-convert:hover {\n",
              "      background-color: #434B5C;\n",
              "      box-shadow: 0px 1px 3px 1px rgba(0, 0, 0, 0.15);\n",
              "      filter: drop-shadow(0px 1px 2px rgba(0, 0, 0, 0.3));\n",
              "      fill: #FFFFFF;\n",
              "    }\n",
              "  </style>\n",
              "\n",
              "      <script>\n",
              "        const buttonEl =\n",
              "          document.querySelector('#df-14078c05-e249-428c-ad0a-ffe4f882d27e button.colab-df-convert');\n",
              "        buttonEl.style.display =\n",
              "          google.colab.kernel.accessAllowed ? 'block' : 'none';\n",
              "\n",
              "        async function convertToInteractive(key) {\n",
              "          const element = document.querySelector('#df-14078c05-e249-428c-ad0a-ffe4f882d27e');\n",
              "          const dataTable =\n",
              "            await google.colab.kernel.invokeFunction('convertToInteractive',\n",
              "                                                     [key], {});\n",
              "          if (!dataTable) return;\n",
              "\n",
              "          const docLinkHtml = 'Like what you see? Visit the ' +\n",
              "            '<a target=\"_blank\" href=https://colab.research.google.com/notebooks/data_table.ipynb>data table notebook</a>'\n",
              "            + ' to learn more about interactive tables.';\n",
              "          element.innerHTML = '';\n",
              "          dataTable['output_type'] = 'display_data';\n",
              "          await google.colab.output.renderOutput(dataTable, element);\n",
              "          const docLink = document.createElement('div');\n",
              "          docLink.innerHTML = docLinkHtml;\n",
              "          element.appendChild(docLink);\n",
              "        }\n",
              "      </script>\n",
              "    </div>\n",
              "  </div>\n",
              "  "
            ]
          },
          "metadata": {},
          "execution_count": 57
        }
      ]
    },
    {
      "cell_type": "code",
      "source": [
        "y.head()"
      ],
      "metadata": {
        "colab": {
          "base_uri": "https://localhost:8080/"
        },
        "id": "0L0DcMHLRzH-",
        "outputId": "3abad1f2-a7f1-4b45-a9ea-f83fb4376ebb"
      },
      "execution_count": null,
      "outputs": [
        {
          "output_type": "execute_result",
          "data": {
            "text/plain": [
              "Date\n",
              "2013-10-08    123.032997\n",
              "2013-10-09    124.049004\n",
              "2013-10-10    125.961159\n",
              "2013-10-11    125.279663\n",
              "2013-10-12    125.927498\n",
              "Name: Price, dtype: float32"
            ]
          },
          "metadata": {},
          "execution_count": 58
        }
      ]
    },
    {
      "cell_type": "code",
      "source": [
        "# Make train and test sets using indexing\n",
        "split_size = int(len(X) * 0.8)\n",
        "X_train, y_train = X[:split_size], y[:split_size]\n",
        "X_test, y_test = X[split_size:], y[split_size:]\n",
        "len(X_train), len(y_train), len(X_test), len(y_test)"
      ],
      "metadata": {
        "colab": {
          "base_uri": "https://localhost:8080/"
        },
        "id": "ZZEOaMKvR1CG",
        "outputId": "596e0afa-efa3-4c99-e536-206bb629df68"
      },
      "execution_count": null,
      "outputs": [
        {
          "output_type": "execute_result",
          "data": {
            "text/plain": [
              "(2224, 2224, 556, 556)"
            ]
          },
          "metadata": {},
          "execution_count": 59
        }
      ]
    },
    {
      "cell_type": "markdown",
      "source": [
        "#Model 6: Dense (multivariate time series)\n"
      ],
      "metadata": {
        "id": "Pdp8Khq8SAiz"
      }
    },
    {
      "cell_type": "code",
      "source": [
        "tf.random.set_seed(42)\n",
        "\n",
        "# Make multivariate time series model\n",
        "model_6 = tf.keras.Sequential([\n",
        "  layers.Dense(128, activation=\"relu\"),\n",
        "  # layers.Dense(128, activation=\"relu\"),\n",
        "  layers.Dense(HORIZON)                          \n",
        "], name=\"model_6_dense_multivariate\")\n",
        "\n",
        "# Compile\n",
        "model_6.compile(loss=\"mae\",\n",
        "                optimizer=tf.keras.optimizers.Adam())\n",
        "\n",
        "# Fit\n",
        "model_6.fit(X_train, y_train,\n",
        "            epochs=100,\n",
        "            batch_size=128,\n",
        "            verbose=1,\n",
        "            validation_data=(X_test, y_test),\n",
        "            callbacks=[create_model_checkpoint(model_name=model_6.name)])"
      ],
      "metadata": {
        "colab": {
          "base_uri": "https://localhost:8080/"
        },
        "id": "sJeNXrHASB8N",
        "outputId": "1b3efe61-d84e-4710-d458-f1f2ad7bbe6d"
      },
      "execution_count": null,
      "outputs": [
        {
          "output_type": "stream",
          "name": "stdout",
          "text": [
            "Epoch 1/100\n",
            "18/18 [==============================] - 1s 40ms/step - loss: 1234.6881 - val_loss: 2061.8425\n",
            "Epoch 2/100\n",
            "18/18 [==============================] - 1s 32ms/step - loss: 351.5003 - val_loss: 1908.7255\n",
            "Epoch 3/100\n",
            "18/18 [==============================] - 1s 34ms/step - loss: 235.4110 - val_loss: 1329.5310\n",
            "Epoch 4/100\n",
            "18/18 [==============================] - 1s 35ms/step - loss: 208.6456 - val_loss: 1102.0128\n",
            "Epoch 5/100\n",
            "18/18 [==============================] - 0s 4ms/step - loss: 196.5595 - val_loss: 1108.6157\n",
            "Epoch 6/100\n",
            "18/18 [==============================] - 1s 38ms/step - loss: 187.2317 - val_loss: 1035.9969\n",
            "Epoch 7/100\n",
            "18/18 [==============================] - 0s 21ms/step - loss: 182.0120 - val_loss: 1019.2737\n",
            "Epoch 8/100\n",
            "18/18 [==============================] - 0s 19ms/step - loss: 175.6998 - val_loss: 977.7345\n",
            "Epoch 9/100\n",
            "18/18 [==============================] - 0s 20ms/step - loss: 170.1650 - val_loss: 953.9047\n",
            "Epoch 10/100\n",
            "18/18 [==============================] - 0s 20ms/step - loss: 164.3849 - val_loss: 912.1832\n",
            "Epoch 11/100\n",
            "18/18 [==============================] - 0s 20ms/step - loss: 158.0432 - val_loss: 871.2955\n",
            "Epoch 12/100\n",
            "18/18 [==============================] - 0s 19ms/step - loss: 151.8589 - val_loss: 853.0026\n",
            "Epoch 13/100\n",
            "18/18 [==============================] - 0s 3ms/step - loss: 150.1562 - val_loss: 899.1049\n",
            "Epoch 14/100\n",
            "18/18 [==============================] - 0s 20ms/step - loss: 147.8199 - val_loss: 845.0212\n",
            "Epoch 15/100\n",
            "18/18 [==============================] - 0s 20ms/step - loss: 142.5174 - val_loss: 788.1894\n",
            "Epoch 16/100\n",
            "18/18 [==============================] - 0s 19ms/step - loss: 137.1697 - val_loss: 770.6403\n",
            "Epoch 17/100\n",
            "18/18 [==============================] - 0s 19ms/step - loss: 136.0208 - val_loss: 763.1682\n",
            "Epoch 18/100\n",
            "18/18 [==============================] - 0s 19ms/step - loss: 135.4696 - val_loss: 753.5218\n",
            "Epoch 19/100\n",
            "18/18 [==============================] - 0s 3ms/step - loss: 130.7954 - val_loss: 758.8009\n",
            "Epoch 20/100\n",
            "18/18 [==============================] - 0s 18ms/step - loss: 128.6773 - val_loss: 703.7002\n",
            "Epoch 21/100\n",
            "18/18 [==============================] - 0s 20ms/step - loss: 129.2461 - val_loss: 693.4247\n",
            "Epoch 22/100\n",
            "18/18 [==============================] - 0s 3ms/step - loss: 125.8202 - val_loss: 703.4456\n",
            "Epoch 23/100\n",
            "18/18 [==============================] - 0s 2ms/step - loss: 127.8713 - val_loss: 698.5743\n",
            "Epoch 24/100\n",
            "18/18 [==============================] - 0s 19ms/step - loss: 122.4124 - val_loss: 672.5023\n",
            "Epoch 25/100\n",
            "18/18 [==============================] - 0s 18ms/step - loss: 121.3311 - val_loss: 666.3887\n",
            "Epoch 26/100\n",
            "18/18 [==============================] - 0s 2ms/step - loss: 127.9873 - val_loss: 693.5914\n",
            "Epoch 27/100\n",
            "18/18 [==============================] - 0s 20ms/step - loss: 124.8371 - val_loss: 645.3122\n",
            "Epoch 28/100\n",
            "18/18 [==============================] - 0s 19ms/step - loss: 119.8579 - val_loss: 641.3582\n",
            "Epoch 29/100\n",
            "18/18 [==============================] - 0s 2ms/step - loss: 121.2880 - val_loss: 665.6821\n",
            "Epoch 30/100\n",
            "18/18 [==============================] - 1s 31ms/step - loss: 121.1822 - val_loss: 640.8665\n",
            "Epoch 31/100\n",
            "18/18 [==============================] - 0s 3ms/step - loss: 120.4115 - val_loss: 667.9380\n",
            "Epoch 32/100\n",
            "18/18 [==============================] - 0s 20ms/step - loss: 118.3126 - val_loss: 618.9240\n",
            "Epoch 33/100\n",
            "18/18 [==============================] - 0s 3ms/step - loss: 115.8836 - val_loss: 621.7648\n",
            "Epoch 34/100\n",
            "18/18 [==============================] - 0s 21ms/step - loss: 114.9744 - val_loss: 611.1620\n",
            "Epoch 35/100\n",
            "18/18 [==============================] - 0s 3ms/step - loss: 112.5882 - val_loss: 615.9452\n",
            "Epoch 36/100\n",
            "18/18 [==============================] - 0s 3ms/step - loss: 115.2489 - val_loss: 616.3082\n",
            "Epoch 37/100\n",
            "18/18 [==============================] - 0s 3ms/step - loss: 114.1561 - val_loss: 612.4214\n",
            "Epoch 38/100\n",
            "18/18 [==============================] - 0s 19ms/step - loss: 111.4725 - val_loss: 602.2147\n",
            "Epoch 39/100\n",
            "18/18 [==============================] - 0s 20ms/step - loss: 113.2853 - val_loss: 597.4947\n",
            "Epoch 40/100\n",
            "18/18 [==============================] - 0s 20ms/step - loss: 109.8442 - val_loss: 594.1257\n",
            "Epoch 41/100\n",
            "18/18 [==============================] - 0s 2ms/step - loss: 110.6678 - val_loss: 618.8127\n",
            "Epoch 42/100\n",
            "18/18 [==============================] - 0s 2ms/step - loss: 115.6730 - val_loss: 597.8893\n",
            "Epoch 43/100\n",
            "18/18 [==============================] - 0s 2ms/step - loss: 110.8469 - val_loss: 598.7604\n",
            "Epoch 44/100\n",
            "18/18 [==============================] - 0s 20ms/step - loss: 109.6573 - val_loss: 589.3676\n",
            "Epoch 45/100\n",
            "18/18 [==============================] - 0s 2ms/step - loss: 108.7725 - val_loss: 611.4677\n",
            "Epoch 46/100\n",
            "18/18 [==============================] - 0s 20ms/step - loss: 109.6011 - val_loss: 587.5851\n",
            "Epoch 47/100\n",
            "18/18 [==============================] - 0s 2ms/step - loss: 110.3633 - val_loss: 634.5785\n",
            "Epoch 48/100\n",
            "18/18 [==============================] - 0s 3ms/step - loss: 109.3612 - val_loss: 641.6938\n",
            "Epoch 49/100\n",
            "18/18 [==============================] - 0s 19ms/step - loss: 112.7560 - val_loss: 581.5451\n",
            "Epoch 50/100\n",
            "18/18 [==============================] - 0s 3ms/step - loss: 108.7167 - val_loss: 645.5008\n",
            "Epoch 51/100\n",
            "18/18 [==============================] - 0s 2ms/step - loss: 110.1508 - val_loss: 601.1288\n",
            "Epoch 52/100\n",
            "18/18 [==============================] - 0s 2ms/step - loss: 111.2310 - val_loss: 604.3256\n",
            "Epoch 53/100\n",
            "18/18 [==============================] - 0s 3ms/step - loss: 111.7206 - val_loss: 637.5743\n",
            "Epoch 54/100\n",
            "18/18 [==============================] - 0s 4ms/step - loss: 113.4848 - val_loss: 598.4411\n",
            "Epoch 55/100\n",
            "18/18 [==============================] - 0s 21ms/step - loss: 109.9909 - val_loss: 575.7906\n",
            "Epoch 56/100\n",
            "18/18 [==============================] - 0s 2ms/step - loss: 108.7174 - val_loss: 778.8622\n",
            "Epoch 57/100\n",
            "18/18 [==============================] - 0s 2ms/step - loss: 124.3417 - val_loss: 684.9153\n",
            "Epoch 58/100\n",
            "18/18 [==============================] - 0s 3ms/step - loss: 113.7253 - val_loss: 578.1130\n",
            "Epoch 59/100\n",
            "18/18 [==============================] - 0s 3ms/step - loss: 106.6668 - val_loss: 587.5096\n",
            "Epoch 60/100\n",
            "18/18 [==============================] - 0s 2ms/step - loss: 107.3718 - val_loss: 604.5571\n",
            "Epoch 61/100\n",
            "18/18 [==============================] - 0s 2ms/step - loss: 107.3559 - val_loss: 579.5580\n",
            "Epoch 62/100\n",
            "18/18 [==============================] - 0s 3ms/step - loss: 107.2274 - val_loss: 601.7717\n",
            "Epoch 63/100\n",
            "18/18 [==============================] - 0s 2ms/step - loss: 109.3449 - val_loss: 615.0771\n",
            "Epoch 64/100\n",
            "18/18 [==============================] - 0s 3ms/step - loss: 108.3509 - val_loss: 611.9859\n",
            "Epoch 65/100\n",
            "18/18 [==============================] - 0s 19ms/step - loss: 108.3863 - val_loss: 575.5394\n",
            "Epoch 66/100\n",
            "18/18 [==============================] - 0s 19ms/step - loss: 106.6944 - val_loss: 573.9048\n",
            "Epoch 67/100\n",
            "18/18 [==============================] - 0s 2ms/step - loss: 105.8012 - val_loss: 644.8781\n",
            "Epoch 68/100\n",
            "18/18 [==============================] - 0s 2ms/step - loss: 114.2152 - val_loss: 759.9053\n",
            "Epoch 69/100\n",
            "18/18 [==============================] - 0s 2ms/step - loss: 128.8927 - val_loss: 747.0060\n",
            "Epoch 70/100\n",
            "18/18 [==============================] - 0s 20ms/step - loss: 119.2911 - val_loss: 573.7873\n",
            "Epoch 71/100\n",
            "18/18 [==============================] - 0s 3ms/step - loss: 108.8960 - val_loss: 594.9133\n",
            "Epoch 72/100\n",
            "18/18 [==============================] - 0s 20ms/step - loss: 106.8408 - val_loss: 573.3400\n",
            "Epoch 73/100\n",
            "18/18 [==============================] - 0s 3ms/step - loss: 110.0313 - val_loss: 613.5589\n",
            "Epoch 74/100\n",
            "18/18 [==============================] - 0s 3ms/step - loss: 105.6581 - val_loss: 573.4482\n",
            "Epoch 75/100\n",
            "18/18 [==============================] - 0s 2ms/step - loss: 107.3250 - val_loss: 601.0070\n",
            "Epoch 76/100\n",
            "18/18 [==============================] - 0s 3ms/step - loss: 109.1648 - val_loss: 600.6964\n",
            "Epoch 77/100\n",
            "18/18 [==============================] - 0s 2ms/step - loss: 108.1142 - val_loss: 573.5199\n",
            "Epoch 78/100\n",
            "18/18 [==============================] - 0s 20ms/step - loss: 106.1381 - val_loss: 572.3774\n",
            "Epoch 79/100\n",
            "18/18 [==============================] - 0s 2ms/step - loss: 105.6354 - val_loss: 584.2397\n",
            "Epoch 80/100\n",
            "18/18 [==============================] - 0s 2ms/step - loss: 106.1935 - val_loss: 619.4902\n",
            "Epoch 81/100\n",
            "18/18 [==============================] - 0s 2ms/step - loss: 107.9335 - val_loss: 583.5963\n",
            "Epoch 82/100\n",
            "18/18 [==============================] - 0s 2ms/step - loss: 113.6058 - val_loss: 579.9233\n",
            "Epoch 83/100\n",
            "18/18 [==============================] - 0s 3ms/step - loss: 109.1223 - val_loss: 681.4477\n",
            "Epoch 84/100\n",
            "18/18 [==============================] - 0s 2ms/step - loss: 110.6904 - val_loss: 577.3395\n",
            "Epoch 85/100\n",
            "18/18 [==============================] - 0s 2ms/step - loss: 106.0431 - val_loss: 575.2910\n",
            "Epoch 86/100\n",
            "18/18 [==============================] - 0s 19ms/step - loss: 105.3411 - val_loss: 572.0645\n",
            "Epoch 87/100\n",
            "18/18 [==============================] - 0s 2ms/step - loss: 104.5582 - val_loss: 579.4230\n",
            "Epoch 88/100\n",
            "18/18 [==============================] - 0s 20ms/step - loss: 106.3576 - val_loss: 572.0072\n",
            "Epoch 89/100\n",
            "18/18 [==============================] - 1s 31ms/step - loss: 106.5800 - val_loss: 569.0428\n",
            "Epoch 90/100\n",
            "18/18 [==============================] - 0s 3ms/step - loss: 105.4564 - val_loss: 587.3213\n",
            "Epoch 91/100\n",
            "18/18 [==============================] - 0s 2ms/step - loss: 107.9576 - val_loss: 580.5116\n",
            "Epoch 92/100\n",
            "18/18 [==============================] - 0s 3ms/step - loss: 109.1998 - val_loss: 570.5346\n",
            "Epoch 93/100\n",
            "18/18 [==============================] - 0s 2ms/step - loss: 112.9918 - val_loss: 585.0011\n",
            "Epoch 94/100\n",
            "18/18 [==============================] - 0s 3ms/step - loss: 106.8661 - val_loss: 575.0259\n",
            "Epoch 95/100\n",
            "18/18 [==============================] - 0s 20ms/step - loss: 104.2228 - val_loss: 568.6836\n",
            "Epoch 96/100\n",
            "18/18 [==============================] - 0s 3ms/step - loss: 105.9429 - val_loss: 580.5909\n",
            "Epoch 97/100\n",
            "18/18 [==============================] - 0s 2ms/step - loss: 105.8312 - val_loss: 590.2066\n",
            "Epoch 98/100\n",
            "18/18 [==============================] - 0s 2ms/step - loss: 106.2923 - val_loss: 571.1108\n",
            "Epoch 99/100\n",
            "18/18 [==============================] - 0s 22ms/step - loss: 105.7491 - val_loss: 568.4496\n",
            "Epoch 100/100\n",
            "18/18 [==============================] - 0s 4ms/step - loss: 110.5453 - val_loss: 660.5421\n"
          ]
        },
        {
          "output_type": "execute_result",
          "data": {
            "text/plain": [
              "<keras.callbacks.History at 0x7fe7a4482f90>"
            ]
          },
          "metadata": {},
          "execution_count": 54
        }
      ]
    },
    {
      "cell_type": "code",
      "source": [
        "# Evaluate multivariate model\n",
        "model_6.evaluate(X_test, y_test)"
      ],
      "metadata": {
        "colab": {
          "base_uri": "https://localhost:8080/"
        },
        "id": "PifpO0F2SIRh",
        "outputId": "b4facba2-10f9-4ea9-8252-d61436b01d96"
      },
      "execution_count": null,
      "outputs": [
        {
          "output_type": "stream",
          "name": "stdout",
          "text": [
            "18/18 [==============================] - 0s 2ms/step - loss: 660.5420\n"
          ]
        },
        {
          "output_type": "execute_result",
          "data": {
            "text/plain": [
              "660.5419921875"
            ]
          },
          "metadata": {},
          "execution_count": 55
        }
      ]
    },
    {
      "cell_type": "code",
      "source": [
        "# Load in and evaluate best performing model\n",
        "model_6 = tf.keras.models.load_model(\"model_experiments/model_6_dense_multivariate\")\n",
        "model_6.evaluate(X_test, y_test)"
      ],
      "metadata": {
        "colab": {
          "base_uri": "https://localhost:8080/"
        },
        "id": "zX9XMaaYSKAo",
        "outputId": "864b56ff-235f-4cb6-ea9d-5b37a6591523"
      },
      "execution_count": null,
      "outputs": [
        {
          "output_type": "stream",
          "name": "stdout",
          "text": [
            "18/18 [==============================] - 0s 1ms/step - loss: 568.4496\n"
          ]
        },
        {
          "output_type": "execute_result",
          "data": {
            "text/plain": [
              "568.4496459960938"
            ]
          },
          "metadata": {},
          "execution_count": 56
        }
      ]
    },
    {
      "cell_type": "code",
      "source": [
        "# Make predictions with multivariate model\n",
        "model_6_preds = tf.squeeze(model_6.predict(X_test))\n",
        "model_6_preds[:10]"
      ],
      "metadata": {
        "colab": {
          "base_uri": "https://localhost:8080/"
        },
        "id": "aZW9Qy_YSLM2",
        "outputId": "be475cac-feeb-4f28-b19f-f8690059e70e"
      },
      "execution_count": null,
      "outputs": [
        {
          "output_type": "execute_result",
          "data": {
            "text/plain": [
              "<tf.Tensor: shape=(10,), dtype=float32, numpy=\n",
              "array([8854.941, 8783.565, 9061.756, 8759.421, 8737.176, 8784.183,\n",
              "       8680.545, 8514.702, 8481.645, 8540.753], dtype=float32)>"
            ]
          },
          "metadata": {},
          "execution_count": 57
        }
      ]
    },
    {
      "cell_type": "code",
      "source": [
        "# Evaluate predictions to get eval metrics\n",
        "model_6_results = evaluate_preds(y_true=y_test,\n",
        "                                 y_pred=model_6_preds)\n",
        "model_6_results"
      ],
      "metadata": {
        "colab": {
          "base_uri": "https://localhost:8080/"
        },
        "id": "qN9VuauBSMgW",
        "outputId": "82eb9997-b752-40ed-c276-af54c5984236"
      },
      "execution_count": null,
      "outputs": [
        {
          "output_type": "execute_result",
          "data": {
            "text/plain": [
              "{'mae': 568.4497,\n",
              " 'mse': 1166160.5,\n",
              " 'rmse': 1079.8892,\n",
              " 'mape': 2.5497708,\n",
              " 'mase': 0.9986087}"
            ]
          },
          "metadata": {},
          "execution_count": 58
        }
      ]
    },
    {
      "cell_type": "markdown",
      "source": [
        "#Model 7  : N-Beats algorithm"
      ],
      "metadata": {
        "id": "KlAVcvhdrQVg"
      }
    },
    {
      "cell_type": "markdown",
      "source": [
        "##Building and testing the N-BEATS block layer\n"
      ],
      "metadata": {
        "id": "0NahN0_4tS5e"
      }
    },
    {
      "cell_type": "code",
      "source": [
        "# Create NBeatBlock custom layer\n",
        "class NBeatsBlock(tf.keras.layers.Layer):\n",
        "  def __init__(self, \n",
        "               input_size: int,\n",
        "               theta_size: int,\n",
        "               horizon: int,\n",
        "               n_neurons: int,\n",
        "               n_layers: int,\n",
        "               **kwargs): # the **kwargs argument takes care of all the arguments for the parent class (input_shape, trainable, name)\n",
        "    super().__init__(**kwargs)\n",
        "    self.input_size = input_size\n",
        "    self.theta_size = theta_size\n",
        "    self.horizon = horizon\n",
        "    self.n_neurons = n_neurons\n",
        "    self.n_layers = n_layers\n",
        "\n",
        "    # Block contains stack of 4 fully connected layers each has ReLU activation\n",
        "    self.hidden = [tf.keras.layers.Dense(n_neurons, activation=\"relu\") for _ in range(n_layers)]\n",
        "    # Output of block is a theta layer with linear activation\n",
        "    self.theta_layer = tf.keras.layers.Dense(theta_size, activation=\"linear\", name=\"theta\")\n",
        "\n",
        "  def call(self, inputs):\n",
        "    x = inputs\n",
        "    for layer in self.hidden:\n",
        "      x = layer(x)\n",
        "    theta = self.theta_layer(x)\n",
        "    # Output the backcast and the forecast from theta\n",
        "    backcast, forecast = theta[:, :self.input_size], theta[:, -self.horizon:]\n",
        "    return backcast, forecast"
      ],
      "metadata": {
        "id": "brcJXfJZtdy9"
      },
      "execution_count": null,
      "outputs": []
    },
    {
      "cell_type": "markdown",
      "source": [
        "we'll make some dummy inputs and outputs.\n",
        "\n"
      ],
      "metadata": {
        "id": "1KE_SzV3T1tN"
      }
    },
    {
      "cell_type": "code",
      "source": [
        "# Set up dummy NBeatsBlock layer to represent inputs and outputs\n",
        "tf.random.set_seed(42)\n",
        "dummy_nbeats_block_layer = NBeatsBlock(input_size=WINDOW_SIZE,\n",
        "                                       theta_size=WINDOW_SIZE+HORIZON, # backcast + forecast\n",
        "                                       horizon=HORIZON,\n",
        "                                       n_neurons=128,\n",
        "                                       n_layers=4)"
      ],
      "metadata": {
        "id": "mnYNGZSHT2tp"
      },
      "execution_count": null,
      "outputs": []
    },
    {
      "cell_type": "code",
      "source": [
        "# Create dummy inputs (have to be same size as input_size)\n",
        "dummy_inputs = tf.expand_dims(tf.range(WINDOW_SIZE) + 1, axis=0) # input shape to the model has to reflect dense layer input requirements (ndim=2)\n",
        "dummy_inputs"
      ],
      "metadata": {
        "colab": {
          "base_uri": "https://localhost:8080/"
        },
        "id": "ig96hJ1zT_5g",
        "outputId": "2aefc77f-3647-4917-efe4-b4b037060cde"
      },
      "execution_count": null,
      "outputs": [
        {
          "output_type": "execute_result",
          "data": {
            "text/plain": [
              "<tf.Tensor: shape=(1, 7), dtype=int32, numpy=array([[1, 2, 3, 4, 5, 6, 7]], dtype=int32)>"
            ]
          },
          "metadata": {},
          "execution_count": 47
        }
      ]
    },
    {
      "cell_type": "code",
      "source": [
        "# Pass dummy inputs to dummy NBeatsBlock layer\n",
        "backcast, forecast = dummy_nbeats_block_layer(dummy_inputs)\n",
        "# These are the activation outputs of the theta layer (they'll be random due to no training of the model)\n",
        "print(f\"Backcast: {tf.squeeze(backcast.numpy())}\")\n",
        "print(f\"Forecast: {tf.squeeze(forecast.numpy())}\")\n"
      ],
      "metadata": {
        "colab": {
          "base_uri": "https://localhost:8080/"
        },
        "id": "pxTYrGIXUBt6",
        "outputId": "56cf8ebd-76b0-4cfc-8995-d0a279ed8f2b"
      },
      "execution_count": null,
      "outputs": [
        {
          "output_type": "stream",
          "name": "stdout",
          "text": [
            "Backcast: [ 0.07960171  0.32512033 -0.8428683  -0.6938985  -0.31720552 -0.5698734\n",
            " -0.6396662 ]\n",
            "Forecast: 1.0071648359298706\n"
          ]
        }
      ]
    },
    {
      "cell_type": "markdown",
      "source": [
        "##Preparing data for the N-BEATS algorithm using tf.data\n"
      ],
      "metadata": {
        "id": "OoqDppvGWkzL"
      }
    },
    {
      "cell_type": "code",
      "source": [
        "HORIZON = 1\n",
        "WINDOW_SIZE = 7"
      ],
      "metadata": {
        "id": "1MwCrxjrXC0P"
      },
      "execution_count": null,
      "outputs": []
    },
    {
      "cell_type": "code",
      "source": [
        "# Create N-BEATS data inputs (N-BEATS works with univariate time series)\n",
        "bitcoin_prices.head()"
      ],
      "metadata": {
        "colab": {
          "base_uri": "https://localhost:8080/"
        },
        "id": "E0pdqpulXGdo",
        "outputId": "176f3ee0-5608-49f7-c3d7-d54caedd52d1"
      },
      "execution_count": null,
      "outputs": [
        {
          "output_type": "execute_result",
          "data": {
            "text/plain": [
              "                Price\n",
              "Date                 \n",
              "2013-10-01  123.65499\n",
              "2013-10-02  125.45500\n",
              "2013-10-03  108.58483\n",
              "2013-10-04  118.67466\n",
              "2013-10-05  121.33866"
            ],
            "text/html": [
              "\n",
              "  <div id=\"df-0c2c4d14-a9c4-4973-bd6e-703ca1843e94\">\n",
              "    <div class=\"colab-df-container\">\n",
              "      <div>\n",
              "<style scoped>\n",
              "    .dataframe tbody tr th:only-of-type {\n",
              "        vertical-align: middle;\n",
              "    }\n",
              "\n",
              "    .dataframe tbody tr th {\n",
              "        vertical-align: top;\n",
              "    }\n",
              "\n",
              "    .dataframe thead th {\n",
              "        text-align: right;\n",
              "    }\n",
              "</style>\n",
              "<table border=\"1\" class=\"dataframe\">\n",
              "  <thead>\n",
              "    <tr style=\"text-align: right;\">\n",
              "      <th></th>\n",
              "      <th>Price</th>\n",
              "    </tr>\n",
              "    <tr>\n",
              "      <th>Date</th>\n",
              "      <th></th>\n",
              "    </tr>\n",
              "  </thead>\n",
              "  <tbody>\n",
              "    <tr>\n",
              "      <th>2013-10-01</th>\n",
              "      <td>123.65499</td>\n",
              "    </tr>\n",
              "    <tr>\n",
              "      <th>2013-10-02</th>\n",
              "      <td>125.45500</td>\n",
              "    </tr>\n",
              "    <tr>\n",
              "      <th>2013-10-03</th>\n",
              "      <td>108.58483</td>\n",
              "    </tr>\n",
              "    <tr>\n",
              "      <th>2013-10-04</th>\n",
              "      <td>118.67466</td>\n",
              "    </tr>\n",
              "    <tr>\n",
              "      <th>2013-10-05</th>\n",
              "      <td>121.33866</td>\n",
              "    </tr>\n",
              "  </tbody>\n",
              "</table>\n",
              "</div>\n",
              "      <button class=\"colab-df-convert\" onclick=\"convertToInteractive('df-0c2c4d14-a9c4-4973-bd6e-703ca1843e94')\"\n",
              "              title=\"Convert this dataframe to an interactive table.\"\n",
              "              style=\"display:none;\">\n",
              "        \n",
              "  <svg xmlns=\"http://www.w3.org/2000/svg\" height=\"24px\"viewBox=\"0 0 24 24\"\n",
              "       width=\"24px\">\n",
              "    <path d=\"M0 0h24v24H0V0z\" fill=\"none\"/>\n",
              "    <path d=\"M18.56 5.44l.94 2.06.94-2.06 2.06-.94-2.06-.94-.94-2.06-.94 2.06-2.06.94zm-11 1L8.5 8.5l.94-2.06 2.06-.94-2.06-.94L8.5 2.5l-.94 2.06-2.06.94zm10 10l.94 2.06.94-2.06 2.06-.94-2.06-.94-.94-2.06-.94 2.06-2.06.94z\"/><path d=\"M17.41 7.96l-1.37-1.37c-.4-.4-.92-.59-1.43-.59-.52 0-1.04.2-1.43.59L10.3 9.45l-7.72 7.72c-.78.78-.78 2.05 0 2.83L4 21.41c.39.39.9.59 1.41.59.51 0 1.02-.2 1.41-.59l7.78-7.78 2.81-2.81c.8-.78.8-2.07 0-2.86zM5.41 20L4 18.59l7.72-7.72 1.47 1.35L5.41 20z\"/>\n",
              "  </svg>\n",
              "      </button>\n",
              "      \n",
              "  <style>\n",
              "    .colab-df-container {\n",
              "      display:flex;\n",
              "      flex-wrap:wrap;\n",
              "      gap: 12px;\n",
              "    }\n",
              "\n",
              "    .colab-df-convert {\n",
              "      background-color: #E8F0FE;\n",
              "      border: none;\n",
              "      border-radius: 50%;\n",
              "      cursor: pointer;\n",
              "      display: none;\n",
              "      fill: #1967D2;\n",
              "      height: 32px;\n",
              "      padding: 0 0 0 0;\n",
              "      width: 32px;\n",
              "    }\n",
              "\n",
              "    .colab-df-convert:hover {\n",
              "      background-color: #E2EBFA;\n",
              "      box-shadow: 0px 1px 2px rgba(60, 64, 67, 0.3), 0px 1px 3px 1px rgba(60, 64, 67, 0.15);\n",
              "      fill: #174EA6;\n",
              "    }\n",
              "\n",
              "    [theme=dark] .colab-df-convert {\n",
              "      background-color: #3B4455;\n",
              "      fill: #D2E3FC;\n",
              "    }\n",
              "\n",
              "    [theme=dark] .colab-df-convert:hover {\n",
              "      background-color: #434B5C;\n",
              "      box-shadow: 0px 1px 3px 1px rgba(0, 0, 0, 0.15);\n",
              "      filter: drop-shadow(0px 1px 2px rgba(0, 0, 0, 0.3));\n",
              "      fill: #FFFFFF;\n",
              "    }\n",
              "  </style>\n",
              "\n",
              "      <script>\n",
              "        const buttonEl =\n",
              "          document.querySelector('#df-0c2c4d14-a9c4-4973-bd6e-703ca1843e94 button.colab-df-convert');\n",
              "        buttonEl.style.display =\n",
              "          google.colab.kernel.accessAllowed ? 'block' : 'none';\n",
              "\n",
              "        async function convertToInteractive(key) {\n",
              "          const element = document.querySelector('#df-0c2c4d14-a9c4-4973-bd6e-703ca1843e94');\n",
              "          const dataTable =\n",
              "            await google.colab.kernel.invokeFunction('convertToInteractive',\n",
              "                                                     [key], {});\n",
              "          if (!dataTable) return;\n",
              "\n",
              "          const docLinkHtml = 'Like what you see? Visit the ' +\n",
              "            '<a target=\"_blank\" href=https://colab.research.google.com/notebooks/data_table.ipynb>data table notebook</a>'\n",
              "            + ' to learn more about interactive tables.';\n",
              "          element.innerHTML = '';\n",
              "          dataTable['output_type'] = 'display_data';\n",
              "          await google.colab.output.renderOutput(dataTable, element);\n",
              "          const docLink = document.createElement('div');\n",
              "          docLink.innerHTML = docLinkHtml;\n",
              "          element.appendChild(docLink);\n",
              "        }\n",
              "      </script>\n",
              "    </div>\n",
              "  </div>\n",
              "  "
            ]
          },
          "metadata": {},
          "execution_count": 48
        }
      ]
    },
    {
      "cell_type": "code",
      "source": [
        "# Add windowed columns\n",
        "bitcoin_prices_nbeats = bitcoin_prices.copy()\n",
        "for i in range(WINDOW_SIZE):\n",
        "  bitcoin_prices_nbeats[f\"Price+{i+1}\"] = bitcoin_prices_nbeats[\"Price\"].shift(periods=i+1)\n",
        "bitcoin_prices_nbeats.head()"
      ],
      "metadata": {
        "colab": {
          "base_uri": "https://localhost:8080/"
        },
        "id": "hsYBKZJHXIIZ",
        "outputId": "3631a38d-b2bd-4d21-8649-25d835bfeee6"
      },
      "execution_count": null,
      "outputs": [
        {
          "output_type": "execute_result",
          "data": {
            "text/plain": [
              "                Price    Price+1    Price+2    Price+3    Price+4  Price+5  \\\n",
              "Date                                                                         \n",
              "2013-10-01  123.65499        NaN        NaN        NaN        NaN      NaN   \n",
              "2013-10-02  125.45500  123.65499        NaN        NaN        NaN      NaN   \n",
              "2013-10-03  108.58483  125.45500  123.65499        NaN        NaN      NaN   \n",
              "2013-10-04  118.67466  108.58483  125.45500  123.65499        NaN      NaN   \n",
              "2013-10-05  121.33866  118.67466  108.58483  125.45500  123.65499      NaN   \n",
              "\n",
              "            Price+6  Price+7  \n",
              "Date                          \n",
              "2013-10-01      NaN      NaN  \n",
              "2013-10-02      NaN      NaN  \n",
              "2013-10-03      NaN      NaN  \n",
              "2013-10-04      NaN      NaN  \n",
              "2013-10-05      NaN      NaN  "
            ],
            "text/html": [
              "\n",
              "  <div id=\"df-617c927a-227f-40b2-a852-b8e2f5a4225d\">\n",
              "    <div class=\"colab-df-container\">\n",
              "      <div>\n",
              "<style scoped>\n",
              "    .dataframe tbody tr th:only-of-type {\n",
              "        vertical-align: middle;\n",
              "    }\n",
              "\n",
              "    .dataframe tbody tr th {\n",
              "        vertical-align: top;\n",
              "    }\n",
              "\n",
              "    .dataframe thead th {\n",
              "        text-align: right;\n",
              "    }\n",
              "</style>\n",
              "<table border=\"1\" class=\"dataframe\">\n",
              "  <thead>\n",
              "    <tr style=\"text-align: right;\">\n",
              "      <th></th>\n",
              "      <th>Price</th>\n",
              "      <th>Price+1</th>\n",
              "      <th>Price+2</th>\n",
              "      <th>Price+3</th>\n",
              "      <th>Price+4</th>\n",
              "      <th>Price+5</th>\n",
              "      <th>Price+6</th>\n",
              "      <th>Price+7</th>\n",
              "    </tr>\n",
              "    <tr>\n",
              "      <th>Date</th>\n",
              "      <th></th>\n",
              "      <th></th>\n",
              "      <th></th>\n",
              "      <th></th>\n",
              "      <th></th>\n",
              "      <th></th>\n",
              "      <th></th>\n",
              "      <th></th>\n",
              "    </tr>\n",
              "  </thead>\n",
              "  <tbody>\n",
              "    <tr>\n",
              "      <th>2013-10-01</th>\n",
              "      <td>123.65499</td>\n",
              "      <td>NaN</td>\n",
              "      <td>NaN</td>\n",
              "      <td>NaN</td>\n",
              "      <td>NaN</td>\n",
              "      <td>NaN</td>\n",
              "      <td>NaN</td>\n",
              "      <td>NaN</td>\n",
              "    </tr>\n",
              "    <tr>\n",
              "      <th>2013-10-02</th>\n",
              "      <td>125.45500</td>\n",
              "      <td>123.65499</td>\n",
              "      <td>NaN</td>\n",
              "      <td>NaN</td>\n",
              "      <td>NaN</td>\n",
              "      <td>NaN</td>\n",
              "      <td>NaN</td>\n",
              "      <td>NaN</td>\n",
              "    </tr>\n",
              "    <tr>\n",
              "      <th>2013-10-03</th>\n",
              "      <td>108.58483</td>\n",
              "      <td>125.45500</td>\n",
              "      <td>123.65499</td>\n",
              "      <td>NaN</td>\n",
              "      <td>NaN</td>\n",
              "      <td>NaN</td>\n",
              "      <td>NaN</td>\n",
              "      <td>NaN</td>\n",
              "    </tr>\n",
              "    <tr>\n",
              "      <th>2013-10-04</th>\n",
              "      <td>118.67466</td>\n",
              "      <td>108.58483</td>\n",
              "      <td>125.45500</td>\n",
              "      <td>123.65499</td>\n",
              "      <td>NaN</td>\n",
              "      <td>NaN</td>\n",
              "      <td>NaN</td>\n",
              "      <td>NaN</td>\n",
              "    </tr>\n",
              "    <tr>\n",
              "      <th>2013-10-05</th>\n",
              "      <td>121.33866</td>\n",
              "      <td>118.67466</td>\n",
              "      <td>108.58483</td>\n",
              "      <td>125.45500</td>\n",
              "      <td>123.65499</td>\n",
              "      <td>NaN</td>\n",
              "      <td>NaN</td>\n",
              "      <td>NaN</td>\n",
              "    </tr>\n",
              "  </tbody>\n",
              "</table>\n",
              "</div>\n",
              "      <button class=\"colab-df-convert\" onclick=\"convertToInteractive('df-617c927a-227f-40b2-a852-b8e2f5a4225d')\"\n",
              "              title=\"Convert this dataframe to an interactive table.\"\n",
              "              style=\"display:none;\">\n",
              "        \n",
              "  <svg xmlns=\"http://www.w3.org/2000/svg\" height=\"24px\"viewBox=\"0 0 24 24\"\n",
              "       width=\"24px\">\n",
              "    <path d=\"M0 0h24v24H0V0z\" fill=\"none\"/>\n",
              "    <path d=\"M18.56 5.44l.94 2.06.94-2.06 2.06-.94-2.06-.94-.94-2.06-.94 2.06-2.06.94zm-11 1L8.5 8.5l.94-2.06 2.06-.94-2.06-.94L8.5 2.5l-.94 2.06-2.06.94zm10 10l.94 2.06.94-2.06 2.06-.94-2.06-.94-.94-2.06-.94 2.06-2.06.94z\"/><path d=\"M17.41 7.96l-1.37-1.37c-.4-.4-.92-.59-1.43-.59-.52 0-1.04.2-1.43.59L10.3 9.45l-7.72 7.72c-.78.78-.78 2.05 0 2.83L4 21.41c.39.39.9.59 1.41.59.51 0 1.02-.2 1.41-.59l7.78-7.78 2.81-2.81c.8-.78.8-2.07 0-2.86zM5.41 20L4 18.59l7.72-7.72 1.47 1.35L5.41 20z\"/>\n",
              "  </svg>\n",
              "      </button>\n",
              "      \n",
              "  <style>\n",
              "    .colab-df-container {\n",
              "      display:flex;\n",
              "      flex-wrap:wrap;\n",
              "      gap: 12px;\n",
              "    }\n",
              "\n",
              "    .colab-df-convert {\n",
              "      background-color: #E8F0FE;\n",
              "      border: none;\n",
              "      border-radius: 50%;\n",
              "      cursor: pointer;\n",
              "      display: none;\n",
              "      fill: #1967D2;\n",
              "      height: 32px;\n",
              "      padding: 0 0 0 0;\n",
              "      width: 32px;\n",
              "    }\n",
              "\n",
              "    .colab-df-convert:hover {\n",
              "      background-color: #E2EBFA;\n",
              "      box-shadow: 0px 1px 2px rgba(60, 64, 67, 0.3), 0px 1px 3px 1px rgba(60, 64, 67, 0.15);\n",
              "      fill: #174EA6;\n",
              "    }\n",
              "\n",
              "    [theme=dark] .colab-df-convert {\n",
              "      background-color: #3B4455;\n",
              "      fill: #D2E3FC;\n",
              "    }\n",
              "\n",
              "    [theme=dark] .colab-df-convert:hover {\n",
              "      background-color: #434B5C;\n",
              "      box-shadow: 0px 1px 3px 1px rgba(0, 0, 0, 0.15);\n",
              "      filter: drop-shadow(0px 1px 2px rgba(0, 0, 0, 0.3));\n",
              "      fill: #FFFFFF;\n",
              "    }\n",
              "  </style>\n",
              "\n",
              "      <script>\n",
              "        const buttonEl =\n",
              "          document.querySelector('#df-617c927a-227f-40b2-a852-b8e2f5a4225d button.colab-df-convert');\n",
              "        buttonEl.style.display =\n",
              "          google.colab.kernel.accessAllowed ? 'block' : 'none';\n",
              "\n",
              "        async function convertToInteractive(key) {\n",
              "          const element = document.querySelector('#df-617c927a-227f-40b2-a852-b8e2f5a4225d');\n",
              "          const dataTable =\n",
              "            await google.colab.kernel.invokeFunction('convertToInteractive',\n",
              "                                                     [key], {});\n",
              "          if (!dataTable) return;\n",
              "\n",
              "          const docLinkHtml = 'Like what you see? Visit the ' +\n",
              "            '<a target=\"_blank\" href=https://colab.research.google.com/notebooks/data_table.ipynb>data table notebook</a>'\n",
              "            + ' to learn more about interactive tables.';\n",
              "          element.innerHTML = '';\n",
              "          dataTable['output_type'] = 'display_data';\n",
              "          await google.colab.output.renderOutput(dataTable, element);\n",
              "          const docLink = document.createElement('div');\n",
              "          docLink.innerHTML = docLinkHtml;\n",
              "          element.appendChild(docLink);\n",
              "        }\n",
              "      </script>\n",
              "    </div>\n",
              "  </div>\n",
              "  "
            ]
          },
          "metadata": {},
          "execution_count": 49
        }
      ]
    },
    {
      "cell_type": "code",
      "source": [
        "# Make features and labels\n",
        "X = bitcoin_prices_nbeats.dropna().drop(\"Price\", axis=1)\n",
        "y = bitcoin_prices_nbeats.dropna()[\"Price\"]\n",
        "\n",
        "# Make train and test sets\n",
        "split_size = int(len(X) * 0.8)\n",
        "X_train, y_train = X[:split_size], y[:split_size]\n",
        "X_test, y_test = X[split_size:], y[split_size:]\n",
        "len(X_train), len(y_train), len(X_test), len(y_test)"
      ],
      "metadata": {
        "colab": {
          "base_uri": "https://localhost:8080/"
        },
        "id": "WuIo2ZenXLV-",
        "outputId": "7f333bb2-36a9-4aef-b8c5-94e47389695c"
      },
      "execution_count": null,
      "outputs": [
        {
          "output_type": "execute_result",
          "data": {
            "text/plain": [
              "(2224, 2224, 556, 556)"
            ]
          },
          "metadata": {},
          "execution_count": 50
        }
      ]
    },
    {
      "cell_type": "code",
      "source": [
        "# Time to make our dataset performant using tf.data API\n",
        "train_features_dataset = tf.data.Dataset.from_tensor_slices(X_train)\n",
        "train_labels_dataset = tf.data.Dataset.from_tensor_slices(y_train)\n",
        "\n",
        "test_features_dataset = tf.data.Dataset.from_tensor_slices(X_test)\n",
        "test_labels_dataset = tf.data.Dataset.from_tensor_slices(y_test)\n",
        "\n",
        "# Combine labels and features by zipping together -> (features, labels)\n",
        "train_dataset = tf.data.Dataset.zip((train_features_dataset, train_labels_dataset))\n",
        "test_dataset = tf.data.Dataset.zip((test_features_dataset, test_labels_dataset))\n",
        "\n",
        "# Batch and prefetch\n",
        "BATCH_SIZE = 1024\n",
        "train_dataset = train_dataset.batch(BATCH_SIZE).prefetch(tf.data.AUTOTUNE)\n",
        "test_dataset = test_dataset.batch(BATCH_SIZE).prefetch(tf.data.AUTOTUNE)\n",
        "\n",
        "train_dataset, test_dataset"
      ],
      "metadata": {
        "colab": {
          "base_uri": "https://localhost:8080/"
        },
        "id": "89fjWcnhXNkK",
        "outputId": "7d8e96e0-56f7-4bfe-8416-ff33e4c807dd"
      },
      "execution_count": null,
      "outputs": [
        {
          "output_type": "execute_result",
          "data": {
            "text/plain": [
              "(<PrefetchDataset element_spec=(TensorSpec(shape=(None, 7), dtype=tf.float64, name=None), TensorSpec(shape=(None,), dtype=tf.float64, name=None))>,\n",
              " <PrefetchDataset element_spec=(TensorSpec(shape=(None, 7), dtype=tf.float64, name=None), TensorSpec(shape=(None,), dtype=tf.float64, name=None))>)"
            ]
          },
          "metadata": {},
          "execution_count": 51
        }
      ]
    },
    {
      "cell_type": "markdown",
      "source": [
        "###Setting up hyperparameters for N-BEATS algorithm\n"
      ],
      "metadata": {
        "id": "NqWsLeAGyP2e"
      }
    },
    {
      "cell_type": "code",
      "source": [
        "# Values from N-BEATS paper\n",
        "N_EPOCHS = 5000\n",
        "N_NEURONS = 512\n",
        "N_LAYERS = 4 \n",
        "N_STACKS = 30 \n",
        "\n",
        "INPUT_SIZE = WINDOW_SIZE * HORIZON\n",
        "THETA_SIZE = INPUT_SIZE + HORIZON\n",
        "\n",
        "INPUT_SIZE, THETA_SIZE"
      ],
      "metadata": {
        "colab": {
          "base_uri": "https://localhost:8080/"
        },
        "id": "VmPp8quCyQxu",
        "outputId": "eb3793f8-41c3-4733-9148-f63ac95b3122"
      },
      "execution_count": null,
      "outputs": [
        {
          "output_type": "execute_result",
          "data": {
            "text/plain": [
              "(7, 8)"
            ]
          },
          "metadata": {},
          "execution_count": 52
        }
      ]
    },
    {
      "cell_type": "markdown",
      "source": [
        "###Getting ready for residual connections\n",
        "Before we can craft our N-BEATS model, we need two layers for the residual connections (subtract and add)."
      ],
      "metadata": {
        "id": "JlmAX4Ud00fL"
      }
    },
    {
      "cell_type": "code",
      "source": [
        "# Make tensors\n",
        "tensor_1 = tf.range(10) + 10\n",
        "tensor_2 = tf.range(10)\n",
        "\n",
        "# Subtract\n",
        "subtracted = layers.subtract([tensor_1, tensor_2])\n",
        "\n",
        "# Add\n",
        "added = layers.add([tensor_1, tensor_2])\n",
        "\n",
        "# Get outputs\n",
        "print(f\"Input tensors: {tensor_1.numpy()} & {tensor_2.numpy()}\")\n",
        "print(f\"Subtracted: {subtracted.numpy()}\")\n",
        "print(f\"Added: {added.numpy()}\")"
      ],
      "metadata": {
        "colab": {
          "base_uri": "https://localhost:8080/"
        },
        "id": "MwPrBHXN07Py",
        "outputId": "e850b667-70ef-4083-a959-0f3de1c9c072"
      },
      "execution_count": null,
      "outputs": [
        {
          "output_type": "stream",
          "name": "stdout",
          "text": [
            "Input tensors: [10 11 12 13 14 15 16 17 18 19] & [0 1 2 3 4 5 6 7 8 9]\n",
            "Subtracted: [10 10 10 10 10 10 10 10 10 10]\n",
            "Added: [10 12 14 16 18 20 22 24 26 28]\n"
          ]
        }
      ]
    },
    {
      "cell_type": "markdown",
      "source": [
        "##Building, compiling and fitting the N-BEATS algorithm\n"
      ],
      "metadata": {
        "id": "_FzvhKQc0ROZ"
      }
    },
    {
      "cell_type": "code",
      "source": [
        "%%time\n",
        "\n",
        "tf.random.set_seed(42)\n",
        "\n",
        "# 1. Setup and instance of NBeatsBlock\n",
        "nbeats_block_layer = NBeatsBlock(input_size=INPUT_SIZE, \n",
        "                                 theta_size=THETA_SIZE,\n",
        "                                 horizon=HORIZON,\n",
        "                                 n_neurons=N_NEURONS,\n",
        "                                 n_layers=N_LAYERS,\n",
        "                                 name=\"InitialBlock\")\n",
        "\n",
        "# 2. Create input to stack\n",
        "stack_input = layers.Input(shape=(INPUT_SIZE), name=\"stack_input\")\n",
        "\n",
        "# 3. Create initial backcast and forecast input (backwards prediction + horizon prediction)\n",
        "residuals, forecast = nbeats_block_layer(stack_input)\n",
        "\n",
        "# 4. Create stacks of block layers\n",
        "for i, _ in enumerate(range(N_STACKS-1)): # first stack is already created in (3)\n",
        "\n",
        "  # 5. Use the NBeatsBlock to calculate the backcast as well as the forecast\n",
        "  backcast, block_forecast = NBeatsBlock(\n",
        "      input_size=INPUT_SIZE,\n",
        "      theta_size=THETA_SIZE,\n",
        "      horizon=HORIZON,\n",
        "      n_neurons=N_NEURONS,\n",
        "      n_layers=N_LAYERS,\n",
        "      name=f\"NBeatsBlock_{i}\"\n",
        "  )(residuals) # pass in the residuals\n",
        "\n",
        "  # 6. Create the double residual stacking\n",
        "  residuals = layers.subtract([residuals, backcast], name=f\"subtract_{i}\")\n",
        "  forecast = layers.add([forecast, block_forecast], name=f\"add_{i}\")\n",
        "\n",
        "# 7. Put the stack model together\n",
        "model_7 = tf.keras.Model(inputs=stack_input, outputs=forecast, name=\"model_7_NBEATS\")\n",
        "\n",
        "# 8. Compile model with MAE loss\n",
        "model_7.compile(loss=\"mae\",\n",
        "                optimizer=tf.keras.optimizers.Adam())\n",
        "\n",
        "# 9. Fit the model with EarlyStopping and ReduceLROnPlateau callbacks\n",
        "model_7.fit(train_dataset,\n",
        "            epochs=N_EPOCHS,\n",
        "            validation_data=test_dataset,\n",
        "            verbose=0,\n",
        "            callbacks=[tf.keras.callbacks.EarlyStopping(monitor=\"val_loss\",\n",
        "                                                        patience=200,\n",
        "                                                        restore_best_weights=True),\n",
        "                       tf.keras.callbacks.ReduceLROnPlateau(monitor=\"val_loss\",\n",
        "                                                            patience=100,\n",
        "                                                            verbose=1)])"
      ],
      "metadata": {
        "colab": {
          "base_uri": "https://localhost:8080/"
        },
        "id": "nV8KRcpn2693",
        "outputId": "cb0905a5-bf7c-4f01-f5b7-7bd693a0f3f2"
      },
      "execution_count": null,
      "outputs": [
        {
          "output_type": "stream",
          "name": "stdout",
          "text": [
            "\n",
            "Epoch 829: ReduceLROnPlateau reducing learning rate to 0.00010000000474974513.\n",
            "\n",
            "Epoch 929: ReduceLROnPlateau reducing learning rate to 1.0000000474974514e-05.\n",
            "CPU times: user 2min 43s, sys: 5.19 s, total: 2min 48s\n",
            "Wall time: 3min 9s\n"
          ]
        },
        {
          "output_type": "execute_result",
          "data": {
            "text/plain": [
              "<keras.callbacks.History at 0x7f535a2606d0>"
            ]
          },
          "metadata": {},
          "execution_count": 56
        }
      ]
    },
    {
      "cell_type": "code",
      "source": [
        "# Evaluate N-BEats model on the test dataset\n",
        "model_7.evaluate(test_dataset)"
      ],
      "metadata": {
        "colab": {
          "base_uri": "https://localhost:8080/"
        },
        "id": "hD3drHUq5qes",
        "outputId": "7d2748be-7874-442e-c51e-f3d3235a67f3"
      },
      "execution_count": null,
      "outputs": [
        {
          "output_type": "stream",
          "name": "stdout",
          "text": [
            "1/1 [==============================] - 0s 21ms/step - loss: 577.1234\n"
          ]
        },
        {
          "output_type": "execute_result",
          "data": {
            "text/plain": [
              "577.1234130859375"
            ]
          },
          "metadata": {},
          "execution_count": 57
        }
      ]
    },
    {
      "cell_type": "code",
      "source": [
        "# Make predictions with N-BEATS model\n",
        "model_7_preds = make_preds(model_7, test_dataset)\n",
        "model_7_preds[:10]"
      ],
      "metadata": {
        "colab": {
          "base_uri": "https://localhost:8080/"
        },
        "id": "Uanvg3kd5uMZ",
        "outputId": "a8ba9956-c00c-4c25-f143-6858b3b0c244"
      },
      "execution_count": null,
      "outputs": [
        {
          "output_type": "execute_result",
          "data": {
            "text/plain": [
              "<tf.Tensor: shape=(10,), dtype=float32, numpy=\n",
              "array([8894.432, 8804.526, 9025.266, 8805.889, 8765.894, 8749.489,\n",
              "       8688.842, 8531.117, 8489.784, 8524.234], dtype=float32)>"
            ]
          },
          "metadata": {},
          "execution_count": 58
        }
      ]
    },
    {
      "cell_type": "code",
      "source": [
        "# Evaluate N-BEATS model preds\n",
        "model_7_results = evaluate_preds(y_true=y_test,\n",
        "                                 y_pred=model_7_preds)\n",
        "model_7_results"
      ],
      "metadata": {
        "colab": {
          "base_uri": "https://localhost:8080/"
        },
        "id": "RaPjBXzp5vyT",
        "outputId": "6b17228f-7b3a-4032-879c-328dc6cb468b"
      },
      "execution_count": null,
      "outputs": [
        {
          "output_type": "execute_result",
          "data": {
            "text/plain": [
              "{'mae': 577.1234,\n",
              " 'mse': 1193843.2,\n",
              " 'rmse': 1092.6313,\n",
              " 'mape': 2.5915396,\n",
              " 'mase': 1.013846}"
            ]
          },
          "metadata": {},
          "execution_count": 59
        }
      ]
    },
    {
      "cell_type": "markdown",
      "source": [
        "##Plotting the N-BEATS architecture we've created\n"
      ],
      "metadata": {
        "id": "ypoNVsDJNEjy"
      }
    },
    {
      "cell_type": "code",
      "source": [
        "# Plot the N-BEATS model and inspect the architecture\n",
        "from tensorflow.keras.utils import plot_model\n",
        "plot_model(model_7)"
      ],
      "metadata": {
        "id": "lALTZV40NJV8"
      },
      "execution_count": null,
      "outputs": []
    },
    {
      "cell_type": "markdown",
      "source": [
        "#Model 8: Creating an ensemble (stacking different models together)\n",
        "It combines many different models to predict a common goal.\n",
        "\n",
        "\n"
      ],
      "metadata": {
        "id": "1W4Mtj46N_jE"
      }
    },
    {
      "cell_type": "markdown",
      "source": [
        "##Constructing and fitting and ensemble of models (using different loss functions)\n"
      ],
      "metadata": {
        "id": "ovKIHbrLPRT-"
      }
    },
    {
      "cell_type": "code",
      "source": [
        "def get_ensemble_models(horizon=HORIZON,\n",
        "                        train_data=train_dataset,\n",
        "                        test_data=test_dataset,\n",
        "                        num_iter=10,\n",
        "                        num_epochs=1000,\n",
        "                        loss_fns=[\"mae\", \"mse\", \"mape\"]):\n",
        "  \"\"\"\n",
        "  Returns a list of num_iter models each trained on MAE, MSE and MAPE loss.\n",
        "\n",
        "  For example, if num_iter=10, a list of 30 trained models will be returned: \n",
        "  10 * len([\"mae\", \"mse\", \"mape\"]).\n",
        "  \"\"\"\n",
        "  # Make empty list for trained ensemble models\n",
        "  ensemble_models = []\n",
        "\n",
        "  # Create num_iter number of models per loss function\n",
        "  for i in range(num_iter):\n",
        "    # Build and fit a new model with a different loss function\n",
        "    for loss_function in loss_fns:\n",
        "      print(f\"Optimizing model by reducing: {loss_function} for {num_epochs} epochs, model number: {i}\")\n",
        "\n",
        "      # Construct a simple model (similar to model_1)\n",
        "      model = tf.keras.Sequential([\n",
        "        # Initialize dense layers with normal distribution for estimating prediction intervals later on\n",
        "        layers.Dense(128, kernel_initializer=\"he_normal\", activation=\"relu\"),\n",
        "        layers.Dense(128, kernel_initializer=\"he_normal\", activation=\"relu\"),\n",
        "        layers.Dense(HORIZON)\n",
        "      ])\n",
        "\n",
        "      # Compile simple model with current loss function\n",
        "      model.compile(loss=loss_function,\n",
        "                    optimizer=tf.keras.optimizers.Adam(),\n",
        "                    metrics=[\"mae\", \"mse\"])\n",
        "      \n",
        "      # Fit the current model\n",
        "      model.fit(train_data,\n",
        "                epochs=num_epochs,\n",
        "                verbose=0,\n",
        "                validation_data=test_data,\n",
        "                callbacks=[tf.keras.callbacks.EarlyStopping(monitor=\"val_loss\",\n",
        "                                                            patience=200,\n",
        "                                                            restore_best_weights=True),\n",
        "                           tf.keras.callbacks.ReduceLROnPlateau(monitor=\"val_loss\",\n",
        "                                                                patience=100,\n",
        "                                                                verbose=1)])\n",
        "      # Append fitted model to list of ensemble models\n",
        "      ensemble_models.append(model)\n",
        "\n",
        "  return ensemble_models"
      ],
      "metadata": {
        "id": "LVtRgy2CPTQO"
      },
      "execution_count": null,
      "outputs": []
    },
    {
      "cell_type": "code",
      "source": [
        "%%time\n",
        "# Get list of trained ensemble models\n",
        "ensemble_models = get_ensemble_models(num_iter=5,\n",
        "                                      num_epochs=1000)"
      ],
      "metadata": {
        "colab": {
          "base_uri": "https://localhost:8080/"
        },
        "id": "dGaCN57_OBVC",
        "outputId": "b49e6a72-4ab2-44c5-9ce2-de278f1119ab"
      },
      "execution_count": null,
      "outputs": [
        {
          "output_type": "stream",
          "name": "stdout",
          "text": [
            "Optimizing model by reducing: mae for 1000 epochs, model number: 0\n",
            "\n",
            "Epoch 717: ReduceLROnPlateau reducing learning rate to 0.00010000000474974513.\n",
            "Optimizing model by reducing: mse for 1000 epochs, model number: 0\n",
            "\n",
            "Epoch 194: ReduceLROnPlateau reducing learning rate to 0.00010000000474974513.\n",
            "\n",
            "Epoch 294: ReduceLROnPlateau reducing learning rate to 1.0000000474974514e-05.\n",
            "Optimizing model by reducing: mape for 1000 epochs, model number: 0\n",
            "\n",
            "Epoch 174: ReduceLROnPlateau reducing learning rate to 0.00010000000474974513.\n",
            "\n",
            "Epoch 423: ReduceLROnPlateau reducing learning rate to 1.0000000474974514e-05.\n",
            "\n",
            "Epoch 523: ReduceLROnPlateau reducing learning rate to 1.0000000656873453e-06.\n",
            "Optimizing model by reducing: mae for 1000 epochs, model number: 1\n",
            "\n",
            "Epoch 499: ReduceLROnPlateau reducing learning rate to 0.00010000000474974513.\n",
            "\n",
            "Epoch 788: ReduceLROnPlateau reducing learning rate to 1.0000000474974514e-05.\n",
            "\n",
            "Epoch 888: ReduceLROnPlateau reducing learning rate to 1.0000000656873453e-06.\n",
            "Optimizing model by reducing: mse for 1000 epochs, model number: 1\n",
            "\n",
            "Epoch 214: ReduceLROnPlateau reducing learning rate to 0.00010000000474974513.\n",
            "\n",
            "Epoch 314: ReduceLROnPlateau reducing learning rate to 1.0000000474974514e-05.\n",
            "Optimizing model by reducing: mape for 1000 epochs, model number: 1\n",
            "\n",
            "Epoch 208: ReduceLROnPlateau reducing learning rate to 0.00010000000474974513.\n",
            "Optimizing model by reducing: mae for 1000 epochs, model number: 2\n",
            "\n",
            "Epoch 696: ReduceLROnPlateau reducing learning rate to 0.00010000000474974513.\n",
            "\n",
            "Epoch 971: ReduceLROnPlateau reducing learning rate to 1.0000000474974514e-05.\n",
            "Optimizing model by reducing: mse for 1000 epochs, model number: 2\n",
            "\n",
            "Epoch 507: ReduceLROnPlateau reducing learning rate to 0.00010000000474974513.\n",
            "\n",
            "Epoch 607: ReduceLROnPlateau reducing learning rate to 1.0000000474974514e-05.\n",
            "Optimizing model by reducing: mape for 1000 epochs, model number: 2\n",
            "\n",
            "Epoch 194: ReduceLROnPlateau reducing learning rate to 0.00010000000474974513.\n",
            "\n",
            "Epoch 327: ReduceLROnPlateau reducing learning rate to 1.0000000474974514e-05.\n",
            "\n",
            "Epoch 427: ReduceLROnPlateau reducing learning rate to 1.0000000656873453e-06.\n",
            "Optimizing model by reducing: mae for 1000 epochs, model number: 3\n",
            "\n",
            "Epoch 886: ReduceLROnPlateau reducing learning rate to 0.00010000000474974513.\n",
            "\n",
            "Epoch 986: ReduceLROnPlateau reducing learning rate to 1.0000000474974514e-05.\n",
            "Optimizing model by reducing: mse for 1000 epochs, model number: 3\n",
            "\n",
            "Epoch 376: ReduceLROnPlateau reducing learning rate to 0.00010000000474974513.\n",
            "\n",
            "Epoch 476: ReduceLROnPlateau reducing learning rate to 1.0000000474974514e-05.\n",
            "Optimizing model by reducing: mape for 1000 epochs, model number: 3\n",
            "\n",
            "Epoch 118: ReduceLROnPlateau reducing learning rate to 0.00010000000474974513.\n",
            "\n",
            "Epoch 643: ReduceLROnPlateau reducing learning rate to 1.0000000474974514e-05.\n",
            "\n",
            "Epoch 743: ReduceLROnPlateau reducing learning rate to 1.0000000656873453e-06.\n",
            "Optimizing model by reducing: mae for 1000 epochs, model number: 4\n",
            "\n",
            "Epoch 321: ReduceLROnPlateau reducing learning rate to 0.00010000000474974513.\n",
            "\n",
            "Epoch 795: ReduceLROnPlateau reducing learning rate to 1.0000000474974514e-05.\n",
            "\n",
            "Epoch 895: ReduceLROnPlateau reducing learning rate to 1.0000000656873453e-06.\n",
            "Optimizing model by reducing: mse for 1000 epochs, model number: 4\n",
            "\n",
            "Epoch 482: ReduceLROnPlateau reducing learning rate to 0.00010000000474974513.\n",
            "\n",
            "Epoch 582: ReduceLROnPlateau reducing learning rate to 1.0000000474974514e-05.\n",
            "Optimizing model by reducing: mape for 1000 epochs, model number: 4\n",
            "\n",
            "Epoch 178: ReduceLROnPlateau reducing learning rate to 0.00010000000474974513.\n",
            "\n",
            "Epoch 660: ReduceLROnPlateau reducing learning rate to 1.0000000474974514e-05.\n",
            "\n",
            "Epoch 919: ReduceLROnPlateau reducing learning rate to 1.0000000656873453e-06.\n",
            "CPU times: user 5min 41s, sys: 27.8 s, total: 6min 9s\n",
            "Wall time: 5min 37s\n"
          ]
        }
      ]
    },
    {
      "cell_type": "markdown",
      "source": [
        "##Make predictions with our ensemble model\n"
      ],
      "metadata": {
        "id": "xRxibE57sX2r"
      }
    },
    {
      "cell_type": "code",
      "source": [
        "ensemble_models\n"
      ],
      "metadata": {
        "colab": {
          "base_uri": "https://localhost:8080/"
        },
        "id": "OZj_8G-2saK2",
        "outputId": "3074f0fb-ea32-4726-9ce4-da5fdd831208"
      },
      "execution_count": null,
      "outputs": [
        {
          "output_type": "execute_result",
          "data": {
            "text/plain": [
              "[<keras.engine.sequential.Sequential at 0x7f334a1aa950>,\n",
              " <keras.engine.sequential.Sequential at 0x7f333228bfd0>,\n",
              " <keras.engine.sequential.Sequential at 0x7f3334aae3d0>,\n",
              " <keras.engine.sequential.Sequential at 0x7f33b007dd50>,\n",
              " <keras.engine.sequential.Sequential at 0x7f33b010f090>,\n",
              " <keras.engine.sequential.Sequential at 0x7f33b0035890>,\n",
              " <keras.engine.sequential.Sequential at 0x7f334a611a50>,\n",
              " <keras.engine.sequential.Sequential at 0x7f3334936dd0>,\n",
              " <keras.engine.sequential.Sequential at 0x7f33347c4710>,\n",
              " <keras.engine.sequential.Sequential at 0x7f333465a750>,\n",
              " <keras.engine.sequential.Sequential at 0x7f333451dcd0>,\n",
              " <keras.engine.sequential.Sequential at 0x7f33321271d0>,\n",
              " <keras.engine.sequential.Sequential at 0x7f3316fcc350>,\n",
              " <keras.engine.sequential.Sequential at 0x7f331a6e3350>,\n",
              " <keras.engine.sequential.Sequential at 0x7f331a5120d0>]"
            ]
          },
          "metadata": {},
          "execution_count": 56
        }
      ]
    },
    {
      "cell_type": "code",
      "source": [
        "# Create a function which uses a list of trained models to make and return a list of predictions\n",
        "def make_ensemble_preds(ensemble_models, data):\n",
        "  ensemble_preds = []\n",
        "  for model in ensemble_models:\n",
        "    preds = model.predict(data)\n",
        "    ensemble_preds.append(preds)\n",
        "  return tf.constant(tf.squeeze(ensemble_preds))"
      ],
      "metadata": {
        "id": "YUxnlGQ7sa4R"
      },
      "execution_count": null,
      "outputs": []
    },
    {
      "cell_type": "code",
      "source": [
        "# Create a list of ensemble predictions\n",
        "%%time\n",
        "ensemble_preds = make_ensemble_preds(ensemble_models=ensemble_models,\n",
        "                                     data=test_dataset)\n",
        "ensemble_preds"
      ],
      "metadata": {
        "colab": {
          "base_uri": "https://localhost:8080/"
        },
        "id": "P0XEtG-fsdZi",
        "outputId": "809d25c7-a994-4a68-ba79-c7e5aab78d4b"
      },
      "execution_count": null,
      "outputs": [
        {
          "output_type": "stream",
          "name": "stdout",
          "text": [
            "CPU times: user 157 ms, sys: 17.2 ms, total: 174 ms\n",
            "Wall time: 161 ms\n"
          ]
        },
        {
          "output_type": "execute_result",
          "data": {
            "text/plain": [
              "<tf.Tensor: shape=(15, 556), dtype=float32, numpy=\n",
              "array([[ 8816.943,  8794.385,  9061.186, ..., 49935.812, 48171.297,\n",
              "        46349.156],\n",
              "       [ 8779.879,  8775.541,  9034.486, ..., 49682.188, 47970.215,\n",
              "        46010.11 ],\n",
              "       [ 8827.796,  8858.68 ,  9064.153, ..., 49942.82 , 48566.914,\n",
              "        45643.188],\n",
              "       ...,\n",
              "       [ 8868.097,  8786.837,  9056.561, ..., 49706.05 , 47895.91 ,\n",
              "        46662.24 ],\n",
              "       [ 8743.824,  8734.181,  8954.675, ..., 49487.41 , 48092.88 ,\n",
              "        45708.785],\n",
              "       [ 8799.765,  8763.151,  9109.987, ..., 49922.793, 47905.113,\n",
              "        45573.805]], dtype=float32)>"
            ]
          },
          "metadata": {},
          "execution_count": 60
        }
      ]
    },
    {
      "cell_type": "code",
      "source": [
        "ensemble_preds\n"
      ],
      "metadata": {
        "colab": {
          "base_uri": "https://localhost:8080/"
        },
        "id": "G4cbe7uAsffg",
        "outputId": "f2aa2d10-0f3d-4e51-ba6e-aba1a42b068c"
      },
      "execution_count": null,
      "outputs": [
        {
          "output_type": "execute_result",
          "data": {
            "text/plain": [
              "<tf.Tensor: shape=(15, 556), dtype=float32, numpy=\n",
              "array([[ 8816.943,  8794.385,  9061.186, ..., 49935.812, 48171.297,\n",
              "        46349.156],\n",
              "       [ 8779.879,  8775.541,  9034.486, ..., 49682.188, 47970.215,\n",
              "        46010.11 ],\n",
              "       [ 8827.796,  8858.68 ,  9064.153, ..., 49942.82 , 48566.914,\n",
              "        45643.188],\n",
              "       ...,\n",
              "       [ 8868.097,  8786.837,  9056.561, ..., 49706.05 , 47895.91 ,\n",
              "        46662.24 ],\n",
              "       [ 8743.824,  8734.181,  8954.675, ..., 49487.41 , 48092.88 ,\n",
              "        45708.785],\n",
              "       [ 8799.765,  8763.151,  9109.987, ..., 49922.793, 47905.113,\n",
              "        45573.805]], dtype=float32)>"
            ]
          },
          "metadata": {},
          "execution_count": 61
        }
      ]
    },
    {
      "cell_type": "code",
      "source": [
        "ensemble_mean = tf.reduce_mean(ensemble_preds, axis=0)\n",
        "ensemble_mean[:10]"
      ],
      "metadata": {
        "colab": {
          "base_uri": "https://localhost:8080/"
        },
        "id": "QXeLRuQPsgn7",
        "outputId": "d18e69d7-1a9f-42d3-e6ce-2a56b0f9fefe"
      },
      "execution_count": null,
      "outputs": [
        {
          "output_type": "execute_result",
          "data": {
            "text/plain": [
              "<tf.Tensor: shape=(10,), dtype=float32, numpy=\n",
              "array([8798.748, 8770.309, 9058.47 , 8722.061, 8732.768, 8730.577,\n",
              "       8657.48 , 8475.887, 8456.226, 8519.21 ], dtype=float32)>"
            ]
          },
          "metadata": {},
          "execution_count": 62
        }
      ]
    },
    {
      "cell_type": "code",
      "source": [
        "ensemble_median = np.median(ensemble_preds, axis=0)\n",
        "ensemble_median[:10]"
      ],
      "metadata": {
        "colab": {
          "base_uri": "https://localhost:8080/"
        },
        "id": "k5vFv-JLsiYR",
        "outputId": "59a47344-3305-4c1e-da23-8c91a6adef8c"
      },
      "execution_count": null,
      "outputs": [
        {
          "output_type": "execute_result",
          "data": {
            "text/plain": [
              "array([8799.765, 8768.821, 9061.186, 8725.111, 8748.899, 8734.901,\n",
              "       8663.943, 8480.168, 8464.328, 8528.038], dtype=float32)"
            ]
          },
          "metadata": {},
          "execution_count": 63
        }
      ]
    },
    {
      "cell_type": "code",
      "source": [
        "# Evaluate ensemble model predictions\n",
        "ensemble_results = evaluate_preds(y_true=y_test,\n",
        "                                  y_pred=ensemble_mean)\n",
        "ensemble_results"
      ],
      "metadata": {
        "colab": {
          "base_uri": "https://localhost:8080/"
        },
        "id": "owpgsro9sjbZ",
        "outputId": "31810ad5-c6e3-4bb9-bef7-5c24f7025e53"
      },
      "execution_count": null,
      "outputs": [
        {
          "output_type": "execute_result",
          "data": {
            "text/plain": [
              "{'mae': 567.8993,\n",
              " 'mse': 1140963.6,\n",
              " 'rmse': 1068.1589,\n",
              " 'mape': 2.5718563,\n",
              " 'mase': 0.99764174}"
            ]
          },
          "metadata": {},
          "execution_count": 64
        }
      ]
    },
    {
      "cell_type": "code",
      "source": [
        "# Evaluate ensemble model predictions\n",
        "ensemble_results = evaluate_preds(y_true=y_test,\n",
        "                                  y_pred=ensemble_median)\n",
        "ensemble_results"
      ],
      "metadata": {
        "colab": {
          "base_uri": "https://localhost:8080/"
        },
        "id": "phSqLoPbsk3y",
        "outputId": "9a3866b3-36cd-4c9c-89fb-29605a4f28b6"
      },
      "execution_count": null,
      "outputs": [
        {
          "output_type": "execute_result",
          "data": {
            "text/plain": [
              "{'mae': 567.7708,\n",
              " 'mse': 1139825.8,\n",
              " 'rmse': 1067.6262,\n",
              " 'mape': 2.561378,\n",
              " 'mase': 0.9974161}"
            ]
          },
          "metadata": {},
          "execution_count": 65
        }
      ]
    },
    {
      "cell_type": "markdown",
      "source": [
        "##Plotting the prediction intervals (uncertainty estimates) of our ensemble"
      ],
      "metadata": {
        "id": "NWAly73Pg5uu"
      }
    },
    {
      "cell_type": "code",
      "source": [
        "# Find upper and lower bounds of ensemble predictions\n",
        "def get_upper_lower(preds): # 1. Take the predictions from a number of randomly intialized models\n",
        "\n",
        "  # 2. Measure the standard deviation of the predictions\n",
        "  std = tf.math.reduce_std(preds, axis=0)\n",
        "\n",
        "  # 3. Multiply the standard deviation by 1.96\n",
        "  interval = 1.96 * std\n",
        "\n",
        "  # 4. Get the prediction interval upper and lower bounds \n",
        "  preds_mean = tf.reduce_mean(preds, axis=0)\n",
        "  lower, upper = preds_mean - interval, preds_mean + interval\n",
        "\n",
        "  return lower, upper"
      ],
      "metadata": {
        "id": "bBfDSIDxg6mN"
      },
      "execution_count": null,
      "outputs": []
    },
    {
      "cell_type": "code",
      "source": [
        "# Get the upper and lower bounds of the 95% percent prediction interval\n",
        "lower, upper = get_upper_lower(preds=ensemble_preds)\n"
      ],
      "metadata": {
        "id": "U_vYRclig_t8"
      },
      "execution_count": null,
      "outputs": []
    },
    {
      "cell_type": "code",
      "source": [
        "X_test.index[:10]"
      ],
      "metadata": {
        "id": "sxskOB9rhBDw"
      },
      "execution_count": null,
      "outputs": []
    },
    {
      "cell_type": "code",
      "source": [
        "# Get the median/mean values of our ensemble preds\n",
        "ensemble_median = np.median(ensemble_preds, axis=0)\n",
        "\n",
        "# Plot the median of our ensemble preds along with the prediction intervals (where the predictions fall between)\n",
        "offset=500\n",
        "plt.figure(figsize=(10, 7))\n",
        "plt.plot(X_test.index[offset:], y_test[offset:], \"g\", label=\"Test Data\")\n",
        "plt.plot(X_test.index[offset:], ensemble_median[offset:], \"k-\", label=\"Ensemble Median\")\n",
        "plt.xlabel(\"Date\")\n",
        "plt.ylabel(\"BTC Price\")\n",
        "# To plot the upper and lower bounds, let's use fill_between: https://matplotlib.org/stable/api/_as_gen/matplotlib.pyplot.fill_between.html\n",
        "plt.fill_between(X_test.index[offset:],\n",
        "                 (lower)[offset:],\n",
        "                 (upper)[offset:], label=\"Prediction Intervals\")\n",
        "plt.legend(loc=\"upper left\", fontsize=14);"
      ],
      "metadata": {
        "id": "j4b0mw3ohC4z"
      },
      "execution_count": null,
      "outputs": []
    },
    {
      "cell_type": "markdown",
      "source": [
        "#Model 9: Train a model on the full historical data to make predictions into the future\n"
      ],
      "metadata": {
        "id": "q1KgdY75jKDJ"
      }
    },
    {
      "cell_type": "code",
      "source": [
        "HORIZON = 1\n",
        "WINDOW_SIZE = 7"
      ],
      "metadata": {
        "id": "nd_nRCg6jLTE"
      },
      "execution_count": null,
      "outputs": []
    },
    {
      "cell_type": "code",
      "source": [
        "bitcoin_prices_windowed.head()\n"
      ],
      "metadata": {
        "colab": {
          "base_uri": "https://localhost:8080/",
          "height": 238
        },
        "id": "dbpm5ZAckGJk",
        "outputId": "6e33d806-b770-4291-ab2c-c1348cc108e6"
      },
      "execution_count": null,
      "outputs": [
        {
          "output_type": "execute_result",
          "data": {
            "text/plain": [
              "                Price block_reward    Price+1    Price+2    Price+3  \\\n",
              "Date                                                                  \n",
              "2013-10-01  123.65499           25        NaN        NaN        NaN   \n",
              "2013-10-02  125.45500           25  123.65499        NaN        NaN   \n",
              "2013-10-03  108.58483           25  125.45500  123.65499        NaN   \n",
              "2013-10-04  118.67466           25  108.58483  125.45500  123.65499   \n",
              "2013-10-05  121.33866           25  118.67466  108.58483  125.45500   \n",
              "\n",
              "              Price+4  Price+5  Price+6  Price+7  \n",
              "Date                                              \n",
              "2013-10-01        NaN      NaN      NaN      NaN  \n",
              "2013-10-02        NaN      NaN      NaN      NaN  \n",
              "2013-10-03        NaN      NaN      NaN      NaN  \n",
              "2013-10-04        NaN      NaN      NaN      NaN  \n",
              "2013-10-05  123.65499      NaN      NaN      NaN  "
            ],
            "text/html": [
              "\n",
              "  <div id=\"df-1e90f9e5-5adf-41be-8c79-43225adf2f15\">\n",
              "    <div class=\"colab-df-container\">\n",
              "      <div>\n",
              "<style scoped>\n",
              "    .dataframe tbody tr th:only-of-type {\n",
              "        vertical-align: middle;\n",
              "    }\n",
              "\n",
              "    .dataframe tbody tr th {\n",
              "        vertical-align: top;\n",
              "    }\n",
              "\n",
              "    .dataframe thead th {\n",
              "        text-align: right;\n",
              "    }\n",
              "</style>\n",
              "<table border=\"1\" class=\"dataframe\">\n",
              "  <thead>\n",
              "    <tr style=\"text-align: right;\">\n",
              "      <th></th>\n",
              "      <th>Price</th>\n",
              "      <th>block_reward</th>\n",
              "      <th>Price+1</th>\n",
              "      <th>Price+2</th>\n",
              "      <th>Price+3</th>\n",
              "      <th>Price+4</th>\n",
              "      <th>Price+5</th>\n",
              "      <th>Price+6</th>\n",
              "      <th>Price+7</th>\n",
              "    </tr>\n",
              "    <tr>\n",
              "      <th>Date</th>\n",
              "      <th></th>\n",
              "      <th></th>\n",
              "      <th></th>\n",
              "      <th></th>\n",
              "      <th></th>\n",
              "      <th></th>\n",
              "      <th></th>\n",
              "      <th></th>\n",
              "      <th></th>\n",
              "    </tr>\n",
              "  </thead>\n",
              "  <tbody>\n",
              "    <tr>\n",
              "      <th>2013-10-01</th>\n",
              "      <td>123.65499</td>\n",
              "      <td>25</td>\n",
              "      <td>NaN</td>\n",
              "      <td>NaN</td>\n",
              "      <td>NaN</td>\n",
              "      <td>NaN</td>\n",
              "      <td>NaN</td>\n",
              "      <td>NaN</td>\n",
              "      <td>NaN</td>\n",
              "    </tr>\n",
              "    <tr>\n",
              "      <th>2013-10-02</th>\n",
              "      <td>125.45500</td>\n",
              "      <td>25</td>\n",
              "      <td>123.65499</td>\n",
              "      <td>NaN</td>\n",
              "      <td>NaN</td>\n",
              "      <td>NaN</td>\n",
              "      <td>NaN</td>\n",
              "      <td>NaN</td>\n",
              "      <td>NaN</td>\n",
              "    </tr>\n",
              "    <tr>\n",
              "      <th>2013-10-03</th>\n",
              "      <td>108.58483</td>\n",
              "      <td>25</td>\n",
              "      <td>125.45500</td>\n",
              "      <td>123.65499</td>\n",
              "      <td>NaN</td>\n",
              "      <td>NaN</td>\n",
              "      <td>NaN</td>\n",
              "      <td>NaN</td>\n",
              "      <td>NaN</td>\n",
              "    </tr>\n",
              "    <tr>\n",
              "      <th>2013-10-04</th>\n",
              "      <td>118.67466</td>\n",
              "      <td>25</td>\n",
              "      <td>108.58483</td>\n",
              "      <td>125.45500</td>\n",
              "      <td>123.65499</td>\n",
              "      <td>NaN</td>\n",
              "      <td>NaN</td>\n",
              "      <td>NaN</td>\n",
              "      <td>NaN</td>\n",
              "    </tr>\n",
              "    <tr>\n",
              "      <th>2013-10-05</th>\n",
              "      <td>121.33866</td>\n",
              "      <td>25</td>\n",
              "      <td>118.67466</td>\n",
              "      <td>108.58483</td>\n",
              "      <td>125.45500</td>\n",
              "      <td>123.65499</td>\n",
              "      <td>NaN</td>\n",
              "      <td>NaN</td>\n",
              "      <td>NaN</td>\n",
              "    </tr>\n",
              "  </tbody>\n",
              "</table>\n",
              "</div>\n",
              "      <button class=\"colab-df-convert\" onclick=\"convertToInteractive('df-1e90f9e5-5adf-41be-8c79-43225adf2f15')\"\n",
              "              title=\"Convert this dataframe to an interactive table.\"\n",
              "              style=\"display:none;\">\n",
              "        \n",
              "  <svg xmlns=\"http://www.w3.org/2000/svg\" height=\"24px\"viewBox=\"0 0 24 24\"\n",
              "       width=\"24px\">\n",
              "    <path d=\"M0 0h24v24H0V0z\" fill=\"none\"/>\n",
              "    <path d=\"M18.56 5.44l.94 2.06.94-2.06 2.06-.94-2.06-.94-.94-2.06-.94 2.06-2.06.94zm-11 1L8.5 8.5l.94-2.06 2.06-.94-2.06-.94L8.5 2.5l-.94 2.06-2.06.94zm10 10l.94 2.06.94-2.06 2.06-.94-2.06-.94-.94-2.06-.94 2.06-2.06.94z\"/><path d=\"M17.41 7.96l-1.37-1.37c-.4-.4-.92-.59-1.43-.59-.52 0-1.04.2-1.43.59L10.3 9.45l-7.72 7.72c-.78.78-.78 2.05 0 2.83L4 21.41c.39.39.9.59 1.41.59.51 0 1.02-.2 1.41-.59l7.78-7.78 2.81-2.81c.8-.78.8-2.07 0-2.86zM5.41 20L4 18.59l7.72-7.72 1.47 1.35L5.41 20z\"/>\n",
              "  </svg>\n",
              "      </button>\n",
              "      \n",
              "  <style>\n",
              "    .colab-df-container {\n",
              "      display:flex;\n",
              "      flex-wrap:wrap;\n",
              "      gap: 12px;\n",
              "    }\n",
              "\n",
              "    .colab-df-convert {\n",
              "      background-color: #E8F0FE;\n",
              "      border: none;\n",
              "      border-radius: 50%;\n",
              "      cursor: pointer;\n",
              "      display: none;\n",
              "      fill: #1967D2;\n",
              "      height: 32px;\n",
              "      padding: 0 0 0 0;\n",
              "      width: 32px;\n",
              "    }\n",
              "\n",
              "    .colab-df-convert:hover {\n",
              "      background-color: #E2EBFA;\n",
              "      box-shadow: 0px 1px 2px rgba(60, 64, 67, 0.3), 0px 1px 3px 1px rgba(60, 64, 67, 0.15);\n",
              "      fill: #174EA6;\n",
              "    }\n",
              "\n",
              "    [theme=dark] .colab-df-convert {\n",
              "      background-color: #3B4455;\n",
              "      fill: #D2E3FC;\n",
              "    }\n",
              "\n",
              "    [theme=dark] .colab-df-convert:hover {\n",
              "      background-color: #434B5C;\n",
              "      box-shadow: 0px 1px 3px 1px rgba(0, 0, 0, 0.15);\n",
              "      filter: drop-shadow(0px 1px 2px rgba(0, 0, 0, 0.3));\n",
              "      fill: #FFFFFF;\n",
              "    }\n",
              "  </style>\n",
              "\n",
              "      <script>\n",
              "        const buttonEl =\n",
              "          document.querySelector('#df-1e90f9e5-5adf-41be-8c79-43225adf2f15 button.colab-df-convert');\n",
              "        buttonEl.style.display =\n",
              "          google.colab.kernel.accessAllowed ? 'block' : 'none';\n",
              "\n",
              "        async function convertToInteractive(key) {\n",
              "          const element = document.querySelector('#df-1e90f9e5-5adf-41be-8c79-43225adf2f15');\n",
              "          const dataTable =\n",
              "            await google.colab.kernel.invokeFunction('convertToInteractive',\n",
              "                                                     [key], {});\n",
              "          if (!dataTable) return;\n",
              "\n",
              "          const docLinkHtml = 'Like what you see? Visit the ' +\n",
              "            '<a target=\"_blank\" href=https://colab.research.google.com/notebooks/data_table.ipynb>data table notebook</a>'\n",
              "            + ' to learn more about interactive tables.';\n",
              "          element.innerHTML = '';\n",
              "          dataTable['output_type'] = 'display_data';\n",
              "          await google.colab.output.renderOutput(dataTable, element);\n",
              "          const docLink = document.createElement('div');\n",
              "          docLink.innerHTML = docLinkHtml;\n",
              "          element.appendChild(docLink);\n",
              "        }\n",
              "      </script>\n",
              "    </div>\n",
              "  </div>\n",
              "  "
            ]
          },
          "metadata": {},
          "execution_count": 61
        }
      ]
    },
    {
      "cell_type": "code",
      "source": [
        "# Train model on entire data to make predictions for the next day\n",
        "X_all = bitcoin_prices_windowed.dropna().drop([\"Price\", \"block_reward\"], axis=1).to_numpy()\n",
        "# Get labels\n",
        "y_all = bitcoin_prices_windowed.dropna()[\"Price\"].to_numpy()\n",
        "\n",
        "len(X_all), len(y_all)"
      ],
      "metadata": {
        "colab": {
          "base_uri": "https://localhost:8080/"
        },
        "id": "XWooPvrkknVk",
        "outputId": "1a69121c-5215-4492-8fc9-99c8b32640f0"
      },
      "execution_count": null,
      "outputs": [
        {
          "output_type": "execute_result",
          "data": {
            "text/plain": [
              "(2780, 2780)"
            ]
          },
          "metadata": {},
          "execution_count": 62
        }
      ]
    },
    {
      "cell_type": "code",
      "source": [
        "X_all[:5], y_all[:5]\n"
      ],
      "metadata": {
        "colab": {
          "base_uri": "https://localhost:8080/"
        },
        "id": "UC4XfdrHko28",
        "outputId": "43235ec3-6464-4edb-8cc8-e01539ca0668"
      },
      "execution_count": null,
      "outputs": [
        {
          "output_type": "execute_result",
          "data": {
            "text/plain": [
              "(array([[121.795  , 120.65533, 121.33866, 118.67466, 108.58483, 125.455  ,\n",
              "         123.65499],\n",
              "        [123.033  , 121.795  , 120.65533, 121.33866, 118.67466, 108.58483,\n",
              "         125.455  ],\n",
              "        [124.049  , 123.033  , 121.795  , 120.65533, 121.33866, 118.67466,\n",
              "         108.58483],\n",
              "        [125.96116, 124.049  , 123.033  , 121.795  , 120.65533, 121.33866,\n",
              "         118.67466],\n",
              "        [125.27966, 125.96116, 124.049  , 123.033  , 121.795  , 120.65533,\n",
              "         121.33866]]),\n",
              " array([123.033  , 124.049  , 125.96116, 125.27966, 125.9275 ]))"
            ]
          },
          "metadata": {},
          "execution_count": 63
        }
      ]
    },
    {
      "cell_type": "code",
      "source": [
        "# Turn data into efficient running tensors\n",
        "\n",
        "features_dataset_all = tf.data.Dataset.from_tensor_slices(X_all)\n",
        "labels_dataset_all = tf.data.Dataset.from_tensor_slices(y_all)\n",
        "\n",
        "# Combine features and labels\n",
        "dataset_all = tf.data.Dataset.zip((features_dataset_all, labels_dataset_all))\n",
        "\n",
        "# Batch and prefetch for optimial performance\n",
        "BATCH_SIZE = 1024\n",
        "dataset_all = dataset_all.batch(BATCH_SIZE).prefetch(tf.data.AUTOTUNE)\n",
        "\n",
        "dataset_all"
      ],
      "metadata": {
        "colab": {
          "base_uri": "https://localhost:8080/"
        },
        "id": "Rf9bFH_dkqZT",
        "outputId": "0aad3294-9bef-402d-f8c3-a910ed194352"
      },
      "execution_count": null,
      "outputs": [
        {
          "output_type": "execute_result",
          "data": {
            "text/plain": [
              "<PrefetchDataset element_spec=(TensorSpec(shape=(None, 7), dtype=tf.float64, name=None), TensorSpec(shape=(None,), dtype=tf.float64, name=None))>"
            ]
          },
          "metadata": {},
          "execution_count": 64
        }
      ]
    },
    {
      "cell_type": "code",
      "source": [
        "tf.random.set_seed(42)\n",
        "\n",
        "# Create model (nice and simple, just to test)\n",
        "model_9 = tf.keras.Sequential([\n",
        "  layers.Dense(128, activation=\"relu\"),\n",
        "  layers.Dense(128, activation=\"relu\"),\n",
        "  layers.Dense(HORIZON)\n",
        "], name=\"model_9_future_model\")\n",
        "\n",
        "# Compile\n",
        "model_9.compile(loss=tf.keras.losses.mae,\n",
        "                optimizer=tf.keras.optimizers.Adam())\n",
        "\n",
        "# Fit model on all of the data to make future forecasts\n",
        "model_9.fit(dataset_all,\n",
        "            epochs=100,\n",
        "            verbose=0)"
      ],
      "metadata": {
        "colab": {
          "base_uri": "https://localhost:8080/"
        },
        "id": "4ByjID66ksi8",
        "outputId": "d2d8f076-d0ad-43f8-aed3-3b312a3e0f85"
      },
      "execution_count": null,
      "outputs": [
        {
          "output_type": "execute_result",
          "data": {
            "text/plain": [
              "<keras.callbacks.History at 0x7fe3aba66510>"
            ]
          },
          "metadata": {},
          "execution_count": 65
        }
      ]
    },
    {
      "cell_type": "markdown",
      "source": [
        "##Make predictions into future\n"
      ],
      "metadata": {
        "id": "ucJYNM-wku79"
      }
    },
    {
      "cell_type": "code",
      "source": [
        "# How many timestesp to predict into the future?\n",
        "INTO_FUTURE = 14"
      ],
      "metadata": {
        "id": "srzskMdOkvh9"
      },
      "execution_count": null,
      "outputs": []
    },
    {
      "cell_type": "code",
      "source": [
        "tf.expand_dims(y_all[-WINDOW_SIZE:], axis=0)\n"
      ],
      "metadata": {
        "id": "tZ8-eNiNky7-",
        "outputId": "a8640d5f-362d-40f1-ec03-52524ba7d8ba",
        "colab": {
          "base_uri": "https://localhost:8080/"
        }
      },
      "execution_count": null,
      "outputs": [
        {
          "output_type": "execute_result",
          "data": {
            "text/plain": [
              "<tf.Tensor: shape=(1, 7), dtype=float64, numpy=\n",
              "array([[56573.5554719 , 52147.82118698, 49764.1320816 , 50032.69313676,\n",
              "        47885.62525472, 45604.61575361, 43144.47129086]])>"
            ]
          },
          "metadata": {},
          "execution_count": 67
        }
      ]
    },
    {
      "cell_type": "code",
      "source": [
        "# 1. Create function to make predictions into the future\n",
        "def make_future_forecasts(values, model, into_future, window_size=WINDOW_SIZE) -> list:\n",
        "  \"\"\"\n",
        "  Make future forecasts into_future steps after values ends.\n",
        "\n",
        "  Returns future forecasts as a list of floats.\n",
        "  \"\"\"\n",
        "  # 2. Create an empty list for future forecasts/prepare data to forecast on\n",
        "  future_forecast = []\n",
        "  last_window = values[-WINDOW_SIZE:]\n",
        "\n",
        "  # 3. Make INTO_FUTURE numer of predictions, altering the data which gets predicted on each\n",
        "  for _ in range(INTO_FUTURE):\n",
        "    # Predict on the last window then append it again, again, again (our model will eventually start to make forecasts on its own forecasts)\n",
        "    future_pred = model.predict(tf.expand_dims(last_window, axis=0))\n",
        "    print(f\"Predicting on:\\n {last_window} -> Prediction: {tf.squeeze(future_pred).numpy()}\\n\")\n",
        "\n",
        "    # Append predictions to future_forecast\n",
        "    future_forecast.append(tf.squeeze(future_pred).numpy())\n",
        "\n",
        "    # Update last window with new pred and get WINDOW_SIZE most recent preds (model was trained on WINDOW_SIZE windows)\n",
        "    last_window = np.append(last_window, future_pred)[-WINDOW_SIZE:]\n",
        "  \n",
        "  return future_forecast"
      ],
      "metadata": {
        "id": "ab7cNskik0bS"
      },
      "execution_count": null,
      "outputs": []
    },
    {
      "cell_type": "markdown",
      "source": [
        "##Plot future forecasts\n"
      ],
      "metadata": {
        "id": "Df8Au3xf8--T"
      }
    },
    {
      "cell_type": "code",
      "source": [
        "future_forecast\n"
      ],
      "metadata": {
        "id": "0_DuATV78_rM"
      },
      "execution_count": null,
      "outputs": []
    },
    {
      "cell_type": "code",
      "source": [
        "def get_future_dates(start_date, into_future, offset=1):\n",
        "  \"\"\"\n",
        "  Returns array of datetime values ranging from start_date to start_date+into_future\n",
        "  \"\"\"\n",
        "  start_date = start_date + np.timedelta64(offset, \"D\") # specify start date, \"D\" stands for day\n",
        "  end_date = start_date + np.timedelta64(into_future, \"D\") # specify end date\n",
        "  return np.arange(start_date, end_date, dtype=\"datetime64[D]\") # return a date range between start and end date"
      ],
      "metadata": {
        "id": "4FaxoynD8_kx"
      },
      "execution_count": null,
      "outputs": []
    },
    {
      "cell_type": "code",
      "source": [
        "# Last timestep of timesteps (currently np.datetime64 format)\n",
        "last_timestep = bitcoin_prices.index[-1]\n",
        "last_timestep"
      ],
      "metadata": {
        "id": "LcUA0Gl49Knn"
      },
      "execution_count": null,
      "outputs": []
    },
    {
      "cell_type": "code",
      "source": [
        "# Get next two week of timesteps\n",
        "next_time_steps = get_future_dates(start_date=last_timestep,\n",
        "                                   into_future=INTO_FUTURE)\n",
        "next_time_steps"
      ],
      "metadata": {
        "id": "YUDVmhPB9MB9"
      },
      "execution_count": null,
      "outputs": []
    },
    {
      "cell_type": "code",
      "source": [
        "bitcoin_prices.index\n"
      ],
      "metadata": {
        "id": "SZoWeLuJ9OQc"
      },
      "execution_count": null,
      "outputs": []
    },
    {
      "cell_type": "code",
      "source": [
        "# Insert last timestep/final price into next time steps and future forecasts so the plot doesn't look janky\n",
        "next_time_steps = np.insert(next_time_steps, 0, last_timestep)\n",
        "future_forecast = np.insert(future_forecast, 0, btc_price[-1])\n",
        "next_time_steps, future_forecast"
      ],
      "metadata": {
        "id": "TJ3Ymvxb9Phh"
      },
      "execution_count": null,
      "outputs": []
    },
    {
      "cell_type": "code",
      "source": [
        "# Plot future prices predictions of Bitcoin\n",
        "plt.figure(figsize=(10, 7))\n",
        "plot_time_series(bitcoin_prices.index, btc_price, start=2500, format=\"-\", label=\"Actual BTC Price\")\n",
        "plot_time_series(next_time_steps, future_forecast, format=\"-\", label=\"Predicted BTC Price\")"
      ],
      "metadata": {
        "id": "MtwtuiIs9Q92"
      },
      "execution_count": null,
      "outputs": []
    },
    {
      "cell_type": "markdown",
      "source": [
        "# Model 10:the turkey problem \n"
      ],
      "metadata": {
        "id": "EAutG1z9_yi6"
      }
    },
    {
      "cell_type": "code",
      "source": [
        "# Let's introduce a turkey prolbme to our BTC data (price of BTC falls 100x in one day)\n",
        "btc_price_turkey = btc_price.copy()\n",
        "btc_price_turkey[-1] = btc_price_turkey[-1] / 100"
      ],
      "metadata": {
        "id": "9v_76_iP_1z_"
      },
      "execution_count": null,
      "outputs": []
    },
    {
      "cell_type": "code",
      "source": [
        "# Manufacture an extra price on the end (to showcase our Turkey problem)\n",
        "btc_price_turkey[-10:]"
      ],
      "metadata": {
        "id": "7lsVpu-SAULo"
      },
      "execution_count": null,
      "outputs": []
    },
    {
      "cell_type": "code",
      "source": [
        "# Get the timesteps for the turkey problem\n",
        "btc_timesteps_turkey = np.array(bitcoin_prices.index)\n",
        "btc_timesteps_turkey[-10:]"
      ],
      "metadata": {
        "id": "11kjSg9bAVjV"
      },
      "execution_count": null,
      "outputs": []
    },
    {
      "cell_type": "code",
      "source": [
        "plt.figure(figsize=(10, 7))\n",
        "plot_time_series(timesteps=btc_timesteps_turkey,\n",
        "                 values=btc_price_turkey,\n",
        "                 format=\"-\",\n",
        "                 label=\"BTC Price + Turkey problem\",\n",
        "                 start=2500\n",
        "                 )"
      ],
      "metadata": {
        "id": "ydi3QpXKAchS"
      },
      "execution_count": null,
      "outputs": []
    },
    {
      "cell_type": "code",
      "source": [
        "model_1.summary()"
      ],
      "metadata": {
        "id": "KBDZCpmAAhx5"
      },
      "execution_count": null,
      "outputs": []
    },
    {
      "cell_type": "code",
      "source": [
        "# Create train and test sets for turkey problem data\n",
        "full_windows, full_labels = make_windows(np.array(btc_price_turkey), window_size=WINDOW_SIZE, horizon=HORIZON)\n",
        "\n",
        "X_train, X_test, y_train, y_test = make_train_test_splits(full_windows, full_labels)\n",
        "len(X_train), len(X_test), len(y_train), len(y_test)"
      ],
      "metadata": {
        "id": "CHlH_YkkBDQh"
      },
      "execution_count": null,
      "outputs": []
    },
    {
      "cell_type": "markdown",
      "source": [
        "#Build a turkey model (model to predict on turkey data)\n"
      ],
      "metadata": {
        "id": "kR6gLTNMBEo1"
      }
    },
    {
      "cell_type": "code",
      "source": [
        "# Clone model 1 architecture for turkey model and fit the turkey model on the turkey data\n",
        "turkey_model = tf.keras.models.clone_model(model_1)\n",
        "turkey_model._name = \"model_10_turkey_model\"\n",
        "turkey_model.compile(loss=\"mae\",\n",
        "                     optimizer=tf.keras.optimizers.Adam())\n",
        "turkey_model.fit(X_train, y_train,\n",
        "                 epochs=100,\n",
        "                 verbose=0,\n",
        "                 batch_size=128,\n",
        "                 validation_data=(X_test, y_test),\n",
        "                 callbacks=[create_model_checkpoint(turkey_model.name)])"
      ],
      "metadata": {
        "id": "TTBKfRkbAlJZ"
      },
      "execution_count": null,
      "outputs": []
    },
    {
      "cell_type": "code",
      "source": [
        "# Evaluate model on test data\n",
        "turkey_model.evaluate(X_test, y_test)"
      ],
      "metadata": {
        "id": "SPjMe0hEAeOA"
      },
      "execution_count": null,
      "outputs": []
    },
    {
      "cell_type": "code",
      "source": [
        "# Load best performing turkey model and evaluate on test data\n",
        "turkey_model = tf.keras.models.load_model(\"model_experiments/model_10_turkey_model\")\n",
        "turkey_model.evaluate(X_test, y_test)"
      ],
      "metadata": {
        "id": "0oy3OrlTApEC"
      },
      "execution_count": null,
      "outputs": []
    },
    {
      "cell_type": "code",
      "source": [
        "# Make predictions with turkey model\n",
        "turkey_preds = make_preds(turkey_model, X_test)\n",
        "turkey_preds[:10]"
      ],
      "metadata": {
        "id": "SkeyqMsOAgN1"
      },
      "execution_count": null,
      "outputs": []
    },
    {
      "cell_type": "code",
      "source": [
        "# Evaluate turkey preds\n",
        "turkey_results = evaluate_preds(y_true=y_test,\n",
        "                                y_pred=turkey_preds)\n",
        "turkey_results"
      ],
      "metadata": {
        "id": "dNfOHaToYHep"
      },
      "execution_count": null,
      "outputs": []
    },
    {
      "cell_type": "code",
      "source": [
        "plt.figure(figsize=(10, 7))\n",
        "offset=0\n",
        "plot_time_series(timesteps=btc_timesteps_turkey[-len(X_test):],\n",
        "                 values=btc_price_turkey[-len(y_test):], \n",
        "                 format=\"-\",\n",
        "                 label=\"Turkey Test Data\", \n",
        "                 start=offset)\n",
        "plot_time_series(timesteps=btc_timesteps_turkey[-len(X_test):],\n",
        "                 values=turkey_preds,\n",
        "                 label=\"Turkey Preds\",\n",
        "                 start=offset);"
      ],
      "metadata": {
        "id": "u8y4X6tlYI0t"
      },
      "execution_count": null,
      "outputs": []
    },
    {
      "cell_type": "markdown",
      "source": [
        "#Compare models\n"
      ],
      "metadata": {
        "id": "fXFNRHBjYKR1"
      }
    },
    {
      "cell_type": "code",
      "source": [
        "# Compare different model results (w = window, h = horizon, e.g. w=7 means a window size of 7)\n",
        "model_results = pd.DataFrame({\"naive_model\": naive_results,\n",
        "                              \"model_1_dense_w7_h1\": model_1_results,\n",
        "                              \"model_2_dense_w30_h1\": model_2_results,\n",
        "                              \"model_3_dense_w30_h7\": model_3_results,\n",
        "                              \"model_4_CONV1D\": model_4_results,\n",
        "                              \"model_5_LSTM\": model_5_results,\n",
        "                              \"model_6_multivariate\": model_6_results,\n",
        "                              \"model_7_NBEATS\": model_7_results,\n",
        "                              \"model_8_ensemble\": ensemble_results,\n",
        "                              \"model_10_turkey\": turkey_results}).T\n",
        "model_results.head(10)"
      ],
      "metadata": {
        "id": "P2I8tFd5YKnp"
      },
      "execution_count": null,
      "outputs": []
    },
    {
      "cell_type": "code",
      "source": [
        "# Sort model results by MAE and plot them \n",
        "model_results[[\"mae\"]].sort_values(by=\"mae\").plot(figsize=(10, 7), kind=\"bar\");"
      ],
      "metadata": {
        "id": "792Ud9FUYM8e"
      },
      "execution_count": null,
      "outputs": []
    },
    {
      "cell_type": "markdown",
      "source": [
        "#Test"
      ],
      "metadata": {
        "id": "9cyK5mH70J8U"
      }
    },
    {
      "cell_type": "code",
      "source": [
        "# Import with pandas\n",
        "import pandas as pd \n",
        "# Let's read in our Bitcoin data and parse the dates\n",
        "df = pd.read_csv(\"/content/BTCUSDT_Binance_futures_data_hour.csv\",\n",
        "                parse_dates=[\"Date\"],\n",
        "                 index_col=[\"Date\"]) # prase the date column and tell pandas column 1 is a datetime \n",
        "\n",
        "df.head()"
      ],
      "metadata": {
        "id": "7ivaADs00Jvl",
        "colab": {
          "base_uri": "https://localhost:8080/",
          "height": 380
        },
        "outputId": "9c185c50-37e9-4358-8a11-471e24404ed7"
      },
      "execution_count": null,
      "outputs": [
        {
          "output_type": "error",
          "ename": "FileNotFoundError",
          "evalue": "ignored",
          "traceback": [
            "\u001b[0;31m---------------------------------------------------------------------------\u001b[0m",
            "\u001b[0;31mFileNotFoundError\u001b[0m                         Traceback (most recent call last)",
            "\u001b[0;32m<ipython-input-66-92c7e50384b4>\u001b[0m in \u001b[0;36m<module>\u001b[0;34m\u001b[0m\n\u001b[1;32m      4\u001b[0m df = pd.read_csv(\"/content/BTCUSDT_Binance_futures_data_hour.csv\",\n\u001b[1;32m      5\u001b[0m                 \u001b[0mparse_dates\u001b[0m\u001b[0;34m=\u001b[0m\u001b[0;34m[\u001b[0m\u001b[0;34m\"Date\"\u001b[0m\u001b[0;34m]\u001b[0m\u001b[0;34m,\u001b[0m\u001b[0;34m\u001b[0m\u001b[0;34m\u001b[0m\u001b[0m\n\u001b[0;32m----> 6\u001b[0;31m                  index_col=[\"Date\"]) # prase the date column and tell pandas column 1 is a datetime \n\u001b[0m\u001b[1;32m      7\u001b[0m \u001b[0;34m\u001b[0m\u001b[0m\n\u001b[1;32m      8\u001b[0m \u001b[0mdf\u001b[0m\u001b[0;34m.\u001b[0m\u001b[0mhead\u001b[0m\u001b[0;34m(\u001b[0m\u001b[0;34m)\u001b[0m\u001b[0;34m\u001b[0m\u001b[0;34m\u001b[0m\u001b[0m\n",
            "\u001b[0;32m/usr/local/lib/python3.7/dist-packages/pandas/util/_decorators.py\u001b[0m in \u001b[0;36mwrapper\u001b[0;34m(*args, **kwargs)\u001b[0m\n\u001b[1;32m    309\u001b[0m                     \u001b[0mstacklevel\u001b[0m\u001b[0;34m=\u001b[0m\u001b[0mstacklevel\u001b[0m\u001b[0;34m,\u001b[0m\u001b[0;34m\u001b[0m\u001b[0;34m\u001b[0m\u001b[0m\n\u001b[1;32m    310\u001b[0m                 )\n\u001b[0;32m--> 311\u001b[0;31m             \u001b[0;32mreturn\u001b[0m \u001b[0mfunc\u001b[0m\u001b[0;34m(\u001b[0m\u001b[0;34m*\u001b[0m\u001b[0margs\u001b[0m\u001b[0;34m,\u001b[0m \u001b[0;34m**\u001b[0m\u001b[0mkwargs\u001b[0m\u001b[0;34m)\u001b[0m\u001b[0;34m\u001b[0m\u001b[0;34m\u001b[0m\u001b[0m\n\u001b[0m\u001b[1;32m    312\u001b[0m \u001b[0;34m\u001b[0m\u001b[0m\n\u001b[1;32m    313\u001b[0m         \u001b[0;32mreturn\u001b[0m \u001b[0mwrapper\u001b[0m\u001b[0;34m\u001b[0m\u001b[0;34m\u001b[0m\u001b[0m\n",
            "\u001b[0;32m/usr/local/lib/python3.7/dist-packages/pandas/io/parsers/readers.py\u001b[0m in \u001b[0;36mread_csv\u001b[0;34m(filepath_or_buffer, sep, delimiter, header, names, index_col, usecols, squeeze, prefix, mangle_dupe_cols, dtype, engine, converters, true_values, false_values, skipinitialspace, skiprows, skipfooter, nrows, na_values, keep_default_na, na_filter, verbose, skip_blank_lines, parse_dates, infer_datetime_format, keep_date_col, date_parser, dayfirst, cache_dates, iterator, chunksize, compression, thousands, decimal, lineterminator, quotechar, quoting, doublequote, escapechar, comment, encoding, encoding_errors, dialect, error_bad_lines, warn_bad_lines, on_bad_lines, delim_whitespace, low_memory, memory_map, float_precision, storage_options)\u001b[0m\n\u001b[1;32m    584\u001b[0m     \u001b[0mkwds\u001b[0m\u001b[0;34m.\u001b[0m\u001b[0mupdate\u001b[0m\u001b[0;34m(\u001b[0m\u001b[0mkwds_defaults\u001b[0m\u001b[0;34m)\u001b[0m\u001b[0;34m\u001b[0m\u001b[0;34m\u001b[0m\u001b[0m\n\u001b[1;32m    585\u001b[0m \u001b[0;34m\u001b[0m\u001b[0m\n\u001b[0;32m--> 586\u001b[0;31m     \u001b[0;32mreturn\u001b[0m \u001b[0m_read\u001b[0m\u001b[0;34m(\u001b[0m\u001b[0mfilepath_or_buffer\u001b[0m\u001b[0;34m,\u001b[0m \u001b[0mkwds\u001b[0m\u001b[0;34m)\u001b[0m\u001b[0;34m\u001b[0m\u001b[0;34m\u001b[0m\u001b[0m\n\u001b[0m\u001b[1;32m    587\u001b[0m \u001b[0;34m\u001b[0m\u001b[0m\n\u001b[1;32m    588\u001b[0m \u001b[0;34m\u001b[0m\u001b[0m\n",
            "\u001b[0;32m/usr/local/lib/python3.7/dist-packages/pandas/io/parsers/readers.py\u001b[0m in \u001b[0;36m_read\u001b[0;34m(filepath_or_buffer, kwds)\u001b[0m\n\u001b[1;32m    480\u001b[0m \u001b[0;34m\u001b[0m\u001b[0m\n\u001b[1;32m    481\u001b[0m     \u001b[0;31m# Create the parser.\u001b[0m\u001b[0;34m\u001b[0m\u001b[0;34m\u001b[0m\u001b[0;34m\u001b[0m\u001b[0m\n\u001b[0;32m--> 482\u001b[0;31m     \u001b[0mparser\u001b[0m \u001b[0;34m=\u001b[0m \u001b[0mTextFileReader\u001b[0m\u001b[0;34m(\u001b[0m\u001b[0mfilepath_or_buffer\u001b[0m\u001b[0;34m,\u001b[0m \u001b[0;34m**\u001b[0m\u001b[0mkwds\u001b[0m\u001b[0;34m)\u001b[0m\u001b[0;34m\u001b[0m\u001b[0;34m\u001b[0m\u001b[0m\n\u001b[0m\u001b[1;32m    483\u001b[0m \u001b[0;34m\u001b[0m\u001b[0m\n\u001b[1;32m    484\u001b[0m     \u001b[0;32mif\u001b[0m \u001b[0mchunksize\u001b[0m \u001b[0;32mor\u001b[0m \u001b[0miterator\u001b[0m\u001b[0;34m:\u001b[0m\u001b[0;34m\u001b[0m\u001b[0;34m\u001b[0m\u001b[0m\n",
            "\u001b[0;32m/usr/local/lib/python3.7/dist-packages/pandas/io/parsers/readers.py\u001b[0m in \u001b[0;36m__init__\u001b[0;34m(self, f, engine, **kwds)\u001b[0m\n\u001b[1;32m    809\u001b[0m             \u001b[0mself\u001b[0m\u001b[0;34m.\u001b[0m\u001b[0moptions\u001b[0m\u001b[0;34m[\u001b[0m\u001b[0;34m\"has_index_names\"\u001b[0m\u001b[0;34m]\u001b[0m \u001b[0;34m=\u001b[0m \u001b[0mkwds\u001b[0m\u001b[0;34m[\u001b[0m\u001b[0;34m\"has_index_names\"\u001b[0m\u001b[0;34m]\u001b[0m\u001b[0;34m\u001b[0m\u001b[0;34m\u001b[0m\u001b[0m\n\u001b[1;32m    810\u001b[0m \u001b[0;34m\u001b[0m\u001b[0m\n\u001b[0;32m--> 811\u001b[0;31m         \u001b[0mself\u001b[0m\u001b[0;34m.\u001b[0m\u001b[0m_engine\u001b[0m \u001b[0;34m=\u001b[0m \u001b[0mself\u001b[0m\u001b[0;34m.\u001b[0m\u001b[0m_make_engine\u001b[0m\u001b[0;34m(\u001b[0m\u001b[0mself\u001b[0m\u001b[0;34m.\u001b[0m\u001b[0mengine\u001b[0m\u001b[0;34m)\u001b[0m\u001b[0;34m\u001b[0m\u001b[0;34m\u001b[0m\u001b[0m\n\u001b[0m\u001b[1;32m    812\u001b[0m \u001b[0;34m\u001b[0m\u001b[0m\n\u001b[1;32m    813\u001b[0m     \u001b[0;32mdef\u001b[0m \u001b[0mclose\u001b[0m\u001b[0;34m(\u001b[0m\u001b[0mself\u001b[0m\u001b[0;34m)\u001b[0m\u001b[0;34m:\u001b[0m\u001b[0;34m\u001b[0m\u001b[0;34m\u001b[0m\u001b[0m\n",
            "\u001b[0;32m/usr/local/lib/python3.7/dist-packages/pandas/io/parsers/readers.py\u001b[0m in \u001b[0;36m_make_engine\u001b[0;34m(self, engine)\u001b[0m\n\u001b[1;32m   1038\u001b[0m             )\n\u001b[1;32m   1039\u001b[0m         \u001b[0;31m# error: Too many arguments for \"ParserBase\"\u001b[0m\u001b[0;34m\u001b[0m\u001b[0;34m\u001b[0m\u001b[0;34m\u001b[0m\u001b[0m\n\u001b[0;32m-> 1040\u001b[0;31m         \u001b[0;32mreturn\u001b[0m \u001b[0mmapping\u001b[0m\u001b[0;34m[\u001b[0m\u001b[0mengine\u001b[0m\u001b[0;34m]\u001b[0m\u001b[0;34m(\u001b[0m\u001b[0mself\u001b[0m\u001b[0;34m.\u001b[0m\u001b[0mf\u001b[0m\u001b[0;34m,\u001b[0m \u001b[0;34m**\u001b[0m\u001b[0mself\u001b[0m\u001b[0;34m.\u001b[0m\u001b[0moptions\u001b[0m\u001b[0;34m)\u001b[0m  \u001b[0;31m# type: ignore[call-arg]\u001b[0m\u001b[0;34m\u001b[0m\u001b[0;34m\u001b[0m\u001b[0m\n\u001b[0m\u001b[1;32m   1041\u001b[0m \u001b[0;34m\u001b[0m\u001b[0m\n\u001b[1;32m   1042\u001b[0m     \u001b[0;32mdef\u001b[0m \u001b[0m_failover_to_python\u001b[0m\u001b[0;34m(\u001b[0m\u001b[0mself\u001b[0m\u001b[0;34m)\u001b[0m\u001b[0;34m:\u001b[0m\u001b[0;34m\u001b[0m\u001b[0;34m\u001b[0m\u001b[0m\n",
            "\u001b[0;32m/usr/local/lib/python3.7/dist-packages/pandas/io/parsers/c_parser_wrapper.py\u001b[0m in \u001b[0;36m__init__\u001b[0;34m(self, src, **kwds)\u001b[0m\n\u001b[1;32m     49\u001b[0m \u001b[0;34m\u001b[0m\u001b[0m\n\u001b[1;32m     50\u001b[0m         \u001b[0;31m# open handles\u001b[0m\u001b[0;34m\u001b[0m\u001b[0;34m\u001b[0m\u001b[0;34m\u001b[0m\u001b[0m\n\u001b[0;32m---> 51\u001b[0;31m         \u001b[0mself\u001b[0m\u001b[0;34m.\u001b[0m\u001b[0m_open_handles\u001b[0m\u001b[0;34m(\u001b[0m\u001b[0msrc\u001b[0m\u001b[0;34m,\u001b[0m \u001b[0mkwds\u001b[0m\u001b[0;34m)\u001b[0m\u001b[0;34m\u001b[0m\u001b[0;34m\u001b[0m\u001b[0m\n\u001b[0m\u001b[1;32m     52\u001b[0m         \u001b[0;32massert\u001b[0m \u001b[0mself\u001b[0m\u001b[0;34m.\u001b[0m\u001b[0mhandles\u001b[0m \u001b[0;32mis\u001b[0m \u001b[0;32mnot\u001b[0m \u001b[0;32mNone\u001b[0m\u001b[0;34m\u001b[0m\u001b[0;34m\u001b[0m\u001b[0m\n\u001b[1;32m     53\u001b[0m \u001b[0;34m\u001b[0m\u001b[0m\n",
            "\u001b[0;32m/usr/local/lib/python3.7/dist-packages/pandas/io/parsers/base_parser.py\u001b[0m in \u001b[0;36m_open_handles\u001b[0;34m(self, src, kwds)\u001b[0m\n\u001b[1;32m    227\u001b[0m             \u001b[0mmemory_map\u001b[0m\u001b[0;34m=\u001b[0m\u001b[0mkwds\u001b[0m\u001b[0;34m.\u001b[0m\u001b[0mget\u001b[0m\u001b[0;34m(\u001b[0m\u001b[0;34m\"memory_map\"\u001b[0m\u001b[0;34m,\u001b[0m \u001b[0;32mFalse\u001b[0m\u001b[0;34m)\u001b[0m\u001b[0;34m,\u001b[0m\u001b[0;34m\u001b[0m\u001b[0;34m\u001b[0m\u001b[0m\n\u001b[1;32m    228\u001b[0m             \u001b[0mstorage_options\u001b[0m\u001b[0;34m=\u001b[0m\u001b[0mkwds\u001b[0m\u001b[0;34m.\u001b[0m\u001b[0mget\u001b[0m\u001b[0;34m(\u001b[0m\u001b[0;34m\"storage_options\"\u001b[0m\u001b[0;34m,\u001b[0m \u001b[0;32mNone\u001b[0m\u001b[0;34m)\u001b[0m\u001b[0;34m,\u001b[0m\u001b[0;34m\u001b[0m\u001b[0;34m\u001b[0m\u001b[0m\n\u001b[0;32m--> 229\u001b[0;31m             \u001b[0merrors\u001b[0m\u001b[0;34m=\u001b[0m\u001b[0mkwds\u001b[0m\u001b[0;34m.\u001b[0m\u001b[0mget\u001b[0m\u001b[0;34m(\u001b[0m\u001b[0;34m\"encoding_errors\"\u001b[0m\u001b[0;34m,\u001b[0m \u001b[0;34m\"strict\"\u001b[0m\u001b[0;34m)\u001b[0m\u001b[0;34m,\u001b[0m\u001b[0;34m\u001b[0m\u001b[0;34m\u001b[0m\u001b[0m\n\u001b[0m\u001b[1;32m    230\u001b[0m         )\n\u001b[1;32m    231\u001b[0m \u001b[0;34m\u001b[0m\u001b[0m\n",
            "\u001b[0;32m/usr/local/lib/python3.7/dist-packages/pandas/io/common.py\u001b[0m in \u001b[0;36mget_handle\u001b[0;34m(path_or_buf, mode, encoding, compression, memory_map, is_text, errors, storage_options)\u001b[0m\n\u001b[1;32m    705\u001b[0m                 \u001b[0mencoding\u001b[0m\u001b[0;34m=\u001b[0m\u001b[0mioargs\u001b[0m\u001b[0;34m.\u001b[0m\u001b[0mencoding\u001b[0m\u001b[0;34m,\u001b[0m\u001b[0;34m\u001b[0m\u001b[0;34m\u001b[0m\u001b[0m\n\u001b[1;32m    706\u001b[0m                 \u001b[0merrors\u001b[0m\u001b[0;34m=\u001b[0m\u001b[0merrors\u001b[0m\u001b[0;34m,\u001b[0m\u001b[0;34m\u001b[0m\u001b[0;34m\u001b[0m\u001b[0m\n\u001b[0;32m--> 707\u001b[0;31m                 \u001b[0mnewline\u001b[0m\u001b[0;34m=\u001b[0m\u001b[0;34m\"\"\u001b[0m\u001b[0;34m,\u001b[0m\u001b[0;34m\u001b[0m\u001b[0;34m\u001b[0m\u001b[0m\n\u001b[0m\u001b[1;32m    708\u001b[0m             )\n\u001b[1;32m    709\u001b[0m         \u001b[0;32melse\u001b[0m\u001b[0;34m:\u001b[0m\u001b[0;34m\u001b[0m\u001b[0;34m\u001b[0m\u001b[0m\n",
            "\u001b[0;31mFileNotFoundError\u001b[0m: [Errno 2] No such file or directory: '/content/BTCUSDT_Binance_futures_data_hour.csv'"
          ]
        }
      ]
    },
    {
      "cell_type": "code",
      "source": [
        "# Only want closing price for each day\n",
        "bitcoin_prices = pd.DataFrame(df[\"close\"]).rename(columns={\"close\": \"Price\"})\n",
        "bitcoin_prices.head()"
      ],
      "metadata": {
        "id": "_PaJYk7-6hXh"
      },
      "execution_count": null,
      "outputs": []
    },
    {
      "cell_type": "code",
      "source": [
        "# Make a copy of the Bitcoin historical data with block reward feature\n",
        "bitcoin_prices_windowed = bitcoin_prices.copy()\n",
        "\n",
        "# Add windowed columns\n",
        "for i in range(WINDOW_SIZE): # shift values for each step in WINDOW_SIZE\n",
        "  bitcoin_prices_windowed[f\"Price+{i+1}\"] = bitcoin_prices_windowed[\"Price\"].shift(periods=i+1)\n",
        "bitcoin_prices_windowed.head(10)"
      ],
      "metadata": {
        "id": "93DJgr9EgVUw"
      },
      "execution_count": null,
      "outputs": []
    },
    {
      "cell_type": "code",
      "source": [
        "HORIZON = 1\n",
        "WINDOW_SIZE = 7"
      ],
      "metadata": {
        "id": "vJX-0guH5xDb"
      },
      "execution_count": null,
      "outputs": []
    },
    {
      "cell_type": "code",
      "source": [
        "X_all"
      ],
      "metadata": {
        "id": "xyDjq2Kf6cO5"
      },
      "execution_count": null,
      "outputs": []
    },
    {
      "cell_type": "code",
      "source": [
        "# Train model on entire data to make predictions for the next day\n",
        "X_all = bitcoin_prices_windowed.dropna().drop([\"Price\"], axis=1).to_numpy()\n",
        "# Get labels\n",
        "y_all = bitcoin_prices_windowed.dropna()[\"Price\"].to_numpy()\n",
        "\n",
        "len(X_all), len(y_all)"
      ],
      "metadata": {
        "id": "yLuIRN7F7AxQ"
      },
      "execution_count": null,
      "outputs": []
    },
    {
      "cell_type": "code",
      "source": [
        "import tensorflow as tf\n",
        "from tensorflow.keras import layers"
      ],
      "metadata": {
        "id": "_gXthpZCM5qR"
      },
      "execution_count": null,
      "outputs": []
    },
    {
      "cell_type": "code",
      "source": [
        "# Turn data into efficient running tensors\n",
        "\n",
        "features_dataset_all = tf.data.Dataset.from_tensor_slices(X_all)\n",
        "labels_dataset_all = tf.data.Dataset.from_tensor_slices(y_all)\n",
        "\n",
        "# Combine features and labels\n",
        "dataset_all = tf.data.Dataset.zip((features_dataset_all, labels_dataset_all))\n",
        "\n",
        "# Batch and prefetch for optimial performance\n",
        "BATCH_SIZE = 1024\n",
        "dataset_all = dataset_all.batch(BATCH_SIZE).prefetch(tf.data.AUTOTUNE)\n",
        "\n",
        "dataset_all"
      ],
      "metadata": {
        "id": "pn--aKQx7AsY"
      },
      "execution_count": null,
      "outputs": []
    },
    {
      "cell_type": "code",
      "source": [
        "tf.random.set_seed(42)\n",
        "\n",
        "# Create model (nice and simple, just to test)\n",
        "model_9 = tf.keras.Sequential([\n",
        "  layers.Dense(128, activation=\"relu\"),\n",
        "    layers.Dense(128, activation=\"relu\"),\n",
        "  layers.Dense(HORIZON)\n",
        "], name=\"model_9_future_model\")\n",
        "\n",
        "# Compile\n",
        "model_9.compile(loss=tf.keras.losses.mae,\n",
        "                optimizer=tf.keras.optimizers.Adam())\n",
        "\n",
        "# Fit model on all of the data to make future forecasts\n",
        "model_9.fit(dataset_all,\n",
        "            epochs=100,\n",
        "            )"
      ],
      "metadata": {
        "id": "n08jvcWk7eVE"
      },
      "execution_count": null,
      "outputs": []
    },
    {
      "cell_type": "code",
      "source": [
        "# How many timestesp to predict into the future?\n",
        "INTO_FUTURE = 1"
      ],
      "metadata": {
        "id": "MR3QKCpv7haT"
      },
      "execution_count": null,
      "outputs": []
    },
    {
      "cell_type": "code",
      "source": [
        "last_window = y_all[:WINDOW_SIZE]\n",
        "last_window"
      ],
      "metadata": {
        "id": "eNSijI8aQ5yZ"
      },
      "execution_count": null,
      "outputs": []
    },
    {
      "cell_type": "code",
      "source": [
        "last_window.shape"
      ],
      "metadata": {
        "id": "yUzCbJ5gdH5x"
      },
      "execution_count": null,
      "outputs": []
    },
    {
      "cell_type": "code",
      "source": [
        "real=np.array([23781.,23834.,23941.,2398.,23954.,23851.,23867.])"
      ],
      "metadata": {
        "id": "C8m5SZndcz14"
      },
      "execution_count": null,
      "outputs": []
    },
    {
      "cell_type": "code",
      "source": [
        "future_pred = model_9.predict(tf.expand_dims(real, axis=0))\n",
        "future_pred"
      ],
      "metadata": {
        "id": "klBHNVKJeo6X"
      },
      "execution_count": null,
      "outputs": []
    },
    {
      "cell_type": "code",
      "source": [
        "future_pred = model_9.predict(tf.expand_dims(last_window, axis=0))\n",
        "future_pred"
      ],
      "metadata": {
        "id": "62H-CHvv7jMa"
      },
      "execution_count": null,
      "outputs": []
    },
    {
      "cell_type": "code",
      "source": [
        "model_9.save('my_model.h5')"
      ],
      "metadata": {
        "id": "32caDrPIVr0S"
      },
      "execution_count": null,
      "outputs": []
    },
    {
      "cell_type": "code",
      "source": [
        "model_json = model_9.to_json()\n",
        "with open(\"model_arch1.json\", \"w\") as json_file:\n",
        "    json_file.write(model_json)\n",
        "model_9.save_weights(\"model_weights.h5\")"
      ],
      "metadata": {
        "id": "96cHXU_zV9VX"
      },
      "execution_count": null,
      "outputs": []
    },
    {
      "cell_type": "code",
      "source": [
        "import numpy as np\n",
        "# 1. Create function to make predictions into the future\n",
        "def make_future_forecasts(values, model, into_future, window_size=WINDOW_SIZE) -> list:\n",
        "  \"\"\"\n",
        "  Make future forecasts into_future steps after values ends.\n",
        "\n",
        "  Returns future forecasts as a list of floats.\n",
        "  \"\"\"\n",
        "  # 2. Create an empty list for future forecasts/prepare data to forecast on\n",
        "  future_forecast = []\n",
        "  last_window = values[:WINDOW_SIZE]\n",
        "\n",
        "  # 3. Make INTO_FUTURE numer of predictions, altering the data which gets predicted on each\n",
        "  for _ in range(INTO_FUTURE):\n",
        "    # Predict on the last window then append it again, again, again (our model will eventually start to make forecasts on its own forecasts)\n",
        "    future_pred = model.predict(tf.expand_dims(last_window, axis=0))\n",
        "    print(f\"Predicting on:\\n {last_window} -> Prediction: {tf.squeeze(future_pred).numpy()}\\n\")\n",
        "\n",
        "    # Append predictions to future_forecast\n",
        "    future_forecast.append(tf.squeeze(future_pred).numpy())\n",
        "\n",
        "    # Update last window with new pred and get WINDOW_SIZE most recent preds (model was trained on WINDOW_SIZE windows)\n",
        "    last_window = np.append(last_window, future_pred)[-WINDOW_SIZE:]\n",
        "  \n",
        "  return future_forecast"
      ],
      "metadata": {
        "id": "j2ViXur47qA9"
      },
      "execution_count": null,
      "outputs": []
    },
    {
      "cell_type": "code",
      "source": [
        "# Make forecasts into the future\n",
        "future_forecast = make_future_forecasts(values=y_all,\n",
        "                                        model=model_9,\n",
        "                                        into_future=INTO_FUTURE,\n",
        "                                        window_size=WINDOW_SIZE)"
      ],
      "metadata": {
        "id": "F9tLcTwH7sUC"
      },
      "execution_count": null,
      "outputs": []
    },
    {
      "cell_type": "code",
      "source": [
        "def get_future_dates(start_date, into_future, offset=1):\n",
        "  \"\"\"\n",
        "  Returns array of datetime values ranging from start_date to start_date+into_future\n",
        "  \"\"\"\n",
        "  start_date = start_date + np.timedelta64(offset, \"h\") # specify start date, \"D\" stands for day\n",
        "  end_date = start_date + np.timedelta64(into_future, \"h\") # specify end date\n",
        "  return np.arange(start_date, end_date, dtype=\"datetime64[h]\") # return a date range between start and end date"
      ],
      "metadata": {
        "id": "nZkKdlcC7veV"
      },
      "execution_count": null,
      "outputs": []
    },
    {
      "cell_type": "code",
      "source": [
        "# Last timestep of timesteps (currently np.datetime64 format)\n",
        "last_timestep = bitcoin_prices.index[0]\n",
        "last_timestep"
      ],
      "metadata": {
        "id": "b5w_RrqO7xT1"
      },
      "execution_count": null,
      "outputs": []
    },
    {
      "cell_type": "code",
      "source": [
        "# Get next two week of timesteps\n",
        "next_time_steps = get_future_dates(start_date=last_timestep,\n",
        "                                   into_future=INTO_FUTURE)\n",
        "next_time_steps"
      ],
      "metadata": {
        "id": "tsD8OSeP708Z"
      },
      "execution_count": null,
      "outputs": []
    },
    {
      "cell_type": "code",
      "source": [
        "# Insert last timestep/final price into next time steps and future forecasts so the plot doesn't look janky\n",
        "next_time_steps = np.insert(next_time_steps, 0, last_timestep)\n",
        "future_forecast = np.insert(future_forecast, 0, btc_price[-1])\n",
        "next_time_steps, future_forecast"
      ],
      "metadata": {
        "id": "VBVSKMoD73wj"
      },
      "execution_count": null,
      "outputs": []
    },
    {
      "cell_type": "code",
      "source": [
        "next_time_steps"
      ],
      "metadata": {
        "id": "P-ZHmaMoO7Gu"
      },
      "execution_count": null,
      "outputs": []
    },
    {
      "cell_type": "code",
      "source": [
        "future_forecast"
      ],
      "metadata": {
        "id": "NTsBjX59O9fK"
      },
      "execution_count": null,
      "outputs": []
    },
    {
      "cell_type": "code",
      "source": [
        "bitcoin_prices.index.shape,y_all.shape"
      ],
      "metadata": {
        "id": "3NwWVPs5Pvoj"
      },
      "execution_count": null,
      "outputs": []
    },
    {
      "cell_type": "code",
      "source": [
        "# Plot future prices predictions of Bitcoin\n",
        "plt.figure(figsize=(10, 7))\n",
        "plot_time_series(X_all, y_all, start=10000, format=\"-\", label=\"Actual BTC Price\")\n",
        "plot_time_series(next_time_steps, future_forecast, format=\"-\", label=\"Predicted BTC Price\")\n"
      ],
      "metadata": {
        "id": "-JBR5Wfk75jD"
      },
      "execution_count": null,
      "outputs": []
    }
  ]
}