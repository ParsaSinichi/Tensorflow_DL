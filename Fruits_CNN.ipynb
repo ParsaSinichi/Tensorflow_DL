{
  "nbformat": 4,
  "nbformat_minor": 0,
  "metadata": {
    "colab": {
      "name": "Fruits_CNN.ipynb",
      "provenance": [],
      "collapsed_sections": [],
      "authorship_tag": "ABX9TyM4ekZvRgHI0G8ACLWva+7s",
      "include_colab_link": true
    },
    "kernelspec": {
      "name": "python3",
      "display_name": "Python 3"
    },
    "language_info": {
      "name": "python"
    },
    "accelerator": "GPU",
    "gpuClass": "standard"
  },
  "cells": [
    {
      "cell_type": "markdown",
      "metadata": {
        "id": "view-in-github",
        "colab_type": "text"
      },
      "source": [
        "<a href=\"https://colab.research.google.com/github/zlximon/Tensorflow_DL/blob/master/Fruits_CNN.ipynb\" target=\"_parent\"><img src=\"https://colab.research.google.com/assets/colab-badge.svg\" alt=\"Open In Colab\"/></a>"
      ]
    },
    {
      "cell_type": "code",
      "source": [
        "# download the helper functions\n",
        "!wget https://raw.githubusercontent.com/mrdbourke/tensorflow-deep-learning/main/extras/helper_functions.py\n",
        "#import our helper functions \n",
        "from helper_functions import create_tensorboard_callback, plot_loss_curves, unzip_data, walk_through_dir\n"
      ],
      "metadata": {
        "colab": {
          "base_uri": "https://localhost:8080/"
        },
        "id": "AXCZ-zGmNYe0",
        "outputId": "869540d0-0926-4924-ff54-f6d74099d56e"
      },
      "execution_count": 1,
      "outputs": [
        {
          "output_type": "stream",
          "name": "stdout",
          "text": [
            "--2022-07-11 08:34:49--  https://raw.githubusercontent.com/mrdbourke/tensorflow-deep-learning/main/extras/helper_functions.py\n",
            "Resolving raw.githubusercontent.com (raw.githubusercontent.com)... 185.199.108.133, 185.199.109.133, 185.199.110.133, ...\n",
            "Connecting to raw.githubusercontent.com (raw.githubusercontent.com)|185.199.108.133|:443... connected.\n",
            "HTTP request sent, awaiting response... 200 OK\n",
            "Length: 10246 (10K) [text/plain]\n",
            "Saving to: ‘helper_functions.py’\n",
            "\n",
            "\rhelper_functions.py   0%[                    ]       0  --.-KB/s               \rhelper_functions.py 100%[===================>]  10.01K  --.-KB/s    in 0s      \n",
            "\n",
            "2022-07-11 08:34:49 (57.2 MB/s) - ‘helper_functions.py’ saved [10246/10246]\n",
            "\n"
          ]
        }
      ]
    },
    {
      "cell_type": "markdown",
      "source": [
        "#download Data from kaggle and unzip it "
      ],
      "metadata": {
        "id": "kcjC5oZj-bTA"
      }
    },
    {
      "cell_type": "code",
      "source": [
        "!pip install -q kaggle"
      ],
      "metadata": {
        "id": "2L9mKzYw9EQb"
      },
      "execution_count": 2,
      "outputs": []
    },
    {
      "cell_type": "code",
      "source": [
        "!wget https://raw.githubusercontent.com/zlximon/Tensorflow_DL/master/kaggle.json"
      ],
      "metadata": {
        "colab": {
          "base_uri": "https://localhost:8080/"
        },
        "id": "CxQ2QcWdOrq_",
        "outputId": "163587d3-4bd5-475a-c75e-9d27bd54c030"
      },
      "execution_count": 3,
      "outputs": [
        {
          "output_type": "stream",
          "name": "stdout",
          "text": [
            "--2022-07-11 08:34:59--  https://raw.githubusercontent.com/zlximon/Tensorflow_DL/master/kaggle.json\n",
            "Resolving raw.githubusercontent.com (raw.githubusercontent.com)... 185.199.111.133, 185.199.108.133, 185.199.109.133, ...\n",
            "Connecting to raw.githubusercontent.com (raw.githubusercontent.com)|185.199.111.133|:443... connected.\n",
            "HTTP request sent, awaiting response... 200 OK\n",
            "Length: 63 [text/plain]\n",
            "Saving to: ‘kaggle.json’\n",
            "\n",
            "\rkaggle.json           0%[                    ]       0  --.-KB/s               \rkaggle.json         100%[===================>]      63  --.-KB/s    in 0s      \n",
            "\n",
            "2022-07-11 08:34:59 (2.99 MB/s) - ‘kaggle.json’ saved [63/63]\n",
            "\n"
          ]
        }
      ]
    },
    {
      "cell_type": "code",
      "source": [
        "from google.colab import  files\n",
        "#files.upload()"
      ],
      "metadata": {
        "id": "lxf3RiN49Pkp"
      },
      "execution_count": 4,
      "outputs": []
    },
    {
      "cell_type": "code",
      "source": [
        "! mkdir ~/.kaggle"
      ],
      "metadata": {
        "id": "-Rmho16V9i9c"
      },
      "execution_count": 5,
      "outputs": []
    },
    {
      "cell_type": "code",
      "source": [
        "! cp kaggle.json ~/.kaggle/"
      ],
      "metadata": {
        "id": "hmuQl6qI9o8P"
      },
      "execution_count": 6,
      "outputs": []
    },
    {
      "cell_type": "code",
      "source": [
        "! chmod 600 ~/.kaggle/kaggle.json\n"
      ],
      "metadata": {
        "id": "43SkviEC9tiG"
      },
      "execution_count": 7,
      "outputs": []
    },
    {
      "cell_type": "code",
      "source": [
        "!kaggle datasets download -d moltean/fruits"
      ],
      "metadata": {
        "colab": {
          "base_uri": "https://localhost:8080/"
        },
        "id": "TMt9-uUn-UIM",
        "outputId": "094c2ab9-7e4e-4e58-d67a-523bf4d53e17"
      },
      "execution_count": 8,
      "outputs": [
        {
          "output_type": "stream",
          "name": "stdout",
          "text": [
            "Downloading fruits.zip to /content\n",
            " 99% 1.28G/1.28G [00:09<00:00, 173MB/s]\n",
            "100% 1.28G/1.28G [00:09<00:00, 148MB/s]\n"
          ]
        }
      ]
    },
    {
      "cell_type": "code",
      "source": [
        "#unzip data\n",
        "unzip_data(\"fruits.zip\")"
      ],
      "metadata": {
        "id": "EqQ7qTg4NcRR"
      },
      "execution_count": 9,
      "outputs": []
    },
    {
      "cell_type": "code",
      "source": [
        "walk_through_dir(\"ffruits-fruits-360_dataset/fruits-360\")"
      ],
      "metadata": {
        "id": "4jB99rGVO1HC"
      },
      "execution_count": 10,
      "outputs": []
    },
    {
      "cell_type": "code",
      "source": [
        "#set test and train directories\n",
        "train_dir=(\"/content/fruits-360_dataset/fruits-360/Training\")\n",
        "test_dir=(\"/content/fruits-360_dataset/fruits-360/Test\")"
      ],
      "metadata": {
        "id": "E-uCtSpWPJWF"
      },
      "execution_count": 11,
      "outputs": []
    },
    {
      "cell_type": "code",
      "source": [
        "from sklearn.datasets import load_files\n",
        "import numpy as np\n",
        "def load_dataset(path):\n",
        "    data = load_files(path)\n",
        "    files = np.array(data['filenames'])\n",
        "    targets = np.array(data['target'])\n",
        "    target_labels = np.array(data['target_names'])\n",
        "    return files,targets,target_labels"
      ],
      "metadata": {
        "id": "7jc0PtdwF_nk"
      },
      "execution_count": 12,
      "outputs": []
    },
    {
      "cell_type": "code",
      "source": [
        "x_train, y_train,target_labels = load_dataset(train_dir)\n",
        "x_test, y_test,_ = load_dataset(test_dir)"
      ],
      "metadata": {
        "id": "rEZJi7n9GDRN"
      },
      "execution_count": 13,
      "outputs": []
    },
    {
      "cell_type": "code",
      "source": [
        ""
      ],
      "metadata": {
        "id": "1hyIklTwGL6P"
      },
      "execution_count": null,
      "outputs": []
    },
    {
      "cell_type": "code",
      "source": [
        "import tensorflow as tf\n",
        "IMAGE_SIZE=(224,224)\n",
        "\n",
        "train_data=tf.keras.preprocessing.image_dataset_from_directory(directory=train_dir,image_size=IMAGE_SIZE, label_mode=\"categorical\",batch_size=32)\n",
        "test_data=tf.keras.preprocessing.image_dataset_from_directory(directory=test_dir,image_size=IMAGE_SIZE,label_mode=\"categorical\",batch_size=32)"
      ],
      "metadata": {
        "colab": {
          "base_uri": "https://localhost:8080/"
        },
        "id": "rMVftm-uPcTR",
        "outputId": "17734708-1fa6-4b68-b3a3-5808fbad8e60"
      },
      "execution_count": 14,
      "outputs": [
        {
          "output_type": "stream",
          "name": "stdout",
          "text": [
            "Found 67692 files belonging to 131 classes.\n",
            "Found 22688 files belonging to 131 classes.\n"
          ]
        }
      ]
    },
    {
      "cell_type": "code",
      "source": [
        "#our dataset class names \n",
        "class_names=train_data.class_names\n",
        "total_classes=len(train_data.class_names)\n",
        "total_classes,train_data.class_names"
      ],
      "metadata": {
        "colab": {
          "base_uri": "https://localhost:8080/"
        },
        "id": "WsdKtUpZP3g6",
        "outputId": "6b1d1d06-eb83-4473-b252-f96e97f19bda"
      },
      "execution_count": 15,
      "outputs": [
        {
          "output_type": "execute_result",
          "data": {
            "text/plain": [
              "(131,\n",
              " ['Apple Braeburn',\n",
              "  'Apple Crimson Snow',\n",
              "  'Apple Golden 1',\n",
              "  'Apple Golden 2',\n",
              "  'Apple Golden 3',\n",
              "  'Apple Granny Smith',\n",
              "  'Apple Pink Lady',\n",
              "  'Apple Red 1',\n",
              "  'Apple Red 2',\n",
              "  'Apple Red 3',\n",
              "  'Apple Red Delicious',\n",
              "  'Apple Red Yellow 1',\n",
              "  'Apple Red Yellow 2',\n",
              "  'Apricot',\n",
              "  'Avocado',\n",
              "  'Avocado ripe',\n",
              "  'Banana',\n",
              "  'Banana Lady Finger',\n",
              "  'Banana Red',\n",
              "  'Beetroot',\n",
              "  'Blueberry',\n",
              "  'Cactus fruit',\n",
              "  'Cantaloupe 1',\n",
              "  'Cantaloupe 2',\n",
              "  'Carambula',\n",
              "  'Cauliflower',\n",
              "  'Cherry 1',\n",
              "  'Cherry 2',\n",
              "  'Cherry Rainier',\n",
              "  'Cherry Wax Black',\n",
              "  'Cherry Wax Red',\n",
              "  'Cherry Wax Yellow',\n",
              "  'Chestnut',\n",
              "  'Clementine',\n",
              "  'Cocos',\n",
              "  'Corn',\n",
              "  'Corn Husk',\n",
              "  'Cucumber Ripe',\n",
              "  'Cucumber Ripe 2',\n",
              "  'Dates',\n",
              "  'Eggplant',\n",
              "  'Fig',\n",
              "  'Ginger Root',\n",
              "  'Granadilla',\n",
              "  'Grape Blue',\n",
              "  'Grape Pink',\n",
              "  'Grape White',\n",
              "  'Grape White 2',\n",
              "  'Grape White 3',\n",
              "  'Grape White 4',\n",
              "  'Grapefruit Pink',\n",
              "  'Grapefruit White',\n",
              "  'Guava',\n",
              "  'Hazelnut',\n",
              "  'Huckleberry',\n",
              "  'Kaki',\n",
              "  'Kiwi',\n",
              "  'Kohlrabi',\n",
              "  'Kumquats',\n",
              "  'Lemon',\n",
              "  'Lemon Meyer',\n",
              "  'Limes',\n",
              "  'Lychee',\n",
              "  'Mandarine',\n",
              "  'Mango',\n",
              "  'Mango Red',\n",
              "  'Mangostan',\n",
              "  'Maracuja',\n",
              "  'Melon Piel de Sapo',\n",
              "  'Mulberry',\n",
              "  'Nectarine',\n",
              "  'Nectarine Flat',\n",
              "  'Nut Forest',\n",
              "  'Nut Pecan',\n",
              "  'Onion Red',\n",
              "  'Onion Red Peeled',\n",
              "  'Onion White',\n",
              "  'Orange',\n",
              "  'Papaya',\n",
              "  'Passion Fruit',\n",
              "  'Peach',\n",
              "  'Peach 2',\n",
              "  'Peach Flat',\n",
              "  'Pear',\n",
              "  'Pear 2',\n",
              "  'Pear Abate',\n",
              "  'Pear Forelle',\n",
              "  'Pear Kaiser',\n",
              "  'Pear Monster',\n",
              "  'Pear Red',\n",
              "  'Pear Stone',\n",
              "  'Pear Williams',\n",
              "  'Pepino',\n",
              "  'Pepper Green',\n",
              "  'Pepper Orange',\n",
              "  'Pepper Red',\n",
              "  'Pepper Yellow',\n",
              "  'Physalis',\n",
              "  'Physalis with Husk',\n",
              "  'Pineapple',\n",
              "  'Pineapple Mini',\n",
              "  'Pitahaya Red',\n",
              "  'Plum',\n",
              "  'Plum 2',\n",
              "  'Plum 3',\n",
              "  'Pomegranate',\n",
              "  'Pomelo Sweetie',\n",
              "  'Potato Red',\n",
              "  'Potato Red Washed',\n",
              "  'Potato Sweet',\n",
              "  'Potato White',\n",
              "  'Quince',\n",
              "  'Rambutan',\n",
              "  'Raspberry',\n",
              "  'Redcurrant',\n",
              "  'Salak',\n",
              "  'Strawberry',\n",
              "  'Strawberry Wedge',\n",
              "  'Tamarillo',\n",
              "  'Tangelo',\n",
              "  'Tomato 1',\n",
              "  'Tomato 2',\n",
              "  'Tomato 3',\n",
              "  'Tomato 4',\n",
              "  'Tomato Cherry Red',\n",
              "  'Tomato Heart',\n",
              "  'Tomato Maroon',\n",
              "  'Tomato Yellow',\n",
              "  'Tomato not Ripened',\n",
              "  'Walnut',\n",
              "  'Watermelon'])"
            ]
          },
          "metadata": {},
          "execution_count": 15
        }
      ]
    },
    {
      "cell_type": "code",
      "source": [
        "#create model with Functional API\n",
        "from tensorflow.keras import layers\n",
        "inputs=layers.Input(shape=(224,224,3),name=\"model1\")\n",
        "x=layers.Conv2D(10,3,activation=\"relu\" )(inputs)\n",
        "x=layers.MaxPool2D()(x)\n",
        "x=layers.Conv2D(10,3,activation=\"relu\")(x)\n",
        "x=layers.MaxPool2D()(x)\n",
        "x=layers.Conv2D(10,3,activation=\"relu\")(x)\n",
        "x = tf.keras.layers.GlobalAveragePooling2D(name=\"global_average_pooling_layer\")(x)\n",
        "outputs=layers.Dense(total_classes,activation=\"softmax\")(x)\n",
        "model1=tf.keras.Model(inputs,outputs)"
      ],
      "metadata": {
        "id": "dFGu4DzxQFpF"
      },
      "execution_count": null,
      "outputs": []
    },
    {
      "cell_type": "code",
      "source": [
        "#check our model summar()\n",
        "model1.summary()"
      ],
      "metadata": {
        "colab": {
          "base_uri": "https://localhost:8080/"
        },
        "id": "LHl8merTSoz_",
        "outputId": "b974b05b-528f-4f10-bd06-690f0795eaa1"
      },
      "execution_count": null,
      "outputs": [
        {
          "output_type": "stream",
          "name": "stdout",
          "text": [
            "Model: \"model\"\n",
            "_________________________________________________________________\n",
            " Layer (type)                Output Shape              Param #   \n",
            "=================================================================\n",
            " model1 (InputLayer)         [(None, 224, 224, 3)]     0         \n",
            "                                                                 \n",
            " conv2d (Conv2D)             (None, 222, 222, 10)      280       \n",
            "                                                                 \n",
            " max_pooling2d (MaxPooling2D  (None, 111, 111, 10)     0         \n",
            " )                                                               \n",
            "                                                                 \n",
            " conv2d_1 (Conv2D)           (None, 109, 109, 10)      910       \n",
            "                                                                 \n",
            " max_pooling2d_1 (MaxPooling  (None, 54, 54, 10)       0         \n",
            " 2D)                                                             \n",
            "                                                                 \n",
            " conv2d_2 (Conv2D)           (None, 52, 52, 10)        910       \n",
            "                                                                 \n",
            " global_average_pooling_laye  (None, 10)               0         \n",
            " r (GlobalAveragePooling2D)                                      \n",
            "                                                                 \n",
            " dense (Dense)               (None, 131)               1441      \n",
            "                                                                 \n",
            "=================================================================\n",
            "Total params: 3,541\n",
            "Trainable params: 3,541\n",
            "Non-trainable params: 0\n",
            "_________________________________________________________________\n"
          ]
        }
      ]
    },
    {
      "cell_type": "code",
      "source": [
        "model1.compile(loss=tf.keras.losses.binary_crossentropy,optimizer=tf.keras.optimizers.Adam(),metrics=[\"accuracy\"])"
      ],
      "metadata": {
        "id": "yFl90GIaRdmI"
      },
      "execution_count": null,
      "outputs": []
    },
    {
      "cell_type": "code",
      "source": [
        "#fit our model\n",
        "model1_history=model1.fit(train_data,epochs=5,steps_per_epoch=len(train_data),validation_data=test_data,validation_steps=(0.25*len(test_data)))"
      ],
      "metadata": {
        "colab": {
          "base_uri": "https://localhost:8080/"
        },
        "id": "inmgubnbS30a",
        "outputId": "7f236820-1a69-444b-8ca7-b59ecb17269f"
      },
      "execution_count": null,
      "outputs": [
        {
          "output_type": "stream",
          "name": "stdout",
          "text": [
            "Epoch 1/5\n",
            "2116/2116 [==============================] - 98s 40ms/step - loss: 0.0703 - accuracy: 0.0677 - val_loss: 0.0336 - val_accuracy: 0.1562\n",
            "Epoch 2/5\n",
            "2116/2116 [==============================] - 84s 40ms/step - loss: 0.0278 - accuracy: 0.3600 - val_loss: 0.0234 - val_accuracy: 0.5492\n",
            "Epoch 3/5\n",
            "2116/2116 [==============================] - 82s 39ms/step - loss: 0.0196 - accuracy: 0.6520 - val_loss: 0.0169 - val_accuracy: 0.7101\n",
            "Epoch 4/5\n",
            "2116/2116 [==============================] - 83s 39ms/step - loss: 0.0134 - accuracy: 0.8187 - val_loss: 0.0121 - val_accuracy: 0.8636\n",
            "Epoch 5/5\n",
            "2116/2116 [==============================] - 83s 39ms/step - loss: 0.0101 - accuracy: 0.8894 - val_loss: 0.0117 - val_accuracy: 0.8664\n"
          ]
        }
      ]
    },
    {
      "cell_type": "code",
      "source": [
        "model1.evaluate(test_data)"
      ],
      "metadata": {
        "colab": {
          "base_uri": "https://localhost:8080/"
        },
        "id": "43Q5YQLlWui0",
        "outputId": "904e8d2d-03e1-4709-9571-e115dcf59800"
      },
      "execution_count": null,
      "outputs": [
        {
          "output_type": "stream",
          "name": "stdout",
          "text": [
            "709/709 [==============================] - 22s 31ms/step - loss: 0.0116 - accuracy: 0.8703\n"
          ]
        },
        {
          "output_type": "execute_result",
          "data": {
            "text/plain": [
              "[0.01158109400421381, 0.8703279495239258]"
            ]
          },
          "metadata": {},
          "execution_count": 21
        }
      ]
    },
    {
      "cell_type": "code",
      "source": [
        "plot_loss_curves(model1_history)"
      ],
      "metadata": {
        "colab": {
          "base_uri": "https://localhost:8080/",
          "height": 573
        },
        "id": "3VLIKpV3ajNl",
        "outputId": "ccbf7d83-4bb0-411d-f176-d828028d7722"
      },
      "execution_count": null,
      "outputs": [
        {
          "output_type": "display_data",
          "data": {
            "text/plain": [
              "<Figure size 432x288 with 1 Axes>"
            ],
            "image/png": "[encoded data removed]"
          },
          "metadata": {
            "needs_background": "light"
          }
        },
        {
          "output_type": "display_data",
          "data": {
            "text/plain": [
              "<Figure size 432x288 with 1 Axes>"
            ],
            "image/png": "[encoded data removed]"
          },
          "metadata": {
            "needs_background": "light"
          }
        }
      ]
    },
    {
      "cell_type": "code",
      "source": [
        "def load_and_prep_image(filename, img_shape=224, scale=True):\n",
        " \n",
        "  # Read in the image\n",
        "  img = tf.io.read_file(filename)\n",
        "\n",
        "  # Decode image into tensor\n",
        "  img = tf.io.decode_image(img, channels=3)\n",
        "\n",
        "  # Resize the image\n",
        "  img = tf.image.resize(img, [img_shape, img_shape])\n",
        "\n",
        "  # Scale? Yes/no\n",
        "  if scale:\n",
        "    # rescale the image (get all values between 0 and 1)\n",
        "    return img/255.\n",
        "  else:\n",
        "    return img # don't need to rescale images for EfficientNet models in TensorFlow"
      ],
      "metadata": {
        "id": "0LJvXEzzcKkX"
      },
      "execution_count": 25,
      "outputs": []
    },
    {
      "cell_type": "code",
      "source": [
        "import matplotlib.pyplot as plt\n",
        "\n",
        "IMG_NAME=\"/content/ava2.jpg\""
      ],
      "metadata": {
        "id": "3giv0Cgoe_sM"
      },
      "execution_count": 35,
      "outputs": []
    },
    {
      "cell_type": "code",
      "source": [
        "IMG_NAME = load_and_prep_image(IMG_NAME, scale=False) # don't need to scale for our EfficientNetB0 model\n",
        "pred_prob = model1.predict(tf.expand_dims(IMG_NAME, axis=0)) # make prediction on image with shape [1, 224, 224, 3] (same shape as model was trained on)\n",
        "pred_class = class_names[pred_prob.argmax()] # get the index with the highet prediction probability\n",
        "# Plot the appropriate information\n",
        "plt.figure()\n",
        "plt.imshow(IMG_NAME/225.)\n",
        "plt.title(f\"pred: {pred_class}, prob: {pred_prob.max():.2f}\")\n",
        "plt.axis(False)"
      ],
      "metadata": {
        "colab": {
          "base_uri": "https://localhost:8080/",
          "height": 235
        },
        "id": "nAPBoS1ee-sd",
        "outputId": "7911fac7-7359-4c6f-db9a-0ec338179ac4"
      },
      "execution_count": 36,
      "outputs": [
        {
          "output_type": "error",
          "ename": "NameError",
          "evalue": "ignored",
          "traceback": [
            "\u001b[0;31m---------------------------------------------------------------------------\u001b[0m",
            "\u001b[0;31mNameError\u001b[0m                                 Traceback (most recent call last)",
            "\u001b[0;32m<ipython-input-36-64d726a05450>\u001b[0m in \u001b[0;36m<module>\u001b[0;34m()\u001b[0m\n\u001b[1;32m      1\u001b[0m \u001b[0mIMG_NAME\u001b[0m \u001b[0;34m=\u001b[0m \u001b[0mload_and_prep_image\u001b[0m\u001b[0;34m(\u001b[0m\u001b[0mIMG_NAME\u001b[0m\u001b[0;34m,\u001b[0m \u001b[0mscale\u001b[0m\u001b[0;34m=\u001b[0m\u001b[0;32mFalse\u001b[0m\u001b[0;34m)\u001b[0m \u001b[0;31m# don't need to scale for our EfficientNetB0 model\u001b[0m\u001b[0;34m\u001b[0m\u001b[0;34m\u001b[0m\u001b[0m\n\u001b[0;32m----> 2\u001b[0;31m \u001b[0mpred_prob\u001b[0m \u001b[0;34m=\u001b[0m \u001b[0mmodel1\u001b[0m\u001b[0;34m.\u001b[0m\u001b[0mpredict\u001b[0m\u001b[0;34m(\u001b[0m\u001b[0mtf\u001b[0m\u001b[0;34m.\u001b[0m\u001b[0mexpand_dims\u001b[0m\u001b[0;34m(\u001b[0m\u001b[0mIMG_NAME\u001b[0m\u001b[0;34m,\u001b[0m \u001b[0maxis\u001b[0m\u001b[0;34m=\u001b[0m\u001b[0;36m0\u001b[0m\u001b[0;34m)\u001b[0m\u001b[0;34m)\u001b[0m \u001b[0;31m# make prediction on image with shape [1, 224, 224, 3] (same shape as model was trained on)\u001b[0m\u001b[0;34m\u001b[0m\u001b[0;34m\u001b[0m\u001b[0m\n\u001b[0m\u001b[1;32m      3\u001b[0m \u001b[0mpred_class\u001b[0m \u001b[0;34m=\u001b[0m \u001b[0mclass_names\u001b[0m\u001b[0;34m[\u001b[0m\u001b[0mpred_prob\u001b[0m\u001b[0;34m.\u001b[0m\u001b[0margmax\u001b[0m\u001b[0;34m(\u001b[0m\u001b[0;34m)\u001b[0m\u001b[0;34m]\u001b[0m \u001b[0;31m# get the index with the highet prediction probability\u001b[0m\u001b[0;34m\u001b[0m\u001b[0;34m\u001b[0m\u001b[0m\n\u001b[1;32m      4\u001b[0m \u001b[0;31m# Plot the appropriate information\u001b[0m\u001b[0;34m\u001b[0m\u001b[0;34m\u001b[0m\u001b[0;34m\u001b[0m\u001b[0m\n\u001b[1;32m      5\u001b[0m \u001b[0mplt\u001b[0m\u001b[0;34m.\u001b[0m\u001b[0mfigure\u001b[0m\u001b[0;34m(\u001b[0m\u001b[0;34m)\u001b[0m\u001b[0;34m\u001b[0m\u001b[0;34m\u001b[0m\u001b[0m\n",
            "\u001b[0;31mNameError\u001b[0m: name 'model1' is not defined"
          ]
        }
      ]
    },
    {
      "cell_type": "code",
      "source": [
        "import itertools\n",
        "from sklearn.metrics import confusion_matrix\n",
        "import numpy as np\n",
        "def make_confusion_matrix(y_true, y_pred, classes=None, figsize=(10, 10), text_size=15):\n",
        "  # Create the confusion matrix\n",
        "  cm = confusion_matrix(y_true, y_pred)\n",
        "  cm_norm = cm.astype(\"float\") / cm.sum(axis=1)[:, np.newaxis] # normalize our confusion matrix\n",
        "  n_classes = cm.shape[0]\n",
        "\n",
        "  # Let's prettify it\n",
        "  fig, ax = plt.subplots(figsize=figsize)\n",
        "  # Create a matrix plot\n",
        "  cax = ax.matshow(cm, cmap=plt.cm.Blues)\n",
        "  fig.colorbar(cax)\n",
        "\n",
        "  # Set labels to be classes \n",
        "  if classes:\n",
        "    labels = classes\n",
        "  else:\n",
        "    labels = np.arange(cm.shape[0])\n",
        "\n",
        "  # Label the axes\n",
        "  ax.set(title=\"Confusion Matrix\",\n",
        "        xlabel=\"Predicted Label\",\n",
        "        ylabel=\"True Label\",\n",
        "        xticks=np.arange(n_classes),\n",
        "        yticks=np.arange(n_classes),\n",
        "        xticklabels=labels, \n",
        "        yticklabels=labels)\n",
        "\n",
        "  # Set x-axis labels to bottom\n",
        "  ax.xaxis.set_label_position(\"bottom\")\n",
        "  ax.xaxis.tick_bottom()\n",
        "\n",
        "  # Adjust label size\n",
        "  ax.yaxis.label.set_size(text_size)\n",
        "  ax.xaxis.label.set_size(text_size)\n",
        "  ax.title.set_size(text_size)\n",
        "\n",
        "  # Set threshold for different colors\n",
        "  threshold = (cm.max() + cm.min()) / 2.\n",
        "\n",
        "  # Plot the text on each cell\n",
        "  for i, j in itertools.product(range(cm.shape[0]), range(cm.shape[1])):\n",
        "    plt.text(j, i, f\"{cm[i, j]} ({cm_norm[i, j]*100:.1f}%)\",\n",
        "            horizontalalignment=\"center\",\n",
        "            color=\"white\" if cm[i, j] > threshold else \"black\",\n",
        "            size=text_size)"
      ],
      "metadata": {
        "id": "ixb7MggLC-iR"
      },
      "execution_count": null,
      "outputs": []
    },
    {
      "cell_type": "code",
      "source": [
        "y_probs=model1.predict(test_data)\n",
        "y_preds=y_probs.argmax(axis=1)\n"
      ],
      "metadata": {
        "id": "nFtsUal0C-dv"
      },
      "execution_count": null,
      "outputs": []
    },
    {
      "cell_type": "code",
      "source": [
        "y_preds[:10]"
      ],
      "metadata": {
        "colab": {
          "base_uri": "https://localhost:8080/"
        },
        "id": "2YAdPIRCENfH",
        "outputId": "0faaa470-06c0-4096-8b9e-b6c62ba38434"
      },
      "execution_count": null,
      "outputs": [
        {
          "output_type": "execute_result",
          "data": {
            "text/plain": [
              "array([114, 101,  95, 121,  25, 103,  33,   6,  59, 101])"
            ]
          },
          "metadata": {},
          "execution_count": 27
        }
      ]
    },
    {
      "cell_type": "code",
      "source": [
        "make_confusion_matrix(y_true=y_test,y_pred=y_preds,figsize=(200,200),text_size=30)"
      ],
      "metadata": {
        "id": "BVC1ziW5DLB5"
      },
      "execution_count": null,
      "outputs": []
    },
    {
      "cell_type": "code",
      "source": [
        "class_names[5]"
      ],
      "metadata": {
        "id": "Nx5yH1i6LwwY"
      },
      "execution_count": null,
      "outputs": []
    },
    {
      "cell_type": "markdown",
      "source": [
        "#model2 "
      ],
      "metadata": {
        "id": "qOEv_gcMTWN6"
      }
    },
    {
      "cell_type": "code",
      "source": [
        "#create a model 2 with functinal API\n",
        "from tensorflow.keras import layers\n",
        "inputs=layers.Input(shape=(224,224,3),name=\"model2\",dtype='float32')\n",
        "x=layers.Conv2D(16,2,activation=\"relu\")(inputs)\n",
        "x=layers.MaxPool2D()(x)\n",
        "x=layers.Conv2D(32,2,activation=\"relu\")(x)\n",
        "x=layers.MaxPool2D()(x)\n",
        "x=layers.Conv2D(64,2,activation=\"relu\")(x)\n",
        "x=layers.MaxPool2D()(x)\n",
        "x=layers.GlobalAveragePooling2D()(x)\n",
        "#x=layers.Flatten()(x)\n",
        "\n",
        "outputs=layers.Dense(total_classes,activation=\"softmax\")(x)\n",
        "model2=tf.keras.Model(inputs,outputs)"
      ],
      "metadata": {
        "id": "QJIOq6mjTa0l"
      },
      "execution_count": 42,
      "outputs": []
    },
    {
      "cell_type": "code",
      "source": [
        "model2.compile(loss=tf.keras.losses.binary_crossentropy,optimizer=tf.keras.optimizers.Adam(),metrics=['accuracy'])"
      ],
      "metadata": {
        "id": "vSReQKBDWYcA"
      },
      "execution_count": 43,
      "outputs": []
    },
    {
      "cell_type": "code",
      "source": [
        "model2.summary()"
      ],
      "metadata": {
        "colab": {
          "base_uri": "https://localhost:8080/"
        },
        "id": "IoyefQcZWkt-",
        "outputId": "fe6aadde-cc9f-4445-f95d-1538d822c381"
      },
      "execution_count": 44,
      "outputs": [
        {
          "output_type": "stream",
          "name": "stdout",
          "text": [
            "Model: \"model_1\"\n",
            "_________________________________________________________________\n",
            " Layer (type)                Output Shape              Param #   \n",
            "=================================================================\n",
            " model2 (InputLayer)         [(None, 224, 224, 3)]     0         \n",
            "                                                                 \n",
            " conv2d_5 (Conv2D)           (None, 223, 223, 16)      208       \n",
            "                                                                 \n",
            " max_pooling2d_3 (MaxPooling  (None, 111, 111, 16)     0         \n",
            " 2D)                                                             \n",
            "                                                                 \n",
            " conv2d_6 (Conv2D)           (None, 110, 110, 32)      2080      \n",
            "                                                                 \n",
            " max_pooling2d_4 (MaxPooling  (None, 55, 55, 32)       0         \n",
            " 2D)                                                             \n",
            "                                                                 \n",
            " conv2d_7 (Conv2D)           (None, 54, 54, 64)        8256      \n",
            "                                                                 \n",
            " max_pooling2d_5 (MaxPooling  (None, 27, 27, 64)       0         \n",
            " 2D)                                                             \n",
            "                                                                 \n",
            " global_average_pooling2d_1   (None, 64)               0         \n",
            " (GlobalAveragePooling2D)                                        \n",
            "                                                                 \n",
            " dense_1 (Dense)             (None, 131)               8515      \n",
            "                                                                 \n",
            "=================================================================\n",
            "Total params: 19,059\n",
            "Trainable params: 19,059\n",
            "Non-trainable params: 0\n",
            "_________________________________________________________________\n"
          ]
        }
      ]
    },
    {
      "cell_type": "code",
      "source": [
        ""
      ],
      "metadata": {
        "colab": {
          "base_uri": "https://localhost:8080/",
          "height": 169
        },
        "id": "eZ1jNbVvaaVk",
        "outputId": "69d825b6-2ba4-4155-ae02-ffb949359e93"
      },
      "execution_count": null,
      "outputs": [
        {
          "output_type": "error",
          "ename": "AttributeError",
          "evalue": "ignored",
          "traceback": [
            "\u001b[0;31m---------------------------------------------------------------------------\u001b[0m",
            "\u001b[0;31mAttributeError\u001b[0m                            Traceback (most recent call last)",
            "\u001b[0;32m<ipython-input-56-8852729f0f48>\u001b[0m in \u001b[0;36m<module>\u001b[0;34m()\u001b[0m\n\u001b[0;32m----> 1\u001b[0;31m \u001b[0mtrain_data\u001b[0m\u001b[0;34m.\u001b[0m\u001b[0mshape\u001b[0m\u001b[0;34m\u001b[0m\u001b[0;34m\u001b[0m\u001b[0m\n\u001b[0m",
            "\u001b[0;31mAttributeError\u001b[0m: 'BatchDataset' object has no attribute 'shape'"
          ]
        }
      ]
    },
    {
      "cell_type": "code",
      "source": [
        "history2=model2.fit(train_data,epochs=5,steps_per_epoch=len(train_data),validation_data=test_data,validation_steps=(0.25*len(test_data)))"
      ],
      "metadata": {
        "colab": {
          "base_uri": "https://localhost:8080/"
        },
        "id": "SX9u2-hsWqcI",
        "outputId": "57e5f32c-2fa4-41bb-833b-40c884990422"
      },
      "execution_count": 45,
      "outputs": [
        {
          "output_type": "stream",
          "name": "stdout",
          "text": [
            "Epoch 1/5\n",
            "2116/2116 [==============================] - 92s 43ms/step - loss: 0.0511 - accuracy: 0.6040 - val_loss: 0.0108 - val_accuracy: 0.8622\n",
            "Epoch 2/5\n",
            "2116/2116 [==============================] - 92s 44ms/step - loss: 0.0061 - accuracy: 0.9450 - val_loss: 0.0068 - val_accuracy: 0.9408\n",
            "Epoch 3/5\n",
            "2116/2116 [==============================] - 93s 44ms/step - loss: 0.0036 - accuracy: 0.9736 - val_loss: 0.0077 - val_accuracy: 0.9308\n",
            "Epoch 4/5\n",
            "2116/2116 [==============================] - 92s 43ms/step - loss: 0.0025 - accuracy: 0.9854 - val_loss: 0.0039 - val_accuracy: 0.9700\n",
            "Epoch 5/5\n",
            "2116/2116 [==============================] - 92s 43ms/step - loss: 0.0017 - accuracy: 0.9910 - val_loss: 0.0027 - val_accuracy: 0.9837\n"
          ]
        }
      ]
    },
    {
      "cell_type": "code",
      "source": [
        "plot_loss_curves(history2)"
      ],
      "metadata": {
        "id": "IYaloJiYchhO",
        "outputId": "dec24add-84de-447a-b418-bdd1adb5615f",
        "colab": {
          "base_uri": "https://localhost:8080/",
          "height": 573
        }
      },
      "execution_count": 46,
      "outputs": [
        {
          "output_type": "display_data",
          "data": {
            "text/plain": [
              "<Figure size 432x288 with 1 Axes>"
            ],
            "image/png": "[encoded data removed]"
          },
          "metadata": {
            "needs_background": "light"
          }
        },
        {
          "output_type": "display_data",
          "data": {
            "text/plain": [
              "<Figure size 432x288 with 1 Axes>"
            ],
            "image/png": "[encoded data removed]"
          },
          "metadata": {
            "needs_background": "light"
          }
        }
      ]
    },
    {
      "cell_type": "code",
      "source": [
        "model2.evaluate(test_data)"
      ],
      "metadata": {
        "colab": {
          "base_uri": "https://localhost:8080/"
        },
        "id": "92jJjyHudedH",
        "outputId": "f7e32303-8ddc-4ab3-fa74-22c2386daddd"
      },
      "execution_count": 40,
      "outputs": [
        {
          "output_type": "stream",
          "name": "stdout",
          "text": [
            "709/709 [==============================] - 27s 37ms/step - loss: 0.0030 - accuracy: 0.9799\n"
          ]
        },
        {
          "output_type": "execute_result",
          "data": {
            "text/plain": [
              "[0.0030433994252234697, 0.9799453616142273]"
            ]
          },
          "metadata": {},
          "execution_count": 40
        }
      ]
    },
    {
      "cell_type": "code",
      "source": [
        "import matplotlib.pyplot as plt\n",
        "\n",
        "IMG_NAME=\"/content/carrot.jpg\""
      ],
      "metadata": {
        "id": "LGkn8P1HcuJN"
      },
      "execution_count": 56,
      "outputs": []
    },
    {
      "cell_type": "code",
      "source": [
        "IMG_NAME = load_and_prep_image(IMG_NAME, scale=False) \n",
        "pred_prob = model2.predict(tf.expand_dims(IMG_NAME, axis=0)) # make prediction on image with shape [1, 224, 224, 3] (same shape as model was trained on)\n",
        "pred_class = class_names[pred_prob.argmax()] # get the index with the highet prediction probability\n",
        "# Plot the appropriate information\n",
        "plt.figure()\n",
        "plt.imshow(IMG_NAME/225.)\n",
        "plt.title(f\"pred: {pred_class}, prob: {pred_prob.max():.2f}\")\n",
        "plt.axis(False)"
      ],
      "metadata": {
        "colab": {
          "base_uri": "https://localhost:8080/",
          "height": 380
        },
        "id": "0P_JZNQtcVvy",
        "outputId": "c2af5fe6-8852-4ce6-b597-9bcfe9363c6b"
      },
      "execution_count": 58,
      "outputs": [
        {
          "output_type": "error",
          "ename": "InvalidArgumentError",
          "evalue": "ignored",
          "traceback": [
            "\u001b[0;31m---------------------------------------------------------------------------\u001b[0m",
            "\u001b[0;31mInvalidArgumentError\u001b[0m                      Traceback (most recent call last)",
            "\u001b[0;32m<ipython-input-58-98e0008c251a>\u001b[0m in \u001b[0;36m<module>\u001b[0;34m()\u001b[0m\n\u001b[0;32m----> 1\u001b[0;31m \u001b[0mIMG_NAME\u001b[0m \u001b[0;34m=\u001b[0m \u001b[0mload_and_prep_image\u001b[0m\u001b[0;34m(\u001b[0m\u001b[0mIMG_NAME\u001b[0m\u001b[0;34m,\u001b[0m \u001b[0mscale\u001b[0m\u001b[0;34m=\u001b[0m\u001b[0;32mFalse\u001b[0m\u001b[0;34m)\u001b[0m\u001b[0;34m\u001b[0m\u001b[0;34m\u001b[0m\u001b[0m\n\u001b[0m\u001b[1;32m      2\u001b[0m \u001b[0mpred_prob\u001b[0m \u001b[0;34m=\u001b[0m \u001b[0mmodel2\u001b[0m\u001b[0;34m.\u001b[0m\u001b[0mpredict\u001b[0m\u001b[0;34m(\u001b[0m\u001b[0mtf\u001b[0m\u001b[0;34m.\u001b[0m\u001b[0mexpand_dims\u001b[0m\u001b[0;34m(\u001b[0m\u001b[0mIMG_NAME\u001b[0m\u001b[0;34m,\u001b[0m \u001b[0maxis\u001b[0m\u001b[0;34m=\u001b[0m\u001b[0;36m0\u001b[0m\u001b[0;34m)\u001b[0m\u001b[0;34m)\u001b[0m \u001b[0;31m# make prediction on image with shape [1, 224, 224, 3] (same shape as model was trained on)\u001b[0m\u001b[0;34m\u001b[0m\u001b[0;34m\u001b[0m\u001b[0m\n\u001b[1;32m      3\u001b[0m \u001b[0mpred_class\u001b[0m \u001b[0;34m=\u001b[0m \u001b[0mclass_names\u001b[0m\u001b[0;34m[\u001b[0m\u001b[0mpred_prob\u001b[0m\u001b[0;34m.\u001b[0m\u001b[0margmax\u001b[0m\u001b[0;34m(\u001b[0m\u001b[0;34m)\u001b[0m\u001b[0;34m]\u001b[0m \u001b[0;31m# get the index with the highet prediction probability\u001b[0m\u001b[0;34m\u001b[0m\u001b[0;34m\u001b[0m\u001b[0m\n\u001b[1;32m      4\u001b[0m \u001b[0;31m# Plot the appropriate information\u001b[0m\u001b[0;34m\u001b[0m\u001b[0;34m\u001b[0m\u001b[0;34m\u001b[0m\u001b[0m\n\u001b[1;32m      5\u001b[0m \u001b[0mplt\u001b[0m\u001b[0;34m.\u001b[0m\u001b[0mfigure\u001b[0m\u001b[0;34m(\u001b[0m\u001b[0;34m)\u001b[0m\u001b[0;34m\u001b[0m\u001b[0;34m\u001b[0m\u001b[0m\n",
            "\u001b[0;32m<ipython-input-25-3b16404e4955>\u001b[0m in \u001b[0;36mload_and_prep_image\u001b[0;34m(filename, img_shape, scale)\u001b[0m\n\u001b[1;32m      2\u001b[0m \u001b[0;34m\u001b[0m\u001b[0m\n\u001b[1;32m      3\u001b[0m   \u001b[0;31m# Read in the image\u001b[0m\u001b[0;34m\u001b[0m\u001b[0;34m\u001b[0m\u001b[0;34m\u001b[0m\u001b[0m\n\u001b[0;32m----> 4\u001b[0;31m   \u001b[0mimg\u001b[0m \u001b[0;34m=\u001b[0m \u001b[0mtf\u001b[0m\u001b[0;34m.\u001b[0m\u001b[0mio\u001b[0m\u001b[0;34m.\u001b[0m\u001b[0mread_file\u001b[0m\u001b[0;34m(\u001b[0m\u001b[0mfilename\u001b[0m\u001b[0;34m)\u001b[0m\u001b[0;34m\u001b[0m\u001b[0;34m\u001b[0m\u001b[0m\n\u001b[0m\u001b[1;32m      5\u001b[0m \u001b[0;34m\u001b[0m\u001b[0m\n\u001b[1;32m      6\u001b[0m   \u001b[0;31m# Decode image into tensor\u001b[0m\u001b[0;34m\u001b[0m\u001b[0;34m\u001b[0m\u001b[0;34m\u001b[0m\u001b[0m\n",
            "\u001b[0;32m/usr/local/lib/python3.7/dist-packages/tensorflow/python/ops/io_ops.py\u001b[0m in \u001b[0;36mread_file\u001b[0;34m(filename, name)\u001b[0m\n\u001b[1;32m    131\u001b[0m     \u001b[0mA\u001b[0m \u001b[0mtensor\u001b[0m \u001b[0mof\u001b[0m \u001b[0mdtype\u001b[0m \u001b[0;34m\"string\"\u001b[0m\u001b[0;34m,\u001b[0m \u001b[0;32mwith\u001b[0m \u001b[0mthe\u001b[0m \u001b[0mfile\u001b[0m \u001b[0mcontents\u001b[0m\u001b[0;34m.\u001b[0m\u001b[0;34m\u001b[0m\u001b[0;34m\u001b[0m\u001b[0m\n\u001b[1;32m    132\u001b[0m   \"\"\"\n\u001b[0;32m--> 133\u001b[0;31m   \u001b[0;32mreturn\u001b[0m \u001b[0mgen_io_ops\u001b[0m\u001b[0;34m.\u001b[0m\u001b[0mread_file\u001b[0m\u001b[0;34m(\u001b[0m\u001b[0mfilename\u001b[0m\u001b[0;34m,\u001b[0m \u001b[0mname\u001b[0m\u001b[0;34m)\u001b[0m\u001b[0;34m\u001b[0m\u001b[0;34m\u001b[0m\u001b[0m\n\u001b[0m\u001b[1;32m    134\u001b[0m \u001b[0;34m\u001b[0m\u001b[0m\n\u001b[1;32m    135\u001b[0m \u001b[0;34m\u001b[0m\u001b[0m\n",
            "\u001b[0;32m/usr/local/lib/python3.7/dist-packages/tensorflow/python/ops/gen_io_ops.py\u001b[0m in \u001b[0;36mread_file\u001b[0;34m(filename, name)\u001b[0m\n\u001b[1;32m    560\u001b[0m       \u001b[0;32mreturn\u001b[0m \u001b[0m_result\u001b[0m\u001b[0;34m\u001b[0m\u001b[0;34m\u001b[0m\u001b[0m\n\u001b[1;32m    561\u001b[0m     \u001b[0;32mexcept\u001b[0m \u001b[0m_core\u001b[0m\u001b[0;34m.\u001b[0m\u001b[0m_NotOkStatusException\u001b[0m \u001b[0;32mas\u001b[0m \u001b[0me\u001b[0m\u001b[0;34m:\u001b[0m\u001b[0;34m\u001b[0m\u001b[0;34m\u001b[0m\u001b[0m\n\u001b[0;32m--> 562\u001b[0;31m       \u001b[0m_ops\u001b[0m\u001b[0;34m.\u001b[0m\u001b[0mraise_from_not_ok_status\u001b[0m\u001b[0;34m(\u001b[0m\u001b[0me\u001b[0m\u001b[0;34m,\u001b[0m \u001b[0mname\u001b[0m\u001b[0;34m)\u001b[0m\u001b[0;34m\u001b[0m\u001b[0;34m\u001b[0m\u001b[0m\n\u001b[0m\u001b[1;32m    563\u001b[0m     \u001b[0;32mexcept\u001b[0m \u001b[0m_core\u001b[0m\u001b[0;34m.\u001b[0m\u001b[0m_FallbackException\u001b[0m\u001b[0;34m:\u001b[0m\u001b[0;34m\u001b[0m\u001b[0;34m\u001b[0m\u001b[0m\n\u001b[1;32m    564\u001b[0m       \u001b[0;32mpass\u001b[0m\u001b[0;34m\u001b[0m\u001b[0;34m\u001b[0m\u001b[0m\n",
            "\u001b[0;32m/usr/local/lib/python3.7/dist-packages/tensorflow/python/framework/ops.py\u001b[0m in \u001b[0;36mraise_from_not_ok_status\u001b[0;34m(e, name)\u001b[0m\n\u001b[1;32m   7184\u001b[0m \u001b[0;32mdef\u001b[0m \u001b[0mraise_from_not_ok_status\u001b[0m\u001b[0;34m(\u001b[0m\u001b[0me\u001b[0m\u001b[0;34m,\u001b[0m \u001b[0mname\u001b[0m\u001b[0;34m)\u001b[0m\u001b[0;34m:\u001b[0m\u001b[0;34m\u001b[0m\u001b[0;34m\u001b[0m\u001b[0m\n\u001b[1;32m   7185\u001b[0m   \u001b[0me\u001b[0m\u001b[0;34m.\u001b[0m\u001b[0mmessage\u001b[0m \u001b[0;34m+=\u001b[0m \u001b[0;34m(\u001b[0m\u001b[0;34m\" name: \"\u001b[0m \u001b[0;34m+\u001b[0m \u001b[0mname\u001b[0m \u001b[0;32mif\u001b[0m \u001b[0mname\u001b[0m \u001b[0;32mis\u001b[0m \u001b[0;32mnot\u001b[0m \u001b[0;32mNone\u001b[0m \u001b[0;32melse\u001b[0m \u001b[0;34m\"\"\u001b[0m\u001b[0;34m)\u001b[0m\u001b[0;34m\u001b[0m\u001b[0;34m\u001b[0m\u001b[0m\n\u001b[0;32m-> 7186\u001b[0;31m   \u001b[0;32mraise\u001b[0m \u001b[0mcore\u001b[0m\u001b[0;34m.\u001b[0m\u001b[0m_status_to_exception\u001b[0m\u001b[0;34m(\u001b[0m\u001b[0me\u001b[0m\u001b[0;34m)\u001b[0m \u001b[0;32mfrom\u001b[0m \u001b[0;32mNone\u001b[0m  \u001b[0;31m# pylint: disable=protected-access\u001b[0m\u001b[0;34m\u001b[0m\u001b[0;34m\u001b[0m\u001b[0m\n\u001b[0m\u001b[1;32m   7187\u001b[0m \u001b[0;34m\u001b[0m\u001b[0m\n\u001b[1;32m   7188\u001b[0m \u001b[0;34m\u001b[0m\u001b[0m\n",
            "\u001b[0;31mInvalidArgumentError\u001b[0m: cannot compute ReadFile as input #0(zero-based) was expected to be a string tensor but is a float tensor [Op:ReadFile]"
          ]
        }
      ]
    },
    {
      "cell_type": "code",
      "source": [
        ""
      ],
      "metadata": {
        "id": "FJcVKBVziz8N"
      },
      "execution_count": null,
      "outputs": []
    }
  ]
}