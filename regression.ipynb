{
  "nbformat": 4,
  "nbformat_minor": 0,
  "metadata": {
    "colab": {
      "name": "test.ipynb",
      "provenance": [],
      "collapsed_sections": [],
      "authorship_tag": "ABX9TyOO4HX3npKpsiaA8JCTQ//c",
      "include_colab_link": true
    },
    "kernelspec": {
      "name": "python3",
      "display_name": "Python 3"
    },
    "language_info": {
      "name": "python"
    },
    "accelerator": "GPU"
  },
  "cells": [
    {
      "cell_type": "markdown",
      "metadata": {
        "id": "view-in-github",
        "colab_type": "text"
      },
      "source": [
        "<a href=\"https://colab.research.google.com/github/zlximon/Tensorflow_DL/blob/master/regression.ipynb\" target=\"_parent\"><img src=\"https://colab.research.google.com/assets/colab-badge.svg\" alt=\"Open In Colab\"/></a>"
      ]
    },
    {
      "cell_type": "code",
      "execution_count": 1,
      "metadata": {
        "id": "88Zrgcf0Gulw"
      },
      "outputs": [],
      "source": [
        "import tensorflow as tf\n",
        "import numpy as np\n",
        "import matplotlib.pyplot as plt"
      ]
    },
    {
      "cell_type": "code",
      "source": [
        "x=[-7.0, -4.0, -1.0, 2.0, 5.0, 8.0, 11.0, 14.0]\n",
        "y=[3.0, 6.0, 9.0, 12.0, 15.0, 18.0, 21.0, 24.0]\n",
        "x=tf.constant(x,dtype=tf.float32)\n",
        "y=tf.constant(y,dtype=tf.float32)\n",
        "x,y"
      ],
      "metadata": {
        "colab": {
          "base_uri": "https://localhost:8080/"
        },
        "id": "l8TQvXxhvJRY",
        "outputId": "38f26a9b-9942-44a3-aed8-4f5386ea2d4e"
      },
      "execution_count": 2,
      "outputs": [
        {
          "output_type": "execute_result",
          "data": {
            "text/plain": [
              "(<tf.Tensor: shape=(8,), dtype=float32, numpy=array([-7., -4., -1.,  2.,  5.,  8., 11., 14.], dtype=float32)>,\n",
              " <tf.Tensor: shape=(8,), dtype=float32, numpy=array([ 3.,  6.,  9., 12., 15., 18., 21., 24.], dtype=float32)>)"
            ]
          },
          "metadata": {},
          "execution_count": 2
        }
      ]
    },
    {
      "cell_type": "markdown",
      "source": [
        ""
      ],
      "metadata": {
        "id": "UWzcbyh-OGw1"
      }
    },
    {
      "cell_type": "code",
      "source": [
        "plt.scatter(x, y)"
      ],
      "metadata": {
        "colab": {
          "base_uri": "https://localhost:8080/",
          "height": 287
        },
        "id": "GKkS2qzFvhuD",
        "outputId": "bdb79d4d-3849-4331-ab09-50a2e410dbd4"
      },
      "execution_count": null,
      "outputs": [
        {
          "output_type": "execute_result",
          "data": {
            "text/plain": [
              "<matplotlib.collections.PathCollection at 0x7f8190520910>"
            ]
          },
          "metadata": {},
          "execution_count": 3
        },
        {
          "output_type": "display_data",
          "data": {
            "text/plain": [
              "<Figure size 432x288 with 1 Axes>"
            ],
            "image/png": "[encoded data removed]"
          },
          "metadata": {
            "needs_background": "light"
          }
        }
      ]
    },
    {
      "cell_type": "code",
      "source": [
        "x,tf.expand_dims(x, axis=-1)"
      ],
      "metadata": {
        "colab": {
          "base_uri": "https://localhost:8080/"
        },
        "id": "V4-vIvtoSWwK",
        "outputId": "c479924a-ce4a-4070-a1ea-de3bcb51d76e"
      },
      "execution_count": null,
      "outputs": [
        {
          "output_type": "execute_result",
          "data": {
            "text/plain": [
              "(<tf.Tensor: shape=(8,), dtype=float32, numpy=array([-7., -4., -1.,  2.,  5.,  8., 11., 14.], dtype=float32)>,\n",
              " <tf.Tensor: shape=(8, 1), dtype=float32, numpy=\n",
              " array([[-7.],\n",
              "        [-4.],\n",
              "        [-1.],\n",
              "        [ 2.],\n",
              "        [ 5.],\n",
              "        [ 8.],\n",
              "        [11.],\n",
              "        [14.]], dtype=float32)>)"
            ]
          },
          "metadata": {},
          "execution_count": 4
        }
      ]
    },
    {
      "cell_type": "markdown",
      "source": [
        ""
      ],
      "metadata": {
        "id": "P9bDtEIWSWdX"
      }
    },
    {
      "cell_type": "markdown",
      "source": [
        "so we have to create and compile our model \n",
        "and at the end fitting model "
      ],
      "metadata": {
        "id": "Ghcb_WAPOUgi"
      }
    },
    {
      "cell_type": "code",
      "source": [
        "tf.random.set_seed(42)\n",
        "# creating model\n",
        "model =tf.keras.Sequential([\n",
        "                          \n",
        "  tf.keras.layers.Dense(1)                            \n",
        "])\n",
        "# complie \n",
        "tf.keras.metrics.mae\n",
        "model.compile (loss=tf.keras.losses.mae,optimizer=tf.keras.optimizers.SGD(),metrics=tf.keras.metrics.mae)\n",
        "#fit model\n",
        "model.fit(tf.expand_dims(x, axis=-1), y, epochs=10)"
      ],
      "metadata": {
        "colab": {
          "base_uri": "https://localhost:8080/"
        },
        "id": "Xct84gCHOUcY",
        "outputId": "90698a53-9a93-4331-ecc9-9504175cf778"
      },
      "execution_count": null,
      "outputs": [
        {
          "output_type": "stream",
          "name": "stdout",
          "text": [
            "Epoch 1/10\n",
            "1/1 [==============================] - 1s 793ms/step - loss: 11.5048 - mean_absolute_error: 11.5048\n",
            "Epoch 2/10\n",
            "1/1 [==============================] - 0s 8ms/step - loss: 11.3723 - mean_absolute_error: 11.3723\n",
            "Epoch 3/10\n",
            "1/1 [==============================] - 0s 7ms/step - loss: 11.2398 - mean_absolute_error: 11.2398\n",
            "Epoch 4/10\n",
            "1/1 [==============================] - 0s 8ms/step - loss: 11.1073 - mean_absolute_error: 11.1073\n",
            "Epoch 5/10\n",
            "1/1 [==============================] - 0s 7ms/step - loss: 10.9748 - mean_absolute_error: 10.9748\n",
            "Epoch 6/10\n",
            "1/1 [==============================] - 0s 6ms/step - loss: 10.8423 - mean_absolute_error: 10.8423\n",
            "Epoch 7/10\n",
            "1/1 [==============================] - 0s 10ms/step - loss: 10.7098 - mean_absolute_error: 10.7098\n",
            "Epoch 8/10\n",
            "1/1 [==============================] - 0s 8ms/step - loss: 10.5773 - mean_absolute_error: 10.5773\n",
            "Epoch 9/10\n",
            "1/1 [==============================] - 0s 7ms/step - loss: 10.4448 - mean_absolute_error: 10.4448\n",
            "Epoch 10/10\n",
            "1/1 [==============================] - 0s 9ms/step - loss: 10.3123 - mean_absolute_error: 10.3123\n"
          ]
        },
        {
          "output_type": "execute_result",
          "data": {
            "text/plain": [
              "<keras.callbacks.History at 0x7f811c260a50>"
            ]
          },
          "metadata": {},
          "execution_count": 5
        }
      ]
    },
    {
      "cell_type": "code",
      "source": [
        "model.predict([17.0])"
      ],
      "metadata": {
        "colab": {
          "base_uri": "https://localhost:8080/"
        },
        "id": "JhbsWBe5Uanr",
        "outputId": "60ef3aa9-68b8-4423-d05b-523b516718fa"
      },
      "execution_count": null,
      "outputs": [
        {
          "output_type": "execute_result",
          "data": {
            "text/plain": [
              "array([[15.741023]], dtype=float32)"
            ]
          },
          "metadata": {},
          "execution_count": 6
        }
      ]
    },
    {
      "cell_type": "markdown",
      "source": [
        ""
      ],
      "metadata": {
        "id": "h6dvjdVfseBB"
      }
    },
    {
      "cell_type": "code",
      "source": [
        "#imporve our model in 3 way => in creating procces ,in comling , and in fitting \n",
        "model=tf.keras.Sequential([\n",
        "tf.keras.layers.Dense(100,activation=\"relu\") ,\n",
        "tf.keras.layers.Dense(100,activation=\"relu\") ,\n",
        "tf.keras.layers.Dense(100,activation=\"relu\") ,\n",
        "tf.keras.layers.Dense(1)                           \n",
        "\n",
        "])\n",
        "model.compile(loss=tf.losses.mae,optimizer=tf.optimizers.Adam(lr=0.01),metrics=[\"mae\"])\n",
        "model.fit(tf.expand_dims(x, axis=-1), y, epochs=100)\n",
        "# we can difine input shape manually like tf.keras.layers.Dense(1,input_shape=[1])                           \n"
      ],
      "metadata": {
        "colab": {
          "base_uri": "https://localhost:8080/"
        },
        "id": "ER8TWBhXUagz",
        "outputId": "7443aa90-be94-4830-b915-ea6242471ff2"
      },
      "execution_count": null,
      "outputs": [
        {
          "output_type": "stream",
          "name": "stdout",
          "text": [
            "Epoch 1/100\n"
          ]
        },
        {
          "output_type": "stream",
          "name": "stderr",
          "text": [
            "/usr/local/lib/python3.7/dist-packages/keras/optimizer_v2/adam.py:105: UserWarning: The `lr` argument is deprecated, use `learning_rate` instead.\n",
            "  super(Adam, self).__init__(name, **kwargs)\n"
          ]
        },
        {
          "output_type": "stream",
          "name": "stdout",
          "text": [
            "1/1 [==============================] - 0s 379ms/step - loss: 14.3099 - mae: 14.3099\n",
            "Epoch 2/100\n",
            "1/1 [==============================] - 0s 9ms/step - loss: 12.1094 - mae: 12.1094\n",
            "Epoch 3/100\n",
            "1/1 [==============================] - 0s 10ms/step - loss: 10.0935 - mae: 10.0935\n",
            "Epoch 4/100\n",
            "1/1 [==============================] - 0s 9ms/step - loss: 7.7100 - mae: 7.7100\n",
            "Epoch 5/100\n",
            "1/1 [==============================] - 0s 7ms/step - loss: 4.1881 - mae: 4.1881\n",
            "Epoch 6/100\n",
            "1/1 [==============================] - 0s 7ms/step - loss: 6.0951 - mae: 6.0951\n",
            "Epoch 7/100\n",
            "1/1 [==============================] - 0s 6ms/step - loss: 7.2322 - mae: 7.2322\n",
            "Epoch 8/100\n",
            "1/1 [==============================] - 0s 6ms/step - loss: 5.8670 - mae: 5.8670\n",
            "Epoch 9/100\n",
            "1/1 [==============================] - 0s 9ms/step - loss: 4.3112 - mae: 4.3112\n",
            "Epoch 10/100\n",
            "1/1 [==============================] - 0s 8ms/step - loss: 3.9136 - mae: 3.9136\n",
            "Epoch 11/100\n",
            "1/1 [==============================] - 0s 9ms/step - loss: 5.1832 - mae: 5.1832\n",
            "Epoch 12/100\n",
            "1/1 [==============================] - 0s 8ms/step - loss: 5.5683 - mae: 5.5683\n",
            "Epoch 13/100\n",
            "1/1 [==============================] - 0s 6ms/step - loss: 5.2566 - mae: 5.2566\n",
            "Epoch 14/100\n",
            "1/1 [==============================] - 0s 9ms/step - loss: 4.3430 - mae: 4.3430\n",
            "Epoch 15/100\n",
            "1/1 [==============================] - 0s 8ms/step - loss: 3.4644 - mae: 3.4644\n",
            "Epoch 16/100\n",
            "1/1 [==============================] - 0s 6ms/step - loss: 3.7662 - mae: 3.7662\n",
            "Epoch 17/100\n",
            "1/1 [==============================] - 0s 6ms/step - loss: 4.2944 - mae: 4.2944\n",
            "Epoch 18/100\n",
            "1/1 [==============================] - 0s 8ms/step - loss: 4.4026 - mae: 4.4026\n",
            "Epoch 19/100\n",
            "1/1 [==============================] - 0s 8ms/step - loss: 4.0816 - mae: 4.0816\n",
            "Epoch 20/100\n",
            "1/1 [==============================] - 0s 9ms/step - loss: 3.4548 - mae: 3.4548\n",
            "Epoch 21/100\n",
            "1/1 [==============================] - 0s 8ms/step - loss: 3.1246 - mae: 3.1246\n",
            "Epoch 22/100\n",
            "1/1 [==============================] - 0s 6ms/step - loss: 3.6346 - mae: 3.6346\n",
            "Epoch 23/100\n",
            "1/1 [==============================] - 0s 9ms/step - loss: 3.7149 - mae: 3.7149\n",
            "Epoch 24/100\n",
            "1/1 [==============================] - 0s 9ms/step - loss: 3.0509 - mae: 3.0509\n",
            "Epoch 25/100\n",
            "1/1 [==============================] - 0s 6ms/step - loss: 2.7960 - mae: 2.7960\n",
            "Epoch 26/100\n",
            "1/1 [==============================] - 0s 8ms/step - loss: 2.8846 - mae: 2.8846\n",
            "Epoch 27/100\n",
            "1/1 [==============================] - 0s 9ms/step - loss: 2.7157 - mae: 2.7157\n",
            "Epoch 28/100\n",
            "1/1 [==============================] - 0s 7ms/step - loss: 2.3621 - mae: 2.3621\n",
            "Epoch 29/100\n",
            "1/1 [==============================] - 0s 9ms/step - loss: 2.2013 - mae: 2.2013\n",
            "Epoch 30/100\n",
            "1/1 [==============================] - 0s 9ms/step - loss: 2.0066 - mae: 2.0066\n",
            "Epoch 31/100\n",
            "1/1 [==============================] - 0s 7ms/step - loss: 1.6739 - mae: 1.6739\n",
            "Epoch 32/100\n",
            "1/1 [==============================] - 0s 7ms/step - loss: 1.4164 - mae: 1.4164\n",
            "Epoch 33/100\n",
            "1/1 [==============================] - 0s 9ms/step - loss: 0.9649 - mae: 0.9649\n",
            "Epoch 34/100\n",
            "1/1 [==============================] - 0s 9ms/step - loss: 1.1689 - mae: 1.1689\n",
            "Epoch 35/100\n",
            "1/1 [==============================] - 0s 7ms/step - loss: 0.6564 - mae: 0.6564\n",
            "Epoch 36/100\n",
            "1/1 [==============================] - 0s 7ms/step - loss: 0.6408 - mae: 0.6408\n",
            "Epoch 37/100\n",
            "1/1 [==============================] - 0s 9ms/step - loss: 0.7872 - mae: 0.7872\n",
            "Epoch 38/100\n",
            "1/1 [==============================] - 0s 9ms/step - loss: 1.0425 - mae: 1.0425\n",
            "Epoch 39/100\n",
            "1/1 [==============================] - 0s 9ms/step - loss: 0.6846 - mae: 0.6846\n",
            "Epoch 40/100\n",
            "1/1 [==============================] - 0s 10ms/step - loss: 1.4782 - mae: 1.4782\n",
            "Epoch 41/100\n",
            "1/1 [==============================] - 0s 6ms/step - loss: 1.1676 - mae: 1.1676\n",
            "Epoch 42/100\n",
            "1/1 [==============================] - 0s 9ms/step - loss: 0.9014 - mae: 0.9014\n",
            "Epoch 43/100\n",
            "1/1 [==============================] - 0s 9ms/step - loss: 1.0710 - mae: 1.0710\n",
            "Epoch 44/100\n",
            "1/1 [==============================] - 0s 6ms/step - loss: 0.3967 - mae: 0.3967\n",
            "Epoch 45/100\n",
            "1/1 [==============================] - 0s 7ms/step - loss: 0.7617 - mae: 0.7617\n",
            "Epoch 46/100\n",
            "1/1 [==============================] - 0s 6ms/step - loss: 0.3968 - mae: 0.3968\n",
            "Epoch 47/100\n",
            "1/1 [==============================] - 0s 7ms/step - loss: 0.8257 - mae: 0.8257\n",
            "Epoch 48/100\n",
            "1/1 [==============================] - 0s 9ms/step - loss: 0.4148 - mae: 0.4148\n",
            "Epoch 49/100\n",
            "1/1 [==============================] - 0s 10ms/step - loss: 1.1780 - mae: 1.1780\n",
            "Epoch 50/100\n",
            "1/1 [==============================] - 0s 9ms/step - loss: 1.2283 - mae: 1.2283\n",
            "Epoch 51/100\n",
            "1/1 [==============================] - 0s 9ms/step - loss: 0.5332 - mae: 0.5332\n",
            "Epoch 52/100\n",
            "1/1 [==============================] - 0s 8ms/step - loss: 1.2348 - mae: 1.2348\n",
            "Epoch 53/100\n",
            "1/1 [==============================] - 0s 8ms/step - loss: 1.3417 - mae: 1.3417\n",
            "Epoch 54/100\n",
            "1/1 [==============================] - 0s 8ms/step - loss: 0.5670 - mae: 0.5670\n",
            "Epoch 55/100\n",
            "1/1 [==============================] - 0s 7ms/step - loss: 1.3346 - mae: 1.3346\n",
            "Epoch 56/100\n",
            "1/1 [==============================] - 0s 8ms/step - loss: 1.7505 - mae: 1.7505\n",
            "Epoch 57/100\n",
            "1/1 [==============================] - 0s 9ms/step - loss: 0.9810 - mae: 0.9810\n",
            "Epoch 58/100\n",
            "1/1 [==============================] - 0s 8ms/step - loss: 0.7677 - mae: 0.7677\n",
            "Epoch 59/100\n",
            "1/1 [==============================] - 0s 8ms/step - loss: 1.2082 - mae: 1.2082\n",
            "Epoch 60/100\n",
            "1/1 [==============================] - 0s 6ms/step - loss: 0.8040 - mae: 0.8040\n",
            "Epoch 61/100\n",
            "1/1 [==============================] - 0s 6ms/step - loss: 0.6035 - mae: 0.6035\n",
            "Epoch 62/100\n",
            "1/1 [==============================] - 0s 11ms/step - loss: 0.7748 - mae: 0.7748\n",
            "Epoch 63/100\n",
            "1/1 [==============================] - 0s 10ms/step - loss: 0.2493 - mae: 0.2493\n",
            "Epoch 64/100\n",
            "1/1 [==============================] - 0s 8ms/step - loss: 0.1911 - mae: 0.1911\n",
            "Epoch 65/100\n",
            "1/1 [==============================] - 0s 9ms/step - loss: 0.2576 - mae: 0.2576\n",
            "Epoch 66/100\n",
            "1/1 [==============================] - 0s 10ms/step - loss: 0.2354 - mae: 0.2354\n",
            "Epoch 67/100\n",
            "1/1 [==============================] - 0s 7ms/step - loss: 0.3194 - mae: 0.3194\n",
            "Epoch 68/100\n",
            "1/1 [==============================] - 0s 9ms/step - loss: 0.3929 - mae: 0.3929\n",
            "Epoch 69/100\n",
            "1/1 [==============================] - 0s 9ms/step - loss: 0.2379 - mae: 0.2379\n",
            "Epoch 70/100\n",
            "1/1 [==============================] - 0s 15ms/step - loss: 0.8949 - mae: 0.8949\n",
            "Epoch 71/100\n",
            "1/1 [==============================] - 0s 8ms/step - loss: 0.7732 - mae: 0.7732\n",
            "Epoch 72/100\n",
            "1/1 [==============================] - 0s 6ms/step - loss: 0.3582 - mae: 0.3582\n",
            "Epoch 73/100\n",
            "1/1 [==============================] - 0s 9ms/step - loss: 0.4289 - mae: 0.4289\n",
            "Epoch 74/100\n",
            "1/1 [==============================] - 0s 11ms/step - loss: 0.2657 - mae: 0.2657\n",
            "Epoch 75/100\n",
            "1/1 [==============================] - 0s 9ms/step - loss: 0.0990 - mae: 0.0990\n",
            "Epoch 76/100\n",
            "1/1 [==============================] - 0s 7ms/step - loss: 0.1148 - mae: 0.1148\n",
            "Epoch 77/100\n",
            "1/1 [==============================] - 0s 7ms/step - loss: 0.2166 - mae: 0.2166\n",
            "Epoch 78/100\n",
            "1/1 [==============================] - 0s 10ms/step - loss: 0.4491 - mae: 0.4491\n",
            "Epoch 79/100\n",
            "1/1 [==============================] - 0s 9ms/step - loss: 0.2172 - mae: 0.2172\n",
            "Epoch 80/100\n",
            "1/1 [==============================] - 0s 8ms/step - loss: 0.7538 - mae: 0.7538\n",
            "Epoch 81/100\n",
            "1/1 [==============================] - 0s 7ms/step - loss: 0.6958 - mae: 0.6958\n",
            "Epoch 82/100\n",
            "1/1 [==============================] - 0s 7ms/step - loss: 0.3540 - mae: 0.3540\n",
            "Epoch 83/100\n",
            "1/1 [==============================] - 0s 7ms/step - loss: 0.2373 - mae: 0.2373\n",
            "Epoch 84/100\n",
            "1/1 [==============================] - 0s 6ms/step - loss: 0.7743 - mae: 0.7743\n",
            "Epoch 85/100\n",
            "1/1 [==============================] - 0s 8ms/step - loss: 0.7285 - mae: 0.7285\n",
            "Epoch 86/100\n",
            "1/1 [==============================] - 0s 6ms/step - loss: 0.3481 - mae: 0.3481\n",
            "Epoch 87/100\n",
            "1/1 [==============================] - 0s 6ms/step - loss: 0.4131 - mae: 0.4131\n",
            "Epoch 88/100\n",
            "1/1 [==============================] - 0s 7ms/step - loss: 0.4374 - mae: 0.4374\n",
            "Epoch 89/100\n",
            "1/1 [==============================] - 0s 7ms/step - loss: 0.3659 - mae: 0.3659\n",
            "Epoch 90/100\n",
            "1/1 [==============================] - 0s 6ms/step - loss: 0.5398 - mae: 0.5398\n",
            "Epoch 91/100\n",
            "1/1 [==============================] - 0s 6ms/step - loss: 0.5042 - mae: 0.5042\n",
            "Epoch 92/100\n",
            "1/1 [==============================] - 0s 8ms/step - loss: 0.3017 - mae: 0.3017\n",
            "Epoch 93/100\n",
            "1/1 [==============================] - 0s 9ms/step - loss: 0.0940 - mae: 0.0940\n",
            "Epoch 94/100\n",
            "1/1 [==============================] - 0s 9ms/step - loss: 0.7845 - mae: 0.7845\n",
            "Epoch 95/100\n",
            "1/1 [==============================] - 0s 8ms/step - loss: 0.7625 - mae: 0.7625\n",
            "Epoch 96/100\n",
            "1/1 [==============================] - 0s 9ms/step - loss: 0.1959 - mae: 0.1959\n",
            "Epoch 97/100\n",
            "1/1 [==============================] - 0s 9ms/step - loss: 0.1071 - mae: 0.1071\n",
            "Epoch 98/100\n",
            "1/1 [==============================] - 0s 9ms/step - loss: 0.7118 - mae: 0.7118\n",
            "Epoch 99/100\n",
            "1/1 [==============================] - 0s 6ms/step - loss: 0.7806 - mae: 0.7806\n",
            "Epoch 100/100\n",
            "1/1 [==============================] - 0s 6ms/step - loss: 0.2188 - mae: 0.2188\n"
          ]
        },
        {
          "output_type": "execute_result",
          "data": {
            "text/plain": [
              "<keras.callbacks.History at 0x7f811c012a90>"
            ]
          },
          "metadata": {},
          "execution_count": 7
        }
      ]
    },
    {
      "cell_type": "code",
      "source": [
        "model.predict([17.0])\n",
        "\n"
      ],
      "metadata": {
        "colab": {
          "base_uri": "https://localhost:8080/"
        },
        "id": "VNrYdzl-Uaec",
        "outputId": "a7afc34d-0e36-4d34-c661-7c85afb0d95f"
      },
      "execution_count": null,
      "outputs": [
        {
          "output_type": "execute_result",
          "data": {
            "text/plain": [
              "array([[30.007158]], dtype=float32)"
            ]
          },
          "metadata": {},
          "execution_count": 8
        }
      ]
    },
    {
      "cell_type": "markdown",
      "source": [
        "create model with larger data"
      ],
      "metadata": {
        "id": "GgHZsaYcoFfc"
      }
    },
    {
      "cell_type": "code",
      "source": [
        "x1=tf.range(-100,100,4)\n",
        "y1=x1+10\n",
        "x1,y1"
      ],
      "metadata": {
        "id": "iJ1Acn0EnvSf",
        "colab": {
          "base_uri": "https://localhost:8080/"
        },
        "outputId": "cac64d1d-91aa-4016-e29e-71b7ed2f9602"
      },
      "execution_count": 3,
      "outputs": [
        {
          "output_type": "execute_result",
          "data": {
            "text/plain": [
              "(<tf.Tensor: shape=(50,), dtype=int32, numpy=\n",
              " array([-100,  -96,  -92,  -88,  -84,  -80,  -76,  -72,  -68,  -64,  -60,\n",
              "         -56,  -52,  -48,  -44,  -40,  -36,  -32,  -28,  -24,  -20,  -16,\n",
              "         -12,   -8,   -4,    0,    4,    8,   12,   16,   20,   24,   28,\n",
              "          32,   36,   40,   44,   48,   52,   56,   60,   64,   68,   72,\n",
              "          76,   80,   84,   88,   92,   96], dtype=int32)>,\n",
              " <tf.Tensor: shape=(50,), dtype=int32, numpy=\n",
              " array([-90, -86, -82, -78, -74, -70, -66, -62, -58, -54, -50, -46, -42,\n",
              "        -38, -34, -30, -26, -22, -18, -14, -10,  -6,  -2,   2,   6,  10,\n",
              "         14,  18,  22,  26,  30,  34,  38,  42,  46,  50,  54,  58,  62,\n",
              "         66,  70,  74,  78,  82,  86,  90,  94,  98, 102, 106], dtype=int32)>)"
            ]
          },
          "metadata": {},
          "execution_count": 3
        }
      ]
    },
    {
      "cell_type": "code",
      "source": [
        "x_train=x1[:40]\n",
        "y_train=y1[:40]\n",
        "x_test=x1[40:]\n",
        "y_test=y1[40:]\n",
        "len(x_test),len(y_test),len(x_train),len(y_train)"
      ],
      "metadata": {
        "colab": {
          "base_uri": "https://localhost:8080/"
        },
        "id": "RyHNYb7PnvN3",
        "outputId": "f208d709-3d74-41dd-f4ba-400543afbb61"
      },
      "execution_count": 4,
      "outputs": [
        {
          "output_type": "execute_result",
          "data": {
            "text/plain": [
              "(10, 10, 40, 40)"
            ]
          },
          "metadata": {},
          "execution_count": 4
        }
      ]
    },
    {
      "cell_type": "markdown",
      "source": [
        "#visualizing our new data "
      ],
      "metadata": {
        "id": "qzBdjfC_pD47"
      }
    },
    {
      "cell_type": "code",
      "source": [
        "plt.scatter(x_train,y_train,c=\"red\",label=\"training data \")\n",
        "plt.scatter(x_test,y_test,c=\"green\",label=\"test data \")\n",
        "plt.legend()"
      ],
      "metadata": {
        "colab": {
          "base_uri": "https://localhost:8080/",
          "height": 282
        },
        "id": "g_b-FUjwosm7",
        "outputId": "0fbd0d23-c5da-4fbb-9128-40145df92e5d"
      },
      "execution_count": 5,
      "outputs": [
        {
          "output_type": "execute_result",
          "data": {
            "text/plain": [
              "<matplotlib.legend.Legend at 0x7f9d69b2f3d0>"
            ]
          },
          "metadata": {},
          "execution_count": 5
        },
        {
          "output_type": "display_data",
          "data": {
            "text/plain": [
              "<Figure size 432x288 with 1 Axes>"
            ],
            "image/png": "[encoded data removed]"
          },
          "metadata": {
            "needs_background": "light"
          }
        }
      ]
    },
    {
      "cell_type": "code",
      "source": [
        "#create model\n",
        "model1=tf.keras.Sequential([\n",
        "tf.keras.layers.Dense(1,input_shape=[1])                            # we have 1 x to predict 1 y in every time \n",
        "\n",
        "])\n",
        "model1.compile(loss=tf.losses.mae,optimizer=tf.keras.optimizers.SGD(),metrics=[\"mae\"])\n",
        "model1.fit(x_train, y_train, epochs=100)"
      ],
      "metadata": {
        "colab": {
          "base_uri": "https://localhost:8080/"
        },
        "id": "fLSE0nYwqwAk",
        "outputId": "659552a3-f50e-4a26-e4f9-2bb8516f6f3b"
      },
      "execution_count": 6,
      "outputs": [
        {
          "output_type": "stream",
          "name": "stdout",
          "text": [
            "Epoch 1/100\n",
            "2/2 [==============================] - 4s 12ms/step - loss: 77.2411 - mae: 77.2411\n",
            "Epoch 2/100\n",
            "2/2 [==============================] - 0s 16ms/step - loss: 44.1107 - mae: 44.1107\n",
            "Epoch 3/100\n",
            "2/2 [==============================] - 0s 12ms/step - loss: 12.3017 - mae: 12.3017\n",
            "Epoch 4/100\n",
            "2/2 [==============================] - 0s 14ms/step - loss: 9.4502 - mae: 9.4502\n",
            "Epoch 5/100\n",
            "2/2 [==============================] - 0s 12ms/step - loss: 7.8879 - mae: 7.8879\n",
            "Epoch 6/100\n",
            "2/2 [==============================] - 0s 11ms/step - loss: 10.5591 - mae: 10.5591\n",
            "Epoch 7/100\n",
            "2/2 [==============================] - 0s 12ms/step - loss: 18.4636 - mae: 18.4636\n",
            "Epoch 8/100\n",
            "2/2 [==============================] - 0s 17ms/step - loss: 9.8394 - mae: 9.8394\n",
            "Epoch 9/100\n",
            "2/2 [==============================] - 0s 15ms/step - loss: 7.8490 - mae: 7.8490\n",
            "Epoch 10/100\n",
            "2/2 [==============================] - 0s 25ms/step - loss: 10.8829 - mae: 10.8829\n",
            "Epoch 11/100\n",
            "2/2 [==============================] - 0s 11ms/step - loss: 15.0975 - mae: 15.0975\n",
            "Epoch 12/100\n",
            "2/2 [==============================] - 0s 10ms/step - loss: 15.2046 - mae: 15.2046\n",
            "Epoch 13/100\n",
            "2/2 [==============================] - 0s 27ms/step - loss: 8.1924 - mae: 8.1924\n",
            "Epoch 14/100\n",
            "2/2 [==============================] - 0s 14ms/step - loss: 7.9949 - mae: 7.9949\n",
            "Epoch 15/100\n",
            "2/2 [==============================] - 0s 13ms/step - loss: 12.3408 - mae: 12.3408\n",
            "Epoch 16/100\n",
            "2/2 [==============================] - 0s 12ms/step - loss: 13.7837 - mae: 13.7837\n",
            "Epoch 17/100\n",
            "2/2 [==============================] - 0s 18ms/step - loss: 12.5845 - mae: 12.5845\n",
            "Epoch 18/100\n",
            "2/2 [==============================] - 0s 17ms/step - loss: 9.8726 - mae: 9.8726\n",
            "Epoch 19/100\n",
            "2/2 [==============================] - 0s 10ms/step - loss: 9.7287 - mae: 9.7287\n",
            "Epoch 20/100\n",
            "2/2 [==============================] - 0s 11ms/step - loss: 8.8867 - mae: 8.8867\n",
            "Epoch 21/100\n",
            "2/2 [==============================] - 0s 20ms/step - loss: 12.9258 - mae: 12.9258\n",
            "Epoch 22/100\n",
            "2/2 [==============================] - 0s 8ms/step - loss: 11.8701 - mae: 11.8701\n",
            "Epoch 23/100\n",
            "2/2 [==============================] - 0s 11ms/step - loss: 8.8406 - mae: 8.8406\n",
            "Epoch 24/100\n",
            "2/2 [==============================] - 0s 19ms/step - loss: 11.6460 - mae: 11.6460\n",
            "Epoch 25/100\n",
            "2/2 [==============================] - 0s 11ms/step - loss: 19.6118 - mae: 19.6118\n",
            "Epoch 26/100\n",
            "2/2 [==============================] - 0s 19ms/step - loss: 15.2011 - mae: 15.2011\n",
            "Epoch 27/100\n",
            "2/2 [==============================] - 0s 7ms/step - loss: 13.6161 - mae: 13.6161\n",
            "Epoch 28/100\n",
            "2/2 [==============================] - 0s 9ms/step - loss: 10.0854 - mae: 10.0854\n",
            "Epoch 29/100\n",
            "2/2 [==============================] - 0s 9ms/step - loss: 9.8756 - mae: 9.8756\n",
            "Epoch 30/100\n",
            "2/2 [==============================] - 0s 9ms/step - loss: 12.7364 - mae: 12.7364\n",
            "Epoch 31/100\n",
            "2/2 [==============================] - 0s 8ms/step - loss: 9.0999 - mae: 9.0999\n",
            "Epoch 32/100\n",
            "2/2 [==============================] - 0s 8ms/step - loss: 8.9221 - mae: 8.9221\n",
            "Epoch 33/100\n",
            "2/2 [==============================] - 0s 8ms/step - loss: 12.3264 - mae: 12.3264\n",
            "Epoch 34/100\n",
            "2/2 [==============================] - 0s 7ms/step - loss: 10.1505 - mae: 10.1505\n",
            "Epoch 35/100\n",
            "2/2 [==============================] - 0s 7ms/step - loss: 12.0882 - mae: 12.0882\n",
            "Epoch 36/100\n",
            "2/2 [==============================] - 0s 9ms/step - loss: 13.4707 - mae: 13.4707\n",
            "Epoch 37/100\n",
            "2/2 [==============================] - 0s 11ms/step - loss: 9.8629 - mae: 9.8629\n",
            "Epoch 38/100\n",
            "2/2 [==============================] - 0s 14ms/step - loss: 17.9347 - mae: 17.9347\n",
            "Epoch 39/100\n",
            "2/2 [==============================] - 0s 11ms/step - loss: 10.2851 - mae: 10.2851\n",
            "Epoch 40/100\n",
            "2/2 [==============================] - 0s 14ms/step - loss: 9.9374 - mae: 9.9374\n",
            "Epoch 41/100\n",
            "2/2 [==============================] - 0s 11ms/step - loss: 9.6184 - mae: 9.6184\n",
            "Epoch 42/100\n",
            "2/2 [==============================] - 0s 23ms/step - loss: 7.4305 - mae: 7.4305\n",
            "Epoch 43/100\n",
            "2/2 [==============================] - 0s 12ms/step - loss: 10.1047 - mae: 10.1047\n",
            "Epoch 44/100\n",
            "2/2 [==============================] - 0s 9ms/step - loss: 8.4667 - mae: 8.4667\n",
            "Epoch 45/100\n",
            "2/2 [==============================] - 0s 11ms/step - loss: 12.9663 - mae: 12.9663\n",
            "Epoch 46/100\n",
            "2/2 [==============================] - 0s 8ms/step - loss: 15.5617 - mae: 15.5617\n",
            "Epoch 47/100\n",
            "2/2 [==============================] - 0s 11ms/step - loss: 8.2679 - mae: 8.2679\n",
            "Epoch 48/100\n",
            "2/2 [==============================] - 0s 28ms/step - loss: 8.0436 - mae: 8.0436\n",
            "Epoch 49/100\n",
            "2/2 [==============================] - 0s 8ms/step - loss: 13.4465 - mae: 13.4465\n",
            "Epoch 50/100\n",
            "2/2 [==============================] - 0s 13ms/step - loss: 8.3625 - mae: 8.3625\n",
            "Epoch 51/100\n",
            "2/2 [==============================] - 0s 16ms/step - loss: 8.3160 - mae: 8.3160\n",
            "Epoch 52/100\n",
            "2/2 [==============================] - 0s 13ms/step - loss: 10.9783 - mae: 10.9783\n",
            "Epoch 53/100\n",
            "2/2 [==============================] - 0s 14ms/step - loss: 8.7930 - mae: 8.7930\n",
            "Epoch 54/100\n",
            "2/2 [==============================] - 0s 8ms/step - loss: 8.7761 - mae: 8.7761\n",
            "Epoch 55/100\n",
            "2/2 [==============================] - 0s 8ms/step - loss: 9.5882 - mae: 9.5882\n",
            "Epoch 56/100\n",
            "2/2 [==============================] - 0s 23ms/step - loss: 8.9907 - mae: 8.9907\n",
            "Epoch 57/100\n",
            "2/2 [==============================] - 0s 8ms/step - loss: 14.0393 - mae: 14.0393\n",
            "Epoch 58/100\n",
            "2/2 [==============================] - 0s 15ms/step - loss: 8.1955 - mae: 8.1955\n",
            "Epoch 59/100\n",
            "2/2 [==============================] - 0s 17ms/step - loss: 12.0110 - mae: 12.0110\n",
            "Epoch 60/100\n",
            "2/2 [==============================] - 0s 17ms/step - loss: 9.0320 - mae: 9.0320\n",
            "Epoch 61/100\n",
            "2/2 [==============================] - 0s 15ms/step - loss: 9.4991 - mae: 9.4991\n",
            "Epoch 62/100\n",
            "2/2 [==============================] - 0s 9ms/step - loss: 8.4301 - mae: 8.4301\n",
            "Epoch 63/100\n",
            "2/2 [==============================] - 0s 16ms/step - loss: 13.6196 - mae: 13.6196\n",
            "Epoch 64/100\n",
            "2/2 [==============================] - 0s 16ms/step - loss: 12.5879 - mae: 12.5879\n",
            "Epoch 65/100\n",
            "2/2 [==============================] - 0s 10ms/step - loss: 11.5618 - mae: 11.5618\n",
            "Epoch 66/100\n",
            "2/2 [==============================] - 0s 14ms/step - loss: 9.7425 - mae: 9.7425\n",
            "Epoch 67/100\n",
            "2/2 [==============================] - 0s 13ms/step - loss: 9.5559 - mae: 9.5559\n",
            "Epoch 68/100\n",
            "2/2 [==============================] - 0s 9ms/step - loss: 11.3391 - mae: 11.3391\n",
            "Epoch 69/100\n",
            "2/2 [==============================] - 0s 13ms/step - loss: 14.9268 - mae: 14.9268\n",
            "Epoch 70/100\n",
            "2/2 [==============================] - 0s 10ms/step - loss: 14.0282 - mae: 14.0282\n",
            "Epoch 71/100\n",
            "2/2 [==============================] - 0s 23ms/step - loss: 17.1688 - mae: 17.1688\n",
            "Epoch 72/100\n",
            "2/2 [==============================] - 0s 9ms/step - loss: 9.2427 - mae: 9.2427\n",
            "Epoch 73/100\n",
            "2/2 [==============================] - 0s 11ms/step - loss: 8.3434 - mae: 8.3434\n",
            "Epoch 74/100\n",
            "2/2 [==============================] - 0s 9ms/step - loss: 11.3799 - mae: 11.3799\n",
            "Epoch 75/100\n",
            "2/2 [==============================] - 0s 11ms/step - loss: 13.2362 - mae: 13.2362\n",
            "Epoch 76/100\n",
            "2/2 [==============================] - 0s 9ms/step - loss: 8.3389 - mae: 8.3389\n",
            "Epoch 77/100\n",
            "2/2 [==============================] - 0s 11ms/step - loss: 7.8748 - mae: 7.8748\n",
            "Epoch 78/100\n",
            "2/2 [==============================] - 0s 11ms/step - loss: 9.4895 - mae: 9.4895\n",
            "Epoch 79/100\n",
            "2/2 [==============================] - 0s 32ms/step - loss: 11.4715 - mae: 11.4715\n",
            "Epoch 80/100\n",
            "2/2 [==============================] - 0s 7ms/step - loss: 9.9887 - mae: 9.9887\n",
            "Epoch 81/100\n",
            "2/2 [==============================] - 0s 13ms/step - loss: 13.5102 - mae: 13.5102\n",
            "Epoch 82/100\n",
            "2/2 [==============================] - 0s 16ms/step - loss: 8.0113 - mae: 8.0113\n",
            "Epoch 83/100\n",
            "2/2 [==============================] - 0s 11ms/step - loss: 9.0046 - mae: 9.0046\n",
            "Epoch 84/100\n",
            "2/2 [==============================] - 0s 8ms/step - loss: 10.2140 - mae: 10.2140\n",
            "Epoch 85/100\n",
            "2/2 [==============================] - 0s 14ms/step - loss: 11.0189 - mae: 11.0189\n",
            "Epoch 86/100\n",
            "2/2 [==============================] - 0s 12ms/step - loss: 10.7169 - mae: 10.7169\n",
            "Epoch 87/100\n",
            "2/2 [==============================] - 0s 18ms/step - loss: 16.7511 - mae: 16.7511\n",
            "Epoch 88/100\n",
            "2/2 [==============================] - 0s 28ms/step - loss: 9.4902 - mae: 9.4902\n",
            "Epoch 89/100\n",
            "2/2 [==============================] - 0s 11ms/step - loss: 9.1077 - mae: 9.1077\n",
            "Epoch 90/100\n",
            "2/2 [==============================] - 0s 13ms/step - loss: 8.6525 - mae: 8.6525\n",
            "Epoch 91/100\n",
            "2/2 [==============================] - 0s 13ms/step - loss: 9.6543 - mae: 9.6543\n",
            "Epoch 92/100\n",
            "2/2 [==============================] - 0s 28ms/step - loss: 10.7960 - mae: 10.7960\n",
            "Epoch 93/100\n",
            "2/2 [==============================] - 0s 6ms/step - loss: 15.8226 - mae: 15.8226\n",
            "Epoch 94/100\n",
            "2/2 [==============================] - 0s 32ms/step - loss: 8.1245 - mae: 8.1245\n",
            "Epoch 95/100\n",
            "2/2 [==============================] - 0s 20ms/step - loss: 10.4577 - mae: 10.4577\n",
            "Epoch 96/100\n",
            "2/2 [==============================] - 0s 16ms/step - loss: 13.3182 - mae: 13.3182\n",
            "Epoch 97/100\n",
            "2/2 [==============================] - 0s 14ms/step - loss: 19.4145 - mae: 19.4145\n",
            "Epoch 98/100\n",
            "2/2 [==============================] - 0s 10ms/step - loss: 10.9607 - mae: 10.9607\n",
            "Epoch 99/100\n",
            "2/2 [==============================] - 0s 12ms/step - loss: 10.8219 - mae: 10.8219\n",
            "Epoch 100/100\n",
            "2/2 [==============================] - 0s 15ms/step - loss: 8.4486 - mae: 8.4486\n"
          ]
        },
        {
          "output_type": "execute_result",
          "data": {
            "text/plain": [
              "<keras.callbacks.History at 0x7f9cef0c0a90>"
            ]
          },
          "metadata": {},
          "execution_count": 6
        }
      ]
    },
    {
      "cell_type": "code",
      "source": [
        ""
      ],
      "metadata": {
        "id": "t-pN6oZ6qv3R"
      },
      "execution_count": null,
      "outputs": []
    },
    {
      "cell_type": "code",
      "source": [
        "model1.summary()"
      ],
      "metadata": {
        "colab": {
          "base_uri": "https://localhost:8080/"
        },
        "id": "JQ5zW7VNs_h2",
        "outputId": "c3b7e2fd-717b-448d-9e22-6b97bcc48cb8"
      },
      "execution_count": null,
      "outputs": [
        {
          "output_type": "stream",
          "name": "stdout",
          "text": [
            "Model: \"sequential\"\n",
            "_________________________________________________________________\n",
            " Layer (type)                Output Shape              Param #   \n",
            "=================================================================\n",
            " dense (Dense)               (None, 1)                 2         \n",
            "                                                                 \n",
            "=================================================================\n",
            "Total params: 2\n",
            "Trainable params: 2\n",
            "Non-trainable params: 0\n",
            "_________________________________________________________________\n"
          ]
        }
      ]
    },
    {
      "cell_type": "code",
      "source": [
        "from tensorflow.keras.utils import plot_model"
      ],
      "metadata": {
        "id": "raCR8aWZs_bP"
      },
      "execution_count": 7,
      "outputs": []
    },
    {
      "cell_type": "code",
      "source": [
        "plot_model(model1,show_shapes=True)"
      ],
      "metadata": {
        "colab": {
          "base_uri": "https://localhost:8080/",
          "height": 201
        },
        "id": "aFPZ2beprqfd",
        "outputId": "6a9bb4d0-253d-4aec-848e-35efa765f64a"
      },
      "execution_count": 8,
      "outputs": [
        {
          "output_type": "execute_result",
          "data": {
            "text/plain": [
              "<IPython.core.display.Image object>"
            ],
            "image/png": "[encoded data removed]"
          },
          "metadata": {},
          "execution_count": 8
        }
      ]
    },
    {
      "cell_type": "code",
      "source": [
        "y_pred=model1.predict(x_test)\n",
        "\n",
        "y_pred"
      ],
      "metadata": {
        "colab": {
          "base_uri": "https://localhost:8080/"
        },
        "id": "iWC_CF5Nsv-Y",
        "outputId": "1f7ce498-5132-495e-ba1a-df69e4afdf08"
      },
      "execution_count": 9,
      "outputs": [
        {
          "output_type": "execute_result",
          "data": {
            "text/plain": [
              "array([[61.156322],\n",
              "       [65.14491 ],\n",
              "       [69.1335  ],\n",
              "       [73.122086],\n",
              "       [77.11067 ],\n",
              "       [81.09926 ],\n",
              "       [85.08785 ],\n",
              "       [89.07644 ],\n",
              "       [93.065025],\n",
              "       [97.05361 ]], dtype=float32)"
            ]
          },
          "metadata": {},
          "execution_count": 9
        }
      ]
    },
    {
      "cell_type": "code",
      "source": [
        "y_test"
      ],
      "metadata": {
        "colab": {
          "base_uri": "https://localhost:8080/"
        },
        "id": "1wlWrcmutKxA",
        "outputId": "0f176596-767c-4b58-e3f9-3f0dc9b61711"
      },
      "execution_count": null,
      "outputs": [
        {
          "output_type": "execute_result",
          "data": {
            "text/plain": [
              "<tf.Tensor: shape=(10,), dtype=int32, numpy=array([ 70,  74,  78,  82,  86,  90,  94,  98, 102, 106], dtype=int32)>"
            ]
          },
          "metadata": {},
          "execution_count": 10
        }
      ]
    },
    {
      "cell_type": "code",
      "source": [
        "def plot_pred(train_data=x_train,train_lable=y_train,test_data=x_test,test_label=y_test,predictions=y_pred):\n",
        "  plt.figure(figsize=(10,7))\n",
        "  plt.scatter(train_data,train_lable,c=\"b\",label=\"training data \")\n",
        "  plt.scatter(test_data,test_label,c=\"g\",label=\"testing data\")\n",
        "  plt.scatter(test_data,predictions,c=\"red\",label=\"predictions\")\n",
        "  plt.legend()"
      ],
      "metadata": {
        "id": "lpt_7-ARt7K3"
      },
      "execution_count": 10,
      "outputs": []
    },
    {
      "cell_type": "code",
      "source": [
        "plot_pred(train_data=x_train,\n",
        "                 train_lable=y_train,\n",
        "                 test_data=x_test,\n",
        "                 test_label=y_test,\n",
        "                 predictions=y_pred)"
      ],
      "metadata": {
        "colab": {
          "base_uri": "https://localhost:8080/",
          "height": 428
        },
        "id": "MV4sacJUvtQn",
        "outputId": "d878131f-53a5-4fbf-f7db-4f08dfcd887d"
      },
      "execution_count": 11,
      "outputs": [
        {
          "output_type": "display_data",
          "data": {
            "text/plain": [
              "<Figure size 720x504 with 1 Axes>"
            ],
            "image/png": "[encoded data removed]"
          },
          "metadata": {
            "needs_background": "light"
          }
        }
      ]
    },
    {
      "cell_type": "code",
      "source": [
        "model1.evaluate(x_test,y_test)"
      ],
      "metadata": {
        "colab": {
          "base_uri": "https://localhost:8080/"
        },
        "id": "bfNzXzbne4y2",
        "outputId": "18509bd4-e8aa-49ab-fe2c-a46b591b73f6"
      },
      "execution_count": 12,
      "outputs": [
        {
          "output_type": "stream",
          "name": "stdout",
          "text": [
            "1/1 [==============================] - 1s 679ms/step - loss: 8.8950 - mae: 8.8950\n"
          ]
        },
        {
          "output_type": "execute_result",
          "data": {
            "text/plain": [
              "[8.895031929016113, 8.895031929016113]"
            ]
          },
          "metadata": {},
          "execution_count": 12
        }
      ]
    },
    {
      "cell_type": "code",
      "source": [
        "mae=tf.metrics.mean_absolute_error(y_test,y_pred)\n",
        "mae1=mae_calc(y_test,y_pred)\n",
        "mse1=mse_calc(y_test,y_pred)"
      ],
      "metadata": {
        "id": "xzTp_frzztwf"
      },
      "execution_count": 46,
      "outputs": []
    },
    {
      "cell_type": "code",
      "source": [
        "y_pred=tf.constant(y_pred)\n",
        "tf.squeeze(y_pred)# shape of y_pred and y_test were diffrent so we have to reshape it \\\n",
        "y_pred,tf.squeeze(y_pred)"
      ],
      "metadata": {
        "colab": {
          "base_uri": "https://localhost:8080/"
        },
        "id": "ijAOYc3RgKav",
        "outputId": "f9dc996e-861d-471d-e5d0-cc37f5c16895"
      },
      "execution_count": null,
      "outputs": [
        {
          "output_type": "execute_result",
          "data": {
            "text/plain": [
              "(<tf.Tensor: shape=(10, 1), dtype=float32, numpy=\n",
              " array([[ 69.95015 ],\n",
              "        [ 74.52599 ],\n",
              "        [ 79.10184 ],\n",
              "        [ 83.67768 ],\n",
              "        [ 88.253525],\n",
              "        [ 92.82937 ],\n",
              "        [ 97.40521 ],\n",
              "        [101.98106 ],\n",
              "        [106.5569  ],\n",
              "        [111.13274 ]], dtype=float32)>,\n",
              " <tf.Tensor: shape=(10,), dtype=float32, numpy=\n",
              " array([ 69.95015 ,  74.52599 ,  79.10184 ,  83.67768 ,  88.253525,\n",
              "         92.82937 ,  97.40521 , 101.98106 , 106.5569  , 111.13274 ],\n",
              "       dtype=float32)>)"
            ]
          },
          "metadata": {},
          "execution_count": 35
        }
      ]
    },
    {
      "cell_type": "code",
      "source": [
        "mae=tf.metrics.mean_absolute_error(y_test,tf.squeeze(y_pred))\n",
        "def mae_calc(y_test=y_test,y_pred=y_pred):\n",
        "  return tf.metrics.mean_absolute_error(y_test,tf.squeeze(y_pred))\n",
        "mae_calc()"
      ],
      "metadata": {
        "colab": {
          "base_uri": "https://localhost:8080/"
        },
        "id": "EfxJwSDTgcPi",
        "outputId": "c9d82d5a-ae97-41de-d276-764b33854da6"
      },
      "execution_count": 23,
      "outputs": [
        {
          "output_type": "execute_result",
          "data": {
            "text/plain": [
              "<tf.Tensor: shape=(), dtype=float32, numpy=8.895032>"
            ]
          },
          "metadata": {},
          "execution_count": 23
        }
      ]
    },
    {
      "cell_type": "code",
      "source": [
        "mse=tf.metrics.mean_squared_error(y_test,tf.squeeze(y_pred))\n",
        "\n",
        "def mse_calc(y_test=y_test,y_pred=y_pred):\n",
        "  return tf.metrics.mean_squared_error(y_test,tf.squeeze(y_pred))\n",
        "mse_calc()"
      ],
      "metadata": {
        "colab": {
          "base_uri": "https://localhost:8080/"
        },
        "id": "jFuRm43eg9nV",
        "outputId": "82039ab9-2a05-41ec-a27a-e8d88217b755"
      },
      "execution_count": 22,
      "outputs": [
        {
          "output_type": "execute_result",
          "data": {
            "text/plain": [
              "<tf.Tensor: shape=(), dtype=float32, numpy=79.12267>"
            ]
          },
          "metadata": {},
          "execution_count": 22
        }
      ]
    },
    {
      "cell_type": "code",
      "source": [
        "#now we want to imporve our model \n",
        "tf.random.set_seed(42)\n",
        "test_model1=tf.keras.Sequential([\n",
        "tf.keras.layers.Dense(100,activation=\"relu\",input_shape=[1]),\n",
        "tf.keras.layers.Dense(100,activation=\"relu\",input_shape=[1]),\n",
        "tf.keras.layers.Dense(1,input_shape=[1])                                 \n",
        "\n",
        "])\n",
        "test_model1.compile(loss=tf.keras.losses.MAE,optimizer=tf.keras.optimizers.Adam(),metrics=[\"mae\"])\n",
        "test_model1.fit(x_train,y_train,epochs=100)"
      ],
      "metadata": {
        "colab": {
          "base_uri": "https://localhost:8080/"
        },
        "id": "pOeYJncyg9jX",
        "outputId": "960f5beb-baaa-4f38-a4ea-68edd63fe536"
      },
      "execution_count": 29,
      "outputs": [
        {
          "output_type": "stream",
          "name": "stdout",
          "text": [
            "Epoch 1/100\n",
            "2/2 [==============================] - 1s 22ms/step - loss: 41.6971 - mae: 41.6971\n",
            "Epoch 2/100\n",
            "2/2 [==============================] - 0s 11ms/step - loss: 38.0372 - mae: 38.0372\n",
            "Epoch 3/100\n",
            "2/2 [==============================] - 0s 10ms/step - loss: 34.6713 - mae: 34.6713\n",
            "Epoch 4/100\n",
            "2/2 [==============================] - 0s 11ms/step - loss: 31.4066 - mae: 31.4066\n",
            "Epoch 5/100\n",
            "2/2 [==============================] - 0s 12ms/step - loss: 28.3796 - mae: 28.3796\n",
            "Epoch 6/100\n",
            "2/2 [==============================] - 0s 11ms/step - loss: 25.5006 - mae: 25.5006\n",
            "Epoch 7/100\n",
            "2/2 [==============================] - 0s 11ms/step - loss: 22.6733 - mae: 22.6733\n",
            "Epoch 8/100\n",
            "2/2 [==============================] - 0s 9ms/step - loss: 19.8073 - mae: 19.8073\n",
            "Epoch 9/100\n",
            "2/2 [==============================] - 0s 9ms/step - loss: 17.1294 - mae: 17.1294\n",
            "Epoch 10/100\n",
            "2/2 [==============================] - 0s 10ms/step - loss: 14.5737 - mae: 14.5737\n",
            "Epoch 11/100\n",
            "2/2 [==============================] - 0s 14ms/step - loss: 11.8730 - mae: 11.8730\n",
            "Epoch 12/100\n",
            "2/2 [==============================] - 0s 19ms/step - loss: 9.3195 - mae: 9.3195\n",
            "Epoch 13/100\n",
            "2/2 [==============================] - 0s 9ms/step - loss: 7.1794 - mae: 7.1794\n",
            "Epoch 14/100\n",
            "2/2 [==============================] - 0s 8ms/step - loss: 6.4142 - mae: 6.4142\n",
            "Epoch 15/100\n",
            "2/2 [==============================] - 0s 10ms/step - loss: 6.8361 - mae: 6.8361\n",
            "Epoch 16/100\n",
            "2/2 [==============================] - 0s 7ms/step - loss: 6.5558 - mae: 6.5558\n",
            "Epoch 17/100\n",
            "2/2 [==============================] - 0s 6ms/step - loss: 6.1779 - mae: 6.1779\n",
            "Epoch 18/100\n",
            "2/2 [==============================] - 0s 9ms/step - loss: 5.3557 - mae: 5.3557\n",
            "Epoch 19/100\n",
            "2/2 [==============================] - 0s 9ms/step - loss: 4.6575 - mae: 4.6575\n",
            "Epoch 20/100\n",
            "2/2 [==============================] - 0s 9ms/step - loss: 4.7061 - mae: 4.7061\n",
            "Epoch 21/100\n",
            "2/2 [==============================] - 0s 9ms/step - loss: 4.9440 - mae: 4.9440\n",
            "Epoch 22/100\n",
            "2/2 [==============================] - 0s 11ms/step - loss: 4.9827 - mae: 4.9827\n",
            "Epoch 23/100\n",
            "2/2 [==============================] - 0s 10ms/step - loss: 4.8683 - mae: 4.8683\n",
            "Epoch 24/100\n",
            "2/2 [==============================] - 0s 10ms/step - loss: 4.6007 - mae: 4.6007\n",
            "Epoch 25/100\n",
            "2/2 [==============================] - 0s 9ms/step - loss: 4.3445 - mae: 4.3445\n",
            "Epoch 26/100\n",
            "2/2 [==============================] - 0s 10ms/step - loss: 4.1228 - mae: 4.1228\n",
            "Epoch 27/100\n",
            "2/2 [==============================] - 0s 10ms/step - loss: 4.0900 - mae: 4.0900\n",
            "Epoch 28/100\n",
            "2/2 [==============================] - 0s 10ms/step - loss: 4.2706 - mae: 4.2706\n",
            "Epoch 29/100\n",
            "2/2 [==============================] - 0s 11ms/step - loss: 4.3278 - mae: 4.3278\n",
            "Epoch 30/100\n",
            "2/2 [==============================] - 0s 11ms/step - loss: 4.2090 - mae: 4.2090\n",
            "Epoch 31/100\n",
            "2/2 [==============================] - 0s 12ms/step - loss: 4.0943 - mae: 4.0943\n",
            "Epoch 32/100\n",
            "2/2 [==============================] - 0s 11ms/step - loss: 4.0510 - mae: 4.0510\n",
            "Epoch 33/100\n",
            "2/2 [==============================] - 0s 13ms/step - loss: 4.1044 - mae: 4.1044\n",
            "Epoch 34/100\n",
            "2/2 [==============================] - 0s 13ms/step - loss: 4.1111 - mae: 4.1111\n",
            "Epoch 35/100\n",
            "2/2 [==============================] - 0s 13ms/step - loss: 4.1089 - mae: 4.1089\n",
            "Epoch 36/100\n",
            "2/2 [==============================] - 0s 15ms/step - loss: 4.1233 - mae: 4.1233\n",
            "Epoch 37/100\n",
            "2/2 [==============================] - 0s 9ms/step - loss: 4.1116 - mae: 4.1116\n",
            "Epoch 38/100\n",
            "2/2 [==============================] - 0s 13ms/step - loss: 4.0710 - mae: 4.0710\n",
            "Epoch 39/100\n",
            "2/2 [==============================] - 0s 14ms/step - loss: 4.0384 - mae: 4.0384\n",
            "Epoch 40/100\n",
            "2/2 [==============================] - 0s 16ms/step - loss: 4.0105 - mae: 4.0105\n",
            "Epoch 41/100\n",
            "2/2 [==============================] - 0s 10ms/step - loss: 4.0030 - mae: 4.0030\n",
            "Epoch 42/100\n",
            "2/2 [==============================] - 0s 9ms/step - loss: 3.9811 - mae: 3.9811\n",
            "Epoch 43/100\n",
            "2/2 [==============================] - 0s 10ms/step - loss: 3.9846 - mae: 3.9846\n",
            "Epoch 44/100\n",
            "2/2 [==============================] - 0s 11ms/step - loss: 3.9816 - mae: 3.9816\n",
            "Epoch 45/100\n",
            "2/2 [==============================] - 0s 9ms/step - loss: 3.9709 - mae: 3.9709\n",
            "Epoch 46/100\n",
            "2/2 [==============================] - 0s 9ms/step - loss: 3.9625 - mae: 3.9625\n",
            "Epoch 47/100\n",
            "2/2 [==============================] - 0s 11ms/step - loss: 3.9451 - mae: 3.9451\n",
            "Epoch 48/100\n",
            "2/2 [==============================] - 0s 10ms/step - loss: 3.9648 - mae: 3.9648\n",
            "Epoch 49/100\n",
            "2/2 [==============================] - 0s 9ms/step - loss: 3.9751 - mae: 3.9751\n",
            "Epoch 50/100\n",
            "2/2 [==============================] - 0s 7ms/step - loss: 3.9972 - mae: 3.9972\n",
            "Epoch 51/100\n",
            "2/2 [==============================] - 0s 9ms/step - loss: 3.9952 - mae: 3.9952\n",
            "Epoch 52/100\n",
            "2/2 [==============================] - 0s 11ms/step - loss: 3.9817 - mae: 3.9817\n",
            "Epoch 53/100\n",
            "2/2 [==============================] - 0s 10ms/step - loss: 3.9015 - mae: 3.9015\n",
            "Epoch 54/100\n",
            "2/2 [==============================] - 0s 11ms/step - loss: 3.8681 - mae: 3.8681\n",
            "Epoch 55/100\n",
            "2/2 [==============================] - 0s 9ms/step - loss: 3.9069 - mae: 3.9069\n",
            "Epoch 56/100\n",
            "2/2 [==============================] - 0s 12ms/step - loss: 3.9646 - mae: 3.9646\n",
            "Epoch 57/100\n",
            "2/2 [==============================] - 0s 11ms/step - loss: 3.9631 - mae: 3.9631\n",
            "Epoch 58/100\n",
            "2/2 [==============================] - 0s 11ms/step - loss: 3.9461 - mae: 3.9461\n",
            "Epoch 59/100\n",
            "2/2 [==============================] - 0s 9ms/step - loss: 3.8641 - mae: 3.8641\n",
            "Epoch 60/100\n",
            "2/2 [==============================] - 0s 11ms/step - loss: 3.8472 - mae: 3.8472\n",
            "Epoch 61/100\n",
            "2/2 [==============================] - 0s 11ms/step - loss: 3.8772 - mae: 3.8772\n",
            "Epoch 62/100\n",
            "2/2 [==============================] - 0s 9ms/step - loss: 3.9299 - mae: 3.9299\n",
            "Epoch 63/100\n",
            "2/2 [==============================] - 0s 11ms/step - loss: 3.9049 - mae: 3.9049\n",
            "Epoch 64/100\n",
            "2/2 [==============================] - 0s 11ms/step - loss: 3.8206 - mae: 3.8206\n",
            "Epoch 65/100\n",
            "2/2 [==============================] - 0s 10ms/step - loss: 3.7845 - mae: 3.7845\n",
            "Epoch 66/100\n",
            "2/2 [==============================] - 0s 11ms/step - loss: 3.8432 - mae: 3.8432\n",
            "Epoch 67/100\n",
            "2/2 [==============================] - 0s 10ms/step - loss: 3.8707 - mae: 3.8707\n",
            "Epoch 68/100\n",
            "2/2 [==============================] - 0s 17ms/step - loss: 3.8211 - mae: 3.8211\n",
            "Epoch 69/100\n",
            "2/2 [==============================] - 0s 11ms/step - loss: 3.7974 - mae: 3.7974\n",
            "Epoch 70/100\n",
            "2/2 [==============================] - 0s 10ms/step - loss: 3.8143 - mae: 3.8143\n",
            "Epoch 71/100\n",
            "2/2 [==============================] - 0s 17ms/step - loss: 3.7835 - mae: 3.7835\n",
            "Epoch 72/100\n",
            "2/2 [==============================] - 0s 10ms/step - loss: 3.7473 - mae: 3.7473\n",
            "Epoch 73/100\n",
            "2/2 [==============================] - 0s 9ms/step - loss: 3.7174 - mae: 3.7174\n",
            "Epoch 74/100\n",
            "2/2 [==============================] - 0s 20ms/step - loss: 3.7238 - mae: 3.7238\n",
            "Epoch 75/100\n",
            "2/2 [==============================] - 0s 11ms/step - loss: 3.7180 - mae: 3.7180\n",
            "Epoch 76/100\n",
            "2/2 [==============================] - 0s 11ms/step - loss: 3.8476 - mae: 3.8476\n",
            "Epoch 77/100\n",
            "2/2 [==============================] - 0s 10ms/step - loss: 3.9555 - mae: 3.9555\n",
            "Epoch 78/100\n",
            "2/2 [==============================] - 0s 10ms/step - loss: 3.8704 - mae: 3.8704\n",
            "Epoch 79/100\n",
            "2/2 [==============================] - 0s 14ms/step - loss: 3.7237 - mae: 3.7237\n",
            "Epoch 80/100\n",
            "2/2 [==============================] - 0s 10ms/step - loss: 3.7251 - mae: 3.7251\n",
            "Epoch 81/100\n",
            "2/2 [==============================] - 0s 10ms/step - loss: 3.7236 - mae: 3.7236\n",
            "Epoch 82/100\n",
            "2/2 [==============================] - 0s 13ms/step - loss: 3.6724 - mae: 3.6724\n",
            "Epoch 83/100\n",
            "2/2 [==============================] - 0s 9ms/step - loss: 3.6630 - mae: 3.6630\n",
            "Epoch 84/100\n",
            "2/2 [==============================] - 0s 11ms/step - loss: 3.7545 - mae: 3.7545\n",
            "Epoch 85/100\n",
            "2/2 [==============================] - 0s 19ms/step - loss: 3.7410 - mae: 3.7410\n",
            "Epoch 86/100\n",
            "2/2 [==============================] - 0s 15ms/step - loss: 3.6056 - mae: 3.6056\n",
            "Epoch 87/100\n",
            "2/2 [==============================] - 0s 10ms/step - loss: 3.5563 - mae: 3.5563\n",
            "Epoch 88/100\n",
            "2/2 [==============================] - 0s 11ms/step - loss: 4.0533 - mae: 4.0533\n",
            "Epoch 89/100\n",
            "2/2 [==============================] - 0s 9ms/step - loss: 4.1013 - mae: 4.1013\n",
            "Epoch 90/100\n",
            "2/2 [==============================] - 0s 9ms/step - loss: 3.5964 - mae: 3.5964\n",
            "Epoch 91/100\n",
            "2/2 [==============================] - 0s 15ms/step - loss: 3.6366 - mae: 3.6366\n",
            "Epoch 92/100\n",
            "2/2 [==============================] - 0s 8ms/step - loss: 3.9145 - mae: 3.9145\n",
            "Epoch 93/100\n",
            "2/2 [==============================] - 0s 14ms/step - loss: 3.9990 - mae: 3.9990\n",
            "Epoch 94/100\n",
            "2/2 [==============================] - 0s 8ms/step - loss: 3.8583 - mae: 3.8583\n",
            "Epoch 95/100\n",
            "2/2 [==============================] - 0s 9ms/step - loss: 3.7159 - mae: 3.7159\n",
            "Epoch 96/100\n",
            "2/2 [==============================] - 0s 9ms/step - loss: 3.6038 - mae: 3.6038\n",
            "Epoch 97/100\n",
            "2/2 [==============================] - 0s 8ms/step - loss: 3.6197 - mae: 3.6197\n",
            "Epoch 98/100\n",
            "2/2 [==============================] - 0s 8ms/step - loss: 3.6247 - mae: 3.6247\n",
            "Epoch 99/100\n",
            "2/2 [==============================] - 0s 8ms/step - loss: 3.5796 - mae: 3.5796\n",
            "Epoch 100/100\n",
            "2/2 [==============================] - 0s 8ms/step - loss: 3.5348 - mae: 3.5348\n"
          ]
        },
        {
          "output_type": "execute_result",
          "data": {
            "text/plain": [
              "<keras.callbacks.History at 0x7f9ceece8a50>"
            ]
          },
          "metadata": {},
          "execution_count": 29
        }
      ]
    },
    {
      "cell_type": "code",
      "source": [
        "y_pred1=test_model1.predict(x_test)\n",
        "\n",
        "plot_pred(predictions=y_pred1)"
      ],
      "metadata": {
        "colab": {
          "base_uri": "https://localhost:8080/",
          "height": 465
        },
        "id": "6vbEEqGolU0B",
        "outputId": "fa77950a-bf03-4147-d018-ec03956d91b5"
      },
      "execution_count": 30,
      "outputs": [
        {
          "output_type": "stream",
          "name": "stdout",
          "text": [
            "WARNING:tensorflow:5 out of the last 5 calls to <function Model.make_predict_function.<locals>.predict_function at 0x7f9ceea63cb0> triggered tf.function retracing. Tracing is expensive and the excessive number of tracings could be due to (1) creating @tf.function repeatedly in a loop, (2) passing tensors with different shapes, (3) passing Python objects instead of tensors. For (1), please define your @tf.function outside of the loop. For (2), @tf.function has experimental_relax_shapes=True option that relaxes argument shapes that can avoid unnecessary retracing. For (3), please refer to https://www.tensorflow.org/guide/function#controlling_retracing and https://www.tensorflow.org/api_docs/python/tf/function for  more details.\n"
          ]
        },
        {
          "output_type": "display_data",
          "data": {
            "text/plain": [
              "<Figure size 720x504 with 1 Axes>"
            ],
            "image/png": "[encoded data removed]"
          },
          "metadata": {
            "needs_background": "light"
          }
        }
      ]
    },
    {
      "cell_type": "code",
      "source": [
        "mae_calc(y_test,y_pred1),mse_calc(y_test,y_pred1)"
      ],
      "metadata": {
        "colab": {
          "base_uri": "https://localhost:8080/"
        },
        "id": "yd9zLh0-vayJ",
        "outputId": "ff651c44-8dd8-478c-8c89-a02cedafcfcc"
      },
      "execution_count": 31,
      "outputs": [
        {
          "output_type": "execute_result",
          "data": {
            "text/plain": [
              "(<tf.Tensor: shape=(), dtype=float32, numpy=4.9934072>,\n",
              " <tf.Tensor: shape=(), dtype=float32, numpy=28.552845>)"
            ]
          },
          "metadata": {},
          "execution_count": 31
        }
      ]
    },
    {
      "cell_type": "code",
      "source": [
        "test_model1.evaluate(x_test,y_test)"
      ],
      "metadata": {
        "colab": {
          "base_uri": "https://localhost:8080/"
        },
        "id": "DMefw0HWwZa4",
        "outputId": "211735b5-87fd-484a-b5e6-702c7aca9063"
      },
      "execution_count": 33,
      "outputs": [
        {
          "output_type": "stream",
          "name": "stdout",
          "text": [
            "1/1 [==============================] - 0s 226ms/step - loss: 4.9934 - mae: 4.9934\n"
          ]
        },
        {
          "output_type": "execute_result",
          "data": {
            "text/plain": [
              "[4.993407249450684, 4.993407249450684]"
            ]
          },
          "metadata": {},
          "execution_count": 33
        }
      ]
    },
    {
      "cell_type": "code",
      "source": [
        "mae2=mae_calc(y_test,y_pred1)\n",
        "mse2=mse_calc(y_test,y_pred1)"
      ],
      "metadata": {
        "id": "q56Uf1180IO0"
      },
      "execution_count": 47,
      "outputs": []
    },
    {
      "cell_type": "code",
      "source": [
        "#now we want to imporve our model for the last time \n",
        "tf.random.set_seed(42)\n",
        "test_model2=tf.keras.Sequential([\n",
        "tf.keras.layers.Dense(100,activation=\"relu\",input_shape=[1]),\n",
        "tf.keras.layers.Dense(100,activation=\"relu\",input_shape=[1]),\n",
        "tf.keras.layers.Dense(1,input_shape=[1])                                 \n",
        "\n",
        "])\n",
        "test_model2.compile(loss=tf.keras.losses.MAE,optimizer=tf.keras.optimizers.Adam(),metrics=[\"mae\"])\n",
        "test_model2.fit(x_train,y_train,epochs=500,verbose=0)"
      ],
      "metadata": {
        "colab": {
          "base_uri": "https://localhost:8080/"
        },
        "id": "ReSIHrAnxiDf",
        "outputId": "6b3e49ba-c475-436d-ca6a-1470eba42e88"
      },
      "execution_count": 36,
      "outputs": [
        {
          "output_type": "execute_result",
          "data": {
            "text/plain": [
              "<keras.callbacks.History at 0x7f9cee7f6fd0>"
            ]
          },
          "metadata": {},
          "execution_count": 36
        }
      ]
    },
    {
      "cell_type": "code",
      "source": [
        "y_pred2=test_model2.predict(x_test)\n",
        "\n",
        "plot_pred(predictions=y_pred2)"
      ],
      "metadata": {
        "colab": {
          "base_uri": "https://localhost:8080/",
          "height": 465
        },
        "id": "9ZEHMMmix8-T",
        "outputId": "6dba274b-53dd-43fa-f1f0-348f5127c3da"
      },
      "execution_count": 37,
      "outputs": [
        {
          "output_type": "stream",
          "name": "stdout",
          "text": [
            "WARNING:tensorflow:6 out of the last 6 calls to <function Model.make_predict_function.<locals>.predict_function at 0x7f9cee781710> triggered tf.function retracing. Tracing is expensive and the excessive number of tracings could be due to (1) creating @tf.function repeatedly in a loop, (2) passing tensors with different shapes, (3) passing Python objects instead of tensors. For (1), please define your @tf.function outside of the loop. For (2), @tf.function has experimental_relax_shapes=True option that relaxes argument shapes that can avoid unnecessary retracing. For (3), please refer to https://www.tensorflow.org/guide/function#controlling_retracing and https://www.tensorflow.org/api_docs/python/tf/function for  more details.\n"
          ]
        },
        {
          "output_type": "display_data",
          "data": {
            "text/plain": [
              "<Figure size 720x504 with 1 Axes>"
            ],
            "image/png": "[encoded data removed]"
          },
          "metadata": {
            "needs_background": "light"
          }
        }
      ]
    },
    {
      "cell_type": "code",
      "source": [
        "mae3=mae_calc(y_test,y_pred2)\n",
        "mse3=mse_calc(y_test,y_pred2) \n",
        "mae3,mse3# we can cunclude that this is the best model so far "
      ],
      "metadata": {
        "colab": {
          "base_uri": "https://localhost:8080/"
        },
        "id": "aDpzDaPiyNos",
        "outputId": "6cfbb3e8-4b65-4d78-83eb-d7f005f5e698"
      },
      "execution_count": 45,
      "outputs": [
        {
          "output_type": "execute_result",
          "data": {
            "text/plain": [
              "(<tf.Tensor: shape=(), dtype=float32, numpy=0.07852783>,\n",
              " <tf.Tensor: shape=(), dtype=float32, numpy=0.0063048797>)"
            ]
          },
          "metadata": {},
          "execution_count": 45
        }
      ]
    },
    {
      "cell_type": "code",
      "source": [
        "#comparing our models result\n",
        "import pandas as pd"
      ],
      "metadata": {
        "id": "KxNHO56hzGSq"
      },
      "execution_count": 42,
      "outputs": []
    },
    {
      "cell_type": "code",
      "source": [
        "model_results=[[\"model1\",mae1.numpy(),mse1.numpy()],\n",
        "               [\"model2\",mae2.numpy(),mse2.numpy()],\n",
        "               [\"model3\",mae3.numpy(),mse3.numpy()]]\n",
        "result=pd.DataFrame(model_results,columns=[\"models\",\"mae\",\"mse\"])               \n",
        "result\n"
      ],
      "metadata": {
        "colab": {
          "base_uri": "https://localhost:8080/",
          "height": 143
        },
        "id": "VputQY5vzPeX",
        "outputId": "614e7cb3-946e-4eab-f1fc-ac83bd26439e"
      },
      "execution_count": 51,
      "outputs": [
        {
          "output_type": "execute_result",
          "data": {
            "text/plain": [
              "   models       mae        mse\n",
              "0  model1  8.895032  79.122673\n",
              "1  model2  4.993407  28.552845\n",
              "2  model3  0.078528   0.006305"
            ],
            "text/html": [
              "\n",
              "  <div id=\"df-9cb3c29b-7126-4c8e-8ac7-7dd67426c0de\">\n",
              "    <div class=\"colab-df-container\">\n",
              "      <div>\n",
              "<style scoped>\n",
              "    .dataframe tbody tr th:only-of-type {\n",
              "        vertical-align: middle;\n",
              "    }\n",
              "\n",
              "    .dataframe tbody tr th {\n",
              "        vertical-align: top;\n",
              "    }\n",
              "\n",
              "    .dataframe thead th {\n",
              "        text-align: right;\n",
              "    }\n",
              "</style>\n",
              "<table border=\"1\" class=\"dataframe\">\n",
              "  <thead>\n",
              "    <tr style=\"text-align: right;\">\n",
              "      <th></th>\n",
              "      <th>models</th>\n",
              "      <th>mae</th>\n",
              "      <th>mse</th>\n",
              "    </tr>\n",
              "  </thead>\n",
              "  <tbody>\n",
              "    <tr>\n",
              "      <th>0</th>\n",
              "      <td>model1</td>\n",
              "      <td>8.895032</td>\n",
              "      <td>79.122673</td>\n",
              "    </tr>\n",
              "    <tr>\n",
              "      <th>1</th>\n",
              "      <td>model2</td>\n",
              "      <td>4.993407</td>\n",
              "      <td>28.552845</td>\n",
              "    </tr>\n",
              "    <tr>\n",
              "      <th>2</th>\n",
              "      <td>model3</td>\n",
              "      <td>0.078528</td>\n",
              "      <td>0.006305</td>\n",
              "    </tr>\n",
              "  </tbody>\n",
              "</table>\n",
              "</div>\n",
              "      <button class=\"colab-df-convert\" onclick=\"convertToInteractive('df-9cb3c29b-7126-4c8e-8ac7-7dd67426c0de')\"\n",
              "              title=\"Convert this dataframe to an interactive table.\"\n",
              "              style=\"display:none;\">\n",
              "        \n",
              "  <svg xmlns=\"http://www.w3.org/2000/svg\" height=\"24px\"viewBox=\"0 0 24 24\"\n",
              "       width=\"24px\">\n",
              "    <path d=\"M0 0h24v24H0V0z\" fill=\"none\"/>\n",
              "    <path d=\"M18.56 5.44l.94 2.06.94-2.06 2.06-.94-2.06-.94-.94-2.06-.94 2.06-2.06.94zm-11 1L8.5 8.5l.94-2.06 2.06-.94-2.06-.94L8.5 2.5l-.94 2.06-2.06.94zm10 10l.94 2.06.94-2.06 2.06-.94-2.06-.94-.94-2.06-.94 2.06-2.06.94z\"/><path d=\"M17.41 7.96l-1.37-1.37c-.4-.4-.92-.59-1.43-.59-.52 0-1.04.2-1.43.59L10.3 9.45l-7.72 7.72c-.78.78-.78 2.05 0 2.83L4 21.41c.39.39.9.59 1.41.59.51 0 1.02-.2 1.41-.59l7.78-7.78 2.81-2.81c.8-.78.8-2.07 0-2.86zM5.41 20L4 18.59l7.72-7.72 1.47 1.35L5.41 20z\"/>\n",
              "  </svg>\n",
              "      </button>\n",
              "      \n",
              "  <style>\n",
              "    .colab-df-container {\n",
              "      display:flex;\n",
              "      flex-wrap:wrap;\n",
              "      gap: 12px;\n",
              "    }\n",
              "\n",
              "    .colab-df-convert {\n",
              "      background-color: #E8F0FE;\n",
              "      border: none;\n",
              "      border-radius: 50%;\n",
              "      cursor: pointer;\n",
              "      display: none;\n",
              "      fill: #1967D2;\n",
              "      height: 32px;\n",
              "      padding: 0 0 0 0;\n",
              "      width: 32px;\n",
              "    }\n",
              "\n",
              "    .colab-df-convert:hover {\n",
              "      background-color: #E2EBFA;\n",
              "      box-shadow: 0px 1px 2px rgba(60, 64, 67, 0.3), 0px 1px 3px 1px rgba(60, 64, 67, 0.15);\n",
              "      fill: #174EA6;\n",
              "    }\n",
              "\n",
              "    [theme=dark] .colab-df-convert {\n",
              "      background-color: #3B4455;\n",
              "      fill: #D2E3FC;\n",
              "    }\n",
              "\n",
              "    [theme=dark] .colab-df-convert:hover {\n",
              "      background-color: #434B5C;\n",
              "      box-shadow: 0px 1px 3px 1px rgba(0, 0, 0, 0.15);\n",
              "      filter: drop-shadow(0px 1px 2px rgba(0, 0, 0, 0.3));\n",
              "      fill: #FFFFFF;\n",
              "    }\n",
              "  </style>\n",
              "\n",
              "      <script>\n",
              "        const buttonEl =\n",
              "          document.querySelector('#df-9cb3c29b-7126-4c8e-8ac7-7dd67426c0de button.colab-df-convert');\n",
              "        buttonEl.style.display =\n",
              "          google.colab.kernel.accessAllowed ? 'block' : 'none';\n",
              "\n",
              "        async function convertToInteractive(key) {\n",
              "          const element = document.querySelector('#df-9cb3c29b-7126-4c8e-8ac7-7dd67426c0de');\n",
              "          const dataTable =\n",
              "            await google.colab.kernel.invokeFunction('convertToInteractive',\n",
              "                                                     [key], {});\n",
              "          if (!dataTable) return;\n",
              "\n",
              "          const docLinkHtml = 'Like what you see? Visit the ' +\n",
              "            '<a target=\"_blank\" href=https://colab.research.google.com/notebooks/data_table.ipynb>data table notebook</a>'\n",
              "            + ' to learn more about interactive tables.';\n",
              "          element.innerHTML = '';\n",
              "          dataTable['output_type'] = 'display_data';\n",
              "          await google.colab.output.renderOutput(dataTable, element);\n",
              "          const docLink = document.createElement('div');\n",
              "          docLink.innerHTML = docLinkHtml;\n",
              "          element.appendChild(docLink);\n",
              "        }\n",
              "      </script>\n",
              "    </div>\n",
              "  </div>\n",
              "  "
            ]
          },
          "metadata": {},
          "execution_count": 51
        }
      ]
    },
    {
      "cell_type": "code",
      "source": [
        "test_model2.summary()"
      ],
      "metadata": {
        "colab": {
          "base_uri": "https://localhost:8080/"
        },
        "id": "XwNRe8Cr0yOj",
        "outputId": "d24b6340-5cae-4c7e-bf31-fee9ba6333f1"
      },
      "execution_count": 53,
      "outputs": [
        {
          "output_type": "stream",
          "name": "stdout",
          "text": [
            "Model: \"sequential_9\"\n",
            "_________________________________________________________________\n",
            " Layer (type)                Output Shape              Param #   \n",
            "=================================================================\n",
            " dense_22 (Dense)            (None, 100)               200       \n",
            "                                                                 \n",
            " dense_23 (Dense)            (None, 100)               10100     \n",
            "                                                                 \n",
            " dense_24 (Dense)            (None, 1)                 101       \n",
            "                                                                 \n",
            "=================================================================\n",
            "Total params: 10,401\n",
            "Trainable params: 10,401\n",
            "Non-trainable params: 0\n",
            "_________________________________________________________________\n"
          ]
        }
      ]
    },
    {
      "cell_type": "code",
      "source": [
        "#saving model2\n",
        "test_model2.save(\"xAndY_reggresion\")"
      ],
      "metadata": {
        "colab": {
          "base_uri": "https://localhost:8080/"
        },
        "id": "WNelE0bE4TJX",
        "outputId": "9568b3fe-945e-4fad-aa30-3cb206ef6f9c"
      },
      "execution_count": 54,
      "outputs": [
        {
          "output_type": "stream",
          "name": "stdout",
          "text": [
            "INFO:tensorflow:Assets written to: xAndY_reggresion/assets\n"
          ]
        }
      ]
    },
    {
      "cell_type": "code",
      "source": [
        "#load model and compare the modelsb\n",
        " \n",
        "loaded=tf.keras.models.load_model(\"/content/xAndY_reggresion\")\n",
        "result_loaded=loaded.predict(x_test)\n",
        "mae_calc(y_test,y_pred2)==mae_calc(y_test,result_loaded)\n",
        "y_pred2==result_loaded"
      ],
      "metadata": {
        "colab": {
          "base_uri": "https://localhost:8080/"
        },
        "id": "yUFTC3Vb_CEI",
        "outputId": "d990d62f-45d4-424e-d420-21f757679e11"
      },
      "execution_count": 75,
      "outputs": [
        {
          "output_type": "execute_result",
          "data": {
            "text/plain": [
              "array([[ True],\n",
              "       [ True],\n",
              "       [ True],\n",
              "       [ True],\n",
              "       [ True],\n",
              "       [ True],\n",
              "       [ True],\n",
              "       [ True],\n",
              "       [ True],\n",
              "       [ True]])"
            ]
          },
          "metadata": {},
          "execution_count": 75
        }
      ]
    },
    {
      "cell_type": "code",
      "source": [
        "from google.colab import files # downloading our model\n",
        "#files.download(\"/content/xAndY_reggresion\")"
      ],
      "metadata": {
        "id": "tda6iBujDML6"
      },
      "execution_count": null,
      "outputs": []
    },
    {
      "cell_type": "markdown",
      "source": [
        "###**creating new model**\n",
        "\n"
      ],
      "metadata": {
        "id": "NNsv8m_5FcmN"
      }
    },
    {
      "cell_type": "code",
      "source": [
        "import tensorflow as tf\n",
        "import pandas as pd\n",
        "import matplotlib.pyplot as plt\n"
      ],
      "metadata": {
        "id": "9dpQ_pJ9Fihv"
      },
      "execution_count": 80,
      "outputs": []
    },
    {
      "cell_type": "code",
      "source": [
        "insurance = pd.read_csv(\"https://raw.githubusercontent.com/stedy/Machine-Learning-with-R-datasets/master/insurance.csv\")\n"
      ],
      "metadata": {
        "id": "uyCYrGmPFowd"
      },
      "execution_count": 81,
      "outputs": []
    },
    {
      "cell_type": "code",
      "source": [
        "insuranc"
      ],
      "metadata": {
        "colab": {
          "base_uri": "https://localhost:8080/",
          "height": 424
        },
        "id": "KCFs0lovFxJZ",
        "outputId": "35788520-94ad-4267-b0b9-c53a1d668cd9"
      },
      "execution_count": 82,
      "outputs": [
        {
          "output_type": "execute_result",
          "data": {
            "text/plain": [
              "      age     sex     bmi  children smoker     region      charges\n",
              "0      19  female  27.900         0    yes  southwest  16884.92400\n",
              "1      18    male  33.770         1     no  southeast   1725.55230\n",
              "2      28    male  33.000         3     no  southeast   4449.46200\n",
              "3      33    male  22.705         0     no  northwest  21984.47061\n",
              "4      32    male  28.880         0     no  northwest   3866.85520\n",
              "...   ...     ...     ...       ...    ...        ...          ...\n",
              "1333   50    male  30.970         3     no  northwest  10600.54830\n",
              "1334   18  female  31.920         0     no  northeast   2205.98080\n",
              "1335   18  female  36.850         0     no  southeast   1629.83350\n",
              "1336   21  female  25.800         0     no  southwest   2007.94500\n",
              "1337   61  female  29.070         0    yes  northwest  29141.36030\n",
              "\n",
              "[1338 rows x 7 columns]"
            ],
            "text/html": [
              "\n",
              "  <div id=\"df-ad8d8466-f66e-4d30-93f5-b1c4b64c44db\">\n",
              "    <div class=\"colab-df-container\">\n",
              "      <div>\n",
              "<style scoped>\n",
              "    .dataframe tbody tr th:only-of-type {\n",
              "        vertical-align: middle;\n",
              "    }\n",
              "\n",
              "    .dataframe tbody tr th {\n",
              "        vertical-align: top;\n",
              "    }\n",
              "\n",
              "    .dataframe thead th {\n",
              "        text-align: right;\n",
              "    }\n",
              "</style>\n",
              "<table border=\"1\" class=\"dataframe\">\n",
              "  <thead>\n",
              "    <tr style=\"text-align: right;\">\n",
              "      <th></th>\n",
              "      <th>age</th>\n",
              "      <th>sex</th>\n",
              "      <th>bmi</th>\n",
              "      <th>children</th>\n",
              "      <th>smoker</th>\n",
              "      <th>region</th>\n",
              "      <th>charges</th>\n",
              "    </tr>\n",
              "  </thead>\n",
              "  <tbody>\n",
              "    <tr>\n",
              "      <th>0</th>\n",
              "      <td>19</td>\n",
              "      <td>female</td>\n",
              "      <td>27.900</td>\n",
              "      <td>0</td>\n",
              "      <td>yes</td>\n",
              "      <td>southwest</td>\n",
              "      <td>16884.92400</td>\n",
              "    </tr>\n",
              "    <tr>\n",
              "      <th>1</th>\n",
              "      <td>18</td>\n",
              "      <td>male</td>\n",
              "      <td>33.770</td>\n",
              "      <td>1</td>\n",
              "      <td>no</td>\n",
              "      <td>southeast</td>\n",
              "      <td>1725.55230</td>\n",
              "    </tr>\n",
              "    <tr>\n",
              "      <th>2</th>\n",
              "      <td>28</td>\n",
              "      <td>male</td>\n",
              "      <td>33.000</td>\n",
              "      <td>3</td>\n",
              "      <td>no</td>\n",
              "      <td>southeast</td>\n",
              "      <td>4449.46200</td>\n",
              "    </tr>\n",
              "    <tr>\n",
              "      <th>3</th>\n",
              "      <td>33</td>\n",
              "      <td>male</td>\n",
              "      <td>22.705</td>\n",
              "      <td>0</td>\n",
              "      <td>no</td>\n",
              "      <td>northwest</td>\n",
              "      <td>21984.47061</td>\n",
              "    </tr>\n",
              "    <tr>\n",
              "      <th>4</th>\n",
              "      <td>32</td>\n",
              "      <td>male</td>\n",
              "      <td>28.880</td>\n",
              "      <td>0</td>\n",
              "      <td>no</td>\n",
              "      <td>northwest</td>\n",
              "      <td>3866.85520</td>\n",
              "    </tr>\n",
              "    <tr>\n",
              "      <th>...</th>\n",
              "      <td>...</td>\n",
              "      <td>...</td>\n",
              "      <td>...</td>\n",
              "      <td>...</td>\n",
              "      <td>...</td>\n",
              "      <td>...</td>\n",
              "      <td>...</td>\n",
              "    </tr>\n",
              "    <tr>\n",
              "      <th>1333</th>\n",
              "      <td>50</td>\n",
              "      <td>male</td>\n",
              "      <td>30.970</td>\n",
              "      <td>3</td>\n",
              "      <td>no</td>\n",
              "      <td>northwest</td>\n",
              "      <td>10600.54830</td>\n",
              "    </tr>\n",
              "    <tr>\n",
              "      <th>1334</th>\n",
              "      <td>18</td>\n",
              "      <td>female</td>\n",
              "      <td>31.920</td>\n",
              "      <td>0</td>\n",
              "      <td>no</td>\n",
              "      <td>northeast</td>\n",
              "      <td>2205.98080</td>\n",
              "    </tr>\n",
              "    <tr>\n",
              "      <th>1335</th>\n",
              "      <td>18</td>\n",
              "      <td>female</td>\n",
              "      <td>36.850</td>\n",
              "      <td>0</td>\n",
              "      <td>no</td>\n",
              "      <td>southeast</td>\n",
              "      <td>1629.83350</td>\n",
              "    </tr>\n",
              "    <tr>\n",
              "      <th>1336</th>\n",
              "      <td>21</td>\n",
              "      <td>female</td>\n",
              "      <td>25.800</td>\n",
              "      <td>0</td>\n",
              "      <td>no</td>\n",
              "      <td>southwest</td>\n",
              "      <td>2007.94500</td>\n",
              "    </tr>\n",
              "    <tr>\n",
              "      <th>1337</th>\n",
              "      <td>61</td>\n",
              "      <td>female</td>\n",
              "      <td>29.070</td>\n",
              "      <td>0</td>\n",
              "      <td>yes</td>\n",
              "      <td>northwest</td>\n",
              "      <td>29141.36030</td>\n",
              "    </tr>\n",
              "  </tbody>\n",
              "</table>\n",
              "<p>1338 rows × 7 columns</p>\n",
              "</div>\n",
              "      <button class=\"colab-df-convert\" onclick=\"convertToInteractive('df-ad8d8466-f66e-4d30-93f5-b1c4b64c44db')\"\n",
              "              title=\"Convert this dataframe to an interactive table.\"\n",
              "              style=\"display:none;\">\n",
              "        \n",
              "  <svg xmlns=\"http://www.w3.org/2000/svg\" height=\"24px\"viewBox=\"0 0 24 24\"\n",
              "       width=\"24px\">\n",
              "    <path d=\"M0 0h24v24H0V0z\" fill=\"none\"/>\n",
              "    <path d=\"M18.56 5.44l.94 2.06.94-2.06 2.06-.94-2.06-.94-.94-2.06-.94 2.06-2.06.94zm-11 1L8.5 8.5l.94-2.06 2.06-.94-2.06-.94L8.5 2.5l-.94 2.06-2.06.94zm10 10l.94 2.06.94-2.06 2.06-.94-2.06-.94-.94-2.06-.94 2.06-2.06.94z\"/><path d=\"M17.41 7.96l-1.37-1.37c-.4-.4-.92-.59-1.43-.59-.52 0-1.04.2-1.43.59L10.3 9.45l-7.72 7.72c-.78.78-.78 2.05 0 2.83L4 21.41c.39.39.9.59 1.41.59.51 0 1.02-.2 1.41-.59l7.78-7.78 2.81-2.81c.8-.78.8-2.07 0-2.86zM5.41 20L4 18.59l7.72-7.72 1.47 1.35L5.41 20z\"/>\n",
              "  </svg>\n",
              "      </button>\n",
              "      \n",
              "  <style>\n",
              "    .colab-df-container {\n",
              "      display:flex;\n",
              "      flex-wrap:wrap;\n",
              "      gap: 12px;\n",
              "    }\n",
              "\n",
              "    .colab-df-convert {\n",
              "      background-color: #E8F0FE;\n",
              "      border: none;\n",
              "      border-radius: 50%;\n",
              "      cursor: pointer;\n",
              "      display: none;\n",
              "      fill: #1967D2;\n",
              "      height: 32px;\n",
              "      padding: 0 0 0 0;\n",
              "      width: 32px;\n",
              "    }\n",
              "\n",
              "    .colab-df-convert:hover {\n",
              "      background-color: #E2EBFA;\n",
              "      box-shadow: 0px 1px 2px rgba(60, 64, 67, 0.3), 0px 1px 3px 1px rgba(60, 64, 67, 0.15);\n",
              "      fill: #174EA6;\n",
              "    }\n",
              "\n",
              "    [theme=dark] .colab-df-convert {\n",
              "      background-color: #3B4455;\n",
              "      fill: #D2E3FC;\n",
              "    }\n",
              "\n",
              "    [theme=dark] .colab-df-convert:hover {\n",
              "      background-color: #434B5C;\n",
              "      box-shadow: 0px 1px 3px 1px rgba(0, 0, 0, 0.15);\n",
              "      filter: drop-shadow(0px 1px 2px rgba(0, 0, 0, 0.3));\n",
              "      fill: #FFFFFF;\n",
              "    }\n",
              "  </style>\n",
              "\n",
              "      <script>\n",
              "        const buttonEl =\n",
              "          document.querySelector('#df-ad8d8466-f66e-4d30-93f5-b1c4b64c44db button.colab-df-convert');\n",
              "        buttonEl.style.display =\n",
              "          google.colab.kernel.accessAllowed ? 'block' : 'none';\n",
              "\n",
              "        async function convertToInteractive(key) {\n",
              "          const element = document.querySelector('#df-ad8d8466-f66e-4d30-93f5-b1c4b64c44db');\n",
              "          const dataTable =\n",
              "            await google.colab.kernel.invokeFunction('convertToInteractive',\n",
              "                                                     [key], {});\n",
              "          if (!dataTable) return;\n",
              "\n",
              "          const docLinkHtml = 'Like what you see? Visit the ' +\n",
              "            '<a target=\"_blank\" href=https://colab.research.google.com/notebooks/data_table.ipynb>data table notebook</a>'\n",
              "            + ' to learn more about interactive tables.';\n",
              "          element.innerHTML = '';\n",
              "          dataTable['output_type'] = 'display_data';\n",
              "          await google.colab.output.renderOutput(dataTable, element);\n",
              "          const docLink = document.createElement('div');\n",
              "          docLink.innerHTML = docLinkHtml;\n",
              "          element.appendChild(docLink);\n",
              "        }\n",
              "      </script>\n",
              "    </div>\n",
              "  </div>\n",
              "  "
            ]
          },
          "metadata": {},
          "execution_count": 82
        }
      ]
    },
    {
      "cell_type": "code",
      "source": [
        "#converting our categorical data into numerical\n",
        "insurance_one_hot= pd.get_dummies(insurance  )\n",
        "insurance_one_hot"
      ],
      "metadata": {
        "colab": {
          "base_uri": "https://localhost:8080/",
          "height": 488
        },
        "id": "eS3TaCmPHPYi",
        "outputId": "7f5f6c72-037d-455f-b8cf-f4a9024ca42e"
      },
      "execution_count": 86,
      "outputs": [
        {
          "output_type": "execute_result",
          "data": {
            "text/plain": [
              "      age     bmi  children      charges  sex_female  sex_male  smoker_no  \\\n",
              "0      19  27.900         0  16884.92400           1         0          0   \n",
              "1      18  33.770         1   1725.55230           0         1          1   \n",
              "2      28  33.000         3   4449.46200           0         1          1   \n",
              "3      33  22.705         0  21984.47061           0         1          1   \n",
              "4      32  28.880         0   3866.85520           0         1          1   \n",
              "...   ...     ...       ...          ...         ...       ...        ...   \n",
              "1333   50  30.970         3  10600.54830           0         1          1   \n",
              "1334   18  31.920         0   2205.98080           1         0          1   \n",
              "1335   18  36.850         0   1629.83350           1         0          1   \n",
              "1336   21  25.800         0   2007.94500           1         0          1   \n",
              "1337   61  29.070         0  29141.36030           1         0          0   \n",
              "\n",
              "      smoker_yes  region_northeast  region_northwest  region_southeast  \\\n",
              "0              1                 0                 0                 0   \n",
              "1              0                 0                 0                 1   \n",
              "2              0                 0                 0                 1   \n",
              "3              0                 0                 1                 0   \n",
              "4              0                 0                 1                 0   \n",
              "...          ...               ...               ...               ...   \n",
              "1333           0                 0                 1                 0   \n",
              "1334           0                 1                 0                 0   \n",
              "1335           0                 0                 0                 1   \n",
              "1336           0                 0                 0                 0   \n",
              "1337           1                 0                 1                 0   \n",
              "\n",
              "      region_southwest  \n",
              "0                    1  \n",
              "1                    0  \n",
              "2                    0  \n",
              "3                    0  \n",
              "4                    0  \n",
              "...                ...  \n",
              "1333                 0  \n",
              "1334                 0  \n",
              "1335                 0  \n",
              "1336                 1  \n",
              "1337                 0  \n",
              "\n",
              "[1338 rows x 12 columns]"
            ],
            "text/html": [
              "\n",
              "  <div id=\"df-63403e8f-bb7e-4d98-91f4-6a42978db9a3\">\n",
              "    <div class=\"colab-df-container\">\n",
              "      <div>\n",
              "<style scoped>\n",
              "    .dataframe tbody tr th:only-of-type {\n",
              "        vertical-align: middle;\n",
              "    }\n",
              "\n",
              "    .dataframe tbody tr th {\n",
              "        vertical-align: top;\n",
              "    }\n",
              "\n",
              "    .dataframe thead th {\n",
              "        text-align: right;\n",
              "    }\n",
              "</style>\n",
              "<table border=\"1\" class=\"dataframe\">\n",
              "  <thead>\n",
              "    <tr style=\"text-align: right;\">\n",
              "      <th></th>\n",
              "      <th>age</th>\n",
              "      <th>bmi</th>\n",
              "      <th>children</th>\n",
              "      <th>charges</th>\n",
              "      <th>sex_female</th>\n",
              "      <th>sex_male</th>\n",
              "      <th>smoker_no</th>\n",
              "      <th>smoker_yes</th>\n",
              "      <th>region_northeast</th>\n",
              "      <th>region_northwest</th>\n",
              "      <th>region_southeast</th>\n",
              "      <th>region_southwest</th>\n",
              "    </tr>\n",
              "  </thead>\n",
              "  <tbody>\n",
              "    <tr>\n",
              "      <th>0</th>\n",
              "      <td>19</td>\n",
              "      <td>27.900</td>\n",
              "      <td>0</td>\n",
              "      <td>16884.92400</td>\n",
              "      <td>1</td>\n",
              "      <td>0</td>\n",
              "      <td>0</td>\n",
              "      <td>1</td>\n",
              "      <td>0</td>\n",
              "      <td>0</td>\n",
              "      <td>0</td>\n",
              "      <td>1</td>\n",
              "    </tr>\n",
              "    <tr>\n",
              "      <th>1</th>\n",
              "      <td>18</td>\n",
              "      <td>33.770</td>\n",
              "      <td>1</td>\n",
              "      <td>1725.55230</td>\n",
              "      <td>0</td>\n",
              "      <td>1</td>\n",
              "      <td>1</td>\n",
              "      <td>0</td>\n",
              "      <td>0</td>\n",
              "      <td>0</td>\n",
              "      <td>1</td>\n",
              "      <td>0</td>\n",
              "    </tr>\n",
              "    <tr>\n",
              "      <th>2</th>\n",
              "      <td>28</td>\n",
              "      <td>33.000</td>\n",
              "      <td>3</td>\n",
              "      <td>4449.46200</td>\n",
              "      <td>0</td>\n",
              "      <td>1</td>\n",
              "      <td>1</td>\n",
              "      <td>0</td>\n",
              "      <td>0</td>\n",
              "      <td>0</td>\n",
              "      <td>1</td>\n",
              "      <td>0</td>\n",
              "    </tr>\n",
              "    <tr>\n",
              "      <th>3</th>\n",
              "      <td>33</td>\n",
              "      <td>22.705</td>\n",
              "      <td>0</td>\n",
              "      <td>21984.47061</td>\n",
              "      <td>0</td>\n",
              "      <td>1</td>\n",
              "      <td>1</td>\n",
              "      <td>0</td>\n",
              "      <td>0</td>\n",
              "      <td>1</td>\n",
              "      <td>0</td>\n",
              "      <td>0</td>\n",
              "    </tr>\n",
              "    <tr>\n",
              "      <th>4</th>\n",
              "      <td>32</td>\n",
              "      <td>28.880</td>\n",
              "      <td>0</td>\n",
              "      <td>3866.85520</td>\n",
              "      <td>0</td>\n",
              "      <td>1</td>\n",
              "      <td>1</td>\n",
              "      <td>0</td>\n",
              "      <td>0</td>\n",
              "      <td>1</td>\n",
              "      <td>0</td>\n",
              "      <td>0</td>\n",
              "    </tr>\n",
              "    <tr>\n",
              "      <th>...</th>\n",
              "      <td>...</td>\n",
              "      <td>...</td>\n",
              "      <td>...</td>\n",
              "      <td>...</td>\n",
              "      <td>...</td>\n",
              "      <td>...</td>\n",
              "      <td>...</td>\n",
              "      <td>...</td>\n",
              "      <td>...</td>\n",
              "      <td>...</td>\n",
              "      <td>...</td>\n",
              "      <td>...</td>\n",
              "    </tr>\n",
              "    <tr>\n",
              "      <th>1333</th>\n",
              "      <td>50</td>\n",
              "      <td>30.970</td>\n",
              "      <td>3</td>\n",
              "      <td>10600.54830</td>\n",
              "      <td>0</td>\n",
              "      <td>1</td>\n",
              "      <td>1</td>\n",
              "      <td>0</td>\n",
              "      <td>0</td>\n",
              "      <td>1</td>\n",
              "      <td>0</td>\n",
              "      <td>0</td>\n",
              "    </tr>\n",
              "    <tr>\n",
              "      <th>1334</th>\n",
              "      <td>18</td>\n",
              "      <td>31.920</td>\n",
              "      <td>0</td>\n",
              "      <td>2205.98080</td>\n",
              "      <td>1</td>\n",
              "      <td>0</td>\n",
              "      <td>1</td>\n",
              "      <td>0</td>\n",
              "      <td>1</td>\n",
              "      <td>0</td>\n",
              "      <td>0</td>\n",
              "      <td>0</td>\n",
              "    </tr>\n",
              "    <tr>\n",
              "      <th>1335</th>\n",
              "      <td>18</td>\n",
              "      <td>36.850</td>\n",
              "      <td>0</td>\n",
              "      <td>1629.83350</td>\n",
              "      <td>1</td>\n",
              "      <td>0</td>\n",
              "      <td>1</td>\n",
              "      <td>0</td>\n",
              "      <td>0</td>\n",
              "      <td>0</td>\n",
              "      <td>1</td>\n",
              "      <td>0</td>\n",
              "    </tr>\n",
              "    <tr>\n",
              "      <th>1336</th>\n",
              "      <td>21</td>\n",
              "      <td>25.800</td>\n",
              "      <td>0</td>\n",
              "      <td>2007.94500</td>\n",
              "      <td>1</td>\n",
              "      <td>0</td>\n",
              "      <td>1</td>\n",
              "      <td>0</td>\n",
              "      <td>0</td>\n",
              "      <td>0</td>\n",
              "      <td>0</td>\n",
              "      <td>1</td>\n",
              "    </tr>\n",
              "    <tr>\n",
              "      <th>1337</th>\n",
              "      <td>61</td>\n",
              "      <td>29.070</td>\n",
              "      <td>0</td>\n",
              "      <td>29141.36030</td>\n",
              "      <td>1</td>\n",
              "      <td>0</td>\n",
              "      <td>0</td>\n",
              "      <td>1</td>\n",
              "      <td>0</td>\n",
              "      <td>1</td>\n",
              "      <td>0</td>\n",
              "      <td>0</td>\n",
              "    </tr>\n",
              "  </tbody>\n",
              "</table>\n",
              "<p>1338 rows × 12 columns</p>\n",
              "</div>\n",
              "      <button class=\"colab-df-convert\" onclick=\"convertToInteractive('df-63403e8f-bb7e-4d98-91f4-6a42978db9a3')\"\n",
              "              title=\"Convert this dataframe to an interactive table.\"\n",
              "              style=\"display:none;\">\n",
              "        \n",
              "  <svg xmlns=\"http://www.w3.org/2000/svg\" height=\"24px\"viewBox=\"0 0 24 24\"\n",
              "       width=\"24px\">\n",
              "    <path d=\"M0 0h24v24H0V0z\" fill=\"none\"/>\n",
              "    <path d=\"M18.56 5.44l.94 2.06.94-2.06 2.06-.94-2.06-.94-.94-2.06-.94 2.06-2.06.94zm-11 1L8.5 8.5l.94-2.06 2.06-.94-2.06-.94L8.5 2.5l-.94 2.06-2.06.94zm10 10l.94 2.06.94-2.06 2.06-.94-2.06-.94-.94-2.06-.94 2.06-2.06.94z\"/><path d=\"M17.41 7.96l-1.37-1.37c-.4-.4-.92-.59-1.43-.59-.52 0-1.04.2-1.43.59L10.3 9.45l-7.72 7.72c-.78.78-.78 2.05 0 2.83L4 21.41c.39.39.9.59 1.41.59.51 0 1.02-.2 1.41-.59l7.78-7.78 2.81-2.81c.8-.78.8-2.07 0-2.86zM5.41 20L4 18.59l7.72-7.72 1.47 1.35L5.41 20z\"/>\n",
              "  </svg>\n",
              "      </button>\n",
              "      \n",
              "  <style>\n",
              "    .colab-df-container {\n",
              "      display:flex;\n",
              "      flex-wrap:wrap;\n",
              "      gap: 12px;\n",
              "    }\n",
              "\n",
              "    .colab-df-convert {\n",
              "      background-color: #E8F0FE;\n",
              "      border: none;\n",
              "      border-radius: 50%;\n",
              "      cursor: pointer;\n",
              "      display: none;\n",
              "      fill: #1967D2;\n",
              "      height: 32px;\n",
              "      padding: 0 0 0 0;\n",
              "      width: 32px;\n",
              "    }\n",
              "\n",
              "    .colab-df-convert:hover {\n",
              "      background-color: #E2EBFA;\n",
              "      box-shadow: 0px 1px 2px rgba(60, 64, 67, 0.3), 0px 1px 3px 1px rgba(60, 64, 67, 0.15);\n",
              "      fill: #174EA6;\n",
              "    }\n",
              "\n",
              "    [theme=dark] .colab-df-convert {\n",
              "      background-color: #3B4455;\n",
              "      fill: #D2E3FC;\n",
              "    }\n",
              "\n",
              "    [theme=dark] .colab-df-convert:hover {\n",
              "      background-color: #434B5C;\n",
              "      box-shadow: 0px 1px 3px 1px rgba(0, 0, 0, 0.15);\n",
              "      filter: drop-shadow(0px 1px 2px rgba(0, 0, 0, 0.3));\n",
              "      fill: #FFFFFF;\n",
              "    }\n",
              "  </style>\n",
              "\n",
              "      <script>\n",
              "        const buttonEl =\n",
              "          document.querySelector('#df-63403e8f-bb7e-4d98-91f4-6a42978db9a3 button.colab-df-convert');\n",
              "        buttonEl.style.display =\n",
              "          google.colab.kernel.accessAllowed ? 'block' : 'none';\n",
              "\n",
              "        async function convertToInteractive(key) {\n",
              "          const element = document.querySelector('#df-63403e8f-bb7e-4d98-91f4-6a42978db9a3');\n",
              "          const dataTable =\n",
              "            await google.colab.kernel.invokeFunction('convertToInteractive',\n",
              "                                                     [key], {});\n",
              "          if (!dataTable) return;\n",
              "\n",
              "          const docLinkHtml = 'Like what you see? Visit the ' +\n",
              "            '<a target=\"_blank\" href=https://colab.research.google.com/notebooks/data_table.ipynb>data table notebook</a>'\n",
              "            + ' to learn more about interactive tables.';\n",
              "          element.innerHTML = '';\n",
              "          dataTable['output_type'] = 'display_data';\n",
              "          await google.colab.output.renderOutput(dataTable, element);\n",
              "          const docLink = document.createElement('div');\n",
              "          docLink.innerHTML = docLinkHtml;\n",
              "          element.appendChild(docLink);\n",
              "        }\n",
              "      </script>\n",
              "    </div>\n",
              "  </div>\n",
              "  "
            ]
          },
          "metadata": {},
          "execution_count": 86
        }
      ]
    },
    {
      "cell_type": "code",
      "source": [
        "# spliting our data ro feature and label\n",
        "x=insurance_one_hot.drop(\"charges\",axis=1)\n",
        "y=insurance_one_hot[\"charges\"]\n"
      ],
      "metadata": {
        "colab": {
          "base_uri": "https://localhost:8080/"
        },
        "id": "xACuh0-uIh9l",
        "outputId": "51618c97-c545-490d-d4ad-20989858a95a"
      },
      "execution_count": 92,
      "outputs": [
        {
          "output_type": "execute_result",
          "data": {
            "text/plain": [
              "0       16884.92400\n",
              "1        1725.55230\n",
              "2        4449.46200\n",
              "3       21984.47061\n",
              "4        3866.85520\n",
              "           ...     \n",
              "1333    10600.54830\n",
              "1334     2205.98080\n",
              "1335     1629.83350\n",
              "1336     2007.94500\n",
              "1337    29141.36030\n",
              "Name: charges, Length: 1338, dtype: float64"
            ]
          },
          "metadata": {},
          "execution_count": 92
        }
      ]
    },
    {
      "cell_type": "code",
      "source": [
        "#creating test and train data \n",
        "from sklearn.model_selection import train_test_split\n",
        "\n",
        "x_train, x_test, y_train, y_test = train_test_split(x, y, test_size=0.2, random_state=42)\n"
      ],
      "metadata": {
        "colab": {
          "base_uri": "https://localhost:8080/"
        },
        "id": "1sipt4wPUJv-",
        "outputId": "98b7f30e-3fd9-4539-dd16-018c70be021b"
      },
      "execution_count": 104,
      "outputs": [
        {
          "output_type": "execute_result",
          "data": {
            "text/plain": [
              "1070"
            ]
          },
          "metadata": {},
          "execution_count": 104
        }
      ]
    },
    {
      "cell_type": "code",
      "source": [
        "#create a model\n",
        "insurance_model=tf.keras.Sequential([\n",
        "tf.keras.layers.Dense(10),\n",
        "tf.keras.layers.Dense(10)\n",
        "])\n",
        "insurance_model.compile(loss=tf.keras.losses.mae,optimizer=tf.keras.optimizers.SGD(),metrics=[\"mae\"])\n",
        "insurance_model.fit(x_train,y_train,epochs=100)"
      ],
      "metadata": {
        "colab": {
          "base_uri": "https://localhost:8080/"
        },
        "id": "C7-rpin3WSba",
        "outputId": "61082955-2959-4550-9390-932a5d72bb88"
      },
      "execution_count": 107,
      "outputs": [
        {
          "output_type": "stream",
          "name": "stdout",
          "text": [
            "Epoch 1/100\n",
            "34/34 [==============================] - 1s 6ms/step - loss: 11161.9873 - mae: 11161.9873\n",
            "Epoch 2/100\n",
            "34/34 [==============================] - 0s 7ms/step - loss: 7220.4424 - mae: 7220.4424\n",
            "Epoch 3/100\n",
            "34/34 [==============================] - 0s 6ms/step - loss: 7034.8335 - mae: 7034.8335\n",
            "Epoch 4/100\n",
            "34/34 [==============================] - 0s 6ms/step - loss: 6918.9976 - mae: 6918.9976\n",
            "Epoch 5/100\n",
            "34/34 [==============================] - 0s 6ms/step - loss: 6918.4858 - mae: 6918.4858\n",
            "Epoch 6/100\n",
            "34/34 [==============================] - 0s 6ms/step - loss: 6869.5049 - mae: 6869.5049\n",
            "Epoch 7/100\n",
            "34/34 [==============================] - 0s 5ms/step - loss: 6856.4336 - mae: 6856.4336\n",
            "Epoch 8/100\n",
            "34/34 [==============================] - 0s 6ms/step - loss: 6892.4170 - mae: 6892.4170\n",
            "Epoch 9/100\n",
            "34/34 [==============================] - 0s 6ms/step - loss: 6866.3770 - mae: 6866.3770\n",
            "Epoch 10/100\n",
            "34/34 [==============================] - 0s 5ms/step - loss: 6835.2334 - mae: 6835.2334\n",
            "Epoch 11/100\n",
            "34/34 [==============================] - 0s 5ms/step - loss: 6819.9233 - mae: 6819.9233\n",
            "Epoch 12/100\n",
            "34/34 [==============================] - 0s 6ms/step - loss: 6850.5732 - mae: 6850.5732\n",
            "Epoch 13/100\n",
            "34/34 [==============================] - 0s 7ms/step - loss: 6857.7334 - mae: 6857.7334\n",
            "Epoch 14/100\n",
            "34/34 [==============================] - 0s 6ms/step - loss: 6818.5166 - mae: 6818.5166\n",
            "Epoch 15/100\n",
            "34/34 [==============================] - 0s 7ms/step - loss: 6816.8750 - mae: 6816.8750\n",
            "Epoch 16/100\n",
            "34/34 [==============================] - 0s 7ms/step - loss: 6853.5293 - mae: 6853.5293\n",
            "Epoch 17/100\n",
            "34/34 [==============================] - 0s 7ms/step - loss: 6824.0151 - mae: 6824.0151\n",
            "Epoch 18/100\n",
            "34/34 [==============================] - 0s 6ms/step - loss: 6833.2153 - mae: 6833.2153\n",
            "Epoch 19/100\n",
            "34/34 [==============================] - 0s 7ms/step - loss: 6799.6694 - mae: 6799.6694\n",
            "Epoch 20/100\n",
            "34/34 [==============================] - 0s 5ms/step - loss: 6886.8833 - mae: 6886.8838\n",
            "Epoch 21/100\n",
            "34/34 [==============================] - 0s 5ms/step - loss: 6781.0830 - mae: 6781.0830\n",
            "Epoch 22/100\n",
            "34/34 [==============================] - 0s 6ms/step - loss: 6838.4556 - mae: 6838.4556\n",
            "Epoch 23/100\n",
            "34/34 [==============================] - 0s 5ms/step - loss: 6832.9307 - mae: 6832.9307\n",
            "Epoch 24/100\n",
            "34/34 [==============================] - 0s 6ms/step - loss: 6792.1172 - mae: 6792.1172\n",
            "Epoch 25/100\n",
            "34/34 [==============================] - 0s 5ms/step - loss: 6798.6470 - mae: 6798.6470\n",
            "Epoch 26/100\n",
            "34/34 [==============================] - 0s 5ms/step - loss: 6820.5522 - mae: 6820.5522\n",
            "Epoch 27/100\n",
            "34/34 [==============================] - 0s 6ms/step - loss: 6780.5874 - mae: 6780.5874\n",
            "Epoch 28/100\n",
            "34/34 [==============================] - 0s 6ms/step - loss: 6778.8848 - mae: 6778.8848\n",
            "Epoch 29/100\n",
            "34/34 [==============================] - 0s 6ms/step - loss: 6734.8037 - mae: 6734.8037\n",
            "Epoch 30/100\n",
            "34/34 [==============================] - 0s 5ms/step - loss: 6808.5371 - mae: 6808.5371\n",
            "Epoch 31/100\n",
            "34/34 [==============================] - 0s 5ms/step - loss: 6791.9995 - mae: 6791.9995\n",
            "Epoch 32/100\n",
            "34/34 [==============================] - 0s 6ms/step - loss: 6771.0054 - mae: 6771.0054\n",
            "Epoch 33/100\n",
            "34/34 [==============================] - 0s 5ms/step - loss: 6760.7207 - mae: 6760.7207\n",
            "Epoch 34/100\n",
            "34/34 [==============================] - 0s 5ms/step - loss: 6824.3423 - mae: 6824.3423\n",
            "Epoch 35/100\n",
            "34/34 [==============================] - 0s 6ms/step - loss: 6752.5972 - mae: 6752.5972\n",
            "Epoch 36/100\n",
            "34/34 [==============================] - 0s 7ms/step - loss: 6797.1650 - mae: 6797.1650\n",
            "Epoch 37/100\n",
            "34/34 [==============================] - 0s 6ms/step - loss: 6749.6602 - mae: 6749.6602\n",
            "Epoch 38/100\n",
            "34/34 [==============================] - 0s 6ms/step - loss: 6757.9897 - mae: 6757.9897\n",
            "Epoch 39/100\n",
            "34/34 [==============================] - 0s 6ms/step - loss: 6726.8535 - mae: 6726.8535\n",
            "Epoch 40/100\n",
            "34/34 [==============================] - 0s 6ms/step - loss: 6748.6694 - mae: 6748.6694\n",
            "Epoch 41/100\n",
            "34/34 [==============================] - 0s 5ms/step - loss: 6788.9033 - mae: 6788.9033\n",
            "Epoch 42/100\n",
            "34/34 [==============================] - 0s 6ms/step - loss: 6768.4009 - mae: 6768.4009\n",
            "Epoch 43/100\n",
            "34/34 [==============================] - 0s 6ms/step - loss: 6755.0859 - mae: 6755.0859\n",
            "Epoch 44/100\n",
            "34/34 [==============================] - 0s 6ms/step - loss: 6691.3857 - mae: 6691.3857\n",
            "Epoch 45/100\n",
            "34/34 [==============================] - 0s 5ms/step - loss: 6737.9624 - mae: 6737.9624\n",
            "Epoch 46/100\n",
            "34/34 [==============================] - 0s 5ms/step - loss: 6698.4399 - mae: 6698.4399\n",
            "Epoch 47/100\n",
            "34/34 [==============================] - 0s 6ms/step - loss: 6705.1250 - mae: 6705.1250\n",
            "Epoch 48/100\n",
            "34/34 [==============================] - 0s 6ms/step - loss: 6677.9556 - mae: 6677.9556\n",
            "Epoch 49/100\n",
            "34/34 [==============================] - 0s 6ms/step - loss: 6748.1865 - mae: 6748.1865\n",
            "Epoch 50/100\n",
            "34/34 [==============================] - 0s 6ms/step - loss: 6780.1387 - mae: 6780.1387\n",
            "Epoch 51/100\n",
            "34/34 [==============================] - 0s 7ms/step - loss: 6712.6763 - mae: 6712.6763\n",
            "Epoch 52/100\n",
            "34/34 [==============================] - 0s 6ms/step - loss: 6699.7397 - mae: 6699.7397\n",
            "Epoch 53/100\n",
            "34/34 [==============================] - 0s 7ms/step - loss: 6758.1997 - mae: 6758.1997\n",
            "Epoch 54/100\n",
            "34/34 [==============================] - 0s 7ms/step - loss: 6695.8350 - mae: 6695.8350\n",
            "Epoch 55/100\n",
            "34/34 [==============================] - 0s 7ms/step - loss: 6700.4824 - mae: 6700.4824\n",
            "Epoch 56/100\n",
            "34/34 [==============================] - 0s 6ms/step - loss: 6703.3647 - mae: 6703.3647\n",
            "Epoch 57/100\n",
            "34/34 [==============================] - 0s 6ms/step - loss: 6685.7847 - mae: 6685.7847\n",
            "Epoch 58/100\n",
            "34/34 [==============================] - 0s 6ms/step - loss: 6646.2524 - mae: 6646.2524\n",
            "Epoch 59/100\n",
            "34/34 [==============================] - 0s 6ms/step - loss: 6759.6758 - mae: 6759.6758\n",
            "Epoch 60/100\n",
            "34/34 [==============================] - 0s 7ms/step - loss: 6787.4873 - mae: 6787.4873\n",
            "Epoch 61/100\n",
            "34/34 [==============================] - 0s 7ms/step - loss: 6771.8120 - mae: 6771.8120\n",
            "Epoch 62/100\n",
            "34/34 [==============================] - 0s 6ms/step - loss: 6632.8364 - mae: 6632.8364\n",
            "Epoch 63/100\n",
            "34/34 [==============================] - 0s 6ms/step - loss: 6748.2529 - mae: 6748.2529\n",
            "Epoch 64/100\n",
            "34/34 [==============================] - 0s 6ms/step - loss: 6713.6426 - mae: 6713.6426\n",
            "Epoch 65/100\n",
            "34/34 [==============================] - 0s 6ms/step - loss: 6696.6006 - mae: 6696.6006\n",
            "Epoch 66/100\n",
            "34/34 [==============================] - 0s 5ms/step - loss: 6664.1890 - mae: 6664.1890\n",
            "Epoch 67/100\n",
            "34/34 [==============================] - 0s 6ms/step - loss: 6625.0063 - mae: 6625.0063\n",
            "Epoch 68/100\n",
            "34/34 [==============================] - 0s 6ms/step - loss: 6743.7896 - mae: 6743.7896\n",
            "Epoch 69/100\n",
            "34/34 [==============================] - 0s 6ms/step - loss: 6663.0845 - mae: 6663.0845\n",
            "Epoch 70/100\n",
            "34/34 [==============================] - 0s 6ms/step - loss: 6719.9204 - mae: 6719.9204\n",
            "Epoch 71/100\n",
            "34/34 [==============================] - 0s 7ms/step - loss: 6693.0088 - mae: 6693.0088\n",
            "Epoch 72/100\n",
            "34/34 [==============================] - 0s 7ms/step - loss: 6623.2246 - mae: 6623.2246\n",
            "Epoch 73/100\n",
            "34/34 [==============================] - 0s 6ms/step - loss: 6688.2539 - mae: 6688.2539\n",
            "Epoch 74/100\n",
            "34/34 [==============================] - 0s 6ms/step - loss: 6630.4028 - mae: 6630.4028\n",
            "Epoch 75/100\n",
            "34/34 [==============================] - 0s 6ms/step - loss: 6633.5596 - mae: 6633.5596\n",
            "Epoch 76/100\n",
            "34/34 [==============================] - 0s 7ms/step - loss: 6612.7417 - mae: 6612.7417\n",
            "Epoch 77/100\n",
            "34/34 [==============================] - 0s 6ms/step - loss: 6633.5703 - mae: 6633.5703\n",
            "Epoch 78/100\n",
            "34/34 [==============================] - 0s 6ms/step - loss: 6692.8418 - mae: 6692.8413\n",
            "Epoch 79/100\n",
            "34/34 [==============================] - 0s 5ms/step - loss: 6721.8345 - mae: 6721.8345\n",
            "Epoch 80/100\n",
            "34/34 [==============================] - 0s 6ms/step - loss: 6619.3721 - mae: 6619.3721\n",
            "Epoch 81/100\n",
            "34/34 [==============================] - 0s 5ms/step - loss: 6646.4551 - mae: 6646.4551\n",
            "Epoch 82/100\n",
            "34/34 [==============================] - 0s 6ms/step - loss: 6613.2197 - mae: 6613.2197\n",
            "Epoch 83/100\n",
            "34/34 [==============================] - 0s 5ms/step - loss: 6699.6069 - mae: 6699.6069\n",
            "Epoch 84/100\n",
            "34/34 [==============================] - 0s 6ms/step - loss: 6651.7905 - mae: 6651.7905\n",
            "Epoch 85/100\n",
            "34/34 [==============================] - 0s 6ms/step - loss: 6699.5596 - mae: 6699.5596\n",
            "Epoch 86/100\n",
            "34/34 [==============================] - 0s 6ms/step - loss: 6615.0249 - mae: 6615.0249\n",
            "Epoch 87/100\n",
            "34/34 [==============================] - 0s 6ms/step - loss: 6650.9321 - mae: 6650.9321\n",
            "Epoch 88/100\n",
            "34/34 [==============================] - 0s 5ms/step - loss: 6614.9302 - mae: 6614.9302\n",
            "Epoch 89/100\n",
            "34/34 [==============================] - 0s 6ms/step - loss: 6737.5000 - mae: 6737.5000\n",
            "Epoch 90/100\n",
            "34/34 [==============================] - 0s 6ms/step - loss: 6528.0601 - mae: 6528.0601\n",
            "Epoch 91/100\n",
            "34/34 [==============================] - 0s 6ms/step - loss: 6637.6318 - mae: 6637.6318\n",
            "Epoch 92/100\n",
            "34/34 [==============================] - 0s 6ms/step - loss: 6663.4883 - mae: 6663.4883\n",
            "Epoch 93/100\n",
            "34/34 [==============================] - 0s 6ms/step - loss: 6619.6279 - mae: 6619.6279\n",
            "Epoch 94/100\n",
            "34/34 [==============================] - 0s 6ms/step - loss: 6491.4253 - mae: 6491.4253\n",
            "Epoch 95/100\n",
            "34/34 [==============================] - 0s 7ms/step - loss: 6665.1807 - mae: 6665.1807\n",
            "Epoch 96/100\n",
            "34/34 [==============================] - 0s 5ms/step - loss: 6638.8589 - mae: 6638.8589\n",
            "Epoch 97/100\n",
            "34/34 [==============================] - 0s 7ms/step - loss: 6569.6562 - mae: 6569.6562\n",
            "Epoch 98/100\n",
            "34/34 [==============================] - 0s 7ms/step - loss: 6730.2988 - mae: 6730.2988\n",
            "Epoch 99/100\n",
            "34/34 [==============================] - 0s 6ms/step - loss: 6674.2588 - mae: 6674.2588\n",
            "Epoch 100/100\n",
            "34/34 [==============================] - 0s 6ms/step - loss: 6593.3066 - mae: 6593.3066\n"
          ]
        },
        {
          "output_type": "execute_result",
          "data": {
            "text/plain": [
              "<keras.callbacks.History at 0x7f9ce80e7710>"
            ]
          },
          "metadata": {},
          "execution_count": 107
        }
      ]
    },
    {
      "cell_type": "code",
      "source": [
        "insurance_model.evaluate(x_test,y_test)"
      ],
      "metadata": {
        "colab": {
          "base_uri": "https://localhost:8080/"
        },
        "id": "I2x_p9lZXbpV",
        "outputId": "8e9df9bc-a592-46fe-b9cd-486a101c3d38"
      },
      "execution_count": 108,
      "outputs": [
        {
          "output_type": "stream",
          "name": "stdout",
          "text": [
            "9/9 [==============================] - 0s 6ms/step - loss: 6811.7461 - mae: 6811.7461\n"
          ]
        },
        {
          "output_type": "execute_result",
          "data": {
            "text/plain": [
              "[6811.74609375, 6811.74609375]"
            ]
          },
          "metadata": {},
          "execution_count": 108
        }
      ]
    },
    {
      "cell_type": "code",
      "source": [
        "y_train.median()"
      ],
      "metadata": {
        "colab": {
          "base_uri": "https://localhost:8080/"
        },
        "id": "_d72B8xcXm_G",
        "outputId": "f1326881-700b-4c1e-f343-3b370fef3d60"
      },
      "execution_count": 110,
      "outputs": [
        {
          "output_type": "execute_result",
          "data": {
            "text/plain": [
              "9575.4421"
            ]
          },
          "metadata": {},
          "execution_count": 110
        }
      ]
    },
    {
      "cell_type": "markdown",
      "source": [
        "# New Section"
      ],
      "metadata": {
        "id": "E7x8afXDZ4jr"
      }
    }
  ]
}