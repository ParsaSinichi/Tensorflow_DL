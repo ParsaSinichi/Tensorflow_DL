{
  "cells": [
    {
      "cell_type": "markdown",
      "metadata": {
        "id": "view-in-github",
        "colab_type": "text"
      },
      "source": [
        "<a href=\"https://colab.research.google.com/github/zlximon/Tensorflow_DL/blob/master/regression.ipynb\" target=\"_parent\"><img src=\"https://colab.research.google.com/assets/colab-badge.svg\" alt=\"Open In Colab\"/></a>"
      ]
    },
    {
      "cell_type": "code",
      "execution_count": 23,
      "metadata": {
        "id": "88Zrgcf0Gulw"
      },
      "outputs": [],
      "source": [
        "import tensorflow as tf\n",
        "import numpy as np\n",
        "import matplotlib.pyplot as plt"
      ]
    },
    {
      "cell_type": "code",
      "execution_count": 24,
      "metadata": {
        "colab": {
          "base_uri": "https://localhost:8080/"
        },
        "id": "l8TQvXxhvJRY",
        "outputId": "ef5e9b8e-a250-435d-9672-e64a56502893"
      },
      "outputs": [
        {
          "output_type": "execute_result",
          "data": {
            "text/plain": [
              "(<tf.Tensor: shape=(8,), dtype=float32, numpy=array([-7., -4., -1.,  2.,  5.,  8., 11., 14.], dtype=float32)>,\n",
              " <tf.Tensor: shape=(8,), dtype=float32, numpy=array([ 3.,  6.,  9., 12., 15., 18., 21., 24.], dtype=float32)>)"
            ]
          },
          "metadata": {},
          "execution_count": 24
        }
      ],
      "source": [
        "x=[-7.0, -4.0, -1.0, 2.0, 5.0, 8.0, 11.0, 14.0]\n",
        "y=[3.0, 6.0, 9.0, 12.0, 15.0, 18.0, 21.0, 24.0]\n",
        "x=tf.constant(x,dtype=tf.float32)\n",
        "y=tf.constant(y,dtype=tf.float32)\n",
        "x,y"
      ]
    },
    {
      "cell_type": "markdown",
      "metadata": {
        "id": "UWzcbyh-OGw1"
      },
      "source": [
        ""
      ]
    },
    {
      "cell_type": "code",
      "execution_count": null,
      "metadata": {
        "colab": {
          "background_save": true,
          "base_uri": "https://localhost:8080/",
          "height": 287
        },
        "id": "GKkS2qzFvhuD",
        "outputId": "9d8f2ac1-939f-421e-d401-58a92baea2ad"
      },
      "outputs": [
        {
          "data": {
            "text/plain": [
              "<matplotlib.collections.PathCollection at 0x7f5d40249550>"
            ]
          },
          "execution_count": null,
          "metadata": {},
          "output_type": "execute_result"
        },
        {
          "data": {
            "image/png": "[encoded data removed]",
            "text/plain": [
              "<Figure size 432x288 with 1 Axes>"
            ]
          },
          "metadata": {},
          "output_type": "display_data"
        }
      ],
      "source": [
        "plt.scatter(x, y)"
      ]
    },
    {
      "cell_type": "code",
      "execution_count": null,
      "metadata": {
        "colab": {
          "background_save": true,
          "base_uri": "https://localhost:8080/"
        },
        "id": "V4-vIvtoSWwK",
        "outputId": "bfc334d6-3af8-4f58-d894-fedd9b95f813"
      },
      "outputs": [
        {
          "data": {
            "text/plain": [
              "(<tf.Tensor: shape=(8,), dtype=float32, numpy=array([-7., -4., -1.,  2.,  5.,  8., 11., 14.], dtype=float32)>,\n",
              " <tf.Tensor: shape=(8, 1), dtype=float32, numpy=\n",
              " array([[-7.],\n",
              "        [-4.],\n",
              "        [-1.],\n",
              "        [ 2.],\n",
              "        [ 5.],\n",
              "        [ 8.],\n",
              "        [11.],\n",
              "        [14.]], dtype=float32)>)"
            ]
          },
          "execution_count": null,
          "metadata": {},
          "output_type": "execute_result"
        }
      ],
      "source": [
        "x,tf.expand_dims(x, axis=-1)"
      ]
    },
    {
      "cell_type": "markdown",
      "metadata": {
        "id": "P9bDtEIWSWdX"
      },
      "source": [
        ""
      ]
    },
    {
      "cell_type": "markdown",
      "metadata": {
        "id": "Ghcb_WAPOUgi"
      },
      "source": [
        "so we have to create and compile our model \n",
        "and at the end fitting model "
      ]
    },
    {
      "cell_type": "code",
      "execution_count": null,
      "metadata": {
        "colab": {
          "background_save": true,
          "base_uri": "https://localhost:8080/"
        },
        "id": "Xct84gCHOUcY",
        "outputId": "1824006e-96d2-4194-d93b-fb9bc52f3b1c"
      },
      "outputs": [
        {
          "name": "stdout",
          "output_type": "stream",
          "text": [
            "Epoch 1/10\n",
            "1/1 [==============================] - 4s 4s/step - loss: 11.5048 - mean_absolute_error: 11.5048\n",
            "Epoch 2/10\n",
            "1/1 [==============================] - 0s 11ms/step - loss: 11.3723 - mean_absolute_error: 11.3723\n",
            "Epoch 3/10\n",
            "1/1 [==============================] - 0s 11ms/step - loss: 11.2398 - mean_absolute_error: 11.2398\n",
            "Epoch 4/10\n",
            "1/1 [==============================] - 0s 11ms/step - loss: 11.1073 - mean_absolute_error: 11.1073\n",
            "Epoch 5/10\n",
            "1/1 [==============================] - 0s 14ms/step - loss: 10.9748 - mean_absolute_error: 10.9748\n",
            "Epoch 6/10\n",
            "1/1 [==============================] - 0s 20ms/step - loss: 10.8423 - mean_absolute_error: 10.8423\n",
            "Epoch 7/10\n",
            "1/1 [==============================] - 0s 12ms/step - loss: 10.7098 - mean_absolute_error: 10.7098\n",
            "Epoch 8/10\n",
            "1/1 [==============================] - 0s 9ms/step - loss: 10.5773 - mean_absolute_error: 10.5773\n",
            "Epoch 9/10\n",
            "1/1 [==============================] - 0s 12ms/step - loss: 10.4448 - mean_absolute_error: 10.4448\n",
            "Epoch 10/10\n",
            "1/1 [==============================] - 0s 9ms/step - loss: 10.3123 - mean_absolute_error: 10.3123\n"
          ]
        },
        {
          "data": {
            "text/plain": [
              "<keras.callbacks.History at 0x7f5d40035a10>"
            ]
          },
          "execution_count": null,
          "metadata": {},
          "output_type": "execute_result"
        }
      ],
      "source": [
        "tf.random.set_seed(42)\n",
        "# creating model\n",
        "model =tf.keras.Sequential([\n",
        "                          \n",
        "  tf.keras.layers.Dense(1)                            \n",
        "])\n",
        "# complie \n",
        "tf.keras.metrics.mae\n",
        "model.compile (loss=tf.keras.losses.mae,optimizer=tf.keras.optimizers.SGD(),metrics=tf.keras.metrics.mae)\n",
        "#fit model\n",
        "model.fit(tf.expand_dims(x, axis=-1), y, epochs=10)"
      ]
    },
    {
      "cell_type": "code",
      "execution_count": null,
      "metadata": {
        "colab": {
          "background_save": true,
          "base_uri": "https://localhost:8080/"
        },
        "id": "JhbsWBe5Uanr",
        "outputId": "43ed3428-b0c5-44f7-ae1b-6c2604aadb32"
      },
      "outputs": [
        {
          "data": {
            "text/plain": [
              "array([[15.741023]], dtype=float32)"
            ]
          },
          "execution_count": null,
          "metadata": {},
          "output_type": "execute_result"
        }
      ],
      "source": [
        "model.predict([17.0])"
      ]
    },
    {
      "cell_type": "markdown",
      "metadata": {
        "id": "h6dvjdVfseBB"
      },
      "source": [
        ""
      ]
    },
    {
      "cell_type": "code",
      "execution_count": null,
      "metadata": {
        "colab": {
          "background_save": true,
          "base_uri": "https://localhost:8080/"
        },
        "id": "ER8TWBhXUagz",
        "outputId": "891a7347-dc5c-425f-dcc9-5d16626eef6b"
      },
      "outputs": [
        {
          "name": "stdout",
          "output_type": "stream",
          "text": [
            "Epoch 1/100\n"
          ]
        },
        {
          "name": "stderr",
          "output_type": "stream",
          "text": [
            "/usr/local/lib/python3.7/dist-packages/keras/optimizer_v2/adam.py:105: UserWarning: The `lr` argument is deprecated, use `learning_rate` instead.\n",
            "  super(Adam, self).__init__(name, **kwargs)\n"
          ]
        },
        {
          "name": "stdout",
          "output_type": "stream",
          "text": [
            "1/1 [==============================] - 1s 978ms/step - loss: 14.3099 - mae: 14.3099\n",
            "Epoch 2/100\n",
            "1/1 [==============================] - 0s 12ms/step - loss: 12.1094 - mae: 12.1094\n",
            "Epoch 3/100\n",
            "1/1 [==============================] - 0s 11ms/step - loss: 10.0935 - mae: 10.0935\n",
            "Epoch 4/100\n",
            "1/1 [==============================] - 0s 10ms/step - loss: 7.7100 - mae: 7.7100\n",
            "Epoch 5/100\n",
            "1/1 [==============================] - 0s 15ms/step - loss: 4.1881 - mae: 4.1881\n",
            "Epoch 6/100\n",
            "1/1 [==============================] - 0s 10ms/step - loss: 6.0951 - mae: 6.0951\n",
            "Epoch 7/100\n",
            "1/1 [==============================] - 0s 11ms/step - loss: 7.2322 - mae: 7.2322\n",
            "Epoch 8/100\n",
            "1/1 [==============================] - 0s 10ms/step - loss: 5.8670 - mae: 5.8670\n",
            "Epoch 9/100\n",
            "1/1 [==============================] - 0s 12ms/step - loss: 4.3112 - mae: 4.3112\n",
            "Epoch 10/100\n",
            "1/1 [==============================] - 0s 14ms/step - loss: 3.9136 - mae: 3.9136\n",
            "Epoch 11/100\n",
            "1/1 [==============================] - 0s 15ms/step - loss: 5.1832 - mae: 5.1832\n",
            "Epoch 12/100\n",
            "1/1 [==============================] - 0s 11ms/step - loss: 5.5683 - mae: 5.5683\n",
            "Epoch 13/100\n",
            "1/1 [==============================] - 0s 12ms/step - loss: 5.2566 - mae: 5.2566\n",
            "Epoch 14/100\n",
            "1/1 [==============================] - 0s 11ms/step - loss: 4.3430 - mae: 4.3430\n",
            "Epoch 15/100\n",
            "1/1 [==============================] - 0s 11ms/step - loss: 3.4644 - mae: 3.4644\n",
            "Epoch 16/100\n",
            "1/1 [==============================] - 0s 14ms/step - loss: 3.7662 - mae: 3.7662\n",
            "Epoch 17/100\n",
            "1/1 [==============================] - 0s 12ms/step - loss: 4.2944 - mae: 4.2944\n",
            "Epoch 18/100\n",
            "1/1 [==============================] - 0s 11ms/step - loss: 4.4026 - mae: 4.4026\n",
            "Epoch 19/100\n",
            "1/1 [==============================] - 0s 14ms/step - loss: 4.0816 - mae: 4.0816\n",
            "Epoch 20/100\n",
            "1/1 [==============================] - 0s 11ms/step - loss: 3.4548 - mae: 3.4548\n",
            "Epoch 21/100\n",
            "1/1 [==============================] - 0s 16ms/step - loss: 3.1246 - mae: 3.1246\n",
            "Epoch 22/100\n",
            "1/1 [==============================] - 0s 13ms/step - loss: 3.6346 - mae: 3.6346\n",
            "Epoch 23/100\n",
            "1/1 [==============================] - 0s 11ms/step - loss: 3.7149 - mae: 3.7149\n",
            "Epoch 24/100\n",
            "1/1 [==============================] - 0s 10ms/step - loss: 3.0509 - mae: 3.0509\n",
            "Epoch 25/100\n",
            "1/1 [==============================] - 0s 10ms/step - loss: 2.7960 - mae: 2.7960\n",
            "Epoch 26/100\n",
            "1/1 [==============================] - 0s 11ms/step - loss: 2.8846 - mae: 2.8846\n",
            "Epoch 27/100\n",
            "1/1 [==============================] - 0s 10ms/step - loss: 2.7157 - mae: 2.7157\n",
            "Epoch 28/100\n",
            "1/1 [==============================] - 0s 17ms/step - loss: 2.3621 - mae: 2.3621\n",
            "Epoch 29/100\n",
            "1/1 [==============================] - 0s 13ms/step - loss: 2.2013 - mae: 2.2013\n",
            "Epoch 30/100\n",
            "1/1 [==============================] - 0s 9ms/step - loss: 2.0066 - mae: 2.0066\n",
            "Epoch 31/100\n",
            "1/1 [==============================] - 0s 11ms/step - loss: 1.6739 - mae: 1.6739\n",
            "Epoch 32/100\n",
            "1/1 [==============================] - 0s 14ms/step - loss: 1.4164 - mae: 1.4164\n",
            "Epoch 33/100\n",
            "1/1 [==============================] - 0s 13ms/step - loss: 0.9649 - mae: 0.9649\n",
            "Epoch 34/100\n",
            "1/1 [==============================] - 0s 10ms/step - loss: 1.1689 - mae: 1.1689\n",
            "Epoch 35/100\n",
            "1/1 [==============================] - 0s 12ms/step - loss: 0.6564 - mae: 0.6564\n",
            "Epoch 36/100\n",
            "1/1 [==============================] - 0s 12ms/step - loss: 0.6408 - mae: 0.6408\n",
            "Epoch 37/100\n",
            "1/1 [==============================] - 0s 17ms/step - loss: 0.7872 - mae: 0.7872\n",
            "Epoch 38/100\n",
            "1/1 [==============================] - 0s 12ms/step - loss: 1.0425 - mae: 1.0425\n",
            "Epoch 39/100\n",
            "1/1 [==============================] - 0s 11ms/step - loss: 0.6846 - mae: 0.6846\n",
            "Epoch 40/100\n",
            "1/1 [==============================] - 0s 13ms/step - loss: 1.4782 - mae: 1.4782\n",
            "Epoch 41/100\n",
            "1/1 [==============================] - 0s 10ms/step - loss: 1.1676 - mae: 1.1676\n",
            "Epoch 42/100\n",
            "1/1 [==============================] - 0s 11ms/step - loss: 0.9014 - mae: 0.9014\n",
            "Epoch 43/100\n",
            "1/1 [==============================] - 0s 10ms/step - loss: 1.0710 - mae: 1.0710\n",
            "Epoch 44/100\n",
            "1/1 [==============================] - 0s 11ms/step - loss: 0.3967 - mae: 0.3967\n",
            "Epoch 45/100\n",
            "1/1 [==============================] - 0s 14ms/step - loss: 0.7617 - mae: 0.7617\n",
            "Epoch 46/100\n",
            "1/1 [==============================] - 0s 17ms/step - loss: 0.3968 - mae: 0.3968\n",
            "Epoch 47/100\n",
            "1/1 [==============================] - 0s 16ms/step - loss: 0.8257 - mae: 0.8257\n",
            "Epoch 48/100\n",
            "1/1 [==============================] - 0s 16ms/step - loss: 0.4148 - mae: 0.4148\n",
            "Epoch 49/100\n",
            "1/1 [==============================] - 0s 12ms/step - loss: 1.1780 - mae: 1.1780\n",
            "Epoch 50/100\n",
            "1/1 [==============================] - 0s 11ms/step - loss: 1.2283 - mae: 1.2283\n",
            "Epoch 51/100\n",
            "1/1 [==============================] - 0s 14ms/step - loss: 0.5331 - mae: 0.5331\n",
            "Epoch 52/100\n",
            "1/1 [==============================] - 0s 11ms/step - loss: 1.2348 - mae: 1.2348\n",
            "Epoch 53/100\n",
            "1/1 [==============================] - 0s 11ms/step - loss: 1.3417 - mae: 1.3417\n",
            "Epoch 54/100\n",
            "1/1 [==============================] - 0s 13ms/step - loss: 0.5670 - mae: 0.5670\n",
            "Epoch 55/100\n",
            "1/1 [==============================] - 0s 11ms/step - loss: 1.3346 - mae: 1.3346\n",
            "Epoch 56/100\n",
            "1/1 [==============================] - 0s 10ms/step - loss: 1.7505 - mae: 1.7505\n",
            "Epoch 57/100\n",
            "1/1 [==============================] - 0s 12ms/step - loss: 0.9810 - mae: 0.9810\n",
            "Epoch 58/100\n",
            "1/1 [==============================] - 0s 11ms/step - loss: 0.7677 - mae: 0.7677\n",
            "Epoch 59/100\n",
            "1/1 [==============================] - 0s 11ms/step - loss: 1.2082 - mae: 1.2082\n",
            "Epoch 60/100\n",
            "1/1 [==============================] - 0s 10ms/step - loss: 0.8040 - mae: 0.8040\n",
            "Epoch 61/100\n",
            "1/1 [==============================] - 0s 14ms/step - loss: 0.6035 - mae: 0.6035\n",
            "Epoch 62/100\n",
            "1/1 [==============================] - 0s 12ms/step - loss: 0.7748 - mae: 0.7748\n",
            "Epoch 63/100\n",
            "1/1 [==============================] - 0s 11ms/step - loss: 0.2493 - mae: 0.2493\n",
            "Epoch 64/100\n",
            "1/1 [==============================] - 0s 15ms/step - loss: 0.1911 - mae: 0.1911\n",
            "Epoch 65/100\n",
            "1/1 [==============================] - 0s 15ms/step - loss: 0.2576 - mae: 0.2576\n",
            "Epoch 66/100\n",
            "1/1 [==============================] - 0s 13ms/step - loss: 0.2354 - mae: 0.2354\n",
            "Epoch 67/100\n",
            "1/1 [==============================] - 0s 13ms/step - loss: 0.3194 - mae: 0.3194\n",
            "Epoch 68/100\n",
            "1/1 [==============================] - 0s 11ms/step - loss: 0.3929 - mae: 0.3929\n",
            "Epoch 69/100\n",
            "1/1 [==============================] - 0s 11ms/step - loss: 0.2379 - mae: 0.2379\n",
            "Epoch 70/100\n",
            "1/1 [==============================] - 0s 16ms/step - loss: 0.8949 - mae: 0.8949\n",
            "Epoch 71/100\n",
            "1/1 [==============================] - 0s 11ms/step - loss: 0.7732 - mae: 0.7732\n",
            "Epoch 72/100\n",
            "1/1 [==============================] - 0s 11ms/step - loss: 0.3582 - mae: 0.3582\n",
            "Epoch 73/100\n",
            "1/1 [==============================] - 0s 10ms/step - loss: 0.4289 - mae: 0.4289\n",
            "Epoch 74/100\n",
            "1/1 [==============================] - 0s 9ms/step - loss: 0.2657 - mae: 0.2657\n",
            "Epoch 75/100\n",
            "1/1 [==============================] - 0s 14ms/step - loss: 0.0990 - mae: 0.0990\n",
            "Epoch 76/100\n",
            "1/1 [==============================] - 0s 15ms/step - loss: 0.1148 - mae: 0.1148\n",
            "Epoch 77/100\n",
            "1/1 [==============================] - 0s 11ms/step - loss: 0.2166 - mae: 0.2166\n",
            "Epoch 78/100\n",
            "1/1 [==============================] - 0s 10ms/step - loss: 0.4491 - mae: 0.4491\n",
            "Epoch 79/100\n",
            "1/1 [==============================] - 0s 16ms/step - loss: 0.2172 - mae: 0.2172\n",
            "Epoch 80/100\n",
            "1/1 [==============================] - 0s 14ms/step - loss: 0.7538 - mae: 0.7538\n",
            "Epoch 81/100\n",
            "1/1 [==============================] - 0s 11ms/step - loss: 0.6958 - mae: 0.6958\n",
            "Epoch 82/100\n",
            "1/1 [==============================] - 0s 11ms/step - loss: 0.3540 - mae: 0.3540\n",
            "Epoch 83/100\n",
            "1/1 [==============================] - 0s 15ms/step - loss: 0.2373 - mae: 0.2373\n",
            "Epoch 84/100\n",
            "1/1 [==============================] - 0s 16ms/step - loss: 0.7743 - mae: 0.7743\n",
            "Epoch 85/100\n",
            "1/1 [==============================] - 0s 14ms/step - loss: 0.7285 - mae: 0.7285\n",
            "Epoch 86/100\n",
            "1/1 [==============================] - 0s 12ms/step - loss: 0.3481 - mae: 0.3481\n",
            "Epoch 87/100\n",
            "1/1 [==============================] - 0s 14ms/step - loss: 0.4131 - mae: 0.4131\n",
            "Epoch 88/100\n",
            "1/1 [==============================] - 0s 9ms/step - loss: 0.4374 - mae: 0.4374\n",
            "Epoch 89/100\n",
            "1/1 [==============================] - 0s 14ms/step - loss: 0.3659 - mae: 0.3659\n",
            "Epoch 90/100\n",
            "1/1 [==============================] - 0s 18ms/step - loss: 0.5398 - mae: 0.5398\n",
            "Epoch 91/100\n",
            "1/1 [==============================] - 0s 13ms/step - loss: 0.5042 - mae: 0.5042\n",
            "Epoch 92/100\n",
            "1/1 [==============================] - 0s 15ms/step - loss: 0.3017 - mae: 0.3017\n",
            "Epoch 93/100\n",
            "1/1 [==============================] - 0s 15ms/step - loss: 0.0940 - mae: 0.0940\n",
            "Epoch 94/100\n",
            "1/1 [==============================] - 0s 10ms/step - loss: 0.7845 - mae: 0.7845\n",
            "Epoch 95/100\n",
            "1/1 [==============================] - 0s 15ms/step - loss: 0.7625 - mae: 0.7625\n",
            "Epoch 96/100\n",
            "1/1 [==============================] - 0s 11ms/step - loss: 0.1959 - mae: 0.1959\n",
            "Epoch 97/100\n",
            "1/1 [==============================] - 0s 12ms/step - loss: 0.1071 - mae: 0.1071\n",
            "Epoch 98/100\n",
            "1/1 [==============================] - 0s 13ms/step - loss: 0.7118 - mae: 0.7118\n",
            "Epoch 99/100\n",
            "1/1 [==============================] - 0s 13ms/step - loss: 0.7806 - mae: 0.7806\n",
            "Epoch 100/100\n",
            "1/1 [==============================] - 0s 14ms/step - loss: 0.2188 - mae: 0.2188\n"
          ]
        },
        {
          "data": {
            "text/plain": [
              "<keras.callbacks.History at 0x7f5cd525b910>"
            ]
          },
          "execution_count": null,
          "metadata": {},
          "output_type": "execute_result"
        }
      ],
      "source": [
        "#imporve our model in 3 way => in creating procces ,in comling , and in fitting \n",
        "model=tf.keras.Sequential([\n",
        "tf.keras.layers.Dense(100,activation=\"relu\") ,\n",
        "tf.keras.layers.Dense(100,activation=\"relu\") ,\n",
        "tf.keras.layers.Dense(100,activation=\"relu\") ,\n",
        "tf.keras.layers.Dense(1)                           \n",
        "\n",
        "])\n",
        "model.compile(loss=tf.losses.mae,optimizer=tf.optimizers.Adam(lr=0.01),metrics=[\"mae\"])\n",
        "model.fit(tf.expand_dims(x, axis=-1), y, epochs=100)\n",
        "# we can difine input shape manually like tf.keras.layers.Dense(1,input_shape=[1])                           \n"
      ]
    },
    {
      "cell_type": "code",
      "execution_count": null,
      "metadata": {
        "colab": {
          "background_save": true,
          "base_uri": "https://localhost:8080/"
        },
        "id": "VNrYdzl-Uaec",
        "outputId": "4978ada8-00d9-494a-be63-93a64dd0d21d"
      },
      "outputs": [
        {
          "data": {
            "text/plain": [
              "array([[30.007154]], dtype=float32)"
            ]
          },
          "execution_count": null,
          "metadata": {},
          "output_type": "execute_result"
        }
      ],
      "source": [
        "model.predict([17.0])\n",
        "\n"
      ]
    },
    {
      "cell_type": "markdown",
      "metadata": {
        "id": "GgHZsaYcoFfc"
      },
      "source": [
        "create model with larger data"
      ]
    },
    {
      "cell_type": "code",
      "execution_count": null,
      "metadata": {
        "colab": {
          "background_save": true,
          "base_uri": "https://localhost:8080/"
        },
        "id": "iJ1Acn0EnvSf",
        "outputId": "5993bd6d-8779-4009-e99a-4c30597558a5"
      },
      "outputs": [
        {
          "data": {
            "text/plain": [
              "(<tf.Tensor: shape=(50,), dtype=int32, numpy=\n",
              " array([-100,  -96,  -92,  -88,  -84,  -80,  -76,  -72,  -68,  -64,  -60,\n",
              "         -56,  -52,  -48,  -44,  -40,  -36,  -32,  -28,  -24,  -20,  -16,\n",
              "         -12,   -8,   -4,    0,    4,    8,   12,   16,   20,   24,   28,\n",
              "          32,   36,   40,   44,   48,   52,   56,   60,   64,   68,   72,\n",
              "          76,   80,   84,   88,   92,   96], dtype=int32)>,\n",
              " <tf.Tensor: shape=(50,), dtype=int32, numpy=\n",
              " array([-90, -86, -82, -78, -74, -70, -66, -62, -58, -54, -50, -46, -42,\n",
              "        -38, -34, -30, -26, -22, -18, -14, -10,  -6,  -2,   2,   6,  10,\n",
              "         14,  18,  22,  26,  30,  34,  38,  42,  46,  50,  54,  58,  62,\n",
              "         66,  70,  74,  78,  82,  86,  90,  94,  98, 102, 106], dtype=int32)>)"
            ]
          },
          "execution_count": null,
          "metadata": {},
          "output_type": "execute_result"
        }
      ],
      "source": [
        "x1=tf.range(-100,100,4)\n",
        "y1=x1+10\n",
        "x1,y1"
      ]
    },
    {
      "cell_type": "code",
      "execution_count": null,
      "metadata": {
        "colab": {
          "background_save": true,
          "base_uri": "https://localhost:8080/"
        },
        "id": "RyHNYb7PnvN3",
        "outputId": "8e58d500-c81e-4609-cb3b-73f0bbbd7138"
      },
      "outputs": [
        {
          "data": {
            "text/plain": [
              "(10, 10, 40, 40)"
            ]
          },
          "execution_count": null,
          "metadata": {},
          "output_type": "execute_result"
        }
      ],
      "source": [
        "x_train=x1[:40]\n",
        "y_train=y1[:40]\n",
        "x_test=x1[40:]\n",
        "y_test=y1[40:]\n",
        "len(x_test),len(y_test),len(x_train),len(y_train)"
      ]
    },
    {
      "cell_type": "markdown",
      "metadata": {
        "id": "qzBdjfC_pD47"
      },
      "source": [
        "#visualizing our new data "
      ]
    },
    {
      "cell_type": "code",
      "execution_count": null,
      "metadata": {
        "colab": {
          "background_save": true,
          "base_uri": "https://localhost:8080/",
          "height": 282
        },
        "id": "g_b-FUjwosm7",
        "outputId": "84319483-d99f-4985-e35c-c5e6728657cd"
      },
      "outputs": [
        {
          "data": {
            "text/plain": [
              "<matplotlib.legend.Legend at 0x7f5cd68e0ad0>"
            ]
          },
          "execution_count": null,
          "metadata": {},
          "output_type": "execute_result"
        },
        {
          "data": {
            "image/png": "[encoded data removed]",
            "text/plain": [
              "<Figure size 432x288 with 1 Axes>"
            ]
          },
          "metadata": {},
          "output_type": "display_data"
        }
      ],
      "source": [
        "plt.scatter(x_train,y_train,c=\"red\",label=\"training data \")\n",
        "plt.scatter(x_test,y_test,c=\"green\",label=\"test data \")\n",
        "plt.legend()"
      ]
    },
    {
      "cell_type": "code",
      "execution_count": null,
      "metadata": {
        "colab": {
          "background_save": true,
          "base_uri": "https://localhost:8080/"
        },
        "id": "fLSE0nYwqwAk",
        "outputId": "07cdb460-7a8e-45b7-9461-e7625d4695a2"
      },
      "outputs": [
        {
          "name": "stdout",
          "output_type": "stream",
          "text": [
            "Epoch 1/100\n",
            "2/2 [==============================] - 0s 12ms/step - loss: 26.4821 - mae: 26.4821\n",
            "Epoch 2/100\n",
            "2/2 [==============================] - 0s 8ms/step - loss: 8.5605 - mae: 8.5605\n",
            "Epoch 3/100\n",
            "2/2 [==============================] - 0s 8ms/step - loss: 10.7800 - mae: 10.7800\n",
            "Epoch 4/100\n",
            "2/2 [==============================] - 0s 8ms/step - loss: 11.2395 - mae: 11.2395\n",
            "Epoch 5/100\n",
            "2/2 [==============================] - 0s 8ms/step - loss: 12.4704 - mae: 12.4704\n",
            "Epoch 6/100\n",
            "2/2 [==============================] - 0s 7ms/step - loss: 9.6435 - mae: 9.6435\n",
            "Epoch 7/100\n",
            "2/2 [==============================] - 0s 8ms/step - loss: 8.7477 - mae: 8.7477\n",
            "Epoch 8/100\n",
            "2/2 [==============================] - 0s 8ms/step - loss: 9.0532 - mae: 9.0532\n",
            "Epoch 9/100\n",
            "2/2 [==============================] - 0s 8ms/step - loss: 19.2073 - mae: 19.2073\n",
            "Epoch 10/100\n",
            "2/2 [==============================] - 0s 13ms/step - loss: 10.3632 - mae: 10.3632\n",
            "Epoch 11/100\n",
            "2/2 [==============================] - 0s 8ms/step - loss: 8.4912 - mae: 8.4912\n",
            "Epoch 12/100\n",
            "2/2 [==============================] - 0s 8ms/step - loss: 10.8619 - mae: 10.8619\n",
            "Epoch 13/100\n",
            "2/2 [==============================] - 0s 8ms/step - loss: 9.9034 - mae: 9.9034\n",
            "Epoch 14/100\n",
            "2/2 [==============================] - 0s 8ms/step - loss: 9.4662 - mae: 9.4662\n",
            "Epoch 15/100\n",
            "2/2 [==============================] - 0s 12ms/step - loss: 13.6706 - mae: 13.6706\n",
            "Epoch 16/100\n",
            "2/2 [==============================] - 0s 8ms/step - loss: 8.9293 - mae: 8.9293\n",
            "Epoch 17/100\n",
            "2/2 [==============================] - 0s 8ms/step - loss: 12.8321 - mae: 12.8321\n",
            "Epoch 18/100\n",
            "2/2 [==============================] - 0s 9ms/step - loss: 10.4621 - mae: 10.4621\n",
            "Epoch 19/100\n",
            "2/2 [==============================] - 0s 9ms/step - loss: 19.2379 - mae: 19.2379\n",
            "Epoch 20/100\n",
            "2/2 [==============================] - 0s 8ms/step - loss: 15.9022 - mae: 15.9022\n",
            "Epoch 21/100\n",
            "2/2 [==============================] - 0s 9ms/step - loss: 11.7299 - mae: 11.7299\n",
            "Epoch 22/100\n",
            "2/2 [==============================] - 0s 8ms/step - loss: 8.9326 - mae: 8.9326\n",
            "Epoch 23/100\n",
            "2/2 [==============================] - 0s 8ms/step - loss: 10.0439 - mae: 10.0439\n",
            "Epoch 24/100\n",
            "2/2 [==============================] - 0s 9ms/step - loss: 15.6300 - mae: 15.6300\n",
            "Epoch 25/100\n",
            "2/2 [==============================] - 0s 8ms/step - loss: 12.0953 - mae: 12.0953\n",
            "Epoch 26/100\n",
            "2/2 [==============================] - 0s 8ms/step - loss: 13.2088 - mae: 13.2088\n",
            "Epoch 27/100\n",
            "2/2 [==============================] - 0s 8ms/step - loss: 10.6721 - mae: 10.6721\n",
            "Epoch 28/100\n",
            "2/2 [==============================] - 0s 9ms/step - loss: 12.9010 - mae: 12.9010\n",
            "Epoch 29/100\n",
            "2/2 [==============================] - 0s 9ms/step - loss: 9.5060 - mae: 9.5060\n",
            "Epoch 30/100\n",
            "2/2 [==============================] - 0s 9ms/step - loss: 16.4400 - mae: 16.4400\n",
            "Epoch 31/100\n",
            "2/2 [==============================] - 0s 7ms/step - loss: 23.5465 - mae: 23.5465\n",
            "Epoch 32/100\n",
            "2/2 [==============================] - 0s 8ms/step - loss: 7.5966 - mae: 7.5966\n",
            "Epoch 33/100\n",
            "2/2 [==============================] - 0s 8ms/step - loss: 9.2924 - mae: 9.2924\n",
            "Epoch 34/100\n",
            "2/2 [==============================] - 0s 7ms/step - loss: 13.6531 - mae: 13.6531\n",
            "Epoch 35/100\n",
            "2/2 [==============================] - 0s 8ms/step - loss: 11.1598 - mae: 11.1598\n",
            "Epoch 36/100\n",
            "2/2 [==============================] - 0s 9ms/step - loss: 13.3968 - mae: 13.3968\n",
            "Epoch 37/100\n",
            "2/2 [==============================] - 0s 8ms/step - loss: 9.4353 - mae: 9.4353\n",
            "Epoch 38/100\n",
            "2/2 [==============================] - 0s 8ms/step - loss: 10.0849 - mae: 10.0849\n",
            "Epoch 39/100\n",
            "2/2 [==============================] - 0s 9ms/step - loss: 8.9622 - mae: 8.9622\n",
            "Epoch 40/100\n",
            "2/2 [==============================] - 0s 8ms/step - loss: 9.5897 - mae: 9.5897\n",
            "Epoch 41/100\n",
            "2/2 [==============================] - 0s 7ms/step - loss: 10.5507 - mae: 10.5507\n",
            "Epoch 42/100\n",
            "2/2 [==============================] - 0s 8ms/step - loss: 10.6034 - mae: 10.6034\n",
            "Epoch 43/100\n",
            "2/2 [==============================] - 0s 8ms/step - loss: 7.1988 - mae: 7.1988\n",
            "Epoch 44/100\n",
            "2/2 [==============================] - 0s 10ms/step - loss: 8.0047 - mae: 8.0047\n",
            "Epoch 45/100\n",
            "2/2 [==============================] - 0s 8ms/step - loss: 9.8053 - mae: 9.8053\n",
            "Epoch 46/100\n",
            "2/2 [==============================] - 0s 8ms/step - loss: 8.8854 - mae: 8.8854\n",
            "Epoch 47/100\n",
            "2/2 [==============================] - 0s 7ms/step - loss: 7.5548 - mae: 7.5548\n",
            "Epoch 48/100\n",
            "2/2 [==============================] - 0s 9ms/step - loss: 8.5254 - mae: 8.5254\n",
            "Epoch 49/100\n",
            "2/2 [==============================] - 0s 8ms/step - loss: 10.0161 - mae: 10.0161\n",
            "Epoch 50/100\n",
            "2/2 [==============================] - 0s 8ms/step - loss: 8.9724 - mae: 8.9724\n",
            "Epoch 51/100\n",
            "2/2 [==============================] - 0s 8ms/step - loss: 10.6922 - mae: 10.6922\n",
            "Epoch 52/100\n",
            "2/2 [==============================] - 0s 9ms/step - loss: 15.2532 - mae: 15.2532\n",
            "Epoch 53/100\n",
            "2/2 [==============================] - 0s 8ms/step - loss: 14.2839 - mae: 14.2839\n",
            "Epoch 54/100\n",
            "2/2 [==============================] - 0s 8ms/step - loss: 21.5414 - mae: 21.5414\n",
            "Epoch 55/100\n",
            "2/2 [==============================] - 0s 8ms/step - loss: 16.0395 - mae: 16.0395\n",
            "Epoch 56/100\n",
            "2/2 [==============================] - 0s 8ms/step - loss: 10.2385 - mae: 10.2385\n",
            "Epoch 57/100\n",
            "2/2 [==============================] - 0s 9ms/step - loss: 9.7817 - mae: 9.7817\n",
            "Epoch 58/100\n",
            "2/2 [==============================] - 0s 8ms/step - loss: 9.0638 - mae: 9.0638\n",
            "Epoch 59/100\n",
            "2/2 [==============================] - 0s 9ms/step - loss: 8.2698 - mae: 8.2698\n",
            "Epoch 60/100\n",
            "2/2 [==============================] - 0s 10ms/step - loss: 9.3610 - mae: 9.3610\n",
            "Epoch 61/100\n",
            "2/2 [==============================] - 0s 8ms/step - loss: 11.1883 - mae: 11.1883\n",
            "Epoch 62/100\n",
            "2/2 [==============================] - 0s 8ms/step - loss: 12.0252 - mae: 12.0252\n",
            "Epoch 63/100\n",
            "2/2 [==============================] - 0s 8ms/step - loss: 7.2612 - mae: 7.2612\n",
            "Epoch 64/100\n",
            "2/2 [==============================] - 0s 9ms/step - loss: 12.4549 - mae: 12.4549\n",
            "Epoch 65/100\n",
            "2/2 [==============================] - 0s 9ms/step - loss: 10.5242 - mae: 10.5242\n",
            "Epoch 66/100\n",
            "2/2 [==============================] - 0s 10ms/step - loss: 15.5583 - mae: 15.5583\n",
            "Epoch 67/100\n",
            "2/2 [==============================] - 0s 9ms/step - loss: 9.9699 - mae: 9.9699\n",
            "Epoch 68/100\n",
            "2/2 [==============================] - 0s 10ms/step - loss: 8.6970 - mae: 8.6970\n",
            "Epoch 69/100\n",
            "2/2 [==============================] - 0s 9ms/step - loss: 13.4334 - mae: 13.4334\n",
            "Epoch 70/100\n",
            "2/2 [==============================] - 0s 9ms/step - loss: 7.4565 - mae: 7.4565\n",
            "Epoch 71/100\n",
            "2/2 [==============================] - 0s 8ms/step - loss: 12.2511 - mae: 12.2511\n",
            "Epoch 72/100\n",
            "2/2 [==============================] - 0s 9ms/step - loss: 8.4973 - mae: 8.4973\n",
            "Epoch 73/100\n",
            "2/2 [==============================] - 0s 10ms/step - loss: 7.0241 - mae: 7.0241\n",
            "Epoch 74/100\n",
            "2/2 [==============================] - 0s 9ms/step - loss: 9.8767 - mae: 9.8767\n",
            "Epoch 75/100\n",
            "2/2 [==============================] - 0s 9ms/step - loss: 9.9501 - mae: 9.9501\n",
            "Epoch 76/100\n",
            "2/2 [==============================] - 0s 9ms/step - loss: 10.1103 - mae: 10.1103\n",
            "Epoch 77/100\n",
            "2/2 [==============================] - 0s 9ms/step - loss: 12.9864 - mae: 12.9864\n",
            "Epoch 78/100\n",
            "2/2 [==============================] - 0s 12ms/step - loss: 10.8809 - mae: 10.8809\n",
            "Epoch 79/100\n",
            "2/2 [==============================] - 0s 7ms/step - loss: 15.3595 - mae: 15.3595\n",
            "Epoch 80/100\n",
            "2/2 [==============================] - 0s 9ms/step - loss: 11.7227 - mae: 11.7227\n",
            "Epoch 81/100\n",
            "2/2 [==============================] - 0s 8ms/step - loss: 9.2308 - mae: 9.2308\n",
            "Epoch 82/100\n",
            "2/2 [==============================] - 0s 9ms/step - loss: 12.8186 - mae: 12.8186\n",
            "Epoch 83/100\n",
            "2/2 [==============================] - 0s 9ms/step - loss: 10.2703 - mae: 10.2703\n",
            "Epoch 84/100\n",
            "2/2 [==============================] - 0s 8ms/step - loss: 10.6022 - mae: 10.6022\n",
            "Epoch 85/100\n",
            "2/2 [==============================] - 0s 9ms/step - loss: 9.3104 - mae: 9.3104\n",
            "Epoch 86/100\n",
            "2/2 [==============================] - 0s 9ms/step - loss: 9.1586 - mae: 9.1586\n",
            "Epoch 87/100\n",
            "2/2 [==============================] - 0s 9ms/step - loss: 11.8953 - mae: 11.8953\n",
            "Epoch 88/100\n",
            "2/2 [==============================] - 0s 8ms/step - loss: 10.5054 - mae: 10.5054\n",
            "Epoch 89/100\n",
            "2/2 [==============================] - 0s 8ms/step - loss: 7.2276 - mae: 7.2276\n",
            "Epoch 90/100\n",
            "2/2 [==============================] - 0s 9ms/step - loss: 12.6327 - mae: 12.6327\n",
            "Epoch 91/100\n",
            "2/2 [==============================] - 0s 10ms/step - loss: 7.2740 - mae: 7.2740\n",
            "Epoch 92/100\n",
            "2/2 [==============================] - 0s 9ms/step - loss: 7.6332 - mae: 7.6332\n",
            "Epoch 93/100\n",
            "2/2 [==============================] - 0s 9ms/step - loss: 7.0966 - mae: 7.0966\n",
            "Epoch 94/100\n",
            "2/2 [==============================] - 0s 9ms/step - loss: 12.4845 - mae: 12.4845\n",
            "Epoch 95/100\n",
            "2/2 [==============================] - 0s 9ms/step - loss: 9.8591 - mae: 9.8591\n",
            "Epoch 96/100\n",
            "2/2 [==============================] - 0s 9ms/step - loss: 9.1368 - mae: 9.1368\n",
            "Epoch 97/100\n",
            "2/2 [==============================] - 0s 8ms/step - loss: 12.1120 - mae: 12.1120\n",
            "Epoch 98/100\n",
            "2/2 [==============================] - 0s 8ms/step - loss: 9.0066 - mae: 9.0066\n",
            "Epoch 99/100\n",
            "2/2 [==============================] - 0s 10ms/step - loss: 8.4890 - mae: 8.4890\n",
            "Epoch 100/100\n",
            "2/2 [==============================] - 0s 8ms/step - loss: 14.5100 - mae: 14.5100\n"
          ]
        },
        {
          "data": {
            "text/plain": [
              "<keras.callbacks.History at 0x7f5cd684c810>"
            ]
          },
          "execution_count": null,
          "metadata": {},
          "output_type": "execute_result"
        }
      ],
      "source": [
        "#create model\n",
        "model1=tf.keras.Sequential([\n",
        "tf.keras.layers.Dense(1,input_shape=[1])                            # we have 1 x to predict 1 y in every time \n",
        "\n",
        "])\n",
        "model1.compile(loss=tf.losses.mae,optimizer=tf.keras.optimizers.SGD(),metrics=[\"mae\"])\n",
        "model1.fit(x_train, y_train, epochs=100)"
      ]
    },
    {
      "cell_type": "code",
      "execution_count": null,
      "metadata": {
        "colab": {
          "background_save": true
        },
        "id": "t-pN6oZ6qv3R"
      },
      "outputs": [],
      "source": [
        ""
      ]
    },
    {
      "cell_type": "code",
      "execution_count": null,
      "metadata": {
        "colab": {
          "background_save": true,
          "base_uri": "https://localhost:8080/"
        },
        "id": "JQ5zW7VNs_h2",
        "outputId": "1db04421-e100-4e68-c229-96ffebc840f6"
      },
      "outputs": [
        {
          "name": "stdout",
          "output_type": "stream",
          "text": [
            "Model: \"sequential_2\"\n",
            "_________________________________________________________________\n",
            " Layer (type)                Output Shape              Param #   \n",
            "=================================================================\n",
            " dense_5 (Dense)             (None, 1)                 2         \n",
            "                                                                 \n",
            "=================================================================\n",
            "Total params: 2\n",
            "Trainable params: 2\n",
            "Non-trainable params: 0\n",
            "_________________________________________________________________\n"
          ]
        }
      ],
      "source": [
        "model1.summary()"
      ]
    },
    {
      "cell_type": "code",
      "execution_count": null,
      "metadata": {
        "colab": {
          "background_save": true
        },
        "id": "raCR8aWZs_bP"
      },
      "outputs": [],
      "source": [
        "from tensorflow.keras.utils import plot_model"
      ]
    },
    {
      "cell_type": "code",
      "execution_count": null,
      "metadata": {
        "colab": {
          "background_save": true,
          "base_uri": "https://localhost:8080/",
          "height": 201
        },
        "id": "aFPZ2beprqfd",
        "outputId": "34b0064c-d82d-4244-a802-cbaa31ae671a"
      },
      "outputs": [
        {
          "data": {
            "image/png": "[encoded data removed]",
            "text/plain": [
              "<IPython.core.display.Image object>"
            ]
          },
          "execution_count": null,
          "metadata": {},
          "output_type": "execute_result"
        }
      ],
      "source": [
        "plot_model(model1,show_shapes=True)"
      ]
    },
    {
      "cell_type": "code",
      "execution_count": null,
      "metadata": {
        "colab": {
          "background_save": true,
          "base_uri": "https://localhost:8080/"
        },
        "id": "iWC_CF5Nsv-Y",
        "outputId": "fdcb4f96-8bf8-4673-9d9b-3e4f038ad11e"
      },
      "outputs": [
        {
          "data": {
            "text/plain": [
              "array([[44.61157 ],\n",
              "       [47.497215],\n",
              "       [50.382862],\n",
              "       [53.26851 ],\n",
              "       [56.154156],\n",
              "       [59.039803],\n",
              "       [61.925446],\n",
              "       [64.8111  ],\n",
              "       [67.69674 ],\n",
              "       [70.58238 ]], dtype=float32)"
            ]
          },
          "execution_count": null,
          "metadata": {},
          "output_type": "execute_result"
        }
      ],
      "source": [
        "y_pred=model1.predict(x_test)\n",
        "\n",
        "y_pred"
      ]
    },
    {
      "cell_type": "code",
      "execution_count": null,
      "metadata": {
        "colab": {
          "background_save": true,
          "base_uri": "https://localhost:8080/"
        },
        "id": "1wlWrcmutKxA",
        "outputId": "00f57164-83b3-466c-f726-6b08389a7f8d"
      },
      "outputs": [
        {
          "data": {
            "text/plain": [
              "<tf.Tensor: shape=(10,), dtype=int32, numpy=array([ 70,  74,  78,  82,  86,  90,  94,  98, 102, 106], dtype=int32)>"
            ]
          },
          "execution_count": null,
          "metadata": {},
          "output_type": "execute_result"
        }
      ],
      "source": [
        "y_test"
      ]
    },
    {
      "cell_type": "code",
      "execution_count": 25,
      "metadata": {
        "id": "lpt_7-ARt7K3"
      },
      "outputs": [],
      "source": [
        "def plot_pred(train_data=x_train,train_lable=y_train,test_data=x_test,test_label=y_test,predictions=y_pred):\n",
        "  plt.figure(figsize=(10,7))\n",
        "  plt.scatter(train_data,train_lable,c=\"b\",label=\"training data \")\n",
        "  plt.scatter(test_data,test_label,c=\"g\",label=\"testing data\")\n",
        "  plt.scatter(test_data,predictions,c=\"red\",label=\"predictions\")\n",
        "  plt.legend()"
      ]
    },
    {
      "cell_type": "code",
      "execution_count": null,
      "metadata": {
        "colab": {
          "background_save": true,
          "base_uri": "https://localhost:8080/",
          "height": 428
        },
        "id": "MV4sacJUvtQn",
        "outputId": "ec45f2d1-c8c1-474d-a9eb-ab4becc4f947"
      },
      "outputs": [
        {
          "data": {
            "image/png": "[encoded data removed]",
            "text/plain": [
              "<Figure size 720x504 with 1 Axes>"
            ]
          },
          "metadata": {},
          "output_type": "display_data"
        }
      ],
      "source": [
        "plot_pred(train_data=x_train,\n",
        "                 train_lable=y_train,\n",
        "                 test_data=x_test,\n",
        "                 test_label=y_test,\n",
        "                 predictions=y_pred)"
      ]
    },
    {
      "cell_type": "code",
      "execution_count": null,
      "metadata": {
        "colab": {
          "background_save": true,
          "base_uri": "https://localhost:8080/"
        },
        "id": "bfNzXzbne4y2",
        "outputId": "3f0d802d-266a-4d60-8517-b65b3c1010dc"
      },
      "outputs": [
        {
          "name": "stdout",
          "output_type": "stream",
          "text": [
            "1/1 [==============================] - 0s 146ms/step - loss: 30.4030 - mae: 30.4030\n"
          ]
        },
        {
          "data": {
            "text/plain": [
              "[30.403024673461914, 30.403024673461914]"
            ]
          },
          "execution_count": null,
          "metadata": {},
          "output_type": "execute_result"
        }
      ],
      "source": [
        "model1.evaluate(x_test,y_test)"
      ]
    },
    {
      "cell_type": "code",
      "execution_count": 22,
      "metadata": {
        "id": "xzTp_frzztwf",
        "colab": {
          "base_uri": "https://localhost:8080/",
          "height": 200
        },
        "outputId": "33d4196d-4346-44a3-9f63-32fb4c03cf6a"
      },
      "outputs": [
        {
          "ename": "NameError",
          "evalue": "ignored",
          "output_type": "error",
          "traceback": [
            "\u001b[0;31m---------------------------------------------------------------------------\u001b[0m",
            "\u001b[0;31mNameError\u001b[0m                                 Traceback (most recent call last)",
            "\u001b[0;32m<ipython-input-22-815e6fea230a>\u001b[0m in \u001b[0;36m<module>\u001b[0;34m()\u001b[0m\n\u001b[1;32m      1\u001b[0m \u001b[0mmae\u001b[0m\u001b[0;34m=\u001b[0m\u001b[0mtf\u001b[0m\u001b[0;34m.\u001b[0m\u001b[0mmetrics\u001b[0m\u001b[0;34m.\u001b[0m\u001b[0mmean_absolute_error\u001b[0m\u001b[0;34m(\u001b[0m\u001b[0my_test\u001b[0m\u001b[0;34m,\u001b[0m\u001b[0my_pred\u001b[0m\u001b[0;34m)\u001b[0m\u001b[0;34m\u001b[0m\u001b[0;34m\u001b[0m\u001b[0m\n\u001b[0;32m----> 2\u001b[0;31m \u001b[0mmae1\u001b[0m\u001b[0;34m=\u001b[0m\u001b[0mmae_calc\u001b[0m\u001b[0;34m(\u001b[0m\u001b[0my_test\u001b[0m\u001b[0;34m,\u001b[0m\u001b[0my_pred\u001b[0m\u001b[0;34m)\u001b[0m\u001b[0;34m\u001b[0m\u001b[0;34m\u001b[0m\u001b[0m\n\u001b[0m\u001b[1;32m      3\u001b[0m \u001b[0mmse1\u001b[0m\u001b[0;34m=\u001b[0m\u001b[0mmse_calc\u001b[0m\u001b[0;34m(\u001b[0m\u001b[0my_test\u001b[0m\u001b[0;34m,\u001b[0m\u001b[0my_pred\u001b[0m\u001b[0;34m)\u001b[0m\u001b[0;34m\u001b[0m\u001b[0;34m\u001b[0m\u001b[0m\n",
            "\u001b[0;31mNameError\u001b[0m: name 'mae_calc' is not defined"
          ]
        }
      ],
      "source": [
        "mae=tf.metrics.mean_absolute_error(y_test,y_pred)\n",
        "mae1=mae_calc(y_test,y_pred)\n",
        "mse1=mse_calc(y_test,y_pred)"
      ]
    },
    {
      "cell_type": "code",
      "execution_count": null,
      "metadata": {
        "colab": {
          "background_save": true
        },
        "id": "ijAOYc3RgKav"
      },
      "outputs": [],
      "source": [
        "y_pred=tf.constant(y_pred)\n",
        "tf.squeeze(y_pred)# shape of y_pred and y_test were diffrent so we have to reshape it \\\n",
        "y_pred,tf.squeeze(y_pred)"
      ]
    },
    {
      "cell_type": "code",
      "execution_count": 26,
      "metadata": {
        "colab": {
          "base_uri": "https://localhost:8080/"
        },
        "id": "EfxJwSDTgcPi",
        "outputId": "d080f03c-a186-4c46-9350-00c450ec4e59"
      },
      "outputs": [
        {
          "output_type": "execute_result",
          "data": {
            "text/plain": [
              "<tf.Tensor: shape=(), dtype=float32, numpy=30.403025>"
            ]
          },
          "metadata": {},
          "execution_count": 26
        }
      ],
      "source": [
        "mae=tf.metrics.mean_absolute_error(y_test,tf.squeeze(y_pred))\n",
        "def mae_calc(y_test=y_test,y_pred=y_pred):\n",
        "  return tf.metrics.mean_absolute_error(y_test,tf.squeeze(y_pred))\n",
        "mae_calc()"
      ]
    },
    {
      "cell_type": "code",
      "execution_count": 27,
      "metadata": {
        "colab": {
          "base_uri": "https://localhost:8080/"
        },
        "id": "jFuRm43eg9nV",
        "outputId": "8851f414-61f4-4f49-e99d-761bfa68810c"
      },
      "outputs": [
        {
          "output_type": "execute_result",
          "data": {
            "text/plain": [
              "<tf.Tensor: shape=(), dtype=float32, numpy=934.5885>"
            ]
          },
          "metadata": {},
          "execution_count": 27
        }
      ],
      "source": [
        "mse=tf.metrics.mean_squared_error(y_test,tf.squeeze(y_pred))\n",
        "\n",
        "def mse_calc(y_test=y_test,y_pred=y_pred):\n",
        "  return tf.metrics.mean_squared_error(y_test,tf.squeeze(y_pred))\n",
        "mse_calc()"
      ]
    },
    {
      "cell_type": "code",
      "execution_count": null,
      "metadata": {
        "colab": {
          "background_save": true
        },
        "id": "pOeYJncyg9jX"
      },
      "outputs": [],
      "source": [
        "#now we want to imporve our model \n",
        "tf.random.set_seed(42)\n",
        "test_model1=tf.keras.Sequential([\n",
        "tf.keras.layers.Dense(100,activation=\"relu\",input_shape=[1]),\n",
        "tf.keras.layers.Dense(100,activation=\"relu\",input_shape=[1]),\n",
        "tf.keras.layers.Dense(1,input_shape=[1])                                 \n",
        "\n",
        "])\n",
        "test_model1.compile(loss=tf.keras.losses.MAE,optimizer=tf.keras.optimizers.Adam(),metrics=[\"mae\"])\n",
        "test_model1.fit(x_train,y_train,epochs=100)"
      ]
    },
    {
      "cell_type": "code",
      "execution_count": null,
      "metadata": {
        "colab": {
          "background_save": true
        },
        "id": "6vbEEqGolU0B"
      },
      "outputs": [],
      "source": [
        "y_pred1=test_model1.predict(x_test)\n",
        "\n",
        "plot_pred(predictions=y_pred1)"
      ]
    },
    {
      "cell_type": "code",
      "execution_count": null,
      "metadata": {
        "colab": {
          "background_save": true
        },
        "id": "yd9zLh0-vayJ"
      },
      "outputs": [],
      "source": [
        "mae_calc(y_test,y_pred1),mse_calc(y_test,y_pred1)"
      ]
    },
    {
      "cell_type": "code",
      "execution_count": null,
      "metadata": {
        "colab": {
          "background_save": true
        },
        "id": "DMefw0HWwZa4"
      },
      "outputs": [],
      "source": [
        "test_model1.evaluate(x_test,y_test)"
      ]
    },
    {
      "cell_type": "code",
      "execution_count": null,
      "metadata": {
        "colab": {
          "background_save": true
        },
        "id": "q56Uf1180IO0"
      },
      "outputs": [],
      "source": [
        "mae2=mae_calc(y_test,y_pred1)\n",
        "mse2=mse_calc(y_test,y_pred1)"
      ]
    },
    {
      "cell_type": "code",
      "execution_count": null,
      "metadata": {
        "colab": {
          "background_save": true
        },
        "id": "ReSIHrAnxiDf"
      },
      "outputs": [],
      "source": [
        "#now we want to imporve our model for the last time \n",
        "tf.random.set_seed(42)\n",
        "test_model2=tf.keras.Sequential([\n",
        "tf.keras.layers.Dense(100,activation=\"relu\",input_shape=[1]),\n",
        "tf.keras.layers.Dense(100,activation=\"relu\",input_shape=[1]),\n",
        "tf.keras.layers.Dense(1,input_shape=[1])                                 \n",
        "\n",
        "])\n",
        "test_model2.compile(loss=tf.keras.losses.MAE,optimizer=tf.keras.optimizers.Adam(),metrics=[\"mae\"])\n",
        "test_model2.fit(x_train,y_train,epochs=500,verbose=0)"
      ]
    },
    {
      "cell_type": "code",
      "execution_count": null,
      "metadata": {
        "colab": {
          "background_save": true
        },
        "id": "9ZEHMMmix8-T"
      },
      "outputs": [],
      "source": [
        "y_pred2=test_model2.predict(x_test)\n",
        "\n",
        "plot_pred(predictions=y_pred2)"
      ]
    },
    {
      "cell_type": "code",
      "execution_count": null,
      "metadata": {
        "colab": {
          "background_save": true
        },
        "id": "aDpzDaPiyNos"
      },
      "outputs": [],
      "source": [
        "mae3=mae_calc(y_test,y_pred2)\n",
        "mse3=mse_calc(y_test,y_pred2) \n",
        "mae3,mse3# we can cunclude that this is the best model so far "
      ]
    },
    {
      "cell_type": "code",
      "execution_count": 28,
      "metadata": {
        "id": "KxNHO56hzGSq"
      },
      "outputs": [],
      "source": [
        "#comparing our models result\n",
        "import pandas as pd"
      ]
    },
    {
      "cell_type": "code",
      "execution_count": null,
      "metadata": {
        "colab": {
          "background_save": true
        },
        "id": "VputQY5vzPeX"
      },
      "outputs": [],
      "source": [
        "model_results=[[\"model1\",mae1.numpy(),mse1.numpy()],\n",
        "               [\"model2\",mae2.numpy(),mse2.numpy()],\n",
        "               [\"model3\",mae3.numpy(),mse3.numpy()]]\n",
        "result=pd.DataFrame(model_results,columns=[\"models\",\"mae\",\"mse\"])               \n",
        "result\n"
      ]
    },
    {
      "cell_type": "code",
      "execution_count": null,
      "metadata": {
        "colab": {
          "base_uri": "https://localhost:8080/"
        },
        "id": "XwNRe8Cr0yOj",
        "outputId": "d24b6340-5cae-4c7e-bf31-fee9ba6333f1"
      },
      "outputs": [
        {
          "name": "stdout",
          "output_type": "stream",
          "text": [
            "Model: \"sequential_9\"\n",
            "_________________________________________________________________\n",
            " Layer (type)                Output Shape              Param #   \n",
            "=================================================================\n",
            " dense_22 (Dense)            (None, 100)               200       \n",
            "                                                                 \n",
            " dense_23 (Dense)            (None, 100)               10100     \n",
            "                                                                 \n",
            " dense_24 (Dense)            (None, 1)                 101       \n",
            "                                                                 \n",
            "=================================================================\n",
            "Total params: 10,401\n",
            "Trainable params: 10,401\n",
            "Non-trainable params: 0\n",
            "_________________________________________________________________\n"
          ]
        }
      ],
      "source": [
        "test_model2.summary()"
      ]
    },
    {
      "cell_type": "code",
      "execution_count": null,
      "metadata": {
        "colab": {
          "base_uri": "https://localhost:8080/"
        },
        "id": "WNelE0bE4TJX",
        "outputId": "9568b3fe-945e-4fad-aa30-3cb206ef6f9c"
      },
      "outputs": [
        {
          "name": "stdout",
          "output_type": "stream",
          "text": [
            "INFO:tensorflow:Assets written to: xAndY_reggresion/assets\n"
          ]
        }
      ],
      "source": [
        "#saving model2\n",
        "test_model2.save(\"xAndY_reggresion\")"
      ]
    },
    {
      "cell_type": "code",
      "execution_count": null,
      "metadata": {
        "colab": {
          "base_uri": "https://localhost:8080/"
        },
        "id": "yUFTC3Vb_CEI",
        "outputId": "d990d62f-45d4-424e-d420-21f757679e11"
      },
      "outputs": [
        {
          "data": {
            "text/plain": [
              "array([[ True],\n",
              "       [ True],\n",
              "       [ True],\n",
              "       [ True],\n",
              "       [ True],\n",
              "       [ True],\n",
              "       [ True],\n",
              "       [ True],\n",
              "       [ True],\n",
              "       [ True]])"
            ]
          },
          "execution_count": 75,
          "metadata": {},
          "output_type": "execute_result"
        }
      ],
      "source": [
        "#load model and compare the modelsb\n",
        " \n",
        "loaded=tf.keras.models.load_model(\"/content/xAndY_reggresion\")\n",
        "result_loaded=loaded.predict(x_test)\n",
        "mae_calc(y_test,y_pred2)==mae_calc(y_test,result_loaded)\n",
        "y_pred2==result_loaded"
      ]
    },
    {
      "cell_type": "code",
      "execution_count": null,
      "metadata": {
        "id": "tda6iBujDML6"
      },
      "outputs": [],
      "source": [
        "from google.colab import files # downloading our model\n",
        "#files.download(\"/content/xAndY_reggresion\")"
      ]
    },
    {
      "cell_type": "markdown",
      "metadata": {
        "id": "NNsv8m_5FcmN"
      },
      "source": [
        "###**creating new model**\n",
        "\n"
      ]
    },
    {
      "cell_type": "code",
      "execution_count": 29,
      "metadata": {
        "id": "9dpQ_pJ9Fihv"
      },
      "outputs": [],
      "source": [
        "import tensorflow as tf\n",
        "import pandas as pd\n",
        "import matplotlib.pyplot as plt\n"
      ]
    },
    {
      "cell_type": "code",
      "execution_count": 32,
      "metadata": {
        "id": "uyCYrGmPFowd"
      },
      "outputs": [],
      "source": [
        "insurance = pd.read_csv(\"https://raw.githubusercontent.com/stedy/Machine-Learning-with-R-datasets/master/insurance.csv\")\n"
      ]
    },
    {
      "cell_type": "code",
      "execution_count": 34,
      "metadata": {
        "colab": {
          "base_uri": "https://localhost:8080/",
          "height": 424
        },
        "id": "KCFs0lovFxJZ",
        "outputId": "635bcaf4-32e2-4b9a-aef2-5599c39dc254"
      },
      "outputs": [
        {
          "output_type": "execute_result",
          "data": {
            "text/plain": [
              "      age     sex     bmi  children smoker     region      charges\n",
              "0      19  female  27.900         0    yes  southwest  16884.92400\n",
              "1      18    male  33.770         1     no  southeast   1725.55230\n",
              "2      28    male  33.000         3     no  southeast   4449.46200\n",
              "3      33    male  22.705         0     no  northwest  21984.47061\n",
              "4      32    male  28.880         0     no  northwest   3866.85520\n",
              "...   ...     ...     ...       ...    ...        ...          ...\n",
              "1333   50    male  30.970         3     no  northwest  10600.54830\n",
              "1334   18  female  31.920         0     no  northeast   2205.98080\n",
              "1335   18  female  36.850         0     no  southeast   1629.83350\n",
              "1336   21  female  25.800         0     no  southwest   2007.94500\n",
              "1337   61  female  29.070         0    yes  northwest  29141.36030\n",
              "\n",
              "[1338 rows x 7 columns]"
            ],
            "text/html": [
              "\n",
              "  <div id=\"df-356f486e-684b-4ea9-abc1-585044264129\">\n",
              "    <div class=\"colab-df-container\">\n",
              "      <div>\n",
              "<style scoped>\n",
              "    .dataframe tbody tr th:only-of-type {\n",
              "        vertical-align: middle;\n",
              "    }\n",
              "\n",
              "    .dataframe tbody tr th {\n",
              "        vertical-align: top;\n",
              "    }\n",
              "\n",
              "    .dataframe thead th {\n",
              "        text-align: right;\n",
              "    }\n",
              "</style>\n",
              "<table border=\"1\" class=\"dataframe\">\n",
              "  <thead>\n",
              "    <tr style=\"text-align: right;\">\n",
              "      <th></th>\n",
              "      <th>age</th>\n",
              "      <th>sex</th>\n",
              "      <th>bmi</th>\n",
              "      <th>children</th>\n",
              "      <th>smoker</th>\n",
              "      <th>region</th>\n",
              "      <th>charges</th>\n",
              "    </tr>\n",
              "  </thead>\n",
              "  <tbody>\n",
              "    <tr>\n",
              "      <th>0</th>\n",
              "      <td>19</td>\n",
              "      <td>female</td>\n",
              "      <td>27.900</td>\n",
              "      <td>0</td>\n",
              "      <td>yes</td>\n",
              "      <td>southwest</td>\n",
              "      <td>16884.92400</td>\n",
              "    </tr>\n",
              "    <tr>\n",
              "      <th>1</th>\n",
              "      <td>18</td>\n",
              "      <td>male</td>\n",
              "      <td>33.770</td>\n",
              "      <td>1</td>\n",
              "      <td>no</td>\n",
              "      <td>southeast</td>\n",
              "      <td>1725.55230</td>\n",
              "    </tr>\n",
              "    <tr>\n",
              "      <th>2</th>\n",
              "      <td>28</td>\n",
              "      <td>male</td>\n",
              "      <td>33.000</td>\n",
              "      <td>3</td>\n",
              "      <td>no</td>\n",
              "      <td>southeast</td>\n",
              "      <td>4449.46200</td>\n",
              "    </tr>\n",
              "    <tr>\n",
              "      <th>3</th>\n",
              "      <td>33</td>\n",
              "      <td>male</td>\n",
              "      <td>22.705</td>\n",
              "      <td>0</td>\n",
              "      <td>no</td>\n",
              "      <td>northwest</td>\n",
              "      <td>21984.47061</td>\n",
              "    </tr>\n",
              "    <tr>\n",
              "      <th>4</th>\n",
              "      <td>32</td>\n",
              "      <td>male</td>\n",
              "      <td>28.880</td>\n",
              "      <td>0</td>\n",
              "      <td>no</td>\n",
              "      <td>northwest</td>\n",
              "      <td>3866.85520</td>\n",
              "    </tr>\n",
              "    <tr>\n",
              "      <th>...</th>\n",
              "      <td>...</td>\n",
              "      <td>...</td>\n",
              "      <td>...</td>\n",
              "      <td>...</td>\n",
              "      <td>...</td>\n",
              "      <td>...</td>\n",
              "      <td>...</td>\n",
              "    </tr>\n",
              "    <tr>\n",
              "      <th>1333</th>\n",
              "      <td>50</td>\n",
              "      <td>male</td>\n",
              "      <td>30.970</td>\n",
              "      <td>3</td>\n",
              "      <td>no</td>\n",
              "      <td>northwest</td>\n",
              "      <td>10600.54830</td>\n",
              "    </tr>\n",
              "    <tr>\n",
              "      <th>1334</th>\n",
              "      <td>18</td>\n",
              "      <td>female</td>\n",
              "      <td>31.920</td>\n",
              "      <td>0</td>\n",
              "      <td>no</td>\n",
              "      <td>northeast</td>\n",
              "      <td>2205.98080</td>\n",
              "    </tr>\n",
              "    <tr>\n",
              "      <th>1335</th>\n",
              "      <td>18</td>\n",
              "      <td>female</td>\n",
              "      <td>36.850</td>\n",
              "      <td>0</td>\n",
              "      <td>no</td>\n",
              "      <td>southeast</td>\n",
              "      <td>1629.83350</td>\n",
              "    </tr>\n",
              "    <tr>\n",
              "      <th>1336</th>\n",
              "      <td>21</td>\n",
              "      <td>female</td>\n",
              "      <td>25.800</td>\n",
              "      <td>0</td>\n",
              "      <td>no</td>\n",
              "      <td>southwest</td>\n",
              "      <td>2007.94500</td>\n",
              "    </tr>\n",
              "    <tr>\n",
              "      <th>1337</th>\n",
              "      <td>61</td>\n",
              "      <td>female</td>\n",
              "      <td>29.070</td>\n",
              "      <td>0</td>\n",
              "      <td>yes</td>\n",
              "      <td>northwest</td>\n",
              "      <td>29141.36030</td>\n",
              "    </tr>\n",
              "  </tbody>\n",
              "</table>\n",
              "<p>1338 rows × 7 columns</p>\n",
              "</div>\n",
              "      <button class=\"colab-df-convert\" onclick=\"convertToInteractive('df-356f486e-684b-4ea9-abc1-585044264129')\"\n",
              "              title=\"Convert this dataframe to an interactive table.\"\n",
              "              style=\"display:none;\">\n",
              "        \n",
              "  <svg xmlns=\"http://www.w3.org/2000/svg\" height=\"24px\"viewBox=\"0 0 24 24\"\n",
              "       width=\"24px\">\n",
              "    <path d=\"M0 0h24v24H0V0z\" fill=\"none\"/>\n",
              "    <path d=\"M18.56 5.44l.94 2.06.94-2.06 2.06-.94-2.06-.94-.94-2.06-.94 2.06-2.06.94zm-11 1L8.5 8.5l.94-2.06 2.06-.94-2.06-.94L8.5 2.5l-.94 2.06-2.06.94zm10 10l.94 2.06.94-2.06 2.06-.94-2.06-.94-.94-2.06-.94 2.06-2.06.94z\"/><path d=\"M17.41 7.96l-1.37-1.37c-.4-.4-.92-.59-1.43-.59-.52 0-1.04.2-1.43.59L10.3 9.45l-7.72 7.72c-.78.78-.78 2.05 0 2.83L4 21.41c.39.39.9.59 1.41.59.51 0 1.02-.2 1.41-.59l7.78-7.78 2.81-2.81c.8-.78.8-2.07 0-2.86zM5.41 20L4 18.59l7.72-7.72 1.47 1.35L5.41 20z\"/>\n",
              "  </svg>\n",
              "      </button>\n",
              "      \n",
              "  <style>\n",
              "    .colab-df-container {\n",
              "      display:flex;\n",
              "      flex-wrap:wrap;\n",
              "      gap: 12px;\n",
              "    }\n",
              "\n",
              "    .colab-df-convert {\n",
              "      background-color: #E8F0FE;\n",
              "      border: none;\n",
              "      border-radius: 50%;\n",
              "      cursor: pointer;\n",
              "      display: none;\n",
              "      fill: #1967D2;\n",
              "      height: 32px;\n",
              "      padding: 0 0 0 0;\n",
              "      width: 32px;\n",
              "    }\n",
              "\n",
              "    .colab-df-convert:hover {\n",
              "      background-color: #E2EBFA;\n",
              "      box-shadow: 0px 1px 2px rgba(60, 64, 67, 0.3), 0px 1px 3px 1px rgba(60, 64, 67, 0.15);\n",
              "      fill: #174EA6;\n",
              "    }\n",
              "\n",
              "    [theme=dark] .colab-df-convert {\n",
              "      background-color: #3B4455;\n",
              "      fill: #D2E3FC;\n",
              "    }\n",
              "\n",
              "    [theme=dark] .colab-df-convert:hover {\n",
              "      background-color: #434B5C;\n",
              "      box-shadow: 0px 1px 3px 1px rgba(0, 0, 0, 0.15);\n",
              "      filter: drop-shadow(0px 1px 2px rgba(0, 0, 0, 0.3));\n",
              "      fill: #FFFFFF;\n",
              "    }\n",
              "  </style>\n",
              "\n",
              "      <script>\n",
              "        const buttonEl =\n",
              "          document.querySelector('#df-356f486e-684b-4ea9-abc1-585044264129 button.colab-df-convert');\n",
              "        buttonEl.style.display =\n",
              "          google.colab.kernel.accessAllowed ? 'block' : 'none';\n",
              "\n",
              "        async function convertToInteractive(key) {\n",
              "          const element = document.querySelector('#df-356f486e-684b-4ea9-abc1-585044264129');\n",
              "          const dataTable =\n",
              "            await google.colab.kernel.invokeFunction('convertToInteractive',\n",
              "                                                     [key], {});\n",
              "          if (!dataTable) return;\n",
              "\n",
              "          const docLinkHtml = 'Like what you see? Visit the ' +\n",
              "            '<a target=\"_blank\" href=https://colab.research.google.com/notebooks/data_table.ipynb>data table notebook</a>'\n",
              "            + ' to learn more about interactive tables.';\n",
              "          element.innerHTML = '';\n",
              "          dataTable['output_type'] = 'display_data';\n",
              "          await google.colab.output.renderOutput(dataTable, element);\n",
              "          const docLink = document.createElement('div');\n",
              "          docLink.innerHTML = docLinkHtml;\n",
              "          element.appendChild(docLink);\n",
              "        }\n",
              "      </script>\n",
              "    </div>\n",
              "  </div>\n",
              "  "
            ]
          },
          "metadata": {},
          "execution_count": 34
        }
      ],
      "source": [
        "insurance"
      ]
    },
    {
      "cell_type": "code",
      "execution_count": 35,
      "metadata": {
        "colab": {
          "base_uri": "https://localhost:8080/",
          "height": 488
        },
        "id": "eS3TaCmPHPYi",
        "outputId": "0f0fd057-1267-4f4e-df65-88705d57848e"
      },
      "outputs": [
        {
          "output_type": "execute_result",
          "data": {
            "text/plain": [
              "      age     bmi  children      charges  sex_female  sex_male  smoker_no  \\\n",
              "0      19  27.900         0  16884.92400           1         0          0   \n",
              "1      18  33.770         1   1725.55230           0         1          1   \n",
              "2      28  33.000         3   4449.46200           0         1          1   \n",
              "3      33  22.705         0  21984.47061           0         1          1   \n",
              "4      32  28.880         0   3866.85520           0         1          1   \n",
              "...   ...     ...       ...          ...         ...       ...        ...   \n",
              "1333   50  30.970         3  10600.54830           0         1          1   \n",
              "1334   18  31.920         0   2205.98080           1         0          1   \n",
              "1335   18  36.850         0   1629.83350           1         0          1   \n",
              "1336   21  25.800         0   2007.94500           1         0          1   \n",
              "1337   61  29.070         0  29141.36030           1         0          0   \n",
              "\n",
              "      smoker_yes  region_northeast  region_northwest  region_southeast  \\\n",
              "0              1                 0                 0                 0   \n",
              "1              0                 0                 0                 1   \n",
              "2              0                 0                 0                 1   \n",
              "3              0                 0                 1                 0   \n",
              "4              0                 0                 1                 0   \n",
              "...          ...               ...               ...               ...   \n",
              "1333           0                 0                 1                 0   \n",
              "1334           0                 1                 0                 0   \n",
              "1335           0                 0                 0                 1   \n",
              "1336           0                 0                 0                 0   \n",
              "1337           1                 0                 1                 0   \n",
              "\n",
              "      region_southwest  \n",
              "0                    1  \n",
              "1                    0  \n",
              "2                    0  \n",
              "3                    0  \n",
              "4                    0  \n",
              "...                ...  \n",
              "1333                 0  \n",
              "1334                 0  \n",
              "1335                 0  \n",
              "1336                 1  \n",
              "1337                 0  \n",
              "\n",
              "[1338 rows x 12 columns]"
            ],
            "text/html": [
              "\n",
              "  <div id=\"df-5ce8e932-ddb3-4ba5-88b9-fe5a64367105\">\n",
              "    <div class=\"colab-df-container\">\n",
              "      <div>\n",
              "<style scoped>\n",
              "    .dataframe tbody tr th:only-of-type {\n",
              "        vertical-align: middle;\n",
              "    }\n",
              "\n",
              "    .dataframe tbody tr th {\n",
              "        vertical-align: top;\n",
              "    }\n",
              "\n",
              "    .dataframe thead th {\n",
              "        text-align: right;\n",
              "    }\n",
              "</style>\n",
              "<table border=\"1\" class=\"dataframe\">\n",
              "  <thead>\n",
              "    <tr style=\"text-align: right;\">\n",
              "      <th></th>\n",
              "      <th>age</th>\n",
              "      <th>bmi</th>\n",
              "      <th>children</th>\n",
              "      <th>charges</th>\n",
              "      <th>sex_female</th>\n",
              "      <th>sex_male</th>\n",
              "      <th>smoker_no</th>\n",
              "      <th>smoker_yes</th>\n",
              "      <th>region_northeast</th>\n",
              "      <th>region_northwest</th>\n",
              "      <th>region_southeast</th>\n",
              "      <th>region_southwest</th>\n",
              "    </tr>\n",
              "  </thead>\n",
              "  <tbody>\n",
              "    <tr>\n",
              "      <th>0</th>\n",
              "      <td>19</td>\n",
              "      <td>27.900</td>\n",
              "      <td>0</td>\n",
              "      <td>16884.92400</td>\n",
              "      <td>1</td>\n",
              "      <td>0</td>\n",
              "      <td>0</td>\n",
              "      <td>1</td>\n",
              "      <td>0</td>\n",
              "      <td>0</td>\n",
              "      <td>0</td>\n",
              "      <td>1</td>\n",
              "    </tr>\n",
              "    <tr>\n",
              "      <th>1</th>\n",
              "      <td>18</td>\n",
              "      <td>33.770</td>\n",
              "      <td>1</td>\n",
              "      <td>1725.55230</td>\n",
              "      <td>0</td>\n",
              "      <td>1</td>\n",
              "      <td>1</td>\n",
              "      <td>0</td>\n",
              "      <td>0</td>\n",
              "      <td>0</td>\n",
              "      <td>1</td>\n",
              "      <td>0</td>\n",
              "    </tr>\n",
              "    <tr>\n",
              "      <th>2</th>\n",
              "      <td>28</td>\n",
              "      <td>33.000</td>\n",
              "      <td>3</td>\n",
              "      <td>4449.46200</td>\n",
              "      <td>0</td>\n",
              "      <td>1</td>\n",
              "      <td>1</td>\n",
              "      <td>0</td>\n",
              "      <td>0</td>\n",
              "      <td>0</td>\n",
              "      <td>1</td>\n",
              "      <td>0</td>\n",
              "    </tr>\n",
              "    <tr>\n",
              "      <th>3</th>\n",
              "      <td>33</td>\n",
              "      <td>22.705</td>\n",
              "      <td>0</td>\n",
              "      <td>21984.47061</td>\n",
              "      <td>0</td>\n",
              "      <td>1</td>\n",
              "      <td>1</td>\n",
              "      <td>0</td>\n",
              "      <td>0</td>\n",
              "      <td>1</td>\n",
              "      <td>0</td>\n",
              "      <td>0</td>\n",
              "    </tr>\n",
              "    <tr>\n",
              "      <th>4</th>\n",
              "      <td>32</td>\n",
              "      <td>28.880</td>\n",
              "      <td>0</td>\n",
              "      <td>3866.85520</td>\n",
              "      <td>0</td>\n",
              "      <td>1</td>\n",
              "      <td>1</td>\n",
              "      <td>0</td>\n",
              "      <td>0</td>\n",
              "      <td>1</td>\n",
              "      <td>0</td>\n",
              "      <td>0</td>\n",
              "    </tr>\n",
              "    <tr>\n",
              "      <th>...</th>\n",
              "      <td>...</td>\n",
              "      <td>...</td>\n",
              "      <td>...</td>\n",
              "      <td>...</td>\n",
              "      <td>...</td>\n",
              "      <td>...</td>\n",
              "      <td>...</td>\n",
              "      <td>...</td>\n",
              "      <td>...</td>\n",
              "      <td>...</td>\n",
              "      <td>...</td>\n",
              "      <td>...</td>\n",
              "    </tr>\n",
              "    <tr>\n",
              "      <th>1333</th>\n",
              "      <td>50</td>\n",
              "      <td>30.970</td>\n",
              "      <td>3</td>\n",
              "      <td>10600.54830</td>\n",
              "      <td>0</td>\n",
              "      <td>1</td>\n",
              "      <td>1</td>\n",
              "      <td>0</td>\n",
              "      <td>0</td>\n",
              "      <td>1</td>\n",
              "      <td>0</td>\n",
              "      <td>0</td>\n",
              "    </tr>\n",
              "    <tr>\n",
              "      <th>1334</th>\n",
              "      <td>18</td>\n",
              "      <td>31.920</td>\n",
              "      <td>0</td>\n",
              "      <td>2205.98080</td>\n",
              "      <td>1</td>\n",
              "      <td>0</td>\n",
              "      <td>1</td>\n",
              "      <td>0</td>\n",
              "      <td>1</td>\n",
              "      <td>0</td>\n",
              "      <td>0</td>\n",
              "      <td>0</td>\n",
              "    </tr>\n",
              "    <tr>\n",
              "      <th>1335</th>\n",
              "      <td>18</td>\n",
              "      <td>36.850</td>\n",
              "      <td>0</td>\n",
              "      <td>1629.83350</td>\n",
              "      <td>1</td>\n",
              "      <td>0</td>\n",
              "      <td>1</td>\n",
              "      <td>0</td>\n",
              "      <td>0</td>\n",
              "      <td>0</td>\n",
              "      <td>1</td>\n",
              "      <td>0</td>\n",
              "    </tr>\n",
              "    <tr>\n",
              "      <th>1336</th>\n",
              "      <td>21</td>\n",
              "      <td>25.800</td>\n",
              "      <td>0</td>\n",
              "      <td>2007.94500</td>\n",
              "      <td>1</td>\n",
              "      <td>0</td>\n",
              "      <td>1</td>\n",
              "      <td>0</td>\n",
              "      <td>0</td>\n",
              "      <td>0</td>\n",
              "      <td>0</td>\n",
              "      <td>1</td>\n",
              "    </tr>\n",
              "    <tr>\n",
              "      <th>1337</th>\n",
              "      <td>61</td>\n",
              "      <td>29.070</td>\n",
              "      <td>0</td>\n",
              "      <td>29141.36030</td>\n",
              "      <td>1</td>\n",
              "      <td>0</td>\n",
              "      <td>0</td>\n",
              "      <td>1</td>\n",
              "      <td>0</td>\n",
              "      <td>1</td>\n",
              "      <td>0</td>\n",
              "      <td>0</td>\n",
              "    </tr>\n",
              "  </tbody>\n",
              "</table>\n",
              "<p>1338 rows × 12 columns</p>\n",
              "</div>\n",
              "      <button class=\"colab-df-convert\" onclick=\"convertToInteractive('df-5ce8e932-ddb3-4ba5-88b9-fe5a64367105')\"\n",
              "              title=\"Convert this dataframe to an interactive table.\"\n",
              "              style=\"display:none;\">\n",
              "        \n",
              "  <svg xmlns=\"http://www.w3.org/2000/svg\" height=\"24px\"viewBox=\"0 0 24 24\"\n",
              "       width=\"24px\">\n",
              "    <path d=\"M0 0h24v24H0V0z\" fill=\"none\"/>\n",
              "    <path d=\"M18.56 5.44l.94 2.06.94-2.06 2.06-.94-2.06-.94-.94-2.06-.94 2.06-2.06.94zm-11 1L8.5 8.5l.94-2.06 2.06-.94-2.06-.94L8.5 2.5l-.94 2.06-2.06.94zm10 10l.94 2.06.94-2.06 2.06-.94-2.06-.94-.94-2.06-.94 2.06-2.06.94z\"/><path d=\"M17.41 7.96l-1.37-1.37c-.4-.4-.92-.59-1.43-.59-.52 0-1.04.2-1.43.59L10.3 9.45l-7.72 7.72c-.78.78-.78 2.05 0 2.83L4 21.41c.39.39.9.59 1.41.59.51 0 1.02-.2 1.41-.59l7.78-7.78 2.81-2.81c.8-.78.8-2.07 0-2.86zM5.41 20L4 18.59l7.72-7.72 1.47 1.35L5.41 20z\"/>\n",
              "  </svg>\n",
              "      </button>\n",
              "      \n",
              "  <style>\n",
              "    .colab-df-container {\n",
              "      display:flex;\n",
              "      flex-wrap:wrap;\n",
              "      gap: 12px;\n",
              "    }\n",
              "\n",
              "    .colab-df-convert {\n",
              "      background-color: #E8F0FE;\n",
              "      border: none;\n",
              "      border-radius: 50%;\n",
              "      cursor: pointer;\n",
              "      display: none;\n",
              "      fill: #1967D2;\n",
              "      height: 32px;\n",
              "      padding: 0 0 0 0;\n",
              "      width: 32px;\n",
              "    }\n",
              "\n",
              "    .colab-df-convert:hover {\n",
              "      background-color: #E2EBFA;\n",
              "      box-shadow: 0px 1px 2px rgba(60, 64, 67, 0.3), 0px 1px 3px 1px rgba(60, 64, 67, 0.15);\n",
              "      fill: #174EA6;\n",
              "    }\n",
              "\n",
              "    [theme=dark] .colab-df-convert {\n",
              "      background-color: #3B4455;\n",
              "      fill: #D2E3FC;\n",
              "    }\n",
              "\n",
              "    [theme=dark] .colab-df-convert:hover {\n",
              "      background-color: #434B5C;\n",
              "      box-shadow: 0px 1px 3px 1px rgba(0, 0, 0, 0.15);\n",
              "      filter: drop-shadow(0px 1px 2px rgba(0, 0, 0, 0.3));\n",
              "      fill: #FFFFFF;\n",
              "    }\n",
              "  </style>\n",
              "\n",
              "      <script>\n",
              "        const buttonEl =\n",
              "          document.querySelector('#df-5ce8e932-ddb3-4ba5-88b9-fe5a64367105 button.colab-df-convert');\n",
              "        buttonEl.style.display =\n",
              "          google.colab.kernel.accessAllowed ? 'block' : 'none';\n",
              "\n",
              "        async function convertToInteractive(key) {\n",
              "          const element = document.querySelector('#df-5ce8e932-ddb3-4ba5-88b9-fe5a64367105');\n",
              "          const dataTable =\n",
              "            await google.colab.kernel.invokeFunction('convertToInteractive',\n",
              "                                                     [key], {});\n",
              "          if (!dataTable) return;\n",
              "\n",
              "          const docLinkHtml = 'Like what you see? Visit the ' +\n",
              "            '<a target=\"_blank\" href=https://colab.research.google.com/notebooks/data_table.ipynb>data table notebook</a>'\n",
              "            + ' to learn more about interactive tables.';\n",
              "          element.innerHTML = '';\n",
              "          dataTable['output_type'] = 'display_data';\n",
              "          await google.colab.output.renderOutput(dataTable, element);\n",
              "          const docLink = document.createElement('div');\n",
              "          docLink.innerHTML = docLinkHtml;\n",
              "          element.appendChild(docLink);\n",
              "        }\n",
              "      </script>\n",
              "    </div>\n",
              "  </div>\n",
              "  "
            ]
          },
          "metadata": {},
          "execution_count": 35
        }
      ],
      "source": [
        "#converting our categorical data into numerical\n",
        "insurance_one_hot= pd.get_dummies(insurance  )\n",
        "insurance_one_hot"
      ]
    },
    {
      "cell_type": "code",
      "execution_count": 36,
      "metadata": {
        "id": "xACuh0-uIh9l"
      },
      "outputs": [],
      "source": [
        "# spliting our data ro feature and label\n",
        "x=insurance_one_hot.drop(\"charges\",axis=1)\n",
        "y=insurance_one_hot[\"charges\"]\n"
      ]
    },
    {
      "cell_type": "code",
      "execution_count": 37,
      "metadata": {
        "id": "1sipt4wPUJv-"
      },
      "outputs": [],
      "source": [
        "#creating test and train data \n",
        "from sklearn.model_selection import train_test_split\n",
        "\n",
        "x_train, x_test, y_train, y_test = train_test_split(x, y, test_size=0.2, random_state=42)\n"
      ]
    },
    {
      "cell_type": "code",
      "execution_count": 52,
      "metadata": {
        "colab": {
          "base_uri": "https://localhost:8080/"
        },
        "id": "C7-rpin3WSba",
        "outputId": "d8aa2015-e135-47b1-966f-b7559d0200be"
      },
      "outputs": [
        {
          "output_type": "execute_result",
          "data": {
            "text/plain": [
              "<keras.callbacks.History at 0x7f5ccb9df6d0>"
            ]
          },
          "metadata": {},
          "execution_count": 52
        }
      ],
      "source": [
        "#create a model\n",
        "insurance_model=tf.keras.Sequential([\n",
        "tf.keras.layers.Dense(100,),\n",
        "\n",
        "tf.keras.layers.Dense(10,)\n",
        "])\n",
        "insurance_model.compile(loss=tf.keras.losses.mae,optimizer=tf.keras.optimizers.SGD(),metrics=[\"mae\"])\n",
        "insurance_model.fit(x_train,y_train,epochs=100,verbose=0)"
      ]
    },
    {
      "cell_type": "code",
      "execution_count": null,
      "metadata": {
        "id": "IqGn--BeKe4a"
      },
      "outputs": [],
      "source": [
        ""
      ]
    },
    {
      "cell_type": "code",
      "execution_count": 53,
      "metadata": {
        "colab": {
          "base_uri": "https://localhost:8080/"
        },
        "id": "I2x_p9lZXbpV",
        "outputId": "aa736250-397b-4900-cf42-7326d77c276c"
      },
      "outputs": [
        {
          "output_type": "stream",
          "name": "stdout",
          "text": [
            "9/9 [==============================] - 0s 3ms/step - loss: 7105.4189 - mae: 7105.4189\n"
          ]
        },
        {
          "output_type": "execute_result",
          "data": {
            "text/plain": [
              "[7105.4189453125, 7105.4189453125]"
            ]
          },
          "metadata": {},
          "execution_count": 53
        }
      ],
      "source": [
        "insurance_model.evaluate(x_test,y_test)"
      ]
    },
    {
      "cell_type": "code",
      "execution_count": 51,
      "metadata": {
        "colab": {
          "base_uri": "https://localhost:8080/"
        },
        "id": "_d72B8xcXm_G",
        "outputId": "543ec67e-1a79-4f55-89ec-9e40b3fd00c4"
      },
      "outputs": [
        {
          "output_type": "execute_result",
          "data": {
            "text/plain": [
              "(9575.4421, 13346.089736364489)"
            ]
          },
          "metadata": {},
          "execution_count": 51
        }
      ],
      "source": [
        "y_train.median(),y_train.mean()"
      ]
    },
    {
      "cell_type": "code",
      "source": [
        "# improve our model \n",
        "tf.random.set_seed(42)\n",
        "insurance_model1=tf.keras.Sequential([\n",
        "tf.keras.layers.Dense(100,activation=\"relu\"),\n",
        "tf.keras.layers.Dense(100,activation=\"relu\"),\n",
        "tf.keras.layers.Dense(10,)\n",
        "])\n",
        "insurance_model1.compile(loss=tf.keras.losses.mae,optimizer=tf.keras.optimizers.Adam(lr=0.1),metrics=[\"mae\"])\n",
        "history1=insurance_model1.fit(x_train,y_train,epochs=300,verbose=0)"
      ],
      "metadata": {
        "colab": {
          "base_uri": "https://localhost:8080/"
        },
        "id": "QUGMAKj1LbZB",
        "outputId": "ab6dde6a-aece-4232-b2ee-aaceaa4deca8"
      },
      "execution_count": 77,
      "outputs": [
        {
          "output_type": "stream",
          "name": "stderr",
          "text": [
            "/usr/local/lib/python3.7/dist-packages/keras/optimizer_v2/adam.py:105: UserWarning: The `lr` argument is deprecated, use `learning_rate` instead.\n",
            "  super(Adam, self).__init__(name, **kwargs)\n"
          ]
        }
      ]
    },
    {
      "cell_type": "code",
      "source": [
        "insurance_model1.evaluate(x_test,y_test)"
      ],
      "metadata": {
        "colab": {
          "base_uri": "https://localhost:8080/"
        },
        "id": "TpZJvU9BNEBk",
        "outputId": "c70ea819-b324-4991-80e6-eb8ea7decba9"
      },
      "execution_count": 61,
      "outputs": [
        {
          "output_type": "stream",
          "name": "stdout",
          "text": [
            "9/9 [==============================] - 0s 5ms/step - loss: 1734.5908 - mae: 1734.5908\n"
          ]
        },
        {
          "output_type": "execute_result",
          "data": {
            "text/plain": [
              "[1734.5908203125, 1734.5908203125]"
            ]
          },
          "metadata": {},
          "execution_count": 61
        }
      ]
    },
    {
      "cell_type": "code",
      "source": [
        "#trying to improve our data more \n",
        "tf.random.set_seed(42)\n",
        "insurance_model2=tf.keras.Sequential([\n",
        "tf.keras.layers.Dense(100,activation=\"relu\")       ,                               \n",
        "tf.keras.layers.Dense(200,activation=\"relu\")         ,                             \n",
        "tf.keras.layers.Dense(1)                                      \n",
        "])\n",
        "insurance_model2.compile(loss=tf.keras.losses.mae,optimizer=tf.keras.optimizers.Adam(lr=1),metrics=[\"mae\"])\n",
        "history=insurance_model2.fit(x_train,y_train,epochs=400,verbose=1)"
      ],
      "metadata": {
        "colab": {
          "base_uri": "https://localhost:8080/"
        },
        "id": "DNqr2q9fQ94e",
        "outputId": "b64c1ec5-1b9f-4782-e783-e22dc64b7b5e"
      },
      "execution_count": 76,
      "outputs": [
        {
          "output_type": "stream",
          "name": "stdout",
          "text": [
            "Epoch 1/400\n"
          ]
        },
        {
          "output_type": "stream",
          "name": "stderr",
          "text": [
            "/usr/local/lib/python3.7/dist-packages/keras/optimizer_v2/adam.py:105: UserWarning: The `lr` argument is deprecated, use `learning_rate` instead.\n",
            "  super(Adam, self).__init__(name, **kwargs)\n"
          ]
        },
        {
          "output_type": "stream",
          "name": "stdout",
          "text": [
            "34/34 [==============================] - 1s 7ms/step - loss: 11796.4785 - mae: 11796.4785\n",
            "Epoch 2/400\n",
            "34/34 [==============================] - 0s 6ms/step - loss: 6425.2959 - mae: 6425.2959\n",
            "Epoch 3/400\n",
            "34/34 [==============================] - 0s 9ms/step - loss: 5590.5581 - mae: 5590.5581\n",
            "Epoch 4/400\n",
            "34/34 [==============================] - 0s 7ms/step - loss: 3694.9980 - mae: 3694.9980\n",
            "Epoch 5/400\n",
            "34/34 [==============================] - 0s 7ms/step - loss: 3604.8459 - mae: 3604.8459\n",
            "Epoch 6/400\n",
            "34/34 [==============================] - 0s 7ms/step - loss: 3926.3728 - mae: 3926.3728\n",
            "Epoch 7/400\n",
            "34/34 [==============================] - 0s 7ms/step - loss: 3466.9448 - mae: 3466.9448\n",
            "Epoch 8/400\n",
            "34/34 [==============================] - 0s 7ms/step - loss: 3730.7615 - mae: 3730.7615\n",
            "Epoch 9/400\n",
            "34/34 [==============================] - 0s 7ms/step - loss: 3277.4587 - mae: 3277.4587\n",
            "Epoch 10/400\n",
            "34/34 [==============================] - 0s 7ms/step - loss: 3396.1284 - mae: 3396.1284\n",
            "Epoch 11/400\n",
            "34/34 [==============================] - 0s 8ms/step - loss: 3515.7310 - mae: 3515.7310\n",
            "Epoch 12/400\n",
            "34/34 [==============================] - 0s 7ms/step - loss: 3029.6311 - mae: 3029.6311\n",
            "Epoch 13/400\n",
            "34/34 [==============================] - 0s 7ms/step - loss: 3005.6169 - mae: 3005.6169\n",
            "Epoch 14/400\n",
            "34/34 [==============================] - 0s 8ms/step - loss: 3036.3030 - mae: 3036.3030\n",
            "Epoch 15/400\n",
            "34/34 [==============================] - 0s 6ms/step - loss: 3165.5393 - mae: 3165.5393\n",
            "Epoch 16/400\n",
            "34/34 [==============================] - 0s 8ms/step - loss: 2721.2747 - mae: 2721.2747\n",
            "Epoch 17/400\n",
            "34/34 [==============================] - 0s 7ms/step - loss: 2863.3665 - mae: 2863.3665\n",
            "Epoch 18/400\n",
            "34/34 [==============================] - 0s 7ms/step - loss: 3380.4951 - mae: 3380.4951\n",
            "Epoch 19/400\n",
            "34/34 [==============================] - 0s 7ms/step - loss: 3079.9138 - mae: 3079.9138\n",
            "Epoch 20/400\n",
            "34/34 [==============================] - 0s 6ms/step - loss: 3265.8235 - mae: 3265.8235\n",
            "Epoch 21/400\n",
            "34/34 [==============================] - 0s 8ms/step - loss: 3819.5034 - mae: 3819.5034\n",
            "Epoch 22/400\n",
            "34/34 [==============================] - 0s 9ms/step - loss: 2825.1770 - mae: 2825.1770\n",
            "Epoch 23/400\n",
            "34/34 [==============================] - 0s 7ms/step - loss: 2808.7937 - mae: 2808.7937\n",
            "Epoch 24/400\n",
            "34/34 [==============================] - 0s 6ms/step - loss: 2589.6357 - mae: 2589.6357\n",
            "Epoch 25/400\n",
            "34/34 [==============================] - 0s 7ms/step - loss: 2942.7639 - mae: 2942.7639\n",
            "Epoch 26/400\n",
            "34/34 [==============================] - 0s 8ms/step - loss: 2687.0500 - mae: 2687.0500\n",
            "Epoch 27/400\n",
            "34/34 [==============================] - 0s 6ms/step - loss: 2722.6445 - mae: 2722.6445\n",
            "Epoch 28/400\n",
            "34/34 [==============================] - 0s 4ms/step - loss: 2713.1782 - mae: 2713.1782\n",
            "Epoch 29/400\n",
            "34/34 [==============================] - 0s 5ms/step - loss: 2497.9150 - mae: 2497.9150\n",
            "Epoch 30/400\n",
            "34/34 [==============================] - 0s 4ms/step - loss: 2506.6216 - mae: 2506.6216\n",
            "Epoch 31/400\n",
            "34/34 [==============================] - 0s 4ms/step - loss: 2902.3208 - mae: 2902.3208\n",
            "Epoch 32/400\n",
            "34/34 [==============================] - 0s 4ms/step - loss: 2673.7896 - mae: 2673.7896\n",
            "Epoch 33/400\n",
            "34/34 [==============================] - 0s 4ms/step - loss: 2696.1890 - mae: 2696.1890\n",
            "Epoch 34/400\n",
            "34/34 [==============================] - 0s 4ms/step - loss: 2540.5083 - mae: 2540.5083\n",
            "Epoch 35/400\n",
            "34/34 [==============================] - 0s 4ms/step - loss: 2783.5991 - mae: 2783.5991\n",
            "Epoch 36/400\n",
            "34/34 [==============================] - 0s 4ms/step - loss: 2438.1028 - mae: 2438.1028\n",
            "Epoch 37/400\n",
            "34/34 [==============================] - 0s 4ms/step - loss: 3139.0603 - mae: 3139.0603\n",
            "Epoch 38/400\n",
            "34/34 [==============================] - 0s 4ms/step - loss: 2547.0564 - mae: 2547.0564\n",
            "Epoch 39/400\n",
            "34/34 [==============================] - 0s 4ms/step - loss: 2731.7661 - mae: 2731.7661\n",
            "Epoch 40/400\n",
            "34/34 [==============================] - 0s 4ms/step - loss: 2531.3040 - mae: 2531.3040\n",
            "Epoch 41/400\n",
            "34/34 [==============================] - 0s 4ms/step - loss: 2593.5974 - mae: 2593.5974\n",
            "Epoch 42/400\n",
            "34/34 [==============================] - 0s 4ms/step - loss: 2495.7180 - mae: 2495.7180\n",
            "Epoch 43/400\n",
            "34/34 [==============================] - 0s 4ms/step - loss: 2823.5417 - mae: 2823.5417\n",
            "Epoch 44/400\n",
            "34/34 [==============================] - 0s 4ms/step - loss: 2641.8633 - mae: 2641.8633\n",
            "Epoch 45/400\n",
            "34/34 [==============================] - 0s 4ms/step - loss: 2490.0420 - mae: 2490.0420\n",
            "Epoch 46/400\n",
            "34/34 [==============================] - 0s 4ms/step - loss: 2742.0515 - mae: 2742.0515\n",
            "Epoch 47/400\n",
            "34/34 [==============================] - 0s 4ms/step - loss: 3172.4543 - mae: 3172.4543\n",
            "Epoch 48/400\n",
            "34/34 [==============================] - 0s 4ms/step - loss: 2835.5632 - mae: 2835.5632\n",
            "Epoch 49/400\n",
            "34/34 [==============================] - 0s 4ms/step - loss: 2541.5615 - mae: 2541.5615\n",
            "Epoch 50/400\n",
            "34/34 [==============================] - 0s 4ms/step - loss: 2628.6299 - mae: 2628.6299\n",
            "Epoch 51/400\n",
            "34/34 [==============================] - 0s 4ms/step - loss: 2612.1538 - mae: 2612.1538\n",
            "Epoch 52/400\n",
            "34/34 [==============================] - 0s 4ms/step - loss: 2530.7874 - mae: 2530.7874\n",
            "Epoch 53/400\n",
            "34/34 [==============================] - 0s 4ms/step - loss: 2422.2405 - mae: 2422.2405\n",
            "Epoch 54/400\n",
            "34/34 [==============================] - 0s 4ms/step - loss: 2526.9709 - mae: 2526.9709\n",
            "Epoch 55/400\n",
            "34/34 [==============================] - 0s 4ms/step - loss: 2511.2056 - mae: 2511.2056\n",
            "Epoch 56/400\n",
            "34/34 [==============================] - 0s 4ms/step - loss: 2535.3386 - mae: 2535.3386\n",
            "Epoch 57/400\n",
            "34/34 [==============================] - 0s 4ms/step - loss: 2463.3867 - mae: 2463.3867\n",
            "Epoch 58/400\n",
            "34/34 [==============================] - 0s 4ms/step - loss: 2735.4497 - mae: 2735.4497\n",
            "Epoch 59/400\n",
            "34/34 [==============================] - 0s 4ms/step - loss: 2439.5298 - mae: 2439.5298\n",
            "Epoch 60/400\n",
            "34/34 [==============================] - 0s 4ms/step - loss: 2842.3960 - mae: 2842.3960\n",
            "Epoch 61/400\n",
            "34/34 [==============================] - 0s 4ms/step - loss: 3420.7625 - mae: 3420.7625\n",
            "Epoch 62/400\n",
            "34/34 [==============================] - 0s 4ms/step - loss: 3053.4702 - mae: 3053.4702\n",
            "Epoch 63/400\n",
            "34/34 [==============================] - 0s 5ms/step - loss: 3107.4438 - mae: 3107.4438\n",
            "Epoch 64/400\n",
            "34/34 [==============================] - 0s 4ms/step - loss: 2611.0056 - mae: 2611.0056\n",
            "Epoch 65/400\n",
            "34/34 [==============================] - 0s 5ms/step - loss: 2969.4971 - mae: 2969.4971\n",
            "Epoch 66/400\n",
            "34/34 [==============================] - 0s 4ms/step - loss: 2503.5305 - mae: 2503.5305\n",
            "Epoch 67/400\n",
            "34/34 [==============================] - 0s 4ms/step - loss: 2664.5801 - mae: 2664.5801\n",
            "Epoch 68/400\n",
            "34/34 [==============================] - 0s 4ms/step - loss: 2626.4597 - mae: 2626.4597\n",
            "Epoch 69/400\n",
            "34/34 [==============================] - 0s 4ms/step - loss: 2738.4460 - mae: 2738.4460\n",
            "Epoch 70/400\n",
            "34/34 [==============================] - 0s 5ms/step - loss: 2530.7380 - mae: 2530.7380\n",
            "Epoch 71/400\n",
            "34/34 [==============================] - 0s 4ms/step - loss: 2745.3689 - mae: 2745.3689\n",
            "Epoch 72/400\n",
            "34/34 [==============================] - 0s 5ms/step - loss: 2920.2434 - mae: 2920.2434\n",
            "Epoch 73/400\n",
            "34/34 [==============================] - 0s 4ms/step - loss: 2969.3435 - mae: 2969.3435\n",
            "Epoch 74/400\n",
            "34/34 [==============================] - 0s 4ms/step - loss: 2598.0994 - mae: 2598.0994\n",
            "Epoch 75/400\n",
            "34/34 [==============================] - 0s 4ms/step - loss: 2534.5254 - mae: 2534.5254\n",
            "Epoch 76/400\n",
            "34/34 [==============================] - 0s 5ms/step - loss: 2302.8069 - mae: 2302.8069\n",
            "Epoch 77/400\n",
            "34/34 [==============================] - 0s 4ms/step - loss: 2592.4458 - mae: 2592.4458\n",
            "Epoch 78/400\n",
            "34/34 [==============================] - 0s 4ms/step - loss: 2433.8350 - mae: 2433.8350\n",
            "Epoch 79/400\n",
            "34/34 [==============================] - 0s 4ms/step - loss: 2557.9209 - mae: 2557.9209\n",
            "Epoch 80/400\n",
            "34/34 [==============================] - 0s 4ms/step - loss: 2344.8706 - mae: 2344.8706\n",
            "Epoch 81/400\n",
            "34/34 [==============================] - 0s 4ms/step - loss: 2303.3542 - mae: 2303.3542\n",
            "Epoch 82/400\n",
            "34/34 [==============================] - 0s 4ms/step - loss: 2586.1880 - mae: 2586.1880\n",
            "Epoch 83/400\n",
            "34/34 [==============================] - 0s 4ms/step - loss: 2412.8303 - mae: 2412.8303\n",
            "Epoch 84/400\n",
            "34/34 [==============================] - 0s 4ms/step - loss: 2490.0708 - mae: 2490.0708\n",
            "Epoch 85/400\n",
            "34/34 [==============================] - 0s 4ms/step - loss: 2566.2239 - mae: 2566.2239\n",
            "Epoch 86/400\n",
            "34/34 [==============================] - 0s 4ms/step - loss: 2334.0918 - mae: 2334.0918\n",
            "Epoch 87/400\n",
            "34/34 [==============================] - 0s 4ms/step - loss: 2444.7434 - mae: 2444.7434\n",
            "Epoch 88/400\n",
            "34/34 [==============================] - 0s 4ms/step - loss: 2834.0488 - mae: 2834.0488\n",
            "Epoch 89/400\n",
            "34/34 [==============================] - 0s 5ms/step - loss: 2719.3831 - mae: 2719.3831\n",
            "Epoch 90/400\n",
            "34/34 [==============================] - 0s 4ms/step - loss: 2607.9165 - mae: 2607.9165\n",
            "Epoch 91/400\n",
            "34/34 [==============================] - 0s 4ms/step - loss: 2649.9529 - mae: 2649.9529\n",
            "Epoch 92/400\n",
            "34/34 [==============================] - 0s 4ms/step - loss: 2864.3008 - mae: 2864.3008\n",
            "Epoch 93/400\n",
            "34/34 [==============================] - 0s 4ms/step - loss: 2508.7339 - mae: 2508.7339\n",
            "Epoch 94/400\n",
            "34/34 [==============================] - 0s 4ms/step - loss: 2414.5950 - mae: 2414.5950\n",
            "Epoch 95/400\n",
            "34/34 [==============================] - 0s 4ms/step - loss: 2792.9143 - mae: 2792.9143\n",
            "Epoch 96/400\n",
            "34/34 [==============================] - 0s 4ms/step - loss: 2592.4385 - mae: 2592.4385\n",
            "Epoch 97/400\n",
            "34/34 [==============================] - 0s 4ms/step - loss: 2670.1086 - mae: 2670.1086\n",
            "Epoch 98/400\n",
            "34/34 [==============================] - 0s 4ms/step - loss: 2555.6611 - mae: 2555.6611\n",
            "Epoch 99/400\n",
            "34/34 [==============================] - 0s 4ms/step - loss: 2726.4158 - mae: 2726.4158\n",
            "Epoch 100/400\n",
            "34/34 [==============================] - 0s 5ms/step - loss: 2427.6282 - mae: 2427.6282\n",
            "Epoch 101/400\n",
            "34/34 [==============================] - 0s 4ms/step - loss: 2492.7913 - mae: 2492.7913\n",
            "Epoch 102/400\n",
            "34/34 [==============================] - 0s 5ms/step - loss: 2417.7395 - mae: 2417.7395\n",
            "Epoch 103/400\n",
            "34/34 [==============================] - 0s 4ms/step - loss: 2469.6802 - mae: 2469.6802\n",
            "Epoch 104/400\n",
            "34/34 [==============================] - 0s 4ms/step - loss: 2374.7549 - mae: 2374.7549\n",
            "Epoch 105/400\n",
            "34/34 [==============================] - 0s 4ms/step - loss: 2545.2126 - mae: 2545.2126\n",
            "Epoch 106/400\n",
            "34/34 [==============================] - 0s 4ms/step - loss: 2546.0037 - mae: 2546.0037\n",
            "Epoch 107/400\n",
            "34/34 [==============================] - 0s 4ms/step - loss: 2522.4592 - mae: 2522.4592\n",
            "Epoch 108/400\n",
            "34/34 [==============================] - 0s 4ms/step - loss: 2736.0674 - mae: 2736.0674\n",
            "Epoch 109/400\n",
            "34/34 [==============================] - 0s 5ms/step - loss: 2406.5212 - mae: 2406.5212\n",
            "Epoch 110/400\n",
            "34/34 [==============================] - 0s 4ms/step - loss: 2608.3123 - mae: 2608.3123\n",
            "Epoch 111/400\n",
            "34/34 [==============================] - 0s 4ms/step - loss: 2607.1648 - mae: 2607.1648\n",
            "Epoch 112/400\n",
            "34/34 [==============================] - 0s 4ms/step - loss: 2563.6589 - mae: 2563.6589\n",
            "Epoch 113/400\n",
            "34/34 [==============================] - 0s 4ms/step - loss: 2933.9236 - mae: 2933.9236\n",
            "Epoch 114/400\n",
            "34/34 [==============================] - 0s 4ms/step - loss: 3000.6792 - mae: 3000.6792\n",
            "Epoch 115/400\n",
            "34/34 [==============================] - 0s 5ms/step - loss: 2559.8760 - mae: 2559.8760\n",
            "Epoch 116/400\n",
            "34/34 [==============================] - 0s 4ms/step - loss: 2896.4080 - mae: 2896.4080\n",
            "Epoch 117/400\n",
            "34/34 [==============================] - 0s 4ms/step - loss: 2475.5361 - mae: 2475.5361\n",
            "Epoch 118/400\n",
            "34/34 [==============================] - 0s 4ms/step - loss: 2404.9795 - mae: 2404.9795\n",
            "Epoch 119/400\n",
            "34/34 [==============================] - 0s 4ms/step - loss: 2781.7817 - mae: 2781.7817\n",
            "Epoch 120/400\n",
            "34/34 [==============================] - 0s 4ms/step - loss: 2456.3772 - mae: 2456.3772\n",
            "Epoch 121/400\n",
            "34/34 [==============================] - 0s 4ms/step - loss: 2715.6685 - mae: 2715.6685\n",
            "Epoch 122/400\n",
            "34/34 [==============================] - 0s 4ms/step - loss: 2395.3831 - mae: 2395.3831\n",
            "Epoch 123/400\n",
            "34/34 [==============================] - 0s 4ms/step - loss: 2668.0881 - mae: 2668.0881\n",
            "Epoch 124/400\n",
            "34/34 [==============================] - 0s 5ms/step - loss: 2909.9114 - mae: 2909.9114\n",
            "Epoch 125/400\n",
            "34/34 [==============================] - 0s 4ms/step - loss: 2706.4775 - mae: 2706.4775\n",
            "Epoch 126/400\n",
            "34/34 [==============================] - 0s 4ms/step - loss: 2829.5051 - mae: 2829.5051\n",
            "Epoch 127/400\n",
            "34/34 [==============================] - 0s 4ms/step - loss: 2485.1516 - mae: 2485.1516\n",
            "Epoch 128/400\n",
            "34/34 [==============================] - 0s 5ms/step - loss: 2426.9097 - mae: 2426.9097\n",
            "Epoch 129/400\n",
            "34/34 [==============================] - 0s 4ms/step - loss: 2569.8796 - mae: 2569.8796\n",
            "Epoch 130/400\n",
            "34/34 [==============================] - 0s 4ms/step - loss: 2458.4934 - mae: 2458.4934\n",
            "Epoch 131/400\n",
            "34/34 [==============================] - 0s 4ms/step - loss: 2565.4380 - mae: 2565.4380\n",
            "Epoch 132/400\n",
            "34/34 [==============================] - 0s 4ms/step - loss: 2582.3564 - mae: 2582.3564\n",
            "Epoch 133/400\n",
            "34/34 [==============================] - 0s 5ms/step - loss: 2492.7131 - mae: 2492.7131\n",
            "Epoch 134/400\n",
            "34/34 [==============================] - 0s 6ms/step - loss: 2887.6296 - mae: 2887.6296\n",
            "Epoch 135/400\n",
            "34/34 [==============================] - 0s 4ms/step - loss: 2561.1943 - mae: 2561.1943\n",
            "Epoch 136/400\n",
            "34/34 [==============================] - 0s 6ms/step - loss: 2783.6113 - mae: 2783.6113\n",
            "Epoch 137/400\n",
            "34/34 [==============================] - 0s 5ms/step - loss: 2474.5532 - mae: 2474.5532\n",
            "Epoch 138/400\n",
            "34/34 [==============================] - 0s 5ms/step - loss: 2429.2039 - mae: 2429.2039\n",
            "Epoch 139/400\n",
            "34/34 [==============================] - 0s 5ms/step - loss: 2667.2837 - mae: 2667.2837\n",
            "Epoch 140/400\n",
            "34/34 [==============================] - 0s 5ms/step - loss: 2729.6223 - mae: 2729.6223\n",
            "Epoch 141/400\n",
            "34/34 [==============================] - 0s 5ms/step - loss: 2411.3157 - mae: 2411.3157\n",
            "Epoch 142/400\n",
            "34/34 [==============================] - 0s 6ms/step - loss: 2481.3647 - mae: 2481.3647\n",
            "Epoch 143/400\n",
            "34/34 [==============================] - 0s 5ms/step - loss: 2756.8003 - mae: 2756.8003\n",
            "Epoch 144/400\n",
            "34/34 [==============================] - 0s 5ms/step - loss: 2726.1340 - mae: 2726.1340\n",
            "Epoch 145/400\n",
            "34/34 [==============================] - 0s 6ms/step - loss: 2619.9087 - mae: 2619.9087\n",
            "Epoch 146/400\n",
            "34/34 [==============================] - 0s 8ms/step - loss: 2567.3433 - mae: 2567.3433\n",
            "Epoch 147/400\n",
            "34/34 [==============================] - 0s 6ms/step - loss: 2479.1331 - mae: 2479.1331\n",
            "Epoch 148/400\n",
            "34/34 [==============================] - 0s 4ms/step - loss: 2526.0811 - mae: 2526.0811\n",
            "Epoch 149/400\n",
            "34/34 [==============================] - 0s 6ms/step - loss: 2600.6433 - mae: 2600.6433\n",
            "Epoch 150/400\n",
            "34/34 [==============================] - 0s 7ms/step - loss: 3177.3330 - mae: 3177.3330\n",
            "Epoch 151/400\n",
            "34/34 [==============================] - 0s 7ms/step - loss: 2546.5085 - mae: 2546.5085\n",
            "Epoch 152/400\n",
            "34/34 [==============================] - 0s 6ms/step - loss: 2584.4197 - mae: 2584.4197\n",
            "Epoch 153/400\n",
            "34/34 [==============================] - 0s 6ms/step - loss: 2669.6169 - mae: 2669.6169\n",
            "Epoch 154/400\n",
            "34/34 [==============================] - 0s 8ms/step - loss: 2512.4673 - mae: 2512.4673\n",
            "Epoch 155/400\n",
            "34/34 [==============================] - 0s 8ms/step - loss: 2516.0891 - mae: 2516.0891\n",
            "Epoch 156/400\n",
            "34/34 [==============================] - 0s 7ms/step - loss: 2422.4680 - mae: 2422.4680\n",
            "Epoch 157/400\n",
            "34/34 [==============================] - 0s 7ms/step - loss: 2827.3103 - mae: 2827.3103\n",
            "Epoch 158/400\n",
            "34/34 [==============================] - 0s 8ms/step - loss: 2570.6516 - mae: 2570.6516\n",
            "Epoch 159/400\n",
            "34/34 [==============================] - 0s 7ms/step - loss: 2645.8887 - mae: 2645.8887\n",
            "Epoch 160/400\n",
            "34/34 [==============================] - 0s 9ms/step - loss: 3006.2632 - mae: 3006.2632\n",
            "Epoch 161/400\n",
            "34/34 [==============================] - 0s 11ms/step - loss: 2466.8792 - mae: 2466.8792\n",
            "Epoch 162/400\n",
            "34/34 [==============================] - 0s 8ms/step - loss: 2626.4465 - mae: 2626.4465\n",
            "Epoch 163/400\n",
            "34/34 [==============================] - 0s 8ms/step - loss: 2544.5081 - mae: 2544.5081\n",
            "Epoch 164/400\n",
            "34/34 [==============================] - 0s 8ms/step - loss: 2572.2302 - mae: 2572.2302\n",
            "Epoch 165/400\n",
            "34/34 [==============================] - 0s 8ms/step - loss: 2517.5964 - mae: 2517.5964\n",
            "Epoch 166/400\n",
            "34/34 [==============================] - 0s 9ms/step - loss: 2648.3726 - mae: 2648.3726\n",
            "Epoch 167/400\n",
            "34/34 [==============================] - 0s 9ms/step - loss: 2753.1687 - mae: 2753.1687\n",
            "Epoch 168/400\n",
            "34/34 [==============================] - 0s 11ms/step - loss: 2604.3369 - mae: 2604.3369\n",
            "Epoch 169/400\n",
            "34/34 [==============================] - 0s 9ms/step - loss: 2542.6624 - mae: 2542.6624\n",
            "Epoch 170/400\n",
            "34/34 [==============================] - 0s 8ms/step - loss: 2397.7622 - mae: 2397.7622\n",
            "Epoch 171/400\n",
            "34/34 [==============================] - 0s 10ms/step - loss: 2468.5444 - mae: 2468.5444\n",
            "Epoch 172/400\n",
            "34/34 [==============================] - 0s 7ms/step - loss: 2543.7739 - mae: 2543.7739\n",
            "Epoch 173/400\n",
            "34/34 [==============================] - 0s 9ms/step - loss: 2391.2205 - mae: 2391.2205\n",
            "Epoch 174/400\n",
            "34/34 [==============================] - 0s 10ms/step - loss: 2325.4580 - mae: 2325.4580\n",
            "Epoch 175/400\n",
            "34/34 [==============================] - 0s 10ms/step - loss: 2305.3486 - mae: 2305.3486\n",
            "Epoch 176/400\n",
            "34/34 [==============================] - 0s 10ms/step - loss: 2514.1106 - mae: 2514.1106\n",
            "Epoch 177/400\n",
            "34/34 [==============================] - 0s 9ms/step - loss: 2783.5791 - mae: 2783.5791\n",
            "Epoch 178/400\n",
            "34/34 [==============================] - 0s 9ms/step - loss: 2487.5339 - mae: 2487.5339\n",
            "Epoch 179/400\n",
            "34/34 [==============================] - 0s 7ms/step - loss: 2450.0352 - mae: 2450.0352\n",
            "Epoch 180/400\n",
            "34/34 [==============================] - 0s 9ms/step - loss: 2405.9216 - mae: 2405.9216\n",
            "Epoch 181/400\n",
            "34/34 [==============================] - 0s 8ms/step - loss: 2509.9714 - mae: 2509.9714\n",
            "Epoch 182/400\n",
            "34/34 [==============================] - 0s 7ms/step - loss: 2632.2068 - mae: 2632.2068\n",
            "Epoch 183/400\n",
            "34/34 [==============================] - 0s 8ms/step - loss: 2454.8667 - mae: 2454.8667\n",
            "Epoch 184/400\n",
            "34/34 [==============================] - 0s 9ms/step - loss: 2663.5222 - mae: 2663.5222\n",
            "Epoch 185/400\n",
            "34/34 [==============================] - 0s 10ms/step - loss: 2730.1506 - mae: 2730.1506\n",
            "Epoch 186/400\n",
            "34/34 [==============================] - 0s 10ms/step - loss: 2546.3555 - mae: 2546.3555\n",
            "Epoch 187/400\n",
            "34/34 [==============================] - 0s 10ms/step - loss: 3489.5452 - mae: 3489.5452\n",
            "Epoch 188/400\n",
            "34/34 [==============================] - 0s 8ms/step - loss: 3148.7971 - mae: 3148.7971\n",
            "Epoch 189/400\n",
            "34/34 [==============================] - 0s 9ms/step - loss: 2662.6267 - mae: 2662.6267\n",
            "Epoch 190/400\n",
            "34/34 [==============================] - 0s 6ms/step - loss: 2783.5789 - mae: 2783.5789\n",
            "Epoch 191/400\n",
            "34/34 [==============================] - 0s 8ms/step - loss: 2466.9360 - mae: 2466.9360\n",
            "Epoch 192/400\n",
            "34/34 [==============================] - 0s 7ms/step - loss: 2577.9756 - mae: 2577.9756\n",
            "Epoch 193/400\n",
            "34/34 [==============================] - 0s 7ms/step - loss: 2360.1685 - mae: 2360.1685\n",
            "Epoch 194/400\n",
            "34/34 [==============================] - 0s 7ms/step - loss: 2516.9758 - mae: 2516.9758\n",
            "Epoch 195/400\n",
            "34/34 [==============================] - 0s 8ms/step - loss: 2398.1646 - mae: 2398.1646\n",
            "Epoch 196/400\n",
            "34/34 [==============================] - 0s 7ms/step - loss: 2284.9043 - mae: 2284.9043\n",
            "Epoch 197/400\n",
            "34/34 [==============================] - 0s 8ms/step - loss: 2599.7761 - mae: 2599.7761\n",
            "Epoch 198/400\n",
            "34/34 [==============================] - 0s 7ms/step - loss: 2949.6353 - mae: 2949.6353\n",
            "Epoch 199/400\n",
            "34/34 [==============================] - 0s 7ms/step - loss: 2580.4851 - mae: 2580.4851\n",
            "Epoch 200/400\n",
            "34/34 [==============================] - 0s 7ms/step - loss: 2599.1841 - mae: 2599.1841\n",
            "Epoch 201/400\n",
            "34/34 [==============================] - 0s 7ms/step - loss: 2487.0117 - mae: 2487.0117\n",
            "Epoch 202/400\n",
            "34/34 [==============================] - 0s 8ms/step - loss: 2751.7307 - mae: 2751.7307\n",
            "Epoch 203/400\n",
            "34/34 [==============================] - 0s 7ms/step - loss: 2622.0281 - mae: 2622.0281\n",
            "Epoch 204/400\n",
            "34/34 [==============================] - 0s 7ms/step - loss: 2934.4407 - mae: 2934.4407\n",
            "Epoch 205/400\n",
            "34/34 [==============================] - 0s 7ms/step - loss: 2464.7078 - mae: 2464.7078\n",
            "Epoch 206/400\n",
            "34/34 [==============================] - 0s 8ms/step - loss: 2449.9028 - mae: 2449.9028\n",
            "Epoch 207/400\n",
            "34/34 [==============================] - 0s 7ms/step - loss: 2827.3054 - mae: 2827.3054\n",
            "Epoch 208/400\n",
            "34/34 [==============================] - 0s 8ms/step - loss: 3102.8735 - mae: 3102.8735\n",
            "Epoch 209/400\n",
            "34/34 [==============================] - 0s 7ms/step - loss: 2448.2397 - mae: 2448.2397\n",
            "Epoch 210/400\n",
            "34/34 [==============================] - 0s 7ms/step - loss: 2419.2322 - mae: 2419.2322\n",
            "Epoch 211/400\n",
            "34/34 [==============================] - 0s 7ms/step - loss: 2789.0576 - mae: 2789.0576\n",
            "Epoch 212/400\n",
            "34/34 [==============================] - 0s 9ms/step - loss: 2742.3057 - mae: 2742.3057\n",
            "Epoch 213/400\n",
            "34/34 [==============================] - 0s 7ms/step - loss: 2540.5173 - mae: 2540.5173\n",
            "Epoch 214/400\n",
            "34/34 [==============================] - 0s 7ms/step - loss: 2485.5928 - mae: 2485.5928\n",
            "Epoch 215/400\n",
            "34/34 [==============================] - 0s 7ms/step - loss: 2480.7310 - mae: 2480.7310\n",
            "Epoch 216/400\n",
            "34/34 [==============================] - 0s 7ms/step - loss: 2584.7922 - mae: 2584.7922\n",
            "Epoch 217/400\n",
            "34/34 [==============================] - 0s 7ms/step - loss: 2682.6350 - mae: 2682.6350\n",
            "Epoch 218/400\n",
            "34/34 [==============================] - 0s 7ms/step - loss: 2361.8027 - mae: 2361.8027\n",
            "Epoch 219/400\n",
            "34/34 [==============================] - 0s 7ms/step - loss: 2412.6331 - mae: 2412.6331\n",
            "Epoch 220/400\n",
            "34/34 [==============================] - 0s 7ms/step - loss: 2426.6125 - mae: 2426.6125\n",
            "Epoch 221/400\n",
            "34/34 [==============================] - 0s 7ms/step - loss: 2621.6191 - mae: 2621.6191\n",
            "Epoch 222/400\n",
            "34/34 [==============================] - 0s 7ms/step - loss: 2543.3364 - mae: 2543.3364\n",
            "Epoch 223/400\n",
            "34/34 [==============================] - 0s 7ms/step - loss: 2619.8936 - mae: 2619.8936\n",
            "Epoch 224/400\n",
            "34/34 [==============================] - 0s 7ms/step - loss: 2512.6570 - mae: 2512.6570\n",
            "Epoch 225/400\n",
            "34/34 [==============================] - 0s 7ms/step - loss: 2465.3076 - mae: 2465.3076\n",
            "Epoch 226/400\n",
            "34/34 [==============================] - 0s 7ms/step - loss: 2632.8083 - mae: 2632.8083\n",
            "Epoch 227/400\n",
            "34/34 [==============================] - 0s 7ms/step - loss: 2945.1182 - mae: 2945.1182\n",
            "Epoch 228/400\n",
            "34/34 [==============================] - 0s 6ms/step - loss: 2436.9622 - mae: 2436.9622\n",
            "Epoch 229/400\n",
            "34/34 [==============================] - 0s 7ms/step - loss: 2432.5242 - mae: 2432.5242\n",
            "Epoch 230/400\n",
            "34/34 [==============================] - 0s 10ms/step - loss: 2727.7139 - mae: 2727.7139\n",
            "Epoch 231/400\n",
            "34/34 [==============================] - 0s 11ms/step - loss: 2566.8711 - mae: 2566.8711\n",
            "Epoch 232/400\n",
            "34/34 [==============================] - 0s 9ms/step - loss: 2437.7788 - mae: 2437.7788\n",
            "Epoch 233/400\n",
            "34/34 [==============================] - 0s 11ms/step - loss: 2525.4790 - mae: 2525.4790\n",
            "Epoch 234/400\n",
            "34/34 [==============================] - 0s 9ms/step - loss: 2381.2332 - mae: 2381.2332\n",
            "Epoch 235/400\n",
            "34/34 [==============================] - 0s 9ms/step - loss: 2392.1868 - mae: 2392.1868\n",
            "Epoch 236/400\n",
            "34/34 [==============================] - 0s 10ms/step - loss: 2537.7095 - mae: 2537.7095\n",
            "Epoch 237/400\n",
            "34/34 [==============================] - 0s 10ms/step - loss: 2626.0525 - mae: 2626.0525\n",
            "Epoch 238/400\n",
            "34/34 [==============================] - 0s 7ms/step - loss: 2450.0972 - mae: 2450.0972\n",
            "Epoch 239/400\n",
            "34/34 [==============================] - 0s 6ms/step - loss: 2526.2810 - mae: 2526.2810\n",
            "Epoch 240/400\n",
            "34/34 [==============================] - 0s 8ms/step - loss: 2793.6494 - mae: 2793.6494\n",
            "Epoch 241/400\n",
            "34/34 [==============================] - 0s 8ms/step - loss: 2695.8784 - mae: 2695.8784\n",
            "Epoch 242/400\n",
            "34/34 [==============================] - 0s 7ms/step - loss: 2542.4697 - mae: 2542.4697\n",
            "Epoch 243/400\n",
            "34/34 [==============================] - 0s 7ms/step - loss: 2546.1646 - mae: 2546.1646\n",
            "Epoch 244/400\n",
            "34/34 [==============================] - 0s 7ms/step - loss: 3051.4817 - mae: 3051.4817\n",
            "Epoch 245/400\n",
            "34/34 [==============================] - 0s 7ms/step - loss: 2781.8669 - mae: 2781.8669\n",
            "Epoch 246/400\n",
            "34/34 [==============================] - 0s 6ms/step - loss: 2749.4280 - mae: 2749.4280\n",
            "Epoch 247/400\n",
            "34/34 [==============================] - 0s 8ms/step - loss: 2700.3101 - mae: 2700.3101\n",
            "Epoch 248/400\n",
            "34/34 [==============================] - 0s 8ms/step - loss: 2679.9385 - mae: 2679.9385\n",
            "Epoch 249/400\n",
            "34/34 [==============================] - 0s 8ms/step - loss: 2783.2742 - mae: 2783.2742\n",
            "Epoch 250/400\n",
            "34/34 [==============================] - 0s 7ms/step - loss: 2426.0210 - mae: 2426.0210\n",
            "Epoch 251/400\n",
            "34/34 [==============================] - 0s 8ms/step - loss: 2438.6201 - mae: 2438.6201\n",
            "Epoch 252/400\n",
            "34/34 [==============================] - 0s 7ms/step - loss: 2579.9043 - mae: 2579.9043\n",
            "Epoch 253/400\n",
            "34/34 [==============================] - 0s 9ms/step - loss: 2651.9150 - mae: 2651.9150\n",
            "Epoch 254/400\n",
            "34/34 [==============================] - 0s 7ms/step - loss: 2504.0454 - mae: 2504.0454\n",
            "Epoch 255/400\n",
            "34/34 [==============================] - 0s 7ms/step - loss: 2358.8906 - mae: 2358.8906\n",
            "Epoch 256/400\n",
            "34/34 [==============================] - 0s 7ms/step - loss: 2401.5159 - mae: 2401.5159\n",
            "Epoch 257/400\n",
            "34/34 [==============================] - 0s 9ms/step - loss: 2447.2080 - mae: 2447.2080\n",
            "Epoch 258/400\n",
            "34/34 [==============================] - 0s 8ms/step - loss: 2719.4961 - mae: 2719.4961\n",
            "Epoch 259/400\n",
            "34/34 [==============================] - 0s 8ms/step - loss: 2563.4944 - mae: 2563.4944\n",
            "Epoch 260/400\n",
            "34/34 [==============================] - 0s 7ms/step - loss: 2469.8376 - mae: 2469.8376\n",
            "Epoch 261/400\n",
            "34/34 [==============================] - 0s 7ms/step - loss: 2832.4651 - mae: 2832.4651\n",
            "Epoch 262/400\n",
            "34/34 [==============================] - 0s 7ms/step - loss: 2533.3003 - mae: 2533.3003\n",
            "Epoch 263/400\n",
            "34/34 [==============================] - 0s 7ms/step - loss: 2358.8481 - mae: 2358.8481\n",
            "Epoch 264/400\n",
            "34/34 [==============================] - 0s 7ms/step - loss: 2671.2119 - mae: 2671.2119\n",
            "Epoch 265/400\n",
            "34/34 [==============================] - 0s 7ms/step - loss: 2379.6506 - mae: 2379.6506\n",
            "Epoch 266/400\n",
            "34/34 [==============================] - 0s 7ms/step - loss: 2490.5913 - mae: 2490.5913\n",
            "Epoch 267/400\n",
            "34/34 [==============================] - 0s 7ms/step - loss: 2606.2649 - mae: 2606.2649\n",
            "Epoch 268/400\n",
            "34/34 [==============================] - 0s 7ms/step - loss: 2580.1262 - mae: 2580.1262\n",
            "Epoch 269/400\n",
            "34/34 [==============================] - 0s 8ms/step - loss: 2391.5515 - mae: 2391.5515\n",
            "Epoch 270/400\n",
            "34/34 [==============================] - 0s 9ms/step - loss: 2387.7542 - mae: 2387.7542\n",
            "Epoch 271/400\n",
            "34/34 [==============================] - 0s 7ms/step - loss: 2404.4590 - mae: 2404.4590\n",
            "Epoch 272/400\n",
            "34/34 [==============================] - 0s 8ms/step - loss: 2626.0051 - mae: 2626.0051\n",
            "Epoch 273/400\n",
            "34/34 [==============================] - 0s 7ms/step - loss: 2579.2275 - mae: 2579.2275\n",
            "Epoch 274/400\n",
            "34/34 [==============================] - 0s 8ms/step - loss: 2439.6133 - mae: 2439.6133\n",
            "Epoch 275/400\n",
            "34/34 [==============================] - 0s 7ms/step - loss: 2651.1951 - mae: 2651.1951\n",
            "Epoch 276/400\n",
            "34/34 [==============================] - 0s 7ms/step - loss: 2706.0027 - mae: 2706.0027\n",
            "Epoch 277/400\n",
            "34/34 [==============================] - 0s 7ms/step - loss: 2510.5901 - mae: 2510.5901\n",
            "Epoch 278/400\n",
            "34/34 [==============================] - 0s 9ms/step - loss: 2488.4009 - mae: 2488.4009\n",
            "Epoch 279/400\n",
            "34/34 [==============================] - 0s 8ms/step - loss: 2745.8047 - mae: 2745.8047\n",
            "Epoch 280/400\n",
            "34/34 [==============================] - 0s 7ms/step - loss: 2750.9409 - mae: 2750.9409\n",
            "Epoch 281/400\n",
            "34/34 [==============================] - 0s 8ms/step - loss: 2708.8303 - mae: 2708.8303\n",
            "Epoch 282/400\n",
            "34/34 [==============================] - 0s 8ms/step - loss: 2482.0891 - mae: 2482.0891\n",
            "Epoch 283/400\n",
            "34/34 [==============================] - 0s 8ms/step - loss: 2575.9468 - mae: 2575.9468\n",
            "Epoch 284/400\n",
            "34/34 [==============================] - 0s 7ms/step - loss: 2498.1328 - mae: 2498.1328\n",
            "Epoch 285/400\n",
            "34/34 [==============================] - 0s 7ms/step - loss: 2574.6379 - mae: 2574.6379\n",
            "Epoch 286/400\n",
            "34/34 [==============================] - 0s 7ms/step - loss: 2361.3289 - mae: 2361.3289\n",
            "Epoch 287/400\n",
            "34/34 [==============================] - 0s 8ms/step - loss: 2865.5110 - mae: 2865.5110\n",
            "Epoch 288/400\n",
            "34/34 [==============================] - 0s 7ms/step - loss: 2717.3669 - mae: 2717.3669\n",
            "Epoch 289/400\n",
            "34/34 [==============================] - 0s 7ms/step - loss: 2684.5505 - mae: 2684.5505\n",
            "Epoch 290/400\n",
            "34/34 [==============================] - 0s 7ms/step - loss: 2477.7822 - mae: 2477.7822\n",
            "Epoch 291/400\n",
            "34/34 [==============================] - 0s 7ms/step - loss: 2571.0591 - mae: 2571.0591\n",
            "Epoch 292/400\n",
            "34/34 [==============================] - 0s 7ms/step - loss: 2356.3252 - mae: 2356.3252\n",
            "Epoch 293/400\n",
            "34/34 [==============================] - 0s 9ms/step - loss: 2877.1084 - mae: 2877.1084\n",
            "Epoch 294/400\n",
            "34/34 [==============================] - 0s 8ms/step - loss: 2550.5427 - mae: 2550.5427\n",
            "Epoch 295/400\n",
            "34/34 [==============================] - 0s 7ms/step - loss: 2470.7390 - mae: 2470.7390\n",
            "Epoch 296/400\n",
            "34/34 [==============================] - 0s 7ms/step - loss: 2935.5059 - mae: 2935.5059\n",
            "Epoch 297/400\n",
            "34/34 [==============================] - 0s 9ms/step - loss: 2566.4221 - mae: 2566.4221\n",
            "Epoch 298/400\n",
            "34/34 [==============================] - 0s 7ms/step - loss: 2952.1082 - mae: 2952.1082\n",
            "Epoch 299/400\n",
            "34/34 [==============================] - 0s 7ms/step - loss: 2947.5598 - mae: 2947.5598\n",
            "Epoch 300/400\n",
            "34/34 [==============================] - 0s 7ms/step - loss: 2380.4346 - mae: 2380.4346\n",
            "Epoch 301/400\n",
            "34/34 [==============================] - 0s 7ms/step - loss: 2436.1692 - mae: 2436.1692\n",
            "Epoch 302/400\n",
            "34/34 [==============================] - 0s 7ms/step - loss: 2534.5515 - mae: 2534.5515\n",
            "Epoch 303/400\n",
            "34/34 [==============================] - 0s 7ms/step - loss: 2807.5400 - mae: 2807.5400\n",
            "Epoch 304/400\n",
            "34/34 [==============================] - 0s 8ms/step - loss: 2388.8757 - mae: 2388.8757\n",
            "Epoch 305/400\n",
            "34/34 [==============================] - 0s 7ms/step - loss: 2445.7056 - mae: 2445.7056\n",
            "Epoch 306/400\n",
            "34/34 [==============================] - 0s 8ms/step - loss: 2464.2314 - mae: 2464.2314\n",
            "Epoch 307/400\n",
            "34/34 [==============================] - 0s 8ms/step - loss: 2964.1946 - mae: 2964.1946\n",
            "Epoch 308/400\n",
            "34/34 [==============================] - 0s 8ms/step - loss: 2483.0601 - mae: 2483.0601\n",
            "Epoch 309/400\n",
            "34/34 [==============================] - 0s 8ms/step - loss: 2422.7388 - mae: 2422.7388\n",
            "Epoch 310/400\n",
            "34/34 [==============================] - 0s 7ms/step - loss: 2599.7998 - mae: 2599.7998\n",
            "Epoch 311/400\n",
            "34/34 [==============================] - 0s 7ms/step - loss: 2465.6541 - mae: 2465.6541\n",
            "Epoch 312/400\n",
            "34/34 [==============================] - 0s 8ms/step - loss: 2527.4458 - mae: 2527.4458\n",
            "Epoch 313/400\n",
            "34/34 [==============================] - 0s 7ms/step - loss: 2551.5549 - mae: 2551.5549\n",
            "Epoch 314/400\n",
            "34/34 [==============================] - 0s 7ms/step - loss: 2570.3384 - mae: 2570.3384\n",
            "Epoch 315/400\n",
            "34/34 [==============================] - 0s 7ms/step - loss: 2981.7910 - mae: 2981.7910\n",
            "Epoch 316/400\n",
            "34/34 [==============================] - 0s 7ms/step - loss: 2515.7710 - mae: 2515.7710\n",
            "Epoch 317/400\n",
            "34/34 [==============================] - 0s 7ms/step - loss: 2503.8540 - mae: 2503.8540\n",
            "Epoch 318/400\n",
            "34/34 [==============================] - 0s 8ms/step - loss: 2622.7473 - mae: 2622.7473\n",
            "Epoch 319/400\n",
            "34/34 [==============================] - 0s 7ms/step - loss: 2586.4683 - mae: 2586.4683\n",
            "Epoch 320/400\n",
            "34/34 [==============================] - 0s 8ms/step - loss: 2538.7227 - mae: 2538.7227\n",
            "Epoch 321/400\n",
            "34/34 [==============================] - 0s 8ms/step - loss: 2435.4116 - mae: 2435.4116\n",
            "Epoch 322/400\n",
            "34/34 [==============================] - 0s 7ms/step - loss: 2439.8892 - mae: 2439.8892\n",
            "Epoch 323/400\n",
            "34/34 [==============================] - 0s 8ms/step - loss: 2867.3684 - mae: 2867.3684\n",
            "Epoch 324/400\n",
            "34/34 [==============================] - 0s 7ms/step - loss: 2804.2869 - mae: 2804.2869\n",
            "Epoch 325/400\n",
            "34/34 [==============================] - 0s 7ms/step - loss: 2530.2307 - mae: 2530.2307\n",
            "Epoch 326/400\n",
            "34/34 [==============================] - 0s 6ms/step - loss: 2588.0344 - mae: 2588.0344\n",
            "Epoch 327/400\n",
            "34/34 [==============================] - 0s 5ms/step - loss: 2520.0525 - mae: 2520.0525\n",
            "Epoch 328/400\n",
            "34/34 [==============================] - 0s 5ms/step - loss: 3056.7610 - mae: 3056.7610\n",
            "Epoch 329/400\n",
            "34/34 [==============================] - 0s 5ms/step - loss: 2642.5696 - mae: 2642.5696\n",
            "Epoch 330/400\n",
            "34/34 [==============================] - 0s 5ms/step - loss: 2520.6746 - mae: 2520.6746\n",
            "Epoch 331/400\n",
            "34/34 [==============================] - 0s 5ms/step - loss: 2656.2583 - mae: 2656.2583\n",
            "Epoch 332/400\n",
            "34/34 [==============================] - 0s 4ms/step - loss: 2527.2844 - mae: 2527.2844\n",
            "Epoch 333/400\n",
            "34/34 [==============================] - 0s 4ms/step - loss: 2576.8237 - mae: 2576.8237\n",
            "Epoch 334/400\n",
            "34/34 [==============================] - 0s 5ms/step - loss: 2371.8267 - mae: 2371.8267\n",
            "Epoch 335/400\n",
            "34/34 [==============================] - 0s 4ms/step - loss: 2498.6887 - mae: 2498.6887\n",
            "Epoch 336/400\n",
            "34/34 [==============================] - 0s 5ms/step - loss: 2708.5088 - mae: 2708.5088\n",
            "Epoch 337/400\n",
            "34/34 [==============================] - 0s 4ms/step - loss: 2598.0601 - mae: 2598.0601\n",
            "Epoch 338/400\n",
            "34/34 [==============================] - 0s 5ms/step - loss: 2555.1624 - mae: 2555.1624\n",
            "Epoch 339/400\n",
            "34/34 [==============================] - 0s 4ms/step - loss: 2600.7478 - mae: 2600.7478\n",
            "Epoch 340/400\n",
            "34/34 [==============================] - 0s 5ms/step - loss: 2648.8184 - mae: 2648.8184\n",
            "Epoch 341/400\n",
            "34/34 [==============================] - 0s 4ms/step - loss: 2743.1558 - mae: 2743.1558\n",
            "Epoch 342/400\n",
            "34/34 [==============================] - 0s 5ms/step - loss: 2562.6980 - mae: 2562.6980\n",
            "Epoch 343/400\n",
            "34/34 [==============================] - 0s 4ms/step - loss: 2517.3452 - mae: 2517.3452\n",
            "Epoch 344/400\n",
            "34/34 [==============================] - 0s 5ms/step - loss: 2556.5845 - mae: 2556.5845\n",
            "Epoch 345/400\n",
            "34/34 [==============================] - 0s 5ms/step - loss: 2494.2522 - mae: 2494.2522\n",
            "Epoch 346/400\n",
            "34/34 [==============================] - 0s 5ms/step - loss: 2654.5835 - mae: 2654.5835\n",
            "Epoch 347/400\n",
            "34/34 [==============================] - 0s 4ms/step - loss: 2635.8726 - mae: 2635.8726\n",
            "Epoch 348/400\n",
            "34/34 [==============================] - 0s 5ms/step - loss: 2834.6189 - mae: 2834.6189\n",
            "Epoch 349/400\n",
            "34/34 [==============================] - 0s 4ms/step - loss: 2846.7043 - mae: 2846.7043\n",
            "Epoch 350/400\n",
            "34/34 [==============================] - 0s 4ms/step - loss: 2619.6274 - mae: 2619.6274\n",
            "Epoch 351/400\n",
            "34/34 [==============================] - 0s 4ms/step - loss: 2485.5227 - mae: 2485.5227\n",
            "Epoch 352/400\n",
            "34/34 [==============================] - 0s 4ms/step - loss: 2361.5459 - mae: 2361.5459\n",
            "Epoch 353/400\n",
            "34/34 [==============================] - 0s 4ms/step - loss: 2552.7410 - mae: 2552.7410\n",
            "Epoch 354/400\n",
            "34/34 [==============================] - 0s 4ms/step - loss: 2919.2974 - mae: 2919.2974\n",
            "Epoch 355/400\n",
            "34/34 [==============================] - 0s 5ms/step - loss: 2808.6431 - mae: 2808.6431\n",
            "Epoch 356/400\n",
            "34/34 [==============================] - 0s 4ms/step - loss: 2597.0088 - mae: 2597.0088\n",
            "Epoch 357/400\n",
            "34/34 [==============================] - 0s 5ms/step - loss: 2470.4924 - mae: 2470.4924\n",
            "Epoch 358/400\n",
            "34/34 [==============================] - 0s 4ms/step - loss: 2600.2917 - mae: 2600.2917\n",
            "Epoch 359/400\n",
            "34/34 [==============================] - 0s 5ms/step - loss: 2633.9595 - mae: 2633.9595\n",
            "Epoch 360/400\n",
            "34/34 [==============================] - 0s 5ms/step - loss: 2524.5400 - mae: 2524.5400\n",
            "Epoch 361/400\n",
            "34/34 [==============================] - 0s 5ms/step - loss: 2553.5891 - mae: 2553.5891\n",
            "Epoch 362/400\n",
            "34/34 [==============================] - 0s 4ms/step - loss: 2543.1614 - mae: 2543.1614\n",
            "Epoch 363/400\n",
            "34/34 [==============================] - 0s 5ms/step - loss: 2433.1592 - mae: 2433.1592\n",
            "Epoch 364/400\n",
            "34/34 [==============================] - 0s 5ms/step - loss: 2415.0427 - mae: 2415.0427\n",
            "Epoch 365/400\n",
            "34/34 [==============================] - 0s 5ms/step - loss: 2480.3464 - mae: 2480.3464\n",
            "Epoch 366/400\n",
            "34/34 [==============================] - 0s 4ms/step - loss: 2553.4041 - mae: 2553.4041\n",
            "Epoch 367/400\n",
            "34/34 [==============================] - 0s 4ms/step - loss: 2792.5991 - mae: 2792.5991\n",
            "Epoch 368/400\n",
            "34/34 [==============================] - 0s 4ms/step - loss: 2519.5391 - mae: 2519.5391\n",
            "Epoch 369/400\n",
            "34/34 [==============================] - 0s 5ms/step - loss: 2848.8364 - mae: 2848.8364\n",
            "Epoch 370/400\n",
            "34/34 [==============================] - 0s 5ms/step - loss: 2529.9250 - mae: 2529.9250\n",
            "Epoch 371/400\n",
            "34/34 [==============================] - 0s 5ms/step - loss: 2501.6948 - mae: 2501.6948\n",
            "Epoch 372/400\n",
            "34/34 [==============================] - 0s 4ms/step - loss: 2509.0552 - mae: 2509.0552\n",
            "Epoch 373/400\n",
            "34/34 [==============================] - 0s 5ms/step - loss: 2363.9150 - mae: 2363.9150\n",
            "Epoch 374/400\n",
            "34/34 [==============================] - 0s 4ms/step - loss: 2408.0547 - mae: 2408.0547\n",
            "Epoch 375/400\n",
            "34/34 [==============================] - 0s 5ms/step - loss: 2388.6216 - mae: 2388.6216\n",
            "Epoch 376/400\n",
            "34/34 [==============================] - 0s 4ms/step - loss: 2577.8167 - mae: 2577.8167\n",
            "Epoch 377/400\n",
            "34/34 [==============================] - 0s 5ms/step - loss: 3218.8035 - mae: 3218.8035\n",
            "Epoch 378/400\n",
            "34/34 [==============================] - 0s 5ms/step - loss: 2590.4265 - mae: 2590.4265\n",
            "Epoch 379/400\n",
            "34/34 [==============================] - 0s 4ms/step - loss: 2434.2129 - mae: 2434.2129\n",
            "Epoch 380/400\n",
            "34/34 [==============================] - 0s 5ms/step - loss: 2545.2268 - mae: 2545.2268\n",
            "Epoch 381/400\n",
            "34/34 [==============================] - 0s 4ms/step - loss: 2437.8254 - mae: 2437.8254\n",
            "Epoch 382/400\n",
            "34/34 [==============================] - 0s 5ms/step - loss: 2695.8225 - mae: 2695.8225\n",
            "Epoch 383/400\n",
            "34/34 [==============================] - 0s 5ms/step - loss: 2599.6313 - mae: 2599.6313\n",
            "Epoch 384/400\n",
            "34/34 [==============================] - 0s 4ms/step - loss: 2481.9148 - mae: 2481.9148\n",
            "Epoch 385/400\n",
            "34/34 [==============================] - 0s 5ms/step - loss: 2535.2004 - mae: 2535.2004\n",
            "Epoch 386/400\n",
            "34/34 [==============================] - 0s 5ms/step - loss: 2578.0820 - mae: 2578.0820\n",
            "Epoch 387/400\n",
            "34/34 [==============================] - 0s 5ms/step - loss: 2606.2483 - mae: 2606.2483\n",
            "Epoch 388/400\n",
            "34/34 [==============================] - 0s 5ms/step - loss: 2573.8137 - mae: 2573.8137\n",
            "Epoch 389/400\n",
            "34/34 [==============================] - 0s 5ms/step - loss: 2497.4871 - mae: 2497.4871\n",
            "Epoch 390/400\n",
            "34/34 [==============================] - 0s 4ms/step - loss: 2713.4595 - mae: 2713.4595\n",
            "Epoch 391/400\n",
            "34/34 [==============================] - 0s 5ms/step - loss: 2373.1941 - mae: 2373.1941\n",
            "Epoch 392/400\n",
            "34/34 [==============================] - 0s 5ms/step - loss: 2560.5066 - mae: 2560.5066\n",
            "Epoch 393/400\n",
            "34/34 [==============================] - 0s 5ms/step - loss: 2547.3511 - mae: 2547.3511\n",
            "Epoch 394/400\n",
            "34/34 [==============================] - 0s 5ms/step - loss: 2786.3821 - mae: 2786.3821\n",
            "Epoch 395/400\n",
            "34/34 [==============================] - 0s 5ms/step - loss: 2540.5276 - mae: 2540.5276\n",
            "Epoch 396/400\n",
            "34/34 [==============================] - 0s 5ms/step - loss: 2627.7532 - mae: 2627.7532\n",
            "Epoch 397/400\n",
            "34/34 [==============================] - 0s 5ms/step - loss: 2717.5452 - mae: 2717.5452\n",
            "Epoch 398/400\n",
            "34/34 [==============================] - 0s 5ms/step - loss: 2644.6421 - mae: 2644.6421\n",
            "Epoch 399/400\n",
            "34/34 [==============================] - 0s 5ms/step - loss: 2408.2241 - mae: 2408.2241\n",
            "Epoch 400/400\n",
            "34/34 [==============================] - 0s 5ms/step - loss: 2538.0742 - mae: 2538.0742\n"
          ]
        }
      ]
    },
    {
      "cell_type": "code",
      "source": [
        "#evaluation\n",
        "insurance_model2.evaluate(x_test,y_test)\n",
        "# we notice that our first last model was better\n"
      ],
      "metadata": {
        "colab": {
          "base_uri": "https://localhost:8080/"
        },
        "id": "pefDmz0OR6X3",
        "outputId": "5db59893-f298-496a-ea98-872655dcc1b0"
      },
      "execution_count": 78,
      "outputs": [
        {
          "output_type": "stream",
          "name": "stdout",
          "text": [
            "9/9 [==============================] - 0s 3ms/step - loss: 3009.5757 - mae: 3009.5757\n"
          ]
        },
        {
          "output_type": "execute_result",
          "data": {
            "text/plain": [
              "[3009.57568359375, 3009.57568359375]"
            ]
          },
          "metadata": {},
          "execution_count": 78
        }
      ]
    },
    {
      "cell_type": "code",
      "source": [
        "#plot history(our loss curve)\n",
        "pd.DataFrame(history.history).plot()\n",
        "plt.ylabel(\"loss\")\n",
        "plt.xlabel(\"epochs\")\n",
        "pd.DataFrame(history1.history).plot()\n",
        "plt.ylabel(\"loss\")\n",
        "plt.xlabel(\"epochs\")"
      ],
      "metadata": {
        "colab": {
          "base_uri": "https://localhost:8080/",
          "height": 558
        },
        "id": "G3LutX7iSVe8",
        "outputId": "cc86d7d3-ffdd-4687-ae7a-b5587111aeb1"
      },
      "execution_count": 81,
      "outputs": [
        {
          "output_type": "execute_result",
          "data": {
            "text/plain": [
              "Text(0.5, 0, 'epochs')"
            ]
          },
          "metadata": {},
          "execution_count": 81
        },
        {
          "output_type": "display_data",
          "data": {
            "text/plain": [
              "<Figure size 432x288 with 1 Axes>"
            ],
            "image/png": "[encoded data removed]"
          },
          "metadata": {
            "needs_background": "light"
          }
        },
        {
          "output_type": "display_data",
          "data": {
            "text/plain": [
              "<Figure size 432x288 with 1 Axes>"
            ],
            "image/png": "[encoded data removed]"
          },
          "metadata": {
            "needs_background": "light"
          }
        }
      ]
    },
    {
      "cell_type": "code",
      "source": [
        "#preprocessing data \n",
        "import pandas as pd\n",
        "import matplotlib.pyplot as plt\n",
        "import tensorflow as tf\n",
        "insurance = pd.read_csv(\"https://raw.githubusercontent.com/stedy/Machine-Learning-with-R-datasets/master/insurance.csv\")\n"
      ],
      "metadata": {
        "id": "2IG-0gLqVIxG"
      },
      "execution_count": 82,
      "outputs": []
    }
  ],
  "metadata": {
    "accelerator": "GPU",
    "colab": {
      "collapsed_sections": [],
      "name": "test.ipynb",
      "provenance": [],
      "toc_visible": true,
      "authorship_tag": "ABX9TyPZkl896HGHJUiTh94dUUxt",
      "include_colab_link": true
    },
    "kernelspec": {
      "display_name": "Python 3",
      "name": "python3"
    },
    "language_info": {
      "name": "python"
    }
  },
  "nbformat": 4,
  "nbformat_minor": 0
}