{
  "nbformat": 4,
  "nbformat_minor": 0,
  "metadata": {
    "colab": {
      "name": "transfer_learning_part3.ipynb",
      "provenance": [],
      "collapsed_sections": [],
      "authorship_tag": "ABX9TyOsSTk/aY4P3WC8uDOhq1h5",
      "include_colab_link": true
    },
    "kernelspec": {
      "name": "python3",
      "display_name": "Python 3"
    },
    "language_info": {
      "name": "python"
    },
    "accelerator": "GPU"
  },
  "cells": [
    {
      "cell_type": "markdown",
      "metadata": {
        "id": "view-in-github",
        "colab_type": "text"
      },
      "source": [
        "<a href=\"https://colab.research.google.com/github/zlximon/Tensorflow_DL/blob/master/transfer_learning_part3.ipynb\" target=\"_parent\"><img src=\"https://colab.research.google.com/assets/colab-badge.svg\" alt=\"Open In Colab\"/></a>"
      ]
    },
    {
      "cell_type": "code",
      "execution_count": 1,
      "metadata": {
        "colab": {
          "base_uri": "https://localhost:8080/"
        },
        "id": "Xthckx_yYNnP",
        "outputId": "15298bd3-31a7-44ac-9fa1-12c84bf310d9"
      },
      "outputs": [
        {
          "output_type": "stream",
          "name": "stdout",
          "text": [
            "--2022-05-27 08:30:04--  https://raw.githubusercontent.com/mrdbourke/tensorflow-deep-learning/main/extras/helper_functions.py\n",
            "Resolving raw.githubusercontent.com (raw.githubusercontent.com)... 185.199.108.133, 185.199.109.133, 185.199.110.133, ...\n",
            "Connecting to raw.githubusercontent.com (raw.githubusercontent.com)|185.199.108.133|:443... connected.\n",
            "HTTP request sent, awaiting response... 200 OK\n",
            "Length: 10246 (10K) [text/plain]\n",
            "Saving to: ‘helper_functions.py’\n",
            "\n",
            "\rhelper_functions.py   0%[                    ]       0  --.-KB/s               \rhelper_functions.py 100%[===================>]  10.01K  --.-KB/s    in 0s      \n",
            "\n",
            "2022-05-27 08:30:04 (110 MB/s) - ‘helper_functions.py’ saved [10246/10246]\n",
            "\n"
          ]
        }
      ],
      "source": [
        "!wget https://raw.githubusercontent.com/mrdbourke/tensorflow-deep-learning/main/extras/helper_functions.py\n"
      ]
    },
    {
      "cell_type": "code",
      "source": [
        "from helper_functions import create_tensorboard_callback, plot_loss_curves, unzip_data, compare_historys, walk_through_dir\n",
        "#helper function"
      ],
      "metadata": {
        "id": "DusIuH2Nbhz4"
      },
      "execution_count": 2,
      "outputs": []
    },
    {
      "cell_type": "code",
      "source": [
        "!wget https://storage.googleapis.com/ztm_tf_course/food_vision/101_food_classes_10_percent.zip \n",
        "\n",
        "unzip_data(\"101_food_classes_10_percent.zip\")\n",
        "\n",
        "train_dir=\"101_food_classes_10_percent/train/\"\n",
        "test_dir=\"101_food_classes_10_percent/test/\""
      ],
      "metadata": {
        "colab": {
          "base_uri": "https://localhost:8080/"
        },
        "id": "1JNvPXA4dz8Q",
        "outputId": "831d79eb-19ed-4e99-d68f-5e8bee415b70"
      },
      "execution_count": 3,
      "outputs": [
        {
          "output_type": "stream",
          "name": "stdout",
          "text": [
            "--2022-05-27 08:30:07--  https://storage.googleapis.com/ztm_tf_course/food_vision/101_food_classes_10_percent.zip\n",
            "Resolving storage.googleapis.com (storage.googleapis.com)... 74.125.195.128, 142.250.99.128, 142.250.107.128, ...\n",
            "Connecting to storage.googleapis.com (storage.googleapis.com)|74.125.195.128|:443... connected.\n",
            "HTTP request sent, awaiting response... 200 OK\n",
            "Length: 1625420029 (1.5G) [application/zip]\n",
            "Saving to: ‘101_food_classes_10_percent.zip’\n",
            "\n",
            "101_food_classes_10 100%[===================>]   1.51G   263MB/s    in 5.9s    \n",
            "\n",
            "2022-05-27 08:30:13 (261 MB/s) - ‘101_food_classes_10_percent.zip’ saved [1625420029/1625420029]\n",
            "\n"
          ]
        }
      ]
    },
    {
      "cell_type": "code",
      "source": [
        "import tensorflow as tf\n"
      ],
      "metadata": {
        "id": "uNX0ZuiwfAZf"
      },
      "execution_count": 4,
      "outputs": []
    },
    {
      "cell_type": "code",
      "source": [
        "IMG_size=(224,224)\n",
        "train_data_all_10p=tf.keras.preprocessing.image_dataset_from_directory(train_dir,label_mode=\"categorical\",image_size=IMG_size)\n",
        "test_data=tf.keras.preprocessing.image_dataset_from_directory(test_dir,label_mode=\"categorical\",image_size=IMG_size,shuffle=False)"
      ],
      "metadata": {
        "colab": {
          "base_uri": "https://localhost:8080/"
        },
        "id": "gmR4fgE_evWu",
        "outputId": "2ee499a3-eb2c-4362-c8df-c3b63d6734e5"
      },
      "execution_count": 5,
      "outputs": [
        {
          "output_type": "stream",
          "name": "stdout",
          "text": [
            "Found 7575 files belonging to 101 classes.\n",
            "Found 25250 files belonging to 101 classes.\n"
          ]
        }
      ]
    },
    {
      "cell_type": "markdown",
      "source": [
        "model outline\n",
        "1- create a modelcheck point\n",
        "2- data augmentation\n",
        "3- create a base model with efficienNetB0"
      ],
      "metadata": {
        "id": "Fi3CLk1lkB62"
      }
    },
    {
      "cell_type": "code",
      "source": [
        "checkpoint_path=\"101_classes_10_percent_data_model_checkpoint\"\n",
        "checkpoint_callback=tf.keras.callbacks.ModelCheckpoint(checkpoint_path,save_weights_only=True,monitor=\"val_acuuracy\",save_best_only=True)"
      ],
      "metadata": {
        "id": "TtY4FSdnff0P"
      },
      "execution_count": 6,
      "outputs": []
    },
    {
      "cell_type": "code",
      "source": [
        "from tensorflow.keras import layers \n",
        "from tensorflow.keras.layers.experimental import preprocessing\n"
      ],
      "metadata": {
        "id": "n6FxGpMLrT0o"
      },
      "execution_count": 7,
      "outputs": []
    },
    {
      "cell_type": "code",
      "source": [
        "data_augmentation=tf.keras.models.Sequential([\n",
        "preprocessing.RandomFlip(\"horizontal\"),\n",
        "preprocessing.RandomRotation(0.2),\n",
        "preprocessing.RandomHeight(0.2),\n",
        "preprocessing.RandomWidth(0.2),\n",
        "preprocessing.RandomZoom(0.2),\n",
        "# preprocessing.Rescaling(1/255.) for rescaling\n",
        "],name=\"data_augmentation\")"
      ],
      "metadata": {
        "id": "T5Gh7MOPrLXe"
      },
      "execution_count": 8,
      "outputs": []
    },
    {
      "cell_type": "code",
      "source": [
        "#base model\n",
        "base_model=tf.keras.applications.EfficientNetB0(include_top=False)\n",
        "base_model.trainable=False\n",
        "inputs=layers.Input(shape=(224,224,3),name=\"input_layer\")\n",
        "x=data_augmentation(inputs)\n",
        "x=base_model(x,training=False)\n",
        "x= layers.GlobalAveragePooling2D(name=\"global_avg_pool2D\")(x)\n",
        "outputs=layers.Dense(len(train_data_all_10p.class_names),activation=\"softmax\",name=\"output_layer\")(x)\n",
        "model=tf.keras.Model(inputs,outputs)\n"
      ],
      "metadata": {
        "id": "8on3Q-SBsg3m"
      },
      "execution_count": 14,
      "outputs": []
    },
    {
      "cell_type": "code",
      "source": [
        "model.summary()"
      ],
      "metadata": {
        "colab": {
          "base_uri": "https://localhost:8080/"
        },
        "id": "QB3PCIfluKD4",
        "outputId": "cfb44bae-25f9-414e-a1ae-f164c7f373e7"
      },
      "execution_count": 13,
      "outputs": [
        {
          "output_type": "stream",
          "name": "stdout",
          "text": [
            "Model: \"model\"\n",
            "_________________________________________________________________\n",
            " Layer (type)                Output Shape              Param #   \n",
            "=================================================================\n",
            " input_layer (InputLayer)    [(None, 224, 224, 3)]     0         \n",
            "                                                                 \n",
            " data_augmentation (Sequenti  (None, 224, 224, 3)      0         \n",
            " al)                                                             \n",
            "                                                                 \n",
            " efficientnetb0 (Functional)  (None, None, None, 1280)  4049571  \n",
            "                                                                 \n",
            " global_avg_pool2D (GlobalAv  (None, 1280)             0         \n",
            " eragePooling2D)                                                 \n",
            "                                                                 \n",
            " output_layer (Dense)        (None, 237)               303597    \n",
            "                                                                 \n",
            "=================================================================\n",
            "Total params: 4,353,168\n",
            "Trainable params: 303,597\n",
            "Non-trainable params: 4,049,571\n",
            "_________________________________________________________________\n"
          ]
        }
      ]
    },
    {
      "cell_type": "code",
      "source": [
        "model.compile(loss=tf.keras.losses.categorical_crossentropy,optimizer=tf.keras.optimizers.Adam(),metrics=[\"accuracy\"])"
      ],
      "metadata": {
        "id": "IkoARf5eo1zA"
      },
      "execution_count": 16,
      "outputs": []
    },
    {
      "cell_type": "code",
      "source": [
        "history_all=model.fit(train_data_all_10p,epochs=5,validation_data=test_data,validation_steps=(0.15*len(test_data)),callbacks=[checkpoint_callback])"
      ],
      "metadata": {
        "colab": {
          "base_uri": "https://localhost:8080/"
        },
        "id": "g9sEyTUVpJAv",
        "outputId": "5a5ea862-b840-4535-988a-d5a9317f4b76"
      },
      "execution_count": 17,
      "outputs": [
        {
          "output_type": "stream",
          "name": "stdout",
          "text": [
            "Epoch 1/5\n",
            "237/237 [==============================] - ETA: 0s - loss: 3.4736 - accuracy: 0.2437WARNING:tensorflow:Can save best model only with val_acuuracy available, skipping.\n",
            "237/237 [==============================] - 94s 328ms/step - loss: 3.4736 - accuracy: 0.2437 - val_loss: 2.6618 - val_accuracy: 0.4152\n",
            "Epoch 2/5\n",
            "237/237 [==============================] - ETA: 0s - loss: 2.3627 - accuracy: 0.4624WARNING:tensorflow:Can save best model only with val_acuuracy available, skipping.\n",
            "237/237 [==============================] - 63s 265ms/step - loss: 2.3627 - accuracy: 0.4624 - val_loss: 2.2829 - val_accuracy: 0.4609\n",
            "Epoch 3/5\n",
            "237/237 [==============================] - ETA: 0s - loss: 1.9882 - accuracy: 0.5240WARNING:tensorflow:Can save best model only with val_acuuracy available, skipping.\n",
            "237/237 [==============================] - 53s 224ms/step - loss: 1.9882 - accuracy: 0.5240 - val_loss: 2.1063 - val_accuracy: 0.4877\n",
            "Epoch 4/5\n",
            "237/237 [==============================] - ETA: 0s - loss: 1.7668 - accuracy: 0.5728WARNING:tensorflow:Can save best model only with val_acuuracy available, skipping.\n",
            "237/237 [==============================] - 49s 206ms/step - loss: 1.7668 - accuracy: 0.5728 - val_loss: 2.0332 - val_accuracy: 0.4916\n",
            "Epoch 5/5\n",
            "237/237 [==============================] - ETA: 0s - loss: 1.6116 - accuracy: 0.6104WARNING:tensorflow:Can save best model only with val_acuuracy available, skipping.\n",
            "237/237 [==============================] - 48s 199ms/step - loss: 1.6116 - accuracy: 0.6104 - val_loss: 1.9509 - val_accuracy: 0.5060\n"
          ]
        }
      ]
    },
    {
      "cell_type": "code",
      "source": [
        "feature_result=model.evaluate(test_data)"
      ],
      "metadata": {
        "colab": {
          "base_uri": "https://localhost:8080/"
        },
        "id": "sOqfWGY0roOK",
        "outputId": "139c77f0-cbf3-4900-951d-deb1ea3c6819"
      },
      "execution_count": 19,
      "outputs": [
        {
          "output_type": "stream",
          "name": "stdout",
          "text": [
            "790/790 [==============================] - 56s 71ms/step - loss: 1.7151 - accuracy: 0.5544\n"
          ]
        }
      ]
    },
    {
      "cell_type": "code",
      "source": [
        "plot_loss_curves(history_all)"
      ],
      "metadata": {
        "colab": {
          "base_uri": "https://localhost:8080/",
          "height": 573
        },
        "id": "AyuTnk-UsOfG",
        "outputId": "eb4d423b-c86e-4012-dffd-6b99f6d738d1"
      },
      "execution_count": 20,
      "outputs": [
        {
          "output_type": "display_data",
          "data": {
            "text/plain": [
              "<Figure size 432x288 with 1 Axes>"
            ],
            "image/png": "[encoded data removed]"
          },
          "metadata": {
            "needs_background": "light"
          }
        },
        {
          "output_type": "display_data",
          "data": {
            "text/plain": [
              "<Figure size 432x288 with 1 Axes>"
            ],
            "image/png": "[encoded data removed]"
          },
          "metadata": {
            "needs_background": "light"
          }
        }
      ]
    },
    {
      "cell_type": "markdown",
      "source": [
        "#fine tuning"
      ],
      "metadata": {
        "id": "DOlW4Z5QuAvp"
      }
    },
    {
      "cell_type": "code",
      "source": [
        "#unfreeze all the layers\n",
        "base_model.trainable=True\n",
        "#refreeze every layers expect 5 last layers\n",
        "for layer in base_model.layers[:-5]:\n",
        "  layer.trainable=False;"
      ],
      "metadata": {
        "id": "PpFjuWTNtonG"
      },
      "execution_count": 21,
      "outputs": []
    },
    {
      "cell_type": "code",
      "source": [
        "fine_tune_epochs = 10"
      ],
      "metadata": {
        "id": "G7h38dWxyA24"
      },
      "execution_count": 24,
      "outputs": []
    },
    {
      "cell_type": "code",
      "source": [
        "model.compile(loss=tf.keras.losses.categorical_crossentropy,optimizer=tf.keras.optimizers.Adam(0.0001),metrics=[\"accuracy\"])"
      ],
      "metadata": {
        "id": "TmULuMUdugMI"
      },
      "execution_count": 22,
      "outputs": []
    },
    {
      "cell_type": "code",
      "source": [
        "history_fine=model.fit(train_data_all_10p,epochs=fine_tune_epochs,validation_data=test_data,validation_steps=(0.15*len(test_data)),initial_epoch=history_all.epoch[-1])"
      ],
      "metadata": {
        "colab": {
          "base_uri": "https://localhost:8080/"
        },
        "id": "0mIRdSGZvINm",
        "outputId": "d8b13b7b-6a1e-4c84-87de-fc0913813099"
      },
      "execution_count": 29,
      "outputs": [
        {
          "output_type": "stream",
          "name": "stdout",
          "text": [
            "Epoch 5/10\n",
            "237/237 [==============================] - 53s 198ms/step - loss: 1.3643 - accuracy: 0.6502 - val_loss: 1.9226 - val_accuracy: 0.5092\n",
            "Epoch 6/10\n",
            "237/237 [==============================] - 45s 187ms/step - loss: 1.2392 - accuracy: 0.6745 - val_loss: 1.9498 - val_accuracy: 0.5105\n",
            "Epoch 7/10\n",
            "237/237 [==============================] - 42s 174ms/step - loss: 1.1517 - accuracy: 0.6943 - val_loss: 1.9368 - val_accuracy: 0.5126\n",
            "Epoch 8/10\n",
            "237/237 [==============================] - 41s 171ms/step - loss: 1.0693 - accuracy: 0.7185 - val_loss: 1.9592 - val_accuracy: 0.5142\n",
            "Epoch 9/10\n",
            "237/237 [==============================] - 39s 165ms/step - loss: 1.0231 - accuracy: 0.7296 - val_loss: 1.9117 - val_accuracy: 0.5192\n",
            "Epoch 10/10\n",
            "237/237 [==============================] - 37s 156ms/step - loss: 0.9616 - accuracy: 0.7428 - val_loss: 1.9359 - val_accuracy: 0.5144\n"
          ]
        },
        {
          "output_type": "execute_result",
          "data": {
            "text/plain": [
              "<keras.callbacks.History at 0x7f45708994d0>"
            ]
          },
          "metadata": {},
          "execution_count": 29
        }
      ]
    },
    {
      "cell_type": "code",
      "source": [
        "fine_tune_result=model.evaluate(test_data)"
      ],
      "metadata": {
        "colab": {
          "base_uri": "https://localhost:8080/"
        },
        "id": "zMUM_kFnugEP",
        "outputId": "0ba3ca54-0533-4088-9000-b06845054887"
      },
      "execution_count": 30,
      "outputs": [
        {
          "output_type": "stream",
          "name": "stdout",
          "text": [
            "790/790 [==============================] - 57s 72ms/step - loss: 1.6277 - accuracy: 0.5739\n"
          ]
        },
        {
          "output_type": "execute_result",
          "data": {
            "text/plain": [
              "[1.627710223197937, 0.5739405751228333]"
            ]
          },
          "metadata": {},
          "execution_count": 30
        }
      ]
    },
    {
      "cell_type": "code",
      "source": [
        "#compare the histories  \n",
        "compare_historys()\n",
        "#it means our model overfitting "
      ],
      "metadata": {
        "id": "WBmRJmsH0zje"
      },
      "execution_count": null,
      "outputs": []
    }
  ]
}