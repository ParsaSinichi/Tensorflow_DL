{
  "nbformat": 4,
  "nbformat_minor": 0,
  "metadata": {
    "colab": {
      "name": "transfer_learning_part3.ipynb",
      "provenance": [],
      "collapsed_sections": [],
      "mount_file_id": "1E0Elc5_LQntQIWcxXle76mlnRc6-24e6",
      "authorship_tag": "ABX9TyPryardNxsVGKgu1fOK/dl+",
      "include_colab_link": true
    },
    "kernelspec": {
      "name": "python3",
      "display_name": "Python 3"
    },
    "language_info": {
      "name": "python"
    },
    "accelerator": "GPU"
  },
  "cells": [
    {
      "cell_type": "markdown",
      "metadata": {
        "id": "view-in-github",
        "colab_type": "text"
      },
      "source": [
        "<a href=\"https://colab.research.google.com/github/zlximon/Tensorflow_DL/blob/master/transfer_learning_part3.ipynb\" target=\"_parent\"><img src=\"https://colab.research.google.com/assets/colab-badge.svg\" alt=\"Open In Colab\"/></a>"
      ]
    },
    {
      "cell_type": "code",
      "execution_count": 1,
      "metadata": {
        "colab": {
          "base_uri": "https://localhost:8080/"
        },
        "id": "Xthckx_yYNnP",
        "outputId": "d2d50a5c-a86c-4dbc-83d5-e5dcfc122388"
      },
      "outputs": [
        {
          "output_type": "stream",
          "name": "stdout",
          "text": [
            "--2022-05-27 18:26:49--  https://raw.githubusercontent.com/mrdbourke/tensorflow-deep-learning/main/extras/helper_functions.py\n",
            "Resolving raw.githubusercontent.com (raw.githubusercontent.com)... 185.199.108.133, 185.199.109.133, 185.199.110.133, ...\n",
            "Connecting to raw.githubusercontent.com (raw.githubusercontent.com)|185.199.108.133|:443... connected.\n",
            "HTTP request sent, awaiting response... 200 OK\n",
            "Length: 10246 (10K) [text/plain]\n",
            "Saving to: ‘helper_functions.py’\n",
            "\n",
            "\rhelper_functions.py   0%[                    ]       0  --.-KB/s               \rhelper_functions.py 100%[===================>]  10.01K  --.-KB/s    in 0s      \n",
            "\n",
            "2022-05-27 18:26:49 (59.6 MB/s) - ‘helper_functions.py’ saved [10246/10246]\n",
            "\n"
          ]
        }
      ],
      "source": [
        "!wget https://raw.githubusercontent.com/mrdbourke/tensorflow-deep-learning/main/extras/helper_functions.py\n"
      ]
    },
    {
      "cell_type": "code",
      "source": [
        "from helper_functions import create_tensorboard_callback, plot_loss_curves, unzip_data, compare_historys, walk_through_dir\n",
        "#helper function"
      ],
      "metadata": {
        "id": "DusIuH2Nbhz4"
      },
      "execution_count": 2,
      "outputs": []
    },
    {
      "cell_type": "code",
      "source": [
        "!wget https://storage.googleapis.com/ztm_tf_course/food_vision/101_food_classes_10_percent.zip \n",
        "\n",
        "unzip_data(\"101_food_classes_10_percent.zip\")\n",
        "\n",
        "train_dir=\"101_food_classes_10_percent/train/\"\n",
        "test_dir=\"101_food_classes_10_percent/test/\""
      ],
      "metadata": {
        "colab": {
          "base_uri": "https://localhost:8080/"
        },
        "id": "1JNvPXA4dz8Q",
        "outputId": "0c107136-a59f-462a-985a-2c0d23c5606d"
      },
      "execution_count": 3,
      "outputs": [
        {
          "output_type": "stream",
          "name": "stdout",
          "text": [
            "--2022-05-27 18:26:52--  https://storage.googleapis.com/ztm_tf_course/food_vision/101_food_classes_10_percent.zip\n",
            "Resolving storage.googleapis.com (storage.googleapis.com)... 108.177.98.128, 74.125.197.128, 74.125.195.128, ...\n",
            "Connecting to storage.googleapis.com (storage.googleapis.com)|108.177.98.128|:443... connected.\n",
            "HTTP request sent, awaiting response... 200 OK\n",
            "Length: 1625420029 (1.5G) [application/zip]\n",
            "Saving to: ‘101_food_classes_10_percent.zip’\n",
            "\n",
            "101_food_classes_10 100%[===================>]   1.51G   260MB/s    in 6.1s    \n",
            "\n",
            "2022-05-27 18:26:58 (255 MB/s) - ‘101_food_classes_10_percent.zip’ saved [1625420029/1625420029]\n",
            "\n"
          ]
        }
      ]
    },
    {
      "cell_type": "code",
      "source": [
        "import tensorflow as tf\n"
      ],
      "metadata": {
        "id": "uNX0ZuiwfAZf"
      },
      "execution_count": 4,
      "outputs": []
    },
    {
      "cell_type": "code",
      "source": [
        "IMG_size=(224,224)\n",
        "train_data_all_10p=tf.keras.preprocessing.image_dataset_from_directory(train_dir,label_mode=\"categorical\",image_size=IMG_size)\n",
        "test_data=tf.keras.preprocessing.image_dataset_from_directory(test_dir,label_mode=\"categorical\",image_size=IMG_size,shuffle=False)"
      ],
      "metadata": {
        "colab": {
          "base_uri": "https://localhost:8080/"
        },
        "id": "gmR4fgE_evWu",
        "outputId": "bba4b6ce-28bd-4ddf-dae3-7bcde9ad641b"
      },
      "execution_count": 5,
      "outputs": [
        {
          "output_type": "stream",
          "name": "stdout",
          "text": [
            "Found 7575 files belonging to 101 classes.\n",
            "Found 25250 files belonging to 101 classes.\n"
          ]
        }
      ]
    },
    {
      "cell_type": "markdown",
      "source": [
        "model outline\n",
        "1- create a modelcheck point\n",
        "2- data augmentation\n",
        "3- create a base model with efficienNetB0"
      ],
      "metadata": {
        "id": "Fi3CLk1lkB62"
      }
    },
    {
      "cell_type": "code",
      "source": [
        "checkpoint_path=\"101_classes_10_percent_data_model_checkpoint\"\n",
        "checkpoint_callback=tf.keras.callbacks.ModelCheckpoint(checkpoint_path,save_weights_only=True,monitor=\"val_acuuracy\",save_best_only=True)"
      ],
      "metadata": {
        "id": "TtY4FSdnff0P"
      },
      "execution_count": 6,
      "outputs": []
    },
    {
      "cell_type": "code",
      "source": [
        "from tensorflow.keras import layers \n",
        "from tensorflow.keras.layers.experimental import preprocessing\n"
      ],
      "metadata": {
        "id": "n6FxGpMLrT0o"
      },
      "execution_count": 7,
      "outputs": []
    },
    {
      "cell_type": "code",
      "source": [
        "data_augmentation=tf.keras.models.Sequential([\n",
        "preprocessing.RandomFlip(\"horizontal\"),\n",
        "preprocessing.RandomRotation(0.2),\n",
        "preprocessing.RandomHeight(0.2),\n",
        "preprocessing.RandomWidth(0.2),\n",
        "preprocessing.RandomZoom(0.2),\n",
        "# preprocessing.Rescaling(1/255.) for rescaling\n",
        "],name=\"data_augmentation\")"
      ],
      "metadata": {
        "id": "T5Gh7MOPrLXe"
      },
      "execution_count": 8,
      "outputs": []
    },
    {
      "cell_type": "code",
      "source": [
        "#base model\n",
        "base_model=tf.keras.applications.EfficientNetB0(include_top=False)\n",
        "base_model.trainable=False\n",
        "inputs=layers.Input(shape=(224,224,3),name=\"input_layer\")\n",
        "x=data_augmentation(inputs)\n",
        "x=base_model(x,training=False)\n",
        "x= layers.GlobalAveragePooling2D(name=\"global_avg_pool2D\")(x)\n",
        "outputs=layers.Dense(len(train_data_all_10p.class_names),activation=\"softmax\",name=\"output_layer\")(x)\n",
        "model=tf.keras.Model(inputs,outputs)\n"
      ],
      "metadata": {
        "id": "8on3Q-SBsg3m",
        "colab": {
          "base_uri": "https://localhost:8080/"
        },
        "outputId": "6ad7b58b-63bb-4aff-96e2-8634f0aaeb92"
      },
      "execution_count": 9,
      "outputs": [
        {
          "output_type": "stream",
          "name": "stdout",
          "text": [
            "Downloading data from https://storage.googleapis.com/keras-applications/efficientnetb0_notop.h5\n",
            "16711680/16705208 [==============================] - 0s 0us/step\n",
            "16719872/16705208 [==============================] - 0s 0us/step\n"
          ]
        }
      ]
    },
    {
      "cell_type": "code",
      "source": [
        "model.summary()"
      ],
      "metadata": {
        "colab": {
          "base_uri": "https://localhost:8080/"
        },
        "id": "QB3PCIfluKD4",
        "outputId": "08eab6dd-867b-4d78-8776-faa1c843da60"
      },
      "execution_count": 10,
      "outputs": [
        {
          "output_type": "stream",
          "name": "stdout",
          "text": [
            "Model: \"model\"\n",
            "_________________________________________________________________\n",
            " Layer (type)                Output Shape              Param #   \n",
            "=================================================================\n",
            " input_layer (InputLayer)    [(None, 224, 224, 3)]     0         \n",
            "                                                                 \n",
            " data_augmentation (Sequenti  (None, 224, 224, 3)      0         \n",
            " al)                                                             \n",
            "                                                                 \n",
            " efficientnetb0 (Functional)  (None, None, None, 1280)  4049571  \n",
            "                                                                 \n",
            " global_avg_pool2D (GlobalAv  (None, 1280)             0         \n",
            " eragePooling2D)                                                 \n",
            "                                                                 \n",
            " output_layer (Dense)        (None, 101)               129381    \n",
            "                                                                 \n",
            "=================================================================\n",
            "Total params: 4,178,952\n",
            "Trainable params: 129,381\n",
            "Non-trainable params: 4,049,571\n",
            "_________________________________________________________________\n"
          ]
        }
      ]
    },
    {
      "cell_type": "code",
      "source": [
        "model.compile(loss=tf.keras.losses.categorical_crossentropy,optimizer=tf.keras.optimizers.Adam(),metrics=[\"accuracy\"])"
      ],
      "metadata": {
        "id": "IkoARf5eo1zA"
      },
      "execution_count": 11,
      "outputs": []
    },
    {
      "cell_type": "code",
      "source": [
        "history_all=model.fit(train_data_all_10p,epochs=5,validation_data=test_data,validation_steps=(0.15*len(test_data)),callbacks=[checkpoint_callback])"
      ],
      "metadata": {
        "colab": {
          "base_uri": "https://localhost:8080/"
        },
        "id": "g9sEyTUVpJAv",
        "outputId": "f18f156a-dcba-4830-c316-b66b5d4c6e3b"
      },
      "execution_count": 12,
      "outputs": [
        {
          "output_type": "stream",
          "name": "stdout",
          "text": [
            "Epoch 1/5\n",
            "237/237 [==============================] - ETA: 0s - loss: 3.4703 - accuracy: 0.2457WARNING:tensorflow:Can save best model only with val_acuuracy available, skipping.\n",
            "237/237 [==============================] - 90s 307ms/step - loss: 3.4703 - accuracy: 0.2457 - val_loss: 2.7670 - val_accuracy: 0.3603\n",
            "Epoch 2/5\n",
            "237/237 [==============================] - ETA: 0s - loss: 2.3613 - accuracy: 0.4574WARNING:tensorflow:Can save best model only with val_acuuracy available, skipping.\n",
            "237/237 [==============================] - 59s 246ms/step - loss: 2.3613 - accuracy: 0.4574 - val_loss: 2.3338 - val_accuracy: 0.4202\n",
            "Epoch 3/5\n",
            "237/237 [==============================] - ETA: 0s - loss: 1.9869 - accuracy: 0.5258WARNING:tensorflow:Can save best model only with val_acuuracy available, skipping.\n",
            "237/237 [==============================] - 53s 223ms/step - loss: 1.9869 - accuracy: 0.5258 - val_loss: 2.1540 - val_accuracy: 0.4525\n",
            "Epoch 4/5\n",
            "237/237 [==============================] - ETA: 0s - loss: 1.7552 - accuracy: 0.5714WARNING:tensorflow:Can save best model only with val_acuuracy available, skipping.\n",
            "237/237 [==============================] - 47s 196ms/step - loss: 1.7552 - accuracy: 0.5714 - val_loss: 2.0130 - val_accuracy: 0.4832\n",
            "Epoch 5/5\n",
            "237/237 [==============================] - ETA: 0s - loss: 1.6044 - accuracy: 0.6083WARNING:tensorflow:Can save best model only with val_acuuracy available, skipping.\n",
            "237/237 [==============================] - 46s 194ms/step - loss: 1.6044 - accuracy: 0.6083 - val_loss: 1.9878 - val_accuracy: 0.4803\n"
          ]
        }
      ]
    },
    {
      "cell_type": "code",
      "source": [
        "feature_result=model.evaluate(test_data)"
      ],
      "metadata": {
        "colab": {
          "base_uri": "https://localhost:8080/"
        },
        "id": "sOqfWGY0roOK",
        "outputId": "76cfb49f-1a4d-4e0f-a263-bf720cd57d00"
      },
      "execution_count": 13,
      "outputs": [
        {
          "output_type": "stream",
          "name": "stdout",
          "text": [
            "790/790 [==============================] - 56s 71ms/step - loss: 1.7280 - accuracy: 0.5506\n"
          ]
        }
      ]
    },
    {
      "cell_type": "code",
      "source": [
        "plot_loss_curves(history_all)"
      ],
      "metadata": {
        "colab": {
          "base_uri": "https://localhost:8080/",
          "height": 573
        },
        "id": "AyuTnk-UsOfG",
        "outputId": "be666e18-ca54-4620-a532-cf89dafccca9"
      },
      "execution_count": 14,
      "outputs": [
        {
          "output_type": "display_data",
          "data": {
            "text/plain": [
              "<Figure size 432x288 with 1 Axes>"
            ],
            "image/png": "[encoded data removed]"
          },
          "metadata": {
            "needs_background": "light"
          }
        },
        {
          "output_type": "display_data",
          "data": {
            "text/plain": [
              "<Figure size 432x288 with 1 Axes>"
            ],
            "image/png": "[encoded data removed]"
          },
          "metadata": {
            "needs_background": "light"
          }
        }
      ]
    },
    {
      "cell_type": "markdown",
      "source": [
        "#fine tuning"
      ],
      "metadata": {
        "id": "DOlW4Z5QuAvp"
      }
    },
    {
      "cell_type": "code",
      "source": [
        "#unfreeze all the layers\n",
        "base_model.trainable=True\n",
        "#refreeze every layers expect 5 last layers\n",
        "for layer in base_model.layers[:-5]:\n",
        "  layer.trainable=False;"
      ],
      "metadata": {
        "id": "PpFjuWTNtonG"
      },
      "execution_count": 15,
      "outputs": []
    },
    {
      "cell_type": "code",
      "source": [
        "fine_tune_epochs = 10"
      ],
      "metadata": {
        "id": "G7h38dWxyA24"
      },
      "execution_count": 16,
      "outputs": []
    },
    {
      "cell_type": "code",
      "source": [
        "model.compile(loss=tf.keras.losses.categorical_crossentropy,optimizer=tf.keras.optimizers.Adam(0.0001),metrics=[\"accuracy\"])"
      ],
      "metadata": {
        "id": "TmULuMUdugMI"
      },
      "execution_count": 17,
      "outputs": []
    },
    {
      "cell_type": "code",
      "source": [
        "history_fine=model.fit(train_data_all_10p,epochs=fine_tune_epochs,validation_data=test_data,validation_steps=(0.15*len(test_data)),initial_epoch=history_all.epoch[-1])"
      ],
      "metadata": {
        "colab": {
          "base_uri": "https://localhost:8080/"
        },
        "id": "0mIRdSGZvINm",
        "outputId": "060c01ab-c29f-408e-b3aa-232b0474ff1e"
      },
      "execution_count": 18,
      "outputs": [
        {
          "output_type": "stream",
          "name": "stdout",
          "text": [
            "Epoch 5/10\n",
            "237/237 [==============================] - 53s 194ms/step - loss: 1.3625 - accuracy: 0.6455 - val_loss: 1.9916 - val_accuracy: 0.4777\n",
            "Epoch 6/10\n",
            "237/237 [==============================] - 45s 190ms/step - loss: 1.2401 - accuracy: 0.6722 - val_loss: 1.9519 - val_accuracy: 0.4940\n",
            "Epoch 7/10\n",
            "237/237 [==============================] - 41s 172ms/step - loss: 1.1531 - accuracy: 0.6936 - val_loss: 1.9001 - val_accuracy: 0.5055\n",
            "Epoch 8/10\n",
            "237/237 [==============================] - 41s 171ms/step - loss: 1.0905 - accuracy: 0.7011 - val_loss: 1.9374 - val_accuracy: 0.5026\n",
            "Epoch 9/10\n",
            "237/237 [==============================] - 39s 162ms/step - loss: 1.0245 - accuracy: 0.7261 - val_loss: 1.9815 - val_accuracy: 0.4853\n",
            "Epoch 10/10\n",
            "237/237 [==============================] - 38s 159ms/step - loss: 0.9669 - accuracy: 0.7436 - val_loss: 1.9449 - val_accuracy: 0.4984\n"
          ]
        }
      ]
    },
    {
      "cell_type": "code",
      "source": [
        "fine_tune_result=model.evaluate(test_data)"
      ],
      "metadata": {
        "colab": {
          "base_uri": "https://localhost:8080/"
        },
        "id": "zMUM_kFnugEP",
        "outputId": "31a30399-e7d7-4e49-8468-4b8c04495978"
      },
      "execution_count": 19,
      "outputs": [
        {
          "output_type": "stream",
          "name": "stdout",
          "text": [
            "790/790 [==============================] - 57s 72ms/step - loss: 1.6283 - accuracy: 0.5770\n"
          ]
        }
      ]
    },
    {
      "cell_type": "code",
      "source": [
        "compare_historys(original_history=history_all,\n",
        "                 new_history=history_fine,\n",
        "                 initial_epochs=5)"
      ],
      "metadata": {
        "id": "WBmRJmsH0zje",
        "colab": {
          "base_uri": "https://localhost:8080/",
          "height": 513
        },
        "outputId": "0097afbf-ac6d-4ed3-cc8e-727e8c7a7994"
      },
      "execution_count": 25,
      "outputs": [
        {
          "output_type": "display_data",
          "data": {
            "text/plain": [
              "<Figure size 576x576 with 2 Axes>"
            ],
            "image/png": "[encoded data removed]"
          },
          "metadata": {
            "needs_background": "light"
          }
        }
      ]
    },
    {
      "cell_type": "code",
      "source": [
        "#saving our model\n",
        "model.save(\"drive/MyDrive/101_food_classes_10p\")"
      ],
      "metadata": {
        "colab": {
          "base_uri": "https://localhost:8080/"
        },
        "id": "tF8i1nqi3lMq",
        "outputId": "625e08b3-d6d8-4112-e89f-6e4e8389bb72"
      },
      "execution_count": 26,
      "outputs": [
        {
          "output_type": "stream",
          "name": "stdout",
          "text": [
            "INFO:tensorflow:Assets written to: drive/MyDrive/101_food_classes_10p/assets\n"
          ]
        }
      ]
    },
    {
      "cell_type": "markdown",
      "source": [
        "#evaluating our model\n"
      ],
      "metadata": {
        "id": "etUXw4_p4ui8"
      }
    },
    {
      "cell_type": "code",
      "source": [
        "import tensorflow as tf\n",
        "\n",
        "# Download pre-trained model from Google Storage (like a cooking show, I trained this model earlier, so the results may be different than above)\n",
        "!wget https://storage.googleapis.com/ztm_tf_course/food_vision/06_101_food_class_10_percent_saved_big_dog_model.zip\n",
        "saved_model_path = \"06_101_food_class_10_percent_saved_big_dog_model.zip\"\n",
        "unzip_data(saved_model_path)\n",
        "\n"
      ],
      "metadata": {
        "colab": {
          "base_uri": "https://localhost:8080/"
        },
        "id": "KrOMZVYU4tm8",
        "outputId": "d6293172-423f-49b8-ff76-fd8ec2b624c0"
      },
      "execution_count": 27,
      "outputs": [
        {
          "output_type": "stream",
          "name": "stdout",
          "text": [
            "--2022-05-27 18:59:44--  https://storage.googleapis.com/ztm_tf_course/food_vision/06_101_food_class_10_percent_saved_big_dog_model.zip\n",
            "Resolving storage.googleapis.com (storage.googleapis.com)... 172.253.117.128, 142.250.99.128, 173.194.202.128, ...\n",
            "Connecting to storage.googleapis.com (storage.googleapis.com)|172.253.117.128|:443... connected.\n",
            "HTTP request sent, awaiting response... 200 OK\n",
            "Length: 46760742 (45M) [application/zip]\n",
            "Saving to: ‘06_101_food_class_10_percent_saved_big_dog_model.zip’\n",
            "\n",
            "06_101_food_class_1 100%[===================>]  44.59M  48.0MB/s    in 0.9s    \n",
            "\n",
            "2022-05-27 18:59:45 (48.0 MB/s) - ‘06_101_food_class_10_percent_saved_big_dog_model.zip’ saved [46760742/46760742]\n",
            "\n"
          ]
        }
      ]
    },
    {
      "cell_type": "code",
      "source": [
        "model=tf.keras.models.load_model(\"06_101_food_class_10_percent_saved_big_dog_model\")"
      ],
      "metadata": {
        "id": "FPVWWNMr5DjF"
      },
      "execution_count": null,
      "outputs": []
    },
    {
      "cell_type": "code",
      "source": [
        "result_downloaded_model=model.evaluate(test_data)"
      ],
      "metadata": {
        "colab": {
          "base_uri": "https://localhost:8080/"
        },
        "id": "vrcZgen-5XV3",
        "outputId": "29f7f091-eb05-4e3c-c802-2a3ac9db65cd"
      },
      "execution_count": 29,
      "outputs": [
        {
          "output_type": "stream",
          "name": "stdout",
          "text": [
            "790/790 [==============================] - 59s 73ms/step - loss: 1.8027 - accuracy: 0.6078\n"
          ]
        }
      ]
    }
  ]
}