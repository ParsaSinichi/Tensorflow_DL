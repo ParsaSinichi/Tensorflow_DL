{
  "nbformat": 4,
  "nbformat_minor": 0,
  "metadata": {
    "colab": {
      "name": "TransferLearning(feature_extraction).ipynb",
      "provenance": [],
      "collapsed_sections": [],
      "authorship_tag": "ABX9TyM+2RRH7mS7DRNvwY5ptAqv",
      "include_colab_link": true
    },
    "kernelspec": {
      "name": "python3",
      "display_name": "Python 3"
    },
    "language_info": {
      "name": "python"
    },
    "accelerator": "GPU"
  },
  "cells": [
    {
      "cell_type": "markdown",
      "metadata": {
        "id": "view-in-github",
        "colab_type": "text"
      },
      "source": [
        "<a href=\"https://colab.research.google.com/github/zlximon/Tensorflow_DL/blob/master/TransferLearning(feature_extraction).ipynb\" target=\"_parent\"><img src=\"https://colab.research.google.com/assets/colab-badge.svg\" alt=\"Open In Colab\"/></a>"
      ]
    },
    {
      "cell_type": "code",
      "execution_count": 1,
      "metadata": {
        "colab": {
          "base_uri": "https://localhost:8080/"
        },
        "id": "bsgnF3XPL7UC",
        "outputId": "81cf0cb2-3ccf-4597-909c-27248c61f619"
      },
      "outputs": [
        {
          "output_type": "stream",
          "name": "stdout",
          "text": [
            "--2022-05-18 15:58:35--  https://storage.googleapis.com/ztm_tf_course/food_vision/10_food_classes_10_percent.zip\n",
            "Resolving storage.googleapis.com (storage.googleapis.com)... 74.125.202.128, 173.194.195.128, 173.194.196.128, ...\n",
            "Connecting to storage.googleapis.com (storage.googleapis.com)|74.125.202.128|:443... connected.\n",
            "HTTP request sent, awaiting response... 200 OK\n",
            "Length: 168546183 (161M) [application/zip]\n",
            "Saving to: ‘10_food_classes_10_percent.zip’\n",
            "\n",
            "10_food_classes_10_ 100%[===================>] 160.74M   149MB/s    in 1.1s    \n",
            "\n",
            "2022-05-18 15:58:36 (149 MB/s) - ‘10_food_classes_10_percent.zip’ saved [168546183/168546183]\n",
            "\n"
          ]
        }
      ],
      "source": [
        " #Get data (10% of 10 food classes from Food101) - https://www.kaggle.com/dansbecker/food-101 \n",
        "import zipfile\n",
        "\n",
        "# Download the data\n",
        "!wget https://storage.googleapis.com/ztm_tf_course/food_vision/10_food_classes_10_percent.zip\n",
        "\n",
        "# Unzip the downloaded file\n",
        "zip_ref = zipfile.ZipFile(\"10_food_classes_10_percent.zip\")\n",
        "zip_ref.extractall()\n",
        "zip_ref.close()"
      ]
    },
    {
      "cell_type": "code",
      "source": [
        "import os \n",
        "for dirpath,dirnames,filenames in os.walk(\"10_food_classes_10_percent\"):\n",
        "  print(f\"There are {len(dirnames)} directories and {len(filenames)} images is '{dirpath}'\")"
      ],
      "metadata": {
        "colab": {
          "base_uri": "https://localhost:8080/"
        },
        "id": "c7LWU0XVOzoz",
        "outputId": "dda6187c-fe4c-478a-f898-c09aced06108"
      },
      "execution_count": 2,
      "outputs": [
        {
          "output_type": "stream",
          "name": "stdout",
          "text": [
            "There are 2 directories and 0 images is '10_food_classes_10_percent'\n",
            "There are 10 directories and 0 images is '10_food_classes_10_percent/train'\n",
            "There are 0 directories and 75 images is '10_food_classes_10_percent/train/chicken_curry'\n",
            "There are 0 directories and 75 images is '10_food_classes_10_percent/train/grilled_salmon'\n",
            "There are 0 directories and 75 images is '10_food_classes_10_percent/train/pizza'\n",
            "There are 0 directories and 75 images is '10_food_classes_10_percent/train/ice_cream'\n",
            "There are 0 directories and 75 images is '10_food_classes_10_percent/train/sushi'\n",
            "There are 0 directories and 75 images is '10_food_classes_10_percent/train/fried_rice'\n",
            "There are 0 directories and 75 images is '10_food_classes_10_percent/train/chicken_wings'\n",
            "There are 0 directories and 75 images is '10_food_classes_10_percent/train/steak'\n",
            "There are 0 directories and 75 images is '10_food_classes_10_percent/train/ramen'\n",
            "There are 0 directories and 75 images is '10_food_classes_10_percent/train/hamburger'\n",
            "There are 10 directories and 0 images is '10_food_classes_10_percent/test'\n",
            "There are 0 directories and 250 images is '10_food_classes_10_percent/test/chicken_curry'\n",
            "There are 0 directories and 250 images is '10_food_classes_10_percent/test/grilled_salmon'\n",
            "There are 0 directories and 250 images is '10_food_classes_10_percent/test/pizza'\n",
            "There are 0 directories and 250 images is '10_food_classes_10_percent/test/ice_cream'\n",
            "There are 0 directories and 250 images is '10_food_classes_10_percent/test/sushi'\n",
            "There are 0 directories and 250 images is '10_food_classes_10_percent/test/fried_rice'\n",
            "There are 0 directories and 250 images is '10_food_classes_10_percent/test/chicken_wings'\n",
            "There are 0 directories and 250 images is '10_food_classes_10_percent/test/steak'\n",
            "There are 0 directories and 250 images is '10_food_classes_10_percent/test/ramen'\n",
            "There are 0 directories and 250 images is '10_food_classes_10_percent/test/hamburger'\n"
          ]
        }
      ]
    },
    {
      "cell_type": "code",
      "source": [
        "from tensorflow.keras.preprocessing.image import ImageDataGenerator\n",
        "IMAGE_SHAPE=(224,224)\n",
        "BATCH_SIZE=32\n",
        "train_dir = \"10_food_classes_10_percent/train/\"\n",
        "test_dir = \"10_food_classes_10_percent/test/\"\n",
        "train_datagen=ImageDataGenerator(rescale=1/255.)\n",
        "test_datagen=ImageDataGenerator(rescale=1/255.)\n",
        "train_data_10p=train_datagen.flow_from_directory(train_dir,target_size=IMAGE_SHAPE,batch_size=BATCH_SIZE,class_mode=\"categorical\")\n",
        "test_data=test_datagen.flow_from_directory(test_dir,target_size=IMAGE_SHAPE,batch_size=BATCH_SIZE,class_mode=\"categorical\")"
      ],
      "metadata": {
        "colab": {
          "base_uri": "https://localhost:8080/"
        },
        "id": "6pGKU21ZP4hJ",
        "outputId": "6d2466f2-c6b7-4319-d85c-4f1727c78dcb"
      },
      "execution_count": 3,
      "outputs": [
        {
          "output_type": "stream",
          "name": "stdout",
          "text": [
            "Found 750 images belonging to 10 classes.\n",
            "Found 2500 images belonging to 10 classes.\n"
          ]
        }
      ]
    },
    {
      "cell_type": "code",
      "source": [
        "#setting up callbacks \n",
        "import datetime\n",
        "def create_tensorboard_callback(dir_name,experiment_name):\n",
        "  log_dir = dir_name + \"/\" + experiment_name + \"/\" + datetime.datetime.now().strftime(\"%Y%m%d-%H%M%S\")\n",
        "  tensorboard_callback = tf.keras.callbacks.TensorBoard(log_dir=log_dir)\n",
        "  print(f\"Saving TensorBoard log files to: {log_dir}\")\n",
        "  return tensorboard_callback"
      ],
      "metadata": {
        "id": "0m5SVGr4ofvZ"
      },
      "execution_count": 4,
      "outputs": []
    },
    {
      "cell_type": "code",
      "source": [
        "#comparing 2 tensorflow models\n",
        "resnet_url = \"https://tfhub.dev/google/imagenet/resnet_v2_50/feature_vector/4\"\n",
        "\n",
        "efficientnet_url = \"https://tfhub.dev/tensorflow/efficientnet/b0/feature-vector/1\"\n",
        "test= \"https://tfhub.dev/tensorflow/efficientnet/b7/feature-vector/1\""
      ],
      "metadata": {
        "id": "FOdnzZ4qsYrO"
      },
      "execution_count": 5,
      "outputs": []
    },
    {
      "cell_type": "code",
      "source": [
        "import tensorflow as tf\n",
        "import tensorflow_hub as hub\n"
      ],
      "metadata": {
        "id": "w0JFdIkovqky"
      },
      "execution_count": 6,
      "outputs": []
    },
    {
      "cell_type": "code",
      "source": [
        "def create_model(model_url,num_classes=10): # this function takes the tensorflow hub model and turn it to sequential model  and it returns a uncompiled model\n",
        "  feature_extractor_layer=hub.KerasLayer(model_url,trainable=False,input_shape=IMAGE_SHAPE+(3,)) # this is freeze the already learned patterns \n",
        "  model=tf.keras.Sequential([\n",
        "  feature_extractor_layer,\n",
        "  tf.keras.layers.Dense(num_classes,activation=\"softmax\",name=\"output_layer\")                             \n",
        "  ])\n",
        "  return model "
      ],
      "metadata": {
        "id": "4Qg31_LLvxuk"
      },
      "execution_count": 7,
      "outputs": []
    },
    {
      "cell_type": "markdown",
      "source": [
        "#creating and test  Resnet model and "
      ],
      "metadata": {
        "id": "jecEPo0sxOhw"
      }
    },
    {
      "cell_type": "code",
      "source": [
        "#create Resnet model \n",
        "resent_model=create_model(resnet_url,num_classes=train_data_10p.num_classes)#=10\n"
      ],
      "metadata": {
        "id": "qU4SJ9G3xLkB"
      },
      "execution_count": null,
      "outputs": []
    },
    {
      "cell_type": "code",
      "source": [
        "resent_model.summary()"
      ],
      "metadata": {
        "colab": {
          "base_uri": "https://localhost:8080/"
        },
        "id": "X7jZW3DBx53f",
        "outputId": "c5eecabf-9429-4ac8-97d5-49fb78e45e7c"
      },
      "execution_count": null,
      "outputs": [
        {
          "output_type": "stream",
          "name": "stdout",
          "text": [
            "Model: \"sequential\"\n",
            "_________________________________________________________________\n",
            " Layer (type)                Output Shape              Param #   \n",
            "=================================================================\n",
            " keras_layer (KerasLayer)    (None, 2048)              23564800  \n",
            "                                                                 \n",
            " output_layer (Dense)        (None, 10)                20490     \n",
            "                                                                 \n",
            "=================================================================\n",
            "Total params: 23,585,290\n",
            "Trainable params: 20,490\n",
            "Non-trainable params: 23,564,800\n",
            "_________________________________________________________________\n"
          ]
        }
      ]
    },
    {
      "cell_type": "code",
      "source": [
        "resent_model.compile(loss=tf.keras.losses.categorical_crossentropy,optimizer=tf.keras.optimizers.Adam(),metrics=[\"accuracy\"])\n"
      ],
      "metadata": {
        "id": "ol8QcK1fyB4U"
      },
      "execution_count": null,
      "outputs": []
    },
    {
      "cell_type": "code",
      "source": [
        "history1=resent_model.fit(train_data_10p,epochs=5,steps_per_epoch=len(train_data_10p), validation_data=test_data,validation_steps=len(test_data),callbacks=[create_tensorboard_callback(dir_name=\"tensorflwo-hub\", experiment_name=\"resnet50v2\")])"
      ],
      "metadata": {
        "colab": {
          "base_uri": "https://localhost:8080/"
        },
        "id": "EVP0rQ9w8Kpp",
        "outputId": "0ca5f564-4980-4120-af86-d6cd40404f5d"
      },
      "execution_count": null,
      "outputs": [
        {
          "output_type": "stream",
          "name": "stdout",
          "text": [
            "Saving TensorBoard log files to: tensorflwo-hub/resnet50v2/20220518-082336\n",
            "Epoch 1/5\n",
            "24/24 [==============================] - 17s 697ms/step - loss: 0.8558 - accuracy: 0.7453 - val_loss: 0.8343 - val_accuracy: 0.7308\n",
            "Epoch 2/5\n",
            "24/24 [==============================] - 16s 671ms/step - loss: 0.5997 - accuracy: 0.8200 - val_loss: 0.7404 - val_accuracy: 0.7648\n",
            "Epoch 3/5\n",
            "24/24 [==============================] - 17s 729ms/step - loss: 0.4545 - accuracy: 0.8853 - val_loss: 0.6995 - val_accuracy: 0.7724\n",
            "Epoch 4/5\n",
            "24/24 [==============================] - 20s 841ms/step - loss: 0.3629 - accuracy: 0.9173 - val_loss: 0.6688 - val_accuracy: 0.7828\n",
            "Epoch 5/5\n",
            "24/24 [==============================] - 16s 694ms/step - loss: 0.2988 - accuracy: 0.9480 - val_loss: 0.6595 - val_accuracy: 0.7800\n"
          ]
        }
      ]
    },
    {
      "cell_type": "code",
      "source": [
        "resent_model.evaluate(test_data)"
      ],
      "metadata": {
        "colab": {
          "base_uri": "https://localhost:8080/"
        },
        "id": "NhZUmSOGE-Ef",
        "outputId": "1845f182-0fc5-4cd2-db0f-11ff9769b54b"
      },
      "execution_count": null,
      "outputs": [
        {
          "output_type": "stream",
          "name": "stdout",
          "text": [
            "79/79 [==============================] - 13s 160ms/step - loss: 0.6595 - accuracy: 0.7800\n"
          ]
        },
        {
          "output_type": "execute_result",
          "data": {
            "text/plain": [
              "[0.6594855189323425, 0.7799999713897705]"
            ]
          },
          "metadata": {},
          "execution_count": 14
        }
      ]
    },
    {
      "cell_type": "code",
      "source": [
        "import matplotlib.pyplot as plt\n",
        "\n",
        "# Plot the validation and training curves\n",
        "def plot_loss_curves(history):\n",
        "  \"\"\"\n",
        "  Returns separate loss curves for training and validation metrics.\n",
        "\n",
        "  Args:\n",
        "    history: TensorFlow History object.\n",
        "\n",
        "  Returns:\n",
        "    Plots of training/validation loss and accuracy metrics.\n",
        "  \"\"\"\n",
        "  loss = history.history[\"loss\"]\n",
        "  val_loss = history.history[\"val_loss\"]\n",
        "\n",
        "  accuracy = history.history[\"accuracy\"]\n",
        "  val_accuracy = history.history[\"val_accuracy\"]\n",
        "\n",
        "  epochs = range(len(history.history[\"loss\"]))\n",
        "\n",
        "  # Plot loss\n",
        "  plt.plot(epochs, loss, label=\"training_loss\")\n",
        "  plt.plot(epochs, val_loss, label=\"val_loss\")\n",
        "  plt.title(\"Loss\")\n",
        "  plt.xlabel(\"Epochs\")\n",
        "  plt.legend()\n",
        "\n",
        "  # Plot accuracy\n",
        "  plt.figure()\n",
        "  plt.plot(epochs, accuracy, label=\"training_accuracy\")\n",
        "  plt.plot(epochs, val_accuracy, label=\"val_accuracy\")\n",
        "  plt.title(\"Accuracy\")\n",
        "  plt.xlabel(\"Epochs\")\n",
        "  plt.legend();"
      ],
      "metadata": {
        "id": "kv33x4C8Q7Y5"
      },
      "execution_count": 14,
      "outputs": []
    },
    {
      "cell_type": "code",
      "source": [
        "plot_loss_curvse(history1)"
      ],
      "metadata": {
        "colab": {
          "base_uri": "https://localhost:8080/",
          "height": 573
        },
        "id": "bgxN_1_YRb74",
        "outputId": "e4f67bf0-2ea9-41ec-a27e-2cdb562bcfa9"
      },
      "execution_count": null,
      "outputs": [
        {
          "output_type": "display_data",
          "data": {
            "text/plain": [
              "<Figure size 432x288 with 1 Axes>"
            ],
            "image/png": "[encoded data removed]"
          },
          "metadata": {
            "needs_background": "light"
          }
        },
        {
          "output_type": "display_data",
          "data": {
            "text/plain": [
              "<Figure size 432x288 with 1 Axes>"
            ],
            "image/png": "[encoded data removed]"
          },
          "metadata": {
            "needs_background": "light"
          }
        }
      ]
    },
    {
      "cell_type": "markdown",
      "source": [
        "#creating and testing EfficientNet model"
      ],
      "metadata": {
        "id": "0jvDeg9MSFoL"
      }
    },
    {
      "cell_type": "code",
      "source": [
        "efficient_model=create_model(efficientnet_url,10)"
      ],
      "metadata": {
        "id": "y9hTaz7CSKLf"
      },
      "execution_count": 8,
      "outputs": []
    },
    {
      "cell_type": "code",
      "source": [
        "efficient_model.summary()"
      ],
      "metadata": {
        "colab": {
          "base_uri": "https://localhost:8080/"
        },
        "id": "WxDhXtmWSbDE",
        "outputId": "6ff1172d-5f1e-4df6-f1a3-39581568c482"
      },
      "execution_count": 9,
      "outputs": [
        {
          "output_type": "stream",
          "name": "stdout",
          "text": [
            "Model: \"sequential\"\n",
            "_________________________________________________________________\n",
            " Layer (type)                Output Shape              Param #   \n",
            "=================================================================\n",
            " keras_layer (KerasLayer)    (None, 1280)              4049564   \n",
            "                                                                 \n",
            " output_layer (Dense)        (None, 10)                12810     \n",
            "                                                                 \n",
            "=================================================================\n",
            "Total params: 4,062,374\n",
            "Trainable params: 12,810\n",
            "Non-trainable params: 4,049,564\n",
            "_________________________________________________________________\n"
          ]
        }
      ]
    },
    {
      "cell_type": "code",
      "source": [
        "efficient_model.compile(loss=tf.keras.losses.categorical_crossentropy,optimizer=tf.keras.optimizers.Adam(),metrics=[\"accuracy\"])"
      ],
      "metadata": {
        "id": "p7hVkWyISx0Q"
      },
      "execution_count": 10,
      "outputs": []
    },
    {
      "cell_type": "code",
      "source": [
        "efficient_model.summary()"
      ],
      "metadata": {
        "colab": {
          "base_uri": "https://localhost:8080/"
        },
        "id": "dMKhc7j0VIIM",
        "outputId": "56692292-2d25-4429-f3dd-7cc32af4749a"
      },
      "execution_count": null,
      "outputs": [
        {
          "output_type": "stream",
          "name": "stdout",
          "text": [
            "Model: \"sequential_1\"\n",
            "_________________________________________________________________\n",
            " Layer (type)                Output Shape              Param #   \n",
            "=================================================================\n",
            " keras_layer_1 (KerasLayer)  (None, 1280)              4049564   \n",
            "                                                                 \n",
            " output_layer (Dense)        (None, 10)                12810     \n",
            "                                                                 \n",
            "=================================================================\n",
            "Total params: 4,062,374\n",
            "Trainable params: 12,810\n",
            "Non-trainable params: 4,049,564\n",
            "_________________________________________________________________\n"
          ]
        }
      ]
    },
    {
      "cell_type": "code",
      "source": [
        "history2=efficient_model.fit(train_data_10p,epochs=10,steps_per_epoch=len(train_data_10p),validation_data=test_data,validation_steps=len(test_data)\n",
        ",callbacks=[create_tensorboard_callback(dir_name=\"tensorflwo-hub\", experiment_name=\"resnet50v2\")])"
      ],
      "metadata": {
        "colab": {
          "base_uri": "https://localhost:8080/"
        },
        "id": "wCne0Z8rSfNE",
        "outputId": "47770259-dac3-4523-afb5-f88a618b9077"
      },
      "execution_count": 11,
      "outputs": [
        {
          "output_type": "stream",
          "name": "stdout",
          "text": [
            "Saving TensorBoard log files to: tensorflwo-hub/resnet50v2/20220518-155908\n",
            "Epoch 1/10\n",
            "24/24 [==============================] - 45s 958ms/step - loss: 1.9018 - accuracy: 0.3947 - val_loss: 1.3161 - val_accuracy: 0.7092\n",
            "Epoch 2/10\n",
            "24/24 [==============================] - 20s 836ms/step - loss: 1.0882 - accuracy: 0.7427 - val_loss: 0.8841 - val_accuracy: 0.8084\n",
            "Epoch 3/10\n",
            "24/24 [==============================] - 20s 852ms/step - loss: 0.7746 - accuracy: 0.8280 - val_loss: 0.7094 - val_accuracy: 0.8352\n",
            "Epoch 4/10\n",
            "24/24 [==============================] - 20s 836ms/step - loss: 0.6184 - accuracy: 0.8720 - val_loss: 0.6173 - val_accuracy: 0.8492\n",
            "Epoch 5/10\n",
            "24/24 [==============================] - 19s 826ms/step - loss: 0.5209 - accuracy: 0.8987 - val_loss: 0.5620 - val_accuracy: 0.8580\n",
            "Epoch 6/10\n",
            "24/24 [==============================] - 19s 833ms/step - loss: 0.4543 - accuracy: 0.9080 - val_loss: 0.5232 - val_accuracy: 0.8636\n",
            "Epoch 7/10\n",
            "24/24 [==============================] - 20s 838ms/step - loss: 0.4016 - accuracy: 0.9160 - val_loss: 0.4985 - val_accuracy: 0.8644\n",
            "Epoch 8/10\n",
            "24/24 [==============================] - 20s 839ms/step - loss: 0.3569 - accuracy: 0.9320 - val_loss: 0.4761 - val_accuracy: 0.8680\n",
            "Epoch 9/10\n",
            "24/24 [==============================] - 20s 838ms/step - loss: 0.3207 - accuracy: 0.9467 - val_loss: 0.4629 - val_accuracy: 0.8660\n",
            "Epoch 10/10\n",
            "24/24 [==============================] - 20s 846ms/step - loss: 0.2899 - accuracy: 0.9533 - val_loss: 0.4471 - val_accuracy: 0.8708\n"
          ]
        }
      ]
    },
    {
      "cell_type": "code",
      "source": [
        "efficient_model.evaluate(test_data)"
      ],
      "metadata": {
        "colab": {
          "base_uri": "https://localhost:8080/"
        },
        "id": "IN5-X7W8TTZr",
        "outputId": "310dd99f-8c64-4c52-f7fb-148a09d0bdb8"
      },
      "execution_count": 12,
      "outputs": [
        {
          "output_type": "stream",
          "name": "stdout",
          "text": [
            "79/79 [==============================] - 15s 187ms/step - loss: 0.4471 - accuracy: 0.8708\n"
          ]
        },
        {
          "output_type": "execute_result",
          "data": {
            "text/plain": [
              "[0.44710418581962585, 0.8708000183105469]"
            ]
          },
          "metadata": {},
          "execution_count": 12
        }
      ]
    },
    {
      "cell_type": "code",
      "source": [
        "plot_loss_curves(history2)"
      ],
      "metadata": {
        "colab": {
          "base_uri": "https://localhost:8080/",
          "height": 573
        },
        "id": "n1HNWD0NTaeG",
        "outputId": "5dfe6a6f-2177-4b42-daca-d12c8820b561"
      },
      "execution_count": 15,
      "outputs": [
        {
          "output_type": "display_data",
          "data": {
            "text/plain": [
              "<Figure size 432x288 with 1 Axes>"
            ],
            "image/png": "[encoded data removed]"
          },
          "metadata": {
            "needs_background": "light"
          }
        },
        {
          "output_type": "display_data",
          "data": {
            "text/plain": [
              "<Figure size 432x288 with 1 Axes>"
            ],
            "image/png": "[encoded data removed]"
          },
          "metadata": {
            "needs_background": "light"
          }
        }
      ]
    },
    {
      "cell_type": "markdown",
      "source": [
        "#comparing 2 models "
      ],
      "metadata": {
        "id": "j_qt4RHKZT9D"
      }
    },
    {
      "cell_type": "code",
      "source": [
        "!tensorboard dev upload --logdir ./tensorflow_hub/ \\\n",
        "  --name \"EfficientNetB0 vs. ResNet50V2\" \\\n",
        "  --description \"Comparing two different TF Hub feature extraction models architectures using 10% of training images\" \\\n",
        "  --one_shot"
      ],
      "metadata": {
        "id": "mrPXZZ1IZTki",
        "colab": {
          "base_uri": "https://localhost:8080/"
        },
        "outputId": "f4aca081-4005-4f52-c146-2227a76ba83f"
      },
      "execution_count": 18,
      "outputs": [
        {
          "output_type": "stream",
          "name": "stdout",
          "text": [
            "./tensorflow_hub/: No such directory.\n",
            "User specified `one_shot` mode with an unavailable logdir. Exiting without creating an experiment.\n"
          ]
        }
      ]
    }
  ]
}