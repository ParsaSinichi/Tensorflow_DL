{
  "nbformat": 4,
  "nbformat_minor": 0,
  "metadata": {
    "colab": {
      "name": "TransferLaerning.ipynb",
      "provenance": [],
      "collapsed_sections": [],
      "authorship_tag": "ABX9TyP1l63Q0hgu8R4JwxMQjDPq",
      "include_colab_link": true
    },
    "kernelspec": {
      "name": "python3",
      "display_name": "Python 3"
    },
    "language_info": {
      "name": "python"
    },
    "accelerator": "GPU"
  },
  "cells": [
    {
      "cell_type": "markdown",
      "metadata": {
        "id": "view-in-github",
        "colab_type": "text"
      },
      "source": [
        "<a href=\"https://colab.research.google.com/github/zlximon/Tensorflow_DL/blob/master/TransferLaerning.ipynb\" target=\"_parent\"><img src=\"https://colab.research.google.com/assets/colab-badge.svg\" alt=\"Open In Colab\"/></a>"
      ]
    },
    {
      "cell_type": "code",
      "execution_count": 11,
      "metadata": {
        "colab": {
          "base_uri": "https://localhost:8080/"
        },
        "id": "bsgnF3XPL7UC",
        "outputId": "e058d6fe-a754-4f5a-f515-c42dd0633599"
      },
      "outputs": [
        {
          "output_type": "stream",
          "name": "stdout",
          "text": [
            "--2022-05-17 16:53:26--  https://storage.googleapis.com/ztm_tf_course/food_vision/10_food_classes_10_percent.zip\n",
            "Resolving storage.googleapis.com (storage.googleapis.com)... 108.177.13.128, 172.217.193.128, 172.217.204.128, ...\n",
            "Connecting to storage.googleapis.com (storage.googleapis.com)|108.177.13.128|:443... connected.\n",
            "HTTP request sent, awaiting response... 200 OK\n",
            "Length: 168546183 (161M) [application/zip]\n",
            "Saving to: ‘10_food_classes_10_percent.zip.2’\n",
            "\n",
            "10_food_classes_10_ 100%[===================>] 160.74M   233MB/s    in 0.7s    \n",
            "\n",
            "2022-05-17 16:53:27 (233 MB/s) - ‘10_food_classes_10_percent.zip.2’ saved [168546183/168546183]\n",
            "\n"
          ]
        }
      ],
      "source": [
        " #Get data (10% of 10 food classes from Food101) - https://www.kaggle.com/dansbecker/food-101 \n",
        "import zipfile\n",
        "\n",
        "# Download the data\n",
        "!wget https://storage.googleapis.com/ztm_tf_course/food_vision/10_food_classes_10_percent.zip\n",
        "\n",
        "# Unzip the downloaded file\n",
        "zip_ref = zipfile.ZipFile(\"10_food_classes_10_percent.zip\")\n",
        "zip_ref.extractall()\n",
        "zip_ref.close()"
      ]
    },
    {
      "cell_type": "code",
      "source": [
        "import os \n",
        "for dirpath,dirnames,filenames in os.walk(\"10_food_classes_10_percent\"):\n",
        "  print(f\"There are {len(dirnames)} directories and {len(filenames)} images is '{dirpath}'\")"
      ],
      "metadata": {
        "colab": {
          "base_uri": "https://localhost:8080/"
        },
        "id": "c7LWU0XVOzoz",
        "outputId": "8097f036-9113-467a-f9eb-f0ae6ba37aaf"
      },
      "execution_count": 12,
      "outputs": [
        {
          "output_type": "stream",
          "name": "stdout",
          "text": [
            "There are 2 directories and 0 images is '10_food_classes_10_percent'\n",
            "There are 10 directories and 0 images is '10_food_classes_10_percent/test'\n",
            "There are 0 directories and 250 images is '10_food_classes_10_percent/test/ramen'\n",
            "There are 0 directories and 250 images is '10_food_classes_10_percent/test/steak'\n",
            "There are 0 directories and 250 images is '10_food_classes_10_percent/test/hamburger'\n",
            "There are 0 directories and 250 images is '10_food_classes_10_percent/test/sushi'\n",
            "There are 0 directories and 250 images is '10_food_classes_10_percent/test/chicken_wings'\n",
            "There are 0 directories and 250 images is '10_food_classes_10_percent/test/grilled_salmon'\n",
            "There are 0 directories and 250 images is '10_food_classes_10_percent/test/fried_rice'\n",
            "There are 0 directories and 250 images is '10_food_classes_10_percent/test/ice_cream'\n",
            "There are 0 directories and 250 images is '10_food_classes_10_percent/test/pizza'\n",
            "There are 0 directories and 250 images is '10_food_classes_10_percent/test/chicken_curry'\n",
            "There are 10 directories and 0 images is '10_food_classes_10_percent/train'\n",
            "There are 0 directories and 75 images is '10_food_classes_10_percent/train/ramen'\n",
            "There are 0 directories and 75 images is '10_food_classes_10_percent/train/steak'\n",
            "There are 0 directories and 75 images is '10_food_classes_10_percent/train/hamburger'\n",
            "There are 0 directories and 75 images is '10_food_classes_10_percent/train/sushi'\n",
            "There are 0 directories and 75 images is '10_food_classes_10_percent/train/chicken_wings'\n",
            "There are 0 directories and 75 images is '10_food_classes_10_percent/train/grilled_salmon'\n",
            "There are 0 directories and 75 images is '10_food_classes_10_percent/train/fried_rice'\n",
            "There are 0 directories and 75 images is '10_food_classes_10_percent/train/ice_cream'\n",
            "There are 0 directories and 75 images is '10_food_classes_10_percent/train/pizza'\n",
            "There are 0 directories and 75 images is '10_food_classes_10_percent/train/chicken_curry'\n"
          ]
        }
      ]
    },
    {
      "cell_type": "code",
      "source": [
        "from tensorflow.keras.preprocessing.image import ImageDataGenerator\n",
        "IMAGE_SHAPE=(224,224)\n",
        "BATCH_SIZE=32\n",
        "train_dir = \"10_food_classes_10_percent/train/\"\n",
        "test_dir = \"10_food_classes_10_percent/test/\"\n",
        "train_datagen=ImageDataGenerator(rescale=1/255.)\n",
        "test_datagen=ImageDataGenerator(rescale=1/255.)\n",
        "train_data_10p=train_datagen.flow_from_directory(train_dir,target_size=IMAGE_SHAPE,batch_size=BATCH_SIZE,class_mode=\"categorical\")\n",
        "test_data=test_datagen.flow_from_directory(test_dir,target_size=IMAGE_SHAPE,batch_size=BATCH_SIZE,class_mode=\"categorical\")"
      ],
      "metadata": {
        "colab": {
          "base_uri": "https://localhost:8080/"
        },
        "id": "6pGKU21ZP4hJ",
        "outputId": "9b9baef6-7f5a-45a8-8a78-273933837ad4"
      },
      "execution_count": 13,
      "outputs": [
        {
          "output_type": "stream",
          "name": "stdout",
          "text": [
            "Found 750 images belonging to 10 classes.\n",
            "Found 2500 images belonging to 10 classes.\n"
          ]
        }
      ]
    },
    {
      "cell_type": "code",
      "source": [
        "#setting up callbacks \n",
        "import datetime\n",
        "def create_tensorboard_callback(dir_name,experiment_name):\n",
        "  log_dir = dir_name + \"/\" + experiment_name + \"/\" + datetime.datetime.now().strftime(\"%Y%m%d-%H%M%S\")\n",
        "  tensorboard_callback = tf.keras.callbacks.TensorBoard(log_dir=log_dir)\n",
        "  print(f\"Saving TensorBoard log files to: {log_dir}\")\n",
        "  return tensorboard_callback"
      ],
      "metadata": {
        "id": "0m5SVGr4ofvZ"
      },
      "execution_count": 14,
      "outputs": []
    },
    {
      "cell_type": "code",
      "source": [
        "#comparing 2 tensorflow models\n",
        "resnet_url = \"https://tfhub.dev/google/imagenet/resnet_v2_50/feature_vector/4\"\n",
        "\n",
        "efficientnet_url = \"https://tfhub.dev/tensorflow/efficientnet/b0/feature-vector/1\""
      ],
      "metadata": {
        "id": "FOdnzZ4qsYrO"
      },
      "execution_count": 15,
      "outputs": []
    },
    {
      "cell_type": "code",
      "source": [
        "import tensorflow as tf\n",
        "import tensorflow_hub as hub\n"
      ],
      "metadata": {
        "id": "w0JFdIkovqky"
      },
      "execution_count": 16,
      "outputs": []
    },
    {
      "cell_type": "code",
      "source": [
        "def create_model(model_url,num_classes=10): # this function takes the tensorflow hub model and turn it to sequential model  and it returns a uncompiled model\n",
        "  feature_extractor_layer=hub.KerasLayer(model_url,trainable=False,input_shape=IMAGE_SHAPE+(3,)) # this is freeze the already learned patterns \n",
        "  model=tf.keras.Sequential([\n",
        "  feature_extractor_layer,\n",
        "  tf.keras.layers.Dense(num_classes,activation=\"softmax\",name=\"output_layer\")                             \n",
        "  ])\n",
        "  return model "
      ],
      "metadata": {
        "id": "4Qg31_LLvxuk"
      },
      "execution_count": 17,
      "outputs": []
    },
    {
      "cell_type": "markdown",
      "source": [
        "#creating and test  Resnet model and "
      ],
      "metadata": {
        "id": "jecEPo0sxOhw"
      }
    },
    {
      "cell_type": "code",
      "source": [
        "#create Resnet model \n",
        "resent_model=create_model(resnet_url,num_classes=train_data_10p.num_classes)#=10\n"
      ],
      "metadata": {
        "id": "qU4SJ9G3xLkB"
      },
      "execution_count": 18,
      "outputs": []
    },
    {
      "cell_type": "code",
      "source": [
        "resent_model.summary()"
      ],
      "metadata": {
        "colab": {
          "base_uri": "https://localhost:8080/"
        },
        "id": "X7jZW3DBx53f",
        "outputId": "7f32b439-207a-4b80-c134-ca2c3a80f2c3"
      },
      "execution_count": 10,
      "outputs": [
        {
          "output_type": "stream",
          "name": "stdout",
          "text": [
            "Model: \"sequential\"\n",
            "_________________________________________________________________\n",
            " Layer (type)                Output Shape              Param #   \n",
            "=================================================================\n",
            " keras_layer (KerasLayer)    (None, 2048)              23564800  \n",
            "                                                                 \n",
            " output_layer (Dense)        (None, 10)                20490     \n",
            "                                                                 \n",
            "=================================================================\n",
            "Total params: 23,585,290\n",
            "Trainable params: 20,490\n",
            "Non-trainable params: 23,564,800\n",
            "_________________________________________________________________\n"
          ]
        }
      ]
    },
    {
      "cell_type": "code",
      "source": [
        "resent_model.compile(loss=tf.keras.losses.categorical_crossentropy,optimizer=tf.keras.optimizers.Adam(),metrics=[\"accuracy\"])\n"
      ],
      "metadata": {
        "id": "ol8QcK1fyB4U"
      },
      "execution_count": 19,
      "outputs": []
    },
    {
      "cell_type": "code",
      "source": [
        "resent_model.fit(train_data_10p,epochs=5,steps_per_epoch=len(train_data_10p), validation_data=test_data,validation_steps=len(test_data),callbacks=[create_tensorboard_callback(dir_name=\"tensorflwo-hub\", experiment_name=\"resnet50v2\")])"
      ],
      "metadata": {
        "colab": {
          "base_uri": "https://localhost:8080/"
        },
        "id": "EVP0rQ9w8Kpp",
        "outputId": "40f03aa7-4161-4cc3-ee6e-aa3557843d80"
      },
      "execution_count": 20,
      "outputs": [
        {
          "output_type": "stream",
          "name": "stdout",
          "text": [
            "Saving TensorBoard log files to: tensorflwo-hub/resnet50v2/20220517-165351\n",
            "Epoch 1/5\n",
            "24/24 [==============================] - 436s 19s/step - loss: 1.8529 - accuracy: 0.3667 - val_loss: 1.1562 - val_accuracy: 0.6056\n",
            "Epoch 2/5\n",
            "24/24 [==============================] - 431s 19s/step - loss: 0.8635 - accuracy: 0.7347 - val_loss: 0.8282 - val_accuracy: 0.7388\n",
            "Epoch 3/5\n",
            "24/24 [==============================] - 481s 21s/step - loss: 0.5962 - accuracy: 0.8293 - val_loss: 0.7453 - val_accuracy: 0.7564\n",
            "Epoch 4/5\n",
            "24/24 [==============================] - 429s 18s/step - loss: 0.4556 - accuracy: 0.8840 - val_loss: 0.6973 - val_accuracy: 0.7728\n",
            "Epoch 5/5\n",
            "24/24 [==============================] - 428s 18s/step - loss: 0.3734 - accuracy: 0.9120 - val_loss: 0.6746 - val_accuracy: 0.7812\n"
          ]
        },
        {
          "output_type": "execute_result",
          "data": {
            "text/plain": [
              "<keras.callbacks.History at 0x7f83d93e4950>"
            ]
          },
          "metadata": {},
          "execution_count": 20
        }
      ]
    },
    {
      "cell_type": "code",
      "source": [
        "resent_model.evaluate(test_data)"
      ],
      "metadata": {
        "colab": {
          "base_uri": "https://localhost:8080/"
        },
        "id": "NhZUmSOGE-Ef",
        "outputId": "8afd5a96-8ea2-4882-81a0-24550d83b358"
      },
      "execution_count": 21,
      "outputs": [
        {
          "output_type": "stream",
          "name": "stdout",
          "text": [
            "79/79 [==============================] - 329s 4s/step - loss: 0.6746 - accuracy: 0.7812\n"
          ]
        },
        {
          "output_type": "execute_result",
          "data": {
            "text/plain": [
              "[0.6745948195457458, 0.7811999917030334]"
            ]
          },
          "metadata": {},
          "execution_count": 21
        }
      ]
    }
  ]
}