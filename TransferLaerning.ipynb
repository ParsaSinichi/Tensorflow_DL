{
  "nbformat": 4,
  "nbformat_minor": 0,
  "metadata": {
    "colab": {
      "name": "TransferLaerning.ipynb",
      "provenance": [],
      "collapsed_sections": [],
      "toc_visible": true,
      "authorship_tag": "ABX9TyNABEqZYkxChH7uWWmOirEg",
      "include_colab_link": true
    },
    "kernelspec": {
      "name": "python3",
      "display_name": "Python 3"
    },
    "language_info": {
      "name": "python"
    },
    "accelerator": "GPU"
  },
  "cells": [
    {
      "cell_type": "markdown",
      "metadata": {
        "id": "view-in-github",
        "colab_type": "text"
      },
      "source": [
        "<a href=\"https://colab.research.google.com/github/zlximon/Tensorflow_DL/blob/master/TransferLaerning.ipynb\" target=\"_parent\"><img src=\"https://colab.research.google.com/assets/colab-badge.svg\" alt=\"Open In Colab\"/></a>"
      ]
    },
    {
      "cell_type": "code",
      "execution_count": 2,
      "metadata": {
        "colab": {
          "base_uri": "https://localhost:8080/"
        },
        "id": "bsgnF3XPL7UC",
        "outputId": "e49c1a0b-be80-43ba-f578-ae7733b77b43"
      },
      "outputs": [
        {
          "output_type": "stream",
          "name": "stdout",
          "text": [
            "--2022-05-18 08:22:48--  https://storage.googleapis.com/ztm_tf_course/food_vision/10_food_classes_10_percent.zip\n",
            "Resolving storage.googleapis.com (storage.googleapis.com)... 142.251.16.128, 172.217.164.144, 142.250.73.240, ...\n",
            "Connecting to storage.googleapis.com (storage.googleapis.com)|142.251.16.128|:443... connected.\n",
            "HTTP request sent, awaiting response... 200 OK\n",
            "Length: 168546183 (161M) [application/zip]\n",
            "Saving to: ‘10_food_classes_10_percent.zip’\n",
            "\n",
            "10_food_classes_10_ 100%[===================>] 160.74M   203MB/s    in 0.8s    \n",
            "\n",
            "2022-05-18 08:22:49 (203 MB/s) - ‘10_food_classes_10_percent.zip’ saved [168546183/168546183]\n",
            "\n"
          ]
        }
      ],
      "source": [
        " #Get data (10% of 10 food classes from Food101) - https://www.kaggle.com/dansbecker/food-101 \n",
        "import zipfile\n",
        "\n",
        "# Download the data\n",
        "!wget https://storage.googleapis.com/ztm_tf_course/food_vision/10_food_classes_10_percent.zip\n",
        "\n",
        "# Unzip the downloaded file\n",
        "zip_ref = zipfile.ZipFile(\"10_food_classes_10_percent.zip\")\n",
        "zip_ref.extractall()\n",
        "zip_ref.close()"
      ]
    },
    {
      "cell_type": "code",
      "source": [
        "import os \n",
        "for dirpath,dirnames,filenames in os.walk(\"10_food_classes_10_percent\"):\n",
        "  print(f\"There are {len(dirnames)} directories and {len(filenames)} images is '{dirpath}'\")"
      ],
      "metadata": {
        "colab": {
          "base_uri": "https://localhost:8080/"
        },
        "id": "c7LWU0XVOzoz",
        "outputId": "b4f79717-3610-4a6e-f2d0-f3c62b1de984"
      },
      "execution_count": 3,
      "outputs": [
        {
          "output_type": "stream",
          "name": "stdout",
          "text": [
            "There are 2 directories and 0 images is '10_food_classes_10_percent'\n",
            "There are 10 directories and 0 images is '10_food_classes_10_percent/train'\n",
            "There are 0 directories and 75 images is '10_food_classes_10_percent/train/chicken_curry'\n",
            "There are 0 directories and 75 images is '10_food_classes_10_percent/train/grilled_salmon'\n",
            "There are 0 directories and 75 images is '10_food_classes_10_percent/train/pizza'\n",
            "There are 0 directories and 75 images is '10_food_classes_10_percent/train/ice_cream'\n",
            "There are 0 directories and 75 images is '10_food_classes_10_percent/train/sushi'\n",
            "There are 0 directories and 75 images is '10_food_classes_10_percent/train/fried_rice'\n",
            "There are 0 directories and 75 images is '10_food_classes_10_percent/train/chicken_wings'\n",
            "There are 0 directories and 75 images is '10_food_classes_10_percent/train/steak'\n",
            "There are 0 directories and 75 images is '10_food_classes_10_percent/train/ramen'\n",
            "There are 0 directories and 75 images is '10_food_classes_10_percent/train/hamburger'\n",
            "There are 10 directories and 0 images is '10_food_classes_10_percent/test'\n",
            "There are 0 directories and 250 images is '10_food_classes_10_percent/test/chicken_curry'\n",
            "There are 0 directories and 250 images is '10_food_classes_10_percent/test/grilled_salmon'\n",
            "There are 0 directories and 250 images is '10_food_classes_10_percent/test/pizza'\n",
            "There are 0 directories and 250 images is '10_food_classes_10_percent/test/ice_cream'\n",
            "There are 0 directories and 250 images is '10_food_classes_10_percent/test/sushi'\n",
            "There are 0 directories and 250 images is '10_food_classes_10_percent/test/fried_rice'\n",
            "There are 0 directories and 250 images is '10_food_classes_10_percent/test/chicken_wings'\n",
            "There are 0 directories and 250 images is '10_food_classes_10_percent/test/steak'\n",
            "There are 0 directories and 250 images is '10_food_classes_10_percent/test/ramen'\n",
            "There are 0 directories and 250 images is '10_food_classes_10_percent/test/hamburger'\n"
          ]
        }
      ]
    },
    {
      "cell_type": "code",
      "source": [
        "from tensorflow.keras.preprocessing.image import ImageDataGenerator\n",
        "IMAGE_SHAPE=(224,224)\n",
        "BATCH_SIZE=32\n",
        "train_dir = \"10_food_classes_10_percent/train/\"\n",
        "test_dir = \"10_food_classes_10_percent/test/\"\n",
        "train_datagen=ImageDataGenerator(rescale=1/255.)\n",
        "test_datagen=ImageDataGenerator(rescale=1/255.)\n",
        "train_data_10p=train_datagen.flow_from_directory(train_dir,target_size=IMAGE_SHAPE,batch_size=BATCH_SIZE,class_mode=\"categorical\")\n",
        "test_data=test_datagen.flow_from_directory(test_dir,target_size=IMAGE_SHAPE,batch_size=BATCH_SIZE,class_mode=\"categorical\")"
      ],
      "metadata": {
        "colab": {
          "base_uri": "https://localhost:8080/"
        },
        "id": "6pGKU21ZP4hJ",
        "outputId": "9d037ca6-5b08-4487-fc72-0934414314bd"
      },
      "execution_count": 17,
      "outputs": [
        {
          "output_type": "stream",
          "name": "stdout",
          "text": [
            "Found 750 images belonging to 10 classes.\n",
            "Found 2500 images belonging to 10 classes.\n"
          ]
        }
      ]
    },
    {
      "cell_type": "code",
      "source": [
        "#setting up callbacks \n",
        "import datetime\n",
        "def create_tensorboard_callback(dir_name,experiment_name):\n",
        "  log_dir = dir_name + \"/\" + experiment_name + \"/\" + datetime.datetime.now().strftime(\"%Y%m%d-%H%M%S\")\n",
        "  tensorboard_callback = tf.keras.callbacks.TensorBoard(log_dir=log_dir)\n",
        "  print(f\"Saving TensorBoard log files to: {log_dir}\")\n",
        "  return tensorboard_callback"
      ],
      "metadata": {
        "id": "0m5SVGr4ofvZ"
      },
      "execution_count": 5,
      "outputs": []
    },
    {
      "cell_type": "code",
      "source": [
        "#comparing 2 tensorflow models\n",
        "resnet_url = \"https://tfhub.dev/google/imagenet/resnet_v2_50/feature_vector/4\"\n",
        "\n",
        "efficientnet_url = \"https://tfhub.dev/tensorflow/efficientnet/b0/feature-vector/1\"\n",
        "test= \"https://tfhub.dev/tensorflow/efficientnet/b7/feature-vector/1\""
      ],
      "metadata": {
        "id": "FOdnzZ4qsYrO"
      },
      "execution_count": 33,
      "outputs": []
    },
    {
      "cell_type": "code",
      "source": [
        "import tensorflow as tf\n",
        "import tensorflow_hub as hub\n"
      ],
      "metadata": {
        "id": "w0JFdIkovqky"
      },
      "execution_count": 7,
      "outputs": []
    },
    {
      "cell_type": "code",
      "source": [
        "def create_model(model_url,num_classes=10): # this function takes the tensorflow hub model and turn it to sequential model  and it returns a uncompiled model\n",
        "  feature_extractor_layer=hub.KerasLayer(model_url,trainable=False,input_shape=IMAGE_SHAPE+(3,)) # this is freeze the already learned patterns \n",
        "  model=tf.keras.Sequential([\n",
        "  feature_extractor_layer,\n",
        "  tf.keras.layers.Dense(num_classes,activation=\"softmax\",name=\"output_layer\")                             \n",
        "  ])\n",
        "  return model "
      ],
      "metadata": {
        "id": "4Qg31_LLvxuk"
      },
      "execution_count": 8,
      "outputs": []
    },
    {
      "cell_type": "markdown",
      "source": [
        "#creating and test  Resnet model and "
      ],
      "metadata": {
        "id": "jecEPo0sxOhw"
      }
    },
    {
      "cell_type": "code",
      "source": [
        "#create Resnet model \n",
        "resent_model=create_model(resnet_url,num_classes=train_data_10p.num_classes)#=10\n"
      ],
      "metadata": {
        "id": "qU4SJ9G3xLkB"
      },
      "execution_count": 9,
      "outputs": []
    },
    {
      "cell_type": "code",
      "source": [
        "resent_model.summary()"
      ],
      "metadata": {
        "colab": {
          "base_uri": "https://localhost:8080/"
        },
        "id": "X7jZW3DBx53f",
        "outputId": "c5eecabf-9429-4ac8-97d5-49fb78e45e7c"
      },
      "execution_count": 10,
      "outputs": [
        {
          "output_type": "stream",
          "name": "stdout",
          "text": [
            "Model: \"sequential\"\n",
            "_________________________________________________________________\n",
            " Layer (type)                Output Shape              Param #   \n",
            "=================================================================\n",
            " keras_layer (KerasLayer)    (None, 2048)              23564800  \n",
            "                                                                 \n",
            " output_layer (Dense)        (None, 10)                20490     \n",
            "                                                                 \n",
            "=================================================================\n",
            "Total params: 23,585,290\n",
            "Trainable params: 20,490\n",
            "Non-trainable params: 23,564,800\n",
            "_________________________________________________________________\n"
          ]
        }
      ]
    },
    {
      "cell_type": "code",
      "source": [
        "resent_model.compile(loss=tf.keras.losses.categorical_crossentropy,optimizer=tf.keras.optimizers.Adam(),metrics=[\"accuracy\"])\n"
      ],
      "metadata": {
        "id": "ol8QcK1fyB4U"
      },
      "execution_count": 11,
      "outputs": []
    },
    {
      "cell_type": "code",
      "source": [
        "history1=resent_model.fit(train_data_10p,epochs=5,steps_per_epoch=len(train_data_10p), validation_data=test_data,validation_steps=len(test_data),callbacks=[create_tensorboard_callback(dir_name=\"tensorflwo-hub\", experiment_name=\"resnet50v2\")])"
      ],
      "metadata": {
        "colab": {
          "base_uri": "https://localhost:8080/"
        },
        "id": "EVP0rQ9w8Kpp",
        "outputId": "0ca5f564-4980-4120-af86-d6cd40404f5d"
      },
      "execution_count": 13,
      "outputs": [
        {
          "output_type": "stream",
          "name": "stdout",
          "text": [
            "Saving TensorBoard log files to: tensorflwo-hub/resnet50v2/20220518-082336\n",
            "Epoch 1/5\n",
            "24/24 [==============================] - 17s 697ms/step - loss: 0.8558 - accuracy: 0.7453 - val_loss: 0.8343 - val_accuracy: 0.7308\n",
            "Epoch 2/5\n",
            "24/24 [==============================] - 16s 671ms/step - loss: 0.5997 - accuracy: 0.8200 - val_loss: 0.7404 - val_accuracy: 0.7648\n",
            "Epoch 3/5\n",
            "24/24 [==============================] - 17s 729ms/step - loss: 0.4545 - accuracy: 0.8853 - val_loss: 0.6995 - val_accuracy: 0.7724\n",
            "Epoch 4/5\n",
            "24/24 [==============================] - 20s 841ms/step - loss: 0.3629 - accuracy: 0.9173 - val_loss: 0.6688 - val_accuracy: 0.7828\n",
            "Epoch 5/5\n",
            "24/24 [==============================] - 16s 694ms/step - loss: 0.2988 - accuracy: 0.9480 - val_loss: 0.6595 - val_accuracy: 0.7800\n"
          ]
        }
      ]
    },
    {
      "cell_type": "code",
      "source": [
        "resent_model.evaluate(test_data)"
      ],
      "metadata": {
        "colab": {
          "base_uri": "https://localhost:8080/"
        },
        "id": "NhZUmSOGE-Ef",
        "outputId": "1845f182-0fc5-4cd2-db0f-11ff9769b54b"
      },
      "execution_count": 14,
      "outputs": [
        {
          "output_type": "stream",
          "name": "stdout",
          "text": [
            "79/79 [==============================] - 13s 160ms/step - loss: 0.6595 - accuracy: 0.7800\n"
          ]
        },
        {
          "output_type": "execute_result",
          "data": {
            "text/plain": [
              "[0.6594855189323425, 0.7799999713897705]"
            ]
          },
          "metadata": {},
          "execution_count": 14
        }
      ]
    },
    {
      "cell_type": "code",
      "source": [
        "import matplotlib.pyplot as plt\n",
        "\n",
        "# Plot the validation and training curves\n",
        "def plot_loss_curves(history):\n",
        "  \"\"\"\n",
        "  Returns separate loss curves for training and validation metrics.\n",
        "\n",
        "  Args:\n",
        "    history: TensorFlow History object.\n",
        "\n",
        "  Returns:\n",
        "    Plots of training/validation loss and accuracy metrics.\n",
        "  \"\"\"\n",
        "  loss = history.history[\"loss\"]\n",
        "  val_loss = history.history[\"val_loss\"]\n",
        "\n",
        "  accuracy = history.history[\"accuracy\"]\n",
        "  val_accuracy = history.history[\"val_accuracy\"]\n",
        "\n",
        "  epochs = range(len(history.history[\"loss\"]))\n",
        "\n",
        "  # Plot loss\n",
        "  plt.plot(epochs, loss, label=\"training_loss\")\n",
        "  plt.plot(epochs, val_loss, label=\"val_loss\")\n",
        "  plt.title(\"Loss\")\n",
        "  plt.xlabel(\"Epochs\")\n",
        "  plt.legend()\n",
        "\n",
        "  # Plot accuracy\n",
        "  plt.figure()\n",
        "  plt.plot(epochs, accuracy, label=\"training_accuracy\")\n",
        "  plt.plot(epochs, val_accuracy, label=\"val_accuracy\")\n",
        "  plt.title(\"Accuracy\")\n",
        "  plt.xlabel(\"Epochs\")\n",
        "  plt.legend();"
      ],
      "metadata": {
        "id": "kv33x4C8Q7Y5"
      },
      "execution_count": 30,
      "outputs": []
    },
    {
      "cell_type": "code",
      "source": [
        "plot_loss_curvse(history1)"
      ],
      "metadata": {
        "colab": {
          "base_uri": "https://localhost:8080/",
          "height": 573
        },
        "id": "bgxN_1_YRb74",
        "outputId": "e4f67bf0-2ea9-41ec-a27e-2cdb562bcfa9"
      },
      "execution_count": 16,
      "outputs": [
        {
          "output_type": "display_data",
          "data": {
            "text/plain": [
              "<Figure size 432x288 with 1 Axes>"
            ],
            "image/png": "[encoded data removed]"
          },
          "metadata": {
            "needs_background": "light"
          }
        },
        {
          "output_type": "display_data",
          "data": {
            "text/plain": [
              "<Figure size 432x288 with 1 Axes>"
            ],
            "image/png": "[encoded data removed]"
          },
          "metadata": {
            "needs_background": "light"
          }
        }
      ]
    },
    {
      "cell_type": "markdown",
      "source": [
        "#creating and testing EfficientNet model"
      ],
      "metadata": {
        "id": "0jvDeg9MSFoL"
      }
    },
    {
      "cell_type": "code",
      "source": [
        "efficient_model=create_model(efficientnet_url,10)"
      ],
      "metadata": {
        "id": "y9hTaz7CSKLf"
      },
      "execution_count": 18,
      "outputs": []
    },
    {
      "cell_type": "code",
      "source": [
        "efficient_model.summary()"
      ],
      "metadata": {
        "colab": {
          "base_uri": "https://localhost:8080/"
        },
        "id": "WxDhXtmWSbDE",
        "outputId": "e5ae77f0-77a2-4145-89a6-5ab45f815785"
      },
      "execution_count": 19,
      "outputs": [
        {
          "output_type": "stream",
          "name": "stdout",
          "text": [
            "Model: \"sequential_1\"\n",
            "_________________________________________________________________\n",
            " Layer (type)                Output Shape              Param #   \n",
            "=================================================================\n",
            " keras_layer_1 (KerasLayer)  (None, 1280)              4049564   \n",
            "                                                                 \n",
            " output_layer (Dense)        (None, 10)                12810     \n",
            "                                                                 \n",
            "=================================================================\n",
            "Total params: 4,062,374\n",
            "Trainable params: 12,810\n",
            "Non-trainable params: 4,049,564\n",
            "_________________________________________________________________\n"
          ]
        }
      ]
    },
    {
      "cell_type": "code",
      "source": [
        "efficient_model.compile(loss=tf.keras.losses.categorical_crossentropy,optimizer=tf.keras.optimizers.Adam(),metrics=[\"accuracy\"])"
      ],
      "metadata": {
        "id": "p7hVkWyISx0Q"
      },
      "execution_count": 21,
      "outputs": []
    },
    {
      "cell_type": "code",
      "source": [
        "efficient_model.summary()"
      ],
      "metadata": {
        "colab": {
          "base_uri": "https://localhost:8080/"
        },
        "id": "dMKhc7j0VIIM",
        "outputId": "56692292-2d25-4429-f3dd-7cc32af4749a"
      },
      "execution_count": 32,
      "outputs": [
        {
          "output_type": "stream",
          "name": "stdout",
          "text": [
            "Model: \"sequential_1\"\n",
            "_________________________________________________________________\n",
            " Layer (type)                Output Shape              Param #   \n",
            "=================================================================\n",
            " keras_layer_1 (KerasLayer)  (None, 1280)              4049564   \n",
            "                                                                 \n",
            " output_layer (Dense)        (None, 10)                12810     \n",
            "                                                                 \n",
            "=================================================================\n",
            "Total params: 4,062,374\n",
            "Trainable params: 12,810\n",
            "Non-trainable params: 4,049,564\n",
            "_________________________________________________________________\n"
          ]
        }
      ]
    },
    {
      "cell_type": "code",
      "source": [
        "history2=efficient_model.fit(train_data_10p,epochs=5,steps_per_epoch=len(train_data_10p),validation_data=test_data,validation_steps=len(test_data)\n",
        ",callbacks=[create_tensorboard_callback(dir_name=\"tensorflwo-hub\", experiment_name=\"resnet50v2\")])"
      ],
      "metadata": {
        "colab": {
          "base_uri": "https://localhost:8080/"
        },
        "id": "wCne0Z8rSfNE",
        "outputId": "cf72f0ce-d77e-418c-e6a8-610b83a20adf"
      },
      "execution_count": 26,
      "outputs": [
        {
          "output_type": "stream",
          "name": "stdout",
          "text": [
            "Saving TensorBoard log files to: tensorflwo-hub/resnet50v2/20220518-083529\n",
            "Epoch 1/5\n",
            "24/24 [==============================] - 16s 636ms/step - loss: 0.4447 - accuracy: 0.9147 - val_loss: 0.5213 - val_accuracy: 0.8640\n",
            "Epoch 2/5\n",
            "24/24 [==============================] - 16s 680ms/step - loss: 0.3929 - accuracy: 0.9240 - val_loss: 0.4936 - val_accuracy: 0.8692\n",
            "Epoch 3/5\n",
            "24/24 [==============================] - 15s 632ms/step - loss: 0.3495 - accuracy: 0.9347 - val_loss: 0.4741 - val_accuracy: 0.8684\n",
            "Epoch 4/5\n",
            "24/24 [==============================] - 15s 633ms/step - loss: 0.3139 - accuracy: 0.9440 - val_loss: 0.4570 - val_accuracy: 0.8732\n",
            "Epoch 5/5\n",
            "24/24 [==============================] - 15s 658ms/step - loss: 0.2852 - accuracy: 0.9520 - val_loss: 0.4470 - val_accuracy: 0.8724\n"
          ]
        }
      ]
    },
    {
      "cell_type": "code",
      "source": [
        "efficient_model.evaluate(test_data)"
      ],
      "metadata": {
        "colab": {
          "base_uri": "https://localhost:8080/"
        },
        "id": "IN5-X7W8TTZr",
        "outputId": "48d676a0-da75-4267-b298-d8c3537a5692"
      },
      "execution_count": 27,
      "outputs": [
        {
          "output_type": "stream",
          "name": "stdout",
          "text": [
            "79/79 [==============================] - 12s 145ms/step - loss: 0.4470 - accuracy: 0.8724\n"
          ]
        },
        {
          "output_type": "execute_result",
          "data": {
            "text/plain": [
              "[0.44696763157844543, 0.8723999857902527]"
            ]
          },
          "metadata": {},
          "execution_count": 27
        }
      ]
    },
    {
      "cell_type": "code",
      "source": [
        "plot_loss_curves(history2)"
      ],
      "metadata": {
        "colab": {
          "base_uri": "https://localhost:8080/",
          "height": 573
        },
        "id": "n1HNWD0NTaeG",
        "outputId": "ae049f78-49d1-4ed9-c03c-876949a9d0be"
      },
      "execution_count": 39,
      "outputs": [
        {
          "output_type": "display_data",
          "data": {
            "text/plain": [
              "<Figure size 432x288 with 1 Axes>"
            ],
            "image/png": "[encoded data removed]"
          },
          "metadata": {
            "needs_background": "light"
          }
        },
        {
          "output_type": "display_data",
          "data": {
            "text/plain": [
              "<Figure size 432x288 with 1 Axes>"
            ],
            "image/png": "[encoded data removed]"
          },
          "metadata": {
            "needs_background": "light"
          }
        }
      ]
    },
    {
      "cell_type": "markdown",
      "source": [
        "#comparing 2 models "
      ],
      "metadata": {
        "id": "j_qt4RHKZT9D"
      }
    },
    {
      "cell_type": "code",
      "source": [
        ""
      ],
      "metadata": {
        "id": "mrPXZZ1IZTki"
      },
      "execution_count": null,
      "outputs": []
    }
  ]
}